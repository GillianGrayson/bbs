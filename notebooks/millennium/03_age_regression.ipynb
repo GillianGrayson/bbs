{
 "cells": [
  {
   "cell_type": "markdown",
   "metadata": {
    "collapsed": false
   },
   "source": [
    "# Debugging autoreload"
   ]
  },
  {
   "cell_type": "code",
   "execution_count": null,
   "metadata": {
    "collapsed": false
   },
   "outputs": [],
   "source": [
    "%load_ext autoreload\n",
    "%autoreload 2"
   ]
  },
  {
   "cell_type": "markdown",
   "metadata": {
    "collapsed": false
   },
   "source": [
    "# Load packages"
   ]
  },
  {
   "cell_type": "code",
   "execution_count": null,
   "metadata": {
    "ExecuteTime": {
     "end_time": "2024-07-01T14:29:22.801727Z",
     "start_time": "2024-07-01T14:29:18.695223Z"
    },
    "collapsed": false
   },
   "outputs": [],
   "source": [
    "from pytorch_tabular.utils import load_covertype_dataset\n",
    "from rich.pretty import pprint\n",
    "from sklearn.model_selection import BaseCrossValidator, ParameterGrid, ParameterSampler\n",
    "import torch\n",
    "import pickle\n",
    "import shutil\n",
    "import shap\n",
    "from sklearn.model_selection import RepeatedStratifiedKFold\n",
    "from glob import glob\n",
    "import ast\n",
    "import matplotlib.pyplot as plt\n",
    "import seaborn as sns\n",
    "import copy\n",
    "from sklearn.model_selection import train_test_split\n",
    "import numpy as np\n",
    "from pytorch_tabular.utils import make_mixed_dataset, print_metrics\n",
    "from pytorch_tabular import available_models\n",
    "from pytorch_tabular import TabularModel\n",
    "from pytorch_tabular.models import CategoryEmbeddingModelConfig, GANDALFConfig, TabNetModelConfig, FTTransformerConfig, DANetConfig\n",
    "from pytorch_tabular.config import DataConfig, OptimizerConfig, TrainerConfig\n",
    "from pytorch_tabular.models.common.heads import LinearHeadConfig\n",
    "from pytorch_tabular.tabular_model_tuner import TabularModelTuner\n",
    "from torchmetrics.functional.regression import mean_absolute_error, pearson_corrcoef\n",
    "from pytorch_tabular import MODEL_SWEEP_PRESETS\n",
    "import pandas as pd\n",
    "from pytorch_tabular import model_sweep\n",
    "from src.pt.model_sweep import model_sweep_custom\n",
    "import warnings\n",
    "from src.utils.configs import read_parse_config\n",
    "from src.utils.hash import dict_hash\n",
    "from src.pt.hyper_opt import train_hyper_opt\n",
    "from src.sa.hyper_opt import train_hyper_opt_sa_regression\n",
    "import pathlib\n",
    "from tqdm import tqdm\n",
    "import distinctipy\n",
    "import matplotlib.patheffects as pe\n",
    "import matplotlib.colors as mcolors\n",
    "from statannotations.Annotator import Annotator\n",
    "from scipy.stats import mannwhitneyu\n",
    "from scipy import stats\n",
    "from regression_bias_corrector import LinearBiasCorrector\n",
    "import optuna\n",
    "from sklearn.preprocessing import LabelEncoder\n",
    "from plottable import ColumnDefinition, Table\n",
    "from plottable.plots import bar\n",
    "from plottable.cmap import normed_cmap, centered_cmap\n",
    "import matplotlib.lines as mlines\n",
    "import plotly.graph_objects as go\n",
    "from plotly.subplots import make_subplots\n",
    "import scipy.stats\n",
    "from omegaconf import OmegaConf\n",
    "import lightgbm\n",
    "\n",
    "\n",
    "def make_rgb_transparent(rgb, bg_rgb, alpha):\n",
    "    return [alpha * c1 + (1 - alpha) * c2 for (c1, c2) in zip(rgb, bg_rgb)]"
   ]
  },
  {
   "cell_type": "markdown",
   "metadata": {
    "collapsed": false
   },
   "source": [
    "# Load data"
   ]
  },
  {
   "cell_type": "code",
   "execution_count": null,
   "metadata": {},
   "outputs": [],
   "source": [
    "feats_set = 'small/Гематологические исследования/F'\n",
    "\n",
    "path = f\"E:/YandexDisk/Work/bbd/millennium/models/{feats_set}\"\n",
    "path_ckpts = f\"E:/Git/bbs/notebooks/millennium/pt/{feats_set}\"\n",
    "path_configs = \"E:/Git/bbs/notebooks/millennium/configs\"\n",
    "\n",
    "tst_n_splits = 5\n",
    "tst_n_repeats = 5\n",
    "tst_random_state = 1337\n",
    "tst_split_id = 0\n",
    "\n",
    "val_n_splits = 4\n",
    "val_n_repeats = 4\n",
    "val_random_state = 1337\n",
    "val_fold_id = 9\n",
    "\n",
    "data = pd.read_excel(f\"{path}/data.xlsx\", index_col=0)\n",
    "df_feats = pd.read_excel(f\"{path}/feats.xlsx\", index_col=0)\n",
    "\n",
    "feat_trgt = 'Возраст'\n",
    "feats_cnt = df_feats.index.to_list()\n",
    "feats_cat = []\n",
    "feats = list(feats_cnt) + list(feats_cat)"
   ]
  },
  {
   "cell_type": "markdown",
   "metadata": {},
   "source": [
    "# Load stratification"
   ]
  },
  {
   "cell_type": "code",
   "execution_count": null,
   "metadata": {},
   "outputs": [],
   "source": [
    "with open(f\"{path}/samples_tst({tst_random_state}_{tst_n_splits}_{tst_n_repeats})_val({val_random_state}_{val_n_splits}_{val_n_repeats}).pickle\", 'rb') as handle:\n",
    "    samples = pickle.load(handle)"
   ]
  },
  {
   "cell_type": "markdown",
   "metadata": {},
   "source": [
    "# Train, Validation, Test selection"
   ]
  },
  {
   "cell_type": "code",
   "execution_count": null,
   "metadata": {},
   "outputs": [],
   "source": [
    "split_dict = samples[tst_split_id]\n",
    "\n",
    "test = data.loc[split_dict['test'], feats + [feat_trgt]]\n",
    "train = data.loc[split_dict['trains'][val_fold_id], feats + [feat_trgt]]\n",
    "validation = data.loc[split_dict['validations'][val_fold_id], feats + [feat_trgt]]"
   ]
  },
  {
   "cell_type": "markdown",
   "metadata": {},
   "source": [
    "# Optuna PyTorch Tabular"
   ]
  },
  {
   "cell_type": "markdown",
   "metadata": {},
   "source": [
    "## Models setup"
   ]
  },
  {
   "cell_type": "code",
   "execution_count": null,
   "metadata": {},
   "outputs": [],
   "source": [
    "seed_target = 451  # 1337 42 451 1984 1899 1408\n",
    "\n",
    "models_runs = {\n",
    "    # 'GANDALF': {\n",
    "    #     'config': GANDALFConfig,\n",
    "    #     'n_trials': 512,\n",
    "    #     'seed': seed_target,\n",
    "    #     'n_startup_trials': 128,\n",
    "    #     'n_ei_candidates': 16\n",
    "    # },\n",
    "    # 'FTTransformer': {\n",
    "    #     'config': FTTransformerConfig,\n",
    "    #     'n_trials': 512,\n",
    "    #     'seed': seed_target,\n",
    "    #     'n_startup_trials': 128,\n",
    "    #     'n_ei_candidates': 16\n",
    "    # },\n",
    "    'DANet': {\n",
    "        'config': DANetConfig,\n",
    "        'n_trials': 512,\n",
    "        'seed': seed_target,\n",
    "        'n_startup_trials': 256,\n",
    "        'n_ei_candidates': 32\n",
    "    },\n",
    "    # 'CategoryEmbeddingModel': {\n",
    "    #     'config': CategoryEmbeddingModelConfig,\n",
    "    #     'n_trials': 256,\n",
    "    #     'seed': seed_target,\n",
    "    #     'n_startup_trials': 64,\n",
    "    #     'n_ei_candidates': 16\n",
    "    # },\n",
    "    # 'TabNetModel': {\n",
    "    #     'config': TabNetModelConfig,\n",
    "    #     'n_trials': 256,\n",
    "    #     'seed': seed_target,\n",
    "    #     'n_startup_trials': 64,\n",
    "    #     'n_ei_candidates': 16\n",
    "    # }\n",
    "}"
   ]
  },
  {
   "cell_type": "markdown",
   "metadata": {},
   "source": [
    "## Training"
   ]
  },
  {
   "cell_type": "code",
   "execution_count": null,
   "metadata": {},
   "outputs": [],
   "source": [
    "dfs_models = []\n",
    "\n",
    "for model_name, model_run in models_runs.items():\n",
    "\n",
    "    model_config_name = model_run['config']\n",
    "    n_trials = model_run['n_trials']\n",
    "    seed = model_run['seed']\n",
    "    n_startup_trials = model_run['n_startup_trials']\n",
    "    n_ei_candidates = model_run['n_ei_candidates']\n",
    "\n",
    "    data_config = read_parse_config(f\"{path_configs}/DataConfig.yaml\", DataConfig)\n",
    "    data_config['target'] = [feat_trgt]\n",
    "    data_config['continuous_cols'] = [str(x) for x in feats_cnt]\n",
    "    data_config['categorical_cols'] = feats_cat\n",
    "    trainer_config = read_parse_config(f\"{path_configs}/TrainerConfig.yaml\", TrainerConfig)\n",
    "    trainer_config['checkpoints_path'] = path_ckpts\n",
    "    optimizer_config = read_parse_config(f\"{path_configs}/OptimizerConfig.yaml\", OptimizerConfig)\n",
    "\n",
    "    lr_find_min_lr = 1e-8\n",
    "    lr_find_max_lr = 10\n",
    "    lr_find_num_training = 128\n",
    "    lr_find_mode = \"exponential\"\n",
    "    lr_find_early_stop_threshold = 8.0\n",
    "\n",
    "    trainer_config['seed'] = seed\n",
    "    trainer_config['checkpoints'] = 'valid_loss'\n",
    "    trainer_config['load_best'] = True\n",
    "    trainer_config['auto_lr_find'] = False\n",
    "\n",
    "    model_config_default = read_parse_config(f\"{path_configs}/models/{model_name}Config.yaml\", model_config_name)\n",
    "    tabular_model_default = TabularModel(\n",
    "        data_config=data_config,\n",
    "        model_config=model_config_default,\n",
    "        optimizer_config=optimizer_config,\n",
    "        trainer_config=trainer_config,\n",
    "        verbose=False,\n",
    "    )\n",
    "    datamodule = tabular_model_default.prepare_dataloader(train=train, validation=validation, seed=seed)\n",
    "\n",
    "    opt_parts = ['test', 'validation']\n",
    "    opt_metrics = [('pearson_corrcoef', 'maximize')]\n",
    "    # opt_metrics = [('mean_absolute_error', 'minimize'), ('pearson_corrcoef', 'maximize')]\n",
    "    # opt_metrics = [('pearson_corrcoef', 'maximize')]\n",
    "    # opt_metrics = [('mean_absolute_error', 'minimize')]\n",
    "    opt_directions = []\n",
    "    for part in opt_parts:\n",
    "        for metric_pair in opt_metrics:\n",
    "            opt_directions.append(f\"{metric_pair[1]}\")\n",
    "\n",
    "    trials_results = []\n",
    "\n",
    "    study = optuna.create_study(\n",
    "        study_name=model_name,\n",
    "        sampler=optuna.samplers.TPESampler(\n",
    "            n_startup_trials=n_startup_trials,\n",
    "            n_ei_candidates=n_ei_candidates,\n",
    "            seed=seed,\n",
    "        ),\n",
    "        directions=opt_directions\n",
    "    )\n",
    "    study.optimize(\n",
    "        func=lambda trial: train_hyper_opt(\n",
    "            trial=trial,\n",
    "            trials_results=trials_results,\n",
    "            opt_metrics=opt_metrics,\n",
    "            opt_parts=opt_parts,\n",
    "            model_config_default=model_config_default,\n",
    "            data_config_default=data_config,\n",
    "            optimizer_config_default=optimizer_config,\n",
    "            trainer_config_default=trainer_config,\n",
    "            experiment_config_default=None,\n",
    "            train=train,\n",
    "            validation=validation,\n",
    "            test=test,\n",
    "            datamodule=datamodule,\n",
    "            min_lr=lr_find_min_lr,\n",
    "            max_lr=lr_find_max_lr,\n",
    "            num_training=lr_find_num_training,\n",
    "            mode=lr_find_mode,\n",
    "            early_stop_threshold=lr_find_early_stop_threshold\n",
    "        ),\n",
    "        n_trials=n_trials,\n",
    "        show_progress_bar=True\n",
    "    )\n",
    "\n",
    "    fn_trials = (\n",
    "        f\"model({model_name})_\"\n",
    "        f\"trials({n_trials}_{seed}_{n_startup_trials}_{n_ei_candidates})_\"\n",
    "        f\"tst({tst_split_id})_\"\n",
    "        f\"val({val_fold_id})\"\n",
    "    )\n",
    "\n",
    "    df_trials = pd.DataFrame(trials_results)\n",
    "    df_trials['split_id'] = tst_split_id\n",
    "    df_trials['fold_id'] = val_fold_id\n",
    "    df_trials[\"train_more\"] = False\n",
    "    df_trials.loc[(df_trials[\"train_loss\"] > df_trials[\"test_loss\"]) | (\n",
    "            df_trials[\"train_loss\"] > df_trials[\"validation_loss\"]), \"train_more\"] = True\n",
    "    df_trials[\"validation_test_mean_loss\"] = (df_trials[\"validation_loss\"] + df_trials[\"test_loss\"]) / 2.0\n",
    "    df_trials[\"train_validation_test_mean_loss\"] = (df_trials[\"train_loss\"] + df_trials[\"validation_loss\"] + df_trials[\"test_loss\"]) / 3.0\n",
    "    df_trials.style.background_gradient(cmap=\"RdYlGn_r\").to_excel(f\"{trainer_config['checkpoints_path']}/{fn_trials}.xlsx\")\n",
    "\n",
    "    dfs_models.append(df_trials)\n",
    "\n",
    "df_models = pd.concat(dfs_models, ignore_index=True)\n",
    "df_models.insert(0, 'Selected', 0)\n",
    "fn = (\n",
    "    f\"models_\"\n",
    "    f\"tst({tst_split_id})_\"\n",
    "    f\"val({val_fold_id})\"\n",
    ")\n",
    "df_models.style.background_gradient(cmap=\"RdYlGn_r\").to_excel(f\"{trainer_config['checkpoints_path']}/{fn}.xlsx\")\n"
   ]
  },
  {
   "cell_type": "markdown",
   "metadata": {},
   "source": [
    "## Best models analysis"
   ]
  },
  {
   "cell_type": "code",
   "execution_count": null,
   "metadata": {},
   "outputs": [
    {
     "data": {
      "text/html": [
       "<pre style=\"white-space:pre;overflow-x:auto;line-height:normal;font-family:Menlo,'DejaVu Sans Mono',consolas,'Courier New',monospace\"><span style=\"color: #008080; text-decoration-color: #008080; font-weight: bold\">2025</span>-<span style=\"color: #008080; text-decoration-color: #008080; font-weight: bold\">10</span>-<span style=\"color: #008080; text-decoration-color: #008080; font-weight: bold\">22</span> <span style=\"color: #00ff00; text-decoration-color: #00ff00; font-weight: bold\">14:08:42</span>,<span style=\"color: #008080; text-decoration-color: #008080; font-weight: bold\">303</span> - <span style=\"font-weight: bold\">{</span>pytorch_tabular.tabular_model:<span style=\"color: #008080; text-decoration-color: #008080; font-weight: bold\">171</span><span style=\"font-weight: bold\">}</span> - INFO - Experiment Tracking is turned off           \n",
       "</pre>\n"
      ],
      "text/plain": [
       "\u001b[1;36m2025\u001b[0m-\u001b[1;36m10\u001b[0m-\u001b[1;36m22\u001b[0m \u001b[1;92m14:08:42\u001b[0m,\u001b[1;36m303\u001b[0m - \u001b[1m{\u001b[0mpytorch_tabular.tabular_model:\u001b[1;36m171\u001b[0m\u001b[1m}\u001b[0m - INFO - Experiment Tracking is turned off           \n"
      ]
     },
     "metadata": {},
     "output_type": "display_data"
    },
    {
     "data": {
      "text/html": [
       "<pre style=\"white-space:pre;overflow-x:auto;line-height:normal;font-family:Menlo,'DejaVu Sans Mono',consolas,'Courier New',monospace\"><span style=\"color: #008080; text-decoration-color: #008080; font-weight: bold\">2025</span>-<span style=\"color: #008080; text-decoration-color: #008080; font-weight: bold\">10</span>-<span style=\"color: #008080; text-decoration-color: #008080; font-weight: bold\">22</span> <span style=\"color: #00ff00; text-decoration-color: #00ff00; font-weight: bold\">14:08:42</span>,<span style=\"color: #008080; text-decoration-color: #008080; font-weight: bold\">315</span> - <span style=\"font-weight: bold\">{</span>pytorch_tabular.tabular_model:<span style=\"color: #008080; text-decoration-color: #008080; font-weight: bold\">342</span><span style=\"font-weight: bold\">}</span> - INFO - Preparing the Trainer                       \n",
       "</pre>\n"
      ],
      "text/plain": [
       "\u001b[1;36m2025\u001b[0m-\u001b[1;36m10\u001b[0m-\u001b[1;36m22\u001b[0m \u001b[1;92m14:08:42\u001b[0m,\u001b[1;36m315\u001b[0m - \u001b[1m{\u001b[0mpytorch_tabular.tabular_model:\u001b[1;36m342\u001b[0m\u001b[1m}\u001b[0m - INFO - Preparing the Trainer                       \n"
      ]
     },
     "metadata": {},
     "output_type": "display_data"
    },
    {
     "name": "stderr",
     "output_type": "stream",
     "text": [
      "c:\\Users\\user\\anaconda3\\envs\\py312\\Lib\\site-packages\\pytorch_tabular\\tabular_datamodule.py:378: FutureWarning: Setting an item of incompatible dtype is deprecated and will raise in a future error of pandas. Value '[18.80095684 18.9402699  16.48399137 ... 18.66054934 18.30457686\n",
      " 18.87074865]' has dtype incompatible with int64, please explicitly cast to a compatible dtype first.\n",
      "  data.loc[:, self.config.continuous_cols] = self.continuous_transform.transform(\n"
     ]
    },
    {
     "name": "stdout",
     "output_type": "stream",
     "text": [
      "Background count: 10\n",
      "Background min diff: -1.8556938171386719\n",
      "Background max diff: 1.9975776672363281\n"
     ]
    },
    {
     "data": {
      "application/vnd.jupyter.widget-view+json": {
       "model_id": "5d003015af4949c89b88dce83e154589",
       "version_major": 2,
       "version_minor": 0
      },
      "text/plain": [
       "  0%|          | 0/1 [00:00<?, ?it/s]"
      ]
     },
     "metadata": {},
     "output_type": "display_data"
    },
    {
     "name": "stdout",
     "output_type": "stream",
     "text": [
      "SHAP values difference: 6.919563109164528e-07\n",
      "SHAP values correction 2\n",
      "Background count: 10\n",
      "Background min diff: -1.7552413940429688\n",
      "Background max diff: 1.7956314086914062\n"
     ]
    },
    {
     "data": {
      "application/vnd.jupyter.widget-view+json": {
       "model_id": "42aadcd898224954b13c4a32b52ed9c0",
       "version_major": 2,
       "version_minor": 0
      },
      "text/plain": [
       "  0%|          | 0/1 [00:00<?, ?it/s]"
      ]
     },
     "metadata": {},
     "output_type": "display_data"
    },
    {
     "name": "stdout",
     "output_type": "stream",
     "text": [
      "SHAP values difference: 2.467465201050345e-07\n",
      "SHAP values correction 2\n",
      "Background count: 10\n",
      "Background min diff: -15.775802612304688\n",
      "Background max diff: 2.4177398681640625\n"
     ]
    },
    {
     "data": {
      "application/vnd.jupyter.widget-view+json": {
       "model_id": "ebcdf753556942b0bc9962d2d7e8625b",
       "version_major": 2,
       "version_minor": 0
      },
      "text/plain": [
       "  0%|          | 0/1 [00:00<?, ?it/s]"
      ]
     },
     "metadata": {},
     "output_type": "display_data"
    },
    {
     "name": "stdout",
     "output_type": "stream",
     "text": [
      "SHAP values difference: -5.405302871963613e-07\n",
      "Background count: 10\n",
      "Background min diff: -1.2652854919433594\n",
      "Background max diff: 1.1641273498535156\n"
     ]
    },
    {
     "data": {
      "application/vnd.jupyter.widget-view+json": {
       "model_id": "5d74001095524ee4af9b0f04a69f3e5f",
       "version_major": 2,
       "version_minor": 0
      },
      "text/plain": [
       "  0%|          | 0/1 [00:00<?, ?it/s]"
      ]
     },
     "metadata": {},
     "output_type": "display_data"
    },
    {
     "name": "stdout",
     "output_type": "stream",
     "text": [
      "SHAP values difference: 3.06174857911401e-07\n",
      "Background count: 10\n",
      "Background min diff: -1.325897216796875\n",
      "Background max diff: 1.23260498046875\n"
     ]
    },
    {
     "data": {
      "application/vnd.jupyter.widget-view+json": {
       "model_id": "70427294ac3a40eb9f625e26c7f54266",
       "version_major": 2,
       "version_minor": 0
      },
      "text/plain": [
       "  0%|          | 0/1 [00:00<?, ?it/s]"
      ]
     },
     "metadata": {},
     "output_type": "display_data"
    },
    {
     "name": "stdout",
     "output_type": "stream",
     "text": [
      "SHAP values difference: 2.784038244385556e-07\n",
      "Background count: 10\n",
      "Background min diff: -1.7037200927734375\n",
      "Background max diff: 1.9496612548828125\n"
     ]
    },
    {
     "data": {
      "application/vnd.jupyter.widget-view+json": {
       "model_id": "902a5f43a7d64489b9ea3d5787be6680",
       "version_major": 2,
       "version_minor": 0
      },
      "text/plain": [
       "  0%|          | 0/1 [00:00<?, ?it/s]"
      ]
     },
     "metadata": {},
     "output_type": "display_data"
    },
    {
     "name": "stdout",
     "output_type": "stream",
     "text": [
      "SHAP values difference: -4.658518406586154e-07\n",
      "Background count: 10\n",
      "Background min diff: -2.3036651611328125\n",
      "Background max diff: 2.0798492431640625\n"
     ]
    },
    {
     "data": {
      "application/vnd.jupyter.widget-view+json": {
       "model_id": "1d558ef93e644b9ca700053dda699c93",
       "version_major": 2,
       "version_minor": 0
      },
      "text/plain": [
       "  0%|          | 0/1 [00:00<?, ?it/s]"
      ]
     },
     "metadata": {},
     "output_type": "display_data"
    },
    {
     "name": "stdout",
     "output_type": "stream",
     "text": [
      "SHAP values difference: 3.407736741678491e-07\n",
      "Background count: 10\n",
      "Background min diff: -5.952949523925781\n",
      "Background max diff: 3.8847274780273438\n"
     ]
    },
    {
     "data": {
      "application/vnd.jupyter.widget-view+json": {
       "model_id": "8246383f5d0d4d4bbe4d7b2967b12e51",
       "version_major": 2,
       "version_minor": 0
      },
      "text/plain": [
       "  0%|          | 0/1 [00:00<?, ?it/s]"
      ]
     },
     "metadata": {},
     "output_type": "display_data"
    },
    {
     "name": "stdout",
     "output_type": "stream",
     "text": [
      "SHAP values difference: 1.7301279520154367e-07\n",
      "SHAP values correction 2\n",
      "Background count: 10\n",
      "Background min diff: -2.221708297729492\n",
      "Background max diff: 2.034852981567383\n"
     ]
    },
    {
     "data": {
      "application/vnd.jupyter.widget-view+json": {
       "model_id": "a46fee12b87242c1b8ed8bb47a2b0944",
       "version_major": 2,
       "version_minor": 0
      },
      "text/plain": [
       "  0%|          | 0/1 [00:00<?, ?it/s]"
      ]
     },
     "metadata": {},
     "output_type": "display_data"
    },
    {
     "name": "stdout",
     "output_type": "stream",
     "text": [
      "SHAP values difference: -2.4959454947293125e-07\n",
      "Background count: 10\n",
      "Background min diff: -0.8509521484375\n",
      "Background max diff: 0.92401123046875\n"
     ]
    },
    {
     "data": {
      "application/vnd.jupyter.widget-view+json": {
       "model_id": "8889939a709549deb4ab2d07de59458f",
       "version_major": 2,
       "version_minor": 0
      },
      "text/plain": [
       "  0%|          | 0/1 [00:00<?, ?it/s]"
      ]
     },
     "metadata": {},
     "output_type": "display_data"
    },
    {
     "name": "stdout",
     "output_type": "stream",
     "text": [
      "SHAP values difference: 1.0367745950645713e-07\n",
      "SHAP values correction 2\n",
      "Background count: 10\n",
      "Background min diff: -2.3670120239257812\n",
      "Background max diff: 2.4457015991210938\n"
     ]
    },
    {
     "data": {
      "application/vnd.jupyter.widget-view+json": {
       "model_id": "cb134bb101054c0f8d23830ff8ef1deb",
       "version_major": 2,
       "version_minor": 0
      },
      "text/plain": [
       "  0%|          | 0/1 [00:00<?, ?it/s]"
      ]
     },
     "metadata": {},
     "output_type": "display_data"
    },
    {
     "name": "stdout",
     "output_type": "stream",
     "text": [
      "SHAP values difference: -4.526877006583163e-07\n",
      "Background count: 10\n",
      "Background min diff: -1.5652999877929688\n",
      "Background max diff: 1.3229446411132812\n"
     ]
    },
    {
     "data": {
      "application/vnd.jupyter.widget-view+json": {
       "model_id": "875a19ed1001414e99d26dae6620b30b",
       "version_major": 2,
       "version_minor": 0
      },
      "text/plain": [
       "  0%|          | 0/1 [00:00<?, ?it/s]"
      ]
     },
     "metadata": {},
     "output_type": "display_data"
    },
    {
     "name": "stdout",
     "output_type": "stream",
     "text": [
      "SHAP values difference: 1.74498673288781e-07\n",
      "Background count: 10\n",
      "Background min diff: -1.3856620788574219\n",
      "Background max diff: 1.3564643859863281\n"
     ]
    },
    {
     "data": {
      "application/vnd.jupyter.widget-view+json": {
       "model_id": "ae611d3f25ca41088145dd2f8f506e8d",
       "version_major": 2,
       "version_minor": 0
      },
      "text/plain": [
       "  0%|          | 0/1 [00:00<?, ?it/s]"
      ]
     },
     "metadata": {},
     "output_type": "display_data"
    },
    {
     "name": "stdout",
     "output_type": "stream",
     "text": [
      "SHAP values difference: -4.1858790922333355e-07\n",
      "SHAP values correction 2\n",
      "Background count: 10\n",
      "Background min diff: -2.1667709350585938\n",
      "Background max diff: 2.2167434692382812\n"
     ]
    },
    {
     "data": {
      "application/vnd.jupyter.widget-view+json": {
       "model_id": "56554d908b9247ed8e7713fff4224efc",
       "version_major": 2,
       "version_minor": 0
      },
      "text/plain": [
       "  0%|          | 0/1 [00:00<?, ?it/s]"
      ]
     },
     "metadata": {},
     "output_type": "display_data"
    },
    {
     "name": "stdout",
     "output_type": "stream",
     "text": [
      "SHAP values difference: -2.9698509607101187e-07\n",
      "Background count: 10\n",
      "Background min diff: -2.27423095703125\n",
      "Background max diff: 2.354339599609375\n"
     ]
    },
    {
     "data": {
      "application/vnd.jupyter.widget-view+json": {
       "model_id": "b97c4b201d664f5e942e407e95a924ef",
       "version_major": 2,
       "version_minor": 0
      },
      "text/plain": [
       "  0%|          | 0/1 [00:00<?, ?it/s]"
      ]
     },
     "metadata": {},
     "output_type": "display_data"
    },
    {
     "name": "stdout",
     "output_type": "stream",
     "text": [
      "SHAP values difference: 1.031359389003228e-07\n",
      "Background count: 10\n",
      "Background min diff: -1.3060722351074219\n",
      "Background max diff: 1.8381538391113281\n"
     ]
    },
    {
     "data": {
      "application/vnd.jupyter.widget-view+json": {
       "model_id": "a6e0ec6694f1490f80c4342ac33f3abb",
       "version_major": 2,
       "version_minor": 0
      },
      "text/plain": [
       "  0%|          | 0/1 [00:00<?, ?it/s]"
      ]
     },
     "metadata": {},
     "output_type": "display_data"
    },
    {
     "name": "stdout",
     "output_type": "stream",
     "text": [
      "SHAP values difference: 2.1588353149581962e-07\n",
      "Background count: 10\n",
      "Background min diff: -1.5306262969970703\n",
      "Background max diff: 2.1729564666748047\n"
     ]
    },
    {
     "data": {
      "application/vnd.jupyter.widget-view+json": {
       "model_id": "86770f357b824c2aac2ddc2fa4ce92bf",
       "version_major": 2,
       "version_minor": 0
      },
      "text/plain": [
       "  0%|          | 0/1 [00:00<?, ?it/s]"
      ]
     },
     "metadata": {},
     "output_type": "display_data"
    },
    {
     "name": "stdout",
     "output_type": "stream",
     "text": [
      "SHAP values difference: 1.1006143232350496e-06\n",
      "Background count: 10\n",
      "Background min diff: -1.9373207092285156\n",
      "Background max diff: 1.9691734313964844\n"
     ]
    },
    {
     "data": {
      "application/vnd.jupyter.widget-view+json": {
       "model_id": "d6f8a7e660c34ce08b1976f0b895e0b7",
       "version_major": 2,
       "version_minor": 0
      },
      "text/plain": [
       "  0%|          | 0/1 [00:00<?, ?it/s]"
      ]
     },
     "metadata": {},
     "output_type": "display_data"
    },
    {
     "name": "stdout",
     "output_type": "stream",
     "text": [
      "SHAP values difference: -2.6141775677501755e-07\n",
      "SHAP values correction 2\n",
      "Background count: 10\n",
      "Background min diff: -20.86547088623047\n",
      "Background max diff: -2.6719284057617188\n"
     ]
    },
    {
     "data": {
      "application/vnd.jupyter.widget-view+json": {
       "model_id": "fde4dd51c68d4a89821b45ea49a7a5a7",
       "version_major": 2,
       "version_minor": 0
      },
      "text/plain": [
       "  0%|          | 0/1 [00:00<?, ?it/s]"
      ]
     },
     "metadata": {},
     "output_type": "display_data"
    },
    {
     "name": "stdout",
     "output_type": "stream",
     "text": [
      "SHAP values difference: -7.685156973025187e-07\n",
      "Background count: 10\n",
      "Background min diff: -2.470367431640625\n",
      "Background max diff: 2.7606201171875\n"
     ]
    },
    {
     "data": {
      "application/vnd.jupyter.widget-view+json": {
       "model_id": "198ad2e9e5034758b8336ea180d86c00",
       "version_major": 2,
       "version_minor": 0
      },
      "text/plain": [
       "  0%|          | 0/1 [00:00<?, ?it/s]"
      ]
     },
     "metadata": {},
     "output_type": "display_data"
    },
    {
     "name": "stdout",
     "output_type": "stream",
     "text": [
      "SHAP values difference: 1.2227305832279711e-06\n",
      "SHAP values correction 1\n",
      "SHAP values correction 2\n",
      "Background count: 10\n",
      "Background min diff: -1.7202339172363281\n",
      "Background max diff: 1.8537101745605469\n"
     ]
    },
    {
     "data": {
      "application/vnd.jupyter.widget-view+json": {
       "model_id": "60bb7b53c52f4cd98de8332e96a7d97d",
       "version_major": 2,
       "version_minor": 0
      },
      "text/plain": [
       "  0%|          | 0/1 [00:00<?, ?it/s]"
      ]
     },
     "metadata": {},
     "output_type": "display_data"
    },
    {
     "name": "stdout",
     "output_type": "stream",
     "text": [
      "SHAP values difference: -1.794462285431564e-07\n",
      "SHAP values correction 2\n",
      "Background count: 10\n",
      "Background min diff: -2.852039337158203\n",
      "Background max diff: 3.251873016357422\n"
     ]
    },
    {
     "data": {
      "application/vnd.jupyter.widget-view+json": {
       "model_id": "1d94c4ff97664bc188b3da59c649f27f",
       "version_major": 2,
       "version_minor": 0
      },
      "text/plain": [
       "  0%|          | 0/1 [00:00<?, ?it/s]"
      ]
     },
     "metadata": {},
     "output_type": "display_data"
    },
    {
     "name": "stdout",
     "output_type": "stream",
     "text": [
      "SHAP values difference: -3.4718451757953517e-07\n",
      "Background count: 10\n",
      "Background min diff: -2.333782196044922\n",
      "Background max diff: 2.049732208251953\n"
     ]
    },
    {
     "data": {
      "application/vnd.jupyter.widget-view+json": {
       "model_id": "854d6c9958e44bf686aad241fbf16e06",
       "version_major": 2,
       "version_minor": 0
      },
      "text/plain": [
       "  0%|          | 0/1 [00:00<?, ?it/s]"
      ]
     },
     "metadata": {},
     "output_type": "display_data"
    },
    {
     "name": "stdout",
     "output_type": "stream",
     "text": [
      "SHAP values difference: 1.2909689672824243e-07\n",
      "SHAP values correction 2\n",
      "Background count: 10\n",
      "Background min diff: -16.071495056152344\n",
      "Background max diff: 2.1220474243164062\n"
     ]
    },
    {
     "data": {
      "application/vnd.jupyter.widget-view+json": {
       "model_id": "947fbfbaba874b11bea43551baf90c2a",
       "version_major": 2,
       "version_minor": 0
      },
      "text/plain": [
       "  0%|          | 0/1 [00:00<?, ?it/s]"
      ]
     },
     "metadata": {},
     "output_type": "display_data"
    },
    {
     "name": "stdout",
     "output_type": "stream",
     "text": [
      "SHAP values difference: 1.7953174946683248e-07\n",
      "SHAP values correction 2\n",
      "Background count: 10\n",
      "Background min diff: -1.1004295349121094\n",
      "Background max diff: 1.1213722229003906\n"
     ]
    },
    {
     "data": {
      "application/vnd.jupyter.widget-view+json": {
       "model_id": "d019e9bbc8c64a6f8eb8e4a2dc10a670",
       "version_major": 2,
       "version_minor": 0
      },
      "text/plain": [
       "  0%|          | 0/1 [00:00<?, ?it/s]"
      ]
     },
     "metadata": {},
     "output_type": "display_data"
    },
    {
     "name": "stdout",
     "output_type": "stream",
     "text": [
      "SHAP values difference: 7.176945300280124e-07\n",
      "SHAP values correction 1\n",
      "Background count: 10\n",
      "Background min diff: -0.5383110046386719\n",
      "Background max diff: 1.2148933410644531\n"
     ]
    },
    {
     "data": {
      "application/vnd.jupyter.widget-view+json": {
       "model_id": "65126f043df24ca696c44fb87dfb5606",
       "version_major": 2,
       "version_minor": 0
      },
      "text/plain": [
       "  0%|          | 0/1 [00:00<?, ?it/s]"
      ]
     },
     "metadata": {},
     "output_type": "display_data"
    },
    {
     "name": "stdout",
     "output_type": "stream",
     "text": [
      "SHAP values difference: -6.090095538979767e-08\n",
      "SHAP values correction 2\n",
      "Background count: 10\n",
      "Background min diff: -1.5274524688720703\n",
      "Background max diff: 1.7018871307373047\n"
     ]
    },
    {
     "data": {
      "application/vnd.jupyter.widget-view+json": {
       "model_id": "4c9ae43da9bc46699073eccd993ef1f3",
       "version_major": 2,
       "version_minor": 0
      },
      "text/plain": [
       "  0%|          | 0/1 [00:00<?, ?it/s]"
      ]
     },
     "metadata": {},
     "output_type": "display_data"
    },
    {
     "name": "stdout",
     "output_type": "stream",
     "text": [
      "SHAP values difference: 2.5926580349278083e-07\n",
      "Background count: 10\n",
      "Background min diff: -1.594207763671875\n",
      "Background max diff: 0.96429443359375\n"
     ]
    },
    {
     "data": {
      "application/vnd.jupyter.widget-view+json": {
       "model_id": "63450e14fbb84c58830ef24e855346de",
       "version_major": 2,
       "version_minor": 0
      },
      "text/plain": [
       "  0%|          | 0/1 [00:00<?, ?it/s]"
      ]
     },
     "metadata": {},
     "output_type": "display_data"
    },
    {
     "name": "stdout",
     "output_type": "stream",
     "text": [
      "SHAP values difference: -5.151250803692164e-07\n",
      "Background count: 10\n",
      "Background min diff: -2.3929061889648438\n",
      "Background max diff: 2.3329849243164062\n"
     ]
    },
    {
     "data": {
      "application/vnd.jupyter.widget-view+json": {
       "model_id": "ae09694130b448438aabb86869109452",
       "version_major": 2,
       "version_minor": 0
      },
      "text/plain": [
       "  0%|          | 0/1 [00:00<?, ?it/s]"
      ]
     },
     "metadata": {},
     "output_type": "display_data"
    },
    {
     "name": "stdout",
     "output_type": "stream",
     "text": [
      "SHAP values difference: -1.0926582127979145e-07\n",
      "SHAP values correction 2\n",
      "Background count: 10\n",
      "Background min diff: -1.9997787475585938\n",
      "Background max diff: 1.4297561645507812\n"
     ]
    },
    {
     "data": {
      "application/vnd.jupyter.widget-view+json": {
       "model_id": "22236d760a6544a48a508081dc49e845",
       "version_major": 2,
       "version_minor": 0
      },
      "text/plain": [
       "  0%|          | 0/1 [00:00<?, ?it/s]"
      ]
     },
     "metadata": {},
     "output_type": "display_data"
    },
    {
     "name": "stdout",
     "output_type": "stream",
     "text": [
      "SHAP values difference: -9.017745128403476e-08\n",
      "Background count: 10\n",
      "Background min diff: -0.6677589416503906\n",
      "Background max diff: 1.1333885192871094\n"
     ]
    },
    {
     "data": {
      "application/vnd.jupyter.widget-view+json": {
       "model_id": "7e872f8d9b4d474aab0ed0ae73746354",
       "version_major": 2,
       "version_minor": 0
      },
      "text/plain": [
       "  0%|          | 0/1 [00:00<?, ?it/s]"
      ]
     },
     "metadata": {},
     "output_type": "display_data"
    },
    {
     "name": "stdout",
     "output_type": "stream",
     "text": [
      "SHAP values difference: -9.620087126904764e-08\n",
      "SHAP values correction 2\n",
      "Background count: 10\n",
      "Background min diff: -1.6418609619140625\n",
      "Background max diff: 2.8062896728515625\n"
     ]
    },
    {
     "data": {
      "application/vnd.jupyter.widget-view+json": {
       "model_id": "84018aaff72142ad87b9982abfbcf879",
       "version_major": 2,
       "version_minor": 0
      },
      "text/plain": [
       "  0%|          | 0/1 [00:00<?, ?it/s]"
      ]
     },
     "metadata": {},
     "output_type": "display_data"
    },
    {
     "name": "stdout",
     "output_type": "stream",
     "text": [
      "SHAP values difference: -1.0507454817343387e-07\n",
      "Background count: 10\n",
      "Background min diff: -1.0389232635498047\n",
      "Background max diff: 1.2810535430908203\n"
     ]
    },
    {
     "data": {
      "application/vnd.jupyter.widget-view+json": {
       "model_id": "34fea3d777574634b144abe411b94a18",
       "version_major": 2,
       "version_minor": 0
      },
      "text/plain": [
       "  0%|          | 0/1 [00:00<?, ?it/s]"
      ]
     },
     "metadata": {},
     "output_type": "display_data"
    },
    {
     "name": "stdout",
     "output_type": "stream",
     "text": [
      "SHAP values difference: -8.571371354904045e-07\n",
      "Background count: 10\n",
      "Background min diff: -1.3394546508789062\n",
      "Background max diff: 1.3873519897460938\n"
     ]
    },
    {
     "data": {
      "application/vnd.jupyter.widget-view+json": {
       "model_id": "ebf3076f45914bbea2bcbf9d0b13112c",
       "version_major": 2,
       "version_minor": 0
      },
      "text/plain": [
       "  0%|          | 0/1 [00:00<?, ?it/s]"
      ]
     },
     "metadata": {},
     "output_type": "display_data"
    },
    {
     "name": "stdout",
     "output_type": "stream",
     "text": [
      "SHAP values difference: 3.4646870261667573e-07\n",
      "Background count: 10\n",
      "Background min diff: -2.3052940368652344\n",
      "Background max diff: 2.4205970764160156\n"
     ]
    },
    {
     "data": {
      "application/vnd.jupyter.widget-view+json": {
       "model_id": "b6fa9fa644ed4e77b7f08511dcde0c7c",
       "version_major": 2,
       "version_minor": 0
      },
      "text/plain": [
       "  0%|          | 0/1 [00:00<?, ?it/s]"
      ]
     },
     "metadata": {},
     "output_type": "display_data"
    },
    {
     "name": "stdout",
     "output_type": "stream",
     "text": [
      "SHAP values difference: 4.1935574213169957e-07\n",
      "SHAP values correction 2\n",
      "Background count: 10\n",
      "Background min diff: -8.455345153808594\n",
      "Background max diff: 1.3823318481445312\n"
     ]
    },
    {
     "data": {
      "application/vnd.jupyter.widget-view+json": {
       "model_id": "f5976010e86b4080abdfd3cf6a35c58f",
       "version_major": 2,
       "version_minor": 0
      },
      "text/plain": [
       "  0%|          | 0/1 [00:00<?, ?it/s]"
      ]
     },
     "metadata": {},
     "output_type": "display_data"
    },
    {
     "name": "stdout",
     "output_type": "stream",
     "text": [
      "SHAP values difference: 8.581551647068864e-08\n",
      "Background count: 10\n",
      "Background min diff: -12.156364440917969\n",
      "Background max diff: 6.037178039550781\n"
     ]
    },
    {
     "data": {
      "application/vnd.jupyter.widget-view+json": {
       "model_id": "0e0a09737e7345999d99f69533465ef1",
       "version_major": 2,
       "version_minor": 0
      },
      "text/plain": [
       "  0%|          | 0/1 [00:00<?, ?it/s]"
      ]
     },
     "metadata": {},
     "output_type": "display_data"
    },
    {
     "name": "stdout",
     "output_type": "stream",
     "text": [
      "SHAP values difference: -1.0915636750041813e-07\n",
      "SHAP values correction 2\n",
      "Background count: 10\n",
      "Background min diff: -1.2805519104003906\n",
      "Background max diff: 1.3325767517089844\n"
     ]
    },
    {
     "data": {
      "application/vnd.jupyter.widget-view+json": {
       "model_id": "01d366d089174c3b8a800136c49e5b9b",
       "version_major": 2,
       "version_minor": 0
      },
      "text/plain": [
       "  0%|          | 0/1 [00:00<?, ?it/s]"
      ]
     },
     "metadata": {},
     "output_type": "display_data"
    },
    {
     "name": "stdout",
     "output_type": "stream",
     "text": [
      "SHAP values difference: 7.941239394071431e-06\n",
      "SHAP values correction 1\n",
      "SHAP values correction 2\n",
      "Background count: 10\n",
      "Background min diff: -1.04803466796875\n",
      "Background max diff: 0.887939453125\n"
     ]
    },
    {
     "data": {
      "application/vnd.jupyter.widget-view+json": {
       "model_id": "38ec2a467eb741858fb80b4e6a6ad2e5",
       "version_major": 2,
       "version_minor": 0
      },
      "text/plain": [
       "  0%|          | 0/1 [00:00<?, ?it/s]"
      ]
     },
     "metadata": {},
     "output_type": "display_data"
    },
    {
     "name": "stdout",
     "output_type": "stream",
     "text": [
      "SHAP values difference: -3.2400188132442054e-07\n",
      "SHAP values correction 2\n",
      "Background count: 10\n",
      "Background min diff: -1.4020881652832031\n",
      "Background max diff: 1.3400382995605469\n"
     ]
    },
    {
     "data": {
      "application/vnd.jupyter.widget-view+json": {
       "model_id": "914dfea2a1ea442cb20f438cd4f16f9d",
       "version_major": 2,
       "version_minor": 0
      },
      "text/plain": [
       "  0%|          | 0/1 [00:00<?, ?it/s]"
      ]
     },
     "metadata": {},
     "output_type": "display_data"
    },
    {
     "name": "stdout",
     "output_type": "stream",
     "text": [
      "SHAP values difference: -1.6103312105997247e-07\n",
      "Background count: 10\n",
      "Background min diff: -0.9439010620117188\n",
      "Background max diff: 0.8175430297851562\n"
     ]
    },
    {
     "data": {
      "application/vnd.jupyter.widget-view+json": {
       "model_id": "985d5835622b4ecdabfd9c77e55a38e3",
       "version_major": 2,
       "version_minor": 0
      },
      "text/plain": [
       "  0%|          | 0/1 [00:00<?, ?it/s]"
      ]
     },
     "metadata": {},
     "output_type": "display_data"
    },
    {
     "name": "stdout",
     "output_type": "stream",
     "text": [
      "SHAP values difference: -1.3226223627427203e-07\n",
      "SHAP values correction 1\n",
      "SHAP values correction 2\n",
      "Background count: 10\n",
      "Background min diff: -0.7639427185058594\n",
      "Background max diff: 0.8100929260253906\n"
     ]
    },
    {
     "data": {
      "application/vnd.jupyter.widget-view+json": {
       "model_id": "fae9b713174d4244903de3a021060daa",
       "version_major": 2,
       "version_minor": 0
      },
      "text/plain": [
       "  0%|          | 0/1 [00:00<?, ?it/s]"
      ]
     },
     "metadata": {},
     "output_type": "display_data"
    },
    {
     "name": "stdout",
     "output_type": "stream",
     "text": [
      "SHAP values difference: 6.170788608983457e-07\n",
      "Background count: 10\n",
      "Background min diff: -2.2903518676757812\n",
      "Background max diff: 2.5223617553710938\n"
     ]
    },
    {
     "data": {
      "application/vnd.jupyter.widget-view+json": {
       "model_id": "6ff0c06084da4bbf9b7cf9f68924a70c",
       "version_major": 2,
       "version_minor": 0
      },
      "text/plain": [
       "  0%|          | 0/1 [00:00<?, ?it/s]"
      ]
     },
     "metadata": {},
     "output_type": "display_data"
    },
    {
     "name": "stdout",
     "output_type": "stream",
     "text": [
      "SHAP values difference: 1.539337954881148e-07\n",
      "Background count: 10\n",
      "Background min diff: -0.5853805541992188\n",
      "Background max diff: 1.1895828247070312\n"
     ]
    },
    {
     "data": {
      "application/vnd.jupyter.widget-view+json": {
       "model_id": "c60b6b2d57c74a41914e2e77c8578bcf",
       "version_major": 2,
       "version_minor": 0
      },
      "text/plain": [
       "  0%|          | 0/1 [00:00<?, ?it/s]"
      ]
     },
     "metadata": {},
     "output_type": "display_data"
    },
    {
     "name": "stdout",
     "output_type": "stream",
     "text": [
      "SHAP values difference: 1.7962144038818906e-07\n",
      "SHAP values correction 2\n",
      "Background count: 10\n",
      "Background min diff: -1.3692359924316406\n",
      "Background max diff: 1.3728904724121094\n"
     ]
    },
    {
     "data": {
      "application/vnd.jupyter.widget-view+json": {
       "model_id": "52d69516ba6e475eb39c6e96e52ec9ba",
       "version_major": 2,
       "version_minor": 0
      },
      "text/plain": [
       "  0%|          | 0/1 [00:00<?, ?it/s]"
      ]
     },
     "metadata": {},
     "output_type": "display_data"
    },
    {
     "name": "stdout",
     "output_type": "stream",
     "text": [
      "SHAP values difference: 2.3081962652327093e-07\n",
      "SHAP values correction 2\n",
      "Background count: 10\n",
      "Background min diff: -1.3240737915039062\n",
      "Background max diff: 0.42913055419921875\n"
     ]
    },
    {
     "data": {
      "application/vnd.jupyter.widget-view+json": {
       "model_id": "67c7fffe50264abbac66309d3aeb4058",
       "version_major": 2,
       "version_minor": 0
      },
      "text/plain": [
       "  0%|          | 0/1 [00:00<?, ?it/s]"
      ]
     },
     "metadata": {},
     "output_type": "display_data"
    },
    {
     "name": "stdout",
     "output_type": "stream",
     "text": [
      "SHAP values difference: 1.8655403266620851e-07\n",
      "Background count: 10\n",
      "Background min diff: -2.591876983642578\n",
      "Background max diff: 2.892803192138672\n"
     ]
    },
    {
     "data": {
      "application/vnd.jupyter.widget-view+json": {
       "model_id": "250cad87120141729a072370abfff379",
       "version_major": 2,
       "version_minor": 0
      },
      "text/plain": [
       "  0%|          | 0/1 [00:00<?, ?it/s]"
      ]
     },
     "metadata": {},
     "output_type": "display_data"
    },
    {
     "name": "stdout",
     "output_type": "stream",
     "text": [
      "SHAP values difference: -2.125771061400883e-07\n",
      "Background count: 10\n",
      "Background min diff: -1.1475791931152344\n",
      "Background max diff: 1.2178993225097656\n"
     ]
    },
    {
     "data": {
      "application/vnd.jupyter.widget-view+json": {
       "model_id": "e31b8e1f28474a86a7ed479497d99dbf",
       "version_major": 2,
       "version_minor": 0
      },
      "text/plain": [
       "  0%|          | 0/1 [00:00<?, ?it/s]"
      ]
     },
     "metadata": {},
     "output_type": "display_data"
    },
    {
     "name": "stdout",
     "output_type": "stream",
     "text": [
      "SHAP values difference: 1.240961537973817e-06\n",
      "Background count: 10\n",
      "Background min diff: -2.002422332763672\n",
      "Background max diff: 4.426532745361328\n"
     ]
    },
    {
     "data": {
      "application/vnd.jupyter.widget-view+json": {
       "model_id": "4f5f41f4614b49c0a9ae60414876401b",
       "version_major": 2,
       "version_minor": 0
      },
      "text/plain": [
       "  0%|          | 0/1 [00:00<?, ?it/s]"
      ]
     },
     "metadata": {},
     "output_type": "display_data"
    },
    {
     "name": "stdout",
     "output_type": "stream",
     "text": [
      "SHAP values difference: 2.4564556611039734e-07\n",
      "Background count: 10\n",
      "Background min diff: -1.4375419616699219\n",
      "Background max diff: 1.4509468078613281\n"
     ]
    },
    {
     "data": {
      "application/vnd.jupyter.widget-view+json": {
       "model_id": "c071caf0f78b4f9eb8e3d20cd566fd96",
       "version_major": 2,
       "version_minor": 0
      },
      "text/plain": [
       "  0%|          | 0/1 [00:00<?, ?it/s]"
      ]
     },
     "metadata": {},
     "output_type": "display_data"
    },
    {
     "name": "stdout",
     "output_type": "stream",
     "text": [
      "SHAP values difference: 6.465452528914284e-08\n",
      "Background count: 10\n",
      "Background min diff: -1.4757575988769531\n",
      "Background max diff: 2.058208465576172\n"
     ]
    },
    {
     "data": {
      "application/vnd.jupyter.widget-view+json": {
       "model_id": "45ee51a8436f400c8b1b83e9fbcef1be",
       "version_major": 2,
       "version_minor": 0
      },
      "text/plain": [
       "  0%|          | 0/1 [00:00<?, ?it/s]"
      ]
     },
     "metadata": {},
     "output_type": "display_data"
    },
    {
     "name": "stdout",
     "output_type": "stream",
     "text": [
      "SHAP values difference: 3.0288070007600254e-07\n",
      "Background count: 10\n",
      "Background min diff: -0.9301185607910156\n",
      "Background max diff: 1.9581260681152344\n"
     ]
    },
    {
     "data": {
      "application/vnd.jupyter.widget-view+json": {
       "model_id": "17af7fcdf44c4fababdfa48be2f32b0f",
       "version_major": 2,
       "version_minor": 0
      },
      "text/plain": [
       "  0%|          | 0/1 [00:00<?, ?it/s]"
      ]
     },
     "metadata": {},
     "output_type": "display_data"
    },
    {
     "name": "stdout",
     "output_type": "stream",
     "text": [
      "SHAP values difference: -4.840135581218874e-07\n",
      "Background count: 10\n",
      "Background min diff: -1.73333740234375\n",
      "Background max diff: 1.817535400390625\n"
     ]
    },
    {
     "data": {
      "application/vnd.jupyter.widget-view+json": {
       "model_id": "2b4b1568bb8340dd9c901fd18d03db39",
       "version_major": 2,
       "version_minor": 0
      },
      "text/plain": [
       "  0%|          | 0/1 [00:00<?, ?it/s]"
      ]
     },
     "metadata": {},
     "output_type": "display_data"
    },
    {
     "name": "stdout",
     "output_type": "stream",
     "text": [
      "SHAP values difference: 1.1122335408231265e-07\n",
      "SHAP values correction 2\n",
      "Background count: 10\n",
      "Background min diff: -1.9985771179199219\n",
      "Background max diff: 2.041828155517578\n"
     ]
    },
    {
     "data": {
      "application/vnd.jupyter.widget-view+json": {
       "model_id": "a8aae96272eb4a8d977e6c694956c166",
       "version_major": 2,
       "version_minor": 0
      },
      "text/plain": [
       "  0%|          | 0/1 [00:00<?, ?it/s]"
      ]
     },
     "metadata": {},
     "output_type": "display_data"
    },
    {
     "name": "stdout",
     "output_type": "stream",
     "text": [
      "SHAP values difference: 3.301447790704515e-07\n",
      "SHAP values correction 2\n",
      "Background count: 10\n",
      "Background min diff: -2.145048141479492\n",
      "Background max diff: 2.111513137817383\n"
     ]
    },
    {
     "data": {
      "application/vnd.jupyter.widget-view+json": {
       "model_id": "2a08c6bedfe049e5ac0ce5692e217490",
       "version_major": 2,
       "version_minor": 0
      },
      "text/plain": [
       "  0%|          | 0/1 [00:00<?, ?it/s]"
      ]
     },
     "metadata": {},
     "output_type": "display_data"
    },
    {
     "name": "stdout",
     "output_type": "stream",
     "text": [
      "SHAP values difference: 5.534427955922183e-07\n",
      "SHAP values correction 2\n",
      "Background count: 10\n",
      "Background min diff: -3.155057907104492\n",
      "Background max diff: 3.273897171020508\n"
     ]
    },
    {
     "data": {
      "application/vnd.jupyter.widget-view+json": {
       "model_id": "9629fea727e249378c34bea466d6fc3c",
       "version_major": 2,
       "version_minor": 0
      },
      "text/plain": [
       "  0%|          | 0/1 [00:00<?, ?it/s]"
      ]
     },
     "metadata": {},
     "output_type": "display_data"
    },
    {
     "name": "stdout",
     "output_type": "stream",
     "text": [
      "SHAP values difference: -1.0511351433706295e-07\n",
      "SHAP values correction 2\n",
      "Background count: 10\n",
      "Background min diff: -2.355283737182617\n",
      "Background max diff: 2.425569534301758\n"
     ]
    },
    {
     "data": {
      "application/vnd.jupyter.widget-view+json": {
       "model_id": "dba7c6a89a8540d5bcc9eddb1c59bd8a",
       "version_major": 2,
       "version_minor": 0
      },
      "text/plain": [
       "  0%|          | 0/1 [00:00<?, ?it/s]"
      ]
     },
     "metadata": {},
     "output_type": "display_data"
    },
    {
     "name": "stdout",
     "output_type": "stream",
     "text": [
      "SHAP values difference: 5.731505616779486e-07\n",
      "SHAP values correction 2\n",
      "Background count: 10\n",
      "Background min diff: -1.13629150390625\n",
      "Background max diff: 0.437744140625\n"
     ]
    },
    {
     "data": {
      "application/vnd.jupyter.widget-view+json": {
       "model_id": "f129d2f6e1e14adabd77b0940d3d48fb",
       "version_major": 2,
       "version_minor": 0
      },
      "text/plain": [
       "  0%|          | 0/1 [00:00<?, ?it/s]"
      ]
     },
     "metadata": {},
     "output_type": "display_data"
    },
    {
     "name": "stdout",
     "output_type": "stream",
     "text": [
      "SHAP values difference: 1.5397148445117637e-08\n",
      "SHAP values correction 2\n",
      "Background count: 10\n",
      "Background min diff: -14.510917663574219\n",
      "Background max diff: 3.6826248168945312\n"
     ]
    },
    {
     "data": {
      "application/vnd.jupyter.widget-view+json": {
       "model_id": "d4009bb0c6c44a09a953a11bc1e7918b",
       "version_major": 2,
       "version_minor": 0
      },
      "text/plain": [
       "  0%|          | 0/1 [00:00<?, ?it/s]"
      ]
     },
     "metadata": {},
     "output_type": "display_data"
    },
    {
     "name": "stdout",
     "output_type": "stream",
     "text": [
      "SHAP values difference: 5.56276667396105e-07\n",
      "Background count: 10\n",
      "Background min diff: -11.009204864501953\n",
      "Background max diff: 7.184337615966797\n"
     ]
    },
    {
     "data": {
      "application/vnd.jupyter.widget-view+json": {
       "model_id": "37ed73f865564bb69df6277c8ba8dc71",
       "version_major": 2,
       "version_minor": 0
      },
      "text/plain": [
       "  0%|          | 0/1 [00:00<?, ?it/s]"
      ]
     },
     "metadata": {},
     "output_type": "display_data"
    },
    {
     "name": "stdout",
     "output_type": "stream",
     "text": [
      "SHAP values difference: 1.4921749169616305e-07\n",
      "Background count: 10\n",
      "Background min diff: -0.9982681274414062\n",
      "Background max diff: 0.7549362182617188\n"
     ]
    },
    {
     "data": {
      "application/vnd.jupyter.widget-view+json": {
       "model_id": "fd99054eb7d240f4b89ebacb34f644fc",
       "version_major": 2,
       "version_minor": 0
      },
      "text/plain": [
       "  0%|          | 0/1 [00:00<?, ?it/s]"
      ]
     },
     "metadata": {},
     "output_type": "display_data"
    },
    {
     "name": "stdout",
     "output_type": "stream",
     "text": [
      "SHAP values difference: -3.8775017685566127e-07\n",
      "Background count: 10\n",
      "Background min diff: -1.3498172760009766\n",
      "Background max diff: 2.1841487884521484\n"
     ]
    },
    {
     "data": {
      "application/vnd.jupyter.widget-view+json": {
       "model_id": "1413c0628173442d851d1e09429c97f6",
       "version_major": 2,
       "version_minor": 0
      },
      "text/plain": [
       "  0%|          | 0/1 [00:00<?, ?it/s]"
      ]
     },
     "metadata": {},
     "output_type": "display_data"
    },
    {
     "name": "stdout",
     "output_type": "stream",
     "text": [
      "SHAP values difference: -1.3963775558067937e-07\n",
      "Background count: 10\n",
      "Background min diff: -0.5985450744628906\n",
      "Background max diff: 1.1546592712402344\n"
     ]
    },
    {
     "data": {
      "application/vnd.jupyter.widget-view+json": {
       "model_id": "8f15b3661a0b451cac1c0c5e7869ab4e",
       "version_major": 2,
       "version_minor": 0
      },
      "text/plain": [
       "  0%|          | 0/1 [00:00<?, ?it/s]"
      ]
     },
     "metadata": {},
     "output_type": "display_data"
    },
    {
     "name": "stdout",
     "output_type": "stream",
     "text": [
      "SHAP values difference: 7.689103718178103e-07\n",
      "Background count: 10\n",
      "Background min diff: -1.9539756774902344\n",
      "Background max diff: 2.4941749572753906\n"
     ]
    },
    {
     "data": {
      "application/vnd.jupyter.widget-view+json": {
       "model_id": "b6f4762a70b249adb237f3988c522c6f",
       "version_major": 2,
       "version_minor": 0
      },
      "text/plain": [
       "  0%|          | 0/1 [00:00<?, ?it/s]"
      ]
     },
     "metadata": {},
     "output_type": "display_data"
    },
    {
     "name": "stdout",
     "output_type": "stream",
     "text": [
      "SHAP values difference: 1.860073961523767e-08\n",
      "SHAP values correction 1\n",
      "Background count: 10\n",
      "Background min diff: -1.7880973815917969\n",
      "Background max diff: 1.7627754211425781\n"
     ]
    },
    {
     "data": {
      "application/vnd.jupyter.widget-view+json": {
       "model_id": "100d8ee8134944dba5aa9d2c9eccf433",
       "version_major": 2,
       "version_minor": 0
      },
      "text/plain": [
       "  0%|          | 0/1 [00:00<?, ?it/s]"
      ]
     },
     "metadata": {},
     "output_type": "display_data"
    },
    {
     "name": "stdout",
     "output_type": "stream",
     "text": [
      "SHAP values difference: 1.000329561406943e-07\n",
      "SHAP values correction 2\n",
      "Background count: 10\n",
      "Background min diff: -2.4702529907226562\n",
      "Background max diff: 2.2565536499023438\n"
     ]
    },
    {
     "data": {
      "application/vnd.jupyter.widget-view+json": {
       "model_id": "88cd0c87739844a8b3271b7f8f70278a",
       "version_major": 2,
       "version_minor": 0
      },
      "text/plain": [
       "  0%|          | 0/1 [00:00<?, ?it/s]"
      ]
     },
     "metadata": {},
     "output_type": "display_data"
    },
    {
     "name": "stdout",
     "output_type": "stream",
     "text": [
      "SHAP values difference: -6.368726062078167e-07\n",
      "SHAP values correction 2\n",
      "Background count: 10\n",
      "Background min diff: -1.1137504577636719\n",
      "Background max diff: 0.9214057922363281\n"
     ]
    },
    {
     "data": {
      "application/vnd.jupyter.widget-view+json": {
       "model_id": "7f9fd82f66834c1084b2b01d006d9675",
       "version_major": 2,
       "version_minor": 0
      },
      "text/plain": [
       "  0%|          | 0/1 [00:00<?, ?it/s]"
      ]
     },
     "metadata": {},
     "output_type": "display_data"
    },
    {
     "name": "stdout",
     "output_type": "stream",
     "text": [
      "SHAP values difference: 3.084164390543265e-08\n",
      "Background count: 10\n",
      "Background min diff: -0.9407730102539062\n",
      "Background max diff: 0.8124313354492188\n"
     ]
    },
    {
     "data": {
      "application/vnd.jupyter.widget-view+json": {
       "model_id": "f6ad59843bc446e785613a222f15b1a9",
       "version_major": 2,
       "version_minor": 0
      },
      "text/plain": [
       "  0%|          | 0/1 [00:00<?, ?it/s]"
      ]
     },
     "metadata": {},
     "output_type": "display_data"
    },
    {
     "name": "stdout",
     "output_type": "stream",
     "text": [
      "SHAP values difference: 4.934523829547288e-07\n",
      "Background count: 10\n",
      "Background min diff: -2.2123985290527344\n",
      "Background max diff: 2.1475563049316406\n"
     ]
    },
    {
     "data": {
      "application/vnd.jupyter.widget-view+json": {
       "model_id": "95484d9400ec4876a8ab3ae89ffdf7d4",
       "version_major": 2,
       "version_minor": 0
      },
      "text/plain": [
       "  0%|          | 0/1 [00:00<?, ?it/s]"
      ]
     },
     "metadata": {},
     "output_type": "display_data"
    },
    {
     "name": "stdout",
     "output_type": "stream",
     "text": [
      "SHAP values difference: -3.9643962068680594e-07\n",
      "SHAP values correction 2\n",
      "Background count: 10\n",
      "Background min diff: -3.583282470703125\n",
      "Background max diff: 3.366363525390625\n"
     ]
    },
    {
     "data": {
      "application/vnd.jupyter.widget-view+json": {
       "model_id": "027adc3b9c8f44c696563174bd61963a",
       "version_major": 2,
       "version_minor": 0
      },
      "text/plain": [
       "  0%|          | 0/1 [00:00<?, ?it/s]"
      ]
     },
     "metadata": {},
     "output_type": "display_data"
    },
    {
     "name": "stdout",
     "output_type": "stream",
     "text": [
      "SHAP values difference: 3.397477854605313e-08\n",
      "Background count: 10\n",
      "Background min diff: -1.2413520812988281\n",
      "Background max diff: 1.4156303405761719\n"
     ]
    },
    {
     "data": {
      "application/vnd.jupyter.widget-view+json": {
       "model_id": "cd92fdcb67de47e9922d6b09ac974c00",
       "version_major": 2,
       "version_minor": 0
      },
      "text/plain": [
       "  0%|          | 0/1 [00:00<?, ?it/s]"
      ]
     },
     "metadata": {},
     "output_type": "display_data"
    },
    {
     "name": "stdout",
     "output_type": "stream",
     "text": [
      "SHAP values difference: -5.145781756255019e-08\n",
      "Background count: 10\n",
      "Background min diff: -0.7376289367675781\n",
      "Background max diff: 0.9291801452636719\n"
     ]
    },
    {
     "data": {
      "application/vnd.jupyter.widget-view+json": {
       "model_id": "d01938622fbe4b62b9fe86edb49f2073",
       "version_major": 2,
       "version_minor": 0
      },
      "text/plain": [
       "  0%|          | 0/1 [00:00<?, ?it/s]"
      ]
     },
     "metadata": {},
     "output_type": "display_data"
    },
    {
     "name": "stdout",
     "output_type": "stream",
     "text": [
      "SHAP values difference: 3.1664144017895524e-07\n",
      "SHAP values correction 2\n",
      "Background count: 10\n",
      "Background min diff: -2.0924720764160156\n",
      "Background max diff: 2.6685447692871094\n"
     ]
    },
    {
     "data": {
      "application/vnd.jupyter.widget-view+json": {
       "model_id": "c625bb5f4cc04495ad164eed186f2eac",
       "version_major": 2,
       "version_minor": 0
      },
      "text/plain": [
       "  0%|          | 0/1 [00:00<?, ?it/s]"
      ]
     },
     "metadata": {},
     "output_type": "display_data"
    },
    {
     "name": "stdout",
     "output_type": "stream",
     "text": [
      "SHAP values difference: 1.7320788714414448e-07\n",
      "Background count: 10\n",
      "Background min diff: -2.2813873291015625\n",
      "Background max diff: 2.4796295166015625\n"
     ]
    },
    {
     "data": {
      "application/vnd.jupyter.widget-view+json": {
       "model_id": "d8da0c674e1d4ee999bdfe9f8e064a3d",
       "version_major": 2,
       "version_minor": 0
      },
      "text/plain": [
       "  0%|          | 0/1 [00:00<?, ?it/s]"
      ]
     },
     "metadata": {},
     "output_type": "display_data"
    },
    {
     "name": "stdout",
     "output_type": "stream",
     "text": [
      "SHAP values difference: 5.705337855488324e-07\n",
      "Background count: 10\n",
      "Background min diff: -5.371097564697266\n",
      "Background max diff: 1.5785484313964844\n"
     ]
    },
    {
     "data": {
      "application/vnd.jupyter.widget-view+json": {
       "model_id": "e40548e950e84586b29cc94542f1f5b4",
       "version_major": 2,
       "version_minor": 0
      },
      "text/plain": [
       "  0%|          | 0/1 [00:00<?, ?it/s]"
      ]
     },
     "metadata": {},
     "output_type": "display_data"
    },
    {
     "name": "stdout",
     "output_type": "stream",
     "text": [
      "SHAP values difference: -4.1091867686304795e-07\n",
      "SHAP values correction 2\n",
      "Background count: 10\n",
      "Background min diff: -1.4457588195800781\n",
      "Background max diff: 1.4427299499511719\n"
     ]
    },
    {
     "data": {
      "application/vnd.jupyter.widget-view+json": {
       "model_id": "c724754c5ed742ac8bebffb1c7d0ed60",
       "version_major": 2,
       "version_minor": 0
      },
      "text/plain": [
       "  0%|          | 0/1 [00:00<?, ?it/s]"
      ]
     },
     "metadata": {},
     "output_type": "display_data"
    },
    {
     "name": "stdout",
     "output_type": "stream",
     "text": [
      "SHAP values difference: -2.2181366787776824e-07\n",
      "SHAP values correction 2\n",
      "Background count: 10\n",
      "Background min diff: -2.0096397399902344\n",
      "Background max diff: 1.5243263244628906\n"
     ]
    },
    {
     "data": {
      "application/vnd.jupyter.widget-view+json": {
       "model_id": "3405be44a7164d1f8b37cf7707261b14",
       "version_major": 2,
       "version_minor": 0
      },
      "text/plain": [
       "  0%|          | 0/1 [00:00<?, ?it/s]"
      ]
     },
     "metadata": {},
     "output_type": "display_data"
    },
    {
     "name": "stdout",
     "output_type": "stream",
     "text": [
      "SHAP values difference: 1.6586818407660076e-07\n",
      "SHAP values correction 1\n",
      "SHAP values correction 2\n",
      "Background count: 10\n",
      "Background min diff: -1.591552734375\n",
      "Background max diff: 1.982391357421875\n"
     ]
    },
    {
     "data": {
      "application/vnd.jupyter.widget-view+json": {
       "model_id": "e6f4d746c1274b2a89d26731a4f020c5",
       "version_major": 2,
       "version_minor": 0
      },
      "text/plain": [
       "  0%|          | 0/1 [00:00<?, ?it/s]"
      ]
     },
     "metadata": {},
     "output_type": "display_data"
    },
    {
     "name": "stdout",
     "output_type": "stream",
     "text": [
      "SHAP values difference: -3.4822449013205414e-07\n",
      "SHAP values correction 1\n",
      "Background count: 10\n",
      "Background min diff: -12.67108154296875\n",
      "Background max diff: 5.5224609375\n"
     ]
    },
    {
     "data": {
      "application/vnd.jupyter.widget-view+json": {
       "model_id": "a4d201e42d2044328d1bdb10821249aa",
       "version_major": 2,
       "version_minor": 0
      },
      "text/plain": [
       "  0%|          | 0/1 [00:00<?, ?it/s]"
      ]
     },
     "metadata": {},
     "output_type": "display_data"
    },
    {
     "name": "stdout",
     "output_type": "stream",
     "text": [
      "SHAP values difference: -3.245480373337273e-08\n",
      "SHAP values correction 2\n",
      "Background count: 10\n",
      "Background min diff: -2.8472938537597656\n",
      "Background max diff: 2.1967735290527344\n"
     ]
    },
    {
     "data": {
      "application/vnd.jupyter.widget-view+json": {
       "model_id": "02a3013476ca4326a0b11fd3b973d927",
       "version_major": 2,
       "version_minor": 0
      },
      "text/plain": [
       "  0%|          | 0/1 [00:00<?, ?it/s]"
      ]
     },
     "metadata": {},
     "output_type": "display_data"
    },
    {
     "name": "stdout",
     "output_type": "stream",
     "text": [
      "SHAP values difference: -1.418451454071601e-07\n",
      "SHAP values correction 2\n",
      "Background count: 10\n",
      "Background min diff: -1.1092300415039062\n",
      "Background max diff: 1.3201828002929688\n"
     ]
    },
    {
     "data": {
      "application/vnd.jupyter.widget-view+json": {
       "model_id": "a4ea1fe135914845a57aef32aed0f09c",
       "version_major": 2,
       "version_minor": 0
      },
      "text/plain": [
       "  0%|          | 0/1 [00:00<?, ?it/s]"
      ]
     },
     "metadata": {},
     "output_type": "display_data"
    },
    {
     "name": "stdout",
     "output_type": "stream",
     "text": [
      "SHAP values difference: 5.475214237549153e-08\n",
      "SHAP values correction 2\n",
      "Background count: 10\n",
      "Background min diff: -1.3152427673339844\n",
      "Background max diff: 1.2437477111816406\n"
     ]
    },
    {
     "data": {
      "application/vnd.jupyter.widget-view+json": {
       "model_id": "96f4743bcfb94d51b5df2b6c38b8412b",
       "version_major": 2,
       "version_minor": 0
      },
      "text/plain": [
       "  0%|          | 0/1 [00:00<?, ?it/s]"
      ]
     },
     "metadata": {},
     "output_type": "display_data"
    },
    {
     "name": "stdout",
     "output_type": "stream",
     "text": [
      "SHAP values difference: 4.2358986362955875e-07\n",
      "SHAP values correction 2\n",
      "Background count: 10\n",
      "Background min diff: -3.1139907836914062\n",
      "Background max diff: 3.3149642944335938\n"
     ]
    },
    {
     "data": {
      "application/vnd.jupyter.widget-view+json": {
       "model_id": "60914b13bba243a5940511df93c8f8e6",
       "version_major": 2,
       "version_minor": 0
      },
      "text/plain": [
       "  0%|          | 0/1 [00:00<?, ?it/s]"
      ]
     },
     "metadata": {},
     "output_type": "display_data"
    },
    {
     "name": "stdout",
     "output_type": "stream",
     "text": [
      "SHAP values difference: -3.5806315956676826e-07\n",
      "Background count: 10\n",
      "Background min diff: -1.3676128387451172\n",
      "Background max diff: 1.3331623077392578\n"
     ]
    },
    {
     "data": {
      "application/vnd.jupyter.widget-view+json": {
       "model_id": "6385b220af684c19baad19abef19aebf",
       "version_major": 2,
       "version_minor": 0
      },
      "text/plain": [
       "  0%|          | 0/1 [00:00<?, ?it/s]"
      ]
     },
     "metadata": {},
     "output_type": "display_data"
    },
    {
     "name": "stdout",
     "output_type": "stream",
     "text": [
      "SHAP values difference: -1.0278952800035768e-08\n",
      "Background count: 10\n",
      "Background min diff: -2.667398452758789\n",
      "Background max diff: 2.113454818725586\n"
     ]
    },
    {
     "data": {
      "application/vnd.jupyter.widget-view+json": {
       "model_id": "af81901092b2456db8c757af930becec",
       "version_major": 2,
       "version_minor": 0
      },
      "text/plain": [
       "  0%|          | 0/1 [00:00<?, ?it/s]"
      ]
     },
     "metadata": {},
     "output_type": "display_data"
    },
    {
     "name": "stdout",
     "output_type": "stream",
     "text": [
      "SHAP values difference: -4.503010408996033e-07\n",
      "Background count: 10\n",
      "Background min diff: -2.2430572509765625\n",
      "Background max diff: 2.5179595947265625\n"
     ]
    },
    {
     "data": {
      "application/vnd.jupyter.widget-view+json": {
       "model_id": "143cb1370f1b4424a0a0fe7945010ef9",
       "version_major": 2,
       "version_minor": 0
      },
      "text/plain": [
       "  0%|          | 0/1 [00:00<?, ?it/s]"
      ]
     },
     "metadata": {},
     "output_type": "display_data"
    },
    {
     "name": "stdout",
     "output_type": "stream",
     "text": [
      "SHAP values difference: 2.397690579414302e-07\n",
      "Background count: 10\n",
      "Background min diff: -1.9468917846679688\n",
      "Background max diff: 1.6039810180664062\n"
     ]
    },
    {
     "data": {
      "application/vnd.jupyter.widget-view+json": {
       "model_id": "aaaaf424f6754c58b6ebe9ae29df7bb3",
       "version_major": 2,
       "version_minor": 0
      },
      "text/plain": [
       "  0%|          | 0/1 [00:00<?, ?it/s]"
      ]
     },
     "metadata": {},
     "output_type": "display_data"
    },
    {
     "name": "stdout",
     "output_type": "stream",
     "text": [
      "SHAP values difference: -4.643004194448963e-07\n",
      "SHAP values correction 2\n",
      "Background count: 10\n",
      "Background min diff: -2.349597930908203\n",
      "Background max diff: 2.742015838623047\n"
     ]
    },
    {
     "data": {
      "application/vnd.jupyter.widget-view+json": {
       "model_id": "b2e53fa0c59e415193d70bba1deb5e1a",
       "version_major": 2,
       "version_minor": 0
      },
      "text/plain": [
       "  0%|          | 0/1 [00:00<?, ?it/s]"
      ]
     },
     "metadata": {},
     "output_type": "display_data"
    },
    {
     "name": "stdout",
     "output_type": "stream",
     "text": [
      "SHAP values difference: 6.166932564610761e-07\n",
      "Background count: 10\n",
      "Background min diff: -2.333221435546875\n",
      "Background max diff: 1.712005615234375\n"
     ]
    },
    {
     "data": {
      "application/vnd.jupyter.widget-view+json": {
       "model_id": "64314e7e28924a73aef0cc939f90e211",
       "version_major": 2,
       "version_minor": 0
      },
      "text/plain": [
       "  0%|          | 0/1 [00:00<?, ?it/s]"
      ]
     },
     "metadata": {},
     "output_type": "display_data"
    },
    {
     "name": "stdout",
     "output_type": "stream",
     "text": [
      "SHAP values difference: -2.0080888774032246e-07\n",
      "Background count: 10\n",
      "Background min diff: -2.2058582305908203\n",
      "Background max diff: 2.2422924041748047\n"
     ]
    },
    {
     "data": {
      "application/vnd.jupyter.widget-view+json": {
       "model_id": "9c3018edf4d54b7ab2a17fdbbf309d57",
       "version_major": 2,
       "version_minor": 0
      },
      "text/plain": [
       "  0%|          | 0/1 [00:00<?, ?it/s]"
      ]
     },
     "metadata": {},
     "output_type": "display_data"
    },
    {
     "name": "stdout",
     "output_type": "stream",
     "text": [
      "SHAP values difference: 4.901108496824236e-08\n",
      "SHAP values correction 2\n",
      "Background count: 10\n",
      "Background min diff: -11.770328521728516\n",
      "Background max diff: 6.423213958740234\n"
     ]
    },
    {
     "data": {
      "application/vnd.jupyter.widget-view+json": {
       "model_id": "3a48d0d330ce4267997e177f5ef08da9",
       "version_major": 2,
       "version_minor": 0
      },
      "text/plain": [
       "  0%|          | 0/1 [00:00<?, ?it/s]"
      ]
     },
     "metadata": {},
     "output_type": "display_data"
    },
    {
     "name": "stdout",
     "output_type": "stream",
     "text": [
      "SHAP values difference: -1.0628740199081221e-07\n",
      "Background count: 10\n",
      "Background min diff: -1.020172119140625\n",
      "Background max diff: 0.7330322265625\n"
     ]
    },
    {
     "data": {
      "application/vnd.jupyter.widget-view+json": {
       "model_id": "e8e0a043ea614a64bdb021bbf65cc003",
       "version_major": 2,
       "version_minor": 0
      },
      "text/plain": [
       "  0%|          | 0/1 [00:00<?, ?it/s]"
      ]
     },
     "metadata": {},
     "output_type": "display_data"
    },
    {
     "name": "stdout",
     "output_type": "stream",
     "text": [
      "SHAP values difference: 4.097717685169755e-07\n",
      "SHAP values correction 2\n",
      "Background count: 10\n",
      "Background min diff: -1.2741737365722656\n",
      "Background max diff: 1.2848167419433594\n"
     ]
    },
    {
     "data": {
      "application/vnd.jupyter.widget-view+json": {
       "model_id": "e87a7a7c48c94813bfdc88a6df9503c1",
       "version_major": 2,
       "version_minor": 0
      },
      "text/plain": [
       "  0%|          | 0/1 [00:00<?, ?it/s]"
      ]
     },
     "metadata": {},
     "output_type": "display_data"
    },
    {
     "name": "stdout",
     "output_type": "stream",
     "text": [
      "SHAP values difference: -1.7820235953536212e-08\n",
      "SHAP values correction 2\n",
      "Background count: 10\n",
      "Background min diff: -2.2741355895996094\n",
      "Background max diff: 2.7120704650878906\n"
     ]
    },
    {
     "data": {
      "application/vnd.jupyter.widget-view+json": {
       "model_id": "06570926b66b40668257082dc61ccd71",
       "version_major": 2,
       "version_minor": 0
      },
      "text/plain": [
       "  0%|          | 0/1 [00:00<?, ?it/s]"
      ]
     },
     "metadata": {},
     "output_type": "display_data"
    },
    {
     "name": "stdout",
     "output_type": "stream",
     "text": [
      "SHAP values difference: 2.3203161703122532e-07\n",
      "SHAP values correction 2\n",
      "Background count: 10\n",
      "Background min diff: -1.9961624145507812\n",
      "Background max diff: 2.0317611694335938\n"
     ]
    },
    {
     "data": {
      "application/vnd.jupyter.widget-view+json": {
       "model_id": "101e2374b08f4175a837c05274852ebc",
       "version_major": 2,
       "version_minor": 0
      },
      "text/plain": [
       "  0%|          | 0/1 [00:00<?, ?it/s]"
      ]
     },
     "metadata": {},
     "output_type": "display_data"
    },
    {
     "name": "stdout",
     "output_type": "stream",
     "text": [
      "SHAP values difference: 2.8117018757711776e-07\n",
      "Background count: 10\n",
      "Background min diff: -2.0464820861816406\n",
      "Background max diff: 2.7457542419433594\n"
     ]
    },
    {
     "data": {
      "application/vnd.jupyter.widget-view+json": {
       "model_id": "82af2154702c4df9b082abb7af233ec3",
       "version_major": 2,
       "version_minor": 0
      },
      "text/plain": [
       "  0%|          | 0/1 [00:00<?, ?it/s]"
      ]
     },
     "metadata": {},
     "output_type": "display_data"
    },
    {
     "name": "stdout",
     "output_type": "stream",
     "text": [
      "SHAP values difference: -1.0291591046041049e-07\n",
      "Background count: 10\n",
      "Background min diff: -4.81805419921875\n",
      "Background max diff: 2.131591796875\n"
     ]
    },
    {
     "data": {
      "application/vnd.jupyter.widget-view+json": {
       "model_id": "01fbb48180c44d698eabf260baf96be9",
       "version_major": 2,
       "version_minor": 0
      },
      "text/plain": [
       "  0%|          | 0/1 [00:00<?, ?it/s]"
      ]
     },
     "metadata": {},
     "output_type": "display_data"
    },
    {
     "name": "stdout",
     "output_type": "stream",
     "text": [
      "SHAP values difference: -1.1102308672406025e-07\n",
      "Background count: 10\n",
      "Background min diff: -1.9724006652832031\n",
      "Background max diff: 1.4571342468261719\n"
     ]
    },
    {
     "data": {
      "application/vnd.jupyter.widget-view+json": {
       "model_id": "fe2f177f88a944a9a51af1858a60c711",
       "version_major": 2,
       "version_minor": 0
      },
      "text/plain": [
       "  0%|          | 0/1 [00:00<?, ?it/s]"
      ]
     },
     "metadata": {},
     "output_type": "display_data"
    },
    {
     "name": "stdout",
     "output_type": "stream",
     "text": [
      "SHAP values difference: 6.004603747555848e-08\n",
      "Background count: 10\n",
      "Background min diff: -1.653778076171875\n",
      "Background max diff: 1.490447998046875\n"
     ]
    },
    {
     "data": {
      "application/vnd.jupyter.widget-view+json": {
       "model_id": "e14a06db597748a6ac12930d3229d942",
       "version_major": 2,
       "version_minor": 0
      },
      "text/plain": [
       "  0%|          | 0/1 [00:00<?, ?it/s]"
      ]
     },
     "metadata": {},
     "output_type": "display_data"
    },
    {
     "name": "stdout",
     "output_type": "stream",
     "text": [
      "SHAP values difference: 6.344474314801118e-07\n",
      "Background count: 10\n",
      "Background min diff: -2.4675369262695312\n",
      "Background max diff: 2.3133163452148438\n"
     ]
    },
    {
     "data": {
      "application/vnd.jupyter.widget-view+json": {
       "model_id": "217061e655ba4f7091b3edc0bf59ebd9",
       "version_major": 2,
       "version_minor": 0
      },
      "text/plain": [
       "  0%|          | 0/1 [00:00<?, ?it/s]"
      ]
     },
     "metadata": {},
     "output_type": "display_data"
    },
    {
     "name": "stdout",
     "output_type": "stream",
     "text": [
      "SHAP values difference: 1.022689978924518e-06\n",
      "SHAP values correction 2\n",
      "Background count: 10\n",
      "Background min diff: -1.9592247009277344\n",
      "Background max diff: 1.9472694396972656\n"
     ]
    },
    {
     "data": {
      "application/vnd.jupyter.widget-view+json": {
       "model_id": "c1e1d00ec9e2436fa7b6b3cc5358be84",
       "version_major": 2,
       "version_minor": 0
      },
      "text/plain": [
       "  0%|          | 0/1 [00:00<?, ?it/s]"
      ]
     },
     "metadata": {},
     "output_type": "display_data"
    },
    {
     "name": "stdout",
     "output_type": "stream",
     "text": [
      "SHAP values difference: -1.6943148750669934e-07\n",
      "Background count: 10\n",
      "Background min diff: -1.5449256896972656\n",
      "Background max diff: 1.0135765075683594\n"
     ]
    },
    {
     "data": {
      "application/vnd.jupyter.widget-view+json": {
       "model_id": "30d3f97c97c34e08bc7b74a52c7ecb0d",
       "version_major": 2,
       "version_minor": 0
      },
      "text/plain": [
       "  0%|          | 0/1 [00:00<?, ?it/s]"
      ]
     },
     "metadata": {},
     "output_type": "display_data"
    },
    {
     "name": "stdout",
     "output_type": "stream",
     "text": [
      "SHAP values difference: -5.785210355213621e-07\n",
      "Background count: 10\n",
      "Background min diff: -2.500181198120117\n",
      "Background max diff: 2.591432571411133\n"
     ]
    },
    {
     "data": {
      "application/vnd.jupyter.widget-view+json": {
       "model_id": "1c0144e1a529431eba7f69a0eb02fe91",
       "version_major": 2,
       "version_minor": 0
      },
      "text/plain": [
       "  0%|          | 0/1 [00:00<?, ?it/s]"
      ]
     },
     "metadata": {},
     "output_type": "display_data"
    },
    {
     "name": "stdout",
     "output_type": "stream",
     "text": [
      "SHAP values difference: 4.680579674953833e-07\n",
      "Background count: 10\n",
      "Background min diff: -2.9385242462158203\n",
      "Background max diff: 2.9636669158935547\n"
     ]
    },
    {
     "data": {
      "application/vnd.jupyter.widget-view+json": {
       "model_id": "b2e20316a60844e3ac5a1d90ab86b191",
       "version_major": 2,
       "version_minor": 0
      },
      "text/plain": [
       "  0%|          | 0/1 [00:00<?, ?it/s]"
      ]
     },
     "metadata": {},
     "output_type": "display_data"
    },
    {
     "name": "stdout",
     "output_type": "stream",
     "text": [
      "SHAP values difference: 2.406891761452812e-07\n",
      "SHAP values correction 2\n",
      "Background count: 10\n",
      "Background min diff: -2.291637420654297\n",
      "Background max diff: 1.2423286437988281\n"
     ]
    },
    {
     "data": {
      "application/vnd.jupyter.widget-view+json": {
       "model_id": "ef63ae95495b4c99a1688ca6d69f8c2f",
       "version_major": 2,
       "version_minor": 0
      },
      "text/plain": [
       "  0%|          | 0/1 [00:00<?, ?it/s]"
      ]
     },
     "metadata": {},
     "output_type": "display_data"
    },
    {
     "name": "stdout",
     "output_type": "stream",
     "text": [
      "SHAP values difference: 5.625996841729375e-07\n",
      "SHAP values correction 2\n",
      "Background count: 10\n",
      "Background min diff: -1.9304656982421875\n",
      "Background max diff: 1.6204071044921875\n"
     ]
    },
    {
     "data": {
      "application/vnd.jupyter.widget-view+json": {
       "model_id": "55b09226584a4c17ad7e708bb59e4d51",
       "version_major": 2,
       "version_minor": 0
      },
      "text/plain": [
       "  0%|          | 0/1 [00:00<?, ?it/s]"
      ]
     },
     "metadata": {},
     "output_type": "display_data"
    },
    {
     "name": "stdout",
     "output_type": "stream",
     "text": [
      "SHAP values difference: 1.7663976592530162e-07\n",
      "SHAP values correction 2\n",
      "Background count: 10\n",
      "Background min diff: -2.244020462036133\n",
      "Background max diff: 2.742185592651367\n"
     ]
    },
    {
     "data": {
      "application/vnd.jupyter.widget-view+json": {
       "model_id": "561a2443be7e41a2b8bb9c38cf262df1",
       "version_major": 2,
       "version_minor": 0
      },
      "text/plain": [
       "  0%|          | 0/1 [00:00<?, ?it/s]"
      ]
     },
     "metadata": {},
     "output_type": "display_data"
    },
    {
     "name": "stdout",
     "output_type": "stream",
     "text": [
      "SHAP values difference: 1.470218720101002e-07\n",
      "SHAP values correction 2\n",
      "Background count: 10\n",
      "Background min diff: -1.2266387939453125\n",
      "Background max diff: 0.3473968505859375\n"
     ]
    },
    {
     "data": {
      "application/vnd.jupyter.widget-view+json": {
       "model_id": "bd3c386bccf74e1f994ec34e8c7c9271",
       "version_major": 2,
       "version_minor": 0
      },
      "text/plain": [
       "  0%|          | 0/1 [00:00<?, ?it/s]"
      ]
     },
     "metadata": {},
     "output_type": "display_data"
    },
    {
     "name": "stdout",
     "output_type": "stream",
     "text": [
      "SHAP values difference: 6.032691501900445e-08\n",
      "Background count: 10\n",
      "Background min diff: -1.2221565246582031\n",
      "Background max diff: 1.3368339538574219\n"
     ]
    },
    {
     "data": {
      "application/vnd.jupyter.widget-view+json": {
       "model_id": "b3e5e8bd16314060a11ee54208f7ebe0",
       "version_major": 2,
       "version_minor": 0
      },
      "text/plain": [
       "  0%|          | 0/1 [00:00<?, ?it/s]"
      ]
     },
     "metadata": {},
     "output_type": "display_data"
    },
    {
     "name": "stdout",
     "output_type": "stream",
     "text": [
      "SHAP values difference: 4.808358635699506e-07\n",
      "SHAP values correction 2\n",
      "Background count: 10\n",
      "Background min diff: -1.7089900970458984\n",
      "Background max diff: 2.3362369537353516\n"
     ]
    },
    {
     "data": {
      "application/vnd.jupyter.widget-view+json": {
       "model_id": "9c917b7f1994497ca779e179e2297447",
       "version_major": 2,
       "version_minor": 0
      },
      "text/plain": [
       "  0%|          | 0/1 [00:00<?, ?it/s]"
      ]
     },
     "metadata": {},
     "output_type": "display_data"
    },
    {
     "name": "stdout",
     "output_type": "stream",
     "text": [
      "SHAP values difference: 6.099491010047586e-07\n",
      "Background count: 10\n",
      "Background min diff: -1.7614917755126953\n",
      "Background max diff: 4.667463302612305\n"
     ]
    },
    {
     "data": {
      "application/vnd.jupyter.widget-view+json": {
       "model_id": "da09d043c32b4ae982d3a18480bed7cb",
       "version_major": 2,
       "version_minor": 0
      },
      "text/plain": [
       "  0%|          | 0/1 [00:00<?, ?it/s]"
      ]
     },
     "metadata": {},
     "output_type": "display_data"
    },
    {
     "name": "stdout",
     "output_type": "stream",
     "text": [
      "SHAP values difference: -1.4895250011193184e-07\n",
      "SHAP values correction 2\n",
      "Background count: 10\n",
      "Background min diff: -1.3005599975585938\n",
      "Background max diff: 0.27347564697265625\n"
     ]
    },
    {
     "data": {
      "application/vnd.jupyter.widget-view+json": {
       "model_id": "0c36f95aa5ea4028bc1e33e070da59fd",
       "version_major": 2,
       "version_minor": 0
      },
      "text/plain": [
       "  0%|          | 0/1 [00:00<?, ?it/s]"
      ]
     },
     "metadata": {},
     "output_type": "display_data"
    },
    {
     "name": "stdout",
     "output_type": "stream",
     "text": [
      "SHAP values difference: -4.2437384450977333e-07\n",
      "Background count: 10\n",
      "Background min diff: -0.9795875549316406\n",
      "Background max diff: 0.9563865661621094\n"
     ]
    },
    {
     "data": {
      "application/vnd.jupyter.widget-view+json": {
       "model_id": "1f446817cd5c494f9c592a97ef2c8848",
       "version_major": 2,
       "version_minor": 0
      },
      "text/plain": [
       "  0%|          | 0/1 [00:00<?, ?it/s]"
      ]
     },
     "metadata": {},
     "output_type": "display_data"
    },
    {
     "name": "stdout",
     "output_type": "stream",
     "text": [
      "SHAP values difference: -5.437317014411747e-07\n",
      "Background count: 10\n",
      "Background min diff: -4.66473388671875\n",
      "Background max diff: 2.284912109375\n"
     ]
    },
    {
     "data": {
      "application/vnd.jupyter.widget-view+json": {
       "model_id": "375597f25b9248e8b8cc10aed3faf956",
       "version_major": 2,
       "version_minor": 0
      },
      "text/plain": [
       "  0%|          | 0/1 [00:00<?, ?it/s]"
      ]
     },
     "metadata": {},
     "output_type": "display_data"
    },
    {
     "name": "stdout",
     "output_type": "stream",
     "text": [
      "SHAP values difference: -1.5319039192718265e-07\n",
      "Background count: 10\n",
      "Background min diff: -4.863285064697266\n",
      "Background max diff: 4.974391937255859\n"
     ]
    },
    {
     "data": {
      "application/vnd.jupyter.widget-view+json": {
       "model_id": "67d10dde02a547f49fa1a7b32d4dbdcc",
       "version_major": 2,
       "version_minor": 0
      },
      "text/plain": [
       "  0%|          | 0/1 [00:00<?, ?it/s]"
      ]
     },
     "metadata": {},
     "output_type": "display_data"
    },
    {
     "name": "stdout",
     "output_type": "stream",
     "text": [
      "SHAP values difference: 1.6379464717886094e-07\n",
      "SHAP values correction 2\n",
      "Background count: 10\n",
      "Background min diff: -2.1054630279541016\n",
      "Background max diff: 1.4285030364990234\n"
     ]
    },
    {
     "data": {
      "application/vnd.jupyter.widget-view+json": {
       "model_id": "14a95bdec74a4996850e801c569f073e",
       "version_major": 2,
       "version_minor": 0
      },
      "text/plain": [
       "  0%|          | 0/1 [00:00<?, ?it/s]"
      ]
     },
     "metadata": {},
     "output_type": "display_data"
    },
    {
     "name": "stdout",
     "output_type": "stream",
     "text": [
      "SHAP values difference: 3.3967263490808364e-07\n",
      "Background count: 10\n",
      "Background min diff: -0.9712791442871094\n",
      "Background max diff: 0.7901649475097656\n"
     ]
    },
    {
     "data": {
      "application/vnd.jupyter.widget-view+json": {
       "model_id": "cb9f50154996414c92d78bfd3533277b",
       "version_major": 2,
       "version_minor": 0
      },
      "text/plain": [
       "  0%|          | 0/1 [00:00<?, ?it/s]"
      ]
     },
     "metadata": {},
     "output_type": "display_data"
    },
    {
     "name": "stdout",
     "output_type": "stream",
     "text": [
      "SHAP values difference: 4.5130990322661546e-07\n",
      "Background count: 10\n",
      "Background min diff: -2.839883804321289\n",
      "Background max diff: 1.940969467163086\n"
     ]
    },
    {
     "data": {
      "application/vnd.jupyter.widget-view+json": {
       "model_id": "b23e0317188d4e38a81d38da11d8052f",
       "version_major": 2,
       "version_minor": 0
      },
      "text/plain": [
       "  0%|          | 0/1 [00:00<?, ?it/s]"
      ]
     },
     "metadata": {},
     "output_type": "display_data"
    },
    {
     "name": "stdout",
     "output_type": "stream",
     "text": [
      "SHAP values difference: -2.5136322534535793e-07\n",
      "SHAP values correction 2\n",
      "Background count: 10\n",
      "Background min diff: -1.2289962768554688\n",
      "Background max diff: 0.9300918579101562\n"
     ]
    },
    {
     "data": {
      "application/vnd.jupyter.widget-view+json": {
       "model_id": "d34b3f1af37e4906bc19429967902d37",
       "version_major": 2,
       "version_minor": 0
      },
      "text/plain": [
       "  0%|          | 0/1 [00:00<?, ?it/s]"
      ]
     },
     "metadata": {},
     "output_type": "display_data"
    },
    {
     "name": "stdout",
     "output_type": "stream",
     "text": [
      "SHAP values difference: -7.269184916225413e-07\n",
      "SHAP values correction 2\n",
      "Background count: 10\n",
      "Background min diff: -1.2337226867675781\n",
      "Background max diff: 0.5194816589355469\n"
     ]
    },
    {
     "data": {
      "application/vnd.jupyter.widget-view+json": {
       "model_id": "7b17e8a9b8b6449581bb21765f032a2a",
       "version_major": 2,
       "version_minor": 0
      },
      "text/plain": [
       "  0%|          | 0/1 [00:00<?, ?it/s]"
      ]
     },
     "metadata": {},
     "output_type": "display_data"
    },
    {
     "name": "stdout",
     "output_type": "stream",
     "text": [
      "SHAP values difference: 2.2683682043833642e-07\n",
      "Background count: 10\n",
      "Background min diff: -2.0039138793945312\n",
      "Background max diff: 1.9044113159179688\n"
     ]
    },
    {
     "data": {
      "application/vnd.jupyter.widget-view+json": {
       "model_id": "1f85e1ac875a41778bb17151f9d4f645",
       "version_major": 2,
       "version_minor": 0
      },
      "text/plain": [
       "  0%|          | 0/1 [00:00<?, ?it/s]"
      ]
     },
     "metadata": {},
     "output_type": "display_data"
    },
    {
     "name": "stdout",
     "output_type": "stream",
     "text": [
      "SHAP values difference: 6.117057367305279e-07\n",
      "SHAP values correction 2\n",
      "Background count: 10\n",
      "Background min diff: -1.0150871276855469\n",
      "Background max diff: 0.7463569641113281\n"
     ]
    },
    {
     "data": {
      "application/vnd.jupyter.widget-view+json": {
       "model_id": "bc2ccf3c88604b27a28fca7fab28602e",
       "version_major": 2,
       "version_minor": 0
      },
      "text/plain": [
       "  0%|          | 0/1 [00:00<?, ?it/s]"
      ]
     },
     "metadata": {},
     "output_type": "display_data"
    },
    {
     "name": "stdout",
     "output_type": "stream",
     "text": [
      "SHAP values difference: 4.110228513098946e-07\n",
      "SHAP values correction 2\n",
      "Background count: 10\n",
      "Background min diff: -2.242227554321289\n",
      "Background max diff: 2.801839828491211\n"
     ]
    },
    {
     "data": {
      "application/vnd.jupyter.widget-view+json": {
       "model_id": "6ed1a83964d74312a4d03ae611747d81",
       "version_major": 2,
       "version_minor": 0
      },
      "text/plain": [
       "  0%|          | 0/1 [00:00<?, ?it/s]"
      ]
     },
     "metadata": {},
     "output_type": "display_data"
    },
    {
     "name": "stdout",
     "output_type": "stream",
     "text": [
      "SHAP values difference: -3.3404895916078203e-07\n",
      "Background count: 10\n",
      "Background min diff: -2.793264389038086\n",
      "Background max diff: 2.542184829711914\n"
     ]
    },
    {
     "data": {
      "application/vnd.jupyter.widget-view+json": {
       "model_id": "ea24e5e09ebf454e826af9f6ec8db7bb",
       "version_major": 2,
       "version_minor": 0
      },
      "text/plain": [
       "  0%|          | 0/1 [00:00<?, ?it/s]"
      ]
     },
     "metadata": {},
     "output_type": "display_data"
    },
    {
     "name": "stdout",
     "output_type": "stream",
     "text": [
      "SHAP values difference: 1.0123586591248568e-07\n",
      "SHAP values correction 2\n",
      "Background count: 10\n",
      "Background min diff: -2.7193984985351562\n",
      "Background max diff: 2.0074081420898438\n"
     ]
    },
    {
     "data": {
      "application/vnd.jupyter.widget-view+json": {
       "model_id": "01e4a556d2b14e9e926a6af7aee8599d",
       "version_major": 2,
       "version_minor": 0
      },
      "text/plain": [
       "  0%|          | 0/1 [00:00<?, ?it/s]"
      ]
     },
     "metadata": {},
     "output_type": "display_data"
    },
    {
     "name": "stdout",
     "output_type": "stream",
     "text": [
      "SHAP values difference: -2.0063949790483093e-07\n",
      "SHAP values correction 2\n",
      "Background count: 10\n",
      "Background min diff: -2.489229202270508\n",
      "Background max diff: 2.602384567260742\n"
     ]
    },
    {
     "data": {
      "application/vnd.jupyter.widget-view+json": {
       "model_id": "62b93bc2a09c436cb8e95f2dddb19f99",
       "version_major": 2,
       "version_minor": 0
      },
      "text/plain": [
       "  0%|          | 0/1 [00:00<?, ?it/s]"
      ]
     },
     "metadata": {},
     "output_type": "display_data"
    },
    {
     "name": "stdout",
     "output_type": "stream",
     "text": [
      "SHAP values difference: 8.870681380557244e-07\n",
      "Background count: 10\n",
      "Background min diff: -1.86749267578125\n",
      "Background max diff: 1.683380126953125\n"
     ]
    },
    {
     "data": {
      "application/vnd.jupyter.widget-view+json": {
       "model_id": "35e81462fda94c52af9f936de1e301cb",
       "version_major": 2,
       "version_minor": 0
      },
      "text/plain": [
       "  0%|          | 0/1 [00:00<?, ?it/s]"
      ]
     },
     "metadata": {},
     "output_type": "display_data"
    },
    {
     "name": "stdout",
     "output_type": "stream",
     "text": [
      "SHAP values difference: 4.7156717641883006e-08\n",
      "Background count: 10\n",
      "Background min diff: -0.7362060546875\n",
      "Background max diff: 1.06494140625\n"
     ]
    },
    {
     "data": {
      "application/vnd.jupyter.widget-view+json": {
       "model_id": "97dd3853b1064f45be720f1f53bec010",
       "version_major": 2,
       "version_minor": 0
      },
      "text/plain": [
       "  0%|          | 0/1 [00:00<?, ?it/s]"
      ]
     },
     "metadata": {},
     "output_type": "display_data"
    },
    {
     "name": "stdout",
     "output_type": "stream",
     "text": [
      "SHAP values difference: 3.7264733521169546e-08\n",
      "Background count: 10\n",
      "Background min diff: -1.0338516235351562\n",
      "Background max diff: 1.4488754272460938\n"
     ]
    },
    {
     "data": {
      "application/vnd.jupyter.widget-view+json": {
       "model_id": "139c579d56654b0cb94238602e7409bb",
       "version_major": 2,
       "version_minor": 0
      },
      "text/plain": [
       "  0%|          | 0/1 [00:00<?, ?it/s]"
      ]
     },
     "metadata": {},
     "output_type": "display_data"
    },
    {
     "name": "stdout",
     "output_type": "stream",
     "text": [
      "SHAP values difference: -2.6170477696041416e-07\n",
      "Background count: 10\n",
      "Background min diff: -8.102161407470703\n",
      "Background max diff: 1.7355155944824219\n"
     ]
    },
    {
     "data": {
      "application/vnd.jupyter.widget-view+json": {
       "model_id": "968ade4635a2494388e2354d1558c5b7",
       "version_major": 2,
       "version_minor": 0
      },
      "text/plain": [
       "  0%|          | 0/1 [00:00<?, ?it/s]"
      ]
     },
     "metadata": {},
     "output_type": "display_data"
    },
    {
     "name": "stdout",
     "output_type": "stream",
     "text": [
      "SHAP values difference: -5.258400186392009e-07\n",
      "Background count: 10\n",
      "Background min diff: -2.0607528686523438\n",
      "Background max diff: 2.3873977661132812\n"
     ]
    },
    {
     "data": {
      "application/vnd.jupyter.widget-view+json": {
       "model_id": "d2c73769f6bd47f98292c30b3943d694",
       "version_major": 2,
       "version_minor": 0
      },
      "text/plain": [
       "  0%|          | 0/1 [00:00<?, ?it/s]"
      ]
     },
     "metadata": {},
     "output_type": "display_data"
    },
    {
     "name": "stdout",
     "output_type": "stream",
     "text": [
      "SHAP values difference: 2.2326304360831273e-08\n",
      "SHAP values correction 2\n",
      "Background count: 10\n",
      "Background min diff: -1.2139434814453125\n",
      "Background max diff: 1.3450469970703125\n"
     ]
    },
    {
     "data": {
      "application/vnd.jupyter.widget-view+json": {
       "model_id": "29f8a183df30407bbbc993b5783b579f",
       "version_major": 2,
       "version_minor": 0
      },
      "text/plain": [
       "  0%|          | 0/1 [00:00<?, ?it/s]"
      ]
     },
     "metadata": {},
     "output_type": "display_data"
    },
    {
     "name": "stdout",
     "output_type": "stream",
     "text": [
      "SHAP values difference: -1.2855164399638852e-07\n",
      "SHAP values correction 2\n",
      "Background count: 10\n",
      "Background min diff: -1.0150871276855469\n",
      "Background max diff: 0.7463569641113281\n"
     ]
    },
    {
     "data": {
      "application/vnd.jupyter.widget-view+json": {
       "model_id": "beb5bee24ca946119c3c5ff31f000492",
       "version_major": 2,
       "version_minor": 0
      },
      "text/plain": [
       "  0%|          | 0/1 [00:00<?, ?it/s]"
      ]
     },
     "metadata": {},
     "output_type": "display_data"
    },
    {
     "name": "stdout",
     "output_type": "stream",
     "text": [
      "SHAP values difference: -5.058708296701298e-07\n",
      "Background count: 10\n",
      "Background min diff: -1.5012378692626953\n",
      "Background max diff: 0.9043407440185547\n"
     ]
    },
    {
     "data": {
      "application/vnd.jupyter.widget-view+json": {
       "model_id": "04880eec0d214698b37d066b79bf7b59",
       "version_major": 2,
       "version_minor": 0
      },
      "text/plain": [
       "  0%|          | 0/1 [00:00<?, ?it/s]"
      ]
     },
     "metadata": {},
     "output_type": "display_data"
    },
    {
     "name": "stdout",
     "output_type": "stream",
     "text": [
      "SHAP values difference: 8.056009903611994e-08\n",
      "SHAP values correction 2\n",
      "Background count: 10\n",
      "Background min diff: -0.8974990844726562\n",
      "Background max diff: 0.8774642944335938\n"
     ]
    },
    {
     "data": {
      "application/vnd.jupyter.widget-view+json": {
       "model_id": "5832d1cf3bd8442492435256427e9397",
       "version_major": 2,
       "version_minor": 0
      },
      "text/plain": [
       "  0%|          | 0/1 [00:00<?, ?it/s]"
      ]
     },
     "metadata": {},
     "output_type": "display_data"
    },
    {
     "name": "stdout",
     "output_type": "stream",
     "text": [
      "SHAP values difference: 8.003593165994971e-08\n",
      "SHAP values correction 1\n",
      "Background count: 10\n",
      "Background min diff: -2.9606704711914062\n",
      "Background max diff: 3.4682846069335938\n"
     ]
    },
    {
     "data": {
      "application/vnd.jupyter.widget-view+json": {
       "model_id": "69b4946dc1604eb6a226375b40b29c8e",
       "version_major": 2,
       "version_minor": 0
      },
      "text/plain": [
       "  0%|          | 0/1 [00:00<?, ?it/s]"
      ]
     },
     "metadata": {},
     "output_type": "display_data"
    },
    {
     "name": "stdout",
     "output_type": "stream",
     "text": [
      "SHAP values difference: 5.6813238558106605e-09\n",
      "SHAP values correction 2\n",
      "Background count: 10\n",
      "Background min diff: -1.70135498046875\n",
      "Background max diff: 1.728179931640625\n"
     ]
    },
    {
     "data": {
      "application/vnd.jupyter.widget-view+json": {
       "model_id": "d35e901c1631452186bb4690d064b4b4",
       "version_major": 2,
       "version_minor": 0
      },
      "text/plain": [
       "  0%|          | 0/1 [00:00<?, ?it/s]"
      ]
     },
     "metadata": {},
     "output_type": "display_data"
    },
    {
     "name": "stdout",
     "output_type": "stream",
     "text": [
      "SHAP values difference: 1.1912199049390892e-07\n",
      "SHAP values correction 2\n",
      "Background count: 10\n",
      "Background min diff: -5.183612823486328\n",
      "Background max diff: 4.654064178466797\n"
     ]
    },
    {
     "data": {
      "application/vnd.jupyter.widget-view+json": {
       "model_id": "5dd777be28a744deb3e37c842e37323c",
       "version_major": 2,
       "version_minor": 0
      },
      "text/plain": [
       "  0%|          | 0/1 [00:00<?, ?it/s]"
      ]
     },
     "metadata": {},
     "output_type": "display_data"
    },
    {
     "name": "stdout",
     "output_type": "stream",
     "text": [
      "SHAP values difference: -4.575520691219026e-07\n",
      "SHAP values correction 2\n",
      "Background count: 10\n",
      "Background min diff: -1.9605789184570312\n",
      "Background max diff: 1.5902938842773438\n"
     ]
    },
    {
     "data": {
      "application/vnd.jupyter.widget-view+json": {
       "model_id": "9c3cad0b9a5c4505ab7265723636f90e",
       "version_major": 2,
       "version_minor": 0
      },
      "text/plain": [
       "  0%|          | 0/1 [00:00<?, ?it/s]"
      ]
     },
     "metadata": {},
     "output_type": "display_data"
    },
    {
     "name": "stdout",
     "output_type": "stream",
     "text": [
      "SHAP values difference: 4.602585974566864e-07\n",
      "SHAP values correction 2\n",
      "Background count: 10\n",
      "Background min diff: -0.9869041442871094\n",
      "Background max diff: 1.3330726623535156\n"
     ]
    },
    {
     "data": {
      "application/vnd.jupyter.widget-view+json": {
       "model_id": "f52cf1dcbb664cf196525ef1a7d0511b",
       "version_major": 2,
       "version_minor": 0
      },
      "text/plain": [
       "  0%|          | 0/1 [00:00<?, ?it/s]"
      ]
     },
     "metadata": {},
     "output_type": "display_data"
    },
    {
     "name": "stdout",
     "output_type": "stream",
     "text": [
      "SHAP values difference: 1.2235595336917982e-07\n",
      "SHAP values correction 2\n",
      "Background count: 10\n",
      "Background min diff: -1.8455238342285156\n",
      "Background max diff: 2.5144309997558594\n"
     ]
    },
    {
     "data": {
      "application/vnd.jupyter.widget-view+json": {
       "model_id": "39d8e6d49b3a4050b4df863dc5edd183",
       "version_major": 2,
       "version_minor": 0
      },
      "text/plain": [
       "  0%|          | 0/1 [00:00<?, ?it/s]"
      ]
     },
     "metadata": {},
     "output_type": "display_data"
    },
    {
     "name": "stdout",
     "output_type": "stream",
     "text": [
      "SHAP values difference: 3.9372253013425507e-07\n",
      "Background count: 10\n",
      "Background min diff: -0.8865470886230469\n",
      "Background max diff: 0.8884162902832031\n"
     ]
    },
    {
     "data": {
      "application/vnd.jupyter.widget-view+json": {
       "model_id": "b6f0af6c7c774be38bf268392ae4a3f1",
       "version_major": 2,
       "version_minor": 0
      },
      "text/plain": [
       "  0%|          | 0/1 [00:00<?, ?it/s]"
      ]
     },
     "metadata": {},
     "output_type": "display_data"
    },
    {
     "name": "stdout",
     "output_type": "stream",
     "text": [
      "SHAP values difference: 2.685596740548135e-07\n",
      "Background count: 10\n",
      "Background min diff: -1.7941551208496094\n",
      "Background max diff: 1.7797889709472656\n"
     ]
    },
    {
     "data": {
      "application/vnd.jupyter.widget-view+json": {
       "model_id": "417be50e2a464046996c7319f8aeb1b6",
       "version_major": 2,
       "version_minor": 0
      },
      "text/plain": [
       "  0%|          | 0/1 [00:00<?, ?it/s]"
      ]
     },
     "metadata": {},
     "output_type": "display_data"
    },
    {
     "name": "stdout",
     "output_type": "stream",
     "text": [
      "SHAP values difference: -1.2998464171687374e-07\n",
      "Background count: 10\n",
      "Background min diff: -6.453975677490234\n",
      "Background max diff: 3.3837013244628906\n"
     ]
    },
    {
     "data": {
      "application/vnd.jupyter.widget-view+json": {
       "model_id": "77740b68e3474ac4b18e425b277adf17",
       "version_major": 2,
       "version_minor": 0
      },
      "text/plain": [
       "  0%|          | 0/1 [00:00<?, ?it/s]"
      ]
     },
     "metadata": {},
     "output_type": "display_data"
    },
    {
     "name": "stdout",
     "output_type": "stream",
     "text": [
      "SHAP values difference: 6.911824756983265e-08\n",
      "SHAP values correction 2\n",
      "Background count: 10\n",
      "Background min diff: -25.278884887695312\n",
      "Background max diff: -7.0853424072265625\n"
     ]
    },
    {
     "data": {
      "application/vnd.jupyter.widget-view+json": {
       "model_id": "211e73e8e9a346e7a7d63dd041a98aa3",
       "version_major": 2,
       "version_minor": 0
      },
      "text/plain": [
       "  0%|          | 0/1 [00:00<?, ?it/s]"
      ]
     },
     "metadata": {},
     "output_type": "display_data"
    },
    {
     "name": "stdout",
     "output_type": "stream",
     "text": [
      "SHAP values difference: -2.8098906312834515e-07\n",
      "Background count: 10\n",
      "Background min diff: -1.8187103271484375\n",
      "Background max diff: 1.8346710205078125\n"
     ]
    },
    {
     "data": {
      "application/vnd.jupyter.widget-view+json": {
       "model_id": "cf4e389bc3944ef5b6390c0dd409f379",
       "version_major": 2,
       "version_minor": 0
      },
      "text/plain": [
       "  0%|          | 0/1 [00:00<?, ?it/s]"
      ]
     },
     "metadata": {},
     "output_type": "display_data"
    },
    {
     "name": "stdout",
     "output_type": "stream",
     "text": [
      "SHAP values difference: 4.0318489613611064e-07\n",
      "SHAP values correction 1\n",
      "Background count: 10\n",
      "Background min diff: -2.4768333435058594\n",
      "Background max diff: 2.1517372131347656\n"
     ]
    },
    {
     "data": {
      "application/vnd.jupyter.widget-view+json": {
       "model_id": "70c188fb6cbd4da19c90c0544779591b",
       "version_major": 2,
       "version_minor": 0
      },
      "text/plain": [
       "  0%|          | 0/1 [00:00<?, ?it/s]"
      ]
     },
     "metadata": {},
     "output_type": "display_data"
    },
    {
     "name": "stdout",
     "output_type": "stream",
     "text": [
      "SHAP values difference: -7.243475153018153e-09\n",
      "Background count: 10\n",
      "Background min diff: -0.9192619323730469\n",
      "Background max diff: 0.8421821594238281\n"
     ]
    },
    {
     "data": {
      "application/vnd.jupyter.widget-view+json": {
       "model_id": "cc2de14c47704e7aa396d92d1552ebbf",
       "version_major": 2,
       "version_minor": 0
      },
      "text/plain": [
       "  0%|          | 0/1 [00:00<?, ?it/s]"
      ]
     },
     "metadata": {},
     "output_type": "display_data"
    },
    {
     "name": "stdout",
     "output_type": "stream",
     "text": [
      "SHAP values difference: -2.168496777699147e-07\n",
      "SHAP values correction 2\n",
      "Background count: 10\n",
      "Background min diff: -1.21600341796875\n",
      "Background max diff: 1.213409423828125\n"
     ]
    },
    {
     "data": {
      "application/vnd.jupyter.widget-view+json": {
       "model_id": "e935492f2d064f5c89946a217eb17717",
       "version_major": 2,
       "version_minor": 0
      },
      "text/plain": [
       "  0%|          | 0/1 [00:00<?, ?it/s]"
      ]
     },
     "metadata": {},
     "output_type": "display_data"
    },
    {
     "name": "stdout",
     "output_type": "stream",
     "text": [
      "SHAP values difference: 2.182289691177175e-07\n",
      "Background count: 10\n",
      "Background min diff: -2.2297439575195312\n",
      "Background max diff: 2.1537704467773438\n"
     ]
    },
    {
     "data": {
      "application/vnd.jupyter.widget-view+json": {
       "model_id": "85de3078b6f943a5b29bc0443e4ae564",
       "version_major": 2,
       "version_minor": 0
      },
      "text/plain": [
       "  0%|          | 0/1 [00:00<?, ?it/s]"
      ]
     },
     "metadata": {},
     "output_type": "display_data"
    },
    {
     "name": "stdout",
     "output_type": "stream",
     "text": [
      "SHAP values difference: 3.8193755003135266e-07\n",
      "SHAP values correction 2\n",
      "Background count: 10\n",
      "Background min diff: -0.8022727966308594\n",
      "Background max diff: 0.7717628479003906\n"
     ]
    },
    {
     "data": {
      "application/vnd.jupyter.widget-view+json": {
       "model_id": "aeae956656b544bb8c8990fa9cc607de",
       "version_major": 2,
       "version_minor": 0
      },
      "text/plain": [
       "  0%|          | 0/1 [00:00<?, ?it/s]"
      ]
     },
     "metadata": {},
     "output_type": "display_data"
    },
    {
     "name": "stdout",
     "output_type": "stream",
     "text": [
      "SHAP values difference: -7.630688259041563e-08\n",
      "Background count: 10\n",
      "Background min diff: -2.5026092529296875\n",
      "Background max diff: 1.8573455810546875\n"
     ]
    },
    {
     "data": {
      "application/vnd.jupyter.widget-view+json": {
       "model_id": "9601f9e4c2ca44f090026e52f440eea4",
       "version_major": 2,
       "version_minor": 0
      },
      "text/plain": [
       "  0%|          | 0/1 [00:00<?, ?it/s]"
      ]
     },
     "metadata": {},
     "output_type": "display_data"
    },
    {
     "name": "stdout",
     "output_type": "stream",
     "text": [
      "SHAP values difference: -3.256475960000671e-07\n",
      "SHAP values correction 2\n",
      "Background count: 10\n",
      "Background min diff: -1.5083961486816406\n",
      "Background max diff: 1.3960227966308594\n"
     ]
    },
    {
     "data": {
      "application/vnd.jupyter.widget-view+json": {
       "model_id": "fb2d448a06504e95a7419438cbbf0563",
       "version_major": 2,
       "version_minor": 0
      },
      "text/plain": [
       "  0%|          | 0/1 [00:00<?, ?it/s]"
      ]
     },
     "metadata": {},
     "output_type": "display_data"
    },
    {
     "name": "stdout",
     "output_type": "stream",
     "text": [
      "SHAP values difference: -3.931643348664693e-07\n",
      "SHAP values correction 1\n",
      "Background count: 10\n",
      "Background min diff: -1.8209495544433594\n",
      "Background max diff: 1.7299232482910156\n"
     ]
    },
    {
     "data": {
      "application/vnd.jupyter.widget-view+json": {
       "model_id": "3938475629cf4408901977c25c19b35b",
       "version_major": 2,
       "version_minor": 0
      },
      "text/plain": [
       "  0%|          | 0/1 [00:00<?, ?it/s]"
      ]
     },
     "metadata": {},
     "output_type": "display_data"
    },
    {
     "name": "stdout",
     "output_type": "stream",
     "text": [
      "SHAP values difference: -7.405239443869505e-08\n",
      "Background count: 10\n",
      "Background min diff: -1.27740478515625\n",
      "Background max diff: 1.307830810546875\n"
     ]
    },
    {
     "data": {
      "application/vnd.jupyter.widget-view+json": {
       "model_id": "d99a667d93f944f8a1dc5ddaedd5e0df",
       "version_major": 2,
       "version_minor": 0
      },
      "text/plain": [
       "  0%|          | 0/1 [00:00<?, ?it/s]"
      ]
     },
     "metadata": {},
     "output_type": "display_data"
    },
    {
     "name": "stdout",
     "output_type": "stream",
     "text": [
      "SHAP values difference: -4.3622868872716936e-08\n",
      "Background count: 10\n",
      "Background min diff: -0.7322845458984375\n",
      "Background max diff: 1.5876922607421875\n"
     ]
    },
    {
     "data": {
      "application/vnd.jupyter.widget-view+json": {
       "model_id": "7efc078225be48ecb0b91efbd7151340",
       "version_major": 2,
       "version_minor": 0
      },
      "text/plain": [
       "  0%|          | 0/1 [00:00<?, ?it/s]"
      ]
     },
     "metadata": {},
     "output_type": "display_data"
    },
    {
     "name": "stdout",
     "output_type": "stream",
     "text": [
      "SHAP values difference: -8.278637508851716e-07\n",
      "Background count: 10\n",
      "Background min diff: -1.5686264038085938\n",
      "Background max diff: 1.3357925415039062\n"
     ]
    },
    {
     "data": {
      "application/vnd.jupyter.widget-view+json": {
       "model_id": "9718048ae5624026ad12544c3510daa6",
       "version_major": 2,
       "version_minor": 0
      },
      "text/plain": [
       "  0%|          | 0/1 [00:00<?, ?it/s]"
      ]
     },
     "metadata": {},
     "output_type": "display_data"
    },
    {
     "name": "stdout",
     "output_type": "stream",
     "text": [
      "SHAP values difference: 1.9256607686202187e-07\n",
      "Background count: 10\n",
      "Background min diff: -1.4128456115722656\n",
      "Background max diff: 1.7313804626464844\n"
     ]
    },
    {
     "data": {
      "application/vnd.jupyter.widget-view+json": {
       "model_id": "fc3ee97222754197b4ff85a5b8bd3b46",
       "version_major": 2,
       "version_minor": 0
      },
      "text/plain": [
       "  0%|          | 0/1 [00:00<?, ?it/s]"
      ]
     },
     "metadata": {},
     "output_type": "display_data"
    },
    {
     "name": "stdout",
     "output_type": "stream",
     "text": [
      "SHAP values difference: -2.5048412366501793e-07\n",
      "SHAP values correction 1\n",
      "SHAP values correction 2\n",
      "Background count: 10\n",
      "Background min diff: -0.8183403015136719\n",
      "Background max diff: 0.9828071594238281\n"
     ]
    },
    {
     "data": {
      "application/vnd.jupyter.widget-view+json": {
       "model_id": "15b75b4904a146c2a3168ab3ddcbe9ac",
       "version_major": 2,
       "version_minor": 0
      },
      "text/plain": [
       "  0%|          | 0/1 [00:00<?, ?it/s]"
      ]
     },
     "metadata": {},
     "output_type": "display_data"
    },
    {
     "name": "stdout",
     "output_type": "stream",
     "text": [
      "SHAP values difference: -4.650689220397908e-07\n",
      "Background count: 10\n",
      "Background min diff: -1.3717803955078125\n",
      "Background max diff: 1.7724456787109375\n"
     ]
    },
    {
     "data": {
      "application/vnd.jupyter.widget-view+json": {
       "model_id": "a2f605d3841447ecb12cadf2cb66e593",
       "version_major": 2,
       "version_minor": 0
      },
      "text/plain": [
       "  0%|          | 0/1 [00:00<?, ?it/s]"
      ]
     },
     "metadata": {},
     "output_type": "display_data"
    },
    {
     "name": "stdout",
     "output_type": "stream",
     "text": [
      "SHAP values difference: -1.635060797866572e-07\n",
      "Background count: 10\n",
      "Background min diff: -1.6099128723144531\n",
      "Background max diff: 1.9240531921386719\n"
     ]
    },
    {
     "data": {
      "application/vnd.jupyter.widget-view+json": {
       "model_id": "ea7acbae8ad4405587fb79d186421302",
       "version_major": 2,
       "version_minor": 0
      },
      "text/plain": [
       "  0%|          | 0/1 [00:00<?, ?it/s]"
      ]
     },
     "metadata": {},
     "output_type": "display_data"
    },
    {
     "name": "stdout",
     "output_type": "stream",
     "text": [
      "SHAP values difference: -9.309069213259136e-07\n",
      "Background count: 10\n",
      "Background min diff: -0.9681396484375\n",
      "Background max diff: 1.51458740234375\n"
     ]
    },
    {
     "data": {
      "application/vnd.jupyter.widget-view+json": {
       "model_id": "e498feea70e74fcbbda2df0088f96b50",
       "version_major": 2,
       "version_minor": 0
      },
      "text/plain": [
       "  0%|          | 0/1 [00:00<?, ?it/s]"
      ]
     },
     "metadata": {},
     "output_type": "display_data"
    },
    {
     "name": "stdout",
     "output_type": "stream",
     "text": [
      "SHAP values difference: -1.8400458223766236e-07\n",
      "SHAP values correction 2\n",
      "Background count: 10\n",
      "Background min diff: -10.948974609375\n",
      "Background max diff: 7.24456787109375\n"
     ]
    },
    {
     "data": {
      "application/vnd.jupyter.widget-view+json": {
       "model_id": "476e0af55203486ba4f8d13441c2f2d2",
       "version_major": 2,
       "version_minor": 0
      },
      "text/plain": [
       "  0%|          | 0/1 [00:00<?, ?it/s]"
      ]
     },
     "metadata": {},
     "output_type": "display_data"
    },
    {
     "name": "stdout",
     "output_type": "stream",
     "text": [
      "SHAP values difference: 4.510217621600532e-07\n",
      "Background count: 10\n",
      "Background min diff: -2.220325469970703\n",
      "Background max diff: 2.823741912841797\n"
     ]
    },
    {
     "data": {
      "application/vnd.jupyter.widget-view+json": {
       "model_id": "f5abeed815234252a2d77dbbe54708a4",
       "version_major": 2,
       "version_minor": 0
      },
      "text/plain": [
       "  0%|          | 0/1 [00:00<?, ?it/s]"
      ]
     },
     "metadata": {},
     "output_type": "display_data"
    },
    {
     "name": "stdout",
     "output_type": "stream",
     "text": [
      "SHAP values difference: -4.033479896747849e-07\n",
      "Background count: 10\n",
      "Background min diff: -4.388210296630859\n",
      "Background max diff: 2.5614356994628906\n"
     ]
    },
    {
     "data": {
      "application/vnd.jupyter.widget-view+json": {
       "model_id": "a1f3e86075d0437d8ef9c03519426515",
       "version_major": 2,
       "version_minor": 0
      },
      "text/plain": [
       "  0%|          | 0/1 [00:00<?, ?it/s]"
      ]
     },
     "metadata": {},
     "output_type": "display_data"
    },
    {
     "name": "stdout",
     "output_type": "stream",
     "text": [
      "SHAP values difference: 2.4237067464127904e-08\n",
      "Background count: 10\n",
      "Background min diff: -0.4178466796875\n",
      "Background max diff: 1.335357666015625\n"
     ]
    },
    {
     "data": {
      "application/vnd.jupyter.widget-view+json": {
       "model_id": "9aa73b0c48d149979cb381b07a143063",
       "version_major": 2,
       "version_minor": 0
      },
      "text/plain": [
       "  0%|          | 0/1 [00:00<?, ?it/s]"
      ]
     },
     "metadata": {},
     "output_type": "display_data"
    },
    {
     "name": "stdout",
     "output_type": "stream",
     "text": [
      "SHAP values difference: -8.927741816933121e-07\n",
      "Background count: 10\n",
      "Background min diff: -1.1290473937988281\n",
      "Background max diff: 5.299907684326172\n"
     ]
    },
    {
     "data": {
      "application/vnd.jupyter.widget-view+json": {
       "model_id": "d229988ea36042fea8d4b7b0a3642e6c",
       "version_major": 2,
       "version_minor": 0
      },
      "text/plain": [
       "  0%|          | 0/1 [00:00<?, ?it/s]"
      ]
     },
     "metadata": {},
     "output_type": "display_data"
    },
    {
     "name": "stdout",
     "output_type": "stream",
     "text": [
      "SHAP values difference: -3.24388693684341e-08\n",
      "SHAP values correction 2\n",
      "Background count: 10\n",
      "Background min diff: -2.8256759643554688\n",
      "Background max diff: 1.5342788696289062\n"
     ]
    },
    {
     "data": {
      "application/vnd.jupyter.widget-view+json": {
       "model_id": "c587face702e4ea8aea067c63bc4d61a",
       "version_major": 2,
       "version_minor": 0
      },
      "text/plain": [
       "  0%|          | 0/1 [00:00<?, ?it/s]"
      ]
     },
     "metadata": {},
     "output_type": "display_data"
    },
    {
     "name": "stdout",
     "output_type": "stream",
     "text": [
      "SHAP values difference: 1.4430863792824766e-07\n",
      "SHAP values correction 2\n",
      "Background count: 10\n",
      "Background min diff: -1.2676315307617188\n",
      "Background max diff: 0.8342666625976562\n"
     ]
    },
    {
     "data": {
      "application/vnd.jupyter.widget-view+json": {
       "model_id": "c94b6a5def494ebfa01ea4f1d3d5641c",
       "version_major": 2,
       "version_minor": 0
      },
      "text/plain": [
       "  0%|          | 0/1 [00:00<?, ?it/s]"
      ]
     },
     "metadata": {},
     "output_type": "display_data"
    },
    {
     "name": "stdout",
     "output_type": "stream",
     "text": [
      "SHAP values difference: -1.4834823502951622e-07\n",
      "Background count: 10\n",
      "Background min diff: -1.0205612182617188\n",
      "Background max diff: 0.7408828735351562\n"
     ]
    },
    {
     "data": {
      "application/vnd.jupyter.widget-view+json": {
       "model_id": "7b5e18a0f0f64e36ac67ad38f8cb5963",
       "version_major": 2,
       "version_minor": 0
      },
      "text/plain": [
       "  0%|          | 0/1 [00:00<?, ?it/s]"
      ]
     },
     "metadata": {},
     "output_type": "display_data"
    },
    {
     "name": "stdout",
     "output_type": "stream",
     "text": [
      "SHAP values difference: -1.0942448369632984e-07\n",
      "Background count: 10\n",
      "Background min diff: -0.9432029724121094\n",
      "Background max diff: 1.0025978088378906\n"
     ]
    },
    {
     "data": {
      "application/vnd.jupyter.widget-view+json": {
       "model_id": "4959558afed74c4db0c0e8b54ad3fc7f",
       "version_major": 2,
       "version_minor": 0
      },
      "text/plain": [
       "  0%|          | 0/1 [00:00<?, ?it/s]"
      ]
     },
     "metadata": {},
     "output_type": "display_data"
    },
    {
     "name": "stdout",
     "output_type": "stream",
     "text": [
      "SHAP values difference: -7.34857650286358e-08\n",
      "Background count: 10\n",
      "Background min diff: -24.427413940429688\n",
      "Background max diff: -6.2338714599609375\n"
     ]
    },
    {
     "data": {
      "application/vnd.jupyter.widget-view+json": {
       "model_id": "1bec8d23ac0e43398712cfa3255245f6",
       "version_major": 2,
       "version_minor": 0
      },
      "text/plain": [
       "  0%|          | 0/1 [00:00<?, ?it/s]"
      ]
     },
     "metadata": {},
     "output_type": "display_data"
    },
    {
     "name": "stdout",
     "output_type": "stream",
     "text": [
      "SHAP values difference: 2.3422286687946325e-07\n",
      "Background count: 10\n",
      "Background min diff: -1.2167243957519531\n",
      "Background max diff: 1.4899101257324219\n"
     ]
    },
    {
     "data": {
      "application/vnd.jupyter.widget-view+json": {
       "model_id": "8ddedbe1bd47404d8059c6b35568f528",
       "version_major": 2,
       "version_minor": 0
      },
      "text/plain": [
       "  0%|          | 0/1 [00:00<?, ?it/s]"
      ]
     },
     "metadata": {},
     "output_type": "display_data"
    },
    {
     "name": "stdout",
     "output_type": "stream",
     "text": [
      "SHAP values difference: -3.772261827350576e-07\n",
      "SHAP values correction 2\n",
      "Background count: 10\n",
      "Background min diff: -1.967437744140625\n",
      "Background max diff: 1.939056396484375\n"
     ]
    },
    {
     "data": {
      "application/vnd.jupyter.widget-view+json": {
       "model_id": "2ef64d786d99489da9a6c870bf3c97c5",
       "version_major": 2,
       "version_minor": 0
      },
      "text/plain": [
       "  0%|          | 0/1 [00:00<?, ?it/s]"
      ]
     },
     "metadata": {},
     "output_type": "display_data"
    },
    {
     "name": "stdout",
     "output_type": "stream",
     "text": [
      "SHAP values difference: 6.070796398915945e-07\n",
      "SHAP values correction 2\n",
      "Background count: 10\n",
      "Background min diff: -1.5804786682128906\n",
      "Background max diff: 1.7730064392089844\n"
     ]
    },
    {
     "data": {
      "application/vnd.jupyter.widget-view+json": {
       "model_id": "335fb7264b1d46fead345ffd512f89c2",
       "version_major": 2,
       "version_minor": 0
      },
      "text/plain": [
       "  0%|          | 0/1 [00:00<?, ?it/s]"
      ]
     },
     "metadata": {},
     "output_type": "display_data"
    },
    {
     "name": "stdout",
     "output_type": "stream",
     "text": [
      "SHAP values difference: 5.095068686955528e-07\n",
      "Background count: 10\n",
      "Background min diff: -1.9521446228027344\n",
      "Background max diff: 1.5818214416503906\n"
     ]
    },
    {
     "data": {
      "application/vnd.jupyter.widget-view+json": {
       "model_id": "33b1458098314ca28772f0441d63e565",
       "version_major": 2,
       "version_minor": 0
      },
      "text/plain": [
       "  0%|          | 0/1 [00:00<?, ?it/s]"
      ]
     },
     "metadata": {},
     "output_type": "display_data"
    },
    {
     "name": "stdout",
     "output_type": "stream",
     "text": [
      "SHAP values difference: 4.0390311184523853e-07\n",
      "SHAP values correction 2\n",
      "Background count: 10\n",
      "Background min diff: -0.8101272583007812\n",
      "Background max diff: 0.9910202026367188\n"
     ]
    },
    {
     "data": {
      "application/vnd.jupyter.widget-view+json": {
       "model_id": "dc244a90263b4fb68720796b59197ba2",
       "version_major": 2,
       "version_minor": 0
      },
      "text/plain": [
       "  0%|          | 0/1 [00:00<?, ?it/s]"
      ]
     },
     "metadata": {},
     "output_type": "display_data"
    },
    {
     "name": "stdout",
     "output_type": "stream",
     "text": [
      "SHAP values difference: -2.6556136134558983e-07\n",
      "SHAP values correction 1\n",
      "SHAP values correction 2\n",
      "Background count: 10\n",
      "Background min diff: -1.5350837707519531\n",
      "Background max diff: 1.5914421081542969\n"
     ]
    },
    {
     "data": {
      "application/vnd.jupyter.widget-view+json": {
       "model_id": "dbbcfbaace994ba4bdc0ee91f5219d2d",
       "version_major": 2,
       "version_minor": 0
      },
      "text/plain": [
       "  0%|          | 0/1 [00:00<?, ?it/s]"
      ]
     },
     "metadata": {},
     "output_type": "display_data"
    },
    {
     "name": "stdout",
     "output_type": "stream",
     "text": [
      "SHAP values difference: -4.2549297418759124e-09\n",
      "SHAP values correction 2\n",
      "Background count: 10\n",
      "Background min diff: -12.011260986328125\n",
      "Background max diff: 6.182281494140625\n"
     ]
    },
    {
     "data": {
      "application/vnd.jupyter.widget-view+json": {
       "model_id": "d49fe83f75f5404b80401811693d67a3",
       "version_major": 2,
       "version_minor": 0
      },
      "text/plain": [
       "  0%|          | 0/1 [00:00<?, ?it/s]"
      ]
     },
     "metadata": {},
     "output_type": "display_data"
    },
    {
     "name": "stdout",
     "output_type": "stream",
     "text": [
      "SHAP values difference: 1.0553220022302412e-06\n",
      "Background count: 10\n",
      "Background min diff: -2.6044769287109375\n",
      "Background max diff: 2.5727691650390625\n"
     ]
    },
    {
     "data": {
      "application/vnd.jupyter.widget-view+json": {
       "model_id": "6bf14daa2e3b4109b27fa34e203758d2",
       "version_major": 2,
       "version_minor": 0
      },
      "text/plain": [
       "  0%|          | 0/1 [00:00<?, ?it/s]"
      ]
     },
     "metadata": {},
     "output_type": "display_data"
    },
    {
     "name": "stdout",
     "output_type": "stream",
     "text": [
      "SHAP values difference: -2.5056089114627866e-07\n",
      "SHAP values correction 2\n",
      "Background count: 10\n",
      "Background min diff: -4.967323303222656\n",
      "Background max diff: 4.870353698730469\n"
     ]
    },
    {
     "data": {
      "application/vnd.jupyter.widget-view+json": {
       "model_id": "bb1d04f473434c6f9e7d6e706ff07367",
       "version_major": 2,
       "version_minor": 0
      },
      "text/plain": [
       "  0%|          | 0/1 [00:00<?, ?it/s]"
      ]
     },
     "metadata": {},
     "output_type": "display_data"
    },
    {
     "name": "stdout",
     "output_type": "stream",
     "text": [
      "SHAP values difference: 6.177671707519039e-08\n",
      "SHAP values correction 2\n",
      "Background count: 10\n",
      "Background min diff: -2.0536575317382812\n",
      "Background max diff: 1.9742660522460938\n"
     ]
    },
    {
     "data": {
      "application/vnd.jupyter.widget-view+json": {
       "model_id": "d88e1114d1374ba4afe70ed3d6826236",
       "version_major": 2,
       "version_minor": 0
      },
      "text/plain": [
       "  0%|          | 0/1 [00:00<?, ?it/s]"
      ]
     },
     "metadata": {},
     "output_type": "display_data"
    },
    {
     "name": "stdout",
     "output_type": "stream",
     "text": [
      "SHAP values difference: 3.9022529207954904e-07\n",
      "SHAP values correction 2\n",
      "Background count: 10\n",
      "Background min diff: -1.5242347717285156\n",
      "Background max diff: 1.3640098571777344\n"
     ]
    },
    {
     "data": {
      "application/vnd.jupyter.widget-view+json": {
       "model_id": "33e03f2e5f1046f1876609061d9efe26",
       "version_major": 2,
       "version_minor": 0
      },
      "text/plain": [
       "  0%|          | 0/1 [00:00<?, ?it/s]"
      ]
     },
     "metadata": {},
     "output_type": "display_data"
    },
    {
     "name": "stdout",
     "output_type": "stream",
     "text": [
      "SHAP values difference: 6.905835547854622e-08\n",
      "SHAP values correction 2\n",
      "Background count: 10\n",
      "Background min diff: -2.5845565795898438\n",
      "Background max diff: 2.1413345336914062\n"
     ]
    },
    {
     "data": {
      "application/vnd.jupyter.widget-view+json": {
       "model_id": "27fb43cbd0934eb69a04330dd5a1033a",
       "version_major": 2,
       "version_minor": 0
      },
      "text/plain": [
       "  0%|          | 0/1 [00:00<?, ?it/s]"
      ]
     },
     "metadata": {},
     "output_type": "display_data"
    },
    {
     "name": "stdout",
     "output_type": "stream",
     "text": [
      "SHAP values difference: 1.9305502974020783e-07\n",
      "SHAP values correction 2\n",
      "Background count: 10\n",
      "Background min diff: -1.8077201843261719\n",
      "Background max diff: 1.5457649230957031\n"
     ]
    },
    {
     "data": {
      "application/vnd.jupyter.widget-view+json": {
       "model_id": "89364f6fc0f240b9a87240f2e3de5241",
       "version_major": 2,
       "version_minor": 0
      },
      "text/plain": [
       "  0%|          | 0/1 [00:00<?, ?it/s]"
      ]
     },
     "metadata": {},
     "output_type": "display_data"
    },
    {
     "name": "stdout",
     "output_type": "stream",
     "text": [
      "SHAP values difference: -2.7429081228547147e-08\n",
      "Background count: 10\n",
      "Background min diff: -15.0447998046875\n",
      "Background max diff: 3.14874267578125\n"
     ]
    },
    {
     "data": {
      "application/vnd.jupyter.widget-view+json": {
       "model_id": "f059c59a9b7944b3ac3d187dab302801",
       "version_major": 2,
       "version_minor": 0
      },
      "text/plain": [
       "  0%|          | 0/1 [00:00<?, ?it/s]"
      ]
     },
     "metadata": {},
     "output_type": "display_data"
    },
    {
     "name": "stdout",
     "output_type": "stream",
     "text": [
      "SHAP values difference: 4.5864030795428334e-07\n",
      "Background count: 10\n",
      "Background min diff: -2.3824520111083984\n",
      "Background max diff: 2.7091617584228516\n"
     ]
    },
    {
     "data": {
      "application/vnd.jupyter.widget-view+json": {
       "model_id": "2568eeea92ae489e99be85a91760b81e",
       "version_major": 2,
       "version_minor": 0
      },
      "text/plain": [
       "  0%|          | 0/1 [00:00<?, ?it/s]"
      ]
     },
     "metadata": {},
     "output_type": "display_data"
    },
    {
     "name": "stdout",
     "output_type": "stream",
     "text": [
      "SHAP values difference: 1.2035141949695571e-07\n",
      "SHAP values correction 2\n",
      "Background count: 10\n",
      "Background min diff: -0.9927940368652344\n",
      "Background max diff: 0.7604103088378906\n"
     ]
    },
    {
     "data": {
      "application/vnd.jupyter.widget-view+json": {
       "model_id": "ce87976b2be84a9ba40aad56eac3e94a",
       "version_major": 2,
       "version_minor": 0
      },
      "text/plain": [
       "  0%|          | 0/1 [00:00<?, ?it/s]"
      ]
     },
     "metadata": {},
     "output_type": "display_data"
    },
    {
     "name": "stdout",
     "output_type": "stream",
     "text": [
      "SHAP values difference: 4.655676519860208e-07\n",
      "Background count: 10\n",
      "Background min diff: -2.7208080291748047\n",
      "Background max diff: 2.5196094512939453\n"
     ]
    },
    {
     "data": {
      "application/vnd.jupyter.widget-view+json": {
       "model_id": "b799150f561142a285d0287ac4102990",
       "version_major": 2,
       "version_minor": 0
      },
      "text/plain": [
       "  0%|          | 0/1 [00:00<?, ?it/s]"
      ]
     },
     "metadata": {},
     "output_type": "display_data"
    },
    {
     "name": "stdout",
     "output_type": "stream",
     "text": [
      "SHAP values difference: -1.0364894365011423e-07\n",
      "Background count: 10\n",
      "Background min diff: -1.8209495544433594\n",
      "Background max diff: 1.7299232482910156\n"
     ]
    },
    {
     "data": {
      "application/vnd.jupyter.widget-view+json": {
       "model_id": "2aa41d198aab4e9daa44719076bbd0cd",
       "version_major": 2,
       "version_minor": 0
      },
      "text/plain": [
       "  0%|          | 0/1 [00:00<?, ?it/s]"
      ]
     },
     "metadata": {},
     "output_type": "display_data"
    },
    {
     "name": "stdout",
     "output_type": "stream",
     "text": [
      "SHAP values difference: -3.447390284350149e-07\n",
      "Background count: 10\n",
      "Background min diff: -2.9488792419433594\n",
      "Background max diff: 1.4110755920410156\n"
     ]
    },
    {
     "data": {
      "application/vnd.jupyter.widget-view+json": {
       "model_id": "160b8d4f80b440e0b0468d3853e3c919",
       "version_major": 2,
       "version_minor": 0
      },
      "text/plain": [
       "  0%|          | 0/1 [00:00<?, ?it/s]"
      ]
     },
     "metadata": {},
     "output_type": "display_data"
    },
    {
     "name": "stdout",
     "output_type": "stream",
     "text": [
      "SHAP values difference: 1.0975520936540306e-07\n",
      "Background count: 10\n",
      "Background min diff: -1.3235015869140625\n",
      "Background max diff: 1.3831329345703125\n"
     ]
    },
    {
     "data": {
      "application/vnd.jupyter.widget-view+json": {
       "model_id": "cfcf315eb1dd45e29bf69a0eb0976449",
       "version_major": 2,
       "version_minor": 0
      },
      "text/plain": [
       "  0%|          | 0/1 [00:00<?, ?it/s]"
      ]
     },
     "metadata": {},
     "output_type": "display_data"
    },
    {
     "name": "stdout",
     "output_type": "stream",
     "text": [
      "SHAP values difference: 8.850826667128331e-07\n",
      "Background count: 10\n",
      "Background min diff: -2.587198257446289\n",
      "Background max diff: 2.456869125366211\n"
     ]
    },
    {
     "data": {
      "application/vnd.jupyter.widget-view+json": {
       "model_id": "cd7335d4881e4083a34569e5fcd8f666",
       "version_major": 2,
       "version_minor": 0
      },
      "text/plain": [
       "  0%|          | 0/1 [00:00<?, ?it/s]"
      ]
     },
     "metadata": {},
     "output_type": "display_data"
    },
    {
     "name": "stdout",
     "output_type": "stream",
     "text": [
      "SHAP values difference: -4.550006416081942e-08\n",
      "SHAP values correction 2\n",
      "Background count: 10\n",
      "Background min diff: -1.08575439453125\n",
      "Background max diff: 1.499481201171875\n"
     ]
    },
    {
     "data": {
      "application/vnd.jupyter.widget-view+json": {
       "model_id": "f07e026506554e95821c294468983afc",
       "version_major": 2,
       "version_minor": 0
      },
      "text/plain": [
       "  0%|          | 0/1 [00:00<?, ?it/s]"
      ]
     },
     "metadata": {},
     "output_type": "display_data"
    },
    {
     "name": "stdout",
     "output_type": "stream",
     "text": [
      "SHAP values difference: 6.972779260649986e-07\n",
      "Background count: 10\n",
      "Background min diff: -2.0315418243408203\n",
      "Background max diff: 1.5024242401123047\n"
     ]
    },
    {
     "data": {
      "application/vnd.jupyter.widget-view+json": {
       "model_id": "70a3a13f5f414afa933f6c60b0b1bb5a",
       "version_major": 2,
       "version_minor": 0
      },
      "text/plain": [
       "  0%|          | 0/1 [00:00<?, ?it/s]"
      ]
     },
     "metadata": {},
     "output_type": "display_data"
    },
    {
     "name": "stdout",
     "output_type": "stream",
     "text": [
      "SHAP values difference: -7.097531451449868e-07\n",
      "SHAP values correction 2\n",
      "Background count: 10\n",
      "Background min diff: -1.13629150390625\n",
      "Background max diff: 0.437744140625\n"
     ]
    },
    {
     "data": {
      "application/vnd.jupyter.widget-view+json": {
       "model_id": "44f5b244b2cb4011a46c584b9b7be11a",
       "version_major": 2,
       "version_minor": 0
      },
      "text/plain": [
       "  0%|          | 0/1 [00:00<?, ?it/s]"
      ]
     },
     "metadata": {},
     "output_type": "display_data"
    },
    {
     "name": "stdout",
     "output_type": "stream",
     "text": [
      "SHAP values difference: 9.550645252431877e-08\n",
      "SHAP values correction 2\n",
      "Background count: 10\n",
      "Background min diff: -1.5169830322265625\n",
      "Background max diff: 2.8429718017578125\n"
     ]
    },
    {
     "data": {
      "application/vnd.jupyter.widget-view+json": {
       "model_id": "7d027acf4a2c4d06b9685f880efbdc39",
       "version_major": 2,
       "version_minor": 0
      },
      "text/plain": [
       "  0%|          | 0/1 [00:00<?, ?it/s]"
      ]
     },
     "metadata": {},
     "output_type": "display_data"
    },
    {
     "name": "stdout",
     "output_type": "stream",
     "text": [
      "SHAP values difference: 2.3134535105384657e-06\n",
      "SHAP values correction 1\n",
      "SHAP values correction 2\n",
      "Background count: 10\n",
      "Background min diff: -1.2238273620605469\n",
      "Background max diff: 0.8780708312988281\n"
     ]
    },
    {
     "data": {
      "application/vnd.jupyter.widget-view+json": {
       "model_id": "ad60b6fe59124fc29a53dbb2cd1ce8b4",
       "version_major": 2,
       "version_minor": 0
      },
      "text/plain": [
       "  0%|          | 0/1 [00:00<?, ?it/s]"
      ]
     },
     "metadata": {},
     "output_type": "display_data"
    },
    {
     "name": "stdout",
     "output_type": "stream",
     "text": [
      "SHAP values difference: -3.177681691113321e-07\n",
      "SHAP values correction 2\n",
      "Background count: 10\n",
      "Background min diff: -1.1103973388671875\n",
      "Background max diff: 1.4748382568359375\n"
     ]
    },
    {
     "data": {
      "application/vnd.jupyter.widget-view+json": {
       "model_id": "c0bbfc49c0be4720829af339adfe63d8",
       "version_major": 2,
       "version_minor": 0
      },
      "text/plain": [
       "  0%|          | 0/1 [00:00<?, ?it/s]"
      ]
     },
     "metadata": {},
     "output_type": "display_data"
    },
    {
     "name": "stdout",
     "output_type": "stream",
     "text": [
      "SHAP values difference: -2.8355589520856483e-07\n",
      "Background count: 10\n",
      "Background min diff: -2.086456298828125\n",
      "Background max diff: 2.27349853515625\n"
     ]
    },
    {
     "data": {
      "application/vnd.jupyter.widget-view+json": {
       "model_id": "166cf7446d3e4c4491c7cec9a550e432",
       "version_major": 2,
       "version_minor": 0
      },
      "text/plain": [
       "  0%|          | 0/1 [00:00<?, ?it/s]"
      ]
     },
     "metadata": {},
     "output_type": "display_data"
    },
    {
     "name": "stdout",
     "output_type": "stream",
     "text": [
      "SHAP values difference: -3.58909787223638e-07\n",
      "Background count: 10\n",
      "Background min diff: -9.31502914428711\n",
      "Background max diff: 0.5226478576660156\n"
     ]
    },
    {
     "data": {
      "application/vnd.jupyter.widget-view+json": {
       "model_id": "1432f0e4ad5e4a3684cf968e1846ef94",
       "version_major": 2,
       "version_minor": 0
      },
      "text/plain": [
       "  0%|          | 0/1 [00:00<?, ?it/s]"
      ]
     },
     "metadata": {},
     "output_type": "display_data"
    },
    {
     "name": "stdout",
     "output_type": "stream",
     "text": [
      "SHAP values difference: -3.7532081620383906e-07\n",
      "Background count: 10\n",
      "Background min diff: -0.77215576171875\n",
      "Background max diff: 0.8018798828125\n"
     ]
    },
    {
     "data": {
      "application/vnd.jupyter.widget-view+json": {
       "model_id": "f32f2439604749079d0cdb6ba6a1ab29",
       "version_major": 2,
       "version_minor": 0
      },
      "text/plain": [
       "  0%|          | 0/1 [00:00<?, ?it/s]"
      ]
     },
     "metadata": {},
     "output_type": "display_data"
    },
    {
     "name": "stdout",
     "output_type": "stream",
     "text": [
      "SHAP values difference: -5.822341186956237e-07\n",
      "Background count: 10\n",
      "Background min diff: -1.2685203552246094\n",
      "Background max diff: 1.1370582580566406\n"
     ]
    },
    {
     "data": {
      "application/vnd.jupyter.widget-view+json": {
       "model_id": "8098a90edc0d4735aaa0092d311d7608",
       "version_major": 2,
       "version_minor": 0
      },
      "text/plain": [
       "  0%|          | 0/1 [00:00<?, ?it/s]"
      ]
     },
     "metadata": {},
     "output_type": "display_data"
    },
    {
     "name": "stdout",
     "output_type": "stream",
     "text": [
      "SHAP values difference: -2.992527878831197e-07\n",
      "SHAP values correction 1\n",
      "SHAP values correction 2\n",
      "Background count: 10\n",
      "Background min diff: -2.0917739868164062\n",
      "Background max diff: 1.4421920776367188\n"
     ]
    },
    {
     "data": {
      "application/vnd.jupyter.widget-view+json": {
       "model_id": "09cbded595b44109bd499f13e5db7452",
       "version_major": 2,
       "version_minor": 0
      },
      "text/plain": [
       "  0%|          | 0/1 [00:00<?, ?it/s]"
      ]
     },
     "metadata": {},
     "output_type": "display_data"
    },
    {
     "name": "stdout",
     "output_type": "stream",
     "text": [
      "SHAP values difference: 5.913801679469088e-07\n",
      "SHAP values correction 2\n",
      "Background count: 10\n",
      "Background min diff: -1.1440086364746094\n",
      "Background max diff: 1.3111610412597656\n"
     ]
    },
    {
     "data": {
      "application/vnd.jupyter.widget-view+json": {
       "model_id": "99c6508d5a00491b924d3a7a86fa9b64",
       "version_major": 2,
       "version_minor": 0
      },
      "text/plain": [
       "  0%|          | 0/1 [00:00<?, ?it/s]"
      ]
     },
     "metadata": {},
     "output_type": "display_data"
    },
    {
     "name": "stdout",
     "output_type": "stream",
     "text": [
      "SHAP values difference: 2.0276351619941124e-07\n",
      "Background count: 10\n",
      "Background min diff: -2.251035690307617\n",
      "Background max diff: 2.840578079223633\n"
     ]
    },
    {
     "data": {
      "application/vnd.jupyter.widget-view+json": {
       "model_id": "60eef4884e834c37b9c2983c5ff985bf",
       "version_major": 2,
       "version_minor": 0
      },
      "text/plain": [
       "  0%|          | 0/1 [00:00<?, ?it/s]"
      ]
     },
     "metadata": {},
     "output_type": "display_data"
    },
    {
     "name": "stdout",
     "output_type": "stream",
     "text": [
      "SHAP values difference: -9.577219728384989e-08\n",
      "SHAP values correction 2\n",
      "Background count: 10\n",
      "Background min diff: -1.227630615234375\n",
      "Background max diff: 1.33135986328125\n"
     ]
    },
    {
     "data": {
      "application/vnd.jupyter.widget-view+json": {
       "model_id": "cc4bfa1d6e874366a72345d9fa8375d5",
       "version_major": 2,
       "version_minor": 0
      },
      "text/plain": [
       "  0%|          | 0/1 [00:00<?, ?it/s]"
      ]
     },
     "metadata": {},
     "output_type": "display_data"
    },
    {
     "name": "stdout",
     "output_type": "stream",
     "text": [
      "SHAP values difference: -1.1903798373680274e-06\n",
      "Background count: 10\n",
      "Background min diff: -2.3635406494140625\n",
      "Background max diff: 1.2898406982421875\n"
     ]
    },
    {
     "data": {
      "application/vnd.jupyter.widget-view+json": {
       "model_id": "20fa09bb4fba45389c6e85894d08676f",
       "version_major": 2,
       "version_minor": 0
      },
      "text/plain": [
       "  0%|          | 0/1 [00:00<?, ?it/s]"
      ]
     },
     "metadata": {},
     "output_type": "display_data"
    },
    {
     "name": "stdout",
     "output_type": "stream",
     "text": [
      "SHAP values difference: -9.191236927108548e-08\n",
      "Background count: 10\n",
      "Background min diff: -1.2279834747314453\n",
      "Background max diff: 1.4727916717529297\n"
     ]
    },
    {
     "data": {
      "application/vnd.jupyter.widget-view+json": {
       "model_id": "33d7a9aab6944741ac4f97948164c86d",
       "version_major": 2,
       "version_minor": 0
      },
      "text/plain": [
       "  0%|          | 0/1 [00:00<?, ?it/s]"
      ]
     },
     "metadata": {},
     "output_type": "display_data"
    },
    {
     "name": "stdout",
     "output_type": "stream",
     "text": [
      "SHAP values difference: -4.394804724583423e-07\n",
      "SHAP values correction 1\n",
      "SHAP values correction 2\n",
      "Background count: 10\n",
      "Background min diff: -0.3022174835205078\n",
      "Background max diff: 6.126737594604492\n"
     ]
    },
    {
     "data": {
      "application/vnd.jupyter.widget-view+json": {
       "model_id": "a0dbabad5da840d0bf1b922f2ff9f157",
       "version_major": 2,
       "version_minor": 0
      },
      "text/plain": [
       "  0%|          | 0/1 [00:00<?, ?it/s]"
      ]
     },
     "metadata": {},
     "output_type": "display_data"
    },
    {
     "name": "stdout",
     "output_type": "stream",
     "text": [
      "SHAP values difference: 1.5858182322858738e-07\n",
      "Background count: 10\n",
      "Background min diff: -1.2930450439453125\n",
      "Background max diff: 1.2654571533203125\n"
     ]
    },
    {
     "data": {
      "application/vnd.jupyter.widget-view+json": {
       "model_id": "6974aa5959e84683a80ebc9199f963a1",
       "version_major": 2,
       "version_minor": 0
      },
      "text/plain": [
       "  0%|          | 0/1 [00:00<?, ?it/s]"
      ]
     },
     "metadata": {},
     "output_type": "display_data"
    },
    {
     "name": "stdout",
     "output_type": "stream",
     "text": [
      "SHAP values difference: -6.631996729566936e-07\n",
      "SHAP values correction 2\n",
      "Background count: 10\n",
      "Background min diff: -2.338878631591797\n",
      "Background max diff: 2.422138214111328\n"
     ]
    },
    {
     "data": {
      "application/vnd.jupyter.widget-view+json": {
       "model_id": "25a5b9fd7902483397e59e7713e3e0f7",
       "version_major": 2,
       "version_minor": 0
      },
      "text/plain": [
       "  0%|          | 0/1 [00:00<?, ?it/s]"
      ]
     },
     "metadata": {},
     "output_type": "display_data"
    },
    {
     "name": "stdout",
     "output_type": "stream",
     "text": [
      "SHAP values difference: 2.061167947431386e-07\n",
      "Background count: 10\n",
      "Background min diff: -15.926383972167969\n",
      "Background max diff: 2.2671585083007812\n"
     ]
    },
    {
     "data": {
      "application/vnd.jupyter.widget-view+json": {
       "model_id": "c9dd0a8fce3b4c979468cd99259fffd3",
       "version_major": 2,
       "version_minor": 0
      },
      "text/plain": [
       "  0%|          | 0/1 [00:00<?, ?it/s]"
      ]
     },
     "metadata": {},
     "output_type": "display_data"
    },
    {
     "name": "stdout",
     "output_type": "stream",
     "text": [
      "SHAP values difference: 1.1264856780712762e-07\n",
      "Background count: 10\n",
      "Background min diff: -1.0699462890625\n",
      "Background max diff: 0.9652099609375\n"
     ]
    },
    {
     "data": {
      "application/vnd.jupyter.widget-view+json": {
       "model_id": "46d565e2c15d4ac1b7d5091a688c1bd2",
       "version_major": 2,
       "version_minor": 0
      },
      "text/plain": [
       "  0%|          | 0/1 [00:00<?, ?it/s]"
      ]
     },
     "metadata": {},
     "output_type": "display_data"
    },
    {
     "name": "stdout",
     "output_type": "stream",
     "text": [
      "SHAP values difference: -2.2716135994471642e-07\n",
      "SHAP values correction 1\n",
      "SHAP values correction 2\n",
      "Background count: 10\n",
      "Background min diff: -1.1806602478027344\n",
      "Background max diff: 1.5461463928222656\n"
     ]
    },
    {
     "data": {
      "application/vnd.jupyter.widget-view+json": {
       "model_id": "aee07e60d20844fb8515976a15ec8c6b",
       "version_major": 2,
       "version_minor": 0
      },
      "text/plain": [
       "  0%|          | 0/1 [00:00<?, ?it/s]"
      ]
     },
     "metadata": {},
     "output_type": "display_data"
    },
    {
     "name": "stdout",
     "output_type": "stream",
     "text": [
      "SHAP values difference: -4.766441996650883e-08\n",
      "SHAP values correction 2\n",
      "Background count: 10\n",
      "Background min diff: -1.0858688354492188\n",
      "Background max diff: 1.3968582153320312\n"
     ]
    },
    {
     "data": {
      "application/vnd.jupyter.widget-view+json": {
       "model_id": "82f9aa68b9e14ed1b3508ecc3d2b8de7",
       "version_major": 2,
       "version_minor": 0
      },
      "text/plain": [
       "  0%|          | 0/1 [00:00<?, ?it/s]"
      ]
     },
     "metadata": {},
     "output_type": "display_data"
    },
    {
     "name": "stdout",
     "output_type": "stream",
     "text": [
      "SHAP values difference: -2.4036282209038973e-07\n",
      "SHAP values correction 2\n",
      "Background count: 10\n",
      "Background min diff: -1.1524467468261719\n",
      "Background max diff: 1.0693550109863281\n"
     ]
    },
    {
     "data": {
      "application/vnd.jupyter.widget-view+json": {
       "model_id": "f07082a456f0480fa35b4a2571ddfae4",
       "version_major": 2,
       "version_minor": 0
      },
      "text/plain": [
       "  0%|          | 0/1 [00:00<?, ?it/s]"
      ]
     },
     "metadata": {},
     "output_type": "display_data"
    },
    {
     "name": "stdout",
     "output_type": "stream",
     "text": [
      "SHAP values difference: 2.474394023010973e-09\n",
      "SHAP values correction 1\n",
      "SHAP values correction 2\n",
      "Background count: 10\n",
      "Background min diff: -1.0398216247558594\n",
      "Background max diff: 0.8961524963378906\n"
     ]
    },
    {
     "data": {
      "application/vnd.jupyter.widget-view+json": {
       "model_id": "6492707d803e4008b84a9fd8bbe940c4",
       "version_major": 2,
       "version_minor": 0
      },
      "text/plain": [
       "  0%|          | 0/1 [00:00<?, ?it/s]"
      ]
     },
     "metadata": {},
     "output_type": "display_data"
    },
    {
     "name": "stdout",
     "output_type": "stream",
     "text": [
      "SHAP values difference: 2.1505813307953758e-07\n",
      "SHAP values correction 2\n",
      "Background count: 10\n",
      "Background min diff: -1.957620620727539\n",
      "Background max diff: 1.576345443725586\n"
     ]
    },
    {
     "data": {
      "application/vnd.jupyter.widget-view+json": {
       "model_id": "13dd52d3cc494574b47e9f87a54e8281",
       "version_major": 2,
       "version_minor": 0
      },
      "text/plain": [
       "  0%|          | 0/1 [00:00<?, ?it/s]"
      ]
     },
     "metadata": {},
     "output_type": "display_data"
    },
    {
     "name": "stdout",
     "output_type": "stream",
     "text": [
      "SHAP values difference: -1.7259418072512744e-07\n",
      "Background count: 10\n",
      "Background min diff: -1.4740180969238281\n",
      "Background max diff: 4.954936981201172\n"
     ]
    },
    {
     "data": {
      "application/vnd.jupyter.widget-view+json": {
       "model_id": "d297c3ad0df044719f0e54fb06f13e61",
       "version_major": 2,
       "version_minor": 0
      },
      "text/plain": [
       "  0%|          | 0/1 [00:00<?, ?it/s]"
      ]
     },
     "metadata": {},
     "output_type": "display_data"
    },
    {
     "name": "stdout",
     "output_type": "stream",
     "text": [
      "SHAP values difference: -4.228139331985403e-07\n",
      "Background count: 10\n",
      "Background min diff: -0.7053184509277344\n",
      "Background max diff: 1.0478858947753906\n"
     ]
    },
    {
     "data": {
      "application/vnd.jupyter.widget-view+json": {
       "model_id": "e340617bc7f34caea2dd40bccc328195",
       "version_major": 2,
       "version_minor": 0
      },
      "text/plain": [
       "  0%|          | 0/1 [00:00<?, ?it/s]"
      ]
     },
     "metadata": {},
     "output_type": "display_data"
    },
    {
     "name": "stdout",
     "output_type": "stream",
     "text": [
      "SHAP values difference: -3.4087659273041027e-07\n",
      "Background count: 10\n",
      "Background min diff: -10.220706939697266\n",
      "Background max diff: 7.972835540771484\n"
     ]
    },
    {
     "data": {
      "application/vnd.jupyter.widget-view+json": {
       "model_id": "037508b784b9410ca28dee95f5cf1360",
       "version_major": 2,
       "version_minor": 0
      },
      "text/plain": [
       "  0%|          | 0/1 [00:00<?, ?it/s]"
      ]
     },
     "metadata": {},
     "output_type": "display_data"
    },
    {
     "name": "stdout",
     "output_type": "stream",
     "text": [
      "SHAP values difference: -2.1531227645255058e-07\n",
      "Background count: 10\n",
      "Background min diff: -1.2663135528564453\n",
      "Background max diff: 1.4344615936279297\n"
     ]
    },
    {
     "data": {
      "application/vnd.jupyter.widget-view+json": {
       "model_id": "7ff8d9cbf076494c8aedbaf7b8bb549e",
       "version_major": 2,
       "version_minor": 0
      },
      "text/plain": [
       "  0%|          | 0/1 [00:00<?, ?it/s]"
      ]
     },
     "metadata": {},
     "output_type": "display_data"
    },
    {
     "name": "stdout",
     "output_type": "stream",
     "text": [
      "SHAP values difference: 8.560443731653322e-08\n",
      "Background count: 10\n",
      "Background min diff: -1.2570915222167969\n",
      "Background max diff: 1.1083869934082031\n"
     ]
    },
    {
     "data": {
      "application/vnd.jupyter.widget-view+json": {
       "model_id": "506a215b40984b51863caf3be798e9c7",
       "version_major": 2,
       "version_minor": 0
      },
      "text/plain": [
       "  0%|          | 0/1 [00:00<?, ?it/s]"
      ]
     },
     "metadata": {},
     "output_type": "display_data"
    },
    {
     "name": "stdout",
     "output_type": "stream",
     "text": [
      "SHAP values difference: 2.7242725764153874e-07\n",
      "SHAP values correction 2\n",
      "Background count: 10\n",
      "Background min diff: -1.2279834747314453\n",
      "Background max diff: 1.4727916717529297\n"
     ]
    },
    {
     "data": {
      "application/vnd.jupyter.widget-view+json": {
       "model_id": "66e6c4c74dbc4c84821761b6b4d28ae0",
       "version_major": 2,
       "version_minor": 0
      },
      "text/plain": [
       "  0%|          | 0/1 [00:00<?, ?it/s]"
      ]
     },
     "metadata": {},
     "output_type": "display_data"
    },
    {
     "name": "stdout",
     "output_type": "stream",
     "text": [
      "SHAP values difference: -3.09277917942552e-07\n",
      "SHAP values correction 2\n",
      "Background count: 10\n",
      "Background min diff: -1.2735214233398438\n",
      "Background max diff: 1.0919570922851562\n"
     ]
    },
    {
     "data": {
      "application/vnd.jupyter.widget-view+json": {
       "model_id": "9fbc93a30d0343c480898448f30e008a",
       "version_major": 2,
       "version_minor": 0
      },
      "text/plain": [
       "  0%|          | 0/1 [00:00<?, ?it/s]"
      ]
     },
     "metadata": {},
     "output_type": "display_data"
    },
    {
     "name": "stdout",
     "output_type": "stream",
     "text": [
      "SHAP values difference: 1.5015600496326442e-07\n",
      "Background count: 10\n",
      "Background min diff: -11.400718688964844\n",
      "Background max diff: 6.792823791503906\n"
     ]
    },
    {
     "data": {
      "application/vnd.jupyter.widget-view+json": {
       "model_id": "ce6636592ab840bb964226772c1f9d87",
       "version_major": 2,
       "version_minor": 0
      },
      "text/plain": [
       "  0%|          | 0/1 [00:00<?, ?it/s]"
      ]
     },
     "metadata": {},
     "output_type": "display_data"
    },
    {
     "name": "stdout",
     "output_type": "stream",
     "text": [
      "SHAP values difference: -3.950808675767803e-07\n",
      "Background count: 10\n",
      "Background min diff: -2.064910888671875\n",
      "Background max diff: 1.980316162109375\n"
     ]
    },
    {
     "data": {
      "application/vnd.jupyter.widget-view+json": {
       "model_id": "5289bc3bcca447a38b19901854b4e350",
       "version_major": 2,
       "version_minor": 0
      },
      "text/plain": [
       "  0%|          | 0/1 [00:00<?, ?it/s]"
      ]
     },
     "metadata": {},
     "output_type": "display_data"
    },
    {
     "name": "stdout",
     "output_type": "stream",
     "text": [
      "SHAP values difference: 4.98621332667426e-07\n",
      "SHAP values correction 2\n",
      "Background count: 10\n",
      "Background min diff: -2.4148101806640625\n",
      "Background max diff: 2.3110809326171875\n"
     ]
    },
    {
     "data": {
      "application/vnd.jupyter.widget-view+json": {
       "model_id": "7cd5cabad5404fe3b3305995cce76647",
       "version_major": 2,
       "version_minor": 0
      },
      "text/plain": [
       "  0%|          | 0/1 [00:00<?, ?it/s]"
      ]
     },
     "metadata": {},
     "output_type": "display_data"
    },
    {
     "name": "stdout",
     "output_type": "stream",
     "text": [
      "SHAP values difference: 4.1638472225713485e-08\n",
      "Background count: 10\n",
      "Background min diff: -2.4182968139648438\n",
      "Background max diff: 1.2350845336914062\n"
     ]
    },
    {
     "data": {
      "application/vnd.jupyter.widget-view+json": {
       "model_id": "d3bd4a707c554f3c8d07dc3759798141",
       "version_major": 2,
       "version_minor": 0
      },
      "text/plain": [
       "  0%|          | 0/1 [00:00<?, ?it/s]"
      ]
     },
     "metadata": {},
     "output_type": "display_data"
    },
    {
     "name": "stdout",
     "output_type": "stream",
     "text": [
      "SHAP values difference: 1.0976654962746579e-07\n",
      "Background count: 10\n",
      "Background min diff: -1.5219764709472656\n",
      "Background max diff: 1.7073631286621094\n"
     ]
    },
    {
     "data": {
      "application/vnd.jupyter.widget-view+json": {
       "model_id": "6bf068321ec046f8b389d8f23b0daaa2",
       "version_major": 2,
       "version_minor": 0
      },
      "text/plain": [
       "  0%|          | 0/1 [00:00<?, ?it/s]"
      ]
     },
     "metadata": {},
     "output_type": "display_data"
    },
    {
     "name": "stdout",
     "output_type": "stream",
     "text": [
      "SHAP values difference: -6.276189665754828e-07\n",
      "SHAP values correction 2\n",
      "Background count: 10\n",
      "Background min diff: -1.9176292419433594\n",
      "Background max diff: 2.4658851623535156\n"
     ]
    },
    {
     "data": {
      "application/vnd.jupyter.widget-view+json": {
       "model_id": "6f8de02cc1604d2dac89bd2ff73f40ec",
       "version_major": 2,
       "version_minor": 0
      },
      "text/plain": [
       "  0%|          | 0/1 [00:00<?, ?it/s]"
      ]
     },
     "metadata": {},
     "output_type": "display_data"
    },
    {
     "name": "stdout",
     "output_type": "stream",
     "text": [
      "SHAP values difference: 2.341741591749269e-07\n",
      "Background count: 10\n",
      "Background min diff: -1.4992828369140625\n",
      "Background max diff: 0.9834442138671875\n"
     ]
    },
    {
     "data": {
      "application/vnd.jupyter.widget-view+json": {
       "model_id": "cd39e494b32c4c3388a2b8c0a7e082ab",
       "version_major": 2,
       "version_minor": 0
      },
      "text/plain": [
       "  0%|          | 0/1 [00:00<?, ?it/s]"
      ]
     },
     "metadata": {},
     "output_type": "display_data"
    },
    {
     "name": "stdout",
     "output_type": "stream",
     "text": [
      "SHAP values difference: 2.913262875381406e-07\n",
      "Background count: 10\n",
      "Background min diff: -0.7800102233886719\n",
      "Background max diff: 1.0211372375488281\n"
     ]
    },
    {
     "data": {
      "application/vnd.jupyter.widget-view+json": {
       "model_id": "07adbdd6272a4660ad0fa729a9174edd",
       "version_major": 2,
       "version_minor": 0
      },
      "text/plain": [
       "  0%|          | 0/1 [00:00<?, ?it/s]"
      ]
     },
     "metadata": {},
     "output_type": "display_data"
    },
    {
     "name": "stdout",
     "output_type": "stream",
     "text": [
      "SHAP values difference: 7.256316472137314e-07\n",
      "Background count: 10\n",
      "Background min diff: -1.84832763671875\n",
      "Background max diff: 1.702545166015625\n"
     ]
    },
    {
     "data": {
      "application/vnd.jupyter.widget-view+json": {
       "model_id": "a6ff91dc61604f1582ebdf147f949f62",
       "version_major": 2,
       "version_minor": 0
      },
      "text/plain": [
       "  0%|          | 0/1 [00:00<?, ?it/s]"
      ]
     },
     "metadata": {},
     "output_type": "display_data"
    },
    {
     "name": "stdout",
     "output_type": "stream",
     "text": [
      "SHAP values difference: -4.935629149827037e-07\n",
      "Background count: 10\n",
      "Background min diff: -1.4157791137695312\n",
      "Background max diff: 1.3263473510742188\n"
     ]
    },
    {
     "data": {
      "application/vnd.jupyter.widget-view+json": {
       "model_id": "a8116ce8e91d433987abe81a44b5bd42",
       "version_major": 2,
       "version_minor": 0
      },
      "text/plain": [
       "  0%|          | 0/1 [00:00<?, ?it/s]"
      ]
     },
     "metadata": {},
     "output_type": "display_data"
    },
    {
     "name": "stdout",
     "output_type": "stream",
     "text": [
      "SHAP values difference: -3.6904763334177915e-07\n",
      "SHAP values correction 2\n",
      "Background count: 10\n",
      "Background min diff: -2.4591617584228516\n",
      "Background max diff: 1.5860652923583984\n"
     ]
    },
    {
     "data": {
      "application/vnd.jupyter.widget-view+json": {
       "model_id": "fc9bfff4af144c1b82c14b869bfd1637",
       "version_major": 2,
       "version_minor": 0
      },
      "text/plain": [
       "  0%|          | 0/1 [00:00<?, ?it/s]"
      ]
     },
     "metadata": {},
     "output_type": "display_data"
    },
    {
     "name": "stdout",
     "output_type": "stream",
     "text": [
      "SHAP values difference: -2.3258799330960755e-07\n",
      "Background count: 10\n",
      "Background min diff: -9.237815856933594\n",
      "Background max diff: 8.955726623535156\n"
     ]
    },
    {
     "data": {
      "application/vnd.jupyter.widget-view+json": {
       "model_id": "04ddb399c36441cea1058e7dc9ae255b",
       "version_major": 2,
       "version_minor": 0
      },
      "text/plain": [
       "  0%|          | 0/1 [00:00<?, ?it/s]"
      ]
     },
     "metadata": {},
     "output_type": "display_data"
    },
    {
     "name": "stdout",
     "output_type": "stream",
     "text": [
      "SHAP values difference: -9.528208053666276e-07\n",
      "SHAP values correction 2\n",
      "Background count: 10\n",
      "Background min diff: -1.1303176879882812\n",
      "Background max diff: 1.3248519897460938\n"
     ]
    },
    {
     "data": {
      "application/vnd.jupyter.widget-view+json": {
       "model_id": "5a148372bcc84ca68bfa34d4817e29c8",
       "version_major": 2,
       "version_minor": 0
      },
      "text/plain": [
       "  0%|          | 0/1 [00:00<?, ?it/s]"
      ]
     },
     "metadata": {},
     "output_type": "display_data"
    },
    {
     "name": "stdout",
     "output_type": "stream",
     "text": [
      "SHAP values difference: -4.649826941260926e-07\n",
      "Background count: 10\n",
      "Background min diff: -1.2184257507324219\n",
      "Background max diff: 0.3556098937988281\n"
     ]
    },
    {
     "data": {
      "application/vnd.jupyter.widget-view+json": {
       "model_id": "f714bae9ee8a443ba819992228f305bb",
       "version_major": 2,
       "version_minor": 0
      },
      "text/plain": [
       "  0%|          | 0/1 [00:00<?, ?it/s]"
      ]
     },
     "metadata": {},
     "output_type": "display_data"
    },
    {
     "name": "stdout",
     "output_type": "stream",
     "text": [
      "SHAP values difference: 3.716091967476132e-08\n",
      "Background count: 10\n",
      "Background min diff: -3.257244110107422\n",
      "Background max diff: 2.846668243408203\n"
     ]
    },
    {
     "data": {
      "application/vnd.jupyter.widget-view+json": {
       "model_id": "6c9c93cb8497453ab61e9cc354a1d287",
       "version_major": 2,
       "version_minor": 0
      },
      "text/plain": [
       "  0%|          | 0/1 [00:00<?, ?it/s]"
      ]
     },
     "metadata": {},
     "output_type": "display_data"
    },
    {
     "name": "stdout",
     "output_type": "stream",
     "text": [
      "SHAP values difference: -1.7775673200048914e-07\n",
      "SHAP values correction 2\n",
      "Background count: 10\n",
      "Background min diff: -1.7883892059326172\n",
      "Background max diff: 2.256837844848633\n"
     ]
    },
    {
     "data": {
      "application/vnd.jupyter.widget-view+json": {
       "model_id": "6fcdc4dd275e4365909512400130c543",
       "version_major": 2,
       "version_minor": 0
      },
      "text/plain": [
       "  0%|          | 0/1 [00:00<?, ?it/s]"
      ]
     },
     "metadata": {},
     "output_type": "display_data"
    },
    {
     "name": "stdout",
     "output_type": "stream",
     "text": [
      "SHAP values difference: 6.604507234442281e-07\n",
      "SHAP values correction 2\n",
      "Background count: 10\n",
      "Background min diff: -1.5860786437988281\n",
      "Background max diff: 1.9878654479980469\n"
     ]
    },
    {
     "data": {
      "application/vnd.jupyter.widget-view+json": {
       "model_id": "46fefa04aa44457d938c45e52f30dfeb",
       "version_major": 2,
       "version_minor": 0
      },
      "text/plain": [
       "  0%|          | 0/1 [00:00<?, ?it/s]"
      ]
     },
     "metadata": {},
     "output_type": "display_data"
    },
    {
     "name": "stdout",
     "output_type": "stream",
     "text": [
      "SHAP values difference: 2.7351161868693907e-07\n",
      "SHAP values correction 2\n",
      "Background count: 10\n",
      "Background min diff: -2.246091842651367\n",
      "Background max diff: 4.182863235473633\n"
     ]
    },
    {
     "data": {
      "application/vnd.jupyter.widget-view+json": {
       "model_id": "3fe8c379901343d1baa808dd104b16bd",
       "version_major": 2,
       "version_minor": 0
      },
      "text/plain": [
       "  0%|          | 0/1 [00:00<?, ?it/s]"
      ]
     },
     "metadata": {},
     "output_type": "display_data"
    },
    {
     "name": "stdout",
     "output_type": "stream",
     "text": [
      "SHAP values difference: 1.016548155874375e-06\n",
      "SHAP values correction 1\n",
      "SHAP values correction 2\n",
      "Background count: 10\n",
      "Background min diff: -1.9658336639404297\n",
      "Background max diff: 1.5681324005126953\n"
     ]
    },
    {
     "data": {
      "application/vnd.jupyter.widget-view+json": {
       "model_id": "6c8f335bb9e54ce38179f02bbb1c9aa0",
       "version_major": 2,
       "version_minor": 0
      },
      "text/plain": [
       "  0%|          | 0/1 [00:00<?, ?it/s]"
      ]
     },
     "metadata": {},
     "output_type": "display_data"
    },
    {
     "name": "stdout",
     "output_type": "stream",
     "text": [
      "SHAP values difference: -6.067947921906125e-07\n",
      "Background count: 10\n",
      "Background min diff: -2.1937942504882812\n",
      "Background max diff: 1.4595870971679688\n"
     ]
    },
    {
     "data": {
      "application/vnd.jupyter.widget-view+json": {
       "model_id": "5956c48ea5fb4bdf848d0967ee8e2f6a",
       "version_major": 2,
       "version_minor": 0
      },
      "text/plain": [
       "  0%|          | 0/1 [00:00<?, ?it/s]"
      ]
     },
     "metadata": {},
     "output_type": "display_data"
    },
    {
     "name": "stdout",
     "output_type": "stream",
     "text": [
      "SHAP values difference: 1.9074239610006316e-07\n",
      "Background count: 10\n",
      "Background min diff: -23.23918914794922\n",
      "Background max diff: -5.045646667480469\n"
     ]
    },
    {
     "data": {
      "application/vnd.jupyter.widget-view+json": {
       "model_id": "43f3e1b920a54bfc849226d77cbe58ec",
       "version_major": 2,
       "version_minor": 0
      },
      "text/plain": [
       "  0%|          | 0/1 [00:00<?, ?it/s]"
      ]
     },
     "metadata": {},
     "output_type": "display_data"
    },
    {
     "name": "stdout",
     "output_type": "stream",
     "text": [
      "SHAP values difference: -1.676988503618304e-08\n",
      "SHAP values correction 2\n",
      "Background count: 10\n",
      "Background min diff: -1.0205612182617188\n",
      "Background max diff: 0.7408828735351562\n"
     ]
    },
    {
     "data": {
      "application/vnd.jupyter.widget-view+json": {
       "model_id": "554b91ff4a9c499c9f386c0ded58c750",
       "version_major": 2,
       "version_minor": 0
      },
      "text/plain": [
       "  0%|          | 0/1 [00:00<?, ?it/s]"
      ]
     },
     "metadata": {},
     "output_type": "display_data"
    },
    {
     "name": "stdout",
     "output_type": "stream",
     "text": [
      "SHAP values difference: -2.07376484873123e-08\n",
      "SHAP values correction 2\n",
      "Background count: 10\n",
      "Background min diff: -1.2659931182861328\n",
      "Background max diff: 1.3909893035888672\n"
     ]
    },
    {
     "data": {
      "application/vnd.jupyter.widget-view+json": {
       "model_id": "b90f6db7e32f4985a93118a633caddb8",
       "version_major": 2,
       "version_minor": 0
      },
      "text/plain": [
       "  0%|          | 0/1 [00:00<?, ?it/s]"
      ]
     },
     "metadata": {},
     "output_type": "display_data"
    },
    {
     "name": "stdout",
     "output_type": "stream",
     "text": [
      "SHAP values difference: -7.983867504890441e-07\n",
      "Background count: 10\n",
      "Background min diff: -2.4639949798583984\n",
      "Background max diff: 2.5800724029541016\n"
     ]
    },
    {
     "data": {
      "application/vnd.jupyter.widget-view+json": {
       "model_id": "4e8844a3a3d44a15a1beefeb1beaf6fe",
       "version_major": 2,
       "version_minor": 0
      },
      "text/plain": [
       "  0%|          | 0/1 [00:00<?, ?it/s]"
      ]
     },
     "metadata": {},
     "output_type": "display_data"
    },
    {
     "name": "stdout",
     "output_type": "stream",
     "text": [
      "SHAP values difference: -3.7264688401705826e-07\n",
      "SHAP values correction 1\n",
      "Background count: 10\n",
      "Background min diff: -0.9637317657470703\n",
      "Background max diff: 1.1381664276123047\n"
     ]
    },
    {
     "data": {
      "application/vnd.jupyter.widget-view+json": {
       "model_id": "742ed66c0a784b4abdcb13c9a75342b3",
       "version_major": 2,
       "version_minor": 0
      },
      "text/plain": [
       "  0%|          | 0/1 [00:00<?, ?it/s]"
      ]
     },
     "metadata": {},
     "output_type": "display_data"
    },
    {
     "name": "stdout",
     "output_type": "stream",
     "text": [
      "SHAP values difference: 2.352611474520927e-07\n",
      "SHAP values correction 2\n",
      "Background count: 10\n",
      "Background min diff: -14.620429992675781\n",
      "Background max diff: 3.5731124877929688\n"
     ]
    },
    {
     "data": {
      "application/vnd.jupyter.widget-view+json": {
       "model_id": "f37412bb2b8c4c95b21c0b001dbd42d5",
       "version_major": 2,
       "version_minor": 0
      },
      "text/plain": [
       "  0%|          | 0/1 [00:00<?, ?it/s]"
      ]
     },
     "metadata": {},
     "output_type": "display_data"
    },
    {
     "name": "stdout",
     "output_type": "stream",
     "text": [
      "SHAP values difference: -1.0737661426674094e-07\n",
      "Background count: 10\n",
      "Background min diff: -1.9637947082519531\n",
      "Background max diff: 2.797222137451172\n"
     ]
    },
    {
     "data": {
      "application/vnd.jupyter.widget-view+json": {
       "model_id": "1afdba9136b4429689a89ddf8b624c0d",
       "version_major": 2,
       "version_minor": 0
      },
      "text/plain": [
       "  0%|          | 0/1 [00:00<?, ?it/s]"
      ]
     },
     "metadata": {},
     "output_type": "display_data"
    },
    {
     "name": "stdout",
     "output_type": "stream",
     "text": [
      "SHAP values difference: -1.3514605257114454e-07\n",
      "Background count: 10\n",
      "Background min diff: -13.8948974609375\n",
      "Background max diff: 4.29864501953125\n"
     ]
    },
    {
     "data": {
      "application/vnd.jupyter.widget-view+json": {
       "model_id": "fc41dd8192c04c82967e62b9e5dd72f0",
       "version_major": 2,
       "version_minor": 0
      },
      "text/plain": [
       "  0%|          | 0/1 [00:00<?, ?it/s]"
      ]
     },
     "metadata": {},
     "output_type": "display_data"
    },
    {
     "name": "stdout",
     "output_type": "stream",
     "text": [
      "SHAP values difference: 1.3953409450095933e-07\n",
      "Background count: 10\n",
      "Background min diff: -1.1223335266113281\n",
      "Background max diff: 1.0994682312011719\n"
     ]
    },
    {
     "data": {
      "application/vnd.jupyter.widget-view+json": {
       "model_id": "f1a79caad3b04817a09dd826da1b2953",
       "version_major": 2,
       "version_minor": 0
      },
      "text/plain": [
       "  0%|          | 0/1 [00:00<?, ?it/s]"
      ]
     },
     "metadata": {},
     "output_type": "display_data"
    },
    {
     "name": "stdout",
     "output_type": "stream",
     "text": [
      "SHAP values difference: 4.5232098955239053e-07\n",
      "Background count: 10\n",
      "Background min diff: -2.8664588928222656\n",
      "Background max diff: 2.1776084899902344\n"
     ]
    },
    {
     "data": {
      "application/vnd.jupyter.widget-view+json": {
       "model_id": "3ceb3d4dd36c492c9d77b2c513eb5dd8",
       "version_major": 2,
       "version_minor": 0
      },
      "text/plain": [
       "  0%|          | 0/1 [00:00<?, ?it/s]"
      ]
     },
     "metadata": {},
     "output_type": "display_data"
    },
    {
     "name": "stdout",
     "output_type": "stream",
     "text": [
      "SHAP values difference: -6.824671103800029e-07\n",
      "Background count: 10\n",
      "Background min diff: -2.054248809814453\n",
      "Background max diff: 1.5196952819824219\n"
     ]
    },
    {
     "data": {
      "application/vnd.jupyter.widget-view+json": {
       "model_id": "b1d05cb23d8043b687cdba44edb90ee4",
       "version_major": 2,
       "version_minor": 0
      },
      "text/plain": [
       "  0%|          | 0/1 [00:00<?, ?it/s]"
      ]
     },
     "metadata": {},
     "output_type": "display_data"
    },
    {
     "name": "stdout",
     "output_type": "stream",
     "text": [
      "SHAP values difference: 4.5755643895972753e-07\n",
      "Background count: 10\n",
      "Background min diff: -2.8328895568847656\n",
      "Background max diff: 2.8650779724121094\n"
     ]
    },
    {
     "data": {
      "application/vnd.jupyter.widget-view+json": {
       "model_id": "f7908ed0a87c4682b57a8ce7be9b16e0",
       "version_major": 2,
       "version_minor": 0
      },
      "text/plain": [
       "  0%|          | 0/1 [00:00<?, ?it/s]"
      ]
     },
     "metadata": {},
     "output_type": "display_data"
    },
    {
     "name": "stdout",
     "output_type": "stream",
     "text": [
      "SHAP values difference: -3.153711851666685e-07\n",
      "SHAP values correction 2\n",
      "Background count: 10\n",
      "Background min diff: -2.252330780029297\n",
      "Background max diff: 2.376239776611328\n"
     ]
    },
    {
     "data": {
      "application/vnd.jupyter.widget-view+json": {
       "model_id": "1b44deb25ac04f5a9dc6693d608a749f",
       "version_major": 2,
       "version_minor": 0
      },
      "text/plain": [
       "  0%|          | 0/1 [00:00<?, ?it/s]"
      ]
     },
     "metadata": {},
     "output_type": "display_data"
    },
    {
     "name": "stdout",
     "output_type": "stream",
     "text": [
      "SHAP values difference: -2.0180003446057526e-07\n",
      "Background count: 10\n",
      "Background min diff: -1.8518409729003906\n",
      "Background max diff: 4.577114105224609\n"
     ]
    },
    {
     "data": {
      "application/vnd.jupyter.widget-view+json": {
       "model_id": "9f970f065e844f6eb11e25b89cb2d268",
       "version_major": 2,
       "version_minor": 0
      },
      "text/plain": [
       "  0%|          | 0/1 [00:00<?, ?it/s]"
      ]
     },
     "metadata": {},
     "output_type": "display_data"
    },
    {
     "name": "stdout",
     "output_type": "stream",
     "text": [
      "SHAP values difference: -3.062082853944048e-08\n",
      "Background count: 10\n",
      "Background min diff: -1.7474861145019531\n",
      "Background max diff: 1.6059989929199219\n"
     ]
    },
    {
     "data": {
      "application/vnd.jupyter.widget-view+json": {
       "model_id": "a28f27fb6e5a4433986df2f34ed6aa03",
       "version_major": 2,
       "version_minor": 0
      },
      "text/plain": [
       "  0%|          | 0/1 [00:00<?, ?it/s]"
      ]
     },
     "metadata": {},
     "output_type": "display_data"
    },
    {
     "name": "stdout",
     "output_type": "stream",
     "text": [
      "SHAP values difference: 4.105400464027298e-08\n",
      "Background count: 10\n",
      "Background min diff: -0.4643898010253906\n",
      "Background max diff: 1.2888145446777344\n"
     ]
    },
    {
     "data": {
      "application/vnd.jupyter.widget-view+json": {
       "model_id": "a85267f1b55c48e8924cbfd840d3845f",
       "version_major": 2,
       "version_minor": 0
      },
      "text/plain": [
       "  0%|          | 0/1 [00:00<?, ?it/s]"
      ]
     },
     "metadata": {},
     "output_type": "display_data"
    },
    {
     "name": "stdout",
     "output_type": "stream",
     "text": [
      "SHAP values difference: 3.3211760808171675e-07\n",
      "Background count: 10\n",
      "Background min diff: -0.3138084411621094\n",
      "Background max diff: 1.4393959045410156\n"
     ]
    },
    {
     "data": {
      "application/vnd.jupyter.widget-view+json": {
       "model_id": "338d8e8a773344d89a1b45040a21fd93",
       "version_major": 2,
       "version_minor": 0
      },
      "text/plain": [
       "  0%|          | 0/1 [00:00<?, ?it/s]"
      ]
     },
     "metadata": {},
     "output_type": "display_data"
    },
    {
     "name": "stdout",
     "output_type": "stream",
     "text": [
      "SHAP values difference: 2.089070143540539e-07\n",
      "SHAP values correction 2\n",
      "Background count: 10\n",
      "Background min diff: -2.466827392578125\n",
      "Background max diff: 2.259063720703125\n"
     ]
    },
    {
     "data": {
      "application/vnd.jupyter.widget-view+json": {
       "model_id": "b65a95c9c09c4069b5ea71db5a44ebb3",
       "version_major": 2,
       "version_minor": 0
      },
      "text/plain": [
       "  0%|          | 0/1 [00:00<?, ?it/s]"
      ]
     },
     "metadata": {},
     "output_type": "display_data"
    },
    {
     "name": "stdout",
     "output_type": "stream",
     "text": [
      "SHAP values difference: -8.823852795103448e-07\n",
      "SHAP values correction 2\n",
      "Background count: 10\n",
      "Background min diff: -1.2495803833007812\n",
      "Background max diff: 1.4570541381835938\n"
     ]
    },
    {
     "data": {
      "application/vnd.jupyter.widget-view+json": {
       "model_id": "1d9e20edac9e4ea99ef535558cfe87b5",
       "version_major": 2,
       "version_minor": 0
      },
      "text/plain": [
       "  0%|          | 0/1 [00:00<?, ?it/s]"
      ]
     },
     "metadata": {},
     "output_type": "display_data"
    },
    {
     "name": "stdout",
     "output_type": "stream",
     "text": [
      "SHAP values difference: -3.636241814319874e-07\n",
      "Background count: 10\n",
      "Background min diff: -1.1965217590332031\n",
      "Background max diff: 0.3775138854980469\n"
     ]
    },
    {
     "data": {
      "application/vnd.jupyter.widget-view+json": {
       "model_id": "936e462167e74ebc976c8fd3ca192ab7",
       "version_major": 2,
       "version_minor": 0
      },
      "text/plain": [
       "  0%|          | 0/1 [00:00<?, ?it/s]"
      ]
     },
     "metadata": {},
     "output_type": "display_data"
    },
    {
     "name": "stdout",
     "output_type": "stream",
     "text": [
      "SHAP values difference: -1.4618528609844361e-08\n",
      "Background count: 10\n",
      "Background min diff: -2.705657958984375\n",
      "Background max diff: 1.71142578125\n"
     ]
    },
    {
     "data": {
      "application/vnd.jupyter.widget-view+json": {
       "model_id": "cdd6126a7cde413cbaaab2a2e4c828aa",
       "version_major": 2,
       "version_minor": 0
      },
      "text/plain": [
       "  0%|          | 0/1 [00:00<?, ?it/s]"
      ]
     },
     "metadata": {},
     "output_type": "display_data"
    },
    {
     "name": "stdout",
     "output_type": "stream",
     "text": [
      "SHAP values difference: 2.0163548697382794e-07\n",
      "Background count: 10\n",
      "Background min diff: -1.6373519897460938\n",
      "Background max diff: 1.5068740844726562\n"
     ]
    },
    {
     "data": {
      "application/vnd.jupyter.widget-view+json": {
       "model_id": "c7244158fc1142de9070e7755b677056",
       "version_major": 2,
       "version_minor": 0
      },
      "text/plain": [
       "  0%|          | 0/1 [00:00<?, ?it/s]"
      ]
     },
     "metadata": {},
     "output_type": "display_data"
    },
    {
     "name": "stdout",
     "output_type": "stream",
     "text": [
      "SHAP values difference: 3.119853033695108e-07\n",
      "Background count: 10\n",
      "Background min diff: -2.0262794494628906\n",
      "Background max diff: 2.0016441345214844\n"
     ]
    },
    {
     "data": {
      "application/vnd.jupyter.widget-view+json": {
       "model_id": "5767639592854837b6d2698b84ae273b",
       "version_major": 2,
       "version_minor": 0
      },
      "text/plain": [
       "  0%|          | 0/1 [00:00<?, ?it/s]"
      ]
     },
     "metadata": {},
     "output_type": "display_data"
    },
    {
     "name": "stdout",
     "output_type": "stream",
     "text": [
      "SHAP values difference: -4.788002421207693e-07\n",
      "Background count: 10\n",
      "Background min diff: -0.8383903503417969\n",
      "Background max diff: 0.8254890441894531\n"
     ]
    },
    {
     "data": {
      "application/vnd.jupyter.widget-view+json": {
       "model_id": "6af52eefb17846a0a67ff5d23465956e",
       "version_major": 2,
       "version_minor": 0
      },
      "text/plain": [
       "  0%|          | 0/1 [00:00<?, ?it/s]"
      ]
     },
     "metadata": {},
     "output_type": "display_data"
    },
    {
     "name": "stdout",
     "output_type": "stream",
     "text": [
      "SHAP values difference: -4.4795949349918374e-07\n",
      "Background count: 10\n",
      "Background min diff: -2.2649574279785156\n",
      "Background max diff: 2.4960594177246094\n"
     ]
    },
    {
     "data": {
      "application/vnd.jupyter.widget-view+json": {
       "model_id": "3fbb40745de8482eb527aa5fc7297ff1",
       "version_major": 2,
       "version_minor": 0
      },
      "text/plain": [
       "  0%|          | 0/1 [00:00<?, ?it/s]"
      ]
     },
     "metadata": {},
     "output_type": "display_data"
    },
    {
     "name": "stdout",
     "output_type": "stream",
     "text": [
      "SHAP values difference: 1.168141423590896e-07\n",
      "Background count: 10\n",
      "Background min diff: -2.31256103515625\n",
      "Background max diff: 2.316009521484375\n"
     ]
    },
    {
     "data": {
      "application/vnd.jupyter.widget-view+json": {
       "model_id": "ca9f5591c7364728be2f5fe74b2e6e01",
       "version_major": 2,
       "version_minor": 0
      },
      "text/plain": [
       "  0%|          | 0/1 [00:00<?, ?it/s]"
      ]
     },
     "metadata": {},
     "output_type": "display_data"
    },
    {
     "name": "stdout",
     "output_type": "stream",
     "text": [
      "SHAP values difference: -3.1257152244279496e-07\n",
      "Background count: 10\n",
      "Background min diff: -1.0204696655273438\n",
      "Background max diff: 1.8677749633789062\n"
     ]
    },
    {
     "data": {
      "application/vnd.jupyter.widget-view+json": {
       "model_id": "f7a647a196a74803a0355aac098837e4",
       "version_major": 2,
       "version_minor": 0
      },
      "text/plain": [
       "  0%|          | 0/1 [00:00<?, ?it/s]"
      ]
     },
     "metadata": {},
     "output_type": "display_data"
    },
    {
     "name": "stdout",
     "output_type": "stream",
     "text": [
      "SHAP values difference: 9.5048346082649e-08\n",
      "SHAP values correction 2\n",
      "Background count: 10\n",
      "Background min diff: -1.1487274169921875\n",
      "Background max diff: 1.4365081787109375\n"
     ]
    },
    {
     "data": {
      "application/vnd.jupyter.widget-view+json": {
       "model_id": "e574e11eb6f9467b8e513d1c894b7d56",
       "version_major": 2,
       "version_minor": 0
      },
      "text/plain": [
       "  0%|          | 0/1 [00:00<?, ?it/s]"
      ]
     },
     "metadata": {},
     "output_type": "display_data"
    },
    {
     "name": "stdout",
     "output_type": "stream",
     "text": [
      "SHAP values difference: -2.0043907533739969e-07\n",
      "SHAP values correction 1\n",
      "SHAP values correction 2\n",
      "Background count: 10\n",
      "Background min diff: -4.489509582519531\n",
      "Background max diff: 2.4601364135742188\n"
     ]
    },
    {
     "data": {
      "application/vnd.jupyter.widget-view+json": {
       "model_id": "bc4619c4f0724a939543d3a8bdebd00a",
       "version_major": 2,
       "version_minor": 0
      },
      "text/plain": [
       "  0%|          | 0/1 [00:00<?, ?it/s]"
      ]
     },
     "metadata": {},
     "output_type": "display_data"
    },
    {
     "name": "stdout",
     "output_type": "stream",
     "text": [
      "SHAP values difference: 5.571699830397847e-07\n",
      "Background count: 10\n",
      "Background min diff: -2.7005748748779297\n",
      "Background max diff: 3.7283802032470703\n"
     ]
    },
    {
     "data": {
      "application/vnd.jupyter.widget-view+json": {
       "model_id": "24a74d00e5764b74b9d076bcddb53e3a",
       "version_major": 2,
       "version_minor": 0
      },
      "text/plain": [
       "  0%|          | 0/1 [00:00<?, ?it/s]"
      ]
     },
     "metadata": {},
     "output_type": "display_data"
    },
    {
     "name": "stdout",
     "output_type": "stream",
     "text": [
      "SHAP values difference: 2.6000691377703333e-07\n",
      "Background count: 10\n",
      "Background min diff: -2.498737335205078\n",
      "Background max diff: 2.129833221435547\n"
     ]
    },
    {
     "data": {
      "application/vnd.jupyter.widget-view+json": {
       "model_id": "ba0ef5324e7c4c579566bcd6f59bb3b4",
       "version_major": 2,
       "version_minor": 0
      },
      "text/plain": [
       "  0%|          | 0/1 [00:00<?, ?it/s]"
      ]
     },
     "metadata": {},
     "output_type": "display_data"
    },
    {
     "name": "stdout",
     "output_type": "stream",
     "text": [
      "SHAP values difference: 3.6328903263438406e-07\n",
      "Background count: 10\n",
      "Background min diff: -1.3252372741699219\n",
      "Background max diff: 1.8189888000488281\n"
     ]
    },
    {
     "data": {
      "application/vnd.jupyter.widget-view+json": {
       "model_id": "3455c37361074a15a1af2e9f0bda9872",
       "version_major": 2,
       "version_minor": 0
      },
      "text/plain": [
       "  0%|          | 0/1 [00:00<?, ?it/s]"
      ]
     },
     "metadata": {},
     "output_type": "display_data"
    },
    {
     "name": "stdout",
     "output_type": "stream",
     "text": [
      "SHAP values difference: 2.346533847230603e-07\n",
      "Background count: 10\n",
      "Background min diff: -1.2030372619628906\n",
      "Background max diff: 1.5035972595214844\n"
     ]
    },
    {
     "data": {
      "application/vnd.jupyter.widget-view+json": {
       "model_id": "d69731b2a734493c8b85c82f987f5c27",
       "version_major": 2,
       "version_minor": 0
      },
      "text/plain": [
       "  0%|          | 0/1 [00:00<?, ?it/s]"
      ]
     },
     "metadata": {},
     "output_type": "display_data"
    },
    {
     "name": "stdout",
     "output_type": "stream",
     "text": [
      "SHAP values difference: 4.2899081620362267e-07\n",
      "Background count: 10\n",
      "Background min diff: -1.1265068054199219\n",
      "Background max diff: 1.1747322082519531\n"
     ]
    },
    {
     "data": {
      "application/vnd.jupyter.widget-view+json": {
       "model_id": "c944d0c3018d4e4e88ed6eeed66b38f7",
       "version_major": 2,
       "version_minor": 0
      },
      "text/plain": [
       "  0%|          | 0/1 [00:00<?, ?it/s]"
      ]
     },
     "metadata": {},
     "output_type": "display_data"
    },
    {
     "name": "stdout",
     "output_type": "stream",
     "text": [
      "SHAP values difference: 2.407313814956069e-08\n",
      "Background count: 10\n",
      "Background min diff: -2.039966583251953\n",
      "Background max diff: 1.9879570007324219\n"
     ]
    },
    {
     "data": {
      "application/vnd.jupyter.widget-view+json": {
       "model_id": "95874a45d2b14abfaa11325e1b7f3433",
       "version_major": 2,
       "version_minor": 0
      },
      "text/plain": [
       "  0%|          | 0/1 [00:00<?, ?it/s]"
      ]
     },
     "metadata": {},
     "output_type": "display_data"
    },
    {
     "name": "stdout",
     "output_type": "stream",
     "text": [
      "SHAP values difference: -1.5463204405818942e-07\n",
      "Background count: 10\n",
      "Background min diff: -2.2806854248046875\n",
      "Background max diff: 1.2532806396484375\n"
     ]
    },
    {
     "data": {
      "application/vnd.jupyter.widget-view+json": {
       "model_id": "b1b1dc7785c6459f9f5df8094f5297ad",
       "version_major": 2,
       "version_minor": 0
      },
      "text/plain": [
       "  0%|          | 0/1 [00:00<?, ?it/s]"
      ]
     },
     "metadata": {},
     "output_type": "display_data"
    },
    {
     "name": "stdout",
     "output_type": "stream",
     "text": [
      "SHAP values difference: -1.548138204299221e-07\n",
      "SHAP values correction 2\n",
      "Background count: 10\n",
      "Background min diff: -1.3487014770507812\n",
      "Background max diff: 1.1340255737304688\n"
     ]
    },
    {
     "data": {
      "application/vnd.jupyter.widget-view+json": {
       "model_id": "667e02c2a39d447b8681923bf2d5a30a",
       "version_major": 2,
       "version_minor": 0
      },
      "text/plain": [
       "  0%|          | 0/1 [00:00<?, ?it/s]"
      ]
     },
     "metadata": {},
     "output_type": "display_data"
    },
    {
     "name": "stdout",
     "output_type": "stream",
     "text": [
      "SHAP values difference: -5.105887455059133e-07\n",
      "SHAP values correction 2\n",
      "Background count: 10\n",
      "Background min diff: -12.063278198242188\n",
      "Background max diff: 6.1302642822265625\n"
     ]
    },
    {
     "data": {
      "application/vnd.jupyter.widget-view+json": {
       "model_id": "a62294c7027244f5b3ba110b11db8439",
       "version_major": 2,
       "version_minor": 0
      },
      "text/plain": [
       "  0%|          | 0/1 [00:00<?, ?it/s]"
      ]
     },
     "metadata": {},
     "output_type": "display_data"
    },
    {
     "name": "stdout",
     "output_type": "stream",
     "text": [
      "SHAP values difference: 4.807148457075527e-07\n",
      "Background count: 10\n",
      "Background min diff: -15.162528991699219\n",
      "Background max diff: 3.0310134887695312\n"
     ]
    },
    {
     "data": {
      "application/vnd.jupyter.widget-view+json": {
       "model_id": "98bacc7656b94d2d826d94cbfeb4af92",
       "version_major": 2,
       "version_minor": 0
      },
      "text/plain": [
       "  0%|          | 0/1 [00:00<?, ?it/s]"
      ]
     },
     "metadata": {},
     "output_type": "display_data"
    },
    {
     "name": "stdout",
     "output_type": "stream",
     "text": [
      "SHAP values difference: 2.4075490490105267e-08\n",
      "SHAP values correction 2\n",
      "Background count: 10\n",
      "Background min diff: -1.2114086151123047\n",
      "Background max diff: 1.1085681915283203\n"
     ]
    },
    {
     "data": {
      "application/vnd.jupyter.widget-view+json": {
       "model_id": "822747bf49784da89a8086be7932f731",
       "version_major": 2,
       "version_minor": 0
      },
      "text/plain": [
       "  0%|          | 0/1 [00:00<?, ?it/s]"
      ]
     },
     "metadata": {},
     "output_type": "display_data"
    },
    {
     "name": "stdout",
     "output_type": "stream",
     "text": [
      "SHAP values difference: 6.549399635957798e-07\n",
      "Background count: 10\n",
      "Background min diff: 0.10298442840576172\n",
      "Background max diff: 6.531939506530762\n"
     ]
    },
    {
     "data": {
      "application/vnd.jupyter.widget-view+json": {
       "model_id": "e091d8473dcc42348f630d82b9cbd3ea",
       "version_major": 2,
       "version_minor": 0
      },
      "text/plain": [
       "  0%|          | 0/1 [00:00<?, ?it/s]"
      ]
     },
     "metadata": {},
     "output_type": "display_data"
    },
    {
     "name": "stdout",
     "output_type": "stream",
     "text": [
      "SHAP values difference: -2.1366277636047926e-07\n",
      "Background count: 10\n",
      "Background min diff: -1.6680908203125\n",
      "Background max diff: 1.685394287109375\n"
     ]
    },
    {
     "data": {
      "application/vnd.jupyter.widget-view+json": {
       "model_id": "66d7fec89cf24a0aa8378d1cc4508d90",
       "version_major": 2,
       "version_minor": 0
      },
      "text/plain": [
       "  0%|          | 0/1 [00:00<?, ?it/s]"
      ]
     },
     "metadata": {},
     "output_type": "display_data"
    },
    {
     "name": "stdout",
     "output_type": "stream",
     "text": [
      "SHAP values difference: 8.808602558474377e-08\n",
      "Background count: 10\n",
      "Background min diff: -0.905181884765625\n",
      "Background max diff: 0.8480224609375\n"
     ]
    },
    {
     "data": {
      "application/vnd.jupyter.widget-view+json": {
       "model_id": "2368c4db52004399bac4867806bd04a6",
       "version_major": 2,
       "version_minor": 0
      },
      "text/plain": [
       "  0%|          | 0/1 [00:00<?, ?it/s]"
      ]
     },
     "metadata": {},
     "output_type": "display_data"
    },
    {
     "name": "stdout",
     "output_type": "stream",
     "text": [
      "SHAP values difference: 6.896183819549151e-07\n",
      "SHAP values correction 2\n",
      "Background count: 10\n",
      "Background min diff: -10.628646850585938\n",
      "Background max diff: 7.5648956298828125\n"
     ]
    },
    {
     "data": {
      "application/vnd.jupyter.widget-view+json": {
       "model_id": "a164689653c34619af2ef17f7424ec11",
       "version_major": 2,
       "version_minor": 0
      },
      "text/plain": [
       "  0%|          | 0/1 [00:00<?, ?it/s]"
      ]
     },
     "metadata": {},
     "output_type": "display_data"
    },
    {
     "name": "stdout",
     "output_type": "stream",
     "text": [
      "SHAP values difference: -4.951367884586944e-07\n",
      "Background count: 10\n",
      "Background min diff: -1.6917228698730469\n",
      "Background max diff: 1.5376167297363281\n"
     ]
    },
    {
     "data": {
      "application/vnd.jupyter.widget-view+json": {
       "model_id": "fdbfe1428c4e472a893f6fea67600509",
       "version_major": 2,
       "version_minor": 0
      },
      "text/plain": [
       "  0%|          | 0/1 [00:00<?, ?it/s]"
      ]
     },
     "metadata": {},
     "output_type": "display_data"
    },
    {
     "name": "stdout",
     "output_type": "stream",
     "text": [
      "SHAP values difference: -2.8007029584387055e-07\n",
      "Background count: 10\n",
      "Background min diff: -1.1268234252929688\n",
      "Background max diff: 1.4584121704101562\n"
     ]
    },
    {
     "data": {
      "application/vnd.jupyter.widget-view+json": {
       "model_id": "ed89b6c2431846b9b9f68bdf610718b2",
       "version_major": 2,
       "version_minor": 0
      },
      "text/plain": [
       "  0%|          | 0/1 [00:00<?, ?it/s]"
      ]
     },
     "metadata": {},
     "output_type": "display_data"
    },
    {
     "name": "stdout",
     "output_type": "stream",
     "text": [
      "SHAP values difference: 3.386099223234851e-07\n",
      "Background count: 10\n",
      "Background min diff: -0.4068946838378906\n",
      "Background max diff: 1.3463096618652344\n"
     ]
    },
    {
     "data": {
      "application/vnd.jupyter.widget-view+json": {
       "model_id": "aab62c24dde54142a1bead79e4de5538",
       "version_major": 2,
       "version_minor": 0
      },
      "text/plain": [
       "  0%|          | 0/1 [00:00<?, ?it/s]"
      ]
     },
     "metadata": {},
     "output_type": "display_data"
    },
    {
     "name": "stdout",
     "output_type": "stream",
     "text": [
      "SHAP values difference: -2.683447899443081e-07\n",
      "Background count: 10\n",
      "Background min diff: -2.393096923828125\n",
      "Background max diff: 1.96685791015625\n"
     ]
    },
    {
     "data": {
      "application/vnd.jupyter.widget-view+json": {
       "model_id": "4f561a642f0e4ee3b2151129bbc445cf",
       "version_major": 2,
       "version_minor": 0
      },
      "text/plain": [
       "  0%|          | 0/1 [00:00<?, ?it/s]"
      ]
     },
     "metadata": {},
     "output_type": "display_data"
    },
    {
     "name": "stdout",
     "output_type": "stream",
     "text": [
      "SHAP values difference: -6.213131342747147e-07\n",
      "Background count: 10\n",
      "Background min diff: -0.6045455932617188\n",
      "Background max diff: 1.1704177856445312\n"
     ]
    },
    {
     "data": {
      "application/vnd.jupyter.widget-view+json": {
       "model_id": "544146bfb9ea41e089e09fc9187d4a35",
       "version_major": 2,
       "version_minor": 0
      },
      "text/plain": [
       "  0%|          | 0/1 [00:00<?, ?it/s]"
      ]
     },
     "metadata": {},
     "output_type": "display_data"
    },
    {
     "name": "stdout",
     "output_type": "stream",
     "text": [
      "SHAP values difference: 2.2691418166687072e-07\n",
      "Background count: 10\n",
      "Background min diff: -2.6471900939941406\n",
      "Background max diff: 2.6477622985839844\n"
     ]
    },
    {
     "data": {
      "application/vnd.jupyter.widget-view+json": {
       "model_id": "7d16a03bc48c49ea993bd11faff36d30",
       "version_major": 2,
       "version_minor": 0
      },
      "text/plain": [
       "  0%|          | 0/1 [00:00<?, ?it/s]"
      ]
     },
     "metadata": {},
     "output_type": "display_data"
    },
    {
     "name": "stdout",
     "output_type": "stream",
     "text": [
      "SHAP values difference: -1.8936891166276837e-08\n",
      "SHAP values correction 2\n",
      "Background count: 10\n",
      "Background min diff: -1.6644515991210938\n",
      "Background max diff: 1.2399673461914062\n"
     ]
    },
    {
     "data": {
      "application/vnd.jupyter.widget-view+json": {
       "model_id": "9d62e570a4444bc59ba4b7e93fa6acf7",
       "version_major": 2,
       "version_minor": 0
      },
      "text/plain": [
       "  0%|          | 0/1 [00:00<?, ?it/s]"
      ]
     },
     "metadata": {},
     "output_type": "display_data"
    },
    {
     "name": "stdout",
     "output_type": "stream",
     "text": [
      "SHAP values difference: 3.5939780218541273e-07\n",
      "Background count: 10\n",
      "Background min diff: -1.5497398376464844\n",
      "Background max diff: 1.5944862365722656\n"
     ]
    },
    {
     "data": {
      "application/vnd.jupyter.widget-view+json": {
       "model_id": "64cb0b65ac6c4ecb844f2297bff0fe5f",
       "version_major": 2,
       "version_minor": 0
      },
      "text/plain": [
       "  0%|          | 0/1 [00:00<?, ?it/s]"
      ]
     },
     "metadata": {},
     "output_type": "display_data"
    },
    {
     "name": "stdout",
     "output_type": "stream",
     "text": [
      "SHAP values difference: 2.1063434019197302e-07\n",
      "Background count: 10\n",
      "Background min diff: -2.6645851135253906\n",
      "Background max diff: 2.6708641052246094\n"
     ]
    },
    {
     "data": {
      "application/vnd.jupyter.widget-view+json": {
       "model_id": "8383f6bed7df433dac7be5cab4f4603a",
       "version_major": 2,
       "version_minor": 0
      },
      "text/plain": [
       "  0%|          | 0/1 [00:00<?, ?it/s]"
      ]
     },
     "metadata": {},
     "output_type": "display_data"
    },
    {
     "name": "stdout",
     "output_type": "stream",
     "text": [
      "SHAP values difference: -2.0026840097386867e-07\n",
      "Background count: 10\n",
      "Background min diff: -0.8939247131347656\n",
      "Background max diff: 1.0518760681152344\n"
     ]
    },
    {
     "data": {
      "application/vnd.jupyter.widget-view+json": {
       "model_id": "092d08a79aed43a181817558cdc85b34",
       "version_major": 2,
       "version_minor": 0
      },
      "text/plain": [
       "  0%|          | 0/1 [00:00<?, ?it/s]"
      ]
     },
     "metadata": {},
     "output_type": "display_data"
    },
    {
     "name": "stdout",
     "output_type": "stream",
     "text": [
      "SHAP values difference: 2.682107798079869e-07\n",
      "Background count: 10\n",
      "Background min diff: -4.994701385498047\n",
      "Background max diff: 4.842975616455078\n"
     ]
    },
    {
     "data": {
      "application/vnd.jupyter.widget-view+json": {
       "model_id": "dca9baefdafb478a93b3a0e52982bc1b",
       "version_major": 2,
       "version_minor": 0
      },
      "text/plain": [
       "  0%|          | 0/1 [00:00<?, ?it/s]"
      ]
     },
     "metadata": {},
     "output_type": "display_data"
    },
    {
     "name": "stdout",
     "output_type": "stream",
     "text": [
      "SHAP values difference: -4.379131084419896e-07\n",
      "SHAP values correction 2\n",
      "Background count: 10\n",
      "Background min diff: -1.8499374389648438\n",
      "Background max diff: 2.5982131958007812\n"
     ]
    },
    {
     "data": {
      "application/vnd.jupyter.widget-view+json": {
       "model_id": "1a2c09a3590142089334c1fb9e09823a",
       "version_major": 2,
       "version_minor": 0
      },
      "text/plain": [
       "  0%|          | 0/1 [00:00<?, ?it/s]"
      ]
     },
     "metadata": {},
     "output_type": "display_data"
    },
    {
     "name": "stdout",
     "output_type": "stream",
     "text": [
      "SHAP values difference: 1.7367044264915421e-06\n",
      "SHAP values correction 1\n",
      "SHAP values correction 2\n",
      "Background count: 10\n",
      "Background min diff: -1.1674461364746094\n",
      "Background max diff: 1.5391883850097656\n"
     ]
    },
    {
     "data": {
      "application/vnd.jupyter.widget-view+json": {
       "model_id": "7f1ff1765a564b94b703800eb4934a95",
       "version_major": 2,
       "version_minor": 0
      },
      "text/plain": [
       "  0%|          | 0/1 [00:00<?, ?it/s]"
      ]
     },
     "metadata": {},
     "output_type": "display_data"
    },
    {
     "name": "stdout",
     "output_type": "stream",
     "text": [
      "SHAP values difference: 9.358898367395341e-08\n",
      "Background count: 10\n",
      "Background min diff: -1.1082763671875\n",
      "Background max diff: 0.9268798828125\n"
     ]
    },
    {
     "data": {
      "application/vnd.jupyter.widget-view+json": {
       "model_id": "6f58941ebcbe4c3c9ee94ecd95f56417",
       "version_major": 2,
       "version_minor": 0
      },
      "text/plain": [
       "  0%|          | 0/1 [00:00<?, ?it/s]"
      ]
     },
     "metadata": {},
     "output_type": "display_data"
    },
    {
     "name": "stdout",
     "output_type": "stream",
     "text": [
      "SHAP values difference: -3.164094550811569e-07\n",
      "Background count: 10\n",
      "Background min diff: -2.1390380859375\n",
      "Background max diff: 1.51434326171875\n"
     ]
    },
    {
     "data": {
      "application/vnd.jupyter.widget-view+json": {
       "model_id": "d55b4479426d43a3957a95462f363cda",
       "version_major": 2,
       "version_minor": 0
      },
      "text/plain": [
       "  0%|          | 0/1 [00:00<?, ?it/s]"
      ]
     },
     "metadata": {},
     "output_type": "display_data"
    },
    {
     "name": "stdout",
     "output_type": "stream",
     "text": [
      "SHAP values difference: 5.458866851881794e-07\n",
      "SHAP values correction 2\n",
      "Background count: 10\n",
      "Background min diff: -1.1003150939941406\n",
      "Background max diff: 1.0587730407714844\n"
     ]
    },
    {
     "data": {
      "application/vnd.jupyter.widget-view+json": {
       "model_id": "0d6c4e5ac2064816bffd82ff12326793",
       "version_major": 2,
       "version_minor": 0
      },
      "text/plain": [
       "  0%|          | 0/1 [00:00<?, ?it/s]"
      ]
     },
     "metadata": {},
     "output_type": "display_data"
    },
    {
     "name": "stdout",
     "output_type": "stream",
     "text": [
      "SHAP values difference: -1.2812987648658236e-07\n",
      "SHAP values correction 1\n",
      "SHAP values correction 2\n",
      "Background count: 10\n",
      "Background min diff: -7.083683013916016\n",
      "Background max diff: 2.7539939880371094\n"
     ]
    },
    {
     "data": {
      "application/vnd.jupyter.widget-view+json": {
       "model_id": "1c421cbffc574541a7f9083d941e1f38",
       "version_major": 2,
       "version_minor": 0
      },
      "text/plain": [
       "  0%|          | 0/1 [00:00<?, ?it/s]"
      ]
     },
     "metadata": {},
     "output_type": "display_data"
    },
    {
     "name": "stdout",
     "output_type": "stream",
     "text": [
      "SHAP values difference: 2.454983984989667e-07\n",
      "Background count: 10\n",
      "Background min diff: -2.919281005859375\n",
      "Background max diff: 1.861572265625\n"
     ]
    },
    {
     "data": {
      "application/vnd.jupyter.widget-view+json": {
       "model_id": "4d70a62706d84f52a0de0bfa8c6a5132",
       "version_major": 2,
       "version_minor": 0
      },
      "text/plain": [
       "  0%|          | 0/1 [00:00<?, ?it/s]"
      ]
     },
     "metadata": {},
     "output_type": "display_data"
    },
    {
     "name": "stdout",
     "output_type": "stream",
     "text": [
      "SHAP values difference: -5.692115756517069e-08\n",
      "SHAP values correction 2\n",
      "Background count: 10\n",
      "Background min diff: -6.612770080566406\n",
      "Background max diff: 3.2249069213867188\n"
     ]
    },
    {
     "data": {
      "application/vnd.jupyter.widget-view+json": {
       "model_id": "4d8e5433adb5484abf68d51959ef7d63",
       "version_major": 2,
       "version_minor": 0
      },
      "text/plain": [
       "  0%|          | 0/1 [00:00<?, ?it/s]"
      ]
     },
     "metadata": {},
     "output_type": "display_data"
    },
    {
     "name": "stdout",
     "output_type": "stream",
     "text": [
      "SHAP values difference: 1.5999621183482304e-07\n",
      "Background count: 10\n",
      "Background min diff: -1.7998218536376953\n",
      "Background max diff: 4.629133224487305\n"
     ]
    },
    {
     "data": {
      "application/vnd.jupyter.widget-view+json": {
       "model_id": "70bfcf2bd8b245b99adcda7c1416ae17",
       "version_major": 2,
       "version_minor": 0
      },
      "text/plain": [
       "  0%|          | 0/1 [00:00<?, ?it/s]"
      ]
     },
     "metadata": {},
     "output_type": "display_data"
    },
    {
     "name": "stdout",
     "output_type": "stream",
     "text": [
      "SHAP values difference: -1.690898372430638e-07\n",
      "SHAP values correction 2\n",
      "Background count: 10\n",
      "Background min diff: -15.526657104492188\n",
      "Background max diff: 2.6668853759765625\n"
     ]
    },
    {
     "data": {
      "application/vnd.jupyter.widget-view+json": {
       "model_id": "149b2045886a43f68b1e4790dddd2376",
       "version_major": 2,
       "version_minor": 0
      },
      "text/plain": [
       "  0%|          | 0/1 [00:00<?, ?it/s]"
      ]
     },
     "metadata": {},
     "output_type": "display_data"
    },
    {
     "name": "stdout",
     "output_type": "stream",
     "text": [
      "SHAP values difference: 5.793115818164551e-07\n",
      "Background count: 10\n",
      "Background min diff: -1.9444465637207031\n",
      "Background max diff: 2.100780487060547\n"
     ]
    },
    {
     "data": {
      "application/vnd.jupyter.widget-view+json": {
       "model_id": "454eb17723164b4eab5e264595d032b3",
       "version_major": 2,
       "version_minor": 0
      },
      "text/plain": [
       "  0%|          | 0/1 [00:00<?, ?it/s]"
      ]
     },
     "metadata": {},
     "output_type": "display_data"
    },
    {
     "name": "stdout",
     "output_type": "stream",
     "text": [
      "SHAP values difference: 9.030645307106511e-07\n",
      "SHAP values correction 2\n",
      "Background count: 10\n",
      "Background min diff: -1.1823387145996094\n",
      "Background max diff: 1.2728309631347656\n"
     ]
    },
    {
     "data": {
      "application/vnd.jupyter.widget-view+json": {
       "model_id": "c67492b3e32d423dbe43f70c515cf7e9",
       "version_major": 2,
       "version_minor": 0
      },
      "text/plain": [
       "  0%|          | 0/1 [00:00<?, ?it/s]"
      ]
     },
     "metadata": {},
     "output_type": "display_data"
    },
    {
     "name": "stdout",
     "output_type": "stream",
     "text": [
      "SHAP values difference: -9.492779895481362e-08\n",
      "Background count: 10\n",
      "Background min diff: -1.4392585754394531\n",
      "Background max diff: 1.6872673034667969\n"
     ]
    },
    {
     "data": {
      "application/vnd.jupyter.widget-view+json": {
       "model_id": "8dea12fcb18542f580d58d241e8e9994",
       "version_major": 2,
       "version_minor": 0
      },
      "text/plain": [
       "  0%|          | 0/1 [00:00<?, ?it/s]"
      ]
     },
     "metadata": {},
     "output_type": "display_data"
    },
    {
     "name": "stdout",
     "output_type": "stream",
     "text": [
      "SHAP values difference: 1.2253284253915808e-07\n",
      "Background count: 10\n",
      "Background min diff: -1.2786903381347656\n",
      "Background max diff: 1.8655357360839844\n"
     ]
    },
    {
     "data": {
      "application/vnd.jupyter.widget-view+json": {
       "model_id": "aa9a70f51ec14ad89f3f3bc2f7a75c04",
       "version_major": 2,
       "version_minor": 0
      },
      "text/plain": [
       "  0%|          | 0/1 [00:00<?, ?it/s]"
      ]
     },
     "metadata": {},
     "output_type": "display_data"
    },
    {
     "name": "stdout",
     "output_type": "stream",
     "text": [
      "SHAP values difference: -2.9648412436245053e-07\n",
      "Background count: 10\n",
      "Background min diff: -0.3165435791015625\n",
      "Background max diff: 1.4366607666015625\n"
     ]
    },
    {
     "data": {
      "application/vnd.jupyter.widget-view+json": {
       "model_id": "14b7ac8593fc48a39b9b25733b9ba1ef",
       "version_major": 2,
       "version_minor": 0
      },
      "text/plain": [
       "  0%|          | 0/1 [00:00<?, ?it/s]"
      ]
     },
     "metadata": {},
     "output_type": "display_data"
    },
    {
     "name": "stdout",
     "output_type": "stream",
     "text": [
      "SHAP values difference: 2.728582941813329e-07\n",
      "Background count: 10\n",
      "Background min diff: -26.41509246826172\n",
      "Background max diff: -8.221549987792969\n"
     ]
    },
    {
     "data": {
      "application/vnd.jupyter.widget-view+json": {
       "model_id": "f5d7a9ad9ef34b9dbb630a9ca80c3260",
       "version_major": 2,
       "version_minor": 0
      },
      "text/plain": [
       "  0%|          | 0/1 [00:00<?, ?it/s]"
      ]
     },
     "metadata": {},
     "output_type": "display_data"
    },
    {
     "name": "stdout",
     "output_type": "stream",
     "text": [
      "SHAP values difference: 1.0598298416653051e-07\n",
      "Background count: 10\n",
      "Background min diff: -1.2269783020019531\n",
      "Background max diff: 1.1385002136230469\n"
     ]
    },
    {
     "data": {
      "application/vnd.jupyter.widget-view+json": {
       "model_id": "57a664656fbb4a5cb7843eede78bd482",
       "version_major": 2,
       "version_minor": 0
      },
      "text/plain": [
       "  0%|          | 0/1 [00:00<?, ?it/s]"
      ]
     },
     "metadata": {},
     "output_type": "display_data"
    },
    {
     "name": "stdout",
     "output_type": "stream",
     "text": [
      "SHAP values difference: -2.496111797256617e-07\n",
      "Background count: 10\n",
      "Background min diff: -0.6806793212890625\n",
      "Background max diff: 1.0725250244140625\n"
     ]
    },
    {
     "data": {
      "application/vnd.jupyter.widget-view+json": {
       "model_id": "78ab2f7b118a48449020f583f6652c96",
       "version_major": 2,
       "version_minor": 0
      },
      "text/plain": [
       "  0%|          | 0/1 [00:00<?, ?it/s]"
      ]
     },
     "metadata": {},
     "output_type": "display_data"
    },
    {
     "name": "stdout",
     "output_type": "stream",
     "text": [
      "SHAP values difference: 5.2140594064553625e-08\n",
      "SHAP values correction 2\n",
      "Background count: 10\n",
      "Background min diff: -1.3973579406738281\n",
      "Background max diff: 1.2293510437011719\n"
     ]
    },
    {
     "data": {
      "application/vnd.jupyter.widget-view+json": {
       "model_id": "292580ccce1748dca0f97937c020fb60",
       "version_major": 2,
       "version_minor": 0
      },
      "text/plain": [
       "  0%|          | 0/1 [00:00<?, ?it/s]"
      ]
     },
     "metadata": {},
     "output_type": "display_data"
    },
    {
     "name": "stdout",
     "output_type": "stream",
     "text": [
      "SHAP values difference: -3.089094402497494e-08\n",
      "SHAP values correction 1\n",
      "SHAP values correction 2\n",
      "Background count: 10\n",
      "Background min diff: -3.3968734741210938\n",
      "Background max diff: 2.7070388793945312\n"
     ]
    },
    {
     "data": {
      "application/vnd.jupyter.widget-view+json": {
       "model_id": "2a23f1affa4248cea96db713b7083a05",
       "version_major": 2,
       "version_minor": 0
      },
      "text/plain": [
       "  0%|          | 0/1 [00:00<?, ?it/s]"
      ]
     },
     "metadata": {},
     "output_type": "display_data"
    },
    {
     "name": "stdout",
     "output_type": "stream",
     "text": [
      "SHAP values difference: 9.087232939464229e-07\n",
      "SHAP values correction 2\n",
      "Background count: 10\n",
      "Background min diff: -2.3994903564453125\n",
      "Background max diff: 1.9840240478515625\n"
     ]
    },
    {
     "data": {
      "application/vnd.jupyter.widget-view+json": {
       "model_id": "4ee1f2f3440e4a8297e75d89ad0d15c4",
       "version_major": 2,
       "version_minor": 0
      },
      "text/plain": [
       "  0%|          | 0/1 [00:00<?, ?it/s]"
      ]
     },
     "metadata": {},
     "output_type": "display_data"
    },
    {
     "name": "stdout",
     "output_type": "stream",
     "text": [
      "SHAP values difference: -4.174623811081801e-07\n",
      "Background count: 10\n",
      "Background min diff: -1.1089096069335938\n",
      "Background max diff: 0.46512603759765625\n"
     ]
    },
    {
     "data": {
      "application/vnd.jupyter.widget-view+json": {
       "model_id": "01c08cfc4a6540458330b58edcbba28c",
       "version_major": 2,
       "version_minor": 0
      },
      "text/plain": [
       "  0%|          | 0/1 [00:00<?, ?it/s]"
      ]
     },
     "metadata": {},
     "output_type": "display_data"
    },
    {
     "name": "stdout",
     "output_type": "stream",
     "text": [
      "SHAP values difference: -5.033285788158537e-07\n",
      "SHAP values correction 2\n",
      "Background count: 10\n",
      "Background min diff: -1.447265625\n",
      "Background max diff: 1.03546142578125\n"
     ]
    },
    {
     "data": {
      "application/vnd.jupyter.widget-view+json": {
       "model_id": "ee6ad90377834bb4ac97dbaa24bff9ff",
       "version_major": 2,
       "version_minor": 0
      },
      "text/plain": [
       "  0%|          | 0/1 [00:00<?, ?it/s]"
      ]
     },
     "metadata": {},
     "output_type": "display_data"
    },
    {
     "name": "stdout",
     "output_type": "stream",
     "text": [
      "SHAP values difference: -1.7033300281354968e-07\n",
      "Background count: 10\n",
      "Background min diff: -1.2223587036132812\n",
      "Background max diff: 1.0976181030273438\n"
     ]
    },
    {
     "data": {
      "application/vnd.jupyter.widget-view+json": {
       "model_id": "53a07ce66aed433392ea2847c384b1e1",
       "version_major": 2,
       "version_minor": 0
      },
      "text/plain": [
       "  0%|          | 0/1 [00:00<?, ?it/s]"
      ]
     },
     "metadata": {},
     "output_type": "display_data"
    },
    {
     "name": "stdout",
     "output_type": "stream",
     "text": [
      "SHAP values difference: -3.0046695798091605e-08\n",
      "Background count: 10\n",
      "Background min diff: -1.5941658020019531\n",
      "Background max diff: 1.7593193054199219\n"
     ]
    },
    {
     "data": {
      "application/vnd.jupyter.widget-view+json": {
       "model_id": "952235872a6749288309e2b53fa5230a",
       "version_major": 2,
       "version_minor": 0
      },
      "text/plain": [
       "  0%|          | 0/1 [00:00<?, ?it/s]"
      ]
     },
     "metadata": {},
     "output_type": "display_data"
    },
    {
     "name": "stdout",
     "output_type": "stream",
     "text": [
      "SHAP values difference: 6.152293821060084e-07\n",
      "Background count: 10\n",
      "Background min diff: -0.9465484619140625\n",
      "Background max diff: 1.9416961669921875\n"
     ]
    },
    {
     "data": {
      "application/vnd.jupyter.widget-view+json": {
       "model_id": "85c1986993d44b1c9cb58ada64c9eccb",
       "version_major": 2,
       "version_minor": 0
      },
      "text/plain": [
       "  0%|          | 0/1 [00:00<?, ?it/s]"
      ]
     },
     "metadata": {},
     "output_type": "display_data"
    },
    {
     "name": "stdout",
     "output_type": "stream",
     "text": [
      "SHAP values difference: 3.8423477022320185e-07\n",
      "SHAP values correction 2\n",
      "Background count: 10\n",
      "Background min diff: -2.8125267028808594\n",
      "Background max diff: 1.9484901428222656\n"
     ]
    },
    {
     "data": {
      "application/vnd.jupyter.widget-view+json": {
       "model_id": "473b5df2081c424abc1cf3739e5ce9ec",
       "version_major": 2,
       "version_minor": 0
      },
      "text/plain": [
       "  0%|          | 0/1 [00:00<?, ?it/s]"
      ]
     },
     "metadata": {},
     "output_type": "display_data"
    },
    {
     "name": "stdout",
     "output_type": "stream",
     "text": [
      "SHAP values difference: 1.565707208328604e-07\n",
      "Background count: 10\n",
      "Background min diff: -0.5799064636230469\n",
      "Background max diff: 1.1950569152832031\n"
     ]
    },
    {
     "data": {
      "application/vnd.jupyter.widget-view+json": {
       "model_id": "c21c044b6e9d44428b755bfa020c1fd0",
       "version_major": 2,
       "version_minor": 0
      },
      "text/plain": [
       "  0%|          | 0/1 [00:00<?, ?it/s]"
      ]
     },
     "metadata": {},
     "output_type": "display_data"
    },
    {
     "name": "stdout",
     "output_type": "stream",
     "text": [
      "SHAP values difference: 7.181097938513403e-09\n",
      "SHAP values correction 1\n",
      "Background count: 10\n",
      "Background min diff: -3.0802955627441406\n",
      "Background max diff: 1.2796592712402344\n"
     ]
    },
    {
     "data": {
      "application/vnd.jupyter.widget-view+json": {
       "model_id": "80ad5b1de4f44b4a90448b6d373606a5",
       "version_major": 2,
       "version_minor": 0
      },
      "text/plain": [
       "  0%|          | 0/1 [00:00<?, ?it/s]"
      ]
     },
     "metadata": {},
     "output_type": "display_data"
    },
    {
     "name": "stdout",
     "output_type": "stream",
     "text": [
      "SHAP values difference: -3.865007229819639e-07\n",
      "Background count: 10\n",
      "Background min diff: -1.6182823181152344\n",
      "Background max diff: 2.7416725158691406\n"
     ]
    },
    {
     "data": {
      "application/vnd.jupyter.widget-view+json": {
       "model_id": "2e922f7a375d409a80d9940364648d85",
       "version_major": 2,
       "version_minor": 0
      },
      "text/plain": [
       "  0%|          | 0/1 [00:00<?, ?it/s]"
      ]
     },
     "metadata": {},
     "output_type": "display_data"
    },
    {
     "name": "stdout",
     "output_type": "stream",
     "text": [
      "SHAP values difference: 7.882796992930707e-08\n",
      "Background count: 10\n",
      "Background min diff: -1.9687957763671875\n",
      "Background max diff: 1.5820770263671875\n"
     ]
    },
    {
     "data": {
      "application/vnd.jupyter.widget-view+json": {
       "model_id": "ed1d7faa335e4017abb6621364748707",
       "version_major": 2,
       "version_minor": 0
      },
      "text/plain": [
       "  0%|          | 0/1 [00:00<?, ?it/s]"
      ]
     },
     "metadata": {},
     "output_type": "display_data"
    },
    {
     "name": "stdout",
     "output_type": "stream",
     "text": [
      "SHAP values difference: 1.9072409429554682e-08\n",
      "Background count: 10\n",
      "Background min diff: -1.1033611297607422\n",
      "Background max diff: 0.9985370635986328\n"
     ]
    },
    {
     "data": {
      "application/vnd.jupyter.widget-view+json": {
       "model_id": "6e23defad8a248c9bdc932be0c0739b3",
       "version_major": 2,
       "version_minor": 0
      },
      "text/plain": [
       "  0%|          | 0/1 [00:00<?, ?it/s]"
      ]
     },
     "metadata": {},
     "output_type": "display_data"
    },
    {
     "name": "stdout",
     "output_type": "stream",
     "text": [
      "SHAP values difference: 5.652887793416994e-07\n",
      "Background count: 10\n",
      "Background min diff: -0.7858467102050781\n",
      "Background max diff: 0.7881889343261719\n"
     ]
    },
    {
     "data": {
      "application/vnd.jupyter.widget-view+json": {
       "model_id": "00314fb9f05040acb8f2ad71a76fb1b8",
       "version_major": 2,
       "version_minor": 0
      },
      "text/plain": [
       "  0%|          | 0/1 [00:00<?, ?it/s]"
      ]
     },
     "metadata": {},
     "output_type": "display_data"
    },
    {
     "name": "stdout",
     "output_type": "stream",
     "text": [
      "SHAP values difference: 1.0731873132385772e-06\n",
      "SHAP values correction 2\n",
      "Background count: 10\n",
      "Background min diff: -0.651092529296875\n",
      "Background max diff: 1.123870849609375\n"
     ]
    },
    {
     "data": {
      "application/vnd.jupyter.widget-view+json": {
       "model_id": "e82690554077480099d8eb100cdd0db2",
       "version_major": 2,
       "version_minor": 0
      },
      "text/plain": [
       "  0%|          | 0/1 [00:00<?, ?it/s]"
      ]
     },
     "metadata": {},
     "output_type": "display_data"
    },
    {
     "name": "stdout",
     "output_type": "stream",
     "text": [
      "SHAP values difference: -2.476843121712591e-07\n",
      "Background count: 10\n",
      "Background min diff: -1.3443984985351562\n",
      "Background max diff: 1.7998275756835938\n"
     ]
    },
    {
     "data": {
      "application/vnd.jupyter.widget-view+json": {
       "model_id": "9e9e6d7befb740e093b47495d71b5fcf",
       "version_major": 2,
       "version_minor": 0
      },
      "text/plain": [
       "  0%|          | 0/1 [00:00<?, ?it/s]"
      ]
     },
     "metadata": {},
     "output_type": "display_data"
    },
    {
     "name": "stdout",
     "output_type": "stream",
     "text": [
      "SHAP values difference: 2.3068208854226668e-07\n",
      "SHAP values correction 2\n",
      "Background count: 10\n",
      "Background min diff: -1.0730514526367188\n",
      "Background max diff: 1.1487503051757812\n"
     ]
    },
    {
     "data": {
      "application/vnd.jupyter.widget-view+json": {
       "model_id": "81360e5398e34d23acf63c74a1b45393",
       "version_major": 2,
       "version_minor": 0
      },
      "text/plain": [
       "  0%|          | 0/1 [00:00<?, ?it/s]"
      ]
     },
     "metadata": {},
     "output_type": "display_data"
    },
    {
     "name": "stdout",
     "output_type": "stream",
     "text": [
      "SHAP values difference: -6.801032270686846e-08\n",
      "Background count: 10\n",
      "Background min diff: -2.6121253967285156\n",
      "Background max diff: 1.7478294372558594\n"
     ]
    },
    {
     "data": {
      "application/vnd.jupyter.widget-view+json": {
       "model_id": "f657b44c150f4cbc89b6cb3346d304c1",
       "version_major": 2,
       "version_minor": 0
      },
      "text/plain": [
       "  0%|          | 0/1 [00:00<?, ?it/s]"
      ]
     },
     "metadata": {},
     "output_type": "display_data"
    },
    {
     "name": "stdout",
     "output_type": "stream",
     "text": [
      "SHAP values difference: -1.1800975130427105e-07\n",
      "Background count: 10\n",
      "Background min diff: -1.7474861145019531\n",
      "Background max diff: 1.6059989929199219\n"
     ]
    },
    {
     "data": {
      "application/vnd.jupyter.widget-view+json": {
       "model_id": "99006b454b0244ac86c0c3ea7396b30e",
       "version_major": 2,
       "version_minor": 0
      },
      "text/plain": [
       "  0%|          | 0/1 [00:00<?, ?it/s]"
      ]
     },
     "metadata": {},
     "output_type": "display_data"
    },
    {
     "name": "stdout",
     "output_type": "stream",
     "text": [
      "SHAP values difference: 2.811696582227796e-07\n",
      "Background count: 10\n",
      "Background min diff: -1.81097412109375\n",
      "Background max diff: 2.43328857421875\n"
     ]
    },
    {
     "data": {
      "application/vnd.jupyter.widget-view+json": {
       "model_id": "130eb552a41f4209b2a9c60645e5c656",
       "version_major": 2,
       "version_minor": 0
      },
      "text/plain": [
       "  0%|          | 0/1 [00:00<?, ?it/s]"
      ]
     },
     "metadata": {},
     "output_type": "display_data"
    },
    {
     "name": "stdout",
     "output_type": "stream",
     "text": [
      "SHAP values difference: -3.5933032904722495e-07\n",
      "Background count: 10\n",
      "Background min diff: -1.0690116882324219\n",
      "Background max diff: 1.2322273254394531\n"
     ]
    },
    {
     "data": {
      "application/vnd.jupyter.widget-view+json": {
       "model_id": "c7c3b5c328fa4eecbf2d908d9bc2e963",
       "version_major": 2,
       "version_minor": 0
      },
      "text/plain": [
       "  0%|          | 0/1 [00:00<?, ?it/s]"
      ]
     },
     "metadata": {},
     "output_type": "display_data"
    },
    {
     "name": "stdout",
     "output_type": "stream",
     "text": [
      "SHAP values difference: -3.0618362956147394e-07\n",
      "Background count: 10\n",
      "Background min diff: -2.0473709106445312\n",
      "Background max diff: 1.9849166870117188\n"
     ]
    },
    {
     "data": {
      "application/vnd.jupyter.widget-view+json": {
       "model_id": "a83e2f839ea04846a5f7998d432de1d1",
       "version_major": 2,
       "version_minor": 0
      },
      "text/plain": [
       "  0%|          | 0/1 [00:00<?, ?it/s]"
      ]
     },
     "metadata": {},
     "output_type": "display_data"
    },
    {
     "name": "stdout",
     "output_type": "stream",
     "text": [
      "SHAP values difference: 5.031707885905234e-07\n",
      "Background count: 10\n",
      "Background min diff: -0.9657135009765625\n",
      "Background max diff: 1.9225311279296875\n"
     ]
    },
    {
     "data": {
      "application/vnd.jupyter.widget-view+json": {
       "model_id": "8b558229c3654d729b37ab8f66801cab",
       "version_major": 2,
       "version_minor": 0
      },
      "text/plain": [
       "  0%|          | 0/1 [00:00<?, ?it/s]"
      ]
     },
     "metadata": {},
     "output_type": "display_data"
    },
    {
     "name": "stdout",
     "output_type": "stream",
     "text": [
      "SHAP values difference: 9.955115842785744e-08\n",
      "SHAP values correction 2\n",
      "Background count: 10\n",
      "Background min diff: -19.573204040527344\n",
      "Background max diff: -1.3796615600585938\n"
     ]
    },
    {
     "data": {
      "application/vnd.jupyter.widget-view+json": {
       "model_id": "a371f9d2049b4f009b8d828f196b91db",
       "version_major": 2,
       "version_minor": 0
      },
      "text/plain": [
       "  0%|          | 0/1 [00:00<?, ?it/s]"
      ]
     },
     "metadata": {},
     "output_type": "display_data"
    },
    {
     "name": "stdout",
     "output_type": "stream",
     "text": [
      "SHAP values difference: 2.476310179133634e-07\n",
      "Background count: 10\n",
      "Background min diff: -2.7249183654785156\n",
      "Background max diff: 2.0360984802246094\n"
     ]
    },
    {
     "data": {
      "application/vnd.jupyter.widget-view+json": {
       "model_id": "9afd1342d08d42c59cae3ed8e5f1111d",
       "version_major": 2,
       "version_minor": 0
      },
      "text/plain": [
       "  0%|          | 0/1 [00:00<?, ?it/s]"
      ]
     },
     "metadata": {},
     "output_type": "display_data"
    },
    {
     "name": "stdout",
     "output_type": "stream",
     "text": [
      "SHAP values difference: -1.3054375358478865e-07\n",
      "Background count: 10\n",
      "Background min diff: -0.3898286819458008\n",
      "Background max diff: 6.039126396179199\n"
     ]
    },
    {
     "data": {
      "application/vnd.jupyter.widget-view+json": {
       "model_id": "a6756b94cba2499091aafbafa2693473",
       "version_major": 2,
       "version_minor": 0
      },
      "text/plain": [
       "  0%|          | 0/1 [00:00<?, ?it/s]"
      ]
     },
     "metadata": {},
     "output_type": "display_data"
    },
    {
     "name": "stdout",
     "output_type": "stream",
     "text": [
      "SHAP values difference: 3.5791082098057814e-07\n",
      "Background count: 10\n",
      "Background min diff: -1.7406425476074219\n",
      "Background max diff: 1.7608528137207031\n"
     ]
    },
    {
     "data": {
      "application/vnd.jupyter.widget-view+json": {
       "model_id": "486716b1bae742fab251a752dad3e65a",
       "version_major": 2,
       "version_minor": 0
      },
      "text/plain": [
       "  0%|          | 0/1 [00:00<?, ?it/s]"
      ]
     },
     "metadata": {},
     "output_type": "display_data"
    },
    {
     "name": "stdout",
     "output_type": "stream",
     "text": [
      "SHAP values difference: -5.469613473252366e-08\n",
      "SHAP values correction 2\n",
      "Background count: 10\n",
      "Background min diff: -1.6681289672851562\n",
      "Background max diff: 1.9852523803710938\n"
     ]
    },
    {
     "data": {
      "application/vnd.jupyter.widget-view+json": {
       "model_id": "73ad43cd251a43da824ad3ca09b92440",
       "version_major": 2,
       "version_minor": 0
      },
      "text/plain": [
       "  0%|          | 0/1 [00:00<?, ?it/s]"
      ]
     },
     "metadata": {},
     "output_type": "display_data"
    },
    {
     "name": "stdout",
     "output_type": "stream",
     "text": [
      "SHAP values difference: 1.724764935318035e-07\n",
      "Background count: 10\n",
      "Background min diff: -0.9762420654296875\n",
      "Background max diff: 1.6089935302734375\n"
     ]
    },
    {
     "data": {
      "application/vnd.jupyter.widget-view+json": {
       "model_id": "6bc876051b3f4cbb9d2c61b0105413cf",
       "version_major": 2,
       "version_minor": 0
      },
      "text/plain": [
       "  0%|          | 0/1 [00:00<?, ?it/s]"
      ]
     },
     "metadata": {},
     "output_type": "display_data"
    },
    {
     "name": "stdout",
     "output_type": "stream",
     "text": [
      "SHAP values difference: -3.8629591703198685e-07\n",
      "SHAP values correction 2\n",
      "Background count: 10\n",
      "Background min diff: -3.1367759704589844\n",
      "Background max diff: 2.9671363830566406\n"
     ]
    },
    {
     "data": {
      "application/vnd.jupyter.widget-view+json": {
       "model_id": "a93db6df243d4d9ca6949f189a22936c",
       "version_major": 2,
       "version_minor": 0
      },
      "text/plain": [
       "  0%|          | 0/1 [00:00<?, ?it/s]"
      ]
     },
     "metadata": {},
     "output_type": "display_data"
    },
    {
     "name": "stdout",
     "output_type": "stream",
     "text": [
      "SHAP values difference: -1.8452289296533309e-07\n",
      "Background count: 10\n",
      "Background min diff: -1.7741832733154297\n",
      "Background max diff: 1.7597827911376953\n"
     ]
    },
    {
     "data": {
      "application/vnd.jupyter.widget-view+json": {
       "model_id": "4e471f2e211c4274970c277d043e888d",
       "version_major": 2,
       "version_minor": 0
      },
      "text/plain": [
       "  0%|          | 0/1 [00:00<?, ?it/s]"
      ]
     },
     "metadata": {},
     "output_type": "display_data"
    },
    {
     "name": "stdout",
     "output_type": "stream",
     "text": [
      "SHAP values difference: -5.417240664939982e-07\n",
      "Background count: 10\n",
      "Background min diff: -1.1998252868652344\n",
      "Background max diff: 1.5269813537597656\n"
     ]
    },
    {
     "data": {
      "application/vnd.jupyter.widget-view+json": {
       "model_id": "734c4741bc1b4113861d6428f902c0f2",
       "version_major": 2,
       "version_minor": 0
      },
      "text/plain": [
       "  0%|          | 0/1 [00:00<?, ?it/s]"
      ]
     },
     "metadata": {},
     "output_type": "display_data"
    },
    {
     "name": "stdout",
     "output_type": "stream",
     "text": [
      "SHAP values difference: -5.063483676792657e-08\n",
      "SHAP values correction 2\n",
      "Background count: 10\n",
      "Background min diff: -1.7185211181640625\n",
      "Background max diff: 2.7296295166015625\n"
     ]
    },
    {
     "data": {
      "application/vnd.jupyter.widget-view+json": {
       "model_id": "17aff8f39e0e438d9e5a494e0f056a78",
       "version_major": 2,
       "version_minor": 0
      },
      "text/plain": [
       "  0%|          | 0/1 [00:00<?, ?it/s]"
      ]
     },
     "metadata": {},
     "output_type": "display_data"
    },
    {
     "name": "stdout",
     "output_type": "stream",
     "text": [
      "SHAP values difference: 1.030290519565824e-09\n",
      "SHAP values correction 1\n",
      "SHAP values correction 2\n",
      "Background count: 10\n",
      "Background min diff: -1.9427986145019531\n",
      "Background max diff: 1.9636955261230469\n"
     ]
    },
    {
     "data": {
      "application/vnd.jupyter.widget-view+json": {
       "model_id": "fe6e4a466eaf43acbc5d26a323a142cb",
       "version_major": 2,
       "version_minor": 0
      },
      "text/plain": [
       "  0%|          | 0/1 [00:00<?, ?it/s]"
      ]
     },
     "metadata": {},
     "output_type": "display_data"
    },
    {
     "name": "stdout",
     "output_type": "stream",
     "text": [
      "SHAP values difference: -9.566988268261412e-08\n",
      "Background count: 10\n",
      "Background min diff: -1.9773006439208984\n",
      "Background max diff: 2.0679264068603516\n"
     ]
    },
    {
     "data": {
      "application/vnd.jupyter.widget-view+json": {
       "model_id": "759158a2b07c40ce93ccce8590a2ec2b",
       "version_major": 2,
       "version_minor": 0
      },
      "text/plain": [
       "  0%|          | 0/1 [00:00<?, ?it/s]"
      ]
     },
     "metadata": {},
     "output_type": "display_data"
    },
    {
     "name": "stdout",
     "output_type": "stream",
     "text": [
      "SHAP values difference: -9.120893906811034e-08\n",
      "Background count: 10\n",
      "Background min diff: -1.4338836669921875\n",
      "Background max diff: 1.4543609619140625\n"
     ]
    },
    {
     "data": {
      "application/vnd.jupyter.widget-view+json": {
       "model_id": "952228ec67f6432aa2ddfa2d8cf2b7ac",
       "version_major": 2,
       "version_minor": 0
      },
      "text/plain": [
       "  0%|          | 0/1 [00:00<?, ?it/s]"
      ]
     },
     "metadata": {},
     "output_type": "display_data"
    },
    {
     "name": "stdout",
     "output_type": "stream",
     "text": [
      "SHAP values difference: -4.842968159834982e-07\n",
      "Background count: 10\n",
      "Background min diff: -1.9775886535644531\n",
      "Background max diff: 1.5963554382324219\n"
     ]
    },
    {
     "data": {
      "application/vnd.jupyter.widget-view+json": {
       "model_id": "4234350e05d942ef9e5c24459d1a53eb",
       "version_major": 2,
       "version_minor": 0
      },
      "text/plain": [
       "  0%|          | 0/1 [00:00<?, ?it/s]"
      ]
     },
     "metadata": {},
     "output_type": "display_data"
    },
    {
     "name": "stdout",
     "output_type": "stream",
     "text": [
      "SHAP values difference: -1.167301446614033e-07\n",
      "SHAP values correction 1\n",
      "SHAP values correction 2\n",
      "Background count: 10\n",
      "Background min diff: -2.059131622314453\n",
      "Background max diff: 1.9687919616699219\n"
     ]
    },
    {
     "data": {
      "application/vnd.jupyter.widget-view+json": {
       "model_id": "30d25b3e1437481c97fb02c383034e41",
       "version_major": 2,
       "version_minor": 0
      },
      "text/plain": [
       "  0%|          | 0/1 [00:00<?, ?it/s]"
      ]
     },
     "metadata": {},
     "output_type": "display_data"
    },
    {
     "name": "stdout",
     "output_type": "stream",
     "text": [
      "SHAP values difference: 2.922176332020854e-07\n",
      "SHAP values correction 2\n",
      "Background count: 10\n",
      "Background min diff: -5.180873870849609\n",
      "Background max diff: 4.656803131103516\n"
     ]
    },
    {
     "data": {
      "application/vnd.jupyter.widget-view+json": {
       "model_id": "a60054b59a9e4ab99f2a3deae19f4f4b",
       "version_major": 2,
       "version_minor": 0
      },
      "text/plain": [
       "  0%|          | 0/1 [00:00<?, ?it/s]"
      ]
     },
     "metadata": {},
     "output_type": "display_data"
    },
    {
     "name": "stdout",
     "output_type": "stream",
     "text": [
      "SHAP values difference: 1.4091375533098471e-07\n",
      "Background count: 10\n",
      "Background min diff: -2.7331314086914062\n",
      "Background max diff: 2.0278854370117188\n"
     ]
    },
    {
     "data": {
      "application/vnd.jupyter.widget-view+json": {
       "model_id": "080badf46a08485d99b5a0463d911a03",
       "version_major": 2,
       "version_minor": 0
      },
      "text/plain": [
       "  0%|          | 0/1 [00:00<?, ?it/s]"
      ]
     },
     "metadata": {},
     "output_type": "display_data"
    },
    {
     "name": "stdout",
     "output_type": "stream",
     "text": [
      "SHAP values difference: -3.137979653899947e-07\n",
      "SHAP values correction 2\n",
      "Background count: 10\n",
      "Background min diff: -10.6806640625\n",
      "Background max diff: 7.51287841796875\n"
     ]
    },
    {
     "data": {
      "application/vnd.jupyter.widget-view+json": {
       "model_id": "f9ce8d6b932d4c8a8dc72fdc8c482a01",
       "version_major": 2,
       "version_minor": 0
      },
      "text/plain": [
       "  0%|          | 0/1 [00:00<?, ?it/s]"
      ]
     },
     "metadata": {},
     "output_type": "display_data"
    },
    {
     "name": "stdout",
     "output_type": "stream",
     "text": [
      "SHAP values difference: -2.2409309963222768e-09\n",
      "Background count: 10\n",
      "Background min diff: -1.7431621551513672\n",
      "Background max diff: 2.704988479614258\n"
     ]
    },
    {
     "data": {
      "application/vnd.jupyter.widget-view+json": {
       "model_id": "510432d4c2984f25881083ca15a0dcac",
       "version_major": 2,
       "version_minor": 0
      },
      "text/plain": [
       "  0%|          | 0/1 [00:00<?, ?it/s]"
      ]
     },
     "metadata": {},
     "output_type": "display_data"
    },
    {
     "name": "stdout",
     "output_type": "stream",
     "text": [
      "SHAP values difference: -4.985351971242835e-07\n",
      "Background count: 10\n",
      "Background min diff: -1.4636917114257812\n",
      "Background max diff: 1.0190353393554688\n"
     ]
    },
    {
     "data": {
      "application/vnd.jupyter.widget-view+json": {
       "model_id": "86a5bbe2a0d74873b8622f27d4847351",
       "version_major": 2,
       "version_minor": 0
      },
      "text/plain": [
       "  0%|          | 0/1 [00:00<?, ?it/s]"
      ]
     },
     "metadata": {},
     "output_type": "display_data"
    },
    {
     "name": "stdout",
     "output_type": "stream",
     "text": [
      "SHAP values difference: -3.1420795210124197e-07\n",
      "Background count: 10\n",
      "Background min diff: -1.1527175903320312\n",
      "Background max diff: 0.42131805419921875\n"
     ]
    },
    {
     "data": {
      "application/vnd.jupyter.widget-view+json": {
       "model_id": "4416c8a838fb48da98db44e4d12b1762",
       "version_major": 2,
       "version_minor": 0
      },
      "text/plain": [
       "  0%|          | 0/1 [00:00<?, ?it/s]"
      ]
     },
     "metadata": {},
     "output_type": "display_data"
    },
    {
     "name": "stdout",
     "output_type": "stream",
     "text": [
      "SHAP values difference: 3.8211492636719413e-07\n",
      "SHAP values correction 2\n",
      "Background count: 10\n",
      "Background min diff: -7.477931976318359\n",
      "Background max diff: 2.3597450256347656\n"
     ]
    },
    {
     "data": {
      "application/vnd.jupyter.widget-view+json": {
       "model_id": "1215e22502b54017be0e64abad9d8372",
       "version_major": 2,
       "version_minor": 0
      },
      "text/plain": [
       "  0%|          | 0/1 [00:00<?, ?it/s]"
      ]
     },
     "metadata": {},
     "output_type": "display_data"
    },
    {
     "name": "stdout",
     "output_type": "stream",
     "text": [
      "SHAP values difference: 3.71342512295314e-09\n",
      "SHAP values correction 2\n",
      "Background count: 10\n",
      "Background min diff: -2.034168243408203\n",
      "Background max diff: 2.006237030029297\n"
     ]
    },
    {
     "data": {
      "application/vnd.jupyter.widget-view+json": {
       "model_id": "c0cacc947e5e47e79a6c7ef66eb10675",
       "version_major": 2,
       "version_minor": 0
      },
      "text/plain": [
       "  0%|          | 0/1 [00:00<?, ?it/s]"
      ]
     },
     "metadata": {},
     "output_type": "display_data"
    },
    {
     "name": "stdout",
     "output_type": "stream",
     "text": [
      "SHAP values difference: -5.327152967637971e-07\n",
      "SHAP values correction 2\n",
      "Background count: 10\n",
      "Background min diff: -1.2364616394042969\n",
      "Background max diff: 0.5167427062988281\n"
     ]
    },
    {
     "data": {
      "application/vnd.jupyter.widget-view+json": {
       "model_id": "474bf7e2bd4c4f7892d8ffc43b5b9f11",
       "version_major": 2,
       "version_minor": 0
      },
      "text/plain": [
       "  0%|          | 0/1 [00:00<?, ?it/s]"
      ]
     },
     "metadata": {},
     "output_type": "display_data"
    },
    {
     "name": "stdout",
     "output_type": "stream",
     "text": [
      "SHAP values difference: 2.1683649542580952e-08\n",
      "SHAP values correction 2\n",
      "Background count: 10\n",
      "Background min diff: -1.7009849548339844\n",
      "Background max diff: 0.8575172424316406\n"
     ]
    },
    {
     "data": {
      "application/vnd.jupyter.widget-view+json": {
       "model_id": "8ac4e51fbd4c42c7be2a3ea45c922d8c",
       "version_major": 2,
       "version_minor": 0
      },
      "text/plain": [
       "  0%|          | 0/1 [00:00<?, ?it/s]"
      ]
     },
     "metadata": {},
     "output_type": "display_data"
    },
    {
     "name": "stdout",
     "output_type": "stream",
     "text": [
      "SHAP values difference: 1.0168079711547762e-08\n",
      "Background count: 10\n",
      "Background min diff: -1.0151824951171875\n",
      "Background max diff: 0.9207916259765625\n"
     ]
    },
    {
     "data": {
      "application/vnd.jupyter.widget-view+json": {
       "model_id": "f0dcfaa5bfa8407e8e23934ead94a863",
       "version_major": 2,
       "version_minor": 0
      },
      "text/plain": [
       "  0%|          | 0/1 [00:00<?, ?it/s]"
      ]
     },
     "metadata": {},
     "output_type": "display_data"
    },
    {
     "name": "stdout",
     "output_type": "stream",
     "text": [
      "SHAP values difference: 4.820196508603658e-07\n",
      "Background count: 10\n",
      "Background min diff: -1.1211662292480469\n",
      "Background max diff: 0.8246345520019531\n"
     ]
    },
    {
     "data": {
      "application/vnd.jupyter.widget-view+json": {
       "model_id": "6527d909521144e2930bbe9130d3b16b",
       "version_major": 2,
       "version_minor": 0
      },
      "text/plain": [
       "  0%|          | 0/1 [00:00<?, ?it/s]"
      ]
     },
     "metadata": {},
     "output_type": "display_data"
    },
    {
     "name": "stdout",
     "output_type": "stream",
     "text": [
      "SHAP values difference: -4.6032575884424887e-07\n",
      "SHAP values correction 2\n",
      "Background count: 10\n",
      "Background min diff: -1.7108879089355469\n",
      "Background max diff: 1.5184516906738281\n"
     ]
    },
    {
     "data": {
      "application/vnd.jupyter.widget-view+json": {
       "model_id": "763eecafb07a4dd8a5338b2f7676655c",
       "version_major": 2,
       "version_minor": 0
      },
      "text/plain": [
       "  0%|          | 0/1 [00:00<?, ?it/s]"
      ]
     },
     "metadata": {},
     "output_type": "display_data"
    },
    {
     "name": "stdout",
     "output_type": "stream",
     "text": [
      "SHAP values difference: -3.8102091082237166e-07\n",
      "Background count: 10\n",
      "Background min diff: -12.126251220703125\n",
      "Background max diff: 6.067291259765625\n"
     ]
    },
    {
     "data": {
      "application/vnd.jupyter.widget-view+json": {
       "model_id": "07d2304d0729421bac19adedd0f147e9",
       "version_major": 2,
       "version_minor": 0
      },
      "text/plain": [
       "  0%|          | 0/1 [00:00<?, ?it/s]"
      ]
     },
     "metadata": {},
     "output_type": "display_data"
    },
    {
     "name": "stdout",
     "output_type": "stream",
     "text": [
      "SHAP values difference: 3.787059341675558e-07\n",
      "Background count: 10\n",
      "Background min diff: -2.4045658111572266\n",
      "Background max diff: 2.3762874603271484\n"
     ]
    },
    {
     "data": {
      "application/vnd.jupyter.widget-view+json": {
       "model_id": "1bc9e5061e994cf38f4e10b8304f703d",
       "version_major": 2,
       "version_minor": 0
      },
      "text/plain": [
       "  0%|          | 0/1 [00:00<?, ?it/s]"
      ]
     },
     "metadata": {},
     "output_type": "display_data"
    },
    {
     "name": "stdout",
     "output_type": "stream",
     "text": [
      "SHAP values difference: -8.987886523925681e-07\n",
      "Background count: 10\n",
      "Background min diff: -1.3916053771972656\n",
      "Background max diff: 1.1668968200683594\n"
     ]
    },
    {
     "data": {
      "application/vnd.jupyter.widget-view+json": {
       "model_id": "71850bb7ae7f45f2adbe462ae833be0f",
       "version_major": 2,
       "version_minor": 0
      },
      "text/plain": [
       "  0%|          | 0/1 [00:00<?, ?it/s]"
      ]
     },
     "metadata": {},
     "output_type": "display_data"
    },
    {
     "name": "stdout",
     "output_type": "stream",
     "text": [
      "SHAP values difference: -1.2309986345826474e-06\n",
      "Background count: 10\n",
      "Background min diff: -1.9181556701660156\n",
      "Background max diff: 1.9883384704589844\n"
     ]
    },
    {
     "data": {
      "application/vnd.jupyter.widget-view+json": {
       "model_id": "9f554ede712a4f1084d98e1301759161",
       "version_major": 2,
       "version_minor": 0
      },
      "text/plain": [
       "  0%|          | 0/1 [00:00<?, ?it/s]"
      ]
     },
     "metadata": {},
     "output_type": "display_data"
    },
    {
     "name": "stdout",
     "output_type": "stream",
     "text": [
      "SHAP values difference: -1.1935877353153046e-07\n",
      "SHAP values correction 2\n",
      "Background count: 10\n",
      "Background min diff: -2.220325469970703\n",
      "Background max diff: 2.823741912841797\n"
     ]
    },
    {
     "data": {
      "application/vnd.jupyter.widget-view+json": {
       "model_id": "feba28dac0614b4296060cddb02b9539",
       "version_major": 2,
       "version_minor": 0
      },
      "text/plain": [
       "  0%|          | 0/1 [00:00<?, ?it/s]"
      ]
     },
     "metadata": {},
     "output_type": "display_data"
    },
    {
     "name": "stdout",
     "output_type": "stream",
     "text": [
      "SHAP values difference: 7.378532806967542e-08\n",
      "Background count: 10\n",
      "Background min diff: -1.1706275939941406\n",
      "Background max diff: 1.4146080017089844\n"
     ]
    },
    {
     "data": {
      "application/vnd.jupyter.widget-view+json": {
       "model_id": "0855b16aacf440a9b9a77435c2761ed1",
       "version_major": 2,
       "version_minor": 0
      },
      "text/plain": [
       "  0%|          | 0/1 [00:00<?, ?it/s]"
      ]
     },
     "metadata": {},
     "output_type": "display_data"
    },
    {
     "name": "stdout",
     "output_type": "stream",
     "text": [
      "SHAP values difference: -8.127567063809238e-07\n",
      "Background count: 10\n",
      "Background min diff: -1.6200447082519531\n",
      "Background max diff: 0.9930839538574219\n"
     ]
    },
    {
     "data": {
      "application/vnd.jupyter.widget-view+json": {
       "model_id": "f6ea4a9e87874769bdfa3ef375820c9a",
       "version_major": 2,
       "version_minor": 0
      },
      "text/plain": [
       "  0%|          | 0/1 [00:00<?, ?it/s]"
      ]
     },
     "metadata": {},
     "output_type": "display_data"
    },
    {
     "name": "stdout",
     "output_type": "stream",
     "text": [
      "SHAP values difference: -8.595963105761939e-07\n",
      "SHAP values correction 2\n",
      "Background count: 10\n",
      "Background min diff: -2.5737953186035156\n",
      "Background max diff: 1.7861595153808594\n"
     ]
    },
    {
     "data": {
      "application/vnd.jupyter.widget-view+json": {
       "model_id": "e672acb9506d4c74aea561bc9bddad04",
       "version_major": 2,
       "version_minor": 0
      },
      "text/plain": [
       "  0%|          | 0/1 [00:00<?, ?it/s]"
      ]
     },
     "metadata": {},
     "output_type": "display_data"
    },
    {
     "name": "stdout",
     "output_type": "stream",
     "text": [
      "SHAP values difference: -4.47709140871666e-07\n",
      "Background count: 10\n",
      "Background min diff: -2.016368865966797\n",
      "Background max diff: 2.240192413330078\n"
     ]
    },
    {
     "data": {
      "application/vnd.jupyter.widget-view+json": {
       "model_id": "ca0244b9df8242629b24a55e028de812",
       "version_major": 2,
       "version_minor": 0
      },
      "text/plain": [
       "  0%|          | 0/1 [00:00<?, ?it/s]"
      ]
     },
     "metadata": {},
     "output_type": "display_data"
    },
    {
     "name": "stdout",
     "output_type": "stream",
     "text": [
      "SHAP values difference: 3.191936510660298e-07\n",
      "SHAP values correction 2\n",
      "Background count: 10\n",
      "Background min diff: -2.1228885650634766\n",
      "Background max diff: 4.306066513061523\n"
     ]
    },
    {
     "data": {
      "application/vnd.jupyter.widget-view+json": {
       "model_id": "8e3be0654fa643fcbd4bdadbc411e0c1",
       "version_major": 2,
       "version_minor": 0
      },
      "text/plain": [
       "  0%|          | 0/1 [00:00<?, ?it/s]"
      ]
     },
     "metadata": {},
     "output_type": "display_data"
    },
    {
     "name": "stdout",
     "output_type": "stream",
     "text": [
      "SHAP values difference: 1.6772235156281567e-08\n",
      "SHAP values correction 2\n",
      "Background count: 10\n",
      "Background min diff: -1.3418083190917969\n",
      "Background max diff: 1.2029914855957031\n"
     ]
    },
    {
     "data": {
      "application/vnd.jupyter.widget-view+json": {
       "model_id": "63201381c14e409bbb4b3628640b24aa",
       "version_major": 2,
       "version_minor": 0
      },
      "text/plain": [
       "  0%|          | 0/1 [00:00<?, ?it/s]"
      ]
     },
     "metadata": {},
     "output_type": "display_data"
    },
    {
     "name": "stdout",
     "output_type": "stream",
     "text": [
      "SHAP values difference: -4.177807233496367e-08\n",
      "SHAP values correction 1\n",
      "SHAP values correction 2\n",
      "Background count: 10\n",
      "Background min diff: -2.4730606079101562\n",
      "Background max diff: 2.7041854858398438\n"
     ]
    },
    {
     "data": {
      "application/vnd.jupyter.widget-view+json": {
       "model_id": "29f646ca4ed04b92adfbfbd695b13715",
       "version_major": 2,
       "version_minor": 0
      },
      "text/plain": [
       "  0%|          | 0/1 [00:00<?, ?it/s]"
      ]
     },
     "metadata": {},
     "output_type": "display_data"
    },
    {
     "name": "stdout",
     "output_type": "stream",
     "text": [
      "SHAP values difference: -3.702420059426004e-08\n"
     ]
    },
    {
     "name": "stderr",
     "output_type": "stream",
     "text": [
      "C:\\Users\\user\\AppData\\Local\\Temp\\ipykernel_26220\\1336789382.py:330: FutureWarning: A value is trying to be set on a copy of a DataFrame or Series through chained assignment using an inplace method.\n",
      "The behavior will change in pandas 3.0. This inplace method will never work because the intermediate object on which we are setting values always behaves as a copy.\n",
      "\n",
      "For example, when doing 'df[col].method(value, inplace=True)', try using 'df.method({col: value}, inplace=True)' or df[col] = df[col].method(value) instead, to perform the operation inplace on the original object.\n",
      "\n",
      "\n",
      "  df_fig['Group'].replace(groups_rename, inplace=True)\n",
      "C:\\Users\\user\\AppData\\Local\\Temp\\ipykernel_26220\\1336789382.py:333: FutureWarning: \n",
      "\n",
      "Passing `palette` without assigning `hue` is deprecated and will be removed in v0.14.0. Assign the `x` variable to `hue` and set `legend=False` for the same effect.\n",
      "\n",
      "  violin = sns.violinplot(\n",
      "C:\\Users\\user\\AppData\\Local\\Temp\\ipykernel_26220\\1336789382.py:333: FutureWarning: \n",
      "\n",
      "The `scale` parameter has been renamed and will be removed in v0.15.0. Pass `density_norm='width'` for the same effect.\n",
      "  violin = sns.violinplot(\n",
      "C:\\Users\\user\\AppData\\Local\\Temp\\ipykernel_26220\\1336789382.py:358: FutureWarning: A value is trying to be set on a copy of a DataFrame or Series through chained assignment using an inplace method.\n",
      "The behavior will change in pandas 3.0. This inplace method will never work because the intermediate object on which we are setting values always behaves as a copy.\n",
      "\n",
      "For example, when doing 'df[col].method(value, inplace=True)', try using 'df.method({col: value}, inplace=True)' or df[col] = df[col].method(value) instead, to perform the operation inplace on the original object.\n",
      "\n",
      "\n",
      "  df_fig['Group'].replace(groups_rename, inplace=True)\n",
      "C:\\Users\\user\\AppData\\Local\\Temp\\ipykernel_26220\\1336789382.py:361: FutureWarning: \n",
      "\n",
      "Passing `palette` without assigning `hue` is deprecated and will be removed in v0.14.0. Assign the `x` variable to `hue` and set `legend=False` for the same effect.\n",
      "\n",
      "  violin = sns.violinplot(\n",
      "C:\\Users\\user\\AppData\\Local\\Temp\\ipykernel_26220\\1336789382.py:361: FutureWarning: \n",
      "\n",
      "The `scale` parameter has been renamed and will be removed in v0.15.0. Pass `density_norm='width'` for the same effect.\n",
      "  violin = sns.violinplot(\n",
      "c:\\Users\\user\\anaconda3\\envs\\py312\\Lib\\site-packages\\pytorch_tabular\\tabular_datamodule.py:378: FutureWarning: Setting an item of incompatible dtype is deprecated and will raise in a future error of pandas. Value '[18.80095684 18.9402699  16.48399137 ... 18.66054934 18.30457686\n",
      " 18.87074865]' has dtype incompatible with int64, please explicitly cast to a compatible dtype first.\n",
      "  data.loc[:, self.config.continuous_cols] = self.continuous_transform.transform(\n"
     ]
    },
    {
     "data": {
      "text/html": [
       "<pre style=\"white-space:pre;overflow-x:auto;line-height:normal;font-family:Menlo,'DejaVu Sans Mono',consolas,'Courier New',monospace\"><span style=\"color: #008080; text-decoration-color: #008080; font-weight: bold\">2025</span>-<span style=\"color: #008080; text-decoration-color: #008080; font-weight: bold\">10</span>-<span style=\"color: #008080; text-decoration-color: #008080; font-weight: bold\">22</span> <span style=\"color: #00ff00; text-decoration-color: #00ff00; font-weight: bold\">14:21:57</span>,<span style=\"color: #008080; text-decoration-color: #008080; font-weight: bold\">488</span> - <span style=\"font-weight: bold\">{</span>pytorch_tabular.tabular_model:<span style=\"color: #008080; text-decoration-color: #008080; font-weight: bold\">171</span><span style=\"font-weight: bold\">}</span> - INFO - Experiment Tracking is turned off           \n",
       "</pre>\n"
      ],
      "text/plain": [
       "\u001b[1;36m2025\u001b[0m-\u001b[1;36m10\u001b[0m-\u001b[1;36m22\u001b[0m \u001b[1;92m14:21:57\u001b[0m,\u001b[1;36m488\u001b[0m - \u001b[1m{\u001b[0mpytorch_tabular.tabular_model:\u001b[1;36m171\u001b[0m\u001b[1m}\u001b[0m - INFO - Experiment Tracking is turned off           \n"
      ]
     },
     "metadata": {},
     "output_type": "display_data"
    },
    {
     "data": {
      "text/html": [
       "<pre style=\"white-space:pre;overflow-x:auto;line-height:normal;font-family:Menlo,'DejaVu Sans Mono',consolas,'Courier New',monospace\"><span style=\"color: #008080; text-decoration-color: #008080; font-weight: bold\">2025</span>-<span style=\"color: #008080; text-decoration-color: #008080; font-weight: bold\">10</span>-<span style=\"color: #008080; text-decoration-color: #008080; font-weight: bold\">22</span> <span style=\"color: #00ff00; text-decoration-color: #00ff00; font-weight: bold\">14:21:57</span>,<span style=\"color: #008080; text-decoration-color: #008080; font-weight: bold\">500</span> - <span style=\"font-weight: bold\">{</span>pytorch_tabular.tabular_model:<span style=\"color: #008080; text-decoration-color: #008080; font-weight: bold\">342</span><span style=\"font-weight: bold\">}</span> - INFO - Preparing the Trainer                       \n",
       "</pre>\n"
      ],
      "text/plain": [
       "\u001b[1;36m2025\u001b[0m-\u001b[1;36m10\u001b[0m-\u001b[1;36m22\u001b[0m \u001b[1;92m14:21:57\u001b[0m,\u001b[1;36m500\u001b[0m - \u001b[1m{\u001b[0mpytorch_tabular.tabular_model:\u001b[1;36m342\u001b[0m\u001b[1m}\u001b[0m - INFO - Preparing the Trainer                       \n"
      ]
     },
     "metadata": {},
     "output_type": "display_data"
    },
    {
     "name": "stderr",
     "output_type": "stream",
     "text": [
      "c:\\Users\\user\\anaconda3\\envs\\py312\\Lib\\site-packages\\pytorch_tabular\\tabular_datamodule.py:378: FutureWarning: Setting an item of incompatible dtype is deprecated and will raise in a future error of pandas. Value '[18.80095684 18.9402699  16.48399137 ... 18.66054934 18.30457686\n",
      " 18.87074865]' has dtype incompatible with int64, please explicitly cast to a compatible dtype first.\n",
      "  data.loc[:, self.config.continuous_cols] = self.continuous_transform.transform(\n"
     ]
    },
    {
     "name": "stdout",
     "output_type": "stream",
     "text": [
      "Background count: 10\n",
      "Background min diff: -0.8675956726074219\n",
      "Background max diff: 0.2650947570800781\n"
     ]
    },
    {
     "data": {
      "application/vnd.jupyter.widget-view+json": {
       "model_id": "6125d50ffd734b4fa1e254db33fe9af8",
       "version_major": 2,
       "version_minor": 0
      },
      "text/plain": [
       "  0%|          | 0/1 [00:00<?, ?it/s]"
      ]
     },
     "metadata": {},
     "output_type": "display_data"
    },
    {
     "name": "stdout",
     "output_type": "stream",
     "text": [
      "SHAP values difference: 1.2793410064659838e-07\n",
      "SHAP values correction 2\n",
      "Background count: 10\n",
      "Background min diff: -0.15297698974609375\n",
      "Background max diff: 0.6884231567382812\n"
     ]
    },
    {
     "data": {
      "application/vnd.jupyter.widget-view+json": {
       "model_id": "d8673466697c49fd974a9084beb73b81",
       "version_major": 2,
       "version_minor": 0
      },
      "text/plain": [
       "  0%|          | 0/1 [00:00<?, ?it/s]"
      ]
     },
     "metadata": {},
     "output_type": "display_data"
    },
    {
     "name": "stdout",
     "output_type": "stream",
     "text": [
      "SHAP values difference: -3.8510948030534564e-07\n",
      "SHAP values correction 2\n",
      "Background count: 10\n",
      "Background min diff: -9.604537963867188\n",
      "Background max diff: 1.1420745849609375\n"
     ]
    },
    {
     "data": {
      "application/vnd.jupyter.widget-view+json": {
       "model_id": "1ee3cfa11000432ebad524bb91ca68e0",
       "version_major": 2,
       "version_minor": 0
      },
      "text/plain": [
       "  0%|          | 0/1 [00:00<?, ?it/s]"
      ]
     },
     "metadata": {},
     "output_type": "display_data"
    },
    {
     "name": "stdout",
     "output_type": "stream",
     "text": [
      "SHAP values difference: -3.92143562066849e-09\n",
      "Background count: 10\n",
      "Background min diff: -0.7459678649902344\n",
      "Background max diff: 0.7310523986816406\n"
     ]
    },
    {
     "data": {
      "application/vnd.jupyter.widget-view+json": {
       "model_id": "8769cd997413491a9165be6dff1580b3",
       "version_major": 2,
       "version_minor": 0
      },
      "text/plain": [
       "  0%|          | 0/1 [00:00<?, ?it/s]"
      ]
     },
     "metadata": {},
     "output_type": "display_data"
    },
    {
     "name": "stdout",
     "output_type": "stream",
     "text": [
      "SHAP values difference: -3.317999386354131e-08\n",
      "Background count: 10\n",
      "Background min diff: -0.2509765625\n",
      "Background max diff: 0.756927490234375\n"
     ]
    },
    {
     "data": {
      "application/vnd.jupyter.widget-view+json": {
       "model_id": "edd90ef9b1ae46e0a87b984af4a0e59d",
       "version_major": 2,
       "version_minor": 0
      },
      "text/plain": [
       "  0%|          | 0/1 [00:00<?, ?it/s]"
      ]
     },
     "metadata": {},
     "output_type": "display_data"
    },
    {
     "name": "stdout",
     "output_type": "stream",
     "text": [
      "SHAP values difference: 2.91236613492174e-07\n",
      "Background count: 10\n",
      "Background min diff: -0.9178314208984375\n",
      "Background max diff: 1.3181915283203125\n"
     ]
    },
    {
     "data": {
      "application/vnd.jupyter.widget-view+json": {
       "model_id": "4329221a4ae745ff8fcd3d646c85ad24",
       "version_major": 2,
       "version_minor": 0
      },
      "text/plain": [
       "  0%|          | 0/1 [00:00<?, ?it/s]"
      ]
     },
     "metadata": {},
     "output_type": "display_data"
    },
    {
     "name": "stdout",
     "output_type": "stream",
     "text": [
      "SHAP values difference: 5.920857404362323e-08\n",
      "Background count: 10\n",
      "Background min diff: -2.9204864501953125\n",
      "Background max diff: 2.2026519775390625\n"
     ]
    },
    {
     "data": {
      "application/vnd.jupyter.widget-view+json": {
       "model_id": "2a2d2d40223d48f880d0c3f08b1ab441",
       "version_major": 2,
       "version_minor": 0
      },
      "text/plain": [
       "  0%|          | 0/1 [00:00<?, ?it/s]"
      ]
     },
     "metadata": {},
     "output_type": "display_data"
    },
    {
     "name": "stdout",
     "output_type": "stream",
     "text": [
      "SHAP values difference: -2.8175875854685728e-08\n",
      "Background count: 10\n",
      "Background min diff: -3.0908889770507812\n",
      "Background max diff: 3.0832138061523438\n"
     ]
    },
    {
     "data": {
      "application/vnd.jupyter.widget-view+json": {
       "model_id": "9d1fd46f62c846ed870b2adf71d960bf",
       "version_major": 2,
       "version_minor": 0
      },
      "text/plain": [
       "  0%|          | 0/1 [00:00<?, ?it/s]"
      ]
     },
     "metadata": {},
     "output_type": "display_data"
    },
    {
     "name": "stdout",
     "output_type": "stream",
     "text": [
      "SHAP values difference: 9.913788368010046e-08\n",
      "SHAP values correction 1\n",
      "SHAP values correction 2\n",
      "Background count: 10\n",
      "Background min diff: -1.1279582977294922\n",
      "Background max diff: 1.6015644073486328\n"
     ]
    },
    {
     "data": {
      "application/vnd.jupyter.widget-view+json": {
       "model_id": "1cb0e3004a354795a55f6ddf95279d09",
       "version_major": 2,
       "version_minor": 0
      },
      "text/plain": [
       "  0%|          | 0/1 [00:00<?, ?it/s]"
      ]
     },
     "metadata": {},
     "output_type": "display_data"
    },
    {
     "name": "stdout",
     "output_type": "stream",
     "text": [
      "SHAP values difference: 2.1307450737140243e-07\n",
      "Background count: 10\n",
      "Background min diff: -1.059967041015625\n",
      "Background max diff: 1.08514404296875\n"
     ]
    },
    {
     "data": {
      "application/vnd.jupyter.widget-view+json": {
       "model_id": "01d5f7731e274a4a98f31420d8a501ae",
       "version_major": 2,
       "version_minor": 0
      },
      "text/plain": [
       "  0%|          | 0/1 [00:00<?, ?it/s]"
      ]
     },
     "metadata": {},
     "output_type": "display_data"
    },
    {
     "name": "stdout",
     "output_type": "stream",
     "text": [
      "SHAP values difference: 3.89345159668153e-07\n",
      "SHAP values correction 1\n",
      "SHAP values correction 2\n",
      "Background count: 10\n",
      "Background min diff: -1.2996292114257812\n",
      "Background max diff: 0.6131820678710938\n"
     ]
    },
    {
     "data": {
      "application/vnd.jupyter.widget-view+json": {
       "model_id": "74266fc1accb4ef9b24909d0ac855eac",
       "version_major": 2,
       "version_minor": 0
      },
      "text/plain": [
       "  0%|          | 0/1 [00:00<?, ?it/s]"
      ]
     },
     "metadata": {},
     "output_type": "display_data"
    },
    {
     "name": "stdout",
     "output_type": "stream",
     "text": [
      "SHAP values difference: -1.7991498424407837e-07\n",
      "Background count: 10\n",
      "Background min diff: -1.3568649291992188\n",
      "Background max diff: 1.0546646118164062\n"
     ]
    },
    {
     "data": {
      "application/vnd.jupyter.widget-view+json": {
       "model_id": "4b742de8b9c94c42a9cb0616394b9d36",
       "version_major": 2,
       "version_minor": 0
      },
      "text/plain": [
       "  0%|          | 0/1 [00:00<?, ?it/s]"
      ]
     },
     "metadata": {},
     "output_type": "display_data"
    },
    {
     "name": "stdout",
     "output_type": "stream",
     "text": [
      "SHAP values difference: 1.2239365076993636e-08\n",
      "Background count: 10\n",
      "Background min diff: -1.5122795104980469\n",
      "Background max diff: 1.5024299621582031\n"
     ]
    },
    {
     "data": {
      "application/vnd.jupyter.widget-view+json": {
       "model_id": "834c15a24f1c4672902659fc4907a6a1",
       "version_major": 2,
       "version_minor": 0
      },
      "text/plain": [
       "  0%|          | 0/1 [00:00<?, ?it/s]"
      ]
     },
     "metadata": {},
     "output_type": "display_data"
    },
    {
     "name": "stdout",
     "output_type": "stream",
     "text": [
      "SHAP values difference: 1.4467026687725593e-07\n",
      "SHAP values correction 2\n",
      "Background count: 10\n",
      "Background min diff: -2.7835922241210938\n",
      "Background max diff: 2.3395462036132812\n"
     ]
    },
    {
     "data": {
      "application/vnd.jupyter.widget-view+json": {
       "model_id": "7e0508fbba284246b9be796f8fd617b7",
       "version_major": 2,
       "version_minor": 0
      },
      "text/plain": [
       "  0%|          | 0/1 [00:00<?, ?it/s]"
      ]
     },
     "metadata": {},
     "output_type": "display_data"
    },
    {
     "name": "stdout",
     "output_type": "stream",
     "text": [
      "SHAP values difference: 9.083407093157803e-08\n",
      "Background count: 10\n",
      "Background min diff: -0.9573974609375\n",
      "Background max diff: 0.955413818359375\n"
     ]
    },
    {
     "data": {
      "application/vnd.jupyter.widget-view+json": {
       "model_id": "4166bcafa4ec4a89ac0ce2a07c600a02",
       "version_major": 2,
       "version_minor": 0
      },
      "text/plain": [
       "  0%|          | 0/1 [00:00<?, ?it/s]"
      ]
     },
     "metadata": {},
     "output_type": "display_data"
    },
    {
     "name": "stdout",
     "output_type": "stream",
     "text": [
      "SHAP values difference: -1.9966497788459492e-08\n",
      "SHAP values correction 2\n",
      "Background count: 10\n",
      "Background min diff: -1.1563835144042969\n",
      "Background max diff: 1.1419868469238281\n"
     ]
    },
    {
     "data": {
      "application/vnd.jupyter.widget-view+json": {
       "model_id": "a9f6f6f8622248fd83a90d83e6c906e6",
       "version_major": 2,
       "version_minor": 0
      },
      "text/plain": [
       "  0%|          | 0/1 [00:00<?, ?it/s]"
      ]
     },
     "metadata": {},
     "output_type": "display_data"
    },
    {
     "name": "stdout",
     "output_type": "stream",
     "text": [
      "SHAP values difference: -8.58543103277043e-09\n",
      "SHAP values correction 2\n",
      "Background count: 10\n",
      "Background min diff: -0.8155689239501953\n",
      "Background max diff: 0.9191112518310547\n"
     ]
    },
    {
     "data": {
      "application/vnd.jupyter.widget-view+json": {
       "model_id": "e53fe796fe6c4998930a632bb7d9c5a2",
       "version_major": 2,
       "version_minor": 0
      },
      "text/plain": [
       "  0%|          | 0/1 [00:00<?, ?it/s]"
      ]
     },
     "metadata": {},
     "output_type": "display_data"
    },
    {
     "name": "stdout",
     "output_type": "stream",
     "text": [
      "SHAP values difference: -1.3515374419625914e-07\n",
      "Background count: 10\n",
      "Background min diff: -0.8018836975097656\n",
      "Background max diff: 0.3308067321777344\n"
     ]
    },
    {
     "data": {
      "application/vnd.jupyter.widget-view+json": {
       "model_id": "8c88993fc2ce45beb90ca277abb41986",
       "version_major": 2,
       "version_minor": 0
      },
      "text/plain": [
       "  0%|          | 0/1 [00:00<?, ?it/s]"
      ]
     },
     "metadata": {},
     "output_type": "display_data"
    },
    {
     "name": "stdout",
     "output_type": "stream",
     "text": [
      "SHAP values difference: 2.9483683050557374e-08\n",
      "SHAP values correction 2\n",
      "Background count: 10\n",
      "Background min diff: -14.694206237792969\n",
      "Background max diff: -3.9475936889648438\n"
     ]
    },
    {
     "data": {
      "application/vnd.jupyter.widget-view+json": {
       "model_id": "326ab8fb364445799e7b239a2343b536",
       "version_major": 2,
       "version_minor": 0
      },
      "text/plain": [
       "  0%|          | 0/1 [00:00<?, ?it/s]"
      ]
     },
     "metadata": {},
     "output_type": "display_data"
    },
    {
     "name": "stdout",
     "output_type": "stream",
     "text": [
      "SHAP values difference: -2.5013534710183194e-07\n",
      "Background count: 10\n",
      "Background min diff: -2.780242919921875\n",
      "Background max diff: 3.415130615234375\n"
     ]
    },
    {
     "data": {
      "application/vnd.jupyter.widget-view+json": {
       "model_id": "15ef5681f167451d9a69f4721dfa0ad5",
       "version_major": 2,
       "version_minor": 0
      },
      "text/plain": [
       "  0%|          | 0/1 [00:00<?, ?it/s]"
      ]
     },
     "metadata": {},
     "output_type": "display_data"
    },
    {
     "name": "stdout",
     "output_type": "stream",
     "text": [
      "SHAP values difference: 5.010861858778526e-08\n",
      "SHAP values correction 1\n",
      "SHAP values correction 2\n",
      "Background count: 10\n",
      "Background min diff: -0.4618415832519531\n",
      "Background max diff: 0.5194816589355469\n"
     ]
    },
    {
     "data": {
      "application/vnd.jupyter.widget-view+json": {
       "model_id": "5fcb1a4ab4214b3bac41123a9793503a",
       "version_major": 2,
       "version_minor": 0
      },
      "text/plain": [
       "  0%|          | 0/1 [00:00<?, ?it/s]"
      ]
     },
     "metadata": {},
     "output_type": "display_data"
    },
    {
     "name": "stdout",
     "output_type": "stream",
     "text": [
      "SHAP values difference: -1.0563516639194859e-07\n",
      "Background count: 10\n",
      "Background min diff: -3.245838165283203\n",
      "Background max diff: 2.997539520263672\n"
     ]
    },
    {
     "data": {
      "application/vnd.jupyter.widget-view+json": {
       "model_id": "2de87cb7ace547e2b78f7f9b892480ab",
       "version_major": 2,
       "version_minor": 0
      },
      "text/plain": [
       "  0%|          | 0/1 [00:00<?, ?it/s]"
      ]
     },
     "metadata": {},
     "output_type": "display_data"
    },
    {
     "name": "stdout",
     "output_type": "stream",
     "text": [
      "SHAP values difference: -5.4507040658791084e-08\n",
      "Background count: 10\n",
      "Background min diff: -2.950603485107422\n",
      "Background max diff: 2.172534942626953\n"
     ]
    },
    {
     "data": {
      "application/vnd.jupyter.widget-view+json": {
       "model_id": "d7468273908e42ab8221203a08d3b155",
       "version_major": 2,
       "version_minor": 0
      },
      "text/plain": [
       "  0%|          | 0/1 [00:00<?, ?it/s]"
      ]
     },
     "metadata": {},
     "output_type": "display_data"
    },
    {
     "name": "stdout",
     "output_type": "stream",
     "text": [
      "SHAP values difference: 5.626906443012558e-07\n",
      "SHAP values correction 2\n",
      "Background count: 10\n",
      "Background min diff: -9.900230407714844\n",
      "Background max diff: 0.8463821411132812\n"
     ]
    },
    {
     "data": {
      "application/vnd.jupyter.widget-view+json": {
       "model_id": "8986fed1d4a64fc093c0dc48939bd79a",
       "version_major": 2,
       "version_minor": 0
      },
      "text/plain": [
       "  0%|          | 0/1 [00:00<?, ?it/s]"
      ]
     },
     "metadata": {},
     "output_type": "display_data"
    },
    {
     "name": "stdout",
     "output_type": "stream",
     "text": [
      "SHAP values difference: 5.314113380450181e-07\n",
      "SHAP values correction 2\n",
      "Background count: 10\n",
      "Background min diff: -0.4183006286621094\n",
      "Background max diff: 0.5361976623535156\n"
     ]
    },
    {
     "data": {
      "application/vnd.jupyter.widget-view+json": {
       "model_id": "e6d2b963b5a84fe5808d38622f963ed6",
       "version_major": 2,
       "version_minor": 0
      },
      "text/plain": [
       "  0%|          | 0/1 [00:00<?, ?it/s]"
      ]
     },
     "metadata": {},
     "output_type": "display_data"
    },
    {
     "name": "stdout",
     "output_type": "stream",
     "text": [
      "SHAP values difference: -6.04709709861595e-07\n",
      "SHAP values correction 2\n",
      "Background count: 10\n",
      "Background min diff: -1.7997550964355469\n",
      "Background max diff: 1.2149543762207031\n"
     ]
    },
    {
     "data": {
      "application/vnd.jupyter.widget-view+json": {
       "model_id": "fa2717883d5243368109da3f8cb173ef",
       "version_major": 2,
       "version_minor": 0
      },
      "text/plain": [
       "  0%|          | 0/1 [00:00<?, ?it/s]"
      ]
     },
     "metadata": {},
     "output_type": "display_data"
    },
    {
     "name": "stdout",
     "output_type": "stream",
     "text": [
      "SHAP values difference: -1.3449184876890286e-07\n",
      "Background count: 10\n",
      "Background min diff: -1.5722522735595703\n",
      "Background max diff: 1.5239391326904297\n"
     ]
    },
    {
     "data": {
      "application/vnd.jupyter.widget-view+json": {
       "model_id": "d609e3074d8349d08e0b6f0c758b0b12",
       "version_major": 2,
       "version_minor": 0
      },
      "text/plain": [
       "  0%|          | 0/1 [00:00<?, ?it/s]"
      ]
     },
     "metadata": {},
     "output_type": "display_data"
    },
    {
     "name": "stdout",
     "output_type": "stream",
     "text": [
      "SHAP values difference: -5.277215819887715e-08\n",
      "Background count: 10\n",
      "Background min diff: -0.519287109375\n",
      "Background max diff: 0.488616943359375\n"
     ]
    },
    {
     "data": {
      "application/vnd.jupyter.widget-view+json": {
       "model_id": "c853b9b79ba34deca1ea6a72013f6876",
       "version_major": 2,
       "version_minor": 0
      },
      "text/plain": [
       "  0%|          | 0/1 [00:00<?, ?it/s]"
      ]
     },
     "metadata": {},
     "output_type": "display_data"
    },
    {
     "name": "stdout",
     "output_type": "stream",
     "text": [
      "SHAP values difference: 9.155364821822332e-08\n",
      "Background count: 10\n",
      "Background min diff: -3.0496749877929688\n",
      "Background max diff: 2.7945022583007812\n"
     ]
    },
    {
     "data": {
      "application/vnd.jupyter.widget-view+json": {
       "model_id": "77232e767aad40238bf73450157ecc03",
       "version_major": 2,
       "version_minor": 0
      },
      "text/plain": [
       "  0%|          | 0/1 [00:00<?, ?it/s]"
      ]
     },
     "metadata": {},
     "output_type": "display_data"
    },
    {
     "name": "stdout",
     "output_type": "stream",
     "text": [
      "SHAP values difference: 1.5504410377786826e-07\n",
      "SHAP values correction 2\n",
      "Background count: 10\n",
      "Background min diff: -0.6276168823242188\n",
      "Background max diff: 1.6084060668945312\n"
     ]
    },
    {
     "data": {
      "application/vnd.jupyter.widget-view+json": {
       "model_id": "453eb4bcc01c42fe85e23979fa0f0e46",
       "version_major": 2,
       "version_minor": 0
      },
      "text/plain": [
       "  0%|          | 0/1 [00:00<?, ?it/s]"
      ]
     },
     "metadata": {},
     "output_type": "display_data"
    },
    {
     "name": "stdout",
     "output_type": "stream",
     "text": [
      "SHAP values difference: 9.570584325047093e-10\n",
      "Background count: 10\n",
      "Background min diff: -0.5305519104003906\n",
      "Background max diff: 0.4239463806152344\n"
     ]
    },
    {
     "data": {
      "application/vnd.jupyter.widget-view+json": {
       "model_id": "c9d524053f744c8084baa74f0782c291",
       "version_major": 2,
       "version_minor": 0
      },
      "text/plain": [
       "  0%|          | 0/1 [00:00<?, ?it/s]"
      ]
     },
     "metadata": {},
     "output_type": "display_data"
    },
    {
     "name": "stdout",
     "output_type": "stream",
     "text": [
      "SHAP values difference: -2.4544982579755015e-07\n",
      "Background count: 10\n",
      "Background min diff: -0.9512176513671875\n",
      "Background max diff: 0.9804840087890625\n"
     ]
    },
    {
     "data": {
      "application/vnd.jupyter.widget-view+json": {
       "model_id": "7d8d69696ba24df6b6f2b4cd374b0a41",
       "version_major": 2,
       "version_minor": 0
      },
      "text/plain": [
       "  0%|          | 0/1 [00:00<?, ?it/s]"
      ]
     },
     "metadata": {},
     "output_type": "display_data"
    },
    {
     "name": "stdout",
     "output_type": "stream",
     "text": [
      "SHAP values difference: -5.170384511643533e-07\n",
      "Background count: 10\n",
      "Background min diff: -1.6668834686279297\n",
      "Background max diff: 1.4085254669189453\n"
     ]
    },
    {
     "data": {
      "application/vnd.jupyter.widget-view+json": {
       "model_id": "18f4d9cf30c640078b442892d128bd28",
       "version_major": 2,
       "version_minor": 0
      },
      "text/plain": [
       "  0%|          | 0/1 [00:00<?, ?it/s]"
      ]
     },
     "metadata": {},
     "output_type": "display_data"
    },
    {
     "name": "stdout",
     "output_type": "stream",
     "text": [
      "SHAP values difference: -5.7269865294529154e-08\n",
      "SHAP values correction 2\n",
      "Background count: 10\n",
      "Background min diff: -0.5075454711914062\n",
      "Background max diff: 1.2963790893554688\n"
     ]
    },
    {
     "data": {
      "application/vnd.jupyter.widget-view+json": {
       "model_id": "b7edcfbea1e44f0c811e820af98ff621",
       "version_major": 2,
       "version_minor": 0
      },
      "text/plain": [
       "  0%|          | 0/1 [00:00<?, ?it/s]"
      ]
     },
     "metadata": {},
     "output_type": "display_data"
    },
    {
     "name": "stdout",
     "output_type": "stream",
     "text": [
      "SHAP values difference: 1.6149245851693195e-07\n",
      "Background count: 10\n",
      "Background min diff: -2.9620628356933594\n",
      "Background max diff: 2.8821144104003906\n"
     ]
    },
    {
     "data": {
      "application/vnd.jupyter.widget-view+json": {
       "model_id": "2752dd8896ea40a59f8ee62fdcae3544",
       "version_major": 2,
       "version_minor": 0
      },
      "text/plain": [
       "  0%|          | 0/1 [00:00<?, ?it/s]"
      ]
     },
     "metadata": {},
     "output_type": "display_data"
    },
    {
     "name": "stdout",
     "output_type": "stream",
     "text": [
      "SHAP values difference: 5.560957294648006e-07\n",
      "SHAP values correction 2\n",
      "Background count: 10\n",
      "Background min diff: -4.194389343261719\n",
      "Background max diff: 2.4256057739257812\n"
     ]
    },
    {
     "data": {
      "application/vnd.jupyter.widget-view+json": {
       "model_id": "0789e22e385649799351b5e8f0576042",
       "version_major": 2,
       "version_minor": 0
      },
      "text/plain": [
       "  0%|          | 0/1 [00:00<?, ?it/s]"
      ]
     },
     "metadata": {},
     "output_type": "display_data"
    },
    {
     "name": "stdout",
     "output_type": "stream",
     "text": [
      "SHAP values difference: -4.2571031144689186e-08\n",
      "Background count: 10\n",
      "Background min diff: -5.985099792480469\n",
      "Background max diff: 4.761512756347656\n"
     ]
    },
    {
     "data": {
      "application/vnd.jupyter.widget-view+json": {
       "model_id": "8f93d50c38384b1ca19fe8689a944bd7",
       "version_major": 2,
       "version_minor": 0
      },
      "text/plain": [
       "  0%|          | 0/1 [00:00<?, ?it/s]"
      ]
     },
     "metadata": {},
     "output_type": "display_data"
    },
    {
     "name": "stdout",
     "output_type": "stream",
     "text": [
      "SHAP values difference: 1.8537537904705914e-07\n",
      "SHAP values correction 2\n",
      "Background count: 10\n",
      "Background min diff: -2.1129798889160156\n",
      "Background max diff: 2.1553001403808594\n"
     ]
    },
    {
     "data": {
      "application/vnd.jupyter.widget-view+json": {
       "model_id": "a209e0c9d11e4e59858950bbcca58178",
       "version_major": 2,
       "version_minor": 0
      },
      "text/plain": [
       "  0%|          | 0/1 [00:00<?, ?it/s]"
      ]
     },
     "metadata": {},
     "output_type": "display_data"
    },
    {
     "name": "stdout",
     "output_type": "stream",
     "text": [
      "SHAP values difference: 2.561691050395609e-07\n",
      "SHAP values correction 1\n",
      "SHAP values correction 2\n",
      "Background count: 10\n",
      "Background min diff: -0.86260986328125\n",
      "Background max diff: -0.0985107421875\n"
     ]
    },
    {
     "data": {
      "application/vnd.jupyter.widget-view+json": {
       "model_id": "0fc59ad2485c482ca698a17d2b54db50",
       "version_major": 2,
       "version_minor": 0
      },
      "text/plain": [
       "  0%|          | 0/1 [00:00<?, ?it/s]"
      ]
     },
     "metadata": {},
     "output_type": "display_data"
    },
    {
     "name": "stdout",
     "output_type": "stream",
     "text": [
      "SHAP values difference: -4.745511823500692e-07\n",
      "SHAP values correction 2\n",
      "Background count: 10\n",
      "Background min diff: -1.5287055969238281\n",
      "Background max diff: 1.4860038757324219\n"
     ]
    },
    {
     "data": {
      "application/vnd.jupyter.widget-view+json": {
       "model_id": "b7f61038bd6d4d888993931dd538ad33",
       "version_major": 2,
       "version_minor": 0
      },
      "text/plain": [
       "  0%|          | 0/1 [00:00<?, ?it/s]"
      ]
     },
     "metadata": {},
     "output_type": "display_data"
    },
    {
     "name": "stdout",
     "output_type": "stream",
     "text": [
      "SHAP values difference: 2.597697204009819e-07\n",
      "Background count: 10\n",
      "Background min diff: -0.5970382690429688\n",
      "Background max diff: 0.16706085205078125\n"
     ]
    },
    {
     "data": {
      "application/vnd.jupyter.widget-view+json": {
       "model_id": "abd1ae873c86434d9a16152dccc1e0f0",
       "version_major": 2,
       "version_minor": 0
      },
      "text/plain": [
       "  0%|          | 0/1 [00:00<?, ?it/s]"
      ]
     },
     "metadata": {},
     "output_type": "display_data"
    },
    {
     "name": "stdout",
     "output_type": "stream",
     "text": [
      "SHAP values difference: 1.317951641155446e-07\n",
      "Background count: 10\n",
      "Background min diff: -0.13930892944335938\n",
      "Background max diff: 1.1669654846191406\n"
     ]
    },
    {
     "data": {
      "application/vnd.jupyter.widget-view+json": {
       "model_id": "f5f2c8fbe28e413e9847d8dbbcf365e4",
       "version_major": 2,
       "version_minor": 0
      },
      "text/plain": [
       "  0%|          | 0/1 [00:00<?, ?it/s]"
      ]
     },
     "metadata": {},
     "output_type": "display_data"
    },
    {
     "name": "stdout",
     "output_type": "stream",
     "text": [
      "SHAP values difference: -1.0572194497626697e-07\n",
      "Background count: 10\n",
      "Background min diff: -1.2229690551757812\n",
      "Background max diff: 0.6898422241210938\n"
     ]
    },
    {
     "data": {
      "application/vnd.jupyter.widget-view+json": {
       "model_id": "193f08425add45ef92da6565bccab5ec",
       "version_major": 2,
       "version_minor": 0
      },
      "text/plain": [
       "  0%|          | 0/1 [00:00<?, ?it/s]"
      ]
     },
     "metadata": {},
     "output_type": "display_data"
    },
    {
     "name": "stdout",
     "output_type": "stream",
     "text": [
      "SHAP values difference: -2.5271868508980333e-07\n",
      "Background count: 10\n",
      "Background min diff: -0.9863815307617188\n",
      "Background max diff: 0.8047256469726562\n"
     ]
    },
    {
     "data": {
      "application/vnd.jupyter.widget-view+json": {
       "model_id": "eae7b1f05bfe4b05a65f379b57ea00ed",
       "version_major": 2,
       "version_minor": 0
      },
      "text/plain": [
       "  0%|          | 0/1 [00:00<?, ?it/s]"
      ]
     },
     "metadata": {},
     "output_type": "display_data"
    },
    {
     "name": "stdout",
     "output_type": "stream",
     "text": [
      "SHAP values difference: 5.6358889111152166e-08\n",
      "SHAP values correction 2\n",
      "Background count: 10\n",
      "Background min diff: -1.5076026916503906\n",
      "Background max diff: -0.07754898071289062\n"
     ]
    },
    {
     "data": {
      "application/vnd.jupyter.widget-view+json": {
       "model_id": "862e00c1a087427ea99a9ff3873cc95a",
       "version_major": 2,
       "version_minor": 0
      },
      "text/plain": [
       "  0%|          | 0/1 [00:00<?, ?it/s]"
      ]
     },
     "metadata": {},
     "output_type": "display_data"
    },
    {
     "name": "stdout",
     "output_type": "stream",
     "text": [
      "SHAP values difference: -2.2950593070447667e-07\n",
      "SHAP values correction 2\n",
      "Background count: 10\n",
      "Background min diff: -2.1659927368164062\n",
      "Background max diff: 1.4402694702148438\n"
     ]
    },
    {
     "data": {
      "application/vnd.jupyter.widget-view+json": {
       "model_id": "5fcc2b2cfb2f4e18b3053f60a7401415",
       "version_major": 2,
       "version_minor": 0
      },
      "text/plain": [
       "  0%|          | 0/1 [00:00<?, ?it/s]"
      ]
     },
     "metadata": {},
     "output_type": "display_data"
    },
    {
     "name": "stdout",
     "output_type": "stream",
     "text": [
      "SHAP values difference: -7.830646140405406e-07\n",
      "Background count: 10\n",
      "Background min diff: -1.4538764953613281\n",
      "Background max diff: 1.7740592956542969\n"
     ]
    },
    {
     "data": {
      "application/vnd.jupyter.widget-view+json": {
       "model_id": "87b2ea1a401e463a8e401c4b81d29207",
       "version_major": 2,
       "version_minor": 0
      },
      "text/plain": [
       "  0%|          | 0/1 [00:00<?, ?it/s]"
      ]
     },
     "metadata": {},
     "output_type": "display_data"
    },
    {
     "name": "stdout",
     "output_type": "stream",
     "text": [
      "SHAP values difference: 1.6875392105930587e-07\n",
      "Background count: 10\n",
      "Background min diff: -0.7640647888183594\n",
      "Background max diff: 0.5915870666503906\n"
     ]
    },
    {
     "data": {
      "application/vnd.jupyter.widget-view+json": {
       "model_id": "0745ea6295624d1fa7156a9d5b8b9a46",
       "version_major": 2,
       "version_minor": 0
      },
      "text/plain": [
       "  0%|          | 0/1 [00:00<?, ?it/s]"
      ]
     },
     "metadata": {},
     "output_type": "display_data"
    },
    {
     "name": "stdout",
     "output_type": "stream",
     "text": [
      "SHAP values difference: -9.482576501795847e-08\n",
      "Background count: 10\n",
      "Background min diff: -2.534557342529297\n",
      "Background max diff: 3.079181671142578\n"
     ]
    },
    {
     "data": {
      "application/vnd.jupyter.widget-view+json": {
       "model_id": "8f39cb0150c14fe883c0e81ce41aff0c",
       "version_major": 2,
       "version_minor": 0
      },
      "text/plain": [
       "  0%|          | 0/1 [00:00<?, ?it/s]"
      ]
     },
     "metadata": {},
     "output_type": "display_data"
    },
    {
     "name": "stdout",
     "output_type": "stream",
     "text": [
      "SHAP values difference: 2.319968324115962e-07\n",
      "Background count: 10\n",
      "Background min diff: -1.2506217956542969\n",
      "Background max diff: 1.4273262023925781\n"
     ]
    },
    {
     "data": {
      "application/vnd.jupyter.widget-view+json": {
       "model_id": "6d801adea9ce486c9f2872d1676362f6",
       "version_major": 2,
       "version_minor": 0
      },
      "text/plain": [
       "  0%|          | 0/1 [00:00<?, ?it/s]"
      ]
     },
     "metadata": {},
     "output_type": "display_data"
    },
    {
     "name": "stdout",
     "output_type": "stream",
     "text": [
      "SHAP values difference: -2.8969232301889747e-07\n",
      "SHAP values correction 2\n",
      "Background count: 10\n",
      "Background min diff: -2.095355987548828\n",
      "Background max diff: 3.159984588623047\n"
     ]
    },
    {
     "data": {
      "application/vnd.jupyter.widget-view+json": {
       "model_id": "50ff071af230407fab2795545d149333",
       "version_major": 2,
       "version_minor": 0
      },
      "text/plain": [
       "  0%|          | 0/1 [00:00<?, ?it/s]"
      ]
     },
     "metadata": {},
     "output_type": "display_data"
    },
    {
     "name": "stdout",
     "output_type": "stream",
     "text": [
      "SHAP values difference: -1.606929842523641e-07\n",
      "Background count: 10\n",
      "Background min diff: -0.9743690490722656\n",
      "Background max diff: 0.15832138061523438\n"
     ]
    },
    {
     "data": {
      "application/vnd.jupyter.widget-view+json": {
       "model_id": "a0c1c5282ff74bd188b10128ea3d0987",
       "version_major": 2,
       "version_minor": 0
      },
      "text/plain": [
       "  0%|          | 0/1 [00:00<?, ?it/s]"
      ]
     },
     "metadata": {},
     "output_type": "display_data"
    },
    {
     "name": "stdout",
     "output_type": "stream",
     "text": [
      "SHAP values difference: -8.477344515256391e-08\n",
      "SHAP values correction 1\n",
      "SHAP values correction 2\n",
      "Background count: 10\n",
      "Background min diff: -0.131072998046875\n",
      "Background max diff: 0.7103271484375\n"
     ]
    },
    {
     "data": {
      "application/vnd.jupyter.widget-view+json": {
       "model_id": "60a5e29819fc41299d983fdc31e74d40",
       "version_major": 2,
       "version_minor": 0
      },
      "text/plain": [
       "  0%|          | 0/1 [00:00<?, ?it/s]"
      ]
     },
     "metadata": {},
     "output_type": "display_data"
    },
    {
     "name": "stdout",
     "output_type": "stream",
     "text": [
      "SHAP values difference: 1.8318809491546517e-07\n",
      "Background count: 10\n",
      "Background min diff: -0.6759452819824219\n",
      "Background max diff: 0.4567451477050781\n"
     ]
    },
    {
     "data": {
      "application/vnd.jupyter.widget-view+json": {
       "model_id": "1da270b5cec64480b735ec8640f260ff",
       "version_major": 2,
       "version_minor": 0
      },
      "text/plain": [
       "  0%|          | 0/1 [00:00<?, ?it/s]"
      ]
     },
     "metadata": {},
     "output_type": "display_data"
    },
    {
     "name": "stdout",
     "output_type": "stream",
     "text": [
      "SHAP values difference: -4.3203807287284235e-07\n",
      "SHAP values correction 1\n",
      "SHAP values correction 2\n",
      "Background count: 10\n",
      "Background min diff: -1.0512981414794922\n",
      "Background max diff: 1.6782245635986328\n"
     ]
    },
    {
     "data": {
      "application/vnd.jupyter.widget-view+json": {
       "model_id": "c8368b2f1d2544adb33edf5e19fe6e2f",
       "version_major": 2,
       "version_minor": 0
      },
      "text/plain": [
       "  0%|          | 0/1 [00:00<?, ?it/s]"
      ]
     },
     "metadata": {},
     "output_type": "display_data"
    },
    {
     "name": "stdout",
     "output_type": "stream",
     "text": [
      "SHAP values difference: -4.119717544881496e-08\n",
      "SHAP values correction 2\n",
      "Background count: 10\n",
      "Background min diff: -3.687192916870117\n",
      "Background max diff: 1.9265460968017578\n"
     ]
    },
    {
     "data": {
      "application/vnd.jupyter.widget-view+json": {
       "model_id": "a239b264900f4c428953855423076195",
       "version_major": 2,
       "version_minor": 0
      },
      "text/plain": [
       "  0%|          | 0/1 [00:00<?, ?it/s]"
      ]
     },
     "metadata": {},
     "output_type": "display_data"
    },
    {
     "name": "stdout",
     "output_type": "stream",
     "text": [
      "SHAP values difference: -4.0225113018266256e-07\n",
      "SHAP values correction 2\n",
      "Background count: 10\n",
      "Background min diff: -1.6398601531982422\n",
      "Background max diff: 1.6009845733642578\n"
     ]
    },
    {
     "data": {
      "application/vnd.jupyter.widget-view+json": {
       "model_id": "18296d97d6424fbeb9752a487de08ddb",
       "version_major": 2,
       "version_minor": 0
      },
      "text/plain": [
       "  0%|          | 0/1 [00:00<?, ?it/s]"
      ]
     },
     "metadata": {},
     "output_type": "display_data"
    },
    {
     "name": "stdout",
     "output_type": "stream",
     "text": [
      "SHAP values difference: -2.1826574325700676e-08\n",
      "Background count: 10\n",
      "Background min diff: -0.51165771484375\n",
      "Background max diff: 0.79461669921875\n"
     ]
    },
    {
     "data": {
      "application/vnd.jupyter.widget-view+json": {
       "model_id": "3702c6db48734427acdcd3077a0d5a77",
       "version_major": 2,
       "version_minor": 0
      },
      "text/plain": [
       "  0%|          | 0/1 [00:00<?, ?it/s]"
      ]
     },
     "metadata": {},
     "output_type": "display_data"
    },
    {
     "name": "stdout",
     "output_type": "stream",
     "text": [
      "SHAP values difference: -1.1164060254031938e-07\n",
      "Background count: 10\n",
      "Background min diff: -8.339653015136719\n",
      "Background max diff: 2.4069595336914062\n"
     ]
    },
    {
     "data": {
      "application/vnd.jupyter.widget-view+json": {
       "model_id": "e9997dc0de7e4d468fa1b3b1d49fc57a",
       "version_major": 2,
       "version_minor": 0
      },
      "text/plain": [
       "  0%|          | 0/1 [00:00<?, ?it/s]"
      ]
     },
     "metadata": {},
     "output_type": "display_data"
    },
    {
     "name": "stdout",
     "output_type": "stream",
     "text": [
      "SHAP values difference: 2.2142583588902198e-07\n",
      "Background count: 10\n",
      "Background min diff: -4.837940216064453\n",
      "Background max diff: 5.908672332763672\n"
     ]
    },
    {
     "data": {
      "application/vnd.jupyter.widget-view+json": {
       "model_id": "be68e23609584120846d9c577a0b5467",
       "version_major": 2,
       "version_minor": 0
      },
      "text/plain": [
       "  0%|          | 0/1 [00:00<?, ?it/s]"
      ]
     },
     "metadata": {},
     "output_type": "display_data"
    },
    {
     "name": "stdout",
     "output_type": "stream",
     "text": [
      "SHAP values difference: -9.784241683519213e-08\n",
      "Background count: 10\n",
      "Background min diff: -1.8401870727539062\n",
      "Background max diff: 1.7660751342773438\n"
     ]
    },
    {
     "data": {
      "application/vnd.jupyter.widget-view+json": {
       "model_id": "5af3ce3a0a044270828abe9d34ae2d2f",
       "version_major": 2,
       "version_minor": 0
      },
      "text/plain": [
       "  0%|          | 0/1 [00:00<?, ?it/s]"
      ]
     },
     "metadata": {},
     "output_type": "display_data"
    },
    {
     "name": "stdout",
     "output_type": "stream",
     "text": [
      "SHAP values difference: 2.020734175545158e-07\n",
      "Background count: 10\n",
      "Background min diff: -1.9694156646728516\n",
      "Background max diff: 3.2859249114990234\n"
     ]
    },
    {
     "data": {
      "application/vnd.jupyter.widget-view+json": {
       "model_id": "c00eb67a7014468ebe899a58c22894ad",
       "version_major": 2,
       "version_minor": 0
      },
      "text/plain": [
       "  0%|          | 0/1 [00:00<?, ?it/s]"
      ]
     },
     "metadata": {},
     "output_type": "display_data"
    },
    {
     "name": "stdout",
     "output_type": "stream",
     "text": [
      "SHAP values difference: -2.91784746586643e-07\n",
      "SHAP values correction 1\n",
      "Background count: 10\n",
      "Background min diff: -1.8599891662597656\n",
      "Background max diff: 1.1547203063964844\n"
     ]
    },
    {
     "data": {
      "application/vnd.jupyter.widget-view+json": {
       "model_id": "3999f8d2363648b59d59190bccfd2e9a",
       "version_major": 2,
       "version_minor": 0
      },
      "text/plain": [
       "  0%|          | 0/1 [00:00<?, ?it/s]"
      ]
     },
     "metadata": {},
     "output_type": "display_data"
    },
    {
     "name": "stdout",
     "output_type": "stream",
     "text": [
      "SHAP values difference: -1.707770991288271e-07\n",
      "Background count: 10\n",
      "Background min diff: -1.2315025329589844\n",
      "Background max diff: 0.9191932678222656\n"
     ]
    },
    {
     "data": {
      "application/vnd.jupyter.widget-view+json": {
       "model_id": "e89002d54f3d4022b38f434bc62ff083",
       "version_major": 2,
       "version_minor": 0
      },
      "text/plain": [
       "  0%|          | 0/1 [00:00<?, ?it/s]"
      ]
     },
     "metadata": {},
     "output_type": "display_data"
    },
    {
     "name": "stdout",
     "output_type": "stream",
     "text": [
      "SHAP values difference: -8.379322569140868e-08\n",
      "SHAP values correction 2\n",
      "Background count: 10\n",
      "Background min diff: -0.18583297729492188\n",
      "Background max diff: 0.6555671691894531\n"
     ]
    },
    {
     "data": {
      "application/vnd.jupyter.widget-view+json": {
       "model_id": "66c033a1bcb34842a3cb3e320c551e46",
       "version_major": 2,
       "version_minor": 0
      },
      "text/plain": [
       "  0%|          | 0/1 [00:00<?, ?it/s]"
      ]
     },
     "metadata": {},
     "output_type": "display_data"
    },
    {
     "name": "stdout",
     "output_type": "stream",
     "text": [
      "SHAP values difference: -3.170693674281466e-08\n",
      "SHAP values correction 2\n",
      "Background count: 10\n",
      "Background min diff: -1.5487747192382812\n",
      "Background max diff: 0.36403656005859375\n"
     ]
    },
    {
     "data": {
      "application/vnd.jupyter.widget-view+json": {
       "model_id": "eb71e032bd5e45dfb566af1b0c5a5ed2",
       "version_major": 2,
       "version_minor": 0
      },
      "text/plain": [
       "  0%|          | 0/1 [00:00<?, ?it/s]"
      ]
     },
     "metadata": {},
     "output_type": "display_data"
    },
    {
     "name": "stdout",
     "output_type": "stream",
     "text": [
      "SHAP values difference: 1.4649116053533362e-07\n",
      "Background count: 10\n",
      "Background min diff: -0.8659172058105469\n",
      "Background max diff: 0.9251899719238281\n"
     ]
    },
    {
     "data": {
      "application/vnd.jupyter.widget-view+json": {
       "model_id": "712ad7a26f104d35b6d4979ca714d5f3",
       "version_major": 2,
       "version_minor": 0
      },
      "text/plain": [
       "  0%|          | 0/1 [00:00<?, ?it/s]"
      ]
     },
     "metadata": {},
     "output_type": "display_data"
    },
    {
     "name": "stdout",
     "output_type": "stream",
     "text": [
      "SHAP values difference: -2.976892830020006e-07\n",
      "Background count: 10\n",
      "Background min diff: -1.7826919555664062\n",
      "Background max diff: 1.8235702514648438\n"
     ]
    },
    {
     "data": {
      "application/vnd.jupyter.widget-view+json": {
       "model_id": "b82f4a1b08f44014a60a192631749931",
       "version_major": 2,
       "version_minor": 0
      },
      "text/plain": [
       "  0%|          | 0/1 [00:00<?, ?it/s]"
      ]
     },
     "metadata": {},
     "output_type": "display_data"
    },
    {
     "name": "stdout",
     "output_type": "stream",
     "text": [
      "SHAP values difference: -1.8025210124505975e-07\n",
      "Background count: 10\n",
      "Background min diff: -3.6113243103027344\n",
      "Background max diff: 3.6740455627441406\n"
     ]
    },
    {
     "data": {
      "application/vnd.jupyter.widget-view+json": {
       "model_id": "8cfdf1790a174a15bc0a9705f688f59f",
       "version_major": 2,
       "version_minor": 0
      },
      "text/plain": [
       "  0%|          | 0/1 [00:00<?, ?it/s]"
      ]
     },
     "metadata": {},
     "output_type": "display_data"
    },
    {
     "name": "stdout",
     "output_type": "stream",
     "text": [
      "SHAP values difference: 2.4423789390937145e-07\n",
      "SHAP values correction 1\n",
      "SHAP values correction 2\n",
      "Background count: 10\n",
      "Background min diff: -4.037078857421875\n",
      "Background max diff: 2.206298828125\n"
     ]
    },
    {
     "data": {
      "application/vnd.jupyter.widget-view+json": {
       "model_id": "3a3720ee5c9d49429edbac3d6de9502a",
       "version_major": 2,
       "version_minor": 0
      },
      "text/plain": [
       "  0%|          | 0/1 [00:00<?, ?it/s]"
      ]
     },
     "metadata": {},
     "output_type": "display_data"
    },
    {
     "name": "stdout",
     "output_type": "stream",
     "text": [
      "SHAP values difference: 6.714273581565067e-09\n",
      "Background count: 10\n",
      "Background min diff: -1.2113533020019531\n",
      "Background max diff: 1.3310661315917969\n"
     ]
    },
    {
     "data": {
      "application/vnd.jupyter.widget-view+json": {
       "model_id": "0aac495af4e0480491180d983f480dbf",
       "version_major": 2,
       "version_minor": 0
      },
      "text/plain": [
       "  0%|          | 0/1 [00:00<?, ?it/s]"
      ]
     },
     "metadata": {},
     "output_type": "display_data"
    },
    {
     "name": "stdout",
     "output_type": "stream",
     "text": [
      "SHAP values difference: 1.8438632487516315e-07\n",
      "Background count: 10\n",
      "Background min diff: -1.0917243957519531\n",
      "Background max diff: 1.0079765319824219\n"
     ]
    },
    {
     "data": {
      "application/vnd.jupyter.widget-view+json": {
       "model_id": "0513274177f54418bd84bbe41b8c6e35",
       "version_major": 2,
       "version_minor": 0
      },
      "text/plain": [
       "  0%|          | 0/1 [00:00<?, ?it/s]"
      ]
     },
     "metadata": {},
     "output_type": "display_data"
    },
    {
     "name": "stdout",
     "output_type": "stream",
     "text": [
      "SHAP values difference: 1.2828348161519898e-07\n",
      "Background count: 10\n",
      "Background min diff: -1.9957313537597656\n",
      "Background max diff: 1.2661399841308594\n"
     ]
    },
    {
     "data": {
      "application/vnd.jupyter.widget-view+json": {
       "model_id": "129cc8df223649ae94f3fdaef5bbc68b",
       "version_major": 2,
       "version_minor": 0
      },
      "text/plain": [
       "  0%|          | 0/1 [00:00<?, ?it/s]"
      ]
     },
     "metadata": {},
     "output_type": "display_data"
    },
    {
     "name": "stdout",
     "output_type": "stream",
     "text": [
      "SHAP values difference: 1.8109203381300176e-07\n",
      "Background count: 10\n",
      "Background min diff: -1.4586639404296875\n",
      "Background max diff: 1.9582977294921875\n"
     ]
    },
    {
     "data": {
      "application/vnd.jupyter.widget-view+json": {
       "model_id": "bf20110c3d0d489ab9107fd2bbe40091",
       "version_major": 2,
       "version_minor": 0
      },
      "text/plain": [
       "  0%|          | 0/1 [00:00<?, ?it/s]"
      ]
     },
     "metadata": {},
     "output_type": "display_data"
    },
    {
     "name": "stdout",
     "output_type": "stream",
     "text": [
      "SHAP values difference: 4.88777303075949e-07\n",
      "Background count: 10\n",
      "Background min diff: -2.9581947326660156\n",
      "Background max diff: 3.4880638122558594\n"
     ]
    },
    {
     "data": {
      "application/vnd.jupyter.widget-view+json": {
       "model_id": "2ee5fd48440f4482b2930841ae89696d",
       "version_major": 2,
       "version_minor": 0
      },
      "text/plain": [
       "  0%|          | 0/1 [00:00<?, ?it/s]"
      ]
     },
     "metadata": {},
     "output_type": "display_data"
    },
    {
     "name": "stdout",
     "output_type": "stream",
     "text": [
      "SHAP values difference: -7.47490531693984e-08\n",
      "SHAP values correction 2\n",
      "Background count: 10\n",
      "Background min diff: -1.2588386535644531\n",
      "Background max diff: 1.4191093444824219\n"
     ]
    },
    {
     "data": {
      "application/vnd.jupyter.widget-view+json": {
       "model_id": "43db9137ed254ee6bc76a311228f8061",
       "version_major": 2,
       "version_minor": 0
      },
      "text/plain": [
       "  0%|          | 0/1 [00:00<?, ?it/s]"
      ]
     },
     "metadata": {},
     "output_type": "display_data"
    },
    {
     "name": "stdout",
     "output_type": "stream",
     "text": [
      "SHAP values difference: -3.0824854668765056e-07\n",
      "SHAP values correction 1\n",
      "SHAP values correction 2\n",
      "Background count: 10\n",
      "Background min diff: -2.6292381286621094\n",
      "Background max diff: 2.6261024475097656\n"
     ]
    },
    {
     "data": {
      "application/vnd.jupyter.widget-view+json": {
       "model_id": "ef22786cffa041ca98ffb2c96549764a",
       "version_major": 2,
       "version_minor": 0
      },
      "text/plain": [
       "  0%|          | 0/1 [00:00<?, ?it/s]"
      ]
     },
     "metadata": {},
     "output_type": "display_data"
    },
    {
     "name": "stdout",
     "output_type": "stream",
     "text": [
      "SHAP values difference: -5.738279504896582e-07\n",
      "Background count: 10\n",
      "Background min diff: -0.437713623046875\n",
      "Background max diff: 0.4036865234375\n"
     ]
    },
    {
     "data": {
      "application/vnd.jupyter.widget-view+json": {
       "model_id": "25493a7056814f809fa86d76ffd73bc4",
       "version_major": 2,
       "version_minor": 0
      },
      "text/plain": [
       "  0%|          | 0/1 [00:00<?, ?it/s]"
      ]
     },
     "metadata": {},
     "output_type": "display_data"
    },
    {
     "name": "stdout",
     "output_type": "stream",
     "text": [
      "SHAP values difference: 1.8565581605400894e-07\n",
      "Background count: 10\n",
      "Background min diff: -6.49981689453125\n",
      "Background max diff: 4.246795654296875\n"
     ]
    },
    {
     "data": {
      "application/vnd.jupyter.widget-view+json": {
       "model_id": "273c42f71e5f4011bc8c0539d6fa625b",
       "version_major": 2,
       "version_minor": 0
      },
      "text/plain": [
       "  0%|          | 0/1 [00:00<?, ?it/s]"
      ]
     },
     "metadata": {},
     "output_type": "display_data"
    },
    {
     "name": "stdout",
     "output_type": "stream",
     "text": [
      "SHAP values difference: 8.955690038447983e-07\n",
      "SHAP values correction 1\n",
      "SHAP values correction 2\n",
      "Background count: 10\n",
      "Background min diff: -2.7882728576660156\n",
      "Background max diff: 2.8568382263183594\n"
     ]
    },
    {
     "data": {
      "application/vnd.jupyter.widget-view+json": {
       "model_id": "3464a548e8c740e89476af262a6119fe",
       "version_major": 2,
       "version_minor": 0
      },
      "text/plain": [
       "  0%|          | 0/1 [00:00<?, ?it/s]"
      ]
     },
     "metadata": {},
     "output_type": "display_data"
    },
    {
     "name": "stdout",
     "output_type": "stream",
     "text": [
      "SHAP values difference: 2.2529764720502499e-07\n",
      "SHAP values correction 1\n",
      "SHAP values correction 2\n",
      "Background count: 10\n",
      "Background min diff: -0.5899124145507812\n",
      "Background max diff: 0.8871078491210938\n"
     ]
    },
    {
     "data": {
      "application/vnd.jupyter.widget-view+json": {
       "model_id": "5e136cebb8bc4a60915db93638946023",
       "version_major": 2,
       "version_minor": 0
      },
      "text/plain": [
       "  0%|          | 0/1 [00:00<?, ?it/s]"
      ]
     },
     "metadata": {},
     "output_type": "display_data"
    },
    {
     "name": "stdout",
     "output_type": "stream",
     "text": [
      "SHAP values difference: -2.501531639609311e-07\n",
      "SHAP values correction 2\n",
      "Background count: 10\n",
      "Background min diff: -0.6409263610839844\n",
      "Background max diff: 0.5317726135253906\n"
     ]
    },
    {
     "data": {
      "application/vnd.jupyter.widget-view+json": {
       "model_id": "7554b37c0441478b94d8ebed65b001a1",
       "version_major": 2,
       "version_minor": 0
      },
      "text/plain": [
       "  0%|          | 0/1 [00:00<?, ?it/s]"
      ]
     },
     "metadata": {},
     "output_type": "display_data"
    },
    {
     "name": "stdout",
     "output_type": "stream",
     "text": [
      "SHAP values difference: -1.7668664753500707e-07\n",
      "SHAP values correction 2\n",
      "Background count: 10\n",
      "Background min diff: -3.6461257934570312\n",
      "Background max diff: 1.9676132202148438\n"
     ]
    },
    {
     "data": {
      "application/vnd.jupyter.widget-view+json": {
       "model_id": "1b16ff4121c64daeab617f3cf3b93ed3",
       "version_major": 2,
       "version_minor": 0
      },
      "text/plain": [
       "  0%|          | 0/1 [00:00<?, ?it/s]"
      ]
     },
     "metadata": {},
     "output_type": "display_data"
    },
    {
     "name": "stdout",
     "output_type": "stream",
     "text": [
      "SHAP values difference: -4.904812644923595e-07\n",
      "Background count: 10\n",
      "Background min diff: -1.1290569305419922\n",
      "Background max diff: 0.2691059112548828\n"
     ]
    },
    {
     "data": {
      "application/vnd.jupyter.widget-view+json": {
       "model_id": "8c2ac06ed9d24d349c5b84075ce45829",
       "version_major": 2,
       "version_minor": 0
      },
      "text/plain": [
       "  0%|          | 0/1 [00:00<?, ?it/s]"
      ]
     },
     "metadata": {},
     "output_type": "display_data"
    },
    {
     "name": "stdout",
     "output_type": "stream",
     "text": [
      "SHAP values difference: -6.470316797901887e-07\n",
      "SHAP values correction 1\n",
      "SHAP values correction 2\n",
      "Background count: 10\n",
      "Background min diff: -1.770944595336914\n",
      "Background max diff: 1.706624984741211\n"
     ]
    },
    {
     "data": {
      "application/vnd.jupyter.widget-view+json": {
       "model_id": "f13346e9126b4781acdfa6fd541669a0",
       "version_major": 2,
       "version_minor": 0
      },
      "text/plain": [
       "  0%|          | 0/1 [00:00<?, ?it/s]"
      ]
     },
     "metadata": {},
     "output_type": "display_data"
    },
    {
     "name": "stdout",
     "output_type": "stream",
     "text": [
      "SHAP values difference: -3.84137699427356e-08\n",
      "Background count: 10\n",
      "Background min diff: -1.4203338623046875\n",
      "Background max diff: 1.9966278076171875\n"
     ]
    },
    {
     "data": {
      "application/vnd.jupyter.widget-view+json": {
       "model_id": "f97c61957e6d4132a18d9cd21ededf03",
       "version_major": 2,
       "version_minor": 0
      },
      "text/plain": [
       "  0%|          | 0/1 [00:00<?, ?it/s]"
      ]
     },
     "metadata": {},
     "output_type": "display_data"
    },
    {
     "name": "stdout",
     "output_type": "stream",
     "text": [
      "SHAP values difference: 2.1022938767600863e-07\n",
      "Background count: 10\n",
      "Background min diff: -0.34462738037109375\n",
      "Background max diff: 0.49677276611328125\n"
     ]
    },
    {
     "data": {
      "application/vnd.jupyter.widget-view+json": {
       "model_id": "6bae83bcda7c403b9b1c382cbc3232a5",
       "version_major": 2,
       "version_minor": 0
      },
      "text/plain": [
       "  0%|          | 0/1 [00:00<?, ?it/s]"
      ]
     },
     "metadata": {},
     "output_type": "display_data"
    },
    {
     "name": "stdout",
     "output_type": "stream",
     "text": [
      "SHAP values difference: -6.665481411260998e-08\n",
      "SHAP values correction 2\n",
      "Background count: 10\n",
      "Background min diff: -3.051105499267578\n",
      "Background max diff: 2.594005584716797\n"
     ]
    },
    {
     "data": {
      "application/vnd.jupyter.widget-view+json": {
       "model_id": "161ad07fd2fa4e7894e3e334b6d04697",
       "version_major": 2,
       "version_minor": 0
      },
      "text/plain": [
       "  0%|          | 0/1 [00:00<?, ?it/s]"
      ]
     },
     "metadata": {},
     "output_type": "display_data"
    },
    {
     "name": "stdout",
     "output_type": "stream",
     "text": [
      "SHAP values difference: 7.348487525149494e-07\n",
      "Background count: 10\n",
      "Background min diff: -1.448211669921875\n",
      "Background max diff: 1.792633056640625\n"
     ]
    },
    {
     "data": {
      "application/vnd.jupyter.widget-view+json": {
       "model_id": "c5f2e967d9914d8bb83495bb827a30f7",
       "version_major": 2,
       "version_minor": 0
      },
      "text/plain": [
       "  0%|          | 0/1 [00:00<?, ?it/s]"
      ]
     },
     "metadata": {},
     "output_type": "display_data"
    },
    {
     "name": "stdout",
     "output_type": "stream",
     "text": [
      "SHAP values difference: -8.880543589384615e-08\n",
      "SHAP values correction 2\n",
      "Background count: 10\n",
      "Background min diff: -0.8296375274658203\n",
      "Background max diff: 1.0866222381591797\n"
     ]
    },
    {
     "data": {
      "application/vnd.jupyter.widget-view+json": {
       "model_id": "0a931bda36f74bd0af779ecdfa8048e1",
       "version_major": 2,
       "version_minor": 0
      },
      "text/plain": [
       "  0%|          | 0/1 [00:00<?, ?it/s]"
      ]
     },
     "metadata": {},
     "output_type": "display_data"
    },
    {
     "name": "stdout",
     "output_type": "stream",
     "text": [
      "SHAP values difference: -3.0689204066902676e-08\n",
      "SHAP values correction 2\n",
      "Background count: 10\n",
      "Background min diff: -5.599063873291016\n",
      "Background max diff: 5.147548675537109\n"
     ]
    },
    {
     "data": {
      "application/vnd.jupyter.widget-view+json": {
       "model_id": "af9797806fbe4de0b7a36c99b8a2b0b3",
       "version_major": 2,
       "version_minor": 0
      },
      "text/plain": [
       "  0%|          | 0/1 [00:00<?, ?it/s]"
      ]
     },
     "metadata": {},
     "output_type": "display_data"
    },
    {
     "name": "stdout",
     "output_type": "stream",
     "text": [
      "SHAP values difference: 1.8035166249319445e-07\n",
      "Background count: 10\n",
      "Background min diff: -1.862091064453125\n",
      "Background max diff: 1.744171142578125\n"
     ]
    },
    {
     "data": {
      "application/vnd.jupyter.widget-view+json": {
       "model_id": "f4de793c537541b2b77e91312726214e",
       "version_major": 2,
       "version_minor": 0
      },
      "text/plain": [
       "  0%|          | 0/1 [00:00<?, ?it/s]"
      ]
     },
     "metadata": {},
     "output_type": "display_data"
    },
    {
     "name": "stdout",
     "output_type": "stream",
     "text": [
      "SHAP values difference: -1.1241953146168271e-07\n",
      "SHAP values correction 2\n",
      "Background count: 10\n",
      "Background min diff: -0.5998573303222656\n",
      "Background max diff: 0.5728416442871094\n"
     ]
    },
    {
     "data": {
      "application/vnd.jupyter.widget-view+json": {
       "model_id": "3c5ecfa9deff41a985024be02244b4d1",
       "version_major": 2,
       "version_minor": 0
      },
      "text/plain": [
       "  0%|          | 0/1 [00:00<?, ?it/s]"
      ]
     },
     "metadata": {},
     "output_type": "display_data"
    },
    {
     "name": "stdout",
     "output_type": "stream",
     "text": [
      "SHAP values difference: -7.539177904192229e-08\n",
      "SHAP values correction 2\n",
      "Background count: 10\n",
      "Background min diff: -1.7002830505371094\n",
      "Background max diff: 1.5276527404785156\n"
     ]
    },
    {
     "data": {
      "application/vnd.jupyter.widget-view+json": {
       "model_id": "e88921592f79486083e3917c7ebe79ce",
       "version_major": 2,
       "version_minor": 0
      },
      "text/plain": [
       "  0%|          | 0/1 [00:00<?, ?it/s]"
      ]
     },
     "metadata": {},
     "output_type": "display_data"
    },
    {
     "name": "stdout",
     "output_type": "stream",
     "text": [
      "SHAP values difference: -8.7138612769877e-08\n",
      "SHAP values correction 1\n",
      "SHAP values correction 2\n",
      "Background count: 10\n",
      "Background min diff: -0.5188064575195312\n",
      "Background max diff: 0.20900726318359375\n"
     ]
    },
    {
     "data": {
      "application/vnd.jupyter.widget-view+json": {
       "model_id": "9e12a3509a394821b9e249b18ff43e3e",
       "version_major": 2,
       "version_minor": 0
      },
      "text/plain": [
       "  0%|          | 0/1 [00:00<?, ?it/s]"
      ]
     },
     "metadata": {},
     "output_type": "display_data"
    },
    {
     "name": "stdout",
     "output_type": "stream",
     "text": [
      "SHAP values difference: 3.9727643752485164e-07\n",
      "Background count: 10\n",
      "Background min diff: -1.9957313537597656\n",
      "Background max diff: 1.5225181579589844\n"
     ]
    },
    {
     "data": {
      "application/vnd.jupyter.widget-view+json": {
       "model_id": "0e75f5e9bf0646b2b8f50d3a3fb22190",
       "version_major": 2,
       "version_minor": 0
      },
      "text/plain": [
       "  0%|          | 0/1 [00:00<?, ?it/s]"
      ]
     },
     "metadata": {},
     "output_type": "display_data"
    },
    {
     "name": "stdout",
     "output_type": "stream",
     "text": [
      "SHAP values difference: 2.4160510037063432e-08\n",
      "Background count: 10\n",
      "Background min diff: -2.4051513671875\n",
      "Background max diff: 4.041107177734375\n"
     ]
    },
    {
     "data": {
      "application/vnd.jupyter.widget-view+json": {
       "model_id": "020a518351914a3590655a76068de4a9",
       "version_major": 2,
       "version_minor": 0
      },
      "text/plain": [
       "  0%|          | 0/1 [00:00<?, ?it/s]"
      ]
     },
     "metadata": {},
     "output_type": "display_data"
    },
    {
     "name": "stdout",
     "output_type": "stream",
     "text": [
      "SHAP values difference: 5.331625452242861e-08\n",
      "SHAP values correction 2\n",
      "Background count: 10\n",
      "Background min diff: -0.6002388000488281\n",
      "Background max diff: 1.6357841491699219\n"
     ]
    },
    {
     "data": {
      "application/vnd.jupyter.widget-view+json": {
       "model_id": "bb73d0d7f33a463a86c660f33dfc7455",
       "version_major": 2,
       "version_minor": 0
      },
      "text/plain": [
       "  0%|          | 0/1 [00:00<?, ?it/s]"
      ]
     },
     "metadata": {},
     "output_type": "display_data"
    },
    {
     "name": "stdout",
     "output_type": "stream",
     "text": [
      "SHAP values difference: 4.355114668896931e-08\n",
      "Background count: 10\n",
      "Background min diff: -0.66949462890625\n",
      "Background max diff: 1.14715576171875\n"
     ]
    },
    {
     "data": {
      "application/vnd.jupyter.widget-view+json": {
       "model_id": "2de61b52c49b40c4bacfdf5a37f47c68",
       "version_major": 2,
       "version_minor": 0
      },
      "text/plain": [
       "  0%|          | 0/1 [00:00<?, ?it/s]"
      ]
     },
     "metadata": {},
     "output_type": "display_data"
    },
    {
     "name": "stdout",
     "output_type": "stream",
     "text": [
      "SHAP values difference: -8.810310703211144e-08\n",
      "Background count: 10\n",
      "Background min diff: -1.7521133422851562\n",
      "Background max diff: 1.4887313842773438\n"
     ]
    },
    {
     "data": {
      "application/vnd.jupyter.widget-view+json": {
       "model_id": "95f4de61627a4c4c8b4b8699847323f1",
       "version_major": 2,
       "version_minor": 0
      },
      "text/plain": [
       "  0%|          | 0/1 [00:00<?, ?it/s]"
      ]
     },
     "metadata": {},
     "output_type": "display_data"
    },
    {
     "name": "stdout",
     "output_type": "stream",
     "text": [
      "SHAP values difference: 1.2568813900770692e-07\n",
      "Background count: 10\n",
      "Background min diff: -0.8237876892089844\n",
      "Background max diff: 0.3089027404785156\n"
     ]
    },
    {
     "data": {
      "application/vnd.jupyter.widget-view+json": {
       "model_id": "ae3f051670264a118ccdf93126145140",
       "version_major": 2,
       "version_minor": 0
      },
      "text/plain": [
       "  0%|          | 0/1 [00:00<?, ?it/s]"
      ]
     },
     "metadata": {},
     "output_type": "display_data"
    },
    {
     "name": "stdout",
     "output_type": "stream",
     "text": [
      "SHAP values difference: -4.6679628695756037e-07\n",
      "Background count: 10\n",
      "Background min diff: -0.4700050354003906\n",
      "Background max diff: 0.5378990173339844\n"
     ]
    },
    {
     "data": {
      "application/vnd.jupyter.widget-view+json": {
       "model_id": "45c9d68360b14d71a22532171eb719d3",
       "version_major": 2,
       "version_minor": 0
      },
      "text/plain": [
       "  0%|          | 0/1 [00:00<?, ?it/s]"
      ]
     },
     "metadata": {},
     "output_type": "display_data"
    },
    {
     "name": "stdout",
     "output_type": "stream",
     "text": [
      "SHAP values difference: -1.2264240289994177e-07\n",
      "Background count: 10\n",
      "Background min diff: -3.201688766479492\n",
      "Background max diff: 2.443422317504883\n"
     ]
    },
    {
     "data": {
      "application/vnd.jupyter.widget-view+json": {
       "model_id": "bd52252416824fcd992198d26b4b7d0c",
       "version_major": 2,
       "version_minor": 0
      },
      "text/plain": [
       "  0%|          | 0/1 [00:00<?, ?it/s]"
      ]
     },
     "metadata": {},
     "output_type": "display_data"
    },
    {
     "name": "stdout",
     "output_type": "stream",
     "text": [
      "SHAP values difference: -1.0488801693853134e-07\n",
      "SHAP values correction 1\n",
      "SHAP values correction 2\n",
      "Background count: 10\n",
      "Background min diff: -1.4308643341064453\n",
      "Background max diff: 1.6268138885498047\n"
     ]
    },
    {
     "data": {
      "application/vnd.jupyter.widget-view+json": {
       "model_id": "2c527ff29107494ea937748bce4aa014",
       "version_major": 2,
       "version_minor": 0
      },
      "text/plain": [
       "  0%|          | 0/1 [00:00<?, ?it/s]"
      ]
     },
     "metadata": {},
     "output_type": "display_data"
    },
    {
     "name": "stdout",
     "output_type": "stream",
     "text": [
      "SHAP values difference: 3.093513747387533e-07\n",
      "Background count: 10\n",
      "Background min diff: -0.6788749694824219\n",
      "Background max diff: 2.561969757080078\n"
     ]
    },
    {
     "data": {
      "application/vnd.jupyter.widget-view+json": {
       "model_id": "60e548b298a44637a76fee127908b566",
       "version_major": 2,
       "version_minor": 0
      },
      "text/plain": [
       "  0%|          | 0/1 [00:00<?, ?it/s]"
      ]
     },
     "metadata": {},
     "output_type": "display_data"
    },
    {
     "name": "stdout",
     "output_type": "stream",
     "text": [
      "SHAP values difference: -2.8753447800511367e-07\n",
      "SHAP values correction 2\n",
      "Background count: 10\n",
      "Background min diff: -0.3282012939453125\n",
      "Background max diff: 0.5131988525390625\n"
     ]
    },
    {
     "data": {
      "application/vnd.jupyter.widget-view+json": {
       "model_id": "e4e66ac7d8ad4325991e4b144be2b7fb",
       "version_major": 2,
       "version_minor": 0
      },
      "text/plain": [
       "  0%|          | 0/1 [00:00<?, ?it/s]"
      ]
     },
     "metadata": {},
     "output_type": "display_data"
    },
    {
     "name": "stdout",
     "output_type": "stream",
     "text": [
      "SHAP values difference: -1.480743296866649e-07\n",
      "SHAP values correction 1\n",
      "SHAP values correction 2\n",
      "Background count: 10\n",
      "Background min diff: -1.6701679229736328\n",
      "Background max diff: 1.5577678680419922\n"
     ]
    },
    {
     "data": {
      "application/vnd.jupyter.widget-view+json": {
       "model_id": "3dc81a05de9b4e7c9c62208aa9f5f196",
       "version_major": 2,
       "version_minor": 0
      },
      "text/plain": [
       "  0%|          | 0/1 [00:00<?, ?it/s]"
      ]
     },
     "metadata": {},
     "output_type": "display_data"
    },
    {
     "name": "stdout",
     "output_type": "stream",
     "text": [
      "SHAP values difference: -1.5728584301655246e-07\n",
      "Background count: 10\n",
      "Background min diff: -0.6020050048828125\n",
      "Background max diff: 0.7042694091796875\n"
     ]
    },
    {
     "data": {
      "application/vnd.jupyter.widget-view+json": {
       "model_id": "a58643392c5f4a2691eb2ea14ddcd081",
       "version_major": 2,
       "version_minor": 0
      },
      "text/plain": [
       "  0%|          | 0/1 [00:00<?, ?it/s]"
      ]
     },
     "metadata": {},
     "output_type": "display_data"
    },
    {
     "name": "stdout",
     "output_type": "stream",
     "text": [
      "SHAP values difference: -1.9421997166091387e-07\n",
      "SHAP values correction 1\n",
      "SHAP values correction 2\n",
      "Background count: 10\n",
      "Background min diff: -0.5478401184082031\n",
      "Background max diff: 0.6248588562011719\n"
     ]
    },
    {
     "data": {
      "application/vnd.jupyter.widget-view+json": {
       "model_id": "97cf618e6a4e433bbdc359c6917643d8",
       "version_major": 2,
       "version_minor": 0
      },
      "text/plain": [
       "  0%|          | 0/1 [00:00<?, ?it/s]"
      ]
     },
     "metadata": {},
     "output_type": "display_data"
    },
    {
     "name": "stdout",
     "output_type": "stream",
     "text": [
      "SHAP values difference: 6.489349146932e-08\n",
      "Background count: 10\n",
      "Background min diff: -0.8239803314208984\n",
      "Background max diff: 2.4168643951416016\n"
     ]
    },
    {
     "data": {
      "application/vnd.jupyter.widget-view+json": {
       "model_id": "d76c0ee7ad004ec896e7d058ba29208d",
       "version_major": 2,
       "version_minor": 0
      },
      "text/plain": [
       "  0%|          | 0/1 [00:00<?, ?it/s]"
      ]
     },
     "metadata": {},
     "output_type": "display_data"
    },
    {
     "name": "stdout",
     "output_type": "stream",
     "text": [
      "SHAP values difference: 1.3478722760140727e-07\n",
      "SHAP values correction 1\n",
      "SHAP values correction 2\n",
      "Background count: 10\n",
      "Background min diff: -2.2936267852783203\n",
      "Background max diff: 3.3201122283935547\n"
     ]
    },
    {
     "data": {
      "application/vnd.jupyter.widget-view+json": {
       "model_id": "553fc615c20949c6bc753f02b41e1b0b",
       "version_major": 2,
       "version_minor": 0
      },
      "text/plain": [
       "  0%|          | 0/1 [00:00<?, ?it/s]"
      ]
     },
     "metadata": {},
     "output_type": "display_data"
    },
    {
     "name": "stdout",
     "output_type": "stream",
     "text": [
      "SHAP values difference: -9.853378513113853e-08\n",
      "SHAP values correction 1\n",
      "SHAP values correction 2\n",
      "Background count: 10\n",
      "Background min diff: -0.6759262084960938\n",
      "Background max diff: 0.6303482055664062\n"
     ]
    },
    {
     "data": {
      "application/vnd.jupyter.widget-view+json": {
       "model_id": "3cd663dcd39d45199b4ee0a1e486eec2",
       "version_major": 2,
       "version_minor": 0
      },
      "text/plain": [
       "  0%|          | 0/1 [00:00<?, ?it/s]"
      ]
     },
     "metadata": {},
     "output_type": "display_data"
    },
    {
     "name": "stdout",
     "output_type": "stream",
     "text": [
      "SHAP values difference: 9.365806619143768e-08\n",
      "Background count: 10\n",
      "Background min diff: -0.7941627502441406\n",
      "Background max diff: -0.030063629150390625\n"
     ]
    },
    {
     "data": {
      "application/vnd.jupyter.widget-view+json": {
       "model_id": "d2b8af5250ee45029dbd0ab429999dfa",
       "version_major": 2,
       "version_minor": 0
      },
      "text/plain": [
       "  0%|          | 0/1 [00:00<?, ?it/s]"
      ]
     },
     "metadata": {},
     "output_type": "display_data"
    },
    {
     "name": "stdout",
     "output_type": "stream",
     "text": [
      "SHAP values difference: -2.6894564797430576e-07\n",
      "Background count: 10\n",
      "Background min diff: -4.057220458984375\n",
      "Background max diff: 3.68328857421875\n"
     ]
    },
    {
     "data": {
      "application/vnd.jupyter.widget-view+json": {
       "model_id": "060d3be6a4f6433ab203b258881e6bb1",
       "version_major": 2,
       "version_minor": 0
      },
      "text/plain": [
       "  0%|          | 0/1 [00:00<?, ?it/s]"
      ]
     },
     "metadata": {},
     "output_type": "display_data"
    },
    {
     "name": "stdout",
     "output_type": "stream",
     "text": [
      "SHAP values difference: 3.6786909163311066e-07\n",
      "Background count: 10\n",
      "Background min diff: -3.3989906311035156\n",
      "Background max diff: 3.0472679138183594\n"
     ]
    },
    {
     "data": {
      "application/vnd.jupyter.widget-view+json": {
       "model_id": "5bf8c59222a84ff18cc4e91ba5b30fca",
       "version_major": 2,
       "version_minor": 0
      },
      "text/plain": [
       "  0%|          | 0/1 [00:00<?, ?it/s]"
      ]
     },
     "metadata": {},
     "output_type": "display_data"
    },
    {
     "name": "stdout",
     "output_type": "stream",
     "text": [
      "SHAP values difference: -7.15499499648331e-08\n",
      "SHAP values correction 2\n",
      "Background count: 10\n",
      "Background min diff: -2.7250614166259766\n",
      "Background max diff: 2.5302791595458984\n"
     ]
    },
    {
     "data": {
      "application/vnd.jupyter.widget-view+json": {
       "model_id": "adc39c1fabc541cf80b5fc5aacfede23",
       "version_major": 2,
       "version_minor": 0
      },
      "text/plain": [
       "  0%|          | 0/1 [00:00<?, ?it/s]"
      ]
     },
     "metadata": {},
     "output_type": "display_data"
    },
    {
     "name": "stdout",
     "output_type": "stream",
     "text": [
      "SHAP values difference: 1.35765937159249e-07\n",
      "Background count: 10\n",
      "Background min diff: -0.6244163513183594\n",
      "Background max diff: 0.13968276977539062\n"
     ]
    },
    {
     "data": {
      "application/vnd.jupyter.widget-view+json": {
       "model_id": "3b2c94110cbd4804a41727c7b8cd1536",
       "version_major": 2,
       "version_minor": 0
      },
      "text/plain": [
       "  0%|          | 0/1 [00:00<?, ?it/s]"
      ]
     },
     "metadata": {},
     "output_type": "display_data"
    },
    {
     "name": "stdout",
     "output_type": "stream",
     "text": [
      "SHAP values difference: 4.2199489413974334e-07\n",
      "Background count: 10\n",
      "Background min diff: -1.299448013305664\n",
      "Background max diff: 1.758230209350586\n"
     ]
    },
    {
     "data": {
      "application/vnd.jupyter.widget-view+json": {
       "model_id": "c8ae56b8043c4418add1a2d01269252d",
       "version_major": 2,
       "version_minor": 0
      },
      "text/plain": [
       "  0%|          | 0/1 [00:00<?, ?it/s]"
      ]
     },
     "metadata": {},
     "output_type": "display_data"
    },
    {
     "name": "stdout",
     "output_type": "stream",
     "text": [
      "SHAP values difference: -2.364171969304607e-07\n",
      "Background count: 10\n",
      "Background min diff: -1.3104782104492188\n",
      "Background max diff: 0.11957550048828125\n"
     ]
    },
    {
     "data": {
      "application/vnd.jupyter.widget-view+json": {
       "model_id": "dc8264d98f9b40d2aca7ec8a10038050",
       "version_major": 2,
       "version_minor": 0
      },
      "text/plain": [
       "  0%|          | 0/1 [00:00<?, ?it/s]"
      ]
     },
     "metadata": {},
     "output_type": "display_data"
    },
    {
     "name": "stdout",
     "output_type": "stream",
     "text": [
      "SHAP values difference: 2.1674370742630344e-07\n",
      "SHAP values correction 2\n",
      "Background count: 10\n",
      "Background min diff: -2.075641632080078\n",
      "Background max diff: 1.5306205749511719\n"
     ]
    },
    {
     "data": {
      "application/vnd.jupyter.widget-view+json": {
       "model_id": "4ead917d62f642f4a3ec98af24f47f78",
       "version_major": 2,
       "version_minor": 0
      },
      "text/plain": [
       "  0%|          | 0/1 [00:00<?, ?it/s]"
      ]
     },
     "metadata": {},
     "output_type": "display_data"
    },
    {
     "name": "stdout",
     "output_type": "stream",
     "text": [
      "SHAP values difference: 6.122008855413696e-08\n",
      "Background count: 10\n",
      "Background min diff: -0.7289199829101562\n",
      "Background max diff: 1.5071029663085938\n"
     ]
    },
    {
     "data": {
      "application/vnd.jupyter.widget-view+json": {
       "model_id": "c8371edec71d4a3c91a38235bae8e474",
       "version_major": 2,
       "version_minor": 0
      },
      "text/plain": [
       "  0%|          | 0/1 [00:00<?, ?it/s]"
      ]
     },
     "metadata": {},
     "output_type": "display_data"
    },
    {
     "name": "stdout",
     "output_type": "stream",
     "text": [
      "SHAP values difference: -8.514062699305214e-08\n",
      "SHAP values correction 2\n",
      "Background count: 10\n",
      "Background min diff: -0.6682243347167969\n",
      "Background max diff: 0.09587478637695312\n"
     ]
    },
    {
     "data": {
      "application/vnd.jupyter.widget-view+json": {
       "model_id": "2c860c0ad006407f85d60535dd0a02d2",
       "version_major": 2,
       "version_minor": 0
      },
      "text/plain": [
       "  0%|          | 0/1 [00:00<?, ?it/s]"
      ]
     },
     "metadata": {},
     "output_type": "display_data"
    },
    {
     "name": "stdout",
     "output_type": "stream",
     "text": [
      "SHAP values difference: -3.4526611258911544e-07\n",
      "Background count: 10\n",
      "Background min diff: -3.303171157836914\n",
      "Background max diff: 2.892202377319336\n"
     ]
    },
    {
     "data": {
      "application/vnd.jupyter.widget-view+json": {
       "model_id": "b0016c6dfa7f45b9a900c74cdfcafc4b",
       "version_major": 2,
       "version_minor": 0
      },
      "text/plain": [
       "  0%|          | 0/1 [00:00<?, ?it/s]"
      ]
     },
     "metadata": {},
     "output_type": "display_data"
    },
    {
     "name": "stdout",
     "output_type": "stream",
     "text": [
      "SHAP values difference: 2.0483087226352836e-07\n",
      "SHAP values correction 2\n",
      "Background count: 10\n",
      "Background min diff: -1.055868148803711\n",
      "Background max diff: 0.9707126617431641\n"
     ]
    },
    {
     "data": {
      "application/vnd.jupyter.widget-view+json": {
       "model_id": "eb806e0c3573442a96faedcefd8a283e",
       "version_major": 2,
       "version_minor": 0
      },
      "text/plain": [
       "  0%|          | 0/1 [00:00<?, ?it/s]"
      ]
     },
     "metadata": {},
     "output_type": "display_data"
    },
    {
     "name": "stdout",
     "output_type": "stream",
     "text": [
      "SHAP values difference: 4.0571629789099006e-07\n",
      "SHAP values correction 2\n",
      "Background count: 10\n",
      "Background min diff: -1.7082595825195312\n",
      "Background max diff: 1.5536117553710938\n"
     ]
    },
    {
     "data": {
      "application/vnd.jupyter.widget-view+json": {
       "model_id": "a6ffd86d764f4a69b381b023c2d139b4",
       "version_major": 2,
       "version_minor": 0
      },
      "text/plain": [
       "  0%|          | 0/1 [00:00<?, ?it/s]"
      ]
     },
     "metadata": {},
     "output_type": "display_data"
    },
    {
     "name": "stdout",
     "output_type": "stream",
     "text": [
      "SHAP values difference: 2.7262269775008008e-08\n",
      "SHAP values correction 2\n",
      "Background count: 10\n",
      "Background min diff: -3.190736770629883\n",
      "Background max diff: 2.454374313354492\n"
     ]
    },
    {
     "data": {
      "application/vnd.jupyter.widget-view+json": {
       "model_id": "2cfe88b7b7d44bbf915b1fa2dc28fec4",
       "version_major": 2,
       "version_minor": 0
      },
      "text/plain": [
       "  0%|          | 0/1 [00:00<?, ?it/s]"
      ]
     },
     "metadata": {},
     "output_type": "display_data"
    },
    {
     "name": "stdout",
     "output_type": "stream",
     "text": [
      "SHAP values difference: -3.542271826972865e-07\n",
      "Background count: 10\n",
      "Background min diff: -0.265228271484375\n",
      "Background max diff: 0.576171875\n"
     ]
    },
    {
     "data": {
      "application/vnd.jupyter.widget-view+json": {
       "model_id": "e3e96a7804104c7fa6e260cc3dc843ae",
       "version_major": 2,
       "version_minor": 0
      },
      "text/plain": [
       "  0%|          | 0/1 [00:00<?, ?it/s]"
      ]
     },
     "metadata": {},
     "output_type": "display_data"
    },
    {
     "name": "stdout",
     "output_type": "stream",
     "text": [
      "SHAP values difference: 7.389840561700112e-08\n",
      "SHAP values correction 2\n",
      "Background count: 10\n",
      "Background min diff: -0.228973388671875\n",
      "Background max diff: 0.485382080078125\n"
     ]
    },
    {
     "data": {
      "application/vnd.jupyter.widget-view+json": {
       "model_id": "c755621ca9d147408d90e30a4cb3f0ff",
       "version_major": 2,
       "version_minor": 0
      },
      "text/plain": [
       "  0%|          | 0/1 [00:00<?, ?it/s]"
      ]
     },
     "metadata": {},
     "output_type": "display_data"
    },
    {
     "name": "stdout",
     "output_type": "stream",
     "text": [
      "SHAP values difference: 1.9458875044620072e-07\n",
      "Background count: 10\n",
      "Background min diff: -1.3266372680664062\n",
      "Background max diff: 1.3699569702148438\n"
     ]
    },
    {
     "data": {
      "application/vnd.jupyter.widget-view+json": {
       "model_id": "1d0a80f132bb4a9e9464e4cfb87d7e51",
       "version_major": 2,
       "version_minor": 0
      },
      "text/plain": [
       "  0%|          | 0/1 [00:00<?, ?it/s]"
      ]
     },
     "metadata": {},
     "output_type": "display_data"
    },
    {
     "name": "stdout",
     "output_type": "stream",
     "text": [
      "SHAP values difference: 3.3976458624351835e-07\n",
      "Background count: 10\n",
      "Background min diff: -3.841205596923828\n",
      "Background max diff: 2.778789520263672\n"
     ]
    },
    {
     "data": {
      "application/vnd.jupyter.widget-view+json": {
       "model_id": "2392b1449c3e4d1e9cee48696ac47a27",
       "version_major": 2,
       "version_minor": 0
      },
      "text/plain": [
       "  0%|          | 0/1 [00:00<?, ?it/s]"
      ]
     },
     "metadata": {},
     "output_type": "display_data"
    },
    {
     "name": "stdout",
     "output_type": "stream",
     "text": [
      "SHAP values difference: -9.226540065299105e-08\n",
      "SHAP values correction 2\n",
      "Background count: 10\n",
      "Background min diff: -0.6845321655273438\n",
      "Background max diff: 1.2317276000976562\n"
     ]
    },
    {
     "data": {
      "application/vnd.jupyter.widget-view+json": {
       "model_id": "fc339f88a7ac402284dc661eebf90b3f",
       "version_major": 2,
       "version_minor": 0
      },
      "text/plain": [
       "  0%|          | 0/1 [00:00<?, ?it/s]"
      ]
     },
     "metadata": {},
     "output_type": "display_data"
    },
    {
     "name": "stdout",
     "output_type": "stream",
     "text": [
      "SHAP values difference: 6.543519504020878e-07\n",
      "Background count: 10\n",
      "Background min diff: -0.5396270751953125\n",
      "Background max diff: 0.6330718994140625\n"
     ]
    },
    {
     "data": {
      "application/vnd.jupyter.widget-view+json": {
       "model_id": "f69415ee216548bfbca20a67dd976bc6",
       "version_major": 2,
       "version_minor": 0
      },
      "text/plain": [
       "  0%|          | 0/1 [00:00<?, ?it/s]"
      ]
     },
     "metadata": {},
     "output_type": "display_data"
    },
    {
     "name": "stdout",
     "output_type": "stream",
     "text": [
      "SHAP values difference: 1.9836343767565268e-07\n",
      "Background count: 10\n",
      "Background min diff: -0.6682243347167969\n",
      "Background max diff: 0.09587478637695312\n"
     ]
    },
    {
     "data": {
      "application/vnd.jupyter.widget-view+json": {
       "model_id": "fed1a12af900463daaf53a156c97052f",
       "version_major": 2,
       "version_minor": 0
      },
      "text/plain": [
       "  0%|          | 0/1 [00:00<?, ?it/s]"
      ]
     },
     "metadata": {},
     "output_type": "display_data"
    },
    {
     "name": "stdout",
     "output_type": "stream",
     "text": [
      "SHAP values difference: -3.804658721406895e-08\n",
      "SHAP values correction 2\n",
      "Background count: 10\n",
      "Background min diff: -1.1630115509033203\n",
      "Background max diff: 1.5149364471435547\n"
     ]
    },
    {
     "data": {
      "application/vnd.jupyter.widget-view+json": {
       "model_id": "2d3897ce17a744bebeab2bc48e46a3ca",
       "version_major": 2,
       "version_minor": 0
      },
      "text/plain": [
       "  0%|          | 0/1 [00:00<?, ?it/s]"
      ]
     },
     "metadata": {},
     "output_type": "display_data"
    },
    {
     "name": "stdout",
     "output_type": "stream",
     "text": [
      "SHAP values difference: 6.751920302860981e-07\n",
      "SHAP values correction 2\n",
      "Background count: 10\n",
      "Background min diff: -0.9766311645507812\n",
      "Background max diff: 1.0503463745117188\n"
     ]
    },
    {
     "data": {
      "application/vnd.jupyter.widget-view+json": {
       "model_id": "70762d06c1d14ac29d65607b8126e9c2",
       "version_major": 2,
       "version_minor": 0
      },
      "text/plain": [
       "  0%|          | 0/1 [00:00<?, ?it/s]"
      ]
     },
     "metadata": {},
     "output_type": "display_data"
    },
    {
     "name": "stdout",
     "output_type": "stream",
     "text": [
      "SHAP values difference: -1.6518155554479108e-07\n",
      "SHAP values correction 1\n",
      "SHAP values correction 2\n",
      "Background count: 10\n",
      "Background min diff: -3.4928054809570312\n",
      "Background max diff: 2.1209335327148438\n"
     ]
    },
    {
     "data": {
      "application/vnd.jupyter.widget-view+json": {
       "model_id": "fe68429f8c74401687053ae0ed8349da",
       "version_major": 2,
       "version_minor": 0
      },
      "text/plain": [
       "  0%|          | 0/1 [00:00<?, ?it/s]"
      ]
     },
     "metadata": {},
     "output_type": "display_data"
    },
    {
     "name": "stdout",
     "output_type": "stream",
     "text": [
      "SHAP values difference: 5.801781168823794e-07\n",
      "SHAP values correction 1\n",
      "SHAP values correction 2\n",
      "Background count: 10\n",
      "Background min diff: -0.329193115234375\n",
      "Background max diff: 1.906829833984375\n"
     ]
    },
    {
     "data": {
      "application/vnd.jupyter.widget-view+json": {
       "model_id": "ead482e5b2fe48b890733610e725c186",
       "version_major": 2,
       "version_minor": 0
      },
      "text/plain": [
       "  0%|          | 0/1 [00:00<?, ?it/s]"
      ]
     },
     "metadata": {},
     "output_type": "display_data"
    },
    {
     "name": "stdout",
     "output_type": "stream",
     "text": [
      "SHAP values difference: -1.9573039722331487e-07\n",
      "Background count: 10\n",
      "Background min diff: -2.881061553955078\n",
      "Background max diff: 3.518932342529297\n"
     ]
    },
    {
     "data": {
      "application/vnd.jupyter.widget-view+json": {
       "model_id": "45f26181b34b4563bb59ba5ca57d7875",
       "version_major": 2,
       "version_minor": 0
      },
      "text/plain": [
       "  0%|          | 0/1 [00:00<?, ?it/s]"
      ]
     },
     "metadata": {},
     "output_type": "display_data"
    },
    {
     "name": "stdout",
     "output_type": "stream",
     "text": [
      "SHAP values difference: -2.3684924244093963e-07\n",
      "Background count: 10\n",
      "Background min diff: -0.35831451416015625\n",
      "Background max diff: 0.48308563232421875\n"
     ]
    },
    {
     "data": {
      "application/vnd.jupyter.widget-view+json": {
       "model_id": "4a02a618c36343c2995bfc1fc6ec340e",
       "version_major": 2,
       "version_minor": 0
      },
      "text/plain": [
       "  0%|          | 0/1 [00:00<?, ?it/s]"
      ]
     },
     "metadata": {},
     "output_type": "display_data"
    },
    {
     "name": "stdout",
     "output_type": "stream",
     "text": [
      "SHAP values difference: -4.010950700461535e-07\n",
      "SHAP values correction 1\n",
      "SHAP values correction 2\n",
      "Background count: 10\n",
      "Background min diff: -1.6148643493652344\n",
      "Background max diff: 1.4605445861816406\n"
     ]
    },
    {
     "data": {
      "application/vnd.jupyter.widget-view+json": {
       "model_id": "c26f2597bc09460cb6549c4a79e99bd2",
       "version_major": 2,
       "version_minor": 0
      },
      "text/plain": [
       "  0%|          | 0/1 [00:00<?, ?it/s]"
      ]
     },
     "metadata": {},
     "output_type": "display_data"
    },
    {
     "name": "stdout",
     "output_type": "stream",
     "text": [
      "SHAP values difference: -4.124649244374723e-07\n",
      "SHAP values correction 2\n",
      "Background count: 10\n",
      "Background min diff: -3.8426551818847656\n",
      "Background max diff: 3.5201377868652344\n"
     ]
    },
    {
     "data": {
      "application/vnd.jupyter.widget-view+json": {
       "model_id": "0ab72be929a445238138b24f5a7cca84",
       "version_major": 2,
       "version_minor": 0
      },
      "text/plain": [
       "  0%|          | 0/1 [00:00<?, ?it/s]"
      ]
     },
     "metadata": {},
     "output_type": "display_data"
    },
    {
     "name": "stdout",
     "output_type": "stream",
     "text": [
      "SHAP values difference: -8.63322284772039e-08\n",
      "Background count: 10\n",
      "Background min diff: -0.9656791687011719\n",
      "Background max diff: 1.0612983703613281\n"
     ]
    },
    {
     "data": {
      "application/vnd.jupyter.widget-view+json": {
       "model_id": "06985c0a89694b79ab3d137f452f4e72",
       "version_major": 2,
       "version_minor": 0
      },
      "text/plain": [
       "  0%|          | 0/1 [00:00<?, ?it/s]"
      ]
     },
     "metadata": {},
     "output_type": "display_data"
    },
    {
     "name": "stdout",
     "output_type": "stream",
     "text": [
      "SHAP values difference: -9.627419927937808e-08\n",
      "Background count: 10\n",
      "Background min diff: -0.22585678100585938\n",
      "Background max diff: 0.5019569396972656\n"
     ]
    },
    {
     "data": {
      "application/vnd.jupyter.widget-view+json": {
       "model_id": "b7f4b56e260c4e27a902c39d8a265fa9",
       "version_major": 2,
       "version_minor": 0
      },
      "text/plain": [
       "  0%|          | 0/1 [00:00<?, ?it/s]"
      ]
     },
     "metadata": {},
     "output_type": "display_data"
    },
    {
     "name": "stdout",
     "output_type": "stream",
     "text": [
      "SHAP values difference: 4.934304058679118e-07\n",
      "Background count: 10\n",
      "Background min diff: -3.5919151306152344\n",
      "Background max diff: 2.5821876525878906\n"
     ]
    },
    {
     "data": {
      "application/vnd.jupyter.widget-view+json": {
       "model_id": "78d8b850036c4e1aa3b6ef149361d18c",
       "version_major": 2,
       "version_minor": 0
      },
      "text/plain": [
       "  0%|          | 0/1 [00:00<?, ?it/s]"
      ]
     },
     "metadata": {},
     "output_type": "display_data"
    },
    {
     "name": "stdout",
     "output_type": "stream",
     "text": [
      "SHAP values difference: -1.8853451422273793e-07\n",
      "Background count: 10\n",
      "Background min diff: -19.107620239257812\n",
      "Background max diff: -8.361007690429688\n"
     ]
    },
    {
     "data": {
      "application/vnd.jupyter.widget-view+json": {
       "model_id": "022692a41cb74d2f85a38caa0e01766a",
       "version_major": 2,
       "version_minor": 0
      },
      "text/plain": [
       "  0%|          | 0/1 [00:00<?, ?it/s]"
      ]
     },
     "metadata": {},
     "output_type": "display_data"
    },
    {
     "name": "stdout",
     "output_type": "stream",
     "text": [
      "SHAP values difference: 1.7157763920749858e-07\n",
      "SHAP values correction 2\n",
      "Background count: 10\n",
      "Background min diff: -1.0328216552734375\n",
      "Background max diff: 1.2032012939453125\n"
     ]
    },
    {
     "data": {
      "application/vnd.jupyter.widget-view+json": {
       "model_id": "8e19311dc2f74ec796671a514adbc50e",
       "version_major": 2,
       "version_minor": 0
      },
      "text/plain": [
       "  0%|          | 0/1 [00:00<?, ?it/s]"
      ]
     },
     "metadata": {},
     "output_type": "display_data"
    },
    {
     "name": "stdout",
     "output_type": "stream",
     "text": [
      "SHAP values difference: 3.4031964979419627e-07\n",
      "Background count: 10\n",
      "Background min diff: -1.1599998474121094\n",
      "Background max diff: 0.7528114318847656\n"
     ]
    },
    {
     "data": {
      "application/vnd.jupyter.widget-view+json": {
       "model_id": "face2a2d8bc44f619b16eb9138a33d15",
       "version_major": 2,
       "version_minor": 0
      },
      "text/plain": [
       "  0%|          | 0/1 [00:00<?, ?it/s]"
      ]
     },
     "metadata": {},
     "output_type": "display_data"
    },
    {
     "name": "stdout",
     "output_type": "stream",
     "text": [
      "SHAP values difference: -1.440201504721017e-07\n",
      "SHAP values correction 2\n",
      "Background count: 10\n",
      "Background min diff: -0.5723991394042969\n",
      "Background max diff: 0.19169998168945312\n"
     ]
    },
    {
     "data": {
      "application/vnd.jupyter.widget-view+json": {
       "model_id": "1f36815531224fbfb3de09a7f7925a40",
       "version_major": 2,
       "version_minor": 0
      },
      "text/plain": [
       "  0%|          | 0/1 [00:00<?, ?it/s]"
      ]
     },
     "metadata": {},
     "output_type": "display_data"
    },
    {
     "name": "stdout",
     "output_type": "stream",
     "text": [
      "SHAP values difference: -2.494530804142414e-08\n",
      "SHAP values correction 2\n",
      "Background count: 10\n",
      "Background min diff: -0.696685791015625\n",
      "Background max diff: 0.78033447265625\n"
     ]
    },
    {
     "data": {
      "application/vnd.jupyter.widget-view+json": {
       "model_id": "38d6a8a536ea41df97a2211a81f52dec",
       "version_major": 2,
       "version_minor": 0
      },
      "text/plain": [
       "  0%|          | 0/1 [00:00<?, ?it/s]"
      ]
     },
     "metadata": {},
     "output_type": "display_data"
    },
    {
     "name": "stdout",
     "output_type": "stream",
     "text": [
      "SHAP values difference: -3.851465208981608e-07\n",
      "Background count: 10\n",
      "Background min diff: -2.8465652465820312\n",
      "Background max diff: 2.2765731811523438\n"
     ]
    },
    {
     "data": {
      "application/vnd.jupyter.widget-view+json": {
       "model_id": "4fea14cc287c4d9298cc850341349849",
       "version_major": 2,
       "version_minor": 0
      },
      "text/plain": [
       "  0%|          | 0/1 [00:00<?, ?it/s]"
      ]
     },
     "metadata": {},
     "output_type": "display_data"
    },
    {
     "name": "stdout",
     "output_type": "stream",
     "text": [
      "SHAP values difference: 6.787386386264416e-07\n",
      "SHAP values correction 2\n",
      "Background count: 10\n",
      "Background min diff: -0.17763900756835938\n",
      "Background max diff: 1.1286354064941406\n"
     ]
    },
    {
     "data": {
      "application/vnd.jupyter.widget-view+json": {
       "model_id": "81a90ce79a1f4ae9a99bbd91417432db",
       "version_major": 2,
       "version_minor": 0
      },
      "text/plain": [
       "  0%|          | 0/1 [00:00<?, ?it/s]"
      ]
     },
     "metadata": {},
     "output_type": "display_data"
    },
    {
     "name": "stdout",
     "output_type": "stream",
     "text": [
      "SHAP values difference: 2.2525717824350977e-07\n",
      "Background count: 10\n",
      "Background min diff: -2.4628143310546875\n",
      "Background max diff: 3.7805633544921875\n"
     ]
    },
    {
     "data": {
      "application/vnd.jupyter.widget-view+json": {
       "model_id": "12745f86a5624b15b3c77d3b03ddffd7",
       "version_major": 2,
       "version_minor": 0
      },
      "text/plain": [
       "  0%|          | 0/1 [00:00<?, ?it/s]"
      ]
     },
     "metadata": {},
     "output_type": "display_data"
    },
    {
     "name": "stdout",
     "output_type": "stream",
     "text": [
      "SHAP values difference: -7.351955577661329e-08\n",
      "Background count: 10\n",
      "Background min diff: -0.6909828186035156\n",
      "Background max diff: 1.1129417419433594\n"
     ]
    },
    {
     "data": {
      "application/vnd.jupyter.widget-view+json": {
       "model_id": "91c714ea41f74fd0a33d068094c2e8cf",
       "version_major": 2,
       "version_minor": 0
      },
      "text/plain": [
       "  0%|          | 0/1 [00:00<?, ?it/s]"
      ]
     },
     "metadata": {},
     "output_type": "display_data"
    },
    {
     "name": "stdout",
     "output_type": "stream",
     "text": [
      "SHAP values difference: -2.719316860577692e-08\n",
      "SHAP values correction 2\n",
      "Background count: 10\n",
      "Background min diff: -0.21868515014648438\n",
      "Background max diff: 0.6227149963378906\n"
     ]
    },
    {
     "data": {
      "application/vnd.jupyter.widget-view+json": {
       "model_id": "93ceda43a5b14865a1abf74031aa741c",
       "version_major": 2,
       "version_minor": 0
      },
      "text/plain": [
       "  0%|          | 0/1 [00:00<?, ?it/s]"
      ]
     },
     "metadata": {},
     "output_type": "display_data"
    },
    {
     "name": "stdout",
     "output_type": "stream",
     "text": [
      "SHAP values difference: 2.039016067101329e-09\n",
      "SHAP values correction 2\n",
      "Background count: 10\n",
      "Background min diff: -0.66839599609375\n",
      "Background max diff: 0.628814697265625\n"
     ]
    },
    {
     "data": {
      "application/vnd.jupyter.widget-view+json": {
       "model_id": "961721c8f7d94da392c19c940f383e39",
       "version_major": 2,
       "version_minor": 0
      },
      "text/plain": [
       "  0%|          | 0/1 [00:00<?, ?it/s]"
      ]
     },
     "metadata": {},
     "output_type": "display_data"
    },
    {
     "name": "stdout",
     "output_type": "stream",
     "text": [
      "SHAP values difference: 2.526632840726961e-07\n",
      "Background count: 10\n",
      "Background min diff: -1.5362396240234375\n",
      "Background max diff: 1.3036346435546875\n"
     ]
    },
    {
     "data": {
      "application/vnd.jupyter.widget-view+json": {
       "model_id": "ff4a73235bb940bc97773b6684034392",
       "version_major": 2,
       "version_minor": 0
      },
      "text/plain": [
       "  0%|          | 0/1 [00:00<?, ?it/s]"
      ]
     },
     "metadata": {},
     "output_type": "display_data"
    },
    {
     "name": "stdout",
     "output_type": "stream",
     "text": [
      "SHAP values difference: -1.5189732982534565e-07\n",
      "Background count: 10\n",
      "Background min diff: -0.7512130737304688\n",
      "Background max diff: 1.0527114868164062\n"
     ]
    },
    {
     "data": {
      "application/vnd.jupyter.widget-view+json": {
       "model_id": "fbfff69e6b134ba6a4376dd19e1fa71e",
       "version_major": 2,
       "version_minor": 0
      },
      "text/plain": [
       "  0%|          | 0/1 [00:00<?, ?it/s]"
      ]
     },
     "metadata": {},
     "output_type": "display_data"
    },
    {
     "name": "stdout",
     "output_type": "stream",
     "text": [
      "SHAP values difference: -6.002270751537253e-07\n",
      "SHAP values correction 2\n",
      "Background count: 10\n",
      "Background min diff: -1.2356605529785156\n",
      "Background max diff: 1.1513938903808594\n"
     ]
    },
    {
     "data": {
      "application/vnd.jupyter.widget-view+json": {
       "model_id": "3d8026162c694a619d4dd92ef7eed8c1",
       "version_major": 2,
       "version_minor": 0
      },
      "text/plain": [
       "  0%|          | 0/1 [00:00<?, ?it/s]"
      ]
     },
     "metadata": {},
     "output_type": "display_data"
    },
    {
     "name": "stdout",
     "output_type": "stream",
     "text": [
      "SHAP values difference: 7.639639121315156e-08\n",
      "SHAP values correction 1\n",
      "SHAP values correction 2\n",
      "Background count: 10\n",
      "Background min diff: -0.3111076354980469\n",
      "Background max diff: 0.4032478332519531\n"
     ]
    },
    {
     "data": {
      "application/vnd.jupyter.widget-view+json": {
       "model_id": "b59b078a3d5c42da9661356612f47a2a",
       "version_major": 2,
       "version_minor": 0
      },
      "text/plain": [
       "  0%|          | 0/1 [00:00<?, ?it/s]"
      ]
     },
     "metadata": {},
     "output_type": "display_data"
    },
    {
     "name": "stdout",
     "output_type": "stream",
     "text": [
      "SHAP values difference: -1.2116619529933814e-07\n",
      "Background count: 10\n",
      "Background min diff: -1.1945953369140625\n",
      "Background max diff: 1.1924591064453125\n"
     ]
    },
    {
     "data": {
      "application/vnd.jupyter.widget-view+json": {
       "model_id": "f5282ed50a8e4ddd86450916be2e5828",
       "version_major": 2,
       "version_minor": 0
      },
      "text/plain": [
       "  0%|          | 0/1 [00:00<?, ?it/s]"
      ]
     },
     "metadata": {},
     "output_type": "display_data"
    },
    {
     "name": "stdout",
     "output_type": "stream",
     "text": [
      "SHAP values difference: -1.3239881369031536e-07\n",
      "Background count: 10\n",
      "Background min diff: -2.229511260986328\n",
      "Background max diff: 3.025829315185547\n"
     ]
    },
    {
     "data": {
      "application/vnd.jupyter.widget-view+json": {
       "model_id": "803539fbb91c42fcab840fd8aaf2d137",
       "version_major": 2,
       "version_minor": 0
      },
      "text/plain": [
       "  0%|          | 0/1 [00:00<?, ?it/s]"
      ]
     },
     "metadata": {},
     "output_type": "display_data"
    },
    {
     "name": "stdout",
     "output_type": "stream",
     "text": [
      "SHAP values difference: -3.5711018142592366e-08\n",
      "Background count: 10\n",
      "Background min diff: -1.335418701171875\n",
      "Background max diff: 1.36993408203125\n"
     ]
    },
    {
     "data": {
      "application/vnd.jupyter.widget-view+json": {
       "model_id": "b2a48b3ca35f4ce99ebf0a45e409a449",
       "version_major": 2,
       "version_minor": 0
      },
      "text/plain": [
       "  0%|          | 0/1 [00:00<?, ?it/s]"
      ]
     },
     "metadata": {},
     "output_type": "display_data"
    },
    {
     "name": "stdout",
     "output_type": "stream",
     "text": [
      "SHAP values difference: 2.4830738531989027e-07\n",
      "Background count: 10\n",
      "Background min diff: -4.7777099609375\n",
      "Background max diff: 5.968902587890625\n"
     ]
    },
    {
     "data": {
      "application/vnd.jupyter.widget-view+json": {
       "model_id": "69ff25245bf048ecb10967fd152cf5d5",
       "version_major": 2,
       "version_minor": 0
      },
      "text/plain": [
       "  0%|          | 0/1 [00:00<?, ?it/s]"
      ]
     },
     "metadata": {},
     "output_type": "display_data"
    },
    {
     "name": "stdout",
     "output_type": "stream",
     "text": [
      "SHAP values difference: 3.481394230675505e-07\n",
      "Background count: 10\n",
      "Background min diff: -3.281269073486328\n",
      "Background max diff: 2.914104461669922\n"
     ]
    },
    {
     "data": {
      "application/vnd.jupyter.widget-view+json": {
       "model_id": "e78b623b9e8849c698b33d0e7fdd7845",
       "version_major": 2,
       "version_minor": 0
      },
      "text/plain": [
       "  0%|          | 0/1 [00:00<?, ?it/s]"
      ]
     },
     "metadata": {},
     "output_type": "display_data"
    },
    {
     "name": "stdout",
     "output_type": "stream",
     "text": [
      "SHAP values difference: -1.4568644957080323e-07\n",
      "Background count: 10\n",
      "Background min diff: -3.7806968688964844\n",
      "Background max diff: 3.9598121643066406\n"
     ]
    },
    {
     "data": {
      "application/vnd.jupyter.widget-view+json": {
       "model_id": "83f7add9d5b749669da24b79443e9e41",
       "version_major": 2,
       "version_minor": 0
      },
      "text/plain": [
       "  0%|          | 0/1 [00:00<?, ?it/s]"
      ]
     },
     "metadata": {},
     "output_type": "display_data"
    },
    {
     "name": "stdout",
     "output_type": "stream",
     "text": [
      "SHAP values difference: -1.444724873067571e-07\n",
      "SHAP values correction 2\n",
      "Background count: 10\n",
      "Background min diff: -1.679290771484375\n",
      "Background max diff: 1.335418701171875\n"
     ]
    },
    {
     "data": {
      "application/vnd.jupyter.widget-view+json": {
       "model_id": "ff4b1fb7a641490aa02760705aee5577",
       "version_major": 2,
       "version_minor": 0
      },
      "text/plain": [
       "  0%|          | 0/1 [00:00<?, ?it/s]"
      ]
     },
     "metadata": {},
     "output_type": "display_data"
    },
    {
     "name": "stdout",
     "output_type": "stream",
     "text": [
      "SHAP values difference: 2.013034396952662e-07\n",
      "Background count: 10\n",
      "Background min diff: -1.6611824035644531\n",
      "Background max diff: 3.952556610107422\n"
     ]
    },
    {
     "data": {
      "application/vnd.jupyter.widget-view+json": {
       "model_id": "9d8c7130eb0b4324a26f82eedb98416c",
       "version_major": 2,
       "version_minor": 0
      },
      "text/plain": [
       "  0%|          | 0/1 [00:00<?, ?it/s]"
      ]
     },
     "metadata": {},
     "output_type": "display_data"
    },
    {
     "name": "stdout",
     "output_type": "stream",
     "text": [
      "SHAP values difference: 1.3939444443167304e-07\n",
      "SHAP values correction 2\n",
      "Background count: 10\n",
      "Background min diff: -2.7858810424804688\n",
      "Background max diff: 3.4574966430664062\n"
     ]
    },
    {
     "data": {
      "application/vnd.jupyter.widget-view+json": {
       "model_id": "025f8e766c1446ff8e9e1c807d8b18d8",
       "version_major": 2,
       "version_minor": 0
      },
      "text/plain": [
       "  0%|          | 0/1 [00:00<?, ?it/s]"
      ]
     },
     "metadata": {},
     "output_type": "display_data"
    },
    {
     "name": "stdout",
     "output_type": "stream",
     "text": [
      "SHAP values difference: -2.4452363778237896e-07\n",
      "SHAP values correction 1\n",
      "SHAP values correction 2\n",
      "Background count: 10\n",
      "Background min diff: -0.7687606811523438\n",
      "Background max diff: 1.9091873168945312\n"
     ]
    },
    {
     "data": {
      "application/vnd.jupyter.widget-view+json": {
       "model_id": "be8eeb11c6974783949ea81ec10ebd11",
       "version_major": 2,
       "version_minor": 0
      },
      "text/plain": [
       "  0%|          | 0/1 [00:00<?, ?it/s]"
      ]
     },
     "metadata": {},
     "output_type": "display_data"
    },
    {
     "name": "stdout",
     "output_type": "stream",
     "text": [
      "SHAP values difference: -1.7889873760168484e-07\n",
      "Background count: 10\n",
      "Background min diff: -0.6736984252929688\n",
      "Background max diff: 0.09040069580078125\n"
     ]
    },
    {
     "data": {
      "application/vnd.jupyter.widget-view+json": {
       "model_id": "4d4fe962ebeb4617a0240e0b6d5ab029",
       "version_major": 2,
       "version_minor": 0
      },
      "text/plain": [
       "  0%|          | 0/1 [00:00<?, ?it/s]"
      ]
     },
     "metadata": {},
     "output_type": "display_data"
    },
    {
     "name": "stdout",
     "output_type": "stream",
     "text": [
      "SHAP values difference: 2.042979474481399e-08\n",
      "Background count: 10\n",
      "Background min diff: -0.7820701599121094\n",
      "Background max diff: 0.6479835510253906\n"
     ]
    },
    {
     "data": {
      "application/vnd.jupyter.widget-view+json": {
       "model_id": "eed9e1bc25b647aaacb9261c39f6319e",
       "version_major": 2,
       "version_minor": 0
      },
      "text/plain": [
       "  0%|          | 0/1 [00:00<?, ?it/s]"
      ]
     },
     "metadata": {},
     "output_type": "display_data"
    },
    {
     "name": "stdout",
     "output_type": "stream",
     "text": [
      "SHAP values difference: 2.358384421086157e-07\n",
      "SHAP values correction 2\n",
      "Background count: 10\n",
      "Background min diff: -18.256149291992188\n",
      "Background max diff: -7.5095367431640625\n"
     ]
    },
    {
     "data": {
      "application/vnd.jupyter.widget-view+json": {
       "model_id": "9004c7ade7274788b7fa4ea21dc6bdda",
       "version_major": 2,
       "version_minor": 0
      },
      "text/plain": [
       "  0%|          | 0/1 [00:00<?, ?it/s]"
      ]
     },
     "metadata": {},
     "output_type": "display_data"
    },
    {
     "name": "stdout",
     "output_type": "stream",
     "text": [
      "SHAP values difference: -2.7648201950114526e-07\n",
      "Background count: 10\n",
      "Background min diff: -0.3079109191894531\n",
      "Background max diff: 1.1691093444824219\n"
     ]
    },
    {
     "data": {
      "application/vnd.jupyter.widget-view+json": {
       "model_id": "a25a1b3e3095453faa1cc4925535f3f9",
       "version_major": 2,
       "version_minor": 0
      },
      "text/plain": [
       "  0%|          | 0/1 [00:00<?, ?it/s]"
      ]
     },
     "metadata": {},
     "output_type": "display_data"
    },
    {
     "name": "stdout",
     "output_type": "stream",
     "text": [
      "SHAP values difference: -4.216417242020043e-07\n",
      "Background count: 10\n",
      "Background min diff: -0.832000732421875\n",
      "Background max diff: 0.300689697265625\n"
     ]
    },
    {
     "data": {
      "application/vnd.jupyter.widget-view+json": {
       "model_id": "db97c026e47c4bd29af8c31d6cb4c94f",
       "version_major": 2,
       "version_minor": 0
      },
      "text/plain": [
       "  0%|          | 0/1 [00:00<?, ?it/s]"
      ]
     },
     "metadata": {},
     "output_type": "display_data"
    },
    {
     "name": "stdout",
     "output_type": "stream",
     "text": [
      "SHAP values difference: 1.283669117668751e-07\n",
      "Background count: 10\n",
      "Background min diff: -0.8118629455566406\n",
      "Background max diff: 1.0047874450683594\n"
     ]
    },
    {
     "data": {
      "application/vnd.jupyter.widget-view+json": {
       "model_id": "edd0f7df954e4e19978df97f6ff999eb",
       "version_major": 2,
       "version_minor": 0
      },
      "text/plain": [
       "  0%|          | 0/1 [00:00<?, ?it/s]"
      ]
     },
     "metadata": {},
     "output_type": "display_data"
    },
    {
     "name": "stdout",
     "output_type": "stream",
     "text": [
      "SHAP values difference: 1.5735358260826615e-07\n",
      "Background count: 10\n",
      "Background min diff: -2.5717430114746094\n",
      "Background max diff: 2.6835975646972656\n"
     ]
    },
    {
     "data": {
      "application/vnd.jupyter.widget-view+json": {
       "model_id": "36a264ba897e4f5d9ccd849a24740e41",
       "version_major": 2,
       "version_minor": 0
      },
      "text/plain": [
       "  0%|          | 0/1 [00:00<?, ?it/s]"
      ]
     },
     "metadata": {},
     "output_type": "display_data"
    },
    {
     "name": "stdout",
     "output_type": "stream",
     "text": [
      "SHAP values difference: -2.842689870163895e-07\n",
      "SHAP values correction 1\n",
      "SHAP values correction 2\n",
      "Background count: 10\n",
      "Background min diff: -0.30289459228515625\n",
      "Background max diff: 0.41146087646484375\n"
     ]
    },
    {
     "data": {
      "application/vnd.jupyter.widget-view+json": {
       "model_id": "f989443c79cb4f64acbaea38f60ac52c",
       "version_major": 2,
       "version_minor": 0
      },
      "text/plain": [
       "  0%|          | 0/1 [00:00<?, ?it/s]"
      ]
     },
     "metadata": {},
     "output_type": "display_data"
    },
    {
     "name": "stdout",
     "output_type": "stream",
     "text": [
      "SHAP values difference: -5.322212288660921e-07\n",
      "Background count: 10\n",
      "Background min diff: -0.9244880676269531\n",
      "Background max diff: 0.08341598510742188\n"
     ]
    },
    {
     "data": {
      "application/vnd.jupyter.widget-view+json": {
       "model_id": "f64658f707714d489db9d7c401790dac",
       "version_major": 2,
       "version_minor": 0
      },
      "text/plain": [
       "  0%|          | 0/1 [00:00<?, ?it/s]"
      ]
     },
     "metadata": {},
     "output_type": "display_data"
    },
    {
     "name": "stdout",
     "output_type": "stream",
     "text": [
      "SHAP values difference: 9.001197049940401e-07\n",
      "SHAP values correction 2\n",
      "Background count: 10\n",
      "Background min diff: -5.839996337890625\n",
      "Background max diff: 4.9066162109375\n"
     ]
    },
    {
     "data": {
      "application/vnd.jupyter.widget-view+json": {
       "model_id": "b1e88d9397954cabb707c12f2e3b0a82",
       "version_major": 2,
       "version_minor": 0
      },
      "text/plain": [
       "  0%|          | 0/1 [00:00<?, ?it/s]"
      ]
     },
     "metadata": {},
     "output_type": "display_data"
    },
    {
     "name": "stdout",
     "output_type": "stream",
     "text": [
      "SHAP values difference: -1.937159055387383e-08\n",
      "Background count: 10\n",
      "Background min diff: -3.3433990478515625\n",
      "Background max diff: 3.2554168701171875\n"
     ]
    },
    {
     "data": {
      "application/vnd.jupyter.widget-view+json": {
       "model_id": "53290bd5d13d4c10b1a505ec7065bc1e",
       "version_major": 2,
       "version_minor": 0
      },
      "text/plain": [
       "  0%|          | 0/1 [00:00<?, ?it/s]"
      ]
     },
     "metadata": {},
     "output_type": "display_data"
    },
    {
     "name": "stdout",
     "output_type": "stream",
     "text": [
      "SHAP values difference: 1.8475451923904984e-07\n",
      "Background count: 10\n",
      "Background min diff: -3.5030288696289062\n",
      "Background max diff: 2.9432296752929688\n"
     ]
    },
    {
     "data": {
      "application/vnd.jupyter.widget-view+json": {
       "model_id": "827755964cff4a7585e84d53f5639a63",
       "version_major": 2,
       "version_minor": 0
      },
      "text/plain": [
       "  0%|          | 0/1 [00:00<?, ?it/s]"
      ]
     },
     "metadata": {},
     "output_type": "display_data"
    },
    {
     "name": "stdout",
     "output_type": "stream",
     "text": [
      "SHAP values difference: 3.826190919653527e-08\n",
      "SHAP values correction 2\n",
      "Background count: 10\n",
      "Background min diff: -0.5763015747070312\n",
      "Background max diff: 0.15151214599609375\n"
     ]
    },
    {
     "data": {
      "application/vnd.jupyter.widget-view+json": {
       "model_id": "60fe3dd9160f47d2948febb03bdb662c",
       "version_major": 2,
       "version_minor": 0
      },
      "text/plain": [
       "  0%|          | 0/1 [00:00<?, ?it/s]"
      ]
     },
     "metadata": {},
     "output_type": "display_data"
    },
    {
     "name": "stdout",
     "output_type": "stream",
     "text": [
      "SHAP values difference: 1.488829326490304e-07\n",
      "Background count: 10\n",
      "Background min diff: -1.3157997131347656\n",
      "Background max diff: 1.0957298278808594\n"
     ]
    },
    {
     "data": {
      "application/vnd.jupyter.widget-view+json": {
       "model_id": "c7e639cac4cc4f03b4c9f1a3b4cfc408",
       "version_major": 2,
       "version_minor": 0
      },
      "text/plain": [
       "  0%|          | 0/1 [00:00<?, ?it/s]"
      ]
     },
     "metadata": {},
     "output_type": "display_data"
    },
    {
     "name": "stdout",
     "output_type": "stream",
     "text": [
      "SHAP values difference: -8.986432735724748e-07\n",
      "Background count: 10\n",
      "Background min diff: -3.1551742553710938\n",
      "Background max diff: 3.1623611450195312\n"
     ]
    },
    {
     "data": {
      "application/vnd.jupyter.widget-view+json": {
       "model_id": "f4a87f0b2aaa44ce8aaf56cb77bfb18e",
       "version_major": 2,
       "version_minor": 0
      },
      "text/plain": [
       "  0%|          | 0/1 [00:00<?, ?it/s]"
      ]
     },
     "metadata": {},
     "output_type": "display_data"
    },
    {
     "name": "stdout",
     "output_type": "stream",
     "text": [
      "SHAP values difference: -1.8412795554922923e-07\n",
      "Background count: 10\n",
      "Background min diff: -0.013347625732421875\n",
      "Background max diff: 0.8280525207519531\n"
     ]
    },
    {
     "data": {
      "application/vnd.jupyter.widget-view+json": {
       "model_id": "fd8e6d7f41974a4b83a19e43519df8cc",
       "version_major": 2,
       "version_minor": 0
      },
      "text/plain": [
       "  0%|          | 0/1 [00:00<?, ?it/s]"
      ]
     },
     "metadata": {},
     "output_type": "display_data"
    },
    {
     "name": "stdout",
     "output_type": "stream",
     "text": [
      "SHAP values difference: 2.479044809433617e-07\n",
      "SHAP values correction 2\n",
      "Background count: 10\n",
      "Background min diff: -8.87353515625\n",
      "Background max diff: 1.873077392578125\n"
     ]
    },
    {
     "data": {
      "application/vnd.jupyter.widget-view+json": {
       "model_id": "9259dfc7bc4e4ffb9ad4dae7b0daf9dc",
       "version_major": 2,
       "version_minor": 0
      },
      "text/plain": [
       "  0%|          | 0/1 [00:00<?, ?it/s]"
      ]
     },
     "metadata": {},
     "output_type": "display_data"
    },
    {
     "name": "stdout",
     "output_type": "stream",
     "text": [
      "SHAP values difference: 1.463689613956376e-09\n",
      "Background count: 10\n",
      "Background min diff: -3.0839595794677734\n",
      "Background max diff: 2.5611515045166016\n"
     ]
    },
    {
     "data": {
      "application/vnd.jupyter.widget-view+json": {
       "model_id": "896f68c4dc744521b97d2cf0cd0bfd07",
       "version_major": 2,
       "version_minor": 0
      },
      "text/plain": [
       "  0%|          | 0/1 [00:00<?, ?it/s]"
      ]
     },
     "metadata": {},
     "output_type": "display_data"
    },
    {
     "name": "stdout",
     "output_type": "stream",
     "text": [
      "SHAP values difference: 1.732429915080047e-07\n",
      "SHAP values correction 2\n",
      "Background count: 10\n",
      "Background min diff: -1.8347129821777344\n",
      "Background max diff: 1.7715492248535156\n"
     ]
    },
    {
     "data": {
      "application/vnd.jupyter.widget-view+json": {
       "model_id": "d1cdc1a6c3a54e8d93b68db2912eb23b",
       "version_major": 2,
       "version_minor": 0
      },
      "text/plain": [
       "  0%|          | 0/1 [00:00<?, ?it/s]"
      ]
     },
     "metadata": {},
     "output_type": "display_data"
    },
    {
     "name": "stdout",
     "output_type": "stream",
     "text": [
      "SHAP values difference: -9.131708935683491e-07\n",
      "Background count: 10\n",
      "Background min diff: -3.2113170623779297\n",
      "Background max diff: 3.1621265411376953\n"
     ]
    },
    {
     "data": {
      "application/vnd.jupyter.widget-view+json": {
       "model_id": "6bad0c38accb4ba3bbec0a794850d373",
       "version_major": 2,
       "version_minor": 0
      },
      "text/plain": [
       "  0%|          | 0/1 [00:00<?, ?it/s]"
      ]
     },
     "metadata": {},
     "output_type": "display_data"
    },
    {
     "name": "stdout",
     "output_type": "stream",
     "text": [
      "SHAP values difference: -9.363188979705228e-08\n",
      "Background count: 10\n",
      "Background min diff: -0.21868515014648438\n",
      "Background max diff: 0.6227149963378906\n"
     ]
    },
    {
     "data": {
      "application/vnd.jupyter.widget-view+json": {
       "model_id": "55cd218728b848b3bc4c331f825e6bb3",
       "version_major": 2,
       "version_minor": 0
      },
      "text/plain": [
       "  0%|          | 0/1 [00:00<?, ?it/s]"
      ]
     },
     "metadata": {},
     "output_type": "display_data"
    },
    {
     "name": "stdout",
     "output_type": "stream",
     "text": [
      "SHAP values difference: 6.21280236146049e-08\n",
      "Background count: 10\n",
      "Background min diff: -2.9090843200683594\n",
      "Background max diff: 3.3342933654785156\n"
     ]
    },
    {
     "data": {
      "application/vnd.jupyter.widget-view+json": {
       "model_id": "a05790c07ab34edf973bc8a136f23919",
       "version_major": 2,
       "version_minor": 0
      },
      "text/plain": [
       "  0%|          | 0/1 [00:00<?, ?it/s]"
      ]
     },
     "metadata": {},
     "output_type": "display_data"
    },
    {
     "name": "stdout",
     "output_type": "stream",
     "text": [
      "SHAP values difference: -1.2627669576659173e-07\n",
      "Background count: 10\n",
      "Background min diff: -0.4146881103515625\n",
      "Background max diff: 1.0623321533203125\n"
     ]
    },
    {
     "data": {
      "application/vnd.jupyter.widget-view+json": {
       "model_id": "f7488cfefd5348d988b139c07090dbfe",
       "version_major": 2,
       "version_minor": 0
      },
      "text/plain": [
       "  0%|          | 0/1 [00:00<?, ?it/s]"
      ]
     },
     "metadata": {},
     "output_type": "display_data"
    },
    {
     "name": "stdout",
     "output_type": "stream",
     "text": [
      "SHAP values difference: -2.2566716495475703e-08\n",
      "Background count: 10\n",
      "Background min diff: -3.045846939086914\n",
      "Background max diff: 3.030721664428711\n"
     ]
    },
    {
     "data": {
      "application/vnd.jupyter.widget-view+json": {
       "model_id": "723080a94e1d469abcc8a8025b195296",
       "version_major": 2,
       "version_minor": 0
      },
      "text/plain": [
       "  0%|          | 0/1 [00:00<?, ?it/s]"
      ]
     },
     "metadata": {},
     "output_type": "display_data"
    },
    {
     "name": "stdout",
     "output_type": "stream",
     "text": [
      "SHAP values difference: 4.8205915703647406e-08\n",
      "Background count: 10\n",
      "Background min diff: -0.47674560546875\n",
      "Background max diff: 0.820465087890625\n"
     ]
    },
    {
     "data": {
      "application/vnd.jupyter.widget-view+json": {
       "model_id": "e0b11d4666214833bcf73ce52b4ba9ec",
       "version_major": 2,
       "version_minor": 0
      },
      "text/plain": [
       "  0%|          | 0/1 [00:00<?, ?it/s]"
      ]
     },
     "metadata": {},
     "output_type": "display_data"
    },
    {
     "name": "stdout",
     "output_type": "stream",
     "text": [
      "SHAP values difference: 2.5930809499641327e-08\n",
      "Background count: 10\n",
      "Background min diff: -2.6511402130126953\n",
      "Background max diff: 2.6042003631591797\n"
     ]
    },
    {
     "data": {
      "application/vnd.jupyter.widget-view+json": {
       "model_id": "f47b75c9961744d79de58076be9f12b9",
       "version_major": 2,
       "version_minor": 0
      },
      "text/plain": [
       "  0%|          | 0/1 [00:00<?, ?it/s]"
      ]
     },
     "metadata": {},
     "output_type": "display_data"
    },
    {
     "name": "stdout",
     "output_type": "stream",
     "text": [
      "SHAP values difference: 2.001868892875791e-08\n",
      "Background count: 10\n",
      "Background min diff: -0.51165771484375\n",
      "Background max diff: 0.79461669921875\n"
     ]
    },
    {
     "data": {
      "application/vnd.jupyter.widget-view+json": {
       "model_id": "28b9fae3d31141f7aaf80323e53763ec",
       "version_major": 2,
       "version_minor": 0
      },
      "text/plain": [
       "  0%|          | 0/1 [00:00<?, ?it/s]"
      ]
     },
     "metadata": {},
     "output_type": "display_data"
    },
    {
     "name": "stdout",
     "output_type": "stream",
     "text": [
      "SHAP values difference: 4.879456056983145e-07\n",
      "Background count: 10\n",
      "Background min diff: -3.5302581787109375\n",
      "Background max diff: 2.7872772216796875\n"
     ]
    },
    {
     "data": {
      "application/vnd.jupyter.widget-view+json": {
       "model_id": "fa3025b4def343578d26f9e8760d52be",
       "version_major": 2,
       "version_minor": 0
      },
      "text/plain": [
       "  0%|          | 0/1 [00:00<?, ?it/s]"
      ]
     },
     "metadata": {},
     "output_type": "display_data"
    },
    {
     "name": "stdout",
     "output_type": "stream",
     "text": [
      "SHAP values difference: 2.774133864846817e-07\n",
      "SHAP values correction 2\n",
      "Background count: 10\n",
      "Background min diff: -0.7249565124511719\n",
      "Background max diff: 1.9529914855957031\n"
     ]
    },
    {
     "data": {
      "application/vnd.jupyter.widget-view+json": {
       "model_id": "db8cad094cbe44e7b66faa57e726ed0c",
       "version_major": 2,
       "version_minor": 0
      },
      "text/plain": [
       "  0%|          | 0/1 [00:00<?, ?it/s]"
      ]
     },
     "metadata": {},
     "output_type": "display_data"
    },
    {
     "name": "stdout",
     "output_type": "stream",
     "text": [
      "SHAP values difference: 2.2894413120866375e-07\n",
      "Background count: 10\n",
      "Background min diff: -0.5013885498046875\n",
      "Background max diff: 0.7958221435546875\n"
     ]
    },
    {
     "data": {
      "application/vnd.jupyter.widget-view+json": {
       "model_id": "a1ae49a08d9040db91a195d8545f5d8e",
       "version_major": 2,
       "version_minor": 0
      },
      "text/plain": [
       "  0%|          | 0/1 [00:00<?, ?it/s]"
      ]
     },
     "metadata": {},
     "output_type": "display_data"
    },
    {
     "name": "stdout",
     "output_type": "stream",
     "text": [
      "SHAP values difference: -4.299173710364812e-07\n",
      "Background count: 10\n",
      "Background min diff: -3.485382080078125\n",
      "Background max diff: 3.79998779296875\n"
     ]
    },
    {
     "data": {
      "application/vnd.jupyter.widget-view+json": {
       "model_id": "8efb572bee7d46cdb7212304d07cce9d",
       "version_major": 2,
       "version_minor": 0
      },
      "text/plain": [
       "  0%|          | 0/1 [00:00<?, ?it/s]"
      ]
     },
     "metadata": {},
     "output_type": "display_data"
    },
    {
     "name": "stdout",
     "output_type": "stream",
     "text": [
      "SHAP values difference: -2.416026294582707e-07\n",
      "SHAP values correction 2\n",
      "Background count: 10\n",
      "Background min diff: -4.870784759521484\n",
      "Background max diff: 3.8774452209472656\n"
     ]
    },
    {
     "data": {
      "application/vnd.jupyter.widget-view+json": {
       "model_id": "585b199b7eee4517a51cdbba6a44c656",
       "version_major": 2,
       "version_minor": 0
      },
      "text/plain": [
       "  0%|          | 0/1 [00:00<?, ?it/s]"
      ]
     },
     "metadata": {},
     "output_type": "display_data"
    },
    {
     "name": "stdout",
     "output_type": "stream",
     "text": [
      "SHAP values difference: -1.4066235465293175e-07\n",
      "Background count: 10\n",
      "Background min diff: -0.14752197265625\n",
      "Background max diff: 1.15875244140625\n"
     ]
    },
    {
     "data": {
      "application/vnd.jupyter.widget-view+json": {
       "model_id": "8ba7bf871c474bc7a4e2ef28e182b9b1",
       "version_major": 2,
       "version_minor": 0
      },
      "text/plain": [
       "  0%|          | 0/1 [00:00<?, ?it/s]"
      ]
     },
     "metadata": {},
     "output_type": "display_data"
    },
    {
     "name": "stdout",
     "output_type": "stream",
     "text": [
      "SHAP values difference: -2.0066647721250774e-07\n",
      "Background count: 10\n",
      "Background min diff: -0.9302940368652344\n",
      "Background max diff: 1.7476539611816406\n"
     ]
    },
    {
     "data": {
      "application/vnd.jupyter.widget-view+json": {
       "model_id": "590a3b0cea9f45379b2529d1e8e93ba4",
       "version_major": 2,
       "version_minor": 0
      },
      "text/plain": [
       "  0%|          | 0/1 [00:00<?, ?it/s]"
      ]
     },
     "metadata": {},
     "output_type": "display_data"
    },
    {
     "name": "stdout",
     "output_type": "stream",
     "text": [
      "SHAP values difference: -1.0150261786634474e-07\n",
      "Background count: 10\n",
      "Background min diff: -2.7113723754882812\n",
      "Background max diff: 2.5439682006835938\n"
     ]
    },
    {
     "data": {
      "application/vnd.jupyter.widget-view+json": {
       "model_id": "0bda53e01b2e48e5ae06a2ef4a0023a4",
       "version_major": 2,
       "version_minor": 0
      },
      "text/plain": [
       "  0%|          | 0/1 [00:00<?, ?it/s]"
      ]
     },
     "metadata": {},
     "output_type": "display_data"
    },
    {
     "name": "stdout",
     "output_type": "stream",
     "text": [
      "SHAP values difference: 3.4805512427737995e-07\n",
      "SHAP values correction 2\n",
      "Background count: 10\n",
      "Background min diff: -0.7406883239746094\n",
      "Background max diff: 0.7541236877441406\n"
     ]
    },
    {
     "data": {
      "application/vnd.jupyter.widget-view+json": {
       "model_id": "af2cb4990c1e430d9d13efe434b6bea6",
       "version_major": 2,
       "version_minor": 0
      },
      "text/plain": [
       "  0%|          | 0/1 [00:00<?, ?it/s]"
      ]
     },
     "metadata": {},
     "output_type": "display_data"
    },
    {
     "name": "stdout",
     "output_type": "stream",
     "text": [
      "SHAP values difference: -2.637585581055646e-07\n",
      "Background count: 10\n",
      "Background min diff: -2.952543258666992\n",
      "Background max diff: 2.692567825317383\n"
     ]
    },
    {
     "data": {
      "application/vnd.jupyter.widget-view+json": {
       "model_id": "67d8fd5ef76245dd8faff0ef83f9b1d8",
       "version_major": 2,
       "version_minor": 0
      },
      "text/plain": [
       "  0%|          | 0/1 [00:00<?, ?it/s]"
      ]
     },
     "metadata": {},
     "output_type": "display_data"
    },
    {
     "name": "stdout",
     "output_type": "stream",
     "text": [
      "SHAP values difference: 6.975575939094369e-07\n",
      "SHAP values correction 2\n",
      "Background count: 10\n",
      "Background min diff: -0.553314208984375\n",
      "Background max diff: 0.619384765625\n"
     ]
    },
    {
     "data": {
      "application/vnd.jupyter.widget-view+json": {
       "model_id": "75db81e7e4034f44b07284e91bc690e3",
       "version_major": 2,
       "version_minor": 0
      },
      "text/plain": [
       "  0%|          | 0/1 [00:00<?, ?it/s]"
      ]
     },
     "metadata": {},
     "output_type": "display_data"
    },
    {
     "name": "stdout",
     "output_type": "stream",
     "text": [
      "SHAP values difference: -3.0509955450952475e-07\n",
      "Background count: 10\n",
      "Background min diff: -0.8099517822265625\n",
      "Background max diff: 0.6896514892578125\n"
     ]
    },
    {
     "data": {
      "application/vnd.jupyter.widget-view+json": {
       "model_id": "6a7ede3763bb4db185cfb95963fa1f7f",
       "version_major": 2,
       "version_minor": 0
      },
      "text/plain": [
       "  0%|          | 0/1 [00:00<?, ?it/s]"
      ]
     },
     "metadata": {},
     "output_type": "display_data"
    },
    {
     "name": "stdout",
     "output_type": "stream",
     "text": [
      "SHAP values difference: 3.11506546779583e-07\n",
      "Background count: 10\n",
      "Background min diff: -0.9894275665283203\n",
      "Background max diff: 0.4087352752685547\n"
     ]
    },
    {
     "data": {
      "application/vnd.jupyter.widget-view+json": {
       "model_id": "e48535f7104c479097d464d1487fdac5",
       "version_major": 2,
       "version_minor": 0
      },
      "text/plain": [
       "  0%|          | 0/1 [00:00<?, ?it/s]"
      ]
     },
     "metadata": {},
     "output_type": "display_data"
    },
    {
     "name": "stdout",
     "output_type": "stream",
     "text": [
      "SHAP values difference: -7.519410871736909e-08\n",
      "Background count: 10\n",
      "Background min diff: -0.8343524932861328\n",
      "Background max diff: 4.779386520385742\n"
     ]
    },
    {
     "data": {
      "application/vnd.jupyter.widget-view+json": {
       "model_id": "6476d2bf0dc24c1a9bd101c0a6a9b8ef",
       "version_major": 2,
       "version_minor": 0
      },
      "text/plain": [
       "  0%|          | 0/1 [00:00<?, ?it/s]"
      ]
     },
     "metadata": {},
     "output_type": "display_data"
    },
    {
     "name": "stdout",
     "output_type": "stream",
     "text": [
      "SHAP values difference: -3.0992919519690076e-07\n",
      "Background count: 10\n",
      "Background min diff: -0.7623138427734375\n",
      "Background max diff: 0.2743072509765625\n"
     ]
    },
    {
     "data": {
      "application/vnd.jupyter.widget-view+json": {
       "model_id": "9928792c0d7e42e994fac577f6b19b7a",
       "version_major": 2,
       "version_minor": 0
      },
      "text/plain": [
       "  0%|          | 0/1 [00:00<?, ?it/s]"
      ]
     },
     "metadata": {},
     "output_type": "display_data"
    },
    {
     "name": "stdout",
     "output_type": "stream",
     "text": [
      "SHAP values difference: 1.3281188593339266e-07\n",
      "SHAP values correction 2\n",
      "Background count: 10\n",
      "Background min diff: -1.5161552429199219\n",
      "Background max diff: 1.9008064270019531\n"
     ]
    },
    {
     "data": {
      "application/vnd.jupyter.widget-view+json": {
       "model_id": "75d162678a8644f6af2231ac746ac059",
       "version_major": 2,
       "version_minor": 0
      },
      "text/plain": [
       "  0%|          | 0/1 [00:00<?, ?it/s]"
      ]
     },
     "metadata": {},
     "output_type": "display_data"
    },
    {
     "name": "stdout",
     "output_type": "stream",
     "text": [
      "SHAP values difference: -2.474499254390139e-07\n",
      "Background count: 10\n",
      "Background min diff: -9.755119323730469\n",
      "Background max diff: 0.9914932250976562\n"
     ]
    },
    {
     "data": {
      "application/vnd.jupyter.widget-view+json": {
       "model_id": "34f06ef393d04bc79937bbe8dad9a912",
       "version_major": 2,
       "version_minor": 0
      },
      "text/plain": [
       "  0%|          | 0/1 [00:00<?, ?it/s]"
      ]
     },
     "metadata": {},
     "output_type": "display_data"
    },
    {
     "name": "stdout",
     "output_type": "stream",
     "text": [
      "SHAP values difference: 3.347943966502953e-08\n",
      "Background count: 10\n",
      "Background min diff: -0.822113037109375\n",
      "Background max diff: 0.968994140625\n"
     ]
    },
    {
     "data": {
      "application/vnd.jupyter.widget-view+json": {
       "model_id": "cd176fa4257a41b2949d266971db40e9",
       "version_major": 2,
       "version_minor": 0
      },
      "text/plain": [
       "  0%|          | 0/1 [00:00<?, ?it/s]"
      ]
     },
     "metadata": {},
     "output_type": "display_data"
    },
    {
     "name": "stdout",
     "output_type": "stream",
     "text": [
      "SHAP values difference: -2.172549011802971e-07\n",
      "SHAP values correction 1\n",
      "SHAP values correction 2\n",
      "Background count: 10\n",
      "Background min diff: -1.2873802185058594\n",
      "Background max diff: 1.3132362365722656\n"
     ]
    },
    {
     "data": {
      "application/vnd.jupyter.widget-view+json": {
       "model_id": "c06f13a69a3f4ab2802045628e74a16b",
       "version_major": 2,
       "version_minor": 0
      },
      "text/plain": [
       "  0%|          | 0/1 [00:00<?, ?it/s]"
      ]
     },
     "metadata": {},
     "output_type": "display_data"
    },
    {
     "name": "stdout",
     "output_type": "stream",
     "text": [
      "SHAP values difference: -1.586258946417729e-08\n",
      "SHAP values correction 1\n",
      "SHAP values correction 2\n",
      "Background count: 10\n",
      "Background min diff: -1.2507858276367188\n",
      "Background max diff: 1.3358840942382812\n"
     ]
    },
    {
     "data": {
      "application/vnd.jupyter.widget-view+json": {
       "model_id": "d8385acb424440339d4258ee1eea5a03",
       "version_major": 2,
       "version_minor": 0
      },
      "text/plain": [
       "  0%|          | 0/1 [00:00<?, ?it/s]"
      ]
     },
     "metadata": {},
     "output_type": "display_data"
    },
    {
     "name": "stdout",
     "output_type": "stream",
     "text": [
      "SHAP values difference: -4.839046472415731e-07\n",
      "SHAP values correction 1\n",
      "SHAP values correction 2\n",
      "Background count: 10\n",
      "Background min diff: -0.4703178405761719\n",
      "Background max diff: 0.4841804504394531\n"
     ]
    },
    {
     "data": {
      "application/vnd.jupyter.widget-view+json": {
       "model_id": "e790564a79b34e859bc2cc1bca267d9d",
       "version_major": 2,
       "version_minor": 0
      },
      "text/plain": [
       "  0%|          | 0/1 [00:00<?, ?it/s]"
      ]
     },
     "metadata": {},
     "output_type": "display_data"
    },
    {
     "name": "stdout",
     "output_type": "stream",
     "text": [
      "SHAP values difference: -7.156175929612374e-08\n",
      "SHAP values correction 1\n",
      "SHAP values correction 2\n",
      "Background count: 10\n",
      "Background min diff: -0.8543968200683594\n",
      "Background max diff: -0.09029769897460938\n"
     ]
    },
    {
     "data": {
      "application/vnd.jupyter.widget-view+json": {
       "model_id": "77c3ee44e045402bb057d4212fe126e6",
       "version_major": 2,
       "version_minor": 0
      },
      "text/plain": [
       "  0%|          | 0/1 [00:00<?, ?it/s]"
      ]
     },
     "metadata": {},
     "output_type": "display_data"
    },
    {
     "name": "stdout",
     "output_type": "stream",
     "text": [
      "SHAP values difference: 4.882222803814784e-08\n",
      "SHAP values correction 2\n",
      "Background count: 10\n",
      "Background min diff: -2.577219009399414\n",
      "Background max diff: 2.678121566772461\n"
     ]
    },
    {
     "data": {
      "application/vnd.jupyter.widget-view+json": {
       "model_id": "cc926685605f45f297b059ff9736ee87",
       "version_major": 2,
       "version_minor": 0
      },
      "text/plain": [
       "  0%|          | 0/1 [00:00<?, ?it/s]"
      ]
     },
     "metadata": {},
     "output_type": "display_data"
    },
    {
     "name": "stdout",
     "output_type": "stream",
     "text": [
      "SHAP values difference: -2.9218330510616397e-07\n",
      "Background count: 10\n",
      "Background min diff: -2.006153106689453\n",
      "Background max diff: 3.607585906982422\n"
     ]
    },
    {
     "data": {
      "application/vnd.jupyter.widget-view+json": {
       "model_id": "2b046564971d4f11b324128c71db654c",
       "version_major": 2,
       "version_minor": 0
      },
      "text/plain": [
       "  0%|          | 0/1 [00:00<?, ?it/s]"
      ]
     },
     "metadata": {},
     "output_type": "display_data"
    },
    {
     "name": "stdout",
     "output_type": "stream",
     "text": [
      "SHAP values difference: -7.032299009779308e-07\n",
      "Background count: 10\n",
      "Background min diff: -1.9262962341308594\n",
      "Background max diff: 1.8156471252441406\n"
     ]
    },
    {
     "data": {
      "application/vnd.jupyter.widget-view+json": {
       "model_id": "bc275e4290a8406d94fa54883ea01ead",
       "version_major": 2,
       "version_minor": 0
      },
      "text/plain": [
       "  0%|          | 0/1 [00:00<?, ?it/s]"
      ]
     },
     "metadata": {},
     "output_type": "display_data"
    },
    {
     "name": "stdout",
     "output_type": "stream",
     "text": [
      "SHAP values difference: 1.9665213457642494e-07\n",
      "Background count: 10\n",
      "Background min diff: -6.261875152587891\n",
      "Background max diff: 3.6881065368652344\n"
     ]
    },
    {
     "data": {
      "application/vnd.jupyter.widget-view+json": {
       "model_id": "49c2b755b2e643eabed01c32c3b3aba8",
       "version_major": 2,
       "version_minor": 0
      },
      "text/plain": [
       "  0%|          | 0/1 [00:00<?, ?it/s]"
      ]
     },
     "metadata": {},
     "output_type": "display_data"
    },
    {
     "name": "stdout",
     "output_type": "stream",
     "text": [
      "SHAP values difference: 8.014521313270961e-08\n",
      "Background count: 10\n",
      "Background min diff: -1.0277576446533203\n",
      "Background max diff: 0.3704051971435547\n"
     ]
    },
    {
     "data": {
      "application/vnd.jupyter.widget-view+json": {
       "model_id": "c88026eb468d4023a66a4b7858ab8fcb",
       "version_major": 2,
       "version_minor": 0
      },
      "text/plain": [
       "  0%|          | 0/1 [00:00<?, ?it/s]"
      ]
     },
     "metadata": {},
     "output_type": "display_data"
    },
    {
     "name": "stdout",
     "output_type": "stream",
     "text": [
      "SHAP values difference: 1.8198903717348003e-08\n",
      "Background count: 10\n",
      "Background min diff: -0.8735771179199219\n",
      "Background max diff: 0.4820747375488281\n"
     ]
    },
    {
     "data": {
      "application/vnd.jupyter.widget-view+json": {
       "model_id": "72deab504da94ebd8490dff6640e9b18",
       "version_major": 2,
       "version_minor": 0
      },
      "text/plain": [
       "  0%|          | 0/1 [00:00<?, ?it/s]"
      ]
     },
     "metadata": {},
     "output_type": "display_data"
    },
    {
     "name": "stdout",
     "output_type": "stream",
     "text": [
      "SHAP values difference: -2.816699726793104e-07\n",
      "Background count: 10\n",
      "Background min diff: -0.9894275665283203\n",
      "Background max diff: 0.4087352752685547\n"
     ]
    },
    {
     "data": {
      "application/vnd.jupyter.widget-view+json": {
       "model_id": "343cb2fb1fda4304a01426d7379af02d",
       "version_major": 2,
       "version_minor": 0
      },
      "text/plain": [
       "  0%|          | 0/1 [00:00<?, ?it/s]"
      ]
     },
     "metadata": {},
     "output_type": "display_data"
    },
    {
     "name": "stdout",
     "output_type": "stream",
     "text": [
      "SHAP values difference: 2.1542311312572338e-07\n",
      "SHAP values correction 2\n",
      "Background count: 10\n",
      "Background min diff: -0.5050277709960938\n",
      "Background max diff: 0.8743667602539062\n"
     ]
    },
    {
     "data": {
      "application/vnd.jupyter.widget-view+json": {
       "model_id": "e5658479f26840c0ae29b8daa4196b71",
       "version_major": 2,
       "version_minor": 0
      },
      "text/plain": [
       "  0%|          | 0/1 [00:00<?, ?it/s]"
      ]
     },
     "metadata": {},
     "output_type": "display_data"
    },
    {
     "name": "stdout",
     "output_type": "stream",
     "text": [
      "SHAP values difference: 9.916925947095478e-08\n",
      "SHAP values correction 2\n",
      "Background count: 10\n",
      "Background min diff: -5.229454040527344\n",
      "Background max diff: 5.517158508300781\n"
     ]
    },
    {
     "data": {
      "application/vnd.jupyter.widget-view+json": {
       "model_id": "13cee4dacdfd4d7ab5fa991717847ee7",
       "version_major": 2,
       "version_minor": 0
      },
      "text/plain": [
       "  0%|          | 0/1 [00:00<?, ?it/s]"
      ]
     },
     "metadata": {},
     "output_type": "display_data"
    },
    {
     "name": "stdout",
     "output_type": "stream",
     "text": [
      "SHAP values difference: 3.1338305461758864e-07\n",
      "Background count: 10\n",
      "Background min diff: -1.179901123046875\n",
      "Background max diff: 2.060943603515625\n"
     ]
    },
    {
     "data": {
      "application/vnd.jupyter.widget-view+json": {
       "model_id": "8d01c9d3cca64767a274fd1d8b13bf88",
       "version_major": 2,
       "version_minor": 0
      },
      "text/plain": [
       "  0%|          | 0/1 [00:00<?, ?it/s]"
      ]
     },
     "metadata": {},
     "output_type": "display_data"
    },
    {
     "name": "stdout",
     "output_type": "stream",
     "text": [
      "SHAP values difference: 2.2804510280138857e-08\n",
      "Background count: 10\n",
      "Background min diff: -3.0715789794921875\n",
      "Background max diff: 2.7725982666015625\n"
     ]
    },
    {
     "data": {
      "application/vnd.jupyter.widget-view+json": {
       "model_id": "55304f16b70a4cf79486063ca1d5120b",
       "version_major": 2,
       "version_minor": 0
      },
      "text/plain": [
       "  0%|          | 0/1 [00:00<?, ?it/s]"
      ]
     },
     "metadata": {},
     "output_type": "display_data"
    },
    {
     "name": "stdout",
     "output_type": "stream",
     "text": [
      "SHAP values difference: 2.4647306418046355e-08\n",
      "Background count: 10\n",
      "Background min diff: -0.8647079467773438\n",
      "Background max diff: 0.6348953247070312\n"
     ]
    },
    {
     "data": {
      "application/vnd.jupyter.widget-view+json": {
       "model_id": "9b3721ab3c774dc88c6d0ef7bf923890",
       "version_major": 2,
       "version_minor": 0
      },
      "text/plain": [
       "  0%|          | 0/1 [00:00<?, ?it/s]"
      ]
     },
     "metadata": {},
     "output_type": "display_data"
    },
    {
     "name": "stdout",
     "output_type": "stream",
     "text": [
      "SHAP values difference: -1.6731208063447411e-07\n",
      "SHAP values correction 2\n",
      "Background count: 10\n",
      "Background min diff: -1.5667762756347656\n",
      "Background max diff: 1.5294151306152344\n"
     ]
    },
    {
     "data": {
      "application/vnd.jupyter.widget-view+json": {
       "model_id": "82a33ad388b34a178460c247fe14f32e",
       "version_major": 2,
       "version_minor": 0
      },
      "text/plain": [
       "  0%|          | 0/1 [00:00<?, ?it/s]"
      ]
     },
     "metadata": {},
     "output_type": "display_data"
    },
    {
     "name": "stdout",
     "output_type": "stream",
     "text": [
      "SHAP values difference: 2.976660340436865e-07\n",
      "SHAP values correction 2\n",
      "Background count: 10\n",
      "Background min diff: -2.5344505310058594\n",
      "Background max diff: 2.5886878967285156\n"
     ]
    },
    {
     "data": {
      "application/vnd.jupyter.widget-view+json": {
       "model_id": "2b25c08ec0dd46d5971d72504c7b3475",
       "version_major": 2,
       "version_minor": 0
      },
      "text/plain": [
       "  0%|          | 0/1 [00:00<?, ?it/s]"
      ]
     },
     "metadata": {},
     "output_type": "display_data"
    },
    {
     "name": "stdout",
     "output_type": "stream",
     "text": [
      "SHAP values difference: 2.2785122411050907e-07\n",
      "Background count: 10\n",
      "Background min diff: -1.0627593994140625\n",
      "Background max diff: 1.2312774658203125\n"
     ]
    },
    {
     "data": {
      "application/vnd.jupyter.widget-view+json": {
       "model_id": "f314c396312a4f35bb1f6cb933878860",
       "version_major": 2,
       "version_minor": 0
      },
      "text/plain": [
       "  0%|          | 0/1 [00:00<?, ?it/s]"
      ]
     },
     "metadata": {},
     "output_type": "display_data"
    },
    {
     "name": "stdout",
     "output_type": "stream",
     "text": [
      "SHAP values difference: -2.064079893671078e-07\n",
      "Background count: 10\n",
      "Background min diff: -0.2727775573730469\n",
      "Background max diff: 0.4415779113769531\n"
     ]
    },
    {
     "data": {
      "application/vnd.jupyter.widget-view+json": {
       "model_id": "2a3cdb78f863483e96552a4591e0138d",
       "version_major": 2,
       "version_minor": 0
      },
      "text/plain": [
       "  0%|          | 0/1 [00:00<?, ?it/s]"
      ]
     },
     "metadata": {},
     "output_type": "display_data"
    },
    {
     "name": "stdout",
     "output_type": "stream",
     "text": [
      "SHAP values difference: 7.641081793963167e-07\n",
      "Background count: 10\n",
      "Background min diff: -0.246063232421875\n",
      "Background max diff: 0.5953369140625\n"
     ]
    },
    {
     "data": {
      "application/vnd.jupyter.widget-view+json": {
       "model_id": "caf010f6e3c04830accbcfadc7f77f6e",
       "version_major": 2,
       "version_minor": 0
      },
      "text/plain": [
       "  0%|          | 0/1 [00:00<?, ?it/s]"
      ]
     },
     "metadata": {},
     "output_type": "display_data"
    },
    {
     "name": "stdout",
     "output_type": "stream",
     "text": [
      "SHAP values difference: 4.686672170350903e-07\n",
      "SHAP values correction 2\n",
      "Background count: 10\n",
      "Background min diff: -1.5423965454101562\n",
      "Background max diff: 1.4723129272460938\n"
     ]
    },
    {
     "data": {
      "application/vnd.jupyter.widget-view+json": {
       "model_id": "67fc158eebf740b3a2e05cf641ea6d49",
       "version_major": 2,
       "version_minor": 0
      },
      "text/plain": [
       "  0%|          | 0/1 [00:00<?, ?it/s]"
      ]
     },
     "metadata": {},
     "output_type": "display_data"
    },
    {
     "name": "stdout",
     "output_type": "stream",
     "text": [
      "SHAP values difference: -1.8244740829231887e-07\n",
      "Background count: 10\n",
      "Background min diff: -1.5741519927978516\n",
      "Background max diff: 1.6666927337646484\n"
     ]
    },
    {
     "data": {
      "application/vnd.jupyter.widget-view+json": {
       "model_id": "aeaeb1764b0e45cab73f908ede520e5a",
       "version_major": 2,
       "version_minor": 0
      },
      "text/plain": [
       "  0%|          | 0/1 [00:00<?, ?it/s]"
      ]
     },
     "metadata": {},
     "output_type": "display_data"
    },
    {
     "name": "stdout",
     "output_type": "stream",
     "text": [
      "SHAP values difference: -1.6992625972989117e-07\n",
      "Background count: 10\n",
      "Background min diff: -5.278984069824219\n",
      "Background max diff: 4.670997619628906\n"
     ]
    },
    {
     "data": {
      "application/vnd.jupyter.widget-view+json": {
       "model_id": "8db6c5d080dd4437b537e04383ecf4a8",
       "version_major": 2,
       "version_minor": 0
      },
      "text/plain": [
       "  0%|          | 0/1 [00:00<?, ?it/s]"
      ]
     },
     "metadata": {},
     "output_type": "display_data"
    },
    {
     "name": "stdout",
     "output_type": "stream",
     "text": [
      "SHAP values difference: -7.718177954529892e-07\n",
      "SHAP values correction 1\n",
      "SHAP values correction 2\n",
      "Background count: 10\n",
      "Background min diff: -0.7423171997070312\n",
      "Background max diff: 0.5548934936523438\n"
     ]
    },
    {
     "data": {
      "application/vnd.jupyter.widget-view+json": {
       "model_id": "92b3f9b8aaa14a56be2d2c9ae078f87a",
       "version_major": 2,
       "version_minor": 0
      },
      "text/plain": [
       "  0%|          | 0/1 [00:00<?, ?it/s]"
      ]
     },
     "metadata": {},
     "output_type": "display_data"
    },
    {
     "name": "stdout",
     "output_type": "stream",
     "text": [
      "SHAP values difference: 1.9144279050919977e-07\n",
      "SHAP values correction 2\n",
      "Background count: 10\n",
      "Background min diff: -0.5937919616699219\n",
      "Background max diff: 0.7124824523925781\n"
     ]
    },
    {
     "data": {
      "application/vnd.jupyter.widget-view+json": {
       "model_id": "a8a2905693b44840a3c1511f9cc480da",
       "version_major": 2,
       "version_minor": 0
      },
      "text/plain": [
       "  0%|          | 0/1 [00:00<?, ?it/s]"
      ]
     },
     "metadata": {},
     "output_type": "display_data"
    },
    {
     "name": "stdout",
     "output_type": "stream",
     "text": [
      "SHAP values difference: 1.6980960992896144e-07\n",
      "Background count: 10\n",
      "Background min diff: -3.651042938232422\n",
      "Background max diff: 2.592334747314453\n"
     ]
    },
    {
     "data": {
      "application/vnd.jupyter.widget-view+json": {
       "model_id": "624fe4ad685c4b27aa97b5f45cace764",
       "version_major": 2,
       "version_minor": 0
      },
      "text/plain": [
       "  0%|          | 0/1 [00:00<?, ?it/s]"
      ]
     },
     "metadata": {},
     "output_type": "display_data"
    },
    {
     "name": "stdout",
     "output_type": "stream",
     "text": [
      "SHAP values difference: -3.154267567140323e-07\n",
      "SHAP values correction 2\n",
      "Background count: 10\n",
      "Background min diff: -0.9033794403076172\n",
      "Background max diff: 2.337465286254883\n"
     ]
    },
    {
     "data": {
      "application/vnd.jupyter.widget-view+json": {
       "model_id": "54dc9400443a4e18a433f75bc9795d3e",
       "version_major": 2,
       "version_minor": 0
      },
      "text/plain": [
       "  0%|          | 0/1 [00:00<?, ?it/s]"
      ]
     },
     "metadata": {},
     "output_type": "display_data"
    },
    {
     "name": "stdout",
     "output_type": "stream",
     "text": [
      "SHAP values difference: -1.6377629208363942e-07\n",
      "Background count: 10\n",
      "Background min diff: -0.4322395324707031\n",
      "Background max diff: 0.4091606140136719\n"
     ]
    },
    {
     "data": {
      "application/vnd.jupyter.widget-view+json": {
       "model_id": "4564d657b0e3465c8c39635dfc7f5446",
       "version_major": 2,
       "version_minor": 0
      },
      "text/plain": [
       "  0%|          | 0/1 [00:00<?, ?it/s]"
      ]
     },
     "metadata": {},
     "output_type": "display_data"
    },
    {
     "name": "stdout",
     "output_type": "stream",
     "text": [
      "SHAP values difference: 1.1812774491914979e-07\n",
      "Background count: 10\n",
      "Background min diff: -2.778226852416992\n",
      "Background max diff: 2.835512161254883\n"
     ]
    },
    {
     "data": {
      "application/vnd.jupyter.widget-view+json": {
       "model_id": "8618dc1ffff1416e913eeadeea9d2b06",
       "version_major": 2,
       "version_minor": 0
      },
      "text/plain": [
       "  0%|          | 0/1 [00:00<?, ?it/s]"
      ]
     },
     "metadata": {},
     "output_type": "display_data"
    },
    {
     "name": "stdout",
     "output_type": "stream",
     "text": [
      "SHAP values difference: -8.785668104138722e-08\n",
      "SHAP values correction 2\n",
      "Background count: 10\n",
      "Background min diff: -2.5854320526123047\n",
      "Background max diff: 2.6699085235595703\n"
     ]
    },
    {
     "data": {
      "application/vnd.jupyter.widget-view+json": {
       "model_id": "474a535c09a84c418356bd260476774a",
       "version_major": 2,
       "version_minor": 0
      },
      "text/plain": [
       "  0%|          | 0/1 [00:00<?, ?it/s]"
      ]
     },
     "metadata": {},
     "output_type": "display_data"
    },
    {
     "name": "stdout",
     "output_type": "stream",
     "text": [
      "SHAP values difference: 1.78804210548833e-07\n",
      "Background count: 10\n",
      "Background min diff: -0.6402053833007812\n",
      "Background max diff: 0.8593978881835938\n"
     ]
    },
    {
     "data": {
      "application/vnd.jupyter.widget-view+json": {
       "model_id": "a9159fa9c7bd4ef9a97df369edfe22ae",
       "version_major": 2,
       "version_minor": 0
      },
      "text/plain": [
       "  0%|          | 0/1 [00:00<?, ?it/s]"
      ]
     },
     "metadata": {},
     "output_type": "display_data"
    },
    {
     "name": "stdout",
     "output_type": "stream",
     "text": [
      "SHAP values difference: 2.5825563199077806e-07\n",
      "Background count: 10\n",
      "Background min diff: -17.06792449951172\n",
      "Background max diff: -6.321311950683594\n"
     ]
    },
    {
     "data": {
      "application/vnd.jupyter.widget-view+json": {
       "model_id": "ef0a091755e444a797bfb8c75b44d06a",
       "version_major": 2,
       "version_minor": 0
      },
      "text/plain": [
       "  0%|          | 0/1 [00:00<?, ?it/s]"
      ]
     },
     "metadata": {},
     "output_type": "display_data"
    },
    {
     "name": "stdout",
     "output_type": "stream",
     "text": [
      "SHAP values difference: -5.962124660641166e-08\n",
      "SHAP values correction 2\n",
      "Background count: 10\n",
      "Background min diff: -0.6736984252929688\n",
      "Background max diff: 0.09040069580078125\n"
     ]
    },
    {
     "data": {
      "application/vnd.jupyter.widget-view+json": {
       "model_id": "e4e31fdd56bb4e62be02f7ba4a2390a3",
       "version_major": 2,
       "version_minor": 0
      },
      "text/plain": [
       "  0%|          | 0/1 [00:00<?, ?it/s]"
      ]
     },
     "metadata": {},
     "output_type": "display_data"
    },
    {
     "name": "stdout",
     "output_type": "stream",
     "text": [
      "SHAP values difference: 2.760078769981078e-07\n",
      "SHAP values correction 1\n",
      "SHAP values correction 2\n",
      "Background count: 10\n",
      "Background min diff: -1.2359943389892578\n",
      "Background max diff: 1.3064250946044922\n"
     ]
    },
    {
     "data": {
      "application/vnd.jupyter.widget-view+json": {
       "model_id": "553d52199d834401a81fd69b372631e4",
       "version_major": 2,
       "version_minor": 0
      },
      "text/plain": [
       "  0%|          | 0/1 [00:00<?, ?it/s]"
      ]
     },
     "metadata": {},
     "output_type": "display_data"
    },
    {
     "name": "stdout",
     "output_type": "stream",
     "text": [
      "SHAP values difference: -5.830236915471687e-08\n",
      "Background count: 10\n",
      "Background min diff: -2.9226436614990234\n",
      "Background max diff: 3.1539249420166016\n"
     ]
    },
    {
     "data": {
      "application/vnd.jupyter.widget-view+json": {
       "model_id": "12077c28ca9046c19a54b76c9b4d4fa4",
       "version_major": 2,
       "version_minor": 0
      },
      "text/plain": [
       "  0%|          | 0/1 [00:00<?, ?it/s]"
      ]
     },
     "metadata": {},
     "output_type": "display_data"
    },
    {
     "name": "stdout",
     "output_type": "stream",
     "text": [
      "SHAP values difference: -2.670472056820472e-07\n",
      "Background count: 10\n",
      "Background min diff: -1.7158374786376953\n",
      "Background max diff: 1.6688976287841797\n"
     ]
    },
    {
     "data": {
      "application/vnd.jupyter.widget-view+json": {
       "model_id": "6030e7de8bcb4120a7113f8544e4dfc9",
       "version_major": 2,
       "version_minor": 0
      },
      "text/plain": [
       "  0%|          | 0/1 [00:00<?, ?it/s]"
      ]
     },
     "metadata": {},
     "output_type": "display_data"
    },
    {
     "name": "stdout",
     "output_type": "stream",
     "text": [
      "SHAP values difference: 5.331352781468013e-08\n",
      "Background count: 10\n",
      "Background min diff: -8.449165344238281\n",
      "Background max diff: 2.2974472045898438\n"
     ]
    },
    {
     "data": {
      "application/vnd.jupyter.widget-view+json": {
       "model_id": "4cb21b4e5b854c88bc8abc63802dea88",
       "version_major": 2,
       "version_minor": 0
      },
      "text/plain": [
       "  0%|          | 0/1 [00:00<?, ?it/s]"
      ]
     },
     "metadata": {},
     "output_type": "display_data"
    },
    {
     "name": "stdout",
     "output_type": "stream",
     "text": [
      "SHAP values difference: 1.3849060920279044e-07\n",
      "SHAP values correction 2\n",
      "Background count: 10\n",
      "Background min diff: -1.8670539855957031\n",
      "Background max diff: 1.3948173522949219\n"
     ]
    },
    {
     "data": {
      "application/vnd.jupyter.widget-view+json": {
       "model_id": "930e6fa594dc4bf69f5ad9baf3be95ef",
       "version_major": 2,
       "version_minor": 0
      },
      "text/plain": [
       "  0%|          | 0/1 [00:00<?, ?it/s]"
      ]
     },
     "metadata": {},
     "output_type": "display_data"
    },
    {
     "name": "stdout",
     "output_type": "stream",
     "text": [
      "SHAP values difference: 1.23851663147434e-07\n",
      "Background count: 10\n",
      "Background min diff: -7.7236328125\n",
      "Background max diff: 3.022979736328125\n"
     ]
    },
    {
     "data": {
      "application/vnd.jupyter.widget-view+json": {
       "model_id": "67a88cdf720d4b3da99dd15dc0d1f138",
       "version_major": 2,
       "version_minor": 0
      },
      "text/plain": [
       "  0%|          | 0/1 [00:00<?, ?it/s]"
      ]
     },
     "metadata": {},
     "output_type": "display_data"
    },
    {
     "name": "stdout",
     "output_type": "stream",
     "text": [
      "SHAP values difference: -1.270094998062632e-07\n",
      "Background count: 10\n",
      "Background min diff: -0.4402046203613281\n",
      "Background max diff: 0.5142936706542969\n"
     ]
    },
    {
     "data": {
      "application/vnd.jupyter.widget-view+json": {
       "model_id": "b6c698f252324cbe82edad3a44d4b084",
       "version_major": 2,
       "version_minor": 0
      },
      "text/plain": [
       "  0%|          | 0/1 [00:00<?, ?it/s]"
      ]
     },
     "metadata": {},
     "output_type": "display_data"
    },
    {
     "name": "stdout",
     "output_type": "stream",
     "text": [
      "SHAP values difference: 3.5561689770702287e-07\n",
      "Background count: 10\n",
      "Background min diff: -2.8074378967285156\n",
      "Background max diff: 2.8376731872558594\n"
     ]
    },
    {
     "data": {
      "application/vnd.jupyter.widget-view+json": {
       "model_id": "008eead5435d4cb0b40ca5febc9b7c58",
       "version_major": 2,
       "version_minor": 0
      },
      "text/plain": [
       "  0%|          | 0/1 [00:00<?, ?it/s]"
      ]
     },
     "metadata": {},
     "output_type": "display_data"
    },
    {
     "name": "stdout",
     "output_type": "stream",
     "text": [
      "SHAP values difference: 5.954571236088668e-08\n",
      "Background count: 10\n",
      "Background min diff: -0.4859504699707031\n",
      "Background max diff: 0.24186325073242188\n"
     ]
    },
    {
     "data": {
      "application/vnd.jupyter.widget-view+json": {
       "model_id": "67d68ab9ec1e4515920c1371899f76c9",
       "version_major": 2,
       "version_minor": 0
      },
      "text/plain": [
       "  0%|          | 0/1 [00:00<?, ?it/s]"
      ]
     },
     "metadata": {},
     "output_type": "display_data"
    },
    {
     "name": "stdout",
     "output_type": "stream",
     "text": [
      "SHAP values difference: 4.556134669542189e-08\n",
      "Background count: 10\n",
      "Background min diff: -1.6362037658691406\n",
      "Background max diff: 1.4214744567871094\n"
     ]
    },
    {
     "data": {
      "application/vnd.jupyter.widget-view+json": {
       "model_id": "a342af4a145b4ebb9273cb45e87b74a9",
       "version_major": 2,
       "version_minor": 0
      },
      "text/plain": [
       "  0%|          | 0/1 [00:00<?, ?it/s]"
      ]
     },
     "metadata": {},
     "output_type": "display_data"
    },
    {
     "name": "stdout",
     "output_type": "stream",
     "text": [
      "SHAP values difference: 5.4525219894685506e-08\n",
      "SHAP values correction 2\n",
      "Background count: 10\n",
      "Background min diff: -0.9354972839355469\n",
      "Background max diff: 0.9773139953613281\n"
     ]
    },
    {
     "data": {
      "application/vnd.jupyter.widget-view+json": {
       "model_id": "006b492fe27f4d488a5d39a77949ca30",
       "version_major": 2,
       "version_minor": 0
      },
      "text/plain": [
       "  0%|          | 0/1 [00:00<?, ?it/s]"
      ]
     },
     "metadata": {},
     "output_type": "display_data"
    },
    {
     "name": "stdout",
     "output_type": "stream",
     "text": [
      "SHAP values difference: 6.072511382626544e-10\n",
      "Background count: 10\n",
      "Background min diff: -2.3839759826660156\n",
      "Background max diff: 3.2297630310058594\n"
     ]
    },
    {
     "data": {
      "application/vnd.jupyter.widget-view+json": {
       "model_id": "e56ffd0014e441a098ee0c73ed3a0ef8",
       "version_major": 2,
       "version_minor": 0
      },
      "text/plain": [
       "  0%|          | 0/1 [00:00<?, ?it/s]"
      ]
     },
     "metadata": {},
     "output_type": "display_data"
    },
    {
     "name": "stdout",
     "output_type": "stream",
     "text": [
      "SHAP values difference: -4.8000099894807136e-08\n",
      "Background count: 10\n",
      "Background min diff: 0.046886444091796875\n",
      "Background max diff: 0.8882865905761719\n"
     ]
    },
    {
     "data": {
      "application/vnd.jupyter.widget-view+json": {
       "model_id": "9f4ae9aea647420f9729680def4fdbb1",
       "version_major": 2,
       "version_minor": 0
      },
      "text/plain": [
       "  0%|          | 0/1 [00:00<?, ?it/s]"
      ]
     },
     "metadata": {},
     "output_type": "display_data"
    },
    {
     "name": "stdout",
     "output_type": "stream",
     "text": [
      "SHAP values difference: 9.081465890403706e-08\n",
      "Background count: 10\n",
      "Background min diff: -1.7258338928222656\n",
      "Background max diff: 1.2888755798339844\n"
     ]
    },
    {
     "data": {
      "application/vnd.jupyter.widget-view+json": {
       "model_id": "b3a0af9a57594d4ba1dc15a4f49b2f71",
       "version_major": 2,
       "version_minor": 0
      },
      "text/plain": [
       "  0%|          | 0/1 [00:00<?, ?it/s]"
      ]
     },
     "metadata": {},
     "output_type": "display_data"
    },
    {
     "name": "stdout",
     "output_type": "stream",
     "text": [
      "SHAP values difference: -7.855526007460867e-09\n",
      "Background count: 10\n",
      "Background min diff: -1.5752525329589844\n",
      "Background max diff: 1.4394569396972656\n"
     ]
    },
    {
     "data": {
      "application/vnd.jupyter.widget-view+json": {
       "model_id": "5d265880875245948ac037a9c907b636",
       "version_major": 2,
       "version_minor": 0
      },
      "text/plain": [
       "  0%|          | 0/1 [00:00<?, ?it/s]"
      ]
     },
     "metadata": {},
     "output_type": "display_data"
    },
    {
     "name": "stdout",
     "output_type": "stream",
     "text": [
      "SHAP values difference: -4.0453537852869204e-08\n",
      "SHAP values correction 1\n",
      "Background count: 10\n",
      "Background min diff: -3.12359619140625\n",
      "Background max diff: 2.7205810546875\n"
     ]
    },
    {
     "data": {
      "application/vnd.jupyter.widget-view+json": {
       "model_id": "2f7f8fe23cbb4fe68533a565804e1246",
       "version_major": 2,
       "version_minor": 0
      },
      "text/plain": [
       "  0%|          | 0/1 [00:00<?, ?it/s]"
      ]
     },
     "metadata": {},
     "output_type": "display_data"
    },
    {
     "name": "stdout",
     "output_type": "stream",
     "text": [
      "SHAP values difference: 1.2663659010314632e-07\n",
      "SHAP values correction 2\n",
      "Background count: 10\n",
      "Background min diff: -0.34076690673828125\n",
      "Background max diff: 1.1362533569335938\n"
     ]
    },
    {
     "data": {
      "application/vnd.jupyter.widget-view+json": {
       "model_id": "0b4c92fdd5844df58cf61cff42c09ff7",
       "version_major": 2,
       "version_minor": 0
      },
      "text/plain": [
       "  0%|          | 0/1 [00:00<?, ?it/s]"
      ]
     },
     "metadata": {},
     "output_type": "display_data"
    },
    {
     "name": "stdout",
     "output_type": "stream",
     "text": [
      "SHAP values difference: -9.87635701221734e-07\n",
      "Background count: 10\n",
      "Background min diff: -0.5718879699707031\n",
      "Background max diff: 0.7343864440917969\n"
     ]
    },
    {
     "data": {
      "application/vnd.jupyter.widget-view+json": {
       "model_id": "d4645ea2a8e44642a3165bd5431d23fa",
       "version_major": 2,
       "version_minor": 0
      },
      "text/plain": [
       "  0%|          | 0/1 [00:00<?, ?it/s]"
      ]
     },
     "metadata": {},
     "output_type": "display_data"
    },
    {
     "name": "stdout",
     "output_type": "stream",
     "text": [
      "SHAP values difference: 1.8501888021660307e-07\n",
      "Background count: 10\n",
      "Background min diff: -1.12591552734375\n",
      "Background max diff: 1.190093994140625\n"
     ]
    },
    {
     "data": {
      "application/vnd.jupyter.widget-view+json": {
       "model_id": "ac5a772e0da14b83abcc287bd596b20c",
       "version_major": 2,
       "version_minor": 0
      },
      "text/plain": [
       "  0%|          | 0/1 [00:00<?, ?it/s]"
      ]
     },
     "metadata": {},
     "output_type": "display_data"
    },
    {
     "name": "stdout",
     "output_type": "stream",
     "text": [
      "SHAP values difference: 2.4282179467149945e-07\n",
      "SHAP values correction 1\n",
      "SHAP values correction 2\n",
      "Background count: 10\n",
      "Background min diff: -0.6530685424804688\n",
      "Background max diff: 1.1635818481445312\n"
     ]
    },
    {
     "data": {
      "application/vnd.jupyter.widget-view+json": {
       "model_id": "a285babc3ca74930ab28bae219bbf4e4",
       "version_major": 2,
       "version_minor": 0
      },
      "text/plain": [
       "  0%|          | 0/1 [00:00<?, ?it/s]"
      ]
     },
     "metadata": {},
     "output_type": "display_data"
    },
    {
     "name": "stdout",
     "output_type": "stream",
     "text": [
      "SHAP values difference: 1.998005387804369e-07\n",
      "Background count: 10\n",
      "Background min diff: -0.5489234924316406\n",
      "Background max diff: 0.17889022827148438\n"
     ]
    },
    {
     "data": {
      "application/vnd.jupyter.widget-view+json": {
       "model_id": "69269a48f9f34bfbb26b35a53fc0963d",
       "version_major": 2,
       "version_minor": 0
      },
      "text/plain": [
       "  0%|          | 0/1 [00:00<?, ?it/s]"
      ]
     },
     "metadata": {},
     "output_type": "display_data"
    },
    {
     "name": "stdout",
     "output_type": "stream",
     "text": [
      "SHAP values difference: -9.859975591552939e-08\n",
      "Background count: 10\n",
      "Background min diff: -0.4382438659667969\n",
      "Background max diff: 0.3258552551269531\n"
     ]
    },
    {
     "data": {
      "application/vnd.jupyter.widget-view+json": {
       "model_id": "df92416556264a07919375c928aa717b",
       "version_major": 2,
       "version_minor": 0
      },
      "text/plain": [
       "  0%|          | 0/1 [00:00<?, ?it/s]"
      ]
     },
     "metadata": {},
     "output_type": "display_data"
    },
    {
     "name": "stdout",
     "output_type": "stream",
     "text": [
      "SHAP values difference: -2.8802009666151207e-07\n",
      "Background count: 10\n",
      "Background min diff: -1.4422340393066406\n",
      "Background max diff: 1.9747276306152344\n"
     ]
    },
    {
     "data": {
      "application/vnd.jupyter.widget-view+json": {
       "model_id": "bd328ea8eaa644acae0515209db7235d",
       "version_major": 2,
       "version_minor": 0
      },
      "text/plain": [
       "  0%|          | 0/1 [00:00<?, ?it/s]"
      ]
     },
     "metadata": {},
     "output_type": "display_data"
    },
    {
     "name": "stdout",
     "output_type": "stream",
     "text": [
      "SHAP values difference: -1.656213868272971e-07\n",
      "Background count: 10\n",
      "Background min diff: -0.9957275390625\n",
      "Background max diff: 0.917083740234375\n"
     ]
    },
    {
     "data": {
      "application/vnd.jupyter.widget-view+json": {
       "model_id": "433249e0688d435f8601c3a50f7a0e78",
       "version_major": 2,
       "version_minor": 0
      },
      "text/plain": [
       "  0%|          | 0/1 [00:00<?, ?it/s]"
      ]
     },
     "metadata": {},
     "output_type": "display_data"
    },
    {
     "name": "stdout",
     "output_type": "stream",
     "text": [
      "SHAP values difference: -9.758208108223698e-08\n",
      "Background count: 10\n",
      "Background min diff: -0.9485397338867188\n",
      "Background max diff: 0.9651870727539062\n"
     ]
    },
    {
     "data": {
      "application/vnd.jupyter.widget-view+json": {
       "model_id": "5829cb1bddd34059b48099d1642ba69a",
       "version_major": 2,
       "version_minor": 0
      },
      "text/plain": [
       "  0%|          | 0/1 [00:00<?, ?it/s]"
      ]
     },
     "metadata": {},
     "output_type": "display_data"
    },
    {
     "name": "stdout",
     "output_type": "stream",
     "text": [
      "SHAP values difference: 1.512238085865647e-07\n",
      "SHAP values correction 2\n",
      "Background count: 10\n",
      "Background min diff: -0.5397186279296875\n",
      "Background max diff: 0.7574920654296875\n"
     ]
    },
    {
     "data": {
      "application/vnd.jupyter.widget-view+json": {
       "model_id": "ab038702fc9b469db48a5cdc873ae5af",
       "version_major": 2,
       "version_minor": 0
      },
      "text/plain": [
       "  0%|          | 0/1 [00:00<?, ?it/s]"
      ]
     },
     "metadata": {},
     "output_type": "display_data"
    },
    {
     "name": "stdout",
     "output_type": "stream",
     "text": [
      "SHAP values difference: 1.274821386232361e-07\n",
      "Background count: 10\n",
      "Background min diff: -3.8819961547851562\n",
      "Background max diff: 3.8585128784179688\n"
     ]
    },
    {
     "data": {
      "application/vnd.jupyter.widget-view+json": {
       "model_id": "2ee64b39d91c4a14a7a334bc9a7108c0",
       "version_major": 2,
       "version_minor": 0
      },
      "text/plain": [
       "  0%|          | 0/1 [00:00<?, ?it/s]"
      ]
     },
     "metadata": {},
     "output_type": "display_data"
    },
    {
     "name": "stdout",
     "output_type": "stream",
     "text": [
      "SHAP values difference: 5.7667335795485997e-08\n",
      "Background count: 10\n",
      "Background min diff: -3.2327098846435547\n",
      "Background max diff: 2.3810291290283203\n"
     ]
    },
    {
     "data": {
      "application/vnd.jupyter.widget-view+json": {
       "model_id": "a75ecf17dc2648f6a52f7ec4e9d6dd15",
       "version_major": 2,
       "version_minor": 0
      },
      "text/plain": [
       "  0%|          | 0/1 [00:00<?, ?it/s]"
      ]
     },
     "metadata": {},
     "output_type": "display_data"
    },
    {
     "name": "stdout",
     "output_type": "stream",
     "text": [
      "SHAP values difference: 1.8292772097083798e-07\n",
      "Background count: 10\n",
      "Background min diff: -1.1819038391113281\n",
      "Background max diff: 0.7309074401855469\n"
     ]
    },
    {
     "data": {
      "application/vnd.jupyter.widget-view+json": {
       "model_id": "a7d7534e77864163a2f8a4d74c0f09e5",
       "version_major": 2,
       "version_minor": 0
      },
      "text/plain": [
       "  0%|          | 0/1 [00:00<?, ?it/s]"
      ]
     },
     "metadata": {},
     "output_type": "display_data"
    },
    {
     "name": "stdout",
     "output_type": "stream",
     "text": [
      "SHAP values difference: -3.0049633892303973e-09\n",
      "Background count: 10\n",
      "Background min diff: -1.1755485534667969\n",
      "Background max diff: 1.1228218078613281\n"
     ]
    },
    {
     "data": {
      "application/vnd.jupyter.widget-view+json": {
       "model_id": "38de35ddd1bf400b932523175e230ef9",
       "version_major": 2,
       "version_minor": 0
      },
      "text/plain": [
       "  0%|          | 0/1 [00:00<?, ?it/s]"
      ]
     },
     "metadata": {},
     "output_type": "display_data"
    },
    {
     "name": "stdout",
     "output_type": "stream",
     "text": [
      "SHAP values difference: 1.2230388790612778e-07\n",
      "Background count: 10\n",
      "Background min diff: -0.2942237854003906\n",
      "Background max diff: 1.1827964782714844\n"
     ]
    },
    {
     "data": {
      "application/vnd.jupyter.widget-view+json": {
       "model_id": "c674ac5c7eff4ba4aa56a21bccdb12d3",
       "version_major": 2,
       "version_minor": 0
      },
      "text/plain": [
       "  0%|          | 0/1 [00:00<?, ?it/s]"
      ]
     },
     "metadata": {},
     "output_type": "display_data"
    },
    {
     "name": "stdout",
     "output_type": "stream",
     "text": [
      "SHAP values difference: 7.707281923785558e-08\n",
      "Background count: 10\n",
      "Background min diff: -0.7377433776855469\n",
      "Background max diff: 0.6416511535644531\n"
     ]
    },
    {
     "data": {
      "application/vnd.jupyter.widget-view+json": {
       "model_id": "e925c9939d4b4deead9177163ac48461",
       "version_major": 2,
       "version_minor": 0
      },
      "text/plain": [
       "  0%|          | 0/1 [00:00<?, ?it/s]"
      ]
     },
     "metadata": {},
     "output_type": "display_data"
    },
    {
     "name": "stdout",
     "output_type": "stream",
     "text": [
      "SHAP values difference: 9.499341047103371e-08\n",
      "Background count: 10\n",
      "Background min diff: -0.5626106262207031\n",
      "Background max diff: 0.16520309448242188\n"
     ]
    },
    {
     "data": {
      "application/vnd.jupyter.widget-view+json": {
       "model_id": "ae97e8b1c08c4444b34e2f6e97a42aad",
       "version_major": 2,
       "version_minor": 0
      },
      "text/plain": [
       "  0%|          | 0/1 [00:00<?, ?it/s]"
      ]
     },
     "metadata": {},
     "output_type": "display_data"
    },
    {
     "name": "stdout",
     "output_type": "stream",
     "text": [
      "SHAP values difference: -3.140403492807309e-08\n",
      "SHAP values correction 2\n",
      "Background count: 10\n",
      "Background min diff: -0.6679229736328125\n",
      "Background max diff: 2.5729217529296875\n"
     ]
    },
    {
     "data": {
      "application/vnd.jupyter.widget-view+json": {
       "model_id": "1f4e6ac92fbc42e89394215d7bd7ad2a",
       "version_major": 2,
       "version_minor": 0
      },
      "text/plain": [
       "  0%|          | 0/1 [00:00<?, ?it/s]"
      ]
     },
     "metadata": {},
     "output_type": "display_data"
    },
    {
     "name": "stdout",
     "output_type": "stream",
     "text": [
      "SHAP values difference: -3.4421305095122534e-07\n",
      "SHAP values correction 1\n",
      "SHAP values correction 2\n",
      "Background count: 10\n",
      "Background min diff: -1.3406143188476562\n",
      "Background max diff: 1.2329025268554688\n"
     ]
    },
    {
     "data": {
      "application/vnd.jupyter.widget-view+json": {
       "model_id": "e7e2a518dbe444ed9319ed9358eec661",
       "version_major": 2,
       "version_minor": 0
      },
      "text/plain": [
       "  0%|          | 0/1 [00:00<?, ?it/s]"
      ]
     },
     "metadata": {},
     "output_type": "display_data"
    },
    {
     "name": "stdout",
     "output_type": "stream",
     "text": [
      "SHAP values difference: 6.113098045545939e-07\n",
      "SHAP values correction 2\n",
      "Background count: 10\n",
      "Background min diff: -5.8920135498046875\n",
      "Background max diff: 4.8545989990234375\n"
     ]
    },
    {
     "data": {
      "application/vnd.jupyter.widget-view+json": {
       "model_id": "171af7799a3b47ecb92390ce828bf131",
       "version_major": 2,
       "version_minor": 0
      },
      "text/plain": [
       "  0%|          | 0/1 [00:00<?, ?it/s]"
      ]
     },
     "metadata": {},
     "output_type": "display_data"
    },
    {
     "name": "stdout",
     "output_type": "stream",
     "text": [
      "SHAP values difference: 3.7264827312810667e-07\n",
      "Background count: 10\n",
      "Background min diff: -8.991264343261719\n",
      "Background max diff: 1.7553482055664062\n"
     ]
    },
    {
     "data": {
      "application/vnd.jupyter.widget-view+json": {
       "model_id": "ee2dec98f43940b4b85779293e802afe",
       "version_major": 2,
       "version_minor": 0
      },
      "text/plain": [
       "  0%|          | 0/1 [00:00<?, ?it/s]"
      ]
     },
     "metadata": {},
     "output_type": "display_data"
    },
    {
     "name": "stdout",
     "output_type": "stream",
     "text": [
      "SHAP values difference: 1.0032136543713932e-07\n",
      "SHAP values correction 2\n",
      "Background count: 10\n",
      "Background min diff: -1.6117992401123047\n",
      "Background max diff: 1.7729358673095703\n"
     ]
    },
    {
     "data": {
      "application/vnd.jupyter.widget-view+json": {
       "model_id": "d025c0425be4486ebbb941ae8fac7b25",
       "version_major": 2,
       "version_minor": 0
      },
      "text/plain": [
       "  0%|          | 0/1 [00:00<?, ?it/s]"
      ]
     },
     "metadata": {},
     "output_type": "display_data"
    },
    {
     "name": "stdout",
     "output_type": "stream",
     "text": [
      "SHAP values difference: 5.324290519581609e-08\n",
      "SHAP values correction 2\n",
      "Background count: 10\n",
      "Background min diff: -0.4291505813598633\n",
      "Background max diff: 5.184588432312012\n"
     ]
    },
    {
     "data": {
      "application/vnd.jupyter.widget-view+json": {
       "model_id": "8b7f581735424ba58fda7683781b3e22",
       "version_major": 2,
       "version_minor": 0
      },
      "text/plain": [
       "  0%|          | 0/1 [00:00<?, ?it/s]"
      ]
     },
     "metadata": {},
     "output_type": "display_data"
    },
    {
     "name": "stdout",
     "output_type": "stream",
     "text": [
      "SHAP values difference: 1.3035148604956248e-07\n",
      "Background count: 10\n",
      "Background min diff: -0.89947509765625\n",
      "Background max diff: 0.91717529296875\n"
     ]
    },
    {
     "data": {
      "application/vnd.jupyter.widget-view+json": {
       "model_id": "978be62a19d940a3a3cbf7b663fea579",
       "version_major": 2,
       "version_minor": 0
      },
      "text/plain": [
       "  0%|          | 0/1 [00:00<?, ?it/s]"
      ]
     },
     "metadata": {},
     "output_type": "display_data"
    },
    {
     "name": "stdout",
     "output_type": "stream",
     "text": [
      "SHAP values difference: 3.5652552554665817e-07\n",
      "Background count: 10\n",
      "Background min diff: -1.747100830078125\n",
      "Background max diff: 1.859161376953125\n"
     ]
    },
    {
     "data": {
      "application/vnd.jupyter.widget-view+json": {
       "model_id": "c8704b6acc354898b19b337791303545",
       "version_major": 2,
       "version_minor": 0
      },
      "text/plain": [
       "  0%|          | 0/1 [00:00<?, ?it/s]"
      ]
     },
     "metadata": {},
     "output_type": "display_data"
    },
    {
     "name": "stdout",
     "output_type": "stream",
     "text": [
      "SHAP values difference: 1.5998513447357254e-07\n",
      "SHAP values correction 2\n",
      "Background count: 10\n",
      "Background min diff: -4.4573822021484375\n",
      "Background max diff: 6.2892303466796875\n"
     ]
    },
    {
     "data": {
      "application/vnd.jupyter.widget-view+json": {
       "model_id": "caa918ffaa7b42639a1fb0d817960e88",
       "version_major": 2,
       "version_minor": 0
      },
      "text/plain": [
       "  0%|          | 0/1 [00:00<?, ?it/s]"
      ]
     },
     "metadata": {},
     "output_type": "display_data"
    },
    {
     "name": "stdout",
     "output_type": "stream",
     "text": [
      "SHAP values difference: -2.2952981737489608e-07\n",
      "Background count: 10\n",
      "Background min diff: -1.3172111511230469\n",
      "Background max diff: 1.5226631164550781\n"
     ]
    },
    {
     "data": {
      "application/vnd.jupyter.widget-view+json": {
       "model_id": "48b9fe9bd7464a81b3a25aaed434ccd6",
       "version_major": 2,
       "version_minor": 0
      },
      "text/plain": [
       "  0%|          | 0/1 [00:00<?, ?it/s]"
      ]
     },
     "metadata": {},
     "output_type": "display_data"
    },
    {
     "name": "stdout",
     "output_type": "stream",
     "text": [
      "SHAP values difference: 8.998205203170073e-08\n",
      "Background count: 10\n",
      "Background min diff: -0.5178146362304688\n",
      "Background max diff: 0.7793960571289062\n"
     ]
    },
    {
     "data": {
      "application/vnd.jupyter.widget-view+json": {
       "model_id": "b0543774987e4f519ada873b17aa30e1",
       "version_major": 2,
       "version_minor": 0
      },
      "text/plain": [
       "  0%|          | 0/1 [00:00<?, ?it/s]"
      ]
     },
     "metadata": {},
     "output_type": "display_data"
    },
    {
     "name": "stdout",
     "output_type": "stream",
     "text": [
      "SHAP values difference: -3.013521165939892e-08\n",
      "SHAP values correction 2\n",
      "Background count: 10\n",
      "Background min diff: -1.6683387756347656\n",
      "Background max diff: 1.3463706970214844\n"
     ]
    },
    {
     "data": {
      "application/vnd.jupyter.widget-view+json": {
       "model_id": "08e1be58ae2046d3bf97f5aee8361a58",
       "version_major": 2,
       "version_minor": 0
      },
      "text/plain": [
       "  0%|          | 0/1 [00:00<?, ?it/s]"
      ]
     },
     "metadata": {},
     "output_type": "display_data"
    },
    {
     "name": "stdout",
     "output_type": "stream",
     "text": [
      "SHAP values difference: 3.652860485203746e-07\n",
      "Background count: 10\n",
      "Background min diff: -3.792022705078125\n",
      "Background max diff: 3.49334716796875\n"
     ]
    },
    {
     "data": {
      "application/vnd.jupyter.widget-view+json": {
       "model_id": "b749ee1f671f44e99e662dabc4704fea",
       "version_major": 2,
       "version_minor": 0
      },
      "text/plain": [
       "  0%|          | 0/1 [00:00<?, ?it/s]"
      ]
     },
     "metadata": {},
     "output_type": "display_data"
    },
    {
     "name": "stdout",
     "output_type": "stream",
     "text": [
      "SHAP values difference: 1.7823855102960806e-07\n",
      "Background count: 10\n",
      "Background min diff: -1.0055465698242188\n",
      "Background max diff: 0.7855606079101562\n"
     ]
    },
    {
     "data": {
      "application/vnd.jupyter.widget-view+json": {
       "model_id": "73bcda58f4744212839368d80850a938",
       "version_major": 2,
       "version_minor": 0
      },
      "text/plain": [
       "  0%|          | 0/1 [00:00<?, ?it/s]"
      ]
     },
     "metadata": {},
     "output_type": "display_data"
    },
    {
     "name": "stdout",
     "output_type": "stream",
     "text": [
      "SHAP values difference: -3.9328878642663767e-07\n",
      "Background count: 10\n",
      "Background min diff: -3.2948036193847656\n",
      "Background max diff: 3.0227317810058594\n"
     ]
    },
    {
     "data": {
      "application/vnd.jupyter.widget-view+json": {
       "model_id": "2e69b762936a4259a6d6c175fefcd57b",
       "version_major": 2,
       "version_minor": 0
      },
      "text/plain": [
       "  0%|          | 0/1 [00:00<?, ?it/s]"
      ]
     },
     "metadata": {},
     "output_type": "display_data"
    },
    {
     "name": "stdout",
     "output_type": "stream",
     "text": [
      "SHAP values difference: -1.8357694209214515e-07\n",
      "SHAP values correction 2\n",
      "Background count: 10\n",
      "Background min diff: -0.8470382690429688\n",
      "Background max diff: 0.9568862915039062\n"
     ]
    },
    {
     "data": {
      "application/vnd.jupyter.widget-view+json": {
       "model_id": "ffefd9ba2fec4c7482e4502002c1a7b9",
       "version_major": 2,
       "version_minor": 0
      },
      "text/plain": [
       "  0%|          | 0/1 [00:00<?, ?it/s]"
      ]
     },
     "metadata": {},
     "output_type": "display_data"
    },
    {
     "name": "stdout",
     "output_type": "stream",
     "text": [
      "SHAP values difference: -6.90147032855748e-08\n",
      "SHAP values correction 2\n",
      "Background count: 10\n",
      "Background min diff: -1.1596336364746094\n",
      "Background max diff: 1.1510047912597656\n"
     ]
    },
    {
     "data": {
      "application/vnd.jupyter.widget-view+json": {
       "model_id": "0fce1a68eb2247719959608f320e1c17",
       "version_major": 2,
       "version_minor": 0
      },
      "text/plain": [
       "  0%|          | 0/1 [00:00<?, ?it/s]"
      ]
     },
     "metadata": {},
     "output_type": "display_data"
    },
    {
     "name": "stdout",
     "output_type": "stream",
     "text": [
      "SHAP values difference: -5.068554997933461e-07\n",
      "Background count: 10\n",
      "Background min diff: -0.9271888732910156\n",
      "Background max diff: 1.0993919372558594\n"
     ]
    },
    {
     "data": {
      "application/vnd.jupyter.widget-view+json": {
       "model_id": "0ad6cd9c70d54d4f801ebc57d5b76b6f",
       "version_major": 2,
       "version_minor": 0
      },
      "text/plain": [
       "  0%|          | 0/1 [00:00<?, ?it/s]"
      ]
     },
     "metadata": {},
     "output_type": "display_data"
    },
    {
     "name": "stdout",
     "output_type": "stream",
     "text": [
      "SHAP values difference: 2.2911512953527335e-07\n",
      "SHAP values correction 1\n",
      "SHAP values correction 2\n",
      "Background count: 10\n",
      "Background min diff: -0.7327919006347656\n",
      "Background max diff: 0.6972618103027344\n"
     ]
    },
    {
     "data": {
      "application/vnd.jupyter.widget-view+json": {
       "model_id": "960f70c4c37b4f279dc67376fb8df375",
       "version_major": 2,
       "version_minor": 0
      },
      "text/plain": [
       "  0%|          | 0/1 [00:00<?, ?it/s]"
      ]
     },
     "metadata": {},
     "output_type": "display_data"
    },
    {
     "name": "stdout",
     "output_type": "stream",
     "text": [
      "SHAP values difference: -1.361390644660787e-07\n",
      "Background count: 10\n",
      "Background min diff: -3.530406951904297\n",
      "Background max diff: 2.915851593017578\n"
     ]
    },
    {
     "data": {
      "application/vnd.jupyter.widget-view+json": {
       "model_id": "de41286a233e4984af6653a1ebcc4f8c",
       "version_major": 2,
       "version_minor": 0
      },
      "text/plain": [
       "  0%|          | 0/1 [00:00<?, ?it/s]"
      ]
     },
     "metadata": {},
     "output_type": "display_data"
    },
    {
     "name": "stdout",
     "output_type": "stream",
     "text": [
      "SHAP values difference: 1.0784813397890503e-07\n",
      "Background count: 10\n",
      "Background min diff: -1.1274642944335938\n",
      "Background max diff: 1.0232315063476562\n"
     ]
    },
    {
     "data": {
      "application/vnd.jupyter.widget-view+json": {
       "model_id": "f97d2d1dab3e4f57b9b917e7182c2dfe",
       "version_major": 2,
       "version_minor": 0
      },
      "text/plain": [
       "  0%|          | 0/1 [00:00<?, ?it/s]"
      ]
     },
     "metadata": {},
     "output_type": "display_data"
    },
    {
     "name": "stdout",
     "output_type": "stream",
     "text": [
      "SHAP values difference: -1.7819320934364669e-06\n",
      "SHAP values correction 1\n",
      "SHAP values correction 2\n",
      "Background count: 10\n",
      "Background min diff: -1.1558494567871094\n",
      "Background max diff: 1.1381874084472656\n"
     ]
    },
    {
     "data": {
      "application/vnd.jupyter.widget-view+json": {
       "model_id": "6be1fe9d7f464b2e8cdd0c7d3c847fcd",
       "version_major": 2,
       "version_minor": 0
      },
      "text/plain": [
       "  0%|          | 0/1 [00:00<?, ?it/s]"
      ]
     },
     "metadata": {},
     "output_type": "display_data"
    },
    {
     "name": "stdout",
     "output_type": "stream",
     "text": [
      "SHAP values difference: -3.735285432071578e-07\n",
      "Background count: 10\n",
      "Background min diff: -0.860443115234375\n",
      "Background max diff: 0.9306640625\n"
     ]
    },
    {
     "data": {
      "application/vnd.jupyter.widget-view+json": {
       "model_id": "dae10b133bc0476481738ec80a0b9678",
       "version_major": 2,
       "version_minor": 0
      },
      "text/plain": [
       "  0%|          | 0/1 [00:00<?, ?it/s]"
      ]
     },
     "metadata": {},
     "output_type": "display_data"
    },
    {
     "name": "stdout",
     "output_type": "stream",
     "text": [
      "SHAP values difference: 2.0114251242375758e-07\n",
      "Background count: 10\n",
      "Background min diff: -0.58544921875\n",
      "Background max diff: 0.914154052734375\n"
     ]
    },
    {
     "data": {
      "application/vnd.jupyter.widget-view+json": {
       "model_id": "157e6792a9724949929738093774a546",
       "version_major": 2,
       "version_minor": 0
      },
      "text/plain": [
       "  0%|          | 0/1 [00:00<?, ?it/s]"
      ]
     },
     "metadata": {},
     "output_type": "display_data"
    },
    {
     "name": "stdout",
     "output_type": "stream",
     "text": [
      "SHAP values difference: -2.3020991690714254e-07\n",
      "SHAP values correction 2\n",
      "Background count: 10\n",
      "Background min diff: -1.1817970275878906\n",
      "Background max diff: 0.24825668334960938\n"
     ]
    },
    {
     "data": {
      "application/vnd.jupyter.widget-view+json": {
       "model_id": "652d12e455a0413b818e87ec5ee15e9f",
       "version_major": 2,
       "version_minor": 0
      },
      "text/plain": [
       "  0%|          | 0/1 [00:00<?, ?it/s]"
      ]
     },
     "metadata": {},
     "output_type": "display_data"
    },
    {
     "name": "stdout",
     "output_type": "stream",
     "text": [
      "SHAP values difference: -7.203617613527058e-08\n",
      "Background count: 10\n",
      "Background min diff: -3.1602210998535156\n",
      "Background max diff: 3.3747215270996094\n"
     ]
    },
    {
     "data": {
      "application/vnd.jupyter.widget-view+json": {
       "model_id": "b0eb1dd6348443b0bebfe2b0bb18771f",
       "version_major": 2,
       "version_minor": 0
      },
      "text/plain": [
       "  0%|          | 0/1 [00:00<?, ?it/s]"
      ]
     },
     "metadata": {},
     "output_type": "display_data"
    },
    {
     "name": "stdout",
     "output_type": "stream",
     "text": [
      "SHAP values difference: -7.469242291335831e-07\n",
      "Background count: 10\n",
      "Background min diff: -1.37884521484375\n",
      "Background max diff: 1.6788330078125\n"
     ]
    },
    {
     "data": {
      "application/vnd.jupyter.widget-view+json": {
       "model_id": "fc837776430c4600b5ba9f5f4cf4e339",
       "version_major": 2,
       "version_minor": 0
      },
      "text/plain": [
       "  0%|          | 0/1 [00:00<?, ?it/s]"
      ]
     },
     "metadata": {},
     "output_type": "display_data"
    },
    {
     "name": "stdout",
     "output_type": "stream",
     "text": [
      "SHAP values difference: 1.9244991467104455e-07\n",
      "SHAP values correction 2\n",
      "Background count: 10\n",
      "Background min diff: -3.7507095336914062\n",
      "Background max diff: 2.4233932495117188\n"
     ]
    },
    {
     "data": {
      "application/vnd.jupyter.widget-view+json": {
       "model_id": "3b01d23b549443dfa7220ab6fe9f8332",
       "version_major": 2,
       "version_minor": 0
      },
      "text/plain": [
       "  0%|          | 0/1 [00:00<?, ?it/s]"
      ]
     },
     "metadata": {},
     "output_type": "display_data"
    },
    {
     "name": "stdout",
     "output_type": "stream",
     "text": [
      "SHAP values difference: 1.484224938508305e-07\n",
      "Background count: 10\n",
      "Background min diff: -2.3319568634033203\n",
      "Background max diff: 3.2817821502685547\n"
     ]
    },
    {
     "data": {
      "application/vnd.jupyter.widget-view+json": {
       "model_id": "ba85d1455549442d85ce072c1a1c4138",
       "version_major": 2,
       "version_minor": 0
      },
      "text/plain": [
       "  0%|          | 0/1 [00:00<?, ?it/s]"
      ]
     },
     "metadata": {},
     "output_type": "display_data"
    },
    {
     "name": "stdout",
     "output_type": "stream",
     "text": [
      "SHAP values difference: 2.4734416825822336e-07\n",
      "Background count: 10\n",
      "Background min diff: -9.355392456054688\n",
      "Background max diff: 1.3912200927734375\n"
     ]
    },
    {
     "data": {
      "application/vnd.jupyter.widget-view+json": {
       "model_id": "c121ae91e6f94f5eb6fcca4e2daaacc1",
       "version_major": 2,
       "version_minor": 0
      },
      "text/plain": [
       "  0%|          | 0/1 [00:00<?, ?it/s]"
      ]
     },
     "metadata": {},
     "output_type": "display_data"
    },
    {
     "name": "stdout",
     "output_type": "stream",
     "text": [
      "SHAP values difference: 1.4916505364226396e-08\n",
      "SHAP values correction 2\n",
      "Background count: 10\n",
      "Background min diff: -1.0594367980957031\n",
      "Background max diff: 2.181407928466797\n"
     ]
    },
    {
     "data": {
      "application/vnd.jupyter.widget-view+json": {
       "model_id": "b63e01eb32be4caca66aa9ce8fa13e7d",
       "version_major": 2,
       "version_minor": 0
      },
      "text/plain": [
       "  0%|          | 0/1 [00:00<?, ?it/s]"
      ]
     },
     "metadata": {},
     "output_type": "display_data"
    },
    {
     "name": "stdout",
     "output_type": "stream",
     "text": [
      "SHAP values difference: 1.9104513171441795e-07\n",
      "Background count: 10\n",
      "Background min diff: -0.7790184020996094\n",
      "Background max diff: 0.7157936096191406\n"
     ]
    },
    {
     "data": {
      "application/vnd.jupyter.widget-view+json": {
       "model_id": "484d7f43258c4a42abe95449829cf11a",
       "version_major": 2,
       "version_minor": 0
      },
      "text/plain": [
       "  0%|          | 0/1 [00:00<?, ?it/s]"
      ]
     },
     "metadata": {},
     "output_type": "display_data"
    },
    {
     "name": "stdout",
     "output_type": "stream",
     "text": [
      "SHAP values difference: -2.0902737674077798e-07\n",
      "Background count: 10\n",
      "Background min diff: -0.8286628723144531\n",
      "Background max diff: 0.17924118041992188\n"
     ]
    },
    {
     "data": {
      "application/vnd.jupyter.widget-view+json": {
       "model_id": "b654819a434d472e9076e2d59e928aa5",
       "version_major": 2,
       "version_minor": 0
      },
      "text/plain": [
       "  0%|          | 0/1 [00:00<?, ?it/s]"
      ]
     },
     "metadata": {},
     "output_type": "display_data"
    },
    {
     "name": "stdout",
     "output_type": "stream",
     "text": [
      "SHAP values difference: -8.19340240099109e-08\n",
      "Background count: 10\n",
      "Background min diff: -1.1539955139160156\n",
      "Background max diff: 1.1458091735839844\n"
     ]
    },
    {
     "data": {
      "application/vnd.jupyter.widget-view+json": {
       "model_id": "a26f11f7013c4eeeaf04c46bfef13013",
       "version_major": 2,
       "version_minor": 0
      },
      "text/plain": [
       "  0%|          | 0/1 [00:00<?, ?it/s]"
      ]
     },
     "metadata": {},
     "output_type": "display_data"
    },
    {
     "name": "stdout",
     "output_type": "stream",
     "text": [
      "SHAP values difference: 3.4733467657588335e-08\n",
      "Background count: 10\n",
      "Background min diff: -1.5779876708984375\n",
      "Background max diff: 1.4367218017578125\n"
     ]
    },
    {
     "data": {
      "application/vnd.jupyter.widget-view+json": {
       "model_id": "4bc54af1240949ed935f91d971ac7398",
       "version_major": 2,
       "version_minor": 0
      },
      "text/plain": [
       "  0%|          | 0/1 [00:00<?, ?it/s]"
      ]
     },
     "metadata": {},
     "output_type": "display_data"
    },
    {
     "name": "stdout",
     "output_type": "stream",
     "text": [
      "SHAP values difference: -6.850513045719708e-09\n",
      "Background count: 10\n",
      "Background min diff: -20.24382781982422\n",
      "Background max diff: -9.497215270996094\n"
     ]
    },
    {
     "data": {
      "application/vnd.jupyter.widget-view+json": {
       "model_id": "ee33a695ba9f4800825dd16cd7f7cd4f",
       "version_major": 2,
       "version_minor": 0
      },
      "text/plain": [
       "  0%|          | 0/1 [00:00<?, ?it/s]"
      ]
     },
     "metadata": {},
     "output_type": "display_data"
    },
    {
     "name": "stdout",
     "output_type": "stream",
     "text": [
      "SHAP values difference: 4.873072541045076e-07\n",
      "Background count: 10\n",
      "Background min diff: -0.8434638977050781\n",
      "Background max diff: 0.5121879577636719\n"
     ]
    },
    {
     "data": {
      "application/vnd.jupyter.widget-view+json": {
       "model_id": "d590656191eb40c98ac8e4f16972aa4a",
       "version_major": 2,
       "version_minor": 0
      },
      "text/plain": [
       "  0%|          | 0/1 [00:00<?, ?it/s]"
      ]
     },
     "metadata": {},
     "output_type": "display_data"
    },
    {
     "name": "stdout",
     "output_type": "stream",
     "text": [
      "SHAP values difference: -1.075048245979815e-07\n",
      "Background count: 10\n",
      "Background min diff: -1.9016571044921875\n",
      "Background max diff: 1.8402862548828125\n"
     ]
    },
    {
     "data": {
      "application/vnd.jupyter.widget-view+json": {
       "model_id": "103c414e6ceb4430aa9cbc09fa194ee0",
       "version_major": 2,
       "version_minor": 0
      },
      "text/plain": [
       "  0%|          | 0/1 [00:00<?, ?it/s]"
      ]
     },
     "metadata": {},
     "output_type": "display_data"
    },
    {
     "name": "stdout",
     "output_type": "stream",
     "text": [
      "SHAP values difference: -1.3542209842398734e-07\n",
      "SHAP values correction 2\n",
      "Background count: 10\n",
      "Background min diff: -0.4638862609863281\n",
      "Background max diff: 0.5727348327636719\n"
     ]
    },
    {
     "data": {
      "application/vnd.jupyter.widget-view+json": {
       "model_id": "d6bfa841871c487481fbcf1e233e48f8",
       "version_major": 2,
       "version_minor": 0
      },
      "text/plain": [
       "  0%|          | 0/1 [00:00<?, ?it/s]"
      ]
     },
     "metadata": {},
     "output_type": "display_data"
    },
    {
     "name": "stdout",
     "output_type": "stream",
     "text": [
      "SHAP values difference: -1.881859432728561e-07\n",
      "Background count: 10\n",
      "Background min diff: -3.7906723022460938\n",
      "Background max diff: 2.4527053833007812\n"
     ]
    },
    {
     "data": {
      "application/vnd.jupyter.widget-view+json": {
       "model_id": "26f2382e359748339d904a389b085b3f",
       "version_major": 2,
       "version_minor": 0
      },
      "text/plain": [
       "  0%|          | 0/1 [00:00<?, ?it/s]"
      ]
     },
     "metadata": {},
     "output_type": "display_data"
    },
    {
     "name": "stdout",
     "output_type": "stream",
     "text": [
      "SHAP values difference: 2.394374760683604e-07\n",
      "SHAP values correction 1\n",
      "Background count: 10\n",
      "Background min diff: -2.8990936279296875\n",
      "Background max diff: 2.9450836181640625\n"
     ]
    },
    {
     "data": {
      "application/vnd.jupyter.widget-view+json": {
       "model_id": "ecda1af5c6564a8084461e81a6d5356f",
       "version_major": 2,
       "version_minor": 0
      },
      "text/plain": [
       "  0%|          | 0/1 [00:00<?, ?it/s]"
      ]
     },
     "metadata": {},
     "output_type": "display_data"
    },
    {
     "name": "stdout",
     "output_type": "stream",
     "text": [
      "SHAP values difference: 7.231396637052967e-08\n",
      "Background count: 10\n",
      "Background min diff: -0.48427581787109375\n",
      "Background max diff: 0.8219985961914062\n"
     ]
    },
    {
     "data": {
      "application/vnd.jupyter.widget-view+json": {
       "model_id": "965c9637fc704d1b8d5eb694784e0e99",
       "version_major": 2,
       "version_minor": 0
      },
      "text/plain": [
       "  0%|          | 0/1 [00:00<?, ?it/s]"
      ]
     },
     "metadata": {},
     "output_type": "display_data"
    },
    {
     "name": "stdout",
     "output_type": "stream",
     "text": [
      "SHAP values difference: -3.0361857028538e-08\n",
      "SHAP values correction 2\n",
      "Background count: 10\n",
      "Background min diff: -1.0107421875\n",
      "Background max diff: 1.283294677734375\n"
     ]
    },
    {
     "data": {
      "application/vnd.jupyter.widget-view+json": {
       "model_id": "355b39d80aa64b7d98bb9944d6ecffb7",
       "version_major": 2,
       "version_minor": 0
      },
      "text/plain": [
       "  0%|          | 0/1 [00:00<?, ?it/s]"
      ]
     },
     "metadata": {},
     "output_type": "display_data"
    },
    {
     "name": "stdout",
     "output_type": "stream",
     "text": [
      "SHAP values difference: 3.928981584522262e-08\n",
      "Background count: 10\n",
      "Background min diff: -1.6227493286132812\n",
      "Background max diff: 1.7619857788085938\n"
     ]
    },
    {
     "data": {
      "application/vnd.jupyter.widget-view+json": {
       "model_id": "9f1576ee6a3c4f0790bd08c6508e3246",
       "version_major": 2,
       "version_minor": 0
      },
      "text/plain": [
       "  0%|          | 0/1 [00:00<?, ?it/s]"
      ]
     },
     "metadata": {},
     "output_type": "display_data"
    },
    {
     "name": "stdout",
     "output_type": "stream",
     "text": [
      "SHAP values difference: -2.7175185479677566e-07\n",
      "SHAP values correction 2\n",
      "Background count: 10\n",
      "Background min diff: -0.8255500793457031\n",
      "Background max diff: 0.9911003112792969\n"
     ]
    },
    {
     "data": {
      "application/vnd.jupyter.widget-view+json": {
       "model_id": "a46d9f4986c9479a90a869e114a27538",
       "version_major": 2,
       "version_minor": 0
      },
      "text/plain": [
       "  0%|          | 0/1 [00:00<?, ?it/s]"
      ]
     },
     "metadata": {},
     "output_type": "display_data"
    },
    {
     "name": "stdout",
     "output_type": "stream",
     "text": [
      "SHAP values difference: -4.16781702483604e-08\n",
      "Background count: 10\n",
      "Background min diff: -0.9907989501953125\n",
      "Background max diff: 0.1418914794921875\n"
     ]
    },
    {
     "data": {
      "application/vnd.jupyter.widget-view+json": {
       "model_id": "52cdecfcb989420abf28ef0338de4a35",
       "version_major": 2,
       "version_minor": 0
      },
      "text/plain": [
       "  0%|          | 0/1 [00:00<?, ?it/s]"
      ]
     },
     "metadata": {},
     "output_type": "display_data"
    },
    {
     "name": "stdout",
     "output_type": "stream",
     "text": [
      "SHAP values difference: 3.701027884162045e-07\n",
      "SHAP values correction 2\n",
      "Background count: 10\n",
      "Background min diff: -1.9108543395996094\n",
      "Background max diff: 1.6073951721191406\n"
     ]
    },
    {
     "data": {
      "application/vnd.jupyter.widget-view+json": {
       "model_id": "1ac5add5cecc4bf4a355eca70e58d1b6",
       "version_major": 2,
       "version_minor": 0
      },
      "text/plain": [
       "  0%|          | 0/1 [00:00<?, ?it/s]"
      ]
     },
     "metadata": {},
     "output_type": "display_data"
    },
    {
     "name": "stdout",
     "output_type": "stream",
     "text": [
      "SHAP values difference: 3.0499741399125924e-08\n",
      "Background count: 10\n",
      "Background min diff: -0.9809074401855469\n",
      "Background max diff: 0.8101997375488281\n"
     ]
    },
    {
     "data": {
      "application/vnd.jupyter.widget-view+json": {
       "model_id": "d2f702a725fd4117994dcae8e95fccab",
       "version_major": 2,
       "version_minor": 0
      },
      "text/plain": [
       "  0%|          | 0/1 [00:00<?, ?it/s]"
      ]
     },
     "metadata": {},
     "output_type": "display_data"
    },
    {
     "name": "stdout",
     "output_type": "stream",
     "text": [
      "SHAP values difference: -1.1592561577344895e-07\n",
      "Background count: 10\n",
      "Background min diff: -3.0405006408691406\n",
      "Background max diff: 3.2028770446777344\n"
     ]
    },
    {
     "data": {
      "application/vnd.jupyter.widget-view+json": {
       "model_id": "1e3c3121fb924057b7044fee21c7537e",
       "version_major": 2,
       "version_minor": 0
      },
      "text/plain": [
       "  0%|          | 0/1 [00:00<?, ?it/s]"
      ]
     },
     "metadata": {},
     "output_type": "display_data"
    },
    {
     "name": "stdout",
     "output_type": "stream",
     "text": [
      "SHAP values difference: 9.06720032389785e-09\n",
      "SHAP values correction 2\n",
      "Background count: 10\n",
      "Background min diff: -3.6315574645996094\n",
      "Background max diff: 2.6859779357910156\n"
     ]
    },
    {
     "data": {
      "application/vnd.jupyter.widget-view+json": {
       "model_id": "123cba2b704e4f40a16c12c09d83f6ac",
       "version_major": 2,
       "version_minor": 0
      },
      "text/plain": [
       "  0%|          | 0/1 [00:00<?, ?it/s]"
      ]
     },
     "metadata": {},
     "output_type": "display_data"
    },
    {
     "name": "stdout",
     "output_type": "stream",
     "text": [
      "SHAP values difference: 1.8811930146966915e-07\n",
      "Background count: 10\n",
      "Background min diff: -0.3665313720703125\n",
      "Background max diff: 0.4748687744140625\n"
     ]
    },
    {
     "data": {
      "application/vnd.jupyter.widget-view+json": {
       "model_id": "a51f79657b2c43b8a4137f0893bc80eb",
       "version_major": 2,
       "version_minor": 0
      },
      "text/plain": [
       "  0%|          | 0/1 [00:00<?, ?it/s]"
      ]
     },
     "metadata": {},
     "output_type": "display_data"
    },
    {
     "name": "stdout",
     "output_type": "stream",
     "text": [
      "SHAP values difference: -1.6097594368602586e-07\n",
      "Background count: 10\n",
      "Background min diff: -1.8554668426513672\n",
      "Background max diff: 1.5292682647705078\n"
     ]
    },
    {
     "data": {
      "application/vnd.jupyter.widget-view+json": {
       "model_id": "a9b501ddbc144979a2e922a56382f7f9",
       "version_major": 2,
       "version_minor": 0
      },
      "text/plain": [
       "  0%|          | 0/1 [00:00<?, ?it/s]"
      ]
     },
     "metadata": {},
     "output_type": "display_data"
    },
    {
     "name": "stdout",
     "output_type": "stream",
     "text": [
      "SHAP values difference: -4.889223355064587e-07\n",
      "Background count: 10\n",
      "Background min diff: -0.16121292114257812\n",
      "Background max diff: 1.1450614929199219\n"
     ]
    },
    {
     "data": {
      "application/vnd.jupyter.widget-view+json": {
       "model_id": "38a2f2ebe6a94d489c9cc5d91570acf7",
       "version_major": 2,
       "version_minor": 0
      },
      "text/plain": [
       "  0%|          | 0/1 [00:00<?, ?it/s]"
      ]
     },
     "metadata": {},
     "output_type": "display_data"
    },
    {
     "name": "stdout",
     "output_type": "stream",
     "text": [
      "SHAP values difference: -7.724652455465275e-07\n",
      "SHAP values correction 2\n",
      "Background count: 10\n",
      "Background min diff: -1.052093505859375\n",
      "Background max diff: 0.739013671875\n"
     ]
    },
    {
     "data": {
      "application/vnd.jupyter.widget-view+json": {
       "model_id": "1b9260e759d9413d882efbaa156ba782",
       "version_major": 2,
       "version_minor": 0
      },
      "text/plain": [
       "  0%|          | 0/1 [00:00<?, ?it/s]"
      ]
     },
     "metadata": {},
     "output_type": "display_data"
    },
    {
     "name": "stdout",
     "output_type": "stream",
     "text": [
      "SHAP values difference: 3.379561022143207e-07\n",
      "Background count: 10\n",
      "Background min diff: -1.1947097778320312\n",
      "Background max diff: 1.1036605834960938\n"
     ]
    },
    {
     "data": {
      "application/vnd.jupyter.widget-view+json": {
       "model_id": "d051564492814658962b21fe45a01710",
       "version_major": 2,
       "version_minor": 0
      },
      "text/plain": [
       "  0%|          | 0/1 [00:00<?, ?it/s]"
      ]
     },
     "metadata": {},
     "output_type": "display_data"
    },
    {
     "name": "stdout",
     "output_type": "stream",
     "text": [
      "SHAP values difference: 9.545822265977222e-08\n",
      "SHAP values correction 2\n",
      "Background count: 10\n",
      "Background min diff: -0.39092254638671875\n",
      "Background max diff: 0.5635757446289062\n"
     ]
    },
    {
     "data": {
      "application/vnd.jupyter.widget-view+json": {
       "model_id": "a67fa77bbec147f78be036c3c2afcc3a",
       "version_major": 2,
       "version_minor": 0
      },
      "text/plain": [
       "  0%|          | 0/1 [00:00<?, ?it/s]"
      ]
     },
     "metadata": {},
     "output_type": "display_data"
    },
    {
     "name": "stdout",
     "output_type": "stream",
     "text": [
      "SHAP values difference: -2.4087996486343854e-07\n",
      "SHAP values correction 2\n",
      "Background count: 10\n",
      "Background min diff: -2.5723304748535156\n",
      "Background max diff: 3.6710472106933594\n"
     ]
    },
    {
     "data": {
      "application/vnd.jupyter.widget-view+json": {
       "model_id": "adb3fcc4493b4924a0a657938445a11d",
       "version_major": 2,
       "version_minor": 0
      },
      "text/plain": [
       "  0%|          | 0/1 [00:00<?, ?it/s]"
      ]
     },
     "metadata": {},
     "output_type": "display_data"
    },
    {
     "name": "stdout",
     "output_type": "stream",
     "text": [
      "SHAP values difference: -4.777684328161058e-07\n",
      "SHAP values correction 2\n",
      "Background count: 10\n",
      "Background min diff: 0.046886444091796875\n",
      "Background max diff: 0.8882865905761719\n"
     ]
    },
    {
     "data": {
      "application/vnd.jupyter.widget-view+json": {
       "model_id": "80089fc9e18845ce9e4fbeca04dae8c6",
       "version_major": 2,
       "version_minor": 0
      },
      "text/plain": [
       "  0%|          | 0/1 [00:00<?, ?it/s]"
      ]
     },
     "metadata": {},
     "output_type": "display_data"
    },
    {
     "name": "stdout",
     "output_type": "stream",
     "text": [
      "SHAP values difference: -5.45412248698085e-09\n",
      "Background count: 10\n",
      "Background min diff: -3.132080078125\n",
      "Background max diff: 3.408660888671875\n"
     ]
    },
    {
     "data": {
      "application/vnd.jupyter.widget-view+json": {
       "model_id": "1de15a52ea8849a6ba88f1d13e2a9fc6",
       "version_major": 2,
       "version_minor": 0
      },
      "text/plain": [
       "  0%|          | 0/1 [00:00<?, ?it/s]"
      ]
     },
     "metadata": {},
     "output_type": "display_data"
    },
    {
     "name": "stdout",
     "output_type": "stream",
     "text": [
      "SHAP values difference: 1.4780525603441674e-07\n",
      "SHAP values correction 2\n",
      "Background count: 10\n",
      "Background min diff: -0.6802482604980469\n",
      "Background max diff: 0.6991462707519531\n"
     ]
    },
    {
     "data": {
      "application/vnd.jupyter.widget-view+json": {
       "model_id": "1bff675bd38f490ca59e39c5917f4ada",
       "version_major": 2,
       "version_minor": 0
      },
      "text/plain": [
       "  0%|          | 0/1 [00:00<?, ?it/s]"
      ]
     },
     "metadata": {},
     "output_type": "display_data"
    },
    {
     "name": "stdout",
     "output_type": "stream",
     "text": [
      "SHAP values difference: -1.6050115902999096e-07\n",
      "Background count: 10\n",
      "Background min diff: -0.8055801391601562\n",
      "Background max diff: 1.4304428100585938\n"
     ]
    },
    {
     "data": {
      "application/vnd.jupyter.widget-view+json": {
       "model_id": "dcda1e41013f4a279fb8205cbebc3916",
       "version_major": 2,
       "version_minor": 0
      },
      "text/plain": [
       "  0%|          | 0/1 [00:00<?, ?it/s]"
      ]
     },
     "metadata": {},
     "output_type": "display_data"
    },
    {
     "name": "stdout",
     "output_type": "stream",
     "text": [
      "SHAP values difference: -3.134854225095296e-07\n",
      "Background count: 10\n",
      "Background min diff: -1.0099639892578125\n",
      "Background max diff: 0.1227264404296875\n"
     ]
    },
    {
     "data": {
      "application/vnd.jupyter.widget-view+json": {
       "model_id": "d5317f9903c249b2b66c64e4c8030424",
       "version_major": 2,
       "version_minor": 0
      },
      "text/plain": [
       "  0%|          | 0/1 [00:00<?, ?it/s]"
      ]
     },
     "metadata": {},
     "output_type": "display_data"
    },
    {
     "name": "stdout",
     "output_type": "stream",
     "text": [
      "SHAP values difference: -1.0850303056031407e-07\n",
      "Background count: 10\n",
      "Background min diff: -13.401939392089844\n",
      "Background max diff: -2.6553268432617188\n"
     ]
    },
    {
     "data": {
      "application/vnd.jupyter.widget-view+json": {
       "model_id": "473cb7b6926c463988acc13e441e6706",
       "version_major": 2,
       "version_minor": 0
      },
      "text/plain": [
       "  0%|          | 0/1 [00:00<?, ?it/s]"
      ]
     },
     "metadata": {},
     "output_type": "display_data"
    },
    {
     "name": "stdout",
     "output_type": "stream",
     "text": [
      "SHAP values difference: 2.3426437678608636e-08\n",
      "Background count: 10\n",
      "Background min diff: -1.8232460021972656\n",
      "Background max diff: 1.6950035095214844\n"
     ]
    },
    {
     "data": {
      "application/vnd.jupyter.widget-view+json": {
       "model_id": "4d55a377312c4cfab8085ad90bf508df",
       "version_major": 2,
       "version_minor": 0
      },
      "text/plain": [
       "  0%|          | 0/1 [00:00<?, ?it/s]"
      ]
     },
     "metadata": {},
     "output_type": "display_data"
    },
    {
     "name": "stdout",
     "output_type": "stream",
     "text": [
      "SHAP values difference: 7.969422721743058e-08\n",
      "SHAP values correction 2\n",
      "Background count: 10\n",
      "Background min diff: -0.9219636917114258\n",
      "Background max diff: 4.691775321960449\n"
     ]
    },
    {
     "data": {
      "application/vnd.jupyter.widget-view+json": {
       "model_id": "db882c1079cf4488b7d54f18377541de",
       "version_major": 2,
       "version_minor": 0
      },
      "text/plain": [
       "  0%|          | 0/1 [00:00<?, ?it/s]"
      ]
     },
     "metadata": {},
     "output_type": "display_data"
    },
    {
     "name": "stdout",
     "output_type": "stream",
     "text": [
      "SHAP values difference: -5.267808660391893e-07\n",
      "Background count: 10\n",
      "Background min diff: -1.5065422058105469\n",
      "Background max diff: 1.5896492004394531\n"
     ]
    },
    {
     "data": {
      "application/vnd.jupyter.widget-view+json": {
       "model_id": "242e584e550846308a65a5f69e7d8175",
       "version_major": 2,
       "version_minor": 0
      },
      "text/plain": [
       "  0%|          | 0/1 [00:00<?, ?it/s]"
      ]
     },
     "metadata": {},
     "output_type": "display_data"
    },
    {
     "name": "stdout",
     "output_type": "stream",
     "text": [
      "SHAP values difference: 1.5227616145807588e-07\n",
      "SHAP values correction 1\n",
      "SHAP values correction 2\n",
      "Background count: 10\n",
      "Background min diff: -0.8822402954101562\n",
      "Background max diff: 1.3537826538085938\n"
     ]
    },
    {
     "data": {
      "application/vnd.jupyter.widget-view+json": {
       "model_id": "cddf1276c2b342118b04874747ea0ec5",
       "version_major": 2,
       "version_minor": 0
      },
      "text/plain": [
       "  0%|          | 0/1 [00:00<?, ?it/s]"
      ]
     },
     "metadata": {},
     "output_type": "display_data"
    },
    {
     "name": "stdout",
     "output_type": "stream",
     "text": [
      "SHAP values difference: -1.1398401511542033e-07\n",
      "Background count: 10\n",
      "Background min diff: -0.7634429931640625\n",
      "Background max diff: 0.9024810791015625\n"
     ]
    },
    {
     "data": {
      "application/vnd.jupyter.widget-view+json": {
       "model_id": "6209685ad4014ac7804ae4698fdd5741",
       "version_major": 2,
       "version_minor": 0
      },
      "text/plain": [
       "  0%|          | 0/1 [00:00<?, ?it/s]"
      ]
     },
     "metadata": {},
     "output_type": "display_data"
    },
    {
     "name": "stdout",
     "output_type": "stream",
     "text": [
      "SHAP values difference: -1.846693109541775e-08\n",
      "SHAP values correction 2\n",
      "Background count: 10\n",
      "Background min diff: -3.5305747985839844\n",
      "Background max diff: 2.7128028869628906\n"
     ]
    },
    {
     "data": {
      "application/vnd.jupyter.widget-view+json": {
       "model_id": "32bf3a2a79fc469e9059d1829cb01094",
       "version_major": 2,
       "version_minor": 0
      },
      "text/plain": [
       "  0%|          | 0/1 [00:00<?, ?it/s]"
      ]
     },
     "metadata": {},
     "output_type": "display_data"
    },
    {
     "name": "stdout",
     "output_type": "stream",
     "text": [
      "SHAP values difference: -1.1741697392153583e-08\n",
      "Background count: 10\n",
      "Background min diff: -2.3937816619873047\n",
      "Background max diff: 2.8615589141845703\n"
     ]
    },
    {
     "data": {
      "application/vnd.jupyter.widget-view+json": {
       "model_id": "9c8a5dcd2193495fa3481cf6c16458b9",
       "version_major": 2,
       "version_minor": 0
      },
      "text/plain": [
       "  0%|          | 0/1 [00:00<?, ?it/s]"
      ]
     },
     "metadata": {},
     "output_type": "display_data"
    },
    {
     "name": "stdout",
     "output_type": "stream",
     "text": [
      "SHAP values difference: -2.1214926704260506e-07\n",
      "Background count: 10\n",
      "Background min diff: -1.3065452575683594\n",
      "Background max diff: 1.2940711975097656\n"
     ]
    },
    {
     "data": {
      "application/vnd.jupyter.widget-view+json": {
       "model_id": "cd9a2a5c424641a3a3b88e4ada7f8876",
       "version_major": 2,
       "version_minor": 0
      },
      "text/plain": [
       "  0%|          | 0/1 [00:00<?, ?it/s]"
      ]
     },
     "metadata": {},
     "output_type": "display_data"
    },
    {
     "name": "stdout",
     "output_type": "stream",
     "text": [
      "SHAP values difference: -1.3358405581698207e-07\n",
      "SHAP values correction 2\n",
      "Background count: 10\n",
      "Background min diff: -1.0278778076171875\n",
      "Background max diff: 0.9038238525390625\n"
     ]
    },
    {
     "data": {
      "application/vnd.jupyter.widget-view+json": {
       "model_id": "5eb85d713d6f452abcf95da758ea4349",
       "version_major": 2,
       "version_minor": 0
      },
      "text/plain": [
       "  0%|          | 0/1 [00:00<?, ?it/s]"
      ]
     },
     "metadata": {},
     "output_type": "display_data"
    },
    {
     "name": "stdout",
     "output_type": "stream",
     "text": [
      "SHAP values difference: 2.712154270056999e-07\n",
      "Background count: 10\n",
      "Background min diff: -0.8073616027832031\n",
      "Background max diff: 0.3253288269042969\n"
     ]
    },
    {
     "data": {
      "application/vnd.jupyter.widget-view+json": {
       "model_id": "0d5534ad9d4c45f39fd1129e2291d322",
       "version_major": 2,
       "version_minor": 0
      },
      "text/plain": [
       "  0%|          | 0/1 [00:00<?, ?it/s]"
      ]
     },
     "metadata": {},
     "output_type": "display_data"
    },
    {
     "name": "stdout",
     "output_type": "stream",
     "text": [
      "SHAP values difference: 8.515711646950308e-08\n",
      "SHAP values correction 2\n",
      "Background count: 10\n",
      "Background min diff: -1.0922908782958984\n",
      "Background max diff: 2.1485538482666016\n"
     ]
    },
    {
     "data": {
      "application/vnd.jupyter.widget-view+json": {
       "model_id": "b6e9f2bea15d4585a760081531ab173b",
       "version_major": 2,
       "version_minor": 0
      },
      "text/plain": [
       "  0%|          | 0/1 [00:00<?, ?it/s]"
      ]
     },
     "metadata": {},
     "output_type": "display_data"
    },
    {
     "name": "stdout",
     "output_type": "stream",
     "text": [
      "SHAP values difference: 4.955415988661116e-08\n",
      "Background count: 10\n",
      "Background min diff: -1.2254486083984375\n",
      "Background max diff: 1.1860809326171875\n"
     ]
    },
    {
     "data": {
      "application/vnd.jupyter.widget-view+json": {
       "model_id": "87ea1d78c68f4898a40752a50445e42b",
       "version_major": 2,
       "version_minor": 0
      },
      "text/plain": [
       "  0%|          | 0/1 [00:00<?, ?it/s]"
      ]
     },
     "metadata": {},
     "output_type": "display_data"
    },
    {
     "name": "stdout",
     "output_type": "stream",
     "text": [
      "SHAP values difference: -3.184160348723708e-07\n",
      "Background count: 10\n",
      "Background min diff: -0.4092903137207031\n",
      "Background max diff: 0.3185234069824219\n"
     ]
    },
    {
     "data": {
      "application/vnd.jupyter.widget-view+json": {
       "model_id": "6569e3ec37e840399d5f1682496347f3",
       "version_major": 2,
       "version_minor": 0
      },
      "text/plain": [
       "  0%|          | 0/1 [00:00<?, ?it/s]"
      ]
     },
     "metadata": {},
     "output_type": "display_data"
    },
    {
     "name": "stdout",
     "output_type": "stream",
     "text": [
      "SHAP values difference: 2.789902353583784e-08\n",
      "SHAP values correction 2\n",
      "Background count: 10\n",
      "Background min diff: -0.5582160949707031\n",
      "Background max diff: 0.5744743347167969\n"
     ]
    },
    {
     "data": {
      "application/vnd.jupyter.widget-view+json": {
       "model_id": "cffcb1db53874861b5f712c4108ea5c8",
       "version_major": 2,
       "version_minor": 0
      },
      "text/plain": [
       "  0%|          | 0/1 [00:00<?, ?it/s]"
      ]
     },
     "metadata": {},
     "output_type": "display_data"
    },
    {
     "name": "stdout",
     "output_type": "stream",
     "text": [
      "SHAP values difference: 1.4010608735404162e-06\n",
      "SHAP values correction 2\n",
      "Background count: 10\n",
      "Background min diff: -2.8783226013183594\n",
      "Background max diff: 3.5216712951660156\n"
     ]
    },
    {
     "data": {
      "application/vnd.jupyter.widget-view+json": {
       "model_id": "b77b0c55632d47b7a3985a10c126b01b",
       "version_major": 2,
       "version_minor": 0
      },
      "text/plain": [
       "  0%|          | 0/1 [00:00<?, ?it/s]"
      ]
     },
     "metadata": {},
     "output_type": "display_data"
    },
    {
     "name": "stdout",
     "output_type": "stream",
     "text": [
      "SHAP values difference: -1.5468652492245383e-07\n",
      "Background count: 10\n",
      "Background min diff: -1.8314590454101562\n",
      "Background max diff: 1.6867904663085938\n"
     ]
    },
    {
     "data": {
      "application/vnd.jupyter.widget-view+json": {
       "model_id": "91a26dcf9eab44728944b15ed6523b81",
       "version_major": 2,
       "version_minor": 0
      },
      "text/plain": [
       "  0%|          | 0/1 [00:00<?, ?it/s]"
      ]
     },
     "metadata": {},
     "output_type": "display_data"
    },
    {
     "name": "stdout",
     "output_type": "stream",
     "text": [
      "SHAP values difference: -7.74279627080432e-08\n",
      "SHAP values correction 2\n",
      "Background count: 10\n",
      "Background min diff: -4.5093994140625\n",
      "Background max diff: 6.237213134765625\n"
     ]
    },
    {
     "data": {
      "application/vnd.jupyter.widget-view+json": {
       "model_id": "872c176c79084770aa3626294d9f227a",
       "version_major": 2,
       "version_minor": 0
      },
      "text/plain": [
       "  0%|          | 0/1 [00:00<?, ?it/s]"
      ]
     },
     "metadata": {},
     "output_type": "display_data"
    },
    {
     "name": "stdout",
     "output_type": "stream",
     "text": [
      "SHAP values difference: 2.0824842650313258e-07\n",
      "Background count: 10\n",
      "Background min diff: -1.0525188446044922\n",
      "Background max diff: 0.8791828155517578\n"
     ]
    },
    {
     "data": {
      "application/vnd.jupyter.widget-view+json": {
       "model_id": "9b45f2598b3d428ebd99ba95021f8762",
       "version_major": 2,
       "version_minor": 0
      },
      "text/plain": [
       "  0%|          | 0/1 [00:00<?, ?it/s]"
      ]
     },
     "metadata": {},
     "output_type": "display_data"
    },
    {
     "name": "stdout",
     "output_type": "stream",
     "text": [
      "SHAP values difference: 3.968485486893769e-07\n",
      "Background count: 10\n",
      "Background min diff: -1.0271682739257812\n",
      "Background max diff: 1.2668685913085938\n"
     ]
    },
    {
     "data": {
      "application/vnd.jupyter.widget-view+json": {
       "model_id": "06f13d0d3ef44793ad6d7f811e6cb901",
       "version_major": 2,
       "version_minor": 0
      },
      "text/plain": [
       "  0%|          | 0/1 [00:00<?, ?it/s]"
      ]
     },
     "metadata": {},
     "output_type": "display_data"
    },
    {
     "name": "stdout",
     "output_type": "stream",
     "text": [
      "SHAP values difference: -6.794946116883693e-08\n",
      "SHAP values correction 1\n",
      "Background count: 10\n",
      "Background min diff: -0.5280838012695312\n",
      "Background max diff: 0.7781906127929688\n"
     ]
    },
    {
     "data": {
      "application/vnd.jupyter.widget-view+json": {
       "model_id": "bc328739b5a846d89c451efa4d24576b",
       "version_major": 2,
       "version_minor": 0
      },
      "text/plain": [
       "  0%|          | 0/1 [00:00<?, ?it/s]"
      ]
     },
     "metadata": {},
     "output_type": "display_data"
    },
    {
     "name": "stdout",
     "output_type": "stream",
     "text": [
      "SHAP values difference: 1.4543027226920913e-08\n",
      "SHAP values correction 2\n",
      "Background count: 10\n",
      "Background min diff: -3.2169761657714844\n",
      "Background max diff: 3.4030189514160156\n"
     ]
    },
    {
     "data": {
      "application/vnd.jupyter.widget-view+json": {
       "model_id": "62068479efe1432197c4b6937860e6bf",
       "version_major": 2,
       "version_minor": 0
      },
      "text/plain": [
       "  0%|          | 0/1 [00:00<?, ?it/s]"
      ]
     },
     "metadata": {},
     "output_type": "display_data"
    },
    {
     "name": "stdout",
     "output_type": "stream",
     "text": [
      "SHAP values difference: 1.6745079189917078e-07\n",
      "SHAP values correction 1\n",
      "SHAP values correction 2\n",
      "Background count: 10\n",
      "Background min diff: -0.7115364074707031\n",
      "Background max diff: 0.4211540222167969\n"
     ]
    },
    {
     "data": {
      "application/vnd.jupyter.widget-view+json": {
       "model_id": "63c098236a0049d9812ba6a3cf9b4567",
       "version_major": 2,
       "version_minor": 0
      },
      "text/plain": [
       "  0%|          | 0/1 [00:00<?, ?it/s]"
      ]
     },
     "metadata": {},
     "output_type": "display_data"
    },
    {
     "name": "stdout",
     "output_type": "stream",
     "text": [
      "SHAP values difference: -3.6835098526921684e-07\n",
      "SHAP values correction 1\n",
      "Background count: 10\n",
      "Background min diff: -2.078380584716797\n",
      "Background max diff: 1.5278816223144531\n"
     ]
    },
    {
     "data": {
      "application/vnd.jupyter.widget-view+json": {
       "model_id": "bc6ed918b94b4c44a1c763fe74456a82",
       "version_major": 2,
       "version_minor": 0
      },
      "text/plain": [
       "  0%|          | 0/1 [00:00<?, ?it/s]"
      ]
     },
     "metadata": {},
     "output_type": "display_data"
    },
    {
     "name": "stdout",
     "output_type": "stream",
     "text": [
      "SHAP values difference: 2.4907333084911443e-07\n",
      "SHAP values correction 2\n",
      "Background count: 10\n",
      "Background min diff: -0.6260643005371094\n",
      "Background max diff: 0.3818397521972656\n"
     ]
    },
    {
     "data": {
      "application/vnd.jupyter.widget-view+json": {
       "model_id": "0aaa065ecc08450e8e9343045a6c77cc",
       "version_major": 2,
       "version_minor": 0
      },
      "text/plain": [
       "  0%|          | 0/1 [00:00<?, ?it/s]"
      ]
     },
     "metadata": {},
     "output_type": "display_data"
    },
    {
     "name": "stdout",
     "output_type": "stream",
     "text": [
      "SHAP values difference: 2.7947657343929677e-07\n",
      "Background count: 10\n",
      "Background min diff: -0.8297576904296875\n",
      "Background max diff: -0.0656585693359375\n"
     ]
    },
    {
     "data": {
      "application/vnd.jupyter.widget-view+json": {
       "model_id": "65de6ae66345497b8991543f2ecd8c6c",
       "version_major": 2,
       "version_minor": 0
      },
      "text/plain": [
       "  0%|          | 0/1 [00:00<?, ?it/s]"
      ]
     },
     "metadata": {},
     "output_type": "display_data"
    },
    {
     "name": "stdout",
     "output_type": "stream",
     "text": [
      "SHAP values difference: -5.021769045043811e-07\n",
      "SHAP values correction 2\n",
      "Background count: 10\n",
      "Background min diff: -0.9600334167480469\n",
      "Background max diff: 0.4700202941894531\n"
     ]
    },
    {
     "data": {
      "application/vnd.jupyter.widget-view+json": {
       "model_id": "45055a03d089469ea6750462679b3ccd",
       "version_major": 2,
       "version_minor": 0
      },
      "text/plain": [
       "  0%|          | 0/1 [00:00<?, ?it/s]"
      ]
     },
     "metadata": {},
     "output_type": "display_data"
    },
    {
     "name": "stdout",
     "output_type": "stream",
     "text": [
      "SHAP values difference: -5.006718417632783e-08\n",
      "Background count: 10\n",
      "Background min diff: -1.3363761901855469\n",
      "Background max diff: 1.5034980773925781\n"
     ]
    },
    {
     "data": {
      "application/vnd.jupyter.widget-view+json": {
       "model_id": "36de6fdc5cef459d8c5c18a3d4761e7e",
       "version_major": 2,
       "version_minor": 0
      },
      "text/plain": [
       "  0%|          | 0/1 [00:00<?, ?it/s]"
      ]
     },
     "metadata": {},
     "output_type": "display_data"
    },
    {
     "name": "stdout",
     "output_type": "stream",
     "text": [
      "SHAP values difference: 4.254559975436223e-07\n",
      "Background count: 10\n",
      "Background min diff: -5.954986572265625\n",
      "Background max diff: 4.7916259765625\n"
     ]
    },
    {
     "data": {
      "application/vnd.jupyter.widget-view+json": {
       "model_id": "9cdcdbf0f91f422084430ae1e2fa1f89",
       "version_major": 2,
       "version_minor": 0
      },
      "text/plain": [
       "  0%|          | 0/1 [00:00<?, ?it/s]"
      ]
     },
     "metadata": {},
     "output_type": "display_data"
    },
    {
     "name": "stdout",
     "output_type": "stream",
     "text": [
      "SHAP values difference: 3.355039837060758e-07\n",
      "Background count: 10\n",
      "Background min diff: -1.6891422271728516\n",
      "Background max diff: 1.5517024993896484\n"
     ]
    },
    {
     "data": {
      "application/vnd.jupyter.widget-view+json": {
       "model_id": "8b401ecfeb654eafb2f05c00267e7792",
       "version_major": 2,
       "version_minor": 0
      },
      "text/plain": [
       "  0%|          | 0/1 [00:00<?, ?it/s]"
      ]
     },
     "metadata": {},
     "output_type": "display_data"
    },
    {
     "name": "stdout",
     "output_type": "stream",
     "text": [
      "SHAP values difference: -1.5567050115627978e-07\n",
      "SHAP values correction 1\n",
      "SHAP values correction 2\n",
      "Background count: 10\n",
      "Background min diff: -0.3166847229003906\n",
      "Background max diff: 0.6912193298339844\n"
     ]
    },
    {
     "data": {
      "application/vnd.jupyter.widget-view+json": {
       "model_id": "c527ed82629049b5a37df8f3812b3289",
       "version_major": 2,
       "version_minor": 0
      },
      "text/plain": [
       "  0%|          | 0/1 [00:00<?, ?it/s]"
      ]
     },
     "metadata": {},
     "output_type": "display_data"
    },
    {
     "name": "stdout",
     "output_type": "stream",
     "text": [
      "SHAP values difference: 1.6001155955791546e-07\n",
      "Background count: 10\n",
      "Background min diff: -0.7827186584472656\n",
      "Background max diff: 0.3499717712402344\n"
     ]
    },
    {
     "data": {
      "application/vnd.jupyter.widget-view+json": {
       "model_id": "7a41f22c9d5a471e9ad149ac48732584",
       "version_major": 2,
       "version_minor": 0
      },
      "text/plain": [
       "  0%|          | 0/1 [00:00<?, ?it/s]"
      ]
     },
     "metadata": {},
     "output_type": "display_data"
    },
    {
     "name": "stdout",
     "output_type": "stream",
     "text": [
      "SHAP values difference: -1.4845127793705615e-07\n",
      "Background count: 10\n",
      "Background min diff: -3.281269073486328\n",
      "Background max diff: 2.914104461669922\n"
     ]
    },
    {
     "data": {
      "application/vnd.jupyter.widget-view+json": {
       "model_id": "a4c3ff0d63be48ae95ff105b11f87a25",
       "version_major": 2,
       "version_minor": 0
      },
      "text/plain": [
       "  0%|          | 0/1 [00:00<?, ?it/s]"
      ]
     },
     "metadata": {},
     "output_type": "display_data"
    },
    {
     "name": "stdout",
     "output_type": "stream",
     "text": [
      "SHAP values difference: 2.5138948345215795e-07\n",
      "SHAP values correction 2\n",
      "Background count: 10\n",
      "Background min diff: -0.5616188049316406\n",
      "Background max diff: 0.7355918884277344\n"
     ]
    },
    {
     "data": {
      "application/vnd.jupyter.widget-view+json": {
       "model_id": "a53be7b8c9bb4469ba8de070c8285060",
       "version_major": 2,
       "version_minor": 0
      },
      "text/plain": [
       "  0%|          | 0/1 [00:00<?, ?it/s]"
      ]
     },
     "metadata": {},
     "output_type": "display_data"
    },
    {
     "name": "stdout",
     "output_type": "stream",
     "text": [
      "SHAP values difference: -4.5667145087691097e-07\n",
      "Background count: 10\n",
      "Background min diff: -2.138050079345703\n",
      "Background max diff: 2.095256805419922\n"
     ]
    },
    {
     "data": {
      "application/vnd.jupyter.widget-view+json": {
       "model_id": "e56d141aab4c42cea3efa910de564b88",
       "version_major": 2,
       "version_minor": 0
      },
      "text/plain": [
       "  0%|          | 0/1 [00:00<?, ?it/s]"
      ]
     },
     "metadata": {},
     "output_type": "display_data"
    },
    {
     "name": "stdout",
     "output_type": "stream",
     "text": [
      "SHAP values difference: -8.574830623331309e-08\n",
      "Background count: 10\n",
      "Background min diff: -2.5340003967285156\n",
      "Background max diff: 3.7093772888183594\n"
     ]
    },
    {
     "data": {
      "application/vnd.jupyter.widget-view+json": {
       "model_id": "35f1f903d436472089cdb249759038d7",
       "version_major": 2,
       "version_minor": 0
      },
      "text/plain": [
       "  0%|          | 0/1 [00:00<?, ?it/s]"
      ]
     },
     "metadata": {},
     "output_type": "display_data"
    },
    {
     "name": "stdout",
     "output_type": "stream",
     "text": [
      "SHAP values difference: -3.8171541660858566e-07\n",
      "Background count: 10\n",
      "Background min diff: -0.9226188659667969\n",
      "Background max diff: 1.8069038391113281\n"
     ]
    },
    {
     "data": {
      "application/vnd.jupyter.widget-view+json": {
       "model_id": "bf6ddc79c6f04cce9e8d3759f7a26fa8",
       "version_major": 2,
       "version_minor": 0
      },
      "text/plain": [
       "  0%|          | 0/1 [00:00<?, ?it/s]"
      ]
     },
     "metadata": {},
     "output_type": "display_data"
    },
    {
     "name": "stdout",
     "output_type": "stream",
     "text": [
      "SHAP values difference: 2.798616769439377e-07\n",
      "SHAP values correction 2\n",
      "Background count: 10\n",
      "Background min diff: -2.6550235748291016\n",
      "Background max diff: 2.9587154388427734\n"
     ]
    },
    {
     "data": {
      "application/vnd.jupyter.widget-view+json": {
       "model_id": "83fa8323ceb7461998d7aeb25aa8c56c",
       "version_major": 2,
       "version_minor": 0
      },
      "text/plain": [
       "  0%|          | 0/1 [00:00<?, ?it/s]"
      ]
     },
     "metadata": {},
     "output_type": "display_data"
    },
    {
     "name": "stdout",
     "output_type": "stream",
     "text": [
      "SHAP values difference: -2.430659638008592e-07\n",
      "SHAP values correction 2\n",
      "Background count: 10\n",
      "Background min diff: -0.6774406433105469\n",
      "Background max diff: 0.3591804504394531\n"
     ]
    },
    {
     "data": {
      "application/vnd.jupyter.widget-view+json": {
       "model_id": "0b522138f30f41d8bf961a0beedbc592",
       "version_major": 2,
       "version_minor": 0
      },
      "text/plain": [
       "  0%|          | 0/1 [00:00<?, ?it/s]"
      ]
     },
     "metadata": {},
     "output_type": "display_data"
    },
    {
     "name": "stdout",
     "output_type": "stream",
     "text": [
      "SHAP values difference: 2.6993983226475393e-07\n",
      "SHAP values correction 2\n",
      "Background count: 10\n",
      "Background min diff: -3.2119827270507812\n",
      "Background max diff: 3.3868331909179688\n"
     ]
    },
    {
     "data": {
      "application/vnd.jupyter.widget-view+json": {
       "model_id": "505662baa4b246e29b8185f1b46b4186",
       "version_major": 2,
       "version_minor": 0
      },
      "text/plain": [
       "  0%|          | 0/1 [00:00<?, ?it/s]"
      ]
     },
     "metadata": {},
     "output_type": "display_data"
    },
    {
     "name": "stdout",
     "output_type": "stream",
     "text": [
      "SHAP values difference: -1.101254123447859e-07\n",
      "SHAP values correction 2\n"
     ]
    },
    {
     "name": "stderr",
     "output_type": "stream",
     "text": [
      "C:\\Users\\user\\AppData\\Local\\Temp\\ipykernel_26220\\1336789382.py:330: FutureWarning: A value is trying to be set on a copy of a DataFrame or Series through chained assignment using an inplace method.\n",
      "The behavior will change in pandas 3.0. This inplace method will never work because the intermediate object on which we are setting values always behaves as a copy.\n",
      "\n",
      "For example, when doing 'df[col].method(value, inplace=True)', try using 'df.method({col: value}, inplace=True)' or df[col] = df[col].method(value) instead, to perform the operation inplace on the original object.\n",
      "\n",
      "\n",
      "  df_fig['Group'].replace(groups_rename, inplace=True)\n",
      "C:\\Users\\user\\AppData\\Local\\Temp\\ipykernel_26220\\1336789382.py:333: FutureWarning: \n",
      "\n",
      "Passing `palette` without assigning `hue` is deprecated and will be removed in v0.14.0. Assign the `x` variable to `hue` and set `legend=False` for the same effect.\n",
      "\n",
      "  violin = sns.violinplot(\n",
      "C:\\Users\\user\\AppData\\Local\\Temp\\ipykernel_26220\\1336789382.py:333: FutureWarning: \n",
      "\n",
      "The `scale` parameter has been renamed and will be removed in v0.15.0. Pass `density_norm='width'` for the same effect.\n",
      "  violin = sns.violinplot(\n",
      "C:\\Users\\user\\AppData\\Local\\Temp\\ipykernel_26220\\1336789382.py:358: FutureWarning: A value is trying to be set on a copy of a DataFrame or Series through chained assignment using an inplace method.\n",
      "The behavior will change in pandas 3.0. This inplace method will never work because the intermediate object on which we are setting values always behaves as a copy.\n",
      "\n",
      "For example, when doing 'df[col].method(value, inplace=True)', try using 'df.method({col: value}, inplace=True)' or df[col] = df[col].method(value) instead, to perform the operation inplace on the original object.\n",
      "\n",
      "\n",
      "  df_fig['Group'].replace(groups_rename, inplace=True)\n",
      "C:\\Users\\user\\AppData\\Local\\Temp\\ipykernel_26220\\1336789382.py:361: FutureWarning: \n",
      "\n",
      "Passing `palette` without assigning `hue` is deprecated and will be removed in v0.14.0. Assign the `x` variable to `hue` and set `legend=False` for the same effect.\n",
      "\n",
      "  violin = sns.violinplot(\n",
      "C:\\Users\\user\\AppData\\Local\\Temp\\ipykernel_26220\\1336789382.py:361: FutureWarning: \n",
      "\n",
      "The `scale` parameter has been renamed and will be removed in v0.15.0. Pass `density_norm='width'` for the same effect.\n",
      "  violin = sns.violinplot(\n",
      "c:\\Users\\user\\anaconda3\\envs\\py312\\Lib\\site-packages\\pytorch_tabular\\tabular_datamodule.py:378: FutureWarning: Setting an item of incompatible dtype is deprecated and will raise in a future error of pandas. Value '[18.80095684 18.9402699  16.48399137 ... 18.66054934 18.30457686\n",
      " 18.87074865]' has dtype incompatible with int64, please explicitly cast to a compatible dtype first.\n",
      "  data.loc[:, self.config.continuous_cols] = self.continuous_transform.transform(\n"
     ]
    },
    {
     "data": {
      "text/html": [
       "<pre style=\"white-space:pre;overflow-x:auto;line-height:normal;font-family:Menlo,'DejaVu Sans Mono',consolas,'Courier New',monospace\"><span style=\"color: #008080; text-decoration-color: #008080; font-weight: bold\">2025</span>-<span style=\"color: #008080; text-decoration-color: #008080; font-weight: bold\">10</span>-<span style=\"color: #008080; text-decoration-color: #008080; font-weight: bold\">22</span> <span style=\"color: #00ff00; text-decoration-color: #00ff00; font-weight: bold\">14:31:17</span>,<span style=\"color: #008080; text-decoration-color: #008080; font-weight: bold\">068</span> - <span style=\"font-weight: bold\">{</span>pytorch_tabular.tabular_model:<span style=\"color: #008080; text-decoration-color: #008080; font-weight: bold\">171</span><span style=\"font-weight: bold\">}</span> - INFO - Experiment Tracking is turned off           \n",
       "</pre>\n"
      ],
      "text/plain": [
       "\u001b[1;36m2025\u001b[0m-\u001b[1;36m10\u001b[0m-\u001b[1;36m22\u001b[0m \u001b[1;92m14:31:17\u001b[0m,\u001b[1;36m068\u001b[0m - \u001b[1m{\u001b[0mpytorch_tabular.tabular_model:\u001b[1;36m171\u001b[0m\u001b[1m}\u001b[0m - INFO - Experiment Tracking is turned off           \n"
      ]
     },
     "metadata": {},
     "output_type": "display_data"
    },
    {
     "data": {
      "text/html": [
       "<pre style=\"white-space:pre;overflow-x:auto;line-height:normal;font-family:Menlo,'DejaVu Sans Mono',consolas,'Courier New',monospace\"><span style=\"color: #008080; text-decoration-color: #008080; font-weight: bold\">2025</span>-<span style=\"color: #008080; text-decoration-color: #008080; font-weight: bold\">10</span>-<span style=\"color: #008080; text-decoration-color: #008080; font-weight: bold\">22</span> <span style=\"color: #00ff00; text-decoration-color: #00ff00; font-weight: bold\">14:31:17</span>,<span style=\"color: #008080; text-decoration-color: #008080; font-weight: bold\">080</span> - <span style=\"font-weight: bold\">{</span>pytorch_tabular.tabular_model:<span style=\"color: #008080; text-decoration-color: #008080; font-weight: bold\">342</span><span style=\"font-weight: bold\">}</span> - INFO - Preparing the Trainer                       \n",
       "</pre>\n"
      ],
      "text/plain": [
       "\u001b[1;36m2025\u001b[0m-\u001b[1;36m10\u001b[0m-\u001b[1;36m22\u001b[0m \u001b[1;92m14:31:17\u001b[0m,\u001b[1;36m080\u001b[0m - \u001b[1m{\u001b[0mpytorch_tabular.tabular_model:\u001b[1;36m342\u001b[0m\u001b[1m}\u001b[0m - INFO - Preparing the Trainer                       \n"
      ]
     },
     "metadata": {},
     "output_type": "display_data"
    },
    {
     "name": "stderr",
     "output_type": "stream",
     "text": [
      "c:\\Users\\user\\anaconda3\\envs\\py312\\Lib\\site-packages\\pytorch_tabular\\tabular_datamodule.py:378: FutureWarning: Setting an item of incompatible dtype is deprecated and will raise in a future error of pandas. Value '[18.80095684 18.9402699  16.48399137 ... 18.66054934 18.30457686\n",
      " 18.87074865]' has dtype incompatible with int64, please explicitly cast to a compatible dtype first.\n",
      "  data.loc[:, self.config.continuous_cols] = self.continuous_transform.transform(\n"
     ]
    },
    {
     "name": "stdout",
     "output_type": "stream",
     "text": [
      "Background count: 10\n",
      "Background min diff: -1.4803276062011719\n",
      "Background max diff: 1.5803108215332031\n"
     ]
    },
    {
     "data": {
      "application/vnd.jupyter.widget-view+json": {
       "model_id": "04e7dcf2af4f46afbef93b8431a9888f",
       "version_major": 2,
       "version_minor": 0
      },
      "text/plain": [
       "  0%|          | 0/1 [00:00<?, ?it/s]"
      ]
     },
     "metadata": {},
     "output_type": "display_data"
    },
    {
     "name": "stdout",
     "output_type": "stream",
     "text": [
      "SHAP values difference: -6.327862078769897e-08\n",
      "SHAP values correction 1\n",
      "SHAP values correction 2\n",
      "Background count: 10\n",
      "Background min diff: -1.3205490112304688\n",
      "Background max diff: 1.5597610473632812\n"
     ]
    },
    {
     "data": {
      "application/vnd.jupyter.widget-view+json": {
       "model_id": "e2414fd1f2224adc85d081872fded198",
       "version_major": 2,
       "version_minor": 0
      },
      "text/plain": [
       "  0%|          | 0/1 [00:00<?, ?it/s]"
      ]
     },
     "metadata": {},
     "output_type": "display_data"
    },
    {
     "name": "stdout",
     "output_type": "stream",
     "text": [
      "SHAP values difference: 3.4730595643850393e-07\n",
      "Background count: 10\n",
      "Background min diff: -5.9086761474609375\n",
      "Background max diff: 1.3975372314453125\n"
     ]
    },
    {
     "data": {
      "application/vnd.jupyter.widget-view+json": {
       "model_id": "c9282240428d4517a480ca5155018a96",
       "version_major": 2,
       "version_minor": 0
      },
      "text/plain": [
       "  0%|          | 0/1 [00:00<?, ?it/s]"
      ]
     },
     "metadata": {},
     "output_type": "display_data"
    },
    {
     "name": "stdout",
     "output_type": "stream",
     "text": [
      "SHAP values difference: -2.947323984869854e-07\n",
      "Background count: 10\n",
      "Background min diff: -0.4385948181152344\n",
      "Background max diff: 0.7086524963378906\n"
     ]
    },
    {
     "data": {
      "application/vnd.jupyter.widget-view+json": {
       "model_id": "de67383ef6864e13a384acb70af44d8b",
       "version_major": 2,
       "version_minor": 0
      },
      "text/plain": [
       "  0%|          | 0/1 [00:00<?, ?it/s]"
      ]
     },
     "metadata": {},
     "output_type": "display_data"
    },
    {
     "name": "stdout",
     "output_type": "stream",
     "text": [
      "SHAP values difference: -1.449908282324941e-07\n",
      "Background count: 10\n",
      "Background min diff: -0.9267578125\n",
      "Background max diff: 0.840728759765625\n"
     ]
    },
    {
     "data": {
      "application/vnd.jupyter.widget-view+json": {
       "model_id": "cef9f8cd904149688a0c874b378d5b9e",
       "version_major": 2,
       "version_minor": 0
      },
      "text/plain": [
       "  0%|          | 0/1 [00:00<?, ?it/s]"
      ]
     },
     "metadata": {},
     "output_type": "display_data"
    },
    {
     "name": "stdout",
     "output_type": "stream",
     "text": [
      "SHAP values difference: -1.9645677440394138e-07\n",
      "Background count: 10\n",
      "Background min diff: -1.5373687744140625\n",
      "Background max diff: 1.3660125732421875\n"
     ]
    },
    {
     "data": {
      "application/vnd.jupyter.widget-view+json": {
       "model_id": "d8fd3f674e314e0cb1dc368a0a42c4fc",
       "version_major": 2,
       "version_minor": 0
      },
      "text/plain": [
       "  0%|          | 0/1 [00:00<?, ?it/s]"
      ]
     },
     "metadata": {},
     "output_type": "display_data"
    },
    {
     "name": "stdout",
     "output_type": "stream",
     "text": [
      "SHAP values difference: 3.047855727800197e-07\n",
      "Background count: 10\n",
      "Background min diff: -1.6110076904296875\n",
      "Background max diff: 1.7149810791015625\n"
     ]
    },
    {
     "data": {
      "application/vnd.jupyter.widget-view+json": {
       "model_id": "61e0ee826ec746979dd95748406faec2",
       "version_major": 2,
       "version_minor": 0
      },
      "text/plain": [
       "  0%|          | 0/1 [00:00<?, ?it/s]"
      ]
     },
     "metadata": {},
     "output_type": "display_data"
    },
    {
     "name": "stdout",
     "output_type": "stream",
     "text": [
      "SHAP values difference: 2.1158722773861882e-07\n",
      "Background count: 10\n",
      "Background min diff: -2.8974990844726562\n",
      "Background max diff: 3.5324020385742188\n"
     ]
    },
    {
     "data": {
      "application/vnd.jupyter.widget-view+json": {
       "model_id": "55af49b03c954277bedce2b47cc21cd7",
       "version_major": 2,
       "version_minor": 0
      },
      "text/plain": [
       "  0%|          | 0/1 [00:00<?, ?it/s]"
      ]
     },
     "metadata": {},
     "output_type": "display_data"
    },
    {
     "name": "stdout",
     "output_type": "stream",
     "text": [
      "SHAP values difference: 1.0096604485809735e-07\n",
      "SHAP values correction 2\n",
      "Background count: 10\n",
      "Background min diff: -1.5527019500732422\n",
      "Background max diff: 1.8885822296142578\n"
     ]
    },
    {
     "data": {
      "application/vnd.jupyter.widget-view+json": {
       "model_id": "c24870227be244ea8eff31a981379def",
       "version_major": 2,
       "version_minor": 0
      },
      "text/plain": [
       "  0%|          | 0/1 [00:00<?, ?it/s]"
      ]
     },
     "metadata": {},
     "output_type": "display_data"
    },
    {
     "name": "stdout",
     "output_type": "stream",
     "text": [
      "SHAP values difference: 2.0807979961290357e-07\n",
      "SHAP values correction 2\n",
      "Background count: 10\n",
      "Background min diff: -1.0460205078125\n",
      "Background max diff: 0.97271728515625\n"
     ]
    },
    {
     "data": {
      "application/vnd.jupyter.widget-view+json": {
       "model_id": "2ec8e786397641108538c09a364212d3",
       "version_major": 2,
       "version_minor": 0
      },
      "text/plain": [
       "  0%|          | 0/1 [00:00<?, ?it/s]"
      ]
     },
     "metadata": {},
     "output_type": "display_data"
    },
    {
     "name": "stdout",
     "output_type": "stream",
     "text": [
      "SHAP values difference: 1.0696426322454045e-07\n",
      "SHAP values correction 1\n",
      "SHAP values correction 2\n",
      "Background count: 10\n",
      "Background min diff: -1.0167312622070312\n",
      "Background max diff: 1.1049423217773438\n"
     ]
    },
    {
     "data": {
      "application/vnd.jupyter.widget-view+json": {
       "model_id": "2edec47c7eb14665968f54915a8e0b7d",
       "version_major": 2,
       "version_minor": 0
      },
      "text/plain": [
       "  0%|          | 0/1 [00:00<?, ?it/s]"
      ]
     },
     "metadata": {},
     "output_type": "display_data"
    },
    {
     "name": "stdout",
     "output_type": "stream",
     "text": [
      "SHAP values difference: 9.460234196012607e-08\n",
      "Background count: 10\n",
      "Background min diff: -1.2410812377929688\n",
      "Background max diff: 1.6072158813476562\n"
     ]
    },
    {
     "data": {
      "application/vnd.jupyter.widget-view+json": {
       "model_id": "7a10c3d908934fb3b611c10a5e8de90d",
       "version_major": 2,
       "version_minor": 0
      },
      "text/plain": [
       "  0%|          | 0/1 [00:00<?, ?it/s]"
      ]
     },
     "metadata": {},
     "output_type": "display_data"
    },
    {
     "name": "stdout",
     "output_type": "stream",
     "text": [
      "SHAP values difference: 6.862825330244959e-08\n",
      "Background count: 10\n",
      "Background min diff: -1.3495903015136719\n",
      "Background max diff: 0.8828926086425781\n"
     ]
    },
    {
     "data": {
      "application/vnd.jupyter.widget-view+json": {
       "model_id": "99b7436e9a4c4f01ba02711b1a486072",
       "version_major": 2,
       "version_minor": 0
      },
      "text/plain": [
       "  0%|          | 0/1 [00:00<?, ?it/s]"
      ]
     },
     "metadata": {},
     "output_type": "display_data"
    },
    {
     "name": "stdout",
     "output_type": "stream",
     "text": [
      "SHAP values difference: -4.123508858810965e-07\n",
      "SHAP values correction 2\n",
      "Background count: 10\n",
      "Background min diff: -1.4741134643554688\n",
      "Background max diff: 1.8518753051757812\n"
     ]
    },
    {
     "data": {
      "application/vnd.jupyter.widget-view+json": {
       "model_id": "03fad126b3364519a1e47314bba17576",
       "version_major": 2,
       "version_minor": 0
      },
      "text/plain": [
       "  0%|          | 0/1 [00:00<?, ?it/s]"
      ]
     },
     "metadata": {},
     "output_type": "display_data"
    },
    {
     "name": "stdout",
     "output_type": "stream",
     "text": [
      "SHAP values difference: 6.845579747505326e-08\n",
      "Background count: 10\n",
      "Background min diff: -0.67449951171875\n",
      "Background max diff: 1.447174072265625\n"
     ]
    },
    {
     "data": {
      "application/vnd.jupyter.widget-view+json": {
       "model_id": "bf0826acf0fe4d0181fdd32d6ce28a93",
       "version_major": 2,
       "version_minor": 0
      },
      "text/plain": [
       "  0%|          | 0/1 [00:00<?, ?it/s]"
      ]
     },
     "metadata": {},
     "output_type": "display_data"
    },
    {
     "name": "stdout",
     "output_type": "stream",
     "text": [
      "SHAP values difference: -2.295813636976618e-07\n",
      "Background count: 10\n",
      "Background min diff: -0.8659782409667969\n",
      "Background max diff: 0.5355110168457031\n"
     ]
    },
    {
     "data": {
      "application/vnd.jupyter.widget-view+json": {
       "model_id": "41825339b5a749efb4465a872ac57bb6",
       "version_major": 2,
       "version_minor": 0
      },
      "text/plain": [
       "  0%|          | 0/1 [00:00<?, ?it/s]"
      ]
     },
     "metadata": {},
     "output_type": "display_data"
    },
    {
     "name": "stdout",
     "output_type": "stream",
     "text": [
      "SHAP values difference: 2.1442561859430498e-07\n",
      "Background count: 10\n",
      "Background min diff: -1.9643115997314453\n",
      "Background max diff: 1.9914073944091797\n"
     ]
    },
    {
     "data": {
      "application/vnd.jupyter.widget-view+json": {
       "model_id": "8c35eff68da548f3b5b8fc1fbc0185a7",
       "version_major": 2,
       "version_minor": 0
      },
      "text/plain": [
       "  0%|          | 0/1 [00:00<?, ?it/s]"
      ]
     },
     "metadata": {},
     "output_type": "display_data"
    },
    {
     "name": "stdout",
     "output_type": "stream",
     "text": [
      "SHAP values difference: -5.9063010482418576e-08\n",
      "SHAP values correction 2\n",
      "Background count: 10\n",
      "Background min diff: -1.5987281799316406\n",
      "Background max diff: 1.5353965759277344\n"
     ]
    },
    {
     "data": {
      "application/vnd.jupyter.widget-view+json": {
       "model_id": "21446a047ac44a68ad96df9b285fa5fa",
       "version_major": 2,
       "version_minor": 0
      },
      "text/plain": [
       "  0%|          | 0/1 [00:00<?, ?it/s]"
      ]
     },
     "metadata": {},
     "output_type": "display_data"
    },
    {
     "name": "stdout",
     "output_type": "stream",
     "text": [
      "SHAP values difference: 3.7221266602216474e-07\n",
      "Background count: 10\n",
      "Background min diff: -10.857780456542969\n",
      "Background max diff: 4.406898498535156\n"
     ]
    },
    {
     "data": {
      "application/vnd.jupyter.widget-view+json": {
       "model_id": "96da4f1f40d7461daa9292207f6add01",
       "version_major": 2,
       "version_minor": 0
      },
      "text/plain": [
       "  0%|          | 0/1 [00:00<?, ?it/s]"
      ]
     },
     "metadata": {},
     "output_type": "display_data"
    },
    {
     "name": "stdout",
     "output_type": "stream",
     "text": [
      "SHAP values difference: 5.857192242331166e-07\n",
      "Background count: 10\n",
      "Background min diff: -2.69696044921875\n",
      "Background max diff: 3.918731689453125\n"
     ]
    },
    {
     "data": {
      "application/vnd.jupyter.widget-view+json": {
       "model_id": "19d29634105946bbaaf16c859936db94",
       "version_major": 2,
       "version_minor": 0
      },
      "text/plain": [
       "  0%|          | 0/1 [00:00<?, ?it/s]"
      ]
     },
     "metadata": {},
     "output_type": "display_data"
    },
    {
     "name": "stdout",
     "output_type": "stream",
     "text": [
      "SHAP values difference: 2.2630811002954943e-08\n",
      "SHAP values correction 2\n",
      "Background count: 10\n",
      "Background min diff: -1.5083503723144531\n",
      "Background max diff: 1.2567253112792969\n"
     ]
    },
    {
     "data": {
      "application/vnd.jupyter.widget-view+json": {
       "model_id": "deebbbd451e14b2aa9dff984522da1f3",
       "version_major": 2,
       "version_minor": 0
      },
      "text/plain": [
       "  0%|          | 0/1 [00:00<?, ?it/s]"
      ]
     },
     "metadata": {},
     "output_type": "display_data"
    },
    {
     "name": "stdout",
     "output_type": "stream",
     "text": [
      "SHAP values difference: 1.1801114840892524e-07\n",
      "SHAP values correction 1\n",
      "SHAP values correction 2\n",
      "Background count: 10\n",
      "Background min diff: -0.8911933898925781\n",
      "Background max diff: 2.183238983154297\n"
     ]
    },
    {
     "data": {
      "application/vnd.jupyter.widget-view+json": {
       "model_id": "a1151e68cfce4cc09512642d902ba342",
       "version_major": 2,
       "version_minor": 0
      },
      "text/plain": [
       "  0%|          | 0/1 [00:00<?, ?it/s]"
      ]
     },
     "metadata": {},
     "output_type": "display_data"
    },
    {
     "name": "stdout",
     "output_type": "stream",
     "text": [
      "SHAP values difference: 1.7064027701962914e-07\n",
      "Background count: 10\n",
      "Background min diff: -1.6411247253417969\n",
      "Background max diff: 1.6848640441894531\n"
     ]
    },
    {
     "data": {
      "application/vnd.jupyter.widget-view+json": {
       "model_id": "cab177f8b9334f1cafb3328941b1222f",
       "version_major": 2,
       "version_minor": 0
      },
      "text/plain": [
       "  0%|          | 0/1 [00:00<?, ?it/s]"
      ]
     },
     "metadata": {},
     "output_type": "display_data"
    },
    {
     "name": "stdout",
     "output_type": "stream",
     "text": [
      "SHAP values difference: 5.349732035142551e-07\n",
      "Background count: 10\n",
      "Background min diff: -6.204368591308594\n",
      "Background max diff: 1.1018447875976562\n"
     ]
    },
    {
     "data": {
      "application/vnd.jupyter.widget-view+json": {
       "model_id": "82b0cbc60cbe41c2a54037a613570aca",
       "version_major": 2,
       "version_minor": 0
      },
      "text/plain": [
       "  0%|          | 0/1 [00:00<?, ?it/s]"
      ]
     },
     "metadata": {},
     "output_type": "display_data"
    },
    {
     "name": "stdout",
     "output_type": "stream",
     "text": [
      "SHAP values difference: -3.39186852826856e-07\n",
      "Background count: 10\n",
      "Background min diff: -0.6346092224121094\n",
      "Background max diff: 0.5501441955566406\n"
     ]
    },
    {
     "data": {
      "application/vnd.jupyter.widget-view+json": {
       "model_id": "b44b5b8722ad44bdaa20b9834e5ec62f",
       "version_major": 2,
       "version_minor": 0
      },
      "text/plain": [
       "  0%|          | 0/1 [00:00<?, ?it/s]"
      ]
     },
     "metadata": {},
     "output_type": "display_data"
    },
    {
     "name": "stdout",
     "output_type": "stream",
     "text": [
      "SHAP values difference: 1.6530803037539954e-07\n",
      "SHAP values correction 2\n",
      "Background count: 10\n",
      "Background min diff: -1.4582328796386719\n",
      "Background max diff: 1.4754829406738281\n"
     ]
    },
    {
     "data": {
      "application/vnd.jupyter.widget-view+json": {
       "model_id": "f5322d72d8204d47bec00dbdca1aab8f",
       "version_major": 2,
       "version_minor": 0
      },
      "text/plain": [
       "  0%|          | 0/1 [00:00<?, ?it/s]"
      ]
     },
     "metadata": {},
     "output_type": "display_data"
    },
    {
     "name": "stdout",
     "output_type": "stream",
     "text": [
      "SHAP values difference: -7.338895713360216e-08\n",
      "SHAP values correction 2\n",
      "Background count: 10\n",
      "Background min diff: -2.0286121368408203\n",
      "Background max diff: 2.0779552459716797\n"
     ]
    },
    {
     "data": {
      "application/vnd.jupyter.widget-view+json": {
       "model_id": "052a53e074614e47b2298eedbb63653e",
       "version_major": 2,
       "version_minor": 0
      },
      "text/plain": [
       "  0%|          | 0/1 [00:00<?, ?it/s]"
      ]
     },
     "metadata": {},
     "output_type": "display_data"
    },
    {
     "name": "stdout",
     "output_type": "stream",
     "text": [
      "SHAP values difference: -2.119488442531292e-07\n",
      "Background count: 10\n",
      "Background min diff: -0.862213134765625\n",
      "Background max diff: 0.930694580078125\n"
     ]
    },
    {
     "data": {
      "application/vnd.jupyter.widget-view+json": {
       "model_id": "c2c1a31b9fb84b32aae8aa655ee3c6a1",
       "version_major": 2,
       "version_minor": 0
      },
      "text/plain": [
       "  0%|          | 0/1 [00:00<?, ?it/s]"
      ]
     },
     "metadata": {},
     "output_type": "display_data"
    },
    {
     "name": "stdout",
     "output_type": "stream",
     "text": [
      "SHAP values difference: -4.3939074600984895e-08\n",
      "Background count: 10\n",
      "Background min diff: -1.8574142456054688\n",
      "Background max diff: 1.4685745239257812\n"
     ]
    },
    {
     "data": {
      "application/vnd.jupyter.widget-view+json": {
       "model_id": "bb9396ddcd8d41cab08e345ded805eaf",
       "version_major": 2,
       "version_minor": 0
      },
      "text/plain": [
       "  0%|          | 0/1 [00:00<?, ?it/s]"
      ]
     },
     "metadata": {},
     "output_type": "display_data"
    },
    {
     "name": "stdout",
     "output_type": "stream",
     "text": [
      "SHAP values difference: -2.7508964262068503e-07\n",
      "SHAP values correction 2\n",
      "Background count: 10\n",
      "Background min diff: -1.2471542358398438\n",
      "Background max diff: 1.6562271118164062\n"
     ]
    },
    {
     "data": {
      "application/vnd.jupyter.widget-view+json": {
       "model_id": "3aa33e67f2ee491b95302c1b20b1c158",
       "version_major": 2,
       "version_minor": 0
      },
      "text/plain": [
       "  0%|          | 0/1 [00:00<?, ?it/s]"
      ]
     },
     "metadata": {},
     "output_type": "display_data"
    },
    {
     "name": "stdout",
     "output_type": "stream",
     "text": [
      "SHAP values difference: -7.574847913360827e-07\n",
      "Background count: 10\n",
      "Background min diff: -0.7468605041503906\n",
      "Background max diff: 0.4378929138183594\n"
     ]
    },
    {
     "data": {
      "application/vnd.jupyter.widget-view+json": {
       "model_id": "01a5e1ae1f1848138a34f4fbc68c8b20",
       "version_major": 2,
       "version_minor": 0
      },
      "text/plain": [
       "  0%|          | 0/1 [00:00<?, ?it/s]"
      ]
     },
     "metadata": {},
     "output_type": "display_data"
    },
    {
     "name": "stdout",
     "output_type": "stream",
     "text": [
      "SHAP values difference: 7.372451520382128e-07\n",
      "Background count: 10\n",
      "Background min diff: -1.2825469970703125\n",
      "Background max diff: 1.3705902099609375\n"
     ]
    },
    {
     "data": {
      "application/vnd.jupyter.widget-view+json": {
       "model_id": "2444a29b3fba4895ad86d439fc56a0d6",
       "version_major": 2,
       "version_minor": 0
      },
      "text/plain": [
       "  0%|          | 0/1 [00:00<?, ?it/s]"
      ]
     },
     "metadata": {},
     "output_type": "display_data"
    },
    {
     "name": "stdout",
     "output_type": "stream",
     "text": [
      "SHAP values difference: -7.635095684577209e-07\n",
      "Background count: 10\n",
      "Background min diff: -0.7081127166748047\n",
      "Background max diff: 2.0282459259033203\n"
     ]
    },
    {
     "data": {
      "application/vnd.jupyter.widget-view+json": {
       "model_id": "d72d91a055fd46fda05e13d8b4279372",
       "version_major": 2,
       "version_minor": 0
      },
      "text/plain": [
       "  0%|          | 0/1 [00:00<?, ?it/s]"
      ]
     },
     "metadata": {},
     "output_type": "display_data"
    },
    {
     "name": "stdout",
     "output_type": "stream",
     "text": [
      "SHAP values difference: 6.895307436138864e-08\n",
      "Background count: 10\n",
      "Background min diff: -0.9325942993164062\n",
      "Background max diff: 1.0848617553710938\n"
     ]
    },
    {
     "data": {
      "application/vnd.jupyter.widget-view+json": {
       "model_id": "7958fd71ff0644d08e72862a57567c30",
       "version_major": 2,
       "version_minor": 0
      },
      "text/plain": [
       "  0%|          | 0/1 [00:00<?, ?it/s]"
      ]
     },
     "metadata": {},
     "output_type": "display_data"
    },
    {
     "name": "stdout",
     "output_type": "stream",
     "text": [
      "SHAP values difference: 1.1642217145890754e-07\n",
      "Background count: 10\n",
      "Background min diff: -1.7698020935058594\n",
      "Background max diff: 1.5561866760253906\n"
     ]
    },
    {
     "data": {
      "application/vnd.jupyter.widget-view+json": {
       "model_id": "59e1267006444be3877bf3ebd9fcc390",
       "version_major": 2,
       "version_minor": 0
      },
      "text/plain": [
       "  0%|          | 0/1 [00:00<?, ?it/s]"
      ]
     },
     "metadata": {},
     "output_type": "display_data"
    },
    {
     "name": "stdout",
     "output_type": "stream",
     "text": [
      "SHAP values difference: -9.522244237558652e-08\n",
      "SHAP values correction 2\n",
      "Background count: 10\n",
      "Background min diff: -4.189140319824219\n",
      "Background max diff: 4.316932678222656\n"
     ]
    },
    {
     "data": {
      "application/vnd.jupyter.widget-view+json": {
       "model_id": "129c05ddd8ab4573953930515c8b6041",
       "version_major": 2,
       "version_minor": 0
      },
      "text/plain": [
       "  0%|          | 0/1 [00:00<?, ?it/s]"
      ]
     },
     "metadata": {},
     "output_type": "display_data"
    },
    {
     "name": "stdout",
     "output_type": "stream",
     "text": [
      "SHAP values difference: -3.246299939974051e-08\n",
      "Background count: 10\n",
      "Background min diff: -3.5531539916992188\n",
      "Background max diff: 3.3145523071289062\n"
     ]
    },
    {
     "data": {
      "application/vnd.jupyter.widget-view+json": {
       "model_id": "52498dda60544123a72834b28b1dc69c",
       "version_major": 2,
       "version_minor": 0
      },
      "text/plain": [
       "  0%|          | 0/1 [00:00<?, ?it/s]"
      ]
     },
     "metadata": {},
     "output_type": "display_data"
    },
    {
     "name": "stdout",
     "output_type": "stream",
     "text": [
      "SHAP values difference: 2.9593219085910505e-05\n",
      "SHAP values correction 2\n",
      "Background count: 10\n",
      "Background min diff: -1.7371559143066406\n",
      "Background max diff: 1.7825584411621094\n"
     ]
    },
    {
     "data": {
      "application/vnd.jupyter.widget-view+json": {
       "model_id": "54098c4106c74e3eb361fd51c09c6c44",
       "version_major": 2,
       "version_minor": 0
      },
      "text/plain": [
       "  0%|          | 0/1 [00:00<?, ?it/s]"
      ]
     },
     "metadata": {},
     "output_type": "display_data"
    },
    {
     "name": "stdout",
     "output_type": "stream",
     "text": [
      "SHAP values difference: -1.8221698705467304e-08\n",
      "SHAP values correction 2\n",
      "Background count: 10\n",
      "Background min diff: -0.59564208984375\n",
      "Background max diff: 0.51361083984375\n"
     ]
    },
    {
     "data": {
      "application/vnd.jupyter.widget-view+json": {
       "model_id": "bba2c6a433184911b2f903da930f0557",
       "version_major": 2,
       "version_minor": 0
      },
      "text/plain": [
       "  0%|          | 0/1 [00:00<?, ?it/s]"
      ]
     },
     "metadata": {},
     "output_type": "display_data"
    },
    {
     "name": "stdout",
     "output_type": "stream",
     "text": [
      "SHAP values difference: -6.895217161684286e-07\n",
      "Background count: 10\n",
      "Background min diff: -1.2596015930175781\n",
      "Background max diff: 1.3519706726074219\n"
     ]
    },
    {
     "data": {
      "application/vnd.jupyter.widget-view+json": {
       "model_id": "b946453c1ade43fea6426f20024f030c",
       "version_major": 2,
       "version_minor": 0
      },
      "text/plain": [
       "  0%|          | 0/1 [00:00<?, ?it/s]"
      ]
     },
     "metadata": {},
     "output_type": "display_data"
    },
    {
     "name": "stdout",
     "output_type": "stream",
     "text": [
      "SHAP values difference: 2.892715471602969e-07\n",
      "Background count: 10\n",
      "Background min diff: -0.49819183349609375\n",
      "Background max diff: 0.36029815673828125\n"
     ]
    },
    {
     "data": {
      "application/vnd.jupyter.widget-view+json": {
       "model_id": "d58e1a059f544380b2b2ab7ac90aa0aa",
       "version_major": 2,
       "version_minor": 0
      },
      "text/plain": [
       "  0%|          | 0/1 [00:00<?, ?it/s]"
      ]
     },
     "metadata": {},
     "output_type": "display_data"
    },
    {
     "name": "stdout",
     "output_type": "stream",
     "text": [
      "SHAP values difference: 2.0479575013609974e-07\n",
      "Background count: 10\n",
      "Background min diff: -0.8282432556152344\n",
      "Background max diff: 0.9525794982910156\n"
     ]
    },
    {
     "data": {
      "application/vnd.jupyter.widget-view+json": {
       "model_id": "14cb5bf3ba854586b247bfdb325c43a1",
       "version_major": 2,
       "version_minor": 0
      },
      "text/plain": [
       "  0%|          | 0/1 [00:00<?, ?it/s]"
      ]
     },
     "metadata": {},
     "output_type": "display_data"
    },
    {
     "name": "stdout",
     "output_type": "stream",
     "text": [
      "SHAP values difference: -2.0223833985255624e-07\n",
      "Background count: 10\n",
      "Background min diff: -0.9400711059570312\n",
      "Background max diff: 1.1816024780273438\n"
     ]
    },
    {
     "data": {
      "application/vnd.jupyter.widget-view+json": {
       "model_id": "f70af2f8a68b46e1added836c6fca4a5",
       "version_major": 2,
       "version_minor": 0
      },
      "text/plain": [
       "  0%|          | 0/1 [00:00<?, ?it/s]"
      ]
     },
     "metadata": {},
     "output_type": "display_data"
    },
    {
     "name": "stdout",
     "output_type": "stream",
     "text": [
      "SHAP values difference: -1.3184112912512091e-07\n",
      "SHAP values correction 2\n",
      "Background count: 10\n",
      "Background min diff: -0.9742355346679688\n",
      "Background max diff: 0.49356842041015625\n"
     ]
    },
    {
     "data": {
      "application/vnd.jupyter.widget-view+json": {
       "model_id": "3d716d5739684cc0a230acd31a4df6da",
       "version_major": 2,
       "version_minor": 0
      },
      "text/plain": [
       "  0%|          | 0/1 [00:00<?, ?it/s]"
      ]
     },
     "metadata": {},
     "output_type": "display_data"
    },
    {
     "name": "stdout",
     "output_type": "stream",
     "text": [
      "SHAP values difference: -6.196151565163177e-07\n",
      "SHAP values correction 2\n",
      "Background count: 10\n",
      "Background min diff: -1.3331642150878906\n",
      "Background max diff: 0.8993186950683594\n"
     ]
    },
    {
     "data": {
      "application/vnd.jupyter.widget-view+json": {
       "model_id": "d822ecb5d3344f8ebf2b13dd2373d0cc",
       "version_major": 2,
       "version_minor": 0
      },
      "text/plain": [
       "  0%|          | 0/1 [00:00<?, ?it/s]"
      ]
     },
     "metadata": {},
     "output_type": "display_data"
    },
    {
     "name": "stdout",
     "output_type": "stream",
     "text": [
      "SHAP values difference: -6.813164077357214e-08\n",
      "SHAP values correction 2\n",
      "Background count: 10\n",
      "Background min diff: -1.7909317016601562\n",
      "Background max diff: 1.7801132202148438\n"
     ]
    },
    {
     "data": {
      "application/vnd.jupyter.widget-view+json": {
       "model_id": "07f96e72aeb048db90dc23320b474b2a",
       "version_major": 2,
       "version_minor": 0
      },
      "text/plain": [
       "  0%|          | 0/1 [00:00<?, ?it/s]"
      ]
     },
     "metadata": {},
     "output_type": "display_data"
    },
    {
     "name": "stdout",
     "output_type": "stream",
     "text": [
      "SHAP values difference: -2.3438290952526586e-07\n",
      "Background count: 10\n",
      "Background min diff: -1.6482124328613281\n",
      "Background max diff: 1.3251152038574219\n"
     ]
    },
    {
     "data": {
      "application/vnd.jupyter.widget-view+json": {
       "model_id": "78880fe9ae094afba830d35b7059a594",
       "version_major": 2,
       "version_minor": 0
      },
      "text/plain": [
       "  0%|          | 0/1 [00:00<?, ?it/s]"
      ]
     },
     "metadata": {},
     "output_type": "display_data"
    },
    {
     "name": "stdout",
     "output_type": "stream",
     "text": [
      "SHAP values difference: 3.1993655369433327e-07\n",
      "Background count: 10\n",
      "Background min diff: -1.0752220153808594\n",
      "Background max diff: 0.6529884338378906\n"
     ]
    },
    {
     "data": {
      "application/vnd.jupyter.widget-view+json": {
       "model_id": "f80a12d03bbf4dc5a80767c8225a1942",
       "version_major": 2,
       "version_minor": 0
      },
      "text/plain": [
       "  0%|          | 0/1 [00:00<?, ?it/s]"
      ]
     },
     "metadata": {},
     "output_type": "display_data"
    },
    {
     "name": "stdout",
     "output_type": "stream",
     "text": [
      "SHAP values difference: 9.192352479203691e-08\n",
      "Background count: 10\n",
      "Background min diff: -2.948040008544922\n",
      "Background max diff: 6.544025421142578\n"
     ]
    },
    {
     "data": {
      "application/vnd.jupyter.widget-view+json": {
       "model_id": "07f41dc3a2c94ab0aeabeebcaed11df4",
       "version_major": 2,
       "version_minor": 0
      },
      "text/plain": [
       "  0%|          | 0/1 [00:00<?, ?it/s]"
      ]
     },
     "metadata": {},
     "output_type": "display_data"
    },
    {
     "name": "stdout",
     "output_type": "stream",
     "text": [
      "SHAP values difference: 1.4802826342474873e-07\n",
      "SHAP values correction 2\n",
      "Background count: 10\n",
      "Background min diff: -0.9869194030761719\n",
      "Background max diff: 1.0844001770019531\n"
     ]
    },
    {
     "data": {
      "application/vnd.jupyter.widget-view+json": {
       "model_id": "17342e639e9c425a88afd66a9d29df72",
       "version_major": 2,
       "version_minor": 0
      },
      "text/plain": [
       "  0%|          | 0/1 [00:00<?, ?it/s]"
      ]
     },
     "metadata": {},
     "output_type": "display_data"
    },
    {
     "name": "stdout",
     "output_type": "stream",
     "text": [
      "SHAP values difference: -3.9221942960132594e-07\n",
      "SHAP values correction 1\n",
      "SHAP values correction 2\n",
      "Background count: 10\n",
      "Background min diff: -2.381946563720703\n",
      "Background max diff: 3.076702117919922\n"
     ]
    },
    {
     "data": {
      "application/vnd.jupyter.widget-view+json": {
       "model_id": "1f7e46d3b5b04c7bab452c070639e51e",
       "version_major": 2,
       "version_minor": 0
      },
      "text/plain": [
       "  0%|          | 0/1 [00:00<?, ?it/s]"
      ]
     },
     "metadata": {},
     "output_type": "display_data"
    },
    {
     "name": "stdout",
     "output_type": "stream",
     "text": [
      "SHAP values difference: -1.6115772893954272e-07\n",
      "Background count: 10\n",
      "Background min diff: -1.5871009826660156\n",
      "Background max diff: 1.4735374450683594\n"
     ]
    },
    {
     "data": {
      "application/vnd.jupyter.widget-view+json": {
       "model_id": "9d0262a98e4f4f3583bf8dc2c58096e1",
       "version_major": 2,
       "version_minor": 0
      },
      "text/plain": [
       "  0%|          | 0/1 [00:00<?, ?it/s]"
      ]
     },
     "metadata": {},
     "output_type": "display_data"
    },
    {
     "name": "stdout",
     "output_type": "stream",
     "text": [
      "SHAP values difference: 5.791580139913322e-07\n",
      "SHAP values correction 2\n",
      "Background count: 10\n",
      "Background min diff: -1.29864501953125\n",
      "Background max diff: 1.5816650390625\n"
     ]
    },
    {
     "data": {
      "application/vnd.jupyter.widget-view+json": {
       "model_id": "8271544158fd4dacaf32cfea9a156ce1",
       "version_major": 2,
       "version_minor": 0
      },
      "text/plain": [
       "  0%|          | 0/1 [00:00<?, ?it/s]"
      ]
     },
     "metadata": {},
     "output_type": "display_data"
    },
    {
     "name": "stdout",
     "output_type": "stream",
     "text": [
      "SHAP values difference: -1.2690760087252784e-07\n",
      "Background count: 10\n",
      "Background min diff: -1.4727897644042969\n",
      "Background max diff: 1.6613349914550781\n"
     ]
    },
    {
     "data": {
      "application/vnd.jupyter.widget-view+json": {
       "model_id": "cf3443c9f94442a69784f259e529175f",
       "version_major": 2,
       "version_minor": 0
      },
      "text/plain": [
       "  0%|          | 0/1 [00:00<?, ?it/s]"
      ]
     },
     "metadata": {},
     "output_type": "display_data"
    },
    {
     "name": "stdout",
     "output_type": "stream",
     "text": [
      "SHAP values difference: 3.160584451933346e-07\n",
      "SHAP values correction 2\n",
      "Background count: 10\n",
      "Background min diff: -1.4760417938232422\n",
      "Background max diff: 1.9652423858642578\n"
     ]
    },
    {
     "data": {
      "application/vnd.jupyter.widget-view+json": {
       "model_id": "cda9daa5175b42cf8af888edcee1e7e3",
       "version_major": 2,
       "version_minor": 0
      },
      "text/plain": [
       "  0%|          | 0/1 [00:00<?, ?it/s]"
      ]
     },
     "metadata": {},
     "output_type": "display_data"
    },
    {
     "name": "stdout",
     "output_type": "stream",
     "text": [
      "SHAP values difference: 4.492489935614685e-07\n",
      "SHAP values correction 2\n",
      "Background count: 10\n",
      "Background min diff: -4.100675582885742\n",
      "Background max diff: 5.391389846801758\n"
     ]
    },
    {
     "data": {
      "application/vnd.jupyter.widget-view+json": {
       "model_id": "8b6b107f615e42acb37377e955b96722",
       "version_major": 2,
       "version_minor": 0
      },
      "text/plain": [
       "  0%|          | 0/1 [00:00<?, ?it/s]"
      ]
     },
     "metadata": {},
     "output_type": "display_data"
    },
    {
     "name": "stdout",
     "output_type": "stream",
     "text": [
      "SHAP values difference: 1.1120840426315226e-07\n",
      "SHAP values correction 2\n",
      "Background count: 10\n",
      "Background min diff: -1.9268779754638672\n",
      "Background max diff: 1.8796710968017578\n"
     ]
    },
    {
     "data": {
      "application/vnd.jupyter.widget-view+json": {
       "model_id": "597592494c2742d1ab8996dfcda538cd",
       "version_major": 2,
       "version_minor": 0
      },
      "text/plain": [
       "  0%|          | 0/1 [00:00<?, ?it/s]"
      ]
     },
     "metadata": {},
     "output_type": "display_data"
    },
    {
     "name": "stdout",
     "output_type": "stream",
     "text": [
      "SHAP values difference: 2.6445456313695104e-07\n",
      "Background count: 10\n",
      "Background min diff: -0.970306396484375\n",
      "Background max diff: 0.71759033203125\n"
     ]
    },
    {
     "data": {
      "application/vnd.jupyter.widget-view+json": {
       "model_id": "5bf5849e3623410597b9d0670ae34845",
       "version_major": 2,
       "version_minor": 0
      },
      "text/plain": [
       "  0%|          | 0/1 [00:00<?, ?it/s]"
      ]
     },
     "metadata": {},
     "output_type": "display_data"
    },
    {
     "name": "stdout",
     "output_type": "stream",
     "text": [
      "SHAP values difference: -2.6134348374284855e-07\n",
      "Background count: 10\n",
      "Background min diff: -4.643791198730469\n",
      "Background max diff: 2.6624221801757812\n"
     ]
    },
    {
     "data": {
      "application/vnd.jupyter.widget-view+json": {
       "model_id": "f3195c57929b47fd9ab29720ae5696fc",
       "version_major": 2,
       "version_minor": 0
      },
      "text/plain": [
       "  0%|          | 0/1 [00:00<?, ?it/s]"
      ]
     },
     "metadata": {},
     "output_type": "display_data"
    },
    {
     "name": "stdout",
     "output_type": "stream",
     "text": [
      "SHAP values difference: -4.325791564951942e-07\n",
      "Background count: 10\n",
      "Background min diff: -2.471668243408203\n",
      "Background max diff: 2.810619354248047\n"
     ]
    },
    {
     "data": {
      "application/vnd.jupyter.widget-view+json": {
       "model_id": "69847e1bb053444aaae162fd1cae64ee",
       "version_major": 2,
       "version_minor": 0
      },
      "text/plain": [
       "  0%|          | 0/1 [00:00<?, ?it/s]"
      ]
     },
     "metadata": {},
     "output_type": "display_data"
    },
    {
     "name": "stdout",
     "output_type": "stream",
     "text": [
      "SHAP values difference: 7.827604520116438e-08\n",
      "Background count: 10\n",
      "Background min diff: -1.9181900024414062\n",
      "Background max diff: 1.0155258178710938\n"
     ]
    },
    {
     "data": {
      "application/vnd.jupyter.widget-view+json": {
       "model_id": "b0133e6c295046729ef8572fcf300795",
       "version_major": 2,
       "version_minor": 0
      },
      "text/plain": [
       "  0%|          | 0/1 [00:00<?, ?it/s]"
      ]
     },
     "metadata": {},
     "output_type": "display_data"
    },
    {
     "name": "stdout",
     "output_type": "stream",
     "text": [
      "SHAP values difference: 1.9456678757023838e-07\n",
      "Background count: 10\n",
      "Background min diff: -3.0353641510009766\n",
      "Background max diff: 2.8718929290771484\n"
     ]
    },
    {
     "data": {
      "application/vnd.jupyter.widget-view+json": {
       "model_id": "03f5b1edf7ff45379db11810ecd52ab7",
       "version_major": 2,
       "version_minor": 0
      },
      "text/plain": [
       "  0%|          | 0/1 [00:00<?, ?it/s]"
      ]
     },
     "metadata": {},
     "output_type": "display_data"
    },
    {
     "name": "stdout",
     "output_type": "stream",
     "text": [
      "SHAP values difference: -6.531149310262663e-08\n",
      "Background count: 10\n",
      "Background min diff: -1.5184669494628906\n",
      "Background max diff: 1.4152488708496094\n"
     ]
    },
    {
     "data": {
      "application/vnd.jupyter.widget-view+json": {
       "model_id": "8eb782ff000346ab87f3dac04e4d39e1",
       "version_major": 2,
       "version_minor": 0
      },
      "text/plain": [
       "  0%|          | 0/1 [00:00<?, ?it/s]"
      ]
     },
     "metadata": {},
     "output_type": "display_data"
    },
    {
     "name": "stdout",
     "output_type": "stream",
     "text": [
      "SHAP values difference: -3.417835046093387e-07\n",
      "Background count: 10\n",
      "Background min diff: -1.5946617126464844\n",
      "Background max diff: 1.0584754943847656\n"
     ]
    },
    {
     "data": {
      "application/vnd.jupyter.widget-view+json": {
       "model_id": "a79d15f2f0864b2ca57390a2de616e3e",
       "version_major": 2,
       "version_minor": 0
      },
      "text/plain": [
       "  0%|          | 0/1 [00:00<?, ?it/s]"
      ]
     },
     "metadata": {},
     "output_type": "display_data"
    },
    {
     "name": "stdout",
     "output_type": "stream",
     "text": [
      "SHAP values difference: -3.2985917464145587e-07\n",
      "SHAP values correction 2\n",
      "Background count: 10\n",
      "Background min diff: -1.3534049987792969\n",
      "Background max diff: 1.5269050598144531\n"
     ]
    },
    {
     "data": {
      "application/vnd.jupyter.widget-view+json": {
       "model_id": "5431f87103804c0396dc70f4ee8bd2e0",
       "version_major": 2,
       "version_minor": 0
      },
      "text/plain": [
       "  0%|          | 0/1 [00:00<?, ?it/s]"
      ]
     },
     "metadata": {},
     "output_type": "display_data"
    },
    {
     "name": "stdout",
     "output_type": "stream",
     "text": [
      "SHAP values difference: -4.5883462895801586e-07\n",
      "Background count: 10\n",
      "Background min diff: -1.1192703247070312\n",
      "Background max diff: 0.9887619018554688\n"
     ]
    },
    {
     "data": {
      "application/vnd.jupyter.widget-view+json": {
       "model_id": "3c544b5588c64d4888600b259eb499f0",
       "version_major": 2,
       "version_minor": 0
      },
      "text/plain": [
       "  0%|          | 0/1 [00:00<?, ?it/s]"
      ]
     },
     "metadata": {},
     "output_type": "display_data"
    },
    {
     "name": "stdout",
     "output_type": "stream",
     "text": [
      "SHAP values difference: 3.5095047223876463e-07\n",
      "SHAP values correction 2\n",
      "Background count: 10\n",
      "Background min diff: -0.8537712097167969\n",
      "Background max diff: 0.6140327453613281\n"
     ]
    },
    {
     "data": {
      "application/vnd.jupyter.widget-view+json": {
       "model_id": "0fe40565f42c4a12a83976fd041d5cc4",
       "version_major": 2,
       "version_minor": 0
      },
      "text/plain": [
       "  0%|          | 0/1 [00:00<?, ?it/s]"
      ]
     },
     "metadata": {},
     "output_type": "display_data"
    },
    {
     "name": "stdout",
     "output_type": "stream",
     "text": [
      "SHAP values difference: 5.403243221735465e-07\n",
      "SHAP values correction 2\n",
      "Background count: 10\n",
      "Background min diff: -1.8606948852539062\n",
      "Background max diff: 1.0730209350585938\n"
     ]
    },
    {
     "data": {
      "application/vnd.jupyter.widget-view+json": {
       "model_id": "701e88932e9a4eceaadfc40e4d2e5a13",
       "version_major": 2,
       "version_minor": 0
      },
      "text/plain": [
       "  0%|          | 0/1 [00:00<?, ?it/s]"
      ]
     },
     "metadata": {},
     "output_type": "display_data"
    },
    {
     "name": "stdout",
     "output_type": "stream",
     "text": [
      "SHAP values difference: 3.140056747952258e-08\n",
      "Background count: 10\n",
      "Background min diff: -2.1823081970214844\n",
      "Background max diff: 1.1277503967285156\n"
     ]
    },
    {
     "data": {
      "application/vnd.jupyter.widget-view+json": {
       "model_id": "4141d6c62eb04c56a52535111828fd5d",
       "version_major": 2,
       "version_minor": 0
      },
      "text/plain": [
       "  0%|          | 0/1 [00:00<?, ?it/s]"
      ]
     },
     "metadata": {},
     "output_type": "display_data"
    },
    {
     "name": "stdout",
     "output_type": "stream",
     "text": [
      "SHAP values difference: -1.1298701085848961e-07\n",
      "SHAP values correction 2\n",
      "Background count: 10\n",
      "Background min diff: -1.658050537109375\n",
      "Background max diff: 1.63153076171875\n"
     ]
    },
    {
     "data": {
      "application/vnd.jupyter.widget-view+json": {
       "model_id": "3952949d6cc142429efa141b2b743979",
       "version_major": 2,
       "version_minor": 0
      },
      "text/plain": [
       "  0%|          | 0/1 [00:00<?, ?it/s]"
      ]
     },
     "metadata": {},
     "output_type": "display_data"
    },
    {
     "name": "stdout",
     "output_type": "stream",
     "text": [
      "SHAP values difference: -1.2878172128694132e-07\n",
      "Background count: 10\n",
      "Background min diff: -2.065692901611328\n",
      "Background max diff: 1.8079948425292969\n"
     ]
    },
    {
     "data": {
      "application/vnd.jupyter.widget-view+json": {
       "model_id": "71f1e166db1d48bdbd2370816a05e59f",
       "version_major": 2,
       "version_minor": 0
      },
      "text/plain": [
       "  0%|          | 0/1 [00:00<?, ?it/s]"
      ]
     },
     "metadata": {},
     "output_type": "display_data"
    },
    {
     "name": "stdout",
     "output_type": "stream",
     "text": [
      "SHAP values difference: -6.084404162720602e-07\n",
      "SHAP values correction 2\n",
      "Background count: 10\n",
      "Background min diff: -0.9910774230957031\n",
      "Background max diff: 0.8911247253417969\n"
     ]
    },
    {
     "data": {
      "application/vnd.jupyter.widget-view+json": {
       "model_id": "50df70bc089c4afc8d8cdafba2e457e3",
       "version_major": 2,
       "version_minor": 0
      },
      "text/plain": [
       "  0%|          | 0/1 [00:00<?, ?it/s]"
      ]
     },
     "metadata": {},
     "output_type": "display_data"
    },
    {
     "name": "stdout",
     "output_type": "stream",
     "text": [
      "SHAP values difference: -9.920035637378533e-08\n",
      "Background count: 10\n",
      "Background min diff: -0.8595008850097656\n",
      "Background max diff: 1.3063926696777344\n"
     ]
    },
    {
     "data": {
      "application/vnd.jupyter.widget-view+json": {
       "model_id": "6c5f6129a8f0458bae7d2a870390cd65",
       "version_major": 2,
       "version_minor": 0
      },
      "text/plain": [
       "  0%|          | 0/1 [00:00<?, ?it/s]"
      ]
     },
     "metadata": {},
     "output_type": "display_data"
    },
    {
     "name": "stdout",
     "output_type": "stream",
     "text": [
      "SHAP values difference: 3.061130300352488e-07\n",
      "Background count: 10\n",
      "Background min diff: -1.0484161376953125\n",
      "Background max diff: 1.1174774169921875\n"
     ]
    },
    {
     "data": {
      "application/vnd.jupyter.widget-view+json": {
       "model_id": "9a6d9ad5d3ce47018f808b769891cf18",
       "version_major": 2,
       "version_minor": 0
      },
      "text/plain": [
       "  0%|          | 0/1 [00:00<?, ?it/s]"
      ]
     },
     "metadata": {},
     "output_type": "display_data"
    },
    {
     "name": "stdout",
     "output_type": "stream",
     "text": [
      "SHAP values difference: 4.164010718454847e-07\n",
      "Background count: 10\n",
      "Background min diff: -2.7494850158691406\n",
      "Background max diff: 1.0933799743652344\n"
     ]
    },
    {
     "data": {
      "application/vnd.jupyter.widget-view+json": {
       "model_id": "0763e5a3d0914ad0841206cbdbc48608",
       "version_major": 2,
       "version_minor": 0
      },
      "text/plain": [
       "  0%|          | 0/1 [00:00<?, ?it/s]"
      ]
     },
     "metadata": {},
     "output_type": "display_data"
    },
    {
     "name": "stdout",
     "output_type": "stream",
     "text": [
      "SHAP values difference: 1.208994984125411e-07\n",
      "SHAP values correction 2\n",
      "Background count: 10\n",
      "Background min diff: -0.9951362609863281\n",
      "Background max diff: 1.0761833190917969\n"
     ]
    },
    {
     "data": {
      "application/vnd.jupyter.widget-view+json": {
       "model_id": "007dcc6885c847b6a88f5828ae5c6ba8",
       "version_major": 2,
       "version_minor": 0
      },
      "text/plain": [
       "  0%|          | 0/1 [00:00<?, ?it/s]"
      ]
     },
     "metadata": {},
     "output_type": "display_data"
    },
    {
     "name": "stdout",
     "output_type": "stream",
     "text": [
      "SHAP values difference: 1.5769234451568082e-07\n",
      "SHAP values correction 2\n",
      "Background count: 10\n",
      "Background min diff: -2.9158287048339844\n",
      "Background max diff: 2.5428199768066406\n"
     ]
    },
    {
     "data": {
      "application/vnd.jupyter.widget-view+json": {
       "model_id": "b395c116eaaa4318b3ad02d22ef417ca",
       "version_major": 2,
       "version_minor": 0
      },
      "text/plain": [
       "  0%|          | 0/1 [00:00<?, ?it/s]"
      ]
     },
     "metadata": {},
     "output_type": "display_data"
    },
    {
     "name": "stdout",
     "output_type": "stream",
     "text": [
      "SHAP values difference: -1.131467328718827e-07\n",
      "SHAP values correction 2\n",
      "Background count: 10\n",
      "Background min diff: -1.379669189453125\n",
      "Background max diff: 1.385406494140625\n"
     ]
    },
    {
     "data": {
      "application/vnd.jupyter.widget-view+json": {
       "model_id": "0bf4c915d6594623bf06722d83f93c8d",
       "version_major": 2,
       "version_minor": 0
      },
      "text/plain": [
       "  0%|          | 0/1 [00:00<?, ?it/s]"
      ]
     },
     "metadata": {},
     "output_type": "display_data"
    },
    {
     "name": "stdout",
     "output_type": "stream",
     "text": [
      "SHAP values difference: 2.9490077935179215e-08\n",
      "Background count: 10\n",
      "Background min diff: -4.06787109375\n",
      "Background max diff: 2.799835205078125\n"
     ]
    },
    {
     "data": {
      "application/vnd.jupyter.widget-view+json": {
       "model_id": "548b5522f92a42aca78962174e7a2131",
       "version_major": 2,
       "version_minor": 0
      },
      "text/plain": [
       "  0%|          | 0/1 [00:00<?, ?it/s]"
      ]
     },
     "metadata": {},
     "output_type": "display_data"
    },
    {
     "name": "stdout",
     "output_type": "stream",
     "text": [
      "SHAP values difference: 2.2430387147664987e-07\n",
      "SHAP values correction 2\n",
      "Background count: 10\n",
      "Background min diff: -2.7255592346191406\n",
      "Background max diff: 3.0777549743652344\n"
     ]
    },
    {
     "data": {
      "application/vnd.jupyter.widget-view+json": {
       "model_id": "37dd912539b14d4cb52791fef04a3454",
       "version_major": 2,
       "version_minor": 0
      },
      "text/plain": [
       "  0%|          | 0/1 [00:00<?, ?it/s]"
      ]
     },
     "metadata": {},
     "output_type": "display_data"
    },
    {
     "name": "stdout",
     "output_type": "stream",
     "text": [
      "SHAP values difference: 1.0664243887958946e-07\n",
      "SHAP values correction 2\n",
      "Background count: 10\n",
      "Background min diff: -0.8037185668945312\n",
      "Background max diff: 0.8190536499023438\n"
     ]
    },
    {
     "data": {
      "application/vnd.jupyter.widget-view+json": {
       "model_id": "66a419b534634ab09b47795eb5130833",
       "version_major": 2,
       "version_minor": 0
      },
      "text/plain": [
       "  0%|          | 0/1 [00:00<?, ?it/s]"
      ]
     },
     "metadata": {},
     "output_type": "display_data"
    },
    {
     "name": "stdout",
     "output_type": "stream",
     "text": [
      "SHAP values difference: 2.742643445685644e-09\n",
      "SHAP values correction 2\n",
      "Background count: 10\n",
      "Background min diff: -0.9410667419433594\n",
      "Background max diff: 0.7871437072753906\n"
     ]
    },
    {
     "data": {
      "application/vnd.jupyter.widget-view+json": {
       "model_id": "48751ee073f34f0c832ddc980321cc0f",
       "version_major": 2,
       "version_minor": 0
      },
      "text/plain": [
       "  0%|          | 0/1 [00:00<?, ?it/s]"
      ]
     },
     "metadata": {},
     "output_type": "display_data"
    },
    {
     "name": "stdout",
     "output_type": "stream",
     "text": [
      "SHAP values difference: -7.880128727322244e-08\n",
      "SHAP values correction 2\n",
      "Background count: 10\n",
      "Background min diff: -4.059608459472656\n",
      "Background max diff: 5.432456970214844\n"
     ]
    },
    {
     "data": {
      "application/vnd.jupyter.widget-view+json": {
       "model_id": "3705a7c8a96d46e5a9c58f5e54fb350f",
       "version_major": 2,
       "version_minor": 0
      },
      "text/plain": [
       "  0%|          | 0/1 [00:00<?, ?it/s]"
      ]
     },
     "metadata": {},
     "output_type": "display_data"
    },
    {
     "name": "stdout",
     "output_type": "stream",
     "text": [
      "SHAP values difference: 5.6906035439396874e-08\n",
      "SHAP values correction 2\n",
      "Background count: 10\n",
      "Background min diff: -1.9312114715576172\n",
      "Background max diff: 1.8873310089111328\n"
     ]
    },
    {
     "data": {
      "application/vnd.jupyter.widget-view+json": {
       "model_id": "0de4226ee20145d6aa2888d8e0a97cb4",
       "version_major": 2,
       "version_minor": 0
      },
      "text/plain": [
       "  0%|          | 0/1 [00:00<?, ?it/s]"
      ]
     },
     "metadata": {},
     "output_type": "display_data"
    },
    {
     "name": "stdout",
     "output_type": "stream",
     "text": [
      "SHAP values difference: -2.230112841061782e-07\n",
      "SHAP values correction 2\n",
      "Background count: 10\n",
      "Background min diff: -1.331247329711914\n",
      "Background max diff: 1.679769515991211\n"
     ]
    },
    {
     "data": {
      "application/vnd.jupyter.widget-view+json": {
       "model_id": "6d3188fc00f5410abef9e0498949af50",
       "version_major": 2,
       "version_minor": 0
      },
      "text/plain": [
       "  0%|          | 0/1 [00:00<?, ?it/s]"
      ]
     },
     "metadata": {},
     "output_type": "display_data"
    },
    {
     "name": "stdout",
     "output_type": "stream",
     "text": [
      "SHAP values difference: 2.9933183753882986e-07\n",
      "Background count: 10\n",
      "Background min diff: -1.0100860595703125\n",
      "Background max diff: 1.1558074951171875\n"
     ]
    },
    {
     "data": {
      "application/vnd.jupyter.widget-view+json": {
       "model_id": "a24c9168a9434208ac72edaee3d03f87",
       "version_major": 2,
       "version_minor": 0
      },
      "text/plain": [
       "  0%|          | 0/1 [00:00<?, ?it/s]"
      ]
     },
     "metadata": {},
     "output_type": "display_data"
    },
    {
     "name": "stdout",
     "output_type": "stream",
     "text": [
      "SHAP values difference: 2.048262075504681e-07\n",
      "Background count: 10\n",
      "Background min diff: -1.2865829467773438\n",
      "Background max diff: 1.4784927368164062\n"
     ]
    },
    {
     "data": {
      "application/vnd.jupyter.widget-view+json": {
       "model_id": "e6f87fb428b943d081427a4811cc0674",
       "version_major": 2,
       "version_minor": 0
      },
      "text/plain": [
       "  0%|          | 0/1 [00:00<?, ?it/s]"
      ]
     },
     "metadata": {},
     "output_type": "display_data"
    },
    {
     "name": "stdout",
     "output_type": "stream",
     "text": [
      "SHAP values difference: 4.580380164043163e-08\n",
      "SHAP values correction 2\n",
      "Background count: 10\n",
      "Background min diff: -2.988391876220703\n",
      "Background max diff: 2.814922332763672\n"
     ]
    },
    {
     "data": {
      "application/vnd.jupyter.widget-view+json": {
       "model_id": "bd415705167943d1b7d0ea804e23a8ec",
       "version_major": 2,
       "version_minor": 0
      },
      "text/plain": [
       "  0%|          | 0/1 [00:00<?, ?it/s]"
      ]
     },
     "metadata": {},
     "output_type": "display_data"
    },
    {
     "name": "stdout",
     "output_type": "stream",
     "text": [
      "SHAP values difference: 1.9361117509220094e-07\n",
      "SHAP values correction 2\n",
      "Background count: 10\n",
      "Background min diff: -1.7352294921875\n",
      "Background max diff: 2.071319580078125\n"
     ]
    },
    {
     "data": {
      "application/vnd.jupyter.widget-view+json": {
       "model_id": "4da7f61feda54bfcbd734e7c4c4a24df",
       "version_major": 2,
       "version_minor": 0
      },
      "text/plain": [
       "  0%|          | 0/1 [00:00<?, ?it/s]"
      ]
     },
     "metadata": {},
     "output_type": "display_data"
    },
    {
     "name": "stdout",
     "output_type": "stream",
     "text": [
      "SHAP values difference: -1.0967066010891813e-07\n",
      "SHAP values correction 2\n",
      "Background count: 10\n",
      "Background min diff: -1.8465442657470703\n",
      "Background max diff: 0.8065929412841797\n"
     ]
    },
    {
     "data": {
      "application/vnd.jupyter.widget-view+json": {
       "model_id": "c3e708d7c65a4662b92b242aa7e80fd9",
       "version_major": 2,
       "version_minor": 0
      },
      "text/plain": [
       "  0%|          | 0/1 [00:00<?, ?it/s]"
      ]
     },
     "metadata": {},
     "output_type": "display_data"
    },
    {
     "name": "stdout",
     "output_type": "stream",
     "text": [
      "SHAP values difference: -3.463812241477626e-07\n",
      "SHAP values correction 2\n",
      "Background count: 10\n",
      "Background min diff: -3.2327919006347656\n",
      "Background max diff: 2.0494956970214844\n"
     ]
    },
    {
     "data": {
      "application/vnd.jupyter.widget-view+json": {
       "model_id": "de67e8405cc846a6b95e0d4d278a6a6c",
       "version_major": 2,
       "version_minor": 0
      },
      "text/plain": [
       "  0%|          | 0/1 [00:00<?, ?it/s]"
      ]
     },
     "metadata": {},
     "output_type": "display_data"
    },
    {
     "name": "stdout",
     "output_type": "stream",
     "text": [
      "SHAP values difference: -2.8496828008428565e-08\n",
      "Background count: 10\n",
      "Background min diff: -1.875152587890625\n",
      "Background max diff: 1.937408447265625\n"
     ]
    },
    {
     "data": {
      "application/vnd.jupyter.widget-view+json": {
       "model_id": "10a09c53bbb842c394692ebc660bed90",
       "version_major": 2,
       "version_minor": 0
      },
      "text/plain": [
       "  0%|          | 0/1 [00:00<?, ?it/s]"
      ]
     },
     "metadata": {},
     "output_type": "display_data"
    },
    {
     "name": "stdout",
     "output_type": "stream",
     "text": [
      "SHAP values difference: -5.728244012459527e-08\n",
      "SHAP values correction 2\n",
      "Background count: 10\n",
      "Background min diff: -0.8999977111816406\n",
      "Background max diff: 0.8282127380371094\n"
     ]
    },
    {
     "data": {
      "application/vnd.jupyter.widget-view+json": {
       "model_id": "3c20fe3bf8184f948d069c83449dc349",
       "version_major": 2,
       "version_minor": 0
      },
      "text/plain": [
       "  0%|          | 0/1 [00:00<?, ?it/s]"
      ]
     },
     "metadata": {},
     "output_type": "display_data"
    },
    {
     "name": "stdout",
     "output_type": "stream",
     "text": [
      "SHAP values difference: -5.917925705034577e-08\n",
      "SHAP values correction 2\n",
      "Background count: 10\n",
      "Background min diff: -1.7763023376464844\n",
      "Background max diff: 1.6471595764160156\n"
     ]
    },
    {
     "data": {
      "application/vnd.jupyter.widget-view+json": {
       "model_id": "74ea2c6e7f844c729fb2e0dcc5bd6966",
       "version_major": 2,
       "version_minor": 0
      },
      "text/plain": [
       "  0%|          | 0/1 [00:00<?, ?it/s]"
      ]
     },
     "metadata": {},
     "output_type": "display_data"
    },
    {
     "name": "stdout",
     "output_type": "stream",
     "text": [
      "SHAP values difference: 7.692156955840801e-08\n",
      "Background count: 10\n",
      "Background min diff: -1.5169448852539062\n",
      "Background max diff: 1.3208541870117188\n"
     ]
    },
    {
     "data": {
      "application/vnd.jupyter.widget-view+json": {
       "model_id": "4349345a7f8040e084242b448d57a257",
       "version_major": 2,
       "version_minor": 0
      },
      "text/plain": [
       "  0%|          | 0/1 [00:00<?, ?it/s]"
      ]
     },
     "metadata": {},
     "output_type": "display_data"
    },
    {
     "name": "stdout",
     "output_type": "stream",
     "text": [
      "SHAP values difference: -1.3191831271797128e-07\n",
      "Background count: 10\n",
      "Background min diff: -1.1478919982910156\n",
      "Background max diff: 1.4882164001464844\n"
     ]
    },
    {
     "data": {
      "application/vnd.jupyter.widget-view+json": {
       "model_id": "c54673f66f7747bb9cb32ad03e133175",
       "version_major": 2,
       "version_minor": 0
      },
      "text/plain": [
       "  0%|          | 0/1 [00:00<?, ?it/s]"
      ]
     },
     "metadata": {},
     "output_type": "display_data"
    },
    {
     "name": "stdout",
     "output_type": "stream",
     "text": [
      "SHAP values difference: -2.8456192069370445e-07\n",
      "Background count: 10\n",
      "Background min diff: -2.196441650390625\n",
      "Background max diff: 1.64642333984375\n"
     ]
    },
    {
     "data": {
      "application/vnd.jupyter.widget-view+json": {
       "model_id": "0d3a64c0eeb64b9994b96b3a9c6d30dc",
       "version_major": 2,
       "version_minor": 0
      },
      "text/plain": [
       "  0%|          | 0/1 [00:00<?, ?it/s]"
      ]
     },
     "metadata": {},
     "output_type": "display_data"
    },
    {
     "name": "stdout",
     "output_type": "stream",
     "text": [
      "SHAP values difference: 6.783359900452979e-07\n",
      "Background count: 10\n",
      "Background min diff: -1.2197761535644531\n",
      "Background max diff: 1.6836051940917969\n"
     ]
    },
    {
     "data": {
      "application/vnd.jupyter.widget-view+json": {
       "model_id": "b2e28cd0c7f34122a82a917ba126288c",
       "version_major": 2,
       "version_minor": 0
      },
      "text/plain": [
       "  0%|          | 0/1 [00:00<?, ?it/s]"
      ]
     },
     "metadata": {},
     "output_type": "display_data"
    },
    {
     "name": "stdout",
     "output_type": "stream",
     "text": [
      "SHAP values difference: 9.191609962044822e-08\n",
      "Background count: 10\n",
      "Background min diff: -1.143646240234375\n",
      "Background max diff: 1.162750244140625\n"
     ]
    },
    {
     "data": {
      "application/vnd.jupyter.widget-view+json": {
       "model_id": "6299863ad9e043dfaa90d5afc7d779d6",
       "version_major": 2,
       "version_minor": 0
      },
      "text/plain": [
       "  0%|          | 0/1 [00:00<?, ?it/s]"
      ]
     },
     "metadata": {},
     "output_type": "display_data"
    },
    {
     "name": "stdout",
     "output_type": "stream",
     "text": [
      "SHAP values difference: 8.549353935904946e-07\n",
      "Background count: 10\n",
      "Background min diff: -1.1313858032226562\n",
      "Background max diff: 1.8796310424804688\n"
     ]
    },
    {
     "data": {
      "application/vnd.jupyter.widget-view+json": {
       "model_id": "d82687fdc2a84549ac9dcb2c8b73cfdf",
       "version_major": 2,
       "version_minor": 0
      },
      "text/plain": [
       "  0%|          | 0/1 [00:00<?, ?it/s]"
      ]
     },
     "metadata": {},
     "output_type": "display_data"
    },
    {
     "name": "stdout",
     "output_type": "stream",
     "text": [
      "SHAP values difference: -1.0424948371223763e-07\n",
      "Background count: 10\n",
      "Background min diff: -1.6206321716308594\n",
      "Background max diff: 1.5134925842285156\n"
     ]
    },
    {
     "data": {
      "application/vnd.jupyter.widget-view+json": {
       "model_id": "585d8d23749e40b3892486609d530852",
       "version_major": 2,
       "version_minor": 0
      },
      "text/plain": [
       "  0%|          | 0/1 [00:00<?, ?it/s]"
      ]
     },
     "metadata": {},
     "output_type": "display_data"
    },
    {
     "name": "stdout",
     "output_type": "stream",
     "text": [
      "SHAP values difference: -9.805920697658621e-08\n",
      "SHAP values correction 2\n",
      "Background count: 10\n",
      "Background min diff: -0.9313697814941406\n",
      "Background max diff: 0.8663597106933594\n"
     ]
    },
    {
     "data": {
      "application/vnd.jupyter.widget-view+json": {
       "model_id": "a2e46e78d4f945e8bff0aec838d4df4f",
       "version_major": 2,
       "version_minor": 0
      },
      "text/plain": [
       "  0%|          | 0/1 [00:00<?, ?it/s]"
      ]
     },
     "metadata": {},
     "output_type": "display_data"
    },
    {
     "name": "stdout",
     "output_type": "stream",
     "text": [
      "SHAP values difference: -7.861374093920404e-07\n",
      "Background count: 10\n",
      "Background min diff: -3.138975143432617\n",
      "Background max diff: 2.664339065551758\n"
     ]
    },
    {
     "data": {
      "application/vnd.jupyter.widget-view+json": {
       "model_id": "68aec7acffb14eb5b66760e2977c9c8b",
       "version_major": 2,
       "version_minor": 0
      },
      "text/plain": [
       "  0%|          | 0/1 [00:00<?, ?it/s]"
      ]
     },
     "metadata": {},
     "output_type": "display_data"
    },
    {
     "name": "stdout",
     "output_type": "stream",
     "text": [
      "SHAP values difference: -1.1137326971777384e-07\n",
      "Background count: 10\n",
      "Background min diff: -1.6351490020751953\n",
      "Background max diff: 1.3758678436279297\n"
     ]
    },
    {
     "data": {
      "application/vnd.jupyter.widget-view+json": {
       "model_id": "de11c1af35354cd5a47c1822bc5c8689",
       "version_major": 2,
       "version_minor": 0
      },
      "text/plain": [
       "  0%|          | 0/1 [00:00<?, ?it/s]"
      ]
     },
     "metadata": {},
     "output_type": "display_data"
    },
    {
     "name": "stdout",
     "output_type": "stream",
     "text": [
      "SHAP values difference: -4.625163363414231e-07\n",
      "SHAP values correction 2\n",
      "Background count: 10\n",
      "Background min diff: -0.9658927917480469\n",
      "Background max diff: 2.840656280517578\n"
     ]
    },
    {
     "data": {
      "application/vnd.jupyter.widget-view+json": {
       "model_id": "0ba29e556527449493903b70246e6dd7",
       "version_major": 2,
       "version_minor": 0
      },
      "text/plain": [
       "  0%|          | 0/1 [00:00<?, ?it/s]"
      ]
     },
     "metadata": {},
     "output_type": "display_data"
    },
    {
     "name": "stdout",
     "output_type": "stream",
     "text": [
      "SHAP values difference: 1.1990253412363927e-07\n",
      "SHAP values correction 2\n",
      "Background count: 10\n",
      "Background min diff: -1.2701568603515625\n",
      "Background max diff: 1.4949188232421875\n"
     ]
    },
    {
     "data": {
      "application/vnd.jupyter.widget-view+json": {
       "model_id": "2a137ffbc33c446b80ad246f0035ba26",
       "version_major": 2,
       "version_minor": 0
      },
      "text/plain": [
       "  0%|          | 0/1 [00:00<?, ?it/s]"
      ]
     },
     "metadata": {},
     "output_type": "display_data"
    },
    {
     "name": "stdout",
     "output_type": "stream",
     "text": [
      "SHAP values difference: -1.2997657528046602e-07\n",
      "Background count: 10\n",
      "Background min diff: -1.7461872100830078\n",
      "Background max diff: 1.6772747039794922\n"
     ]
    },
    {
     "data": {
      "application/vnd.jupyter.widget-view+json": {
       "model_id": "2e60142929214c0f9eec55b59605c50c",
       "version_major": 2,
       "version_minor": 0
      },
      "text/plain": [
       "  0%|          | 0/1 [00:00<?, ?it/s]"
      ]
     },
     "metadata": {},
     "output_type": "display_data"
    },
    {
     "name": "stdout",
     "output_type": "stream",
     "text": [
      "SHAP values difference: 2.2546634559361678e-07\n",
      "SHAP values correction 1\n",
      "SHAP values correction 2\n",
      "Background count: 10\n",
      "Background min diff: -0.8705902099609375\n",
      "Background max diff: 1.0153656005859375\n"
     ]
    },
    {
     "data": {
      "application/vnd.jupyter.widget-view+json": {
       "model_id": "066281f92deb42019274ead1204fbf9e",
       "version_major": 2,
       "version_minor": 0
      },
      "text/plain": [
       "  0%|          | 0/1 [00:00<?, ?it/s]"
      ]
     },
     "metadata": {},
     "output_type": "display_data"
    },
    {
     "name": "stdout",
     "output_type": "stream",
     "text": [
      "SHAP values difference: -9.968086089884309e-08\n",
      "Background count: 10\n",
      "Background min diff: -0.8479804992675781\n",
      "Background max diff: 0.8802299499511719\n"
     ]
    },
    {
     "data": {
      "application/vnd.jupyter.widget-view+json": {
       "model_id": "1b23e2baf74348ce8cb7d68759184788",
       "version_major": 2,
       "version_minor": 0
      },
      "text/plain": [
       "  0%|          | 0/1 [00:00<?, ?it/s]"
      ]
     },
     "metadata": {},
     "output_type": "display_data"
    },
    {
     "name": "stdout",
     "output_type": "stream",
     "text": [
      "SHAP values difference: 4.260463093430644e-07\n",
      "Background count: 10\n",
      "Background min diff: -1.1109981536865234\n",
      "Background max diff: 2.6955509185791016\n"
     ]
    },
    {
     "data": {
      "application/vnd.jupyter.widget-view+json": {
       "model_id": "ab589c97bfc444548b5559bb4f2cb480",
       "version_major": 2,
       "version_minor": 0
      },
      "text/plain": [
       "  0%|          | 0/1 [00:00<?, ?it/s]"
      ]
     },
     "metadata": {},
     "output_type": "display_data"
    },
    {
     "name": "stdout",
     "output_type": "stream",
     "text": [
      "SHAP values difference: 4.6658910335395376e-07\n",
      "Background count: 10\n",
      "Background min diff: -2.7071094512939453\n",
      "Background max diff: 6.784955978393555\n"
     ]
    },
    {
     "data": {
      "application/vnd.jupyter.widget-view+json": {
       "model_id": "4186792308994c4b8732a87775ffbb40",
       "version_major": 2,
       "version_minor": 0
      },
      "text/plain": [
       "  0%|          | 0/1 [00:00<?, ?it/s]"
      ]
     },
     "metadata": {},
     "output_type": "display_data"
    },
    {
     "name": "stdout",
     "output_type": "stream",
     "text": [
      "SHAP values difference: 8.424254449579394e-07\n",
      "SHAP values correction 1\n",
      "SHAP values correction 2\n",
      "Background count: 10\n",
      "Background min diff: -0.9445114135742188\n",
      "Background max diff: 0.9414443969726562\n"
     ]
    },
    {
     "data": {
      "application/vnd.jupyter.widget-view+json": {
       "model_id": "c808c22e2a5742b887a5ecf15db40ff6",
       "version_major": 2,
       "version_minor": 0
      },
      "text/plain": [
       "  0%|          | 0/1 [00:00<?, ?it/s]"
      ]
     },
     "metadata": {},
     "output_type": "display_data"
    },
    {
     "name": "stdout",
     "output_type": "stream",
     "text": [
      "SHAP values difference: -6.701285393262424e-08\n",
      "Background count: 10\n",
      "Background min diff: -0.5634498596191406\n",
      "Background max diff: 0.4514732360839844\n"
     ]
    },
    {
     "data": {
      "application/vnd.jupyter.widget-view+json": {
       "model_id": "2cee0c76ca154fda8f1367a41b2499e8",
       "version_major": 2,
       "version_minor": 0
      },
      "text/plain": [
       "  0%|          | 0/1 [00:00<?, ?it/s]"
      ]
     },
     "metadata": {},
     "output_type": "display_data"
    },
    {
     "name": "stdout",
     "output_type": "stream",
     "text": [
      "SHAP values difference: 6.878968008550146e-07\n",
      "Background count: 10\n",
      "Background min diff: -2.043121337890625\n",
      "Background max diff: 1.79974365234375\n"
     ]
    },
    {
     "data": {
      "application/vnd.jupyter.widget-view+json": {
       "model_id": "41280bcd2c744a66970b22a28c3406e9",
       "version_major": 2,
       "version_minor": 0
      },
      "text/plain": [
       "  0%|          | 0/1 [00:00<?, ?it/s]"
      ]
     },
     "metadata": {},
     "output_type": "display_data"
    },
    {
     "name": "stdout",
     "output_type": "stream",
     "text": [
      "SHAP values difference: -6.941502661561572e-08\n",
      "Background count: 10\n",
      "Background min diff: -3.1902809143066406\n",
      "Background max diff: 0.6525840759277344\n"
     ]
    },
    {
     "data": {
      "application/vnd.jupyter.widget-view+json": {
       "model_id": "d8d8eea3f2df4d7bb1e477c340633807",
       "version_major": 2,
       "version_minor": 0
      },
      "text/plain": [
       "  0%|          | 0/1 [00:00<?, ?it/s]"
      ]
     },
     "metadata": {},
     "output_type": "display_data"
    },
    {
     "name": "stdout",
     "output_type": "stream",
     "text": [
      "SHAP values difference: -6.756270796159924e-07\n",
      "SHAP values correction 2\n",
      "Background count: 10\n",
      "Background min diff: -3.0116519927978516\n",
      "Background max diff: 2.4469966888427734\n"
     ]
    },
    {
     "data": {
      "application/vnd.jupyter.widget-view+json": {
       "model_id": "3d71b117d8e44f3197a363a1c9cb6215",
       "version_major": 2,
       "version_minor": 0
      },
      "text/plain": [
       "  0%|          | 0/1 [00:00<?, ?it/s]"
      ]
     },
     "metadata": {},
     "output_type": "display_data"
    },
    {
     "name": "stdout",
     "output_type": "stream",
     "text": [
      "SHAP values difference: -3.2226516566424834e-08\n",
      "Background count: 10\n",
      "Background min diff: -0.4011497497558594\n",
      "Background max diff: 0.5215187072753906\n"
     ]
    },
    {
     "data": {
      "application/vnd.jupyter.widget-view+json": {
       "model_id": "f6bed41ab3984e3f9f3193cd2be7777c",
       "version_major": 2,
       "version_minor": 0
      },
      "text/plain": [
       "  0%|          | 0/1 [00:00<?, ?it/s]"
      ]
     },
     "metadata": {},
     "output_type": "display_data"
    },
    {
     "name": "stdout",
     "output_type": "stream",
     "text": [
      "SHAP values difference: -6.911678340770777e-08\n",
      "SHAP values correction 2\n",
      "Background count: 10\n",
      "Background min diff: -1.503732681274414\n",
      "Background max diff: 1.507284164428711\n"
     ]
    },
    {
     "data": {
      "application/vnd.jupyter.widget-view+json": {
       "model_id": "3dafcc087c8f41b49e9a8bfff12d5890",
       "version_major": 2,
       "version_minor": 0
      },
      "text/plain": [
       "  0%|          | 0/1 [00:00<?, ?it/s]"
      ]
     },
     "metadata": {},
     "output_type": "display_data"
    },
    {
     "name": "stdout",
     "output_type": "stream",
     "text": [
      "SHAP values difference: -2.808250876285001e-07\n",
      "Background count: 10\n",
      "Background min diff: -1.1360397338867188\n",
      "Background max diff: 1.0964431762695312\n"
     ]
    },
    {
     "data": {
      "application/vnd.jupyter.widget-view+json": {
       "model_id": "0f20850caf5d48b4851d3e1c12908cb2",
       "version_major": 2,
       "version_minor": 0
      },
      "text/plain": [
       "  0%|          | 0/1 [00:00<?, ?it/s]"
      ]
     },
     "metadata": {},
     "output_type": "display_data"
    },
    {
     "name": "stdout",
     "output_type": "stream",
     "text": [
      "SHAP values difference: 2.63446462867023e-07\n",
      "Background count: 10\n",
      "Background min diff: -1.7005805969238281\n",
      "Background max diff: 1.8704643249511719\n"
     ]
    },
    {
     "data": {
      "application/vnd.jupyter.widget-view+json": {
       "model_id": "5130c3a6116c48ca93cf4e35d2b2b983",
       "version_major": 2,
       "version_minor": 0
      },
      "text/plain": [
       "  0%|          | 0/1 [00:00<?, ?it/s]"
      ]
     },
     "metadata": {},
     "output_type": "display_data"
    },
    {
     "name": "stdout",
     "output_type": "stream",
     "text": [
      "SHAP values difference: -2.177455957763641e-07\n",
      "Background count: 10\n",
      "Background min diff: -1.3484573364257812\n",
      "Background max diff: 1.5549240112304688\n"
     ]
    },
    {
     "data": {
      "application/vnd.jupyter.widget-view+json": {
       "model_id": "f6b48a772fa34ea48e98b33208eba3a9",
       "version_major": 2,
       "version_minor": 0
      },
      "text/plain": [
       "  0%|          | 0/1 [00:00<?, ?it/s]"
      ]
     },
     "metadata": {},
     "output_type": "display_data"
    },
    {
     "name": "stdout",
     "output_type": "stream",
     "text": [
      "SHAP values difference: 5.4894293555207696e-08\n",
      "Background count: 10\n",
      "Background min diff: -0.4449577331542969\n",
      "Background max diff: 0.4777107238769531\n"
     ]
    },
    {
     "data": {
      "application/vnd.jupyter.widget-view+json": {
       "model_id": "539582cc938c4b1fba0934cd04cfcf4c",
       "version_major": 2,
       "version_minor": 0
      },
      "text/plain": [
       "  0%|          | 0/1 [00:00<?, ?it/s]"
      ]
     },
     "metadata": {},
     "output_type": "display_data"
    },
    {
     "name": "stdout",
     "output_type": "stream",
     "text": [
      "SHAP values difference: 1.2490358258787637e-07\n",
      "SHAP values correction 2\n",
      "Background count: 10\n",
      "Background min diff: -3.219888687133789\n",
      "Background max diff: 3.395803451538086\n"
     ]
    },
    {
     "data": {
      "application/vnd.jupyter.widget-view+json": {
       "model_id": "c25ee6cd0904455db7c33a07b5e73a50",
       "version_major": 2,
       "version_minor": 0
      },
      "text/plain": [
       "  0%|          | 0/1 [00:00<?, ?it/s]"
      ]
     },
     "metadata": {},
     "output_type": "display_data"
    },
    {
     "name": "stdout",
     "output_type": "stream",
     "text": [
      "SHAP values difference: -2.594753576445896e-07\n",
      "SHAP values correction 2\n",
      "Background count: 10\n",
      "Background min diff: -1.194936752319336\n",
      "Background max diff: 1.458200454711914\n"
     ]
    },
    {
     "data": {
      "application/vnd.jupyter.widget-view+json": {
       "model_id": "70e2d9c6d7ad4514870287f724281c22",
       "version_major": 2,
       "version_minor": 0
      },
      "text/plain": [
       "  0%|          | 0/1 [00:00<?, ?it/s]"
      ]
     },
     "metadata": {},
     "output_type": "display_data"
    },
    {
     "name": "stdout",
     "output_type": "stream",
     "text": [
      "SHAP values difference: 5.714182904625886e-08\n",
      "SHAP values correction 2\n",
      "Background count: 10\n",
      "Background min diff: -1.3684158325195312\n",
      "Background max diff: 0.7396163940429688\n"
     ]
    },
    {
     "data": {
      "application/vnd.jupyter.widget-view+json": {
       "model_id": "41c9b2b528244bfeb7e0c1ba0773d4c9",
       "version_major": 2,
       "version_minor": 0
      },
      "text/plain": [
       "  0%|          | 0/1 [00:00<?, ?it/s]"
      ]
     },
     "metadata": {},
     "output_type": "display_data"
    },
    {
     "name": "stdout",
     "output_type": "stream",
     "text": [
      "SHAP values difference: 1.8780180965904947e-07\n",
      "SHAP values correction 2\n",
      "Background count: 10\n",
      "Background min diff: -3.128023147583008\n",
      "Background max diff: 2.675291061401367\n"
     ]
    },
    {
     "data": {
      "application/vnd.jupyter.widget-view+json": {
       "model_id": "8d3b605032b64523a959e336bcfcb8eb",
       "version_major": 2,
       "version_minor": 0
      },
      "text/plain": [
       "  0%|          | 0/1 [00:00<?, ?it/s]"
      ]
     },
     "metadata": {},
     "output_type": "display_data"
    },
    {
     "name": "stdout",
     "output_type": "stream",
     "text": [
      "SHAP values difference: -4.669748250307748e-07\n",
      "Background count: 10\n",
      "Background min diff: -1.43280029296875\n",
      "Background max diff: 1.447509765625\n"
     ]
    },
    {
     "data": {
      "application/vnd.jupyter.widget-view+json": {
       "model_id": "8ad70918e5654f9c9b0498cdd8ffe461",
       "version_major": 2,
       "version_minor": 0
      },
      "text/plain": [
       "  0%|          | 0/1 [00:00<?, ?it/s]"
      ]
     },
     "metadata": {},
     "output_type": "display_data"
    },
    {
     "name": "stdout",
     "output_type": "stream",
     "text": [
      "SHAP values difference: 3.477183199152023e-07\n",
      "Background count: 10\n",
      "Background min diff: -0.0733642578125\n",
      "Background max diff: 0.687225341796875\n"
     ]
    },
    {
     "data": {
      "application/vnd.jupyter.widget-view+json": {
       "model_id": "27e29d80c96a4cac85fdf101a0bbb909",
       "version_major": 2,
       "version_minor": 0
      },
      "text/plain": [
       "  0%|          | 0/1 [00:00<?, ?it/s]"
      ]
     },
     "metadata": {},
     "output_type": "display_data"
    },
    {
     "name": "stdout",
     "output_type": "stream",
     "text": [
      "SHAP values difference: -2.1994336663055947e-07\n",
      "SHAP values correction 2\n",
      "Background count: 10\n",
      "Background min diff: -1.3615493774414062\n",
      "Background max diff: 1.4867477416992188\n"
     ]
    },
    {
     "data": {
      "application/vnd.jupyter.widget-view+json": {
       "model_id": "2cd612184b0244c098000777fdabab73",
       "version_major": 2,
       "version_minor": 0
      },
      "text/plain": [
       "  0%|          | 0/1 [00:00<?, ?it/s]"
      ]
     },
     "metadata": {},
     "output_type": "display_data"
    },
    {
     "name": "stdout",
     "output_type": "stream",
     "text": [
      "SHAP values difference: -2.5483203103249252e-08\n",
      "Background count: 10\n",
      "Background min diff: -4.075489044189453\n",
      "Background max diff: 4.012798309326172\n"
     ]
    },
    {
     "data": {
      "application/vnd.jupyter.widget-view+json": {
       "model_id": "30ae526a62224200a885ddee4ac81927",
       "version_major": 2,
       "version_minor": 0
      },
      "text/plain": [
       "  0%|          | 0/1 [00:00<?, ?it/s]"
      ]
     },
     "metadata": {},
     "output_type": "display_data"
    },
    {
     "name": "stdout",
     "output_type": "stream",
     "text": [
      "SHAP values difference: -5.253586721210013e-08\n",
      "SHAP values correction 2\n",
      "Background count: 10\n",
      "Background min diff: -1.7014389038085938\n",
      "Background max diff: 0.9516983032226562\n"
     ]
    },
    {
     "data": {
      "application/vnd.jupyter.widget-view+json": {
       "model_id": "daed1ae2e8c44dcd87bb791b9a76f6fe",
       "version_major": 2,
       "version_minor": 0
      },
      "text/plain": [
       "  0%|          | 0/1 [00:00<?, ?it/s]"
      ]
     },
     "metadata": {},
     "output_type": "display_data"
    },
    {
     "name": "stdout",
     "output_type": "stream",
     "text": [
      "SHAP values difference: -3.264494452537292e-07\n",
      "Background count: 10\n",
      "Background min diff: -0.8397674560546875\n",
      "Background max diff: 0.8884429931640625\n"
     ]
    },
    {
     "data": {
      "application/vnd.jupyter.widget-view+json": {
       "model_id": "a333cfc063f5477d8b285e8ced7fc340",
       "version_major": 2,
       "version_minor": 0
      },
      "text/plain": [
       "  0%|          | 0/1 [00:00<?, ?it/s]"
      ]
     },
     "metadata": {},
     "output_type": "display_data"
    },
    {
     "name": "stdout",
     "output_type": "stream",
     "text": [
      "SHAP values difference: -4.948795861992039e-08\n",
      "Background count: 10\n",
      "Background min diff: -0.4449577331542969\n",
      "Background max diff: 0.4777107238769531\n"
     ]
    },
    {
     "data": {
      "application/vnd.jupyter.widget-view+json": {
       "model_id": "4e9f9e8aeb754d62876bb277a0b9e85d",
       "version_major": 2,
       "version_minor": 0
      },
      "text/plain": [
       "  0%|          | 0/1 [00:00<?, ?it/s]"
      ]
     },
     "metadata": {},
     "output_type": "display_data"
    },
    {
     "name": "stdout",
     "output_type": "stream",
     "text": [
      "SHAP values difference: 1.4813156745674405e-07\n",
      "SHAP values correction 2\n",
      "Background count: 10\n",
      "Background min diff: -0.8993091583251953\n",
      "Background max diff: 1.1720104217529297\n"
     ]
    },
    {
     "data": {
      "application/vnd.jupyter.widget-view+json": {
       "model_id": "36b9357d4e8c455bad9be3e9378df99c",
       "version_major": 2,
       "version_minor": 0
      },
      "text/plain": [
       "  0%|          | 0/1 [00:00<?, ?it/s]"
      ]
     },
     "metadata": {},
     "output_type": "display_data"
    },
    {
     "name": "stdout",
     "output_type": "stream",
     "text": [
      "SHAP values difference: 1.0258257177042651e-07\n",
      "Background count: 10\n",
      "Background min diff: -1.0925674438476562\n",
      "Background max diff: 0.9261703491210938\n"
     ]
    },
    {
     "data": {
      "application/vnd.jupyter.widget-view+json": {
       "model_id": "25d3910fa503461bbeee47913b8d28f8",
       "version_major": 2,
       "version_minor": 0
      },
      "text/plain": [
       "  0%|          | 0/1 [00:00<?, ?it/s]"
      ]
     },
     "metadata": {},
     "output_type": "display_data"
    },
    {
     "name": "stdout",
     "output_type": "stream",
     "text": [
      "SHAP values difference: -3.543971942576718e-07\n",
      "Background count: 10\n",
      "Background min diff: -3.9062881469726562\n",
      "Background max diff: 5.585777282714844\n"
     ]
    },
    {
     "data": {
      "application/vnd.jupyter.widget-view+json": {
       "model_id": "ccaf79b14ff4454a847fae97c63836a5",
       "version_major": 2,
       "version_minor": 0
      },
      "text/plain": [
       "  0%|          | 0/1 [00:00<?, ?it/s]"
      ]
     },
     "metadata": {},
     "output_type": "display_data"
    },
    {
     "name": "stdout",
     "output_type": "stream",
     "text": [
      "SHAP values difference: -3.74038453543335e-08\n",
      "SHAP values correction 2\n",
      "Background count: 10\n",
      "Background min diff: -1.69610595703125\n",
      "Background max diff: 1.818115234375\n"
     ]
    },
    {
     "data": {
      "application/vnd.jupyter.widget-view+json": {
       "model_id": "0b5451b7966c40378ba0829074bb5d96",
       "version_major": 2,
       "version_minor": 0
      },
      "text/plain": [
       "  0%|          | 0/1 [00:00<?, ?it/s]"
      ]
     },
     "metadata": {},
     "output_type": "display_data"
    },
    {
     "name": "stdout",
     "output_type": "stream",
     "text": [
      "SHAP values difference: -1.421813706770081e-07\n",
      "Background count: 10\n",
      "Background min diff: -3.510608673095703\n",
      "Background max diff: 0.3322563171386719\n"
     ]
    },
    {
     "data": {
      "application/vnd.jupyter.widget-view+json": {
       "model_id": "4e441f9c68a04f1e8f9b92a3cb2f50db",
       "version_major": 2,
       "version_minor": 0
      },
      "text/plain": [
       "  0%|          | 0/1 [00:00<?, ?it/s]"
      ]
     },
     "metadata": {},
     "output_type": "display_data"
    },
    {
     "name": "stdout",
     "output_type": "stream",
     "text": [
      "SHAP values difference: -5.185358773474036e-07\n",
      "SHAP values correction 2\n",
      "Background count: 10\n",
      "Background min diff: -1.3002700805664062\n",
      "Background max diff: 1.4648056030273438\n"
     ]
    },
    {
     "data": {
      "application/vnd.jupyter.widget-view+json": {
       "model_id": "f7535e023557477ea09f82a930194b3d",
       "version_major": 2,
       "version_minor": 0
      },
      "text/plain": [
       "  0%|          | 0/1 [00:00<?, ?it/s]"
      ]
     },
     "metadata": {},
     "output_type": "display_data"
    },
    {
     "name": "stdout",
     "output_type": "stream",
     "text": [
      "SHAP values difference: -5.528688369338397e-07\n",
      "Background count: 10\n",
      "Background min diff: -2.0708885192871094\n",
      "Background max diff: 1.8658485412597656\n"
     ]
    },
    {
     "data": {
      "application/vnd.jupyter.widget-view+json": {
       "model_id": "034ac3eda4ea43168b9cb904ce6e48cf",
       "version_major": 2,
       "version_minor": 0
      },
      "text/plain": [
       "  0%|          | 0/1 [00:00<?, ?it/s]"
      ]
     },
     "metadata": {},
     "output_type": "display_data"
    },
    {
     "name": "stdout",
     "output_type": "stream",
     "text": [
      "SHAP values difference: -9.843093096151279e-08\n",
      "SHAP values correction 2\n",
      "Background count: 10\n",
      "Background min diff: -1.8154335021972656\n",
      "Background max diff: 1.4946250915527344\n"
     ]
    },
    {
     "data": {
      "application/vnd.jupyter.widget-view+json": {
       "model_id": "0bd9ffc10fa04d1ea1471d6bc9be7546",
       "version_major": 2,
       "version_minor": 0
      },
      "text/plain": [
       "  0%|          | 0/1 [00:00<?, ?it/s]"
      ]
     },
     "metadata": {},
     "output_type": "display_data"
    },
    {
     "name": "stdout",
     "output_type": "stream",
     "text": [
      "SHAP values difference: 3.20717546742344e-07\n",
      "Background count: 10\n",
      "Background min diff: -1.0816154479980469\n",
      "Background max diff: 0.9371223449707031\n"
     ]
    },
    {
     "data": {
      "application/vnd.jupyter.widget-view+json": {
       "model_id": "bae3c19b7e3f4a7da14be33e71f32f09",
       "version_major": 2,
       "version_minor": 0
      },
      "text/plain": [
       "  0%|          | 0/1 [00:00<?, ?it/s]"
      ]
     },
     "metadata": {},
     "output_type": "display_data"
    },
    {
     "name": "stdout",
     "output_type": "stream",
     "text": [
      "SHAP values difference: -6.716638267789676e-08\n",
      "Background count: 10\n",
      "Background min diff: -1.3376121520996094\n",
      "Background max diff: 1.5565834045410156\n"
     ]
    },
    {
     "data": {
      "application/vnd.jupyter.widget-view+json": {
       "model_id": "edf7354a2a6944df97a8dd1a1966b5ba",
       "version_major": 2,
       "version_minor": 0
      },
      "text/plain": [
       "  0%|          | 0/1 [00:00<?, ?it/s]"
      ]
     },
     "metadata": {},
     "output_type": "display_data"
    },
    {
     "name": "stdout",
     "output_type": "stream",
     "text": [
      "SHAP values difference: -1.6566099958481573e-07\n",
      "Background count: 10\n",
      "Background min diff: -3.3985252380371094\n",
      "Background max diff: 3.0313758850097656\n"
     ]
    },
    {
     "data": {
      "application/vnd.jupyter.widget-view+json": {
       "model_id": "38b0aed8ac1d43428f48363416ddf7da",
       "version_major": 2,
       "version_minor": 0
      },
      "text/plain": [
       "  0%|          | 0/1 [00:00<?, ?it/s]"
      ]
     },
     "metadata": {},
     "output_type": "display_data"
    },
    {
     "name": "stdout",
     "output_type": "stream",
     "text": [
      "SHAP values difference: 1.470321512320183e-07\n",
      "SHAP values correction 1\n",
      "SHAP values correction 2\n",
      "Background count: 10\n",
      "Background min diff: -15.271194458007812\n",
      "Background max diff: -0.0065155029296875\n"
     ]
    },
    {
     "data": {
      "application/vnd.jupyter.widget-view+json": {
       "model_id": "cfb6e105e2cc4337a695525c100d6f57",
       "version_major": 2,
       "version_minor": 0
      },
      "text/plain": [
       "  0%|          | 0/1 [00:00<?, ?it/s]"
      ]
     },
     "metadata": {},
     "output_type": "display_data"
    },
    {
     "name": "stdout",
     "output_type": "stream",
     "text": [
      "SHAP values difference: -5.619985188332066e-07\n",
      "SHAP values correction 2\n",
      "Background count: 10\n",
      "Background min diff: -1.1668548583984375\n",
      "Background max diff: 1.6310272216796875\n"
     ]
    },
    {
     "data": {
      "application/vnd.jupyter.widget-view+json": {
       "model_id": "9d7f78d537ef4bcc9d66cc18a994364f",
       "version_major": 2,
       "version_minor": 0
      },
      "text/plain": [
       "  0%|          | 0/1 [00:00<?, ?it/s]"
      ]
     },
     "metadata": {},
     "output_type": "display_data"
    },
    {
     "name": "stdout",
     "output_type": "stream",
     "text": [
      "SHAP values difference: 3.489079354324076e-07\n",
      "SHAP values correction 1\n",
      "SHAP values correction 2\n",
      "Background count: 10\n",
      "Background min diff: -0.8771018981933594\n",
      "Background max diff: 1.2445716857910156\n"
     ]
    },
    {
     "data": {
      "application/vnd.jupyter.widget-view+json": {
       "model_id": "9d7a178b2b9f497b9dbbc83952b167d5",
       "version_major": 2,
       "version_minor": 0
      },
      "text/plain": [
       "  0%|          | 0/1 [00:00<?, ?it/s]"
      ]
     },
     "metadata": {},
     "output_type": "display_data"
    },
    {
     "name": "stdout",
     "output_type": "stream",
     "text": [
      "SHAP values difference: -8.97652867593024e-08\n",
      "Background count: 10\n",
      "Background min diff: -0.4735527038574219\n",
      "Background max diff: 0.3849372863769531\n"
     ]
    },
    {
     "data": {
      "application/vnd.jupyter.widget-view+json": {
       "model_id": "e362b8b5c46541488c6cbc24458e02ef",
       "version_major": 2,
       "version_minor": 0
      },
      "text/plain": [
       "  0%|          | 0/1 [00:00<?, ?it/s]"
      ]
     },
     "metadata": {},
     "output_type": "display_data"
    },
    {
     "name": "stdout",
     "output_type": "stream",
     "text": [
      "SHAP values difference: 1.5781848361484663e-07\n",
      "Background count: 10\n",
      "Background min diff: -0.389312744140625\n",
      "Background max diff: 0.7579345703125\n"
     ]
    },
    {
     "data": {
      "application/vnd.jupyter.widget-view+json": {
       "model_id": "8e21374296794d07a604aba98750d256",
       "version_major": 2,
       "version_minor": 0
      },
      "text/plain": [
       "  0%|          | 0/1 [00:00<?, ?it/s]"
      ]
     },
     "metadata": {},
     "output_type": "display_data"
    },
    {
     "name": "stdout",
     "output_type": "stream",
     "text": [
      "SHAP values difference: 3.826570349474423e-08\n",
      "Background count: 10\n",
      "Background min diff: -1.5370864868164062\n",
      "Background max diff: 1.7889022827148438\n"
     ]
    },
    {
     "data": {
      "application/vnd.jupyter.widget-view+json": {
       "model_id": "e10eb9341b7f49aead7bf0fe34d4dc6e",
       "version_major": 2,
       "version_minor": 0
      },
      "text/plain": [
       "  0%|          | 0/1 [00:00<?, ?it/s]"
      ]
     },
     "metadata": {},
     "output_type": "display_data"
    },
    {
     "name": "stdout",
     "output_type": "stream",
     "text": [
      "SHAP values difference: -1.2505989133160256e-07\n",
      "Background count: 10\n",
      "Background min diff: -0.8665733337402344\n",
      "Background max diff: 0.9142494201660156\n"
     ]
    },
    {
     "data": {
      "application/vnd.jupyter.widget-view+json": {
       "model_id": "11da171007a14e909de1e9cc50188d8d",
       "version_major": 2,
       "version_minor": 0
      },
      "text/plain": [
       "  0%|          | 0/1 [00:00<?, ?it/s]"
      ]
     },
     "metadata": {},
     "output_type": "display_data"
    },
    {
     "name": "stdout",
     "output_type": "stream",
     "text": [
      "SHAP values difference: 4.200781518193253e-07\n",
      "Background count: 10\n",
      "Background min diff: -1.7111053466796875\n",
      "Background max diff: 2.1858673095703125\n"
     ]
    },
    {
     "data": {
      "application/vnd.jupyter.widget-view+json": {
       "model_id": "b60f5a39d7e9441eafe7bd74be394ee9",
       "version_major": 2,
       "version_minor": 0
      },
      "text/plain": [
       "  0%|          | 0/1 [00:00<?, ?it/s]"
      ]
     },
     "metadata": {},
     "output_type": "display_data"
    },
    {
     "name": "stdout",
     "output_type": "stream",
     "text": [
      "SHAP values difference: 1.994678933137095e-08\n",
      "SHAP values correction 2\n",
      "Background count: 10\n",
      "Background min diff: -1.1160316467285156\n",
      "Background max diff: 0.9014244079589844\n"
     ]
    },
    {
     "data": {
      "application/vnd.jupyter.widget-view+json": {
       "model_id": "9f19faf183db48fab1bff994c0d3b402",
       "version_major": 2,
       "version_minor": 0
      },
      "text/plain": [
       "  0%|          | 0/1 [00:00<?, ?it/s]"
      ]
     },
     "metadata": {},
     "output_type": "display_data"
    },
    {
     "name": "stdout",
     "output_type": "stream",
     "text": [
      "SHAP values difference: -1.1270181587974548e-07\n",
      "Background count: 10\n",
      "Background min diff: -1.3862571716308594\n",
      "Background max diff: 1.4940528869628906\n"
     ]
    },
    {
     "data": {
      "application/vnd.jupyter.widget-view+json": {
       "model_id": "d2b4a338864049acac5683f842858d22",
       "version_major": 2,
       "version_minor": 0
      },
      "text/plain": [
       "  0%|          | 0/1 [00:00<?, ?it/s]"
      ]
     },
     "metadata": {},
     "output_type": "display_data"
    },
    {
     "name": "stdout",
     "output_type": "stream",
     "text": [
      "SHAP values difference: -4.1799494709948704e-07\n",
      "Background count: 10\n",
      "Background min diff: -0.673583984375\n",
      "Background max diff: 0.8917236328125\n"
     ]
    },
    {
     "data": {
      "application/vnd.jupyter.widget-view+json": {
       "model_id": "f756bab4961a4590b4fd9e2186a7e3b6",
       "version_major": 2,
       "version_minor": 0
      },
      "text/plain": [
       "  0%|          | 0/1 [00:00<?, ?it/s]"
      ]
     },
     "metadata": {},
     "output_type": "display_data"
    },
    {
     "name": "stdout",
     "output_type": "stream",
     "text": [
      "SHAP values difference: 1.095557600194752e-07\n",
      "Background count: 10\n",
      "Background min diff: -1.8321685791015625\n",
      "Background max diff: 1.8843841552734375\n"
     ]
    },
    {
     "data": {
      "application/vnd.jupyter.widget-view+json": {
       "model_id": "fd94101c0a6f425a8647050fbb0a65c3",
       "version_major": 2,
       "version_minor": 0
      },
      "text/plain": [
       "  0%|          | 0/1 [00:00<?, ?it/s]"
      ]
     },
     "metadata": {},
     "output_type": "display_data"
    },
    {
     "name": "stdout",
     "output_type": "stream",
     "text": [
      "SHAP values difference: 7.844689431379948e-08\n",
      "SHAP values correction 1\n",
      "SHAP values correction 2\n",
      "Background count: 10\n",
      "Background min diff: -1.1762619018554688\n",
      "Background max diff: 0.8411941528320312\n"
     ]
    },
    {
     "data": {
      "application/vnd.jupyter.widget-view+json": {
       "model_id": "8e00a148feda4a5892c5e9a69bfccf41",
       "version_major": 2,
       "version_minor": 0
      },
      "text/plain": [
       "  0%|          | 0/1 [00:00<?, ?it/s]"
      ]
     },
     "metadata": {},
     "output_type": "display_data"
    },
    {
     "name": "stdout",
     "output_type": "stream",
     "text": [
      "SHAP values difference: 1.1187562876102675e-08\n",
      "SHAP values correction 2\n",
      "Background count: 10\n",
      "Background min diff: -0.9727516174316406\n",
      "Background max diff: 0.4287376403808594\n"
     ]
    },
    {
     "data": {
      "application/vnd.jupyter.widget-view+json": {
       "model_id": "71adf9185fa544d49408ed75cfc88df7",
       "version_major": 2,
       "version_minor": 0
      },
      "text/plain": [
       "  0%|          | 0/1 [00:00<?, ?it/s]"
      ]
     },
     "metadata": {},
     "output_type": "display_data"
    },
    {
     "name": "stdout",
     "output_type": "stream",
     "text": [
      "SHAP values difference: -1.6480209424907244e-07\n",
      "SHAP values correction 2\n",
      "Background count: 10\n",
      "Background min diff: -0.15549850463867188\n",
      "Background max diff: 0.6050910949707031\n"
     ]
    },
    {
     "data": {
      "application/vnd.jupyter.widget-view+json": {
       "model_id": "2a34bab736b94165b1f89bf3086289e8",
       "version_major": 2,
       "version_minor": 0
      },
      "text/plain": [
       "  0%|          | 0/1 [00:00<?, ?it/s]"
      ]
     },
     "metadata": {},
     "output_type": "display_data"
    },
    {
     "name": "stdout",
     "output_type": "stream",
     "text": [
      "SHAP values difference: 2.4888092298169795e-07\n",
      "Background count: 10\n",
      "Background min diff: -0.9316864013671875\n",
      "Background max diff: 0.4698028564453125\n"
     ]
    },
    {
     "data": {
      "application/vnd.jupyter.widget-view+json": {
       "model_id": "f10dd98319af402aab1d505905b652e6",
       "version_major": 2,
       "version_minor": 0
      },
      "text/plain": [
       "  0%|          | 0/1 [00:00<?, ?it/s]"
      ]
     },
     "metadata": {},
     "output_type": "display_data"
    },
    {
     "name": "stdout",
     "output_type": "stream",
     "text": [
      "SHAP values difference: 2.1190997934183997e-07\n",
      "Background count: 10\n",
      "Background min diff: -2.516101837158203\n",
      "Background max diff: 2.942546844482422\n"
     ]
    },
    {
     "data": {
      "application/vnd.jupyter.widget-view+json": {
       "model_id": "d921d81daf924121b60bdd6236a706c4",
       "version_major": 2,
       "version_minor": 0
      },
      "text/plain": [
       "  0%|          | 0/1 [00:00<?, ?it/s]"
      ]
     },
     "metadata": {},
     "output_type": "display_data"
    },
    {
     "name": "stdout",
     "output_type": "stream",
     "text": [
      "SHAP values difference: 1.9158264308316575e-08\n",
      "Background count: 10\n",
      "Background min diff: -1.29583740234375\n",
      "Background max diff: 1.552459716796875\n"
     ]
    },
    {
     "data": {
      "application/vnd.jupyter.widget-view+json": {
       "model_id": "c8b2be6297b1459b8629c81ea8a335cb",
       "version_major": 2,
       "version_minor": 0
      },
      "text/plain": [
       "  0%|          | 0/1 [00:00<?, ?it/s]"
      ]
     },
     "metadata": {},
     "output_type": "display_data"
    },
    {
     "name": "stdout",
     "output_type": "stream",
     "text": [
      "SHAP values difference: -4.965469520001875e-07\n",
      "SHAP values correction 1\n",
      "SHAP values correction 2\n",
      "Background count: 10\n",
      "Background min diff: -2.41143798828125\n",
      "Background max diff: 2.870849609375\n"
     ]
    },
    {
     "data": {
      "application/vnd.jupyter.widget-view+json": {
       "model_id": "830033756f364125ab0ffa1249ab1082",
       "version_major": 2,
       "version_minor": 0
      },
      "text/plain": [
       "  0%|          | 0/1 [00:00<?, ?it/s]"
      ]
     },
     "metadata": {},
     "output_type": "display_data"
    },
    {
     "name": "stdout",
     "output_type": "stream",
     "text": [
      "SHAP values difference: 4.127103636619722e-08\n",
      "Background count: 10\n",
      "Background min diff: -3.197986602783203\n",
      "Background max diff: 3.417705535888672\n"
     ]
    },
    {
     "data": {
      "application/vnd.jupyter.widget-view+json": {
       "model_id": "885dca99598949b1892a4b78921a280a",
       "version_major": 2,
       "version_minor": 0
      },
      "text/plain": [
       "  0%|          | 0/1 [00:00<?, ?it/s]"
      ]
     },
     "metadata": {},
     "output_type": "display_data"
    },
    {
     "name": "stdout",
     "output_type": "stream",
     "text": [
      "SHAP values difference: -9.463295924660997e-08\n",
      "Background count: 10\n",
      "Background min diff: -1.8632164001464844\n",
      "Background max diff: 1.3237648010253906\n"
     ]
    },
    {
     "data": {
      "application/vnd.jupyter.widget-view+json": {
       "model_id": "e7fa51f2d2ef4c39baeea3d6f2a55402",
       "version_major": 2,
       "version_minor": 0
      },
      "text/plain": [
       "  0%|          | 0/1 [00:00<?, ?it/s]"
      ]
     },
     "metadata": {},
     "output_type": "display_data"
    },
    {
     "name": "stdout",
     "output_type": "stream",
     "text": [
      "SHAP values difference: -2.5012844417915403e-07\n",
      "Background count: 10\n",
      "Background min diff: -1.410186767578125\n",
      "Background max diff: 1.201385498046875\n"
     ]
    },
    {
     "data": {
      "application/vnd.jupyter.widget-view+json": {
       "model_id": "04071da5ddd94f1e93cb7abe57a8e276",
       "version_major": 2,
       "version_minor": 0
      },
      "text/plain": [
       "  0%|          | 0/1 [00:00<?, ?it/s]"
      ]
     },
     "metadata": {},
     "output_type": "display_data"
    },
    {
     "name": "stdout",
     "output_type": "stream",
     "text": [
      "SHAP values difference: -2.778117433877014e-07\n",
      "Background count: 10\n",
      "Background min diff: -2.074665069580078\n",
      "Background max diff: 7.417400360107422\n"
     ]
    },
    {
     "data": {
      "application/vnd.jupyter.widget-view+json": {
       "model_id": "5becd63083f04f6380b5edae6a50efd4",
       "version_major": 2,
       "version_minor": 0
      },
      "text/plain": [
       "  0%|          | 0/1 [00:00<?, ?it/s]"
      ]
     },
     "metadata": {},
     "output_type": "display_data"
    },
    {
     "name": "stdout",
     "output_type": "stream",
     "text": [
      "SHAP values difference: -9.392219357806653e-08\n",
      "SHAP values correction 2\n",
      "Background count: 10\n",
      "Background min diff: -2.0341720581054688\n",
      "Background max diff: 1.8628005981445312\n"
     ]
    },
    {
     "data": {
      "application/vnd.jupyter.widget-view+json": {
       "model_id": "8d522a34c7804b468d09a06c35e0185d",
       "version_major": 2,
       "version_minor": 0
      },
      "text/plain": [
       "  0%|          | 0/1 [00:00<?, ?it/s]"
      ]
     },
     "metadata": {},
     "output_type": "display_data"
    },
    {
     "name": "stdout",
     "output_type": "stream",
     "text": [
      "SHAP values difference: -7.100578161001181e-07\n",
      "SHAP values correction 2\n",
      "Background count: 10\n",
      "Background min diff: -1.2885360717773438\n",
      "Background max diff: 1.4478225708007812\n"
     ]
    },
    {
     "data": {
      "application/vnd.jupyter.widget-view+json": {
       "model_id": "9bb838016bda42c398642a09294fe511",
       "version_major": 2,
       "version_minor": 0
      },
      "text/plain": [
       "  0%|          | 0/1 [00:00<?, ?it/s]"
      ]
     },
     "metadata": {},
     "output_type": "display_data"
    },
    {
     "name": "stdout",
     "output_type": "stream",
     "text": [
      "SHAP values difference: 1.6042320538645072e-07\n",
      "SHAP values correction 2\n",
      "Background count: 10\n",
      "Background min diff: -0.45043182373046875\n",
      "Background max diff: 0.47223663330078125\n"
     ]
    },
    {
     "data": {
      "application/vnd.jupyter.widget-view+json": {
       "model_id": "086ce0fa52cb4b7e96ec510a3618e188",
       "version_major": 2,
       "version_minor": 0
      },
      "text/plain": [
       "  0%|          | 0/1 [00:00<?, ?it/s]"
      ]
     },
     "metadata": {},
     "output_type": "display_data"
    },
    {
     "name": "stdout",
     "output_type": "stream",
     "text": [
      "SHAP values difference: -3.0695407815528597e-07\n",
      "Background count: 10\n",
      "Background min diff: -0.8944969177246094\n",
      "Background max diff: 0.8774757385253906\n"
     ]
    },
    {
     "data": {
      "application/vnd.jupyter.widget-view+json": {
       "model_id": "7c309621d41a4df5a1d6bfc52a0f1e70",
       "version_major": 2,
       "version_minor": 0
      },
      "text/plain": [
       "  0%|          | 0/1 [00:00<?, ?it/s]"
      ]
     },
     "metadata": {},
     "output_type": "display_data"
    },
    {
     "name": "stdout",
     "output_type": "stream",
     "text": [
      "SHAP values difference: -9.574051507144077e-08\n",
      "SHAP values correction 2\n",
      "Background count: 10\n",
      "Background min diff: -14.419723510742188\n",
      "Background max diff: 0.8449554443359375\n"
     ]
    },
    {
     "data": {
      "application/vnd.jupyter.widget-view+json": {
       "model_id": "7005ace987c440a9a5947e7f7e602825",
       "version_major": 2,
       "version_minor": 0
      },
      "text/plain": [
       "  0%|          | 0/1 [00:00<?, ?it/s]"
      ]
     },
     "metadata": {},
     "output_type": "display_data"
    },
    {
     "name": "stdout",
     "output_type": "stream",
     "text": [
      "SHAP values difference: 6.141874777654266e-07\n",
      "Background count: 10\n",
      "Background min diff: -0.9527168273925781\n",
      "Background max diff: 1.0470695495605469\n"
     ]
    },
    {
     "data": {
      "application/vnd.jupyter.widget-view+json": {
       "model_id": "174caf7d00bf43368d6a798ef11ee411",
       "version_major": 2,
       "version_minor": 0
      },
      "text/plain": [
       "  0%|          | 0/1 [00:00<?, ?it/s]"
      ]
     },
     "metadata": {},
     "output_type": "display_data"
    },
    {
     "name": "stdout",
     "output_type": "stream",
     "text": [
      "SHAP values difference: -7.1080274288704e-07\n",
      "SHAP values correction 2\n",
      "Background count: 10\n",
      "Background min diff: -1.444732666015625\n",
      "Background max diff: 1.61590576171875\n"
     ]
    },
    {
     "data": {
      "application/vnd.jupyter.widget-view+json": {
       "model_id": "27a21ae9f2b64708bf23a9ef715f1998",
       "version_major": 2,
       "version_minor": 0
      },
      "text/plain": [
       "  0%|          | 0/1 [00:00<?, ?it/s]"
      ]
     },
     "metadata": {},
     "output_type": "display_data"
    },
    {
     "name": "stdout",
     "output_type": "stream",
     "text": [
      "SHAP values difference: 3.037454225918168e-07\n",
      "SHAP values correction 2\n",
      "Background count: 10\n",
      "Background min diff: -1.2860145568847656\n",
      "Background max diff: 1.0203819274902344\n"
     ]
    },
    {
     "data": {
      "application/vnd.jupyter.widget-view+json": {
       "model_id": "ae521578e1dc4eeabadde6703fd2826c",
       "version_major": 2,
       "version_minor": 0
      },
      "text/plain": [
       "  0%|          | 0/1 [00:00<?, ?it/s]"
      ]
     },
     "metadata": {},
     "output_type": "display_data"
    },
    {
     "name": "stdout",
     "output_type": "stream",
     "text": [
      "SHAP values difference: -6.650265049756854e-08\n",
      "Background count: 10\n",
      "Background min diff: -2.8583335876464844\n",
      "Background max diff: 2.6003150939941406\n"
     ]
    },
    {
     "data": {
      "application/vnd.jupyter.widget-view+json": {
       "model_id": "30dcc64d09fd4981a1a0d947af9925b0",
       "version_major": 2,
       "version_minor": 0
      },
      "text/plain": [
       "  0%|          | 0/1 [00:00<?, ?it/s]"
      ]
     },
     "metadata": {},
     "output_type": "display_data"
    },
    {
     "name": "stdout",
     "output_type": "stream",
     "text": [
      "SHAP values difference: 9.540916146022482e-07\n",
      "Background count: 10\n",
      "Background min diff: -0.14728546142578125\n",
      "Background max diff: 0.6133041381835938\n"
     ]
    },
    {
     "data": {
      "application/vnd.jupyter.widget-view+json": {
       "model_id": "e5a8b900cfd84d5dbeeec16994281780",
       "version_major": 2,
       "version_minor": 0
      },
      "text/plain": [
       "  0%|          | 0/1 [00:00<?, ?it/s]"
      ]
     },
     "metadata": {},
     "output_type": "display_data"
    },
    {
     "name": "stdout",
     "output_type": "stream",
     "text": [
      "SHAP values difference: 1.749209168622201e-07\n",
      "SHAP values correction 2\n",
      "Background count: 10\n",
      "Background min diff: -0.4607734680175781\n",
      "Background max diff: 0.9407157897949219\n"
     ]
    },
    {
     "data": {
      "application/vnd.jupyter.widget-view+json": {
       "model_id": "4359d40fce4543d2a582eae705bafd11",
       "version_major": 2,
       "version_minor": 0
      },
      "text/plain": [
       "  0%|          | 0/1 [00:00<?, ?it/s]"
      ]
     },
     "metadata": {},
     "output_type": "display_data"
    },
    {
     "name": "stdout",
     "output_type": "stream",
     "text": [
      "SHAP values difference: 2.4239704998763045e-07\n",
      "SHAP values correction 2\n",
      "Background count: 10\n",
      "Background min diff: -3.408050537109375\n",
      "Background max diff: 3.45965576171875\n"
     ]
    },
    {
     "data": {
      "application/vnd.jupyter.widget-view+json": {
       "model_id": "122185a9c54a49d1a3d9829e69fb1160",
       "version_major": 2,
       "version_minor": 0
      },
      "text/plain": [
       "  0%|          | 0/1 [00:00<?, ?it/s]"
      ]
     },
     "metadata": {},
     "output_type": "display_data"
    },
    {
     "name": "stdout",
     "output_type": "stream",
     "text": [
      "SHAP values difference: -5.722505669325528e-08\n",
      "Background count: 10\n",
      "Background min diff: -2.0316619873046875\n",
      "Background max diff: 4.5840301513671875\n"
     ]
    },
    {
     "data": {
      "application/vnd.jupyter.widget-view+json": {
       "model_id": "88a71aec282e4b7299444dfc10760029",
       "version_major": 2,
       "version_minor": 0
      },
      "text/plain": [
       "  0%|          | 0/1 [00:00<?, ?it/s]"
      ]
     },
     "metadata": {},
     "output_type": "display_data"
    },
    {
     "name": "stdout",
     "output_type": "stream",
     "text": [
      "SHAP values difference: -5.066518244944973e-07\n",
      "SHAP values correction 2\n",
      "Background count: 10\n",
      "Background min diff: -3.2943191528320312\n",
      "Background max diff: 0.5485458374023438\n"
     ]
    },
    {
     "data": {
      "application/vnd.jupyter.widget-view+json": {
       "model_id": "ee77e798a69047fe927bbb523efaed36",
       "version_major": 2,
       "version_minor": 0
      },
      "text/plain": [
       "  0%|          | 0/1 [00:00<?, ?it/s]"
      ]
     },
     "metadata": {},
     "output_type": "display_data"
    },
    {
     "name": "stdout",
     "output_type": "stream",
     "text": [
      "SHAP values difference: 1.7182930278636377e-07\n",
      "SHAP values correction 2\n",
      "Background count: 10\n",
      "Background min diff: -1.5744400024414062\n",
      "Background max diff: 1.2633590698242188\n"
     ]
    },
    {
     "data": {
      "application/vnd.jupyter.widget-view+json": {
       "model_id": "3ffc8e6b35264a188e23eaa49b990c9b",
       "version_major": 2,
       "version_minor": 0
      },
      "text/plain": [
       "  0%|          | 0/1 [00:00<?, ?it/s]"
      ]
     },
     "metadata": {},
     "output_type": "display_data"
    },
    {
     "name": "stdout",
     "output_type": "stream",
     "text": [
      "SHAP values difference: 1.6417836157245347e-07\n",
      "SHAP values correction 2\n",
      "Background count: 10\n",
      "Background min diff: -1.2000160217285156\n",
      "Background max diff: 1.6482810974121094\n"
     ]
    },
    {
     "data": {
      "application/vnd.jupyter.widget-view+json": {
       "model_id": "2591a049a5aa443392721f97990151a4",
       "version_major": 2,
       "version_minor": 0
      },
      "text/plain": [
       "  0%|          | 0/1 [00:00<?, ?it/s]"
      ]
     },
     "metadata": {},
     "output_type": "display_data"
    },
    {
     "name": "stdout",
     "output_type": "stream",
     "text": [
      "SHAP values difference: 2.2851913428212356e-07\n",
      "SHAP values correction 2\n",
      "Background count: 10\n",
      "Background min diff: -1.9160995483398438\n",
      "Background max diff: 1.8766860961914062\n"
     ]
    },
    {
     "data": {
      "application/vnd.jupyter.widget-view+json": {
       "model_id": "2e90fd7b02be46a4aabc6465db5932a3",
       "version_major": 2,
       "version_minor": 0
      },
      "text/plain": [
       "  0%|          | 0/1 [00:00<?, ?it/s]"
      ]
     },
     "metadata": {},
     "output_type": "display_data"
    },
    {
     "name": "stdout",
     "output_type": "stream",
     "text": [
      "SHAP values difference: -1.940246470155671e-07\n",
      "SHAP values correction 2\n",
      "Background count: 10\n",
      "Background min diff: -1.4777946472167969\n",
      "Background max diff: 1.3540534973144531\n"
     ]
    },
    {
     "data": {
      "application/vnd.jupyter.widget-view+json": {
       "model_id": "1f6200e2b17f41fa97c9d6cc2b8d3d02",
       "version_major": 2,
       "version_minor": 0
      },
      "text/plain": [
       "  0%|          | 0/1 [00:00<?, ?it/s]"
      ]
     },
     "metadata": {},
     "output_type": "display_data"
    },
    {
     "name": "stdout",
     "output_type": "stream",
     "text": [
      "SHAP values difference: -6.610426908082445e-07\n",
      "Background count: 10\n",
      "Background min diff: -5.17767333984375\n",
      "Background max diff: 2.1285400390625\n"
     ]
    },
    {
     "data": {
      "application/vnd.jupyter.widget-view+json": {
       "model_id": "a755f51fb8da4ae4b4135f88fdfe8480",
       "version_major": 2,
       "version_minor": 0
      },
      "text/plain": [
       "  0%|          | 0/1 [00:00<?, ?it/s]"
      ]
     },
     "metadata": {},
     "output_type": "display_data"
    },
    {
     "name": "stdout",
     "output_type": "stream",
     "text": [
      "SHAP values difference: 3.1170931436008686e-07\n",
      "Background count: 10\n",
      "Background min diff: -3.0212459564208984\n",
      "Background max diff: 2.7820682525634766\n"
     ]
    },
    {
     "data": {
      "application/vnd.jupyter.widget-view+json": {
       "model_id": "86863a4346ef4e63a970a169d5d992f6",
       "version_major": 2,
       "version_minor": 0
      },
      "text/plain": [
       "  0%|          | 0/1 [00:00<?, ?it/s]"
      ]
     },
     "metadata": {},
     "output_type": "display_data"
    },
    {
     "name": "stdout",
     "output_type": "stream",
     "text": [
      "SHAP values difference: 1.057650607094729e-06\n",
      "Background count: 10\n",
      "Background min diff: -1.9127159118652344\n",
      "Background max diff: 1.0209999084472656\n"
     ]
    },
    {
     "data": {
      "application/vnd.jupyter.widget-view+json": {
       "model_id": "e90f1ec12fde4f34b69d2c64fa4e917e",
       "version_major": 2,
       "version_minor": 0
      },
      "text/plain": [
       "  0%|          | 0/1 [00:00<?, ?it/s]"
      ]
     },
     "metadata": {},
     "output_type": "display_data"
    },
    {
     "name": "stdout",
     "output_type": "stream",
     "text": [
      "SHAP values difference: -4.910048616579843e-07\n",
      "Background count: 10\n",
      "Background min diff: -2.3957958221435547\n",
      "Background max diff: 4.21989631652832\n"
     ]
    },
    {
     "data": {
      "application/vnd.jupyter.widget-view+json": {
       "model_id": "35f472cbd3e242a4ad2fc2093780970b",
       "version_major": 2,
       "version_minor": 0
      },
      "text/plain": [
       "  0%|          | 0/1 [00:00<?, ?it/s]"
      ]
     },
     "metadata": {},
     "output_type": "display_data"
    },
    {
     "name": "stdout",
     "output_type": "stream",
     "text": [
      "SHAP values difference: 3.06087908796826e-07\n",
      "Background count: 10\n",
      "Background min diff: -1.3862571716308594\n",
      "Background max diff: 1.4940528869628906\n"
     ]
    },
    {
     "data": {
      "application/vnd.jupyter.widget-view+json": {
       "model_id": "84588b3688f640ea82af832e4918dcd1",
       "version_major": 2,
       "version_minor": 0
      },
      "text/plain": [
       "  0%|          | 0/1 [00:00<?, ?it/s]"
      ]
     },
     "metadata": {},
     "output_type": "display_data"
    },
    {
     "name": "stdout",
     "output_type": "stream",
     "text": [
      "SHAP values difference: -4.075803659020494e-07\n",
      "SHAP values correction 2\n",
      "Background count: 10\n",
      "Background min diff: -1.8820762634277344\n",
      "Background max diff: 2.0679359436035156\n"
     ]
    },
    {
     "data": {
      "application/vnd.jupyter.widget-view+json": {
       "model_id": "2ae1f3f16ce540f1ac9e11a2e5a50cb1",
       "version_major": 2,
       "version_minor": 0
      },
      "text/plain": [
       "  0%|          | 0/1 [00:00<?, ?it/s]"
      ]
     },
     "metadata": {},
     "output_type": "display_data"
    },
    {
     "name": "stdout",
     "output_type": "stream",
     "text": [
      "SHAP values difference: 3.455152537412687e-07\n",
      "Background count: 10\n",
      "Background min diff: -0.6857147216796875\n",
      "Background max diff: 0.9573211669921875\n"
     ]
    },
    {
     "data": {
      "application/vnd.jupyter.widget-view+json": {
       "model_id": "beddac8f05234de981046b8016a019ee",
       "version_major": 2,
       "version_minor": 0
      },
      "text/plain": [
       "  0%|          | 0/1 [00:00<?, ?it/s]"
      ]
     },
     "metadata": {},
     "output_type": "display_data"
    },
    {
     "name": "stdout",
     "output_type": "stream",
     "text": [
      "SHAP values difference: -1.8999831752353202e-07\n",
      "SHAP values correction 2\n",
      "Background count: 10\n",
      "Background min diff: -2.465463638305664\n",
      "Background max diff: 3.337850570678711\n"
     ]
    },
    {
     "data": {
      "application/vnd.jupyter.widget-view+json": {
       "model_id": "ce3586107f8149519b9903c84a62550c",
       "version_major": 2,
       "version_minor": 0
      },
      "text/plain": [
       "  0%|          | 0/1 [00:00<?, ?it/s]"
      ]
     },
     "metadata": {},
     "output_type": "display_data"
    },
    {
     "name": "stdout",
     "output_type": "stream",
     "text": [
      "SHAP values difference: -2.621228141208576e-07\n",
      "Background count: 10\n",
      "Background min diff: -0.48193359375\n",
      "Background max diff: 1.0833740234375\n"
     ]
    },
    {
     "data": {
      "application/vnd.jupyter.widget-view+json": {
       "model_id": "529dc366741a475bafd914fe0ca3db6b",
       "version_major": 2,
       "version_minor": 0
      },
      "text/plain": [
       "  0%|          | 0/1 [00:00<?, ?it/s]"
      ]
     },
     "metadata": {},
     "output_type": "display_data"
    },
    {
     "name": "stdout",
     "output_type": "stream",
     "text": [
      "SHAP values difference: 9.218844354563771e-08\n",
      "Background count: 10\n",
      "Background min diff: -2.9377307891845703\n",
      "Background max diff: 2.5209178924560547\n"
     ]
    },
    {
     "data": {
      "application/vnd.jupyter.widget-view+json": {
       "model_id": "5a1dede2d7944028971815d50dc4e216",
       "version_major": 2,
       "version_minor": 0
      },
      "text/plain": [
       "  0%|          | 0/1 [00:00<?, ?it/s]"
      ]
     },
     "metadata": {},
     "output_type": "display_data"
    },
    {
     "name": "stdout",
     "output_type": "stream",
     "text": [
      "SHAP values difference: 7.836506910052776e-08\n",
      "Background count: 10\n",
      "Background min diff: -0.970306396484375\n",
      "Background max diff: 0.71759033203125\n"
     ]
    },
    {
     "data": {
      "application/vnd.jupyter.widget-view+json": {
       "model_id": "81de33dd6315419ba3fe9988b7d22bbd",
       "version_major": 2,
       "version_minor": 0
      },
      "text/plain": [
       "  0%|          | 0/1 [00:00<?, ?it/s]"
      ]
     },
     "metadata": {},
     "output_type": "display_data"
    },
    {
     "name": "stdout",
     "output_type": "stream",
     "text": [
      "SHAP values difference: 2.2616536199393522e-07\n",
      "Background count: 10\n",
      "Background min diff: -1.5131072998046875\n",
      "Background max diff: 1.5982208251953125\n"
     ]
    },
    {
     "data": {
      "application/vnd.jupyter.widget-view+json": {
       "model_id": "9bf71b99f11644c9bdc377cee5fa2f62",
       "version_major": 2,
       "version_minor": 0
      },
      "text/plain": [
       "  0%|          | 0/1 [00:00<?, ?it/s]"
      ]
     },
     "metadata": {},
     "output_type": "display_data"
    },
    {
     "name": "stdout",
     "output_type": "stream",
     "text": [
      "SHAP values difference: -1.6551999326708255e-07\n",
      "SHAP values correction 2\n",
      "Background count: 10\n",
      "Background min diff: -1.2447319030761719\n",
      "Background max diff: 1.4916267395019531\n"
     ]
    },
    {
     "data": {
      "application/vnd.jupyter.widget-view+json": {
       "model_id": "35235a27430f47b3b51869d23ce4c43d",
       "version_major": 2,
       "version_minor": 0
      },
      "text/plain": [
       "  0%|          | 0/1 [00:00<?, ?it/s]"
      ]
     },
     "metadata": {},
     "output_type": "display_data"
    },
    {
     "name": "stdout",
     "output_type": "stream",
     "text": [
      "SHAP values difference: 2.1945157868685783e-07\n",
      "Background count: 10\n",
      "Background min diff: -0.5065765380859375\n",
      "Background max diff: 1.0587310791015625\n"
     ]
    },
    {
     "data": {
      "application/vnd.jupyter.widget-view+json": {
       "model_id": "7f31f223710649c5a976212a0d169d24",
       "version_major": 2,
       "version_minor": 0
      },
      "text/plain": [
       "  0%|          | 0/1 [00:00<?, ?it/s]"
      ]
     },
     "metadata": {},
     "output_type": "display_data"
    },
    {
     "name": "stdout",
     "output_type": "stream",
     "text": [
      "SHAP values difference: -9.861626182328109e-08\n",
      "Background count: 10\n",
      "Background min diff: -2.056365966796875\n",
      "Background max diff: 1.253692626953125\n"
     ]
    },
    {
     "data": {
      "application/vnd.jupyter.widget-view+json": {
       "model_id": "8c20effb4e834f3c9a15fa7b50e09d95",
       "version_major": 2,
       "version_minor": 0
      },
      "text/plain": [
       "  0%|          | 0/1 [00:00<?, ?it/s]"
      ]
     },
     "metadata": {},
     "output_type": "display_data"
    },
    {
     "name": "stdout",
     "output_type": "stream",
     "text": [
      "SHAP values difference: -2.2158457735343973e-07\n",
      "Background count: 10\n",
      "Background min diff: -4.551662445068359\n",
      "Background max diff: 4.025485992431641\n"
     ]
    },
    {
     "data": {
      "application/vnd.jupyter.widget-view+json": {
       "model_id": "fedce15045564a6bbdfa324d94589154",
       "version_major": 2,
       "version_minor": 0
      },
      "text/plain": [
       "  0%|          | 0/1 [00:00<?, ?it/s]"
      ]
     },
     "metadata": {},
     "output_type": "display_data"
    },
    {
     "name": "stdout",
     "output_type": "stream",
     "text": [
      "SHAP values difference: -7.089430695828014e-07\n",
      "Background count: 10\n",
      "Background min diff: -0.836456298828125\n",
      "Background max diff: 0.944366455078125\n"
     ]
    },
    {
     "data": {
      "application/vnd.jupyter.widget-view+json": {
       "model_id": "a75df12ca32e47a2b979f7f3e927adea",
       "version_major": 2,
       "version_minor": 0
      },
      "text/plain": [
       "  0%|          | 0/1 [00:00<?, ?it/s]"
      ]
     },
     "metadata": {},
     "output_type": "display_data"
    },
    {
     "name": "stdout",
     "output_type": "stream",
     "text": [
      "SHAP values difference: 3.0312006060739805e-07\n",
      "Background count: 10\n",
      "Background min diff: -0.6665916442871094\n",
      "Background max diff: 1.4047279357910156\n"
     ]
    },
    {
     "data": {
      "application/vnd.jupyter.widget-view+json": {
       "model_id": "7bf014ca62df42388853d0e8a145a927",
       "version_major": 2,
       "version_minor": 0
      },
      "text/plain": [
       "  0%|          | 0/1 [00:00<?, ?it/s]"
      ]
     },
     "metadata": {},
     "output_type": "display_data"
    },
    {
     "name": "stdout",
     "output_type": "stream",
     "text": [
      "SHAP values difference: -8.10369291670554e-08\n",
      "SHAP values correction 2\n",
      "Background count: 10\n",
      "Background min diff: -2.9979629516601562\n",
      "Background max diff: 2.4606857299804688\n"
     ]
    },
    {
     "data": {
      "application/vnd.jupyter.widget-view+json": {
       "model_id": "d01d6c1e21e449c4a47d6df4f5ae03dd",
       "version_major": 2,
       "version_minor": 0
      },
      "text/plain": [
       "  0%|          | 0/1 [00:00<?, ?it/s]"
      ]
     },
     "metadata": {},
     "output_type": "display_data"
    },
    {
     "name": "stdout",
     "output_type": "stream",
     "text": [
      "SHAP values difference: -4.070109405063249e-08\n",
      "SHAP values correction 2\n",
      "Background count: 10\n",
      "Background min diff: -0.7611961364746094\n",
      "Background max diff: 0.8041114807128906\n"
     ]
    },
    {
     "data": {
      "application/vnd.jupyter.widget-view+json": {
       "model_id": "8f9a6210c6d840d2bebd1b8b4d073b88",
       "version_major": 2,
       "version_minor": 0
      },
      "text/plain": [
       "  0%|          | 0/1 [00:00<?, ?it/s]"
      ]
     },
     "metadata": {},
     "output_type": "display_data"
    },
    {
     "name": "stdout",
     "output_type": "stream",
     "text": [
      "SHAP values difference: -7.22020011778568e-07\n",
      "Background count: 10\n",
      "Background min diff: -2.889829635620117\n",
      "Background max diff: 2.913484573364258\n"
     ]
    },
    {
     "data": {
      "application/vnd.jupyter.widget-view+json": {
       "model_id": "f5a3621e2c7140ff98915ea3077b0f14",
       "version_major": 2,
       "version_minor": 0
      },
      "text/plain": [
       "  0%|          | 0/1 [00:00<?, ?it/s]"
      ]
     },
     "metadata": {},
     "output_type": "display_data"
    },
    {
     "name": "stdout",
     "output_type": "stream",
     "text": [
      "SHAP values difference: -6.505358030040043e-08\n",
      "SHAP values correction 2\n",
      "Background count: 10\n",
      "Background min diff: -0.85345458984375\n",
      "Background max diff: 0.874755859375\n"
     ]
    },
    {
     "data": {
      "application/vnd.jupyter.widget-view+json": {
       "model_id": "325bacf37070494a8e7481723a332bf8",
       "version_major": 2,
       "version_minor": 0
      },
      "text/plain": [
       "  0%|          | 0/1 [00:00<?, ?it/s]"
      ]
     },
     "metadata": {},
     "output_type": "display_data"
    },
    {
     "name": "stdout",
     "output_type": "stream",
     "text": [
      "SHAP values difference: -2.645013630342419e-07\n",
      "Background count: 10\n",
      "Background min diff: -1.3171234130859375\n",
      "Background max diff: 1.1314544677734375\n"
     ]
    },
    {
     "data": {
      "application/vnd.jupyter.widget-view+json": {
       "model_id": "550c5e307ee44a8e83ad3236efc7e6af",
       "version_major": 2,
       "version_minor": 0
      },
      "text/plain": [
       "  0%|          | 0/1 [00:00<?, ?it/s]"
      ]
     },
     "metadata": {},
     "output_type": "display_data"
    },
    {
     "name": "stdout",
     "output_type": "stream",
     "text": [
      "SHAP values difference: 9.595602534773207e-08\n",
      "Background count: 10\n",
      "Background min diff: -1.7915821075439453\n",
      "Background max diff: 2.0269603729248047\n"
     ]
    },
    {
     "data": {
      "application/vnd.jupyter.widget-view+json": {
       "model_id": "2e219d56677a475888234cc97c302c71",
       "version_major": 2,
       "version_minor": 0
      },
      "text/plain": [
       "  0%|          | 0/1 [00:00<?, ?it/s]"
      ]
     },
     "metadata": {},
     "output_type": "display_data"
    },
    {
     "name": "stdout",
     "output_type": "stream",
     "text": [
      "SHAP values difference: -5.573286898652441e-08\n",
      "Background count: 10\n",
      "Background min diff: -1.2478351593017578\n",
      "Background max diff: 8.244230270385742\n"
     ]
    },
    {
     "data": {
      "application/vnd.jupyter.widget-view+json": {
       "model_id": "3a8a27d57d2b4afd88d8fade5ec0126a",
       "version_major": 2,
       "version_minor": 0
      },
      "text/plain": [
       "  0%|          | 0/1 [00:00<?, ?it/s]"
      ]
     },
     "metadata": {},
     "output_type": "display_data"
    },
    {
     "name": "stdout",
     "output_type": "stream",
     "text": [
      "SHAP values difference: -8.054742295371398e-08\n",
      "Background count: 10\n",
      "Background min diff: -0.8939056396484375\n",
      "Background max diff: 0.8735809326171875\n"
     ]
    },
    {
     "data": {
      "application/vnd.jupyter.widget-view+json": {
       "model_id": "1fab0c4ae67c4bdab103cef1b844faec",
       "version_major": 2,
       "version_minor": 0
      },
      "text/plain": [
       "  0%|          | 0/1 [00:00<?, ?it/s]"
      ]
     },
     "metadata": {},
     "output_type": "display_data"
    },
    {
     "name": "stdout",
     "output_type": "stream",
     "text": [
      "SHAP values difference: -1.5048713208898334e-07\n",
      "SHAP values correction 2\n",
      "Background count: 10\n",
      "Background min diff: -1.1059074401855469\n",
      "Background max diff: 1.0599861145019531\n"
     ]
    },
    {
     "data": {
      "application/vnd.jupyter.widget-view+json": {
       "model_id": "e4250a4093d14b58a6bda2a253d2e92c",
       "version_major": 2,
       "version_minor": 0
      },
      "text/plain": [
       "  0%|          | 0/1 [00:00<?, ?it/s]"
      ]
     },
     "metadata": {},
     "output_type": "display_data"
    },
    {
     "name": "stdout",
     "output_type": "stream",
     "text": [
      "SHAP values difference: -8.010041341321994e-08\n",
      "Background count: 10\n",
      "Background min diff: -6.059257507324219\n",
      "Background max diff: 1.2469558715820312\n"
     ]
    },
    {
     "data": {
      "application/vnd.jupyter.widget-view+json": {
       "model_id": "c9a96c4bc95b446ebe144008c2b5ef84",
       "version_major": 2,
       "version_minor": 0
      },
      "text/plain": [
       "  0%|          | 0/1 [00:00<?, ?it/s]"
      ]
     },
     "metadata": {},
     "output_type": "display_data"
    },
    {
     "name": "stdout",
     "output_type": "stream",
     "text": [
      "SHAP values difference: 6.192274182303947e-08\n",
      "SHAP values correction 2\n",
      "Background count: 10\n",
      "Background min diff: -0.809967041015625\n",
      "Background max diff: 0.6578369140625\n"
     ]
    },
    {
     "data": {
      "application/vnd.jupyter.widget-view+json": {
       "model_id": "be3ab8d78f7d421a9d18322a4feb561b",
       "version_major": 2,
       "version_minor": 0
      },
      "text/plain": [
       "  0%|          | 0/1 [00:00<?, ?it/s]"
      ]
     },
     "metadata": {},
     "output_type": "display_data"
    },
    {
     "name": "stdout",
     "output_type": "stream",
     "text": [
      "SHAP values difference: 6.557350218372449e-10\n",
      "SHAP values correction 2\n",
      "Background count: 10\n",
      "Background min diff: -1.1073875427246094\n",
      "Background max diff: 0.9639320373535156\n"
     ]
    },
    {
     "data": {
      "application/vnd.jupyter.widget-view+json": {
       "model_id": "2992fbd1a624463f92783a70bae0fbd3",
       "version_major": 2,
       "version_minor": 0
      },
      "text/plain": [
       "  0%|          | 0/1 [00:00<?, ?it/s]"
      ]
     },
     "metadata": {},
     "output_type": "display_data"
    },
    {
     "name": "stdout",
     "output_type": "stream",
     "text": [
      "SHAP values difference: -2.8927263073796894e-07\n",
      "SHAP values correction 2\n",
      "Background count: 10\n",
      "Background min diff: -1.4135665893554688\n",
      "Background max diff: 1.4347305297851562\n"
     ]
    },
    {
     "data": {
      "application/vnd.jupyter.widget-view+json": {
       "model_id": "365feef82f0d43dc965c39e406e9d197",
       "version_major": 2,
       "version_minor": 0
      },
      "text/plain": [
       "  0%|          | 0/1 [00:00<?, ?it/s]"
      ]
     },
     "metadata": {},
     "output_type": "display_data"
    },
    {
     "name": "stdout",
     "output_type": "stream",
     "text": [
      "SHAP values difference: -3.865612168141297e-07\n",
      "Background count: 10\n",
      "Background min diff: -0.6866264343261719\n",
      "Background max diff: 0.4981269836425781\n"
     ]
    },
    {
     "data": {
      "application/vnd.jupyter.widget-view+json": {
       "model_id": "47bc095b63bb49f09b9c9dac511af20e",
       "version_major": 2,
       "version_minor": 0
      },
      "text/plain": [
       "  0%|          | 0/1 [00:00<?, ?it/s]"
      ]
     },
     "metadata": {},
     "output_type": "display_data"
    },
    {
     "name": "stdout",
     "output_type": "stream",
     "text": [
      "SHAP values difference: -1.6778829747821078e-07\n",
      "SHAP values correction 1\n",
      "SHAP values correction 2\n",
      "Background count: 10\n",
      "Background min diff: -0.5874290466308594\n",
      "Background max diff: 0.5218238830566406\n"
     ]
    },
    {
     "data": {
      "application/vnd.jupyter.widget-view+json": {
       "model_id": "45845895e7fc41febeeb83a879b30e48",
       "version_major": 2,
       "version_minor": 0
      },
      "text/plain": [
       "  0%|          | 0/1 [00:00<?, ?it/s]"
      ]
     },
     "metadata": {},
     "output_type": "display_data"
    },
    {
     "name": "stdout",
     "output_type": "stream",
     "text": [
      "SHAP values difference: -1.1589015791457769e-07\n",
      "SHAP values correction 2\n",
      "Background count: 10\n",
      "Background min diff: -2.863809585571289\n",
      "Background max diff: 2.594839096069336\n"
     ]
    },
    {
     "data": {
      "application/vnd.jupyter.widget-view+json": {
       "model_id": "59135019dabe4606b8412fa003ff0d62",
       "version_major": 2,
       "version_minor": 0
      },
      "text/plain": [
       "  0%|          | 0/1 [00:00<?, ?it/s]"
      ]
     },
     "metadata": {},
     "output_type": "display_data"
    },
    {
     "name": "stdout",
     "output_type": "stream",
     "text": [
      "SHAP values difference: 5.663216029461182e-08\n",
      "Background count: 10\n",
      "Background min diff: -2.419635772705078\n",
      "Background max diff: 7.072429656982422\n"
     ]
    },
    {
     "data": {
      "application/vnd.jupyter.widget-view+json": {
       "model_id": "a8f314a0ae314e5694b72bd5f568ccec",
       "version_major": 2,
       "version_minor": 0
      },
      "text/plain": [
       "  0%|          | 0/1 [00:00<?, ?it/s]"
      ]
     },
     "metadata": {},
     "output_type": "display_data"
    },
    {
     "name": "stdout",
     "output_type": "stream",
     "text": [
      "SHAP values difference: -2.359477235813756e-08\n",
      "Background count: 10\n",
      "Background min diff: -1.6252403259277344\n",
      "Background max diff: 1.3084754943847656\n"
     ]
    },
    {
     "data": {
      "application/vnd.jupyter.widget-view+json": {
       "model_id": "1fc8822a34134d6e8edb03a6203371a1",
       "version_major": 2,
       "version_minor": 0
      },
      "text/plain": [
       "  0%|          | 0/1 [00:00<?, ?it/s]"
      ]
     },
     "metadata": {},
     "output_type": "display_data"
    },
    {
     "name": "stdout",
     "output_type": "stream",
     "text": [
      "SHAP values difference: -3.1713373260799926e-08\n",
      "Background count: 10\n",
      "Background min diff: -1.6831703186035156\n",
      "Background max diff: 3.5991172790527344\n"
     ]
    },
    {
     "data": {
      "application/vnd.jupyter.widget-view+json": {
       "model_id": "1c2f7a0453134751924f9cffbf0f47a6",
       "version_major": 2,
       "version_minor": 0
      },
      "text/plain": [
       "  0%|          | 0/1 [00:00<?, ?it/s]"
      ]
     },
     "metadata": {},
     "output_type": "display_data"
    },
    {
     "name": "stdout",
     "output_type": "stream",
     "text": [
      "SHAP values difference: 4.75212353023835e-07\n",
      "Background count: 10\n",
      "Background min diff: -1.8299121856689453\n",
      "Background max diff: 1.9886302947998047\n"
     ]
    },
    {
     "data": {
      "application/vnd.jupyter.widget-view+json": {
       "model_id": "6c0f28b669ef4f7cbdba37e52a9c17b9",
       "version_major": 2,
       "version_minor": 0
      },
      "text/plain": [
       "  0%|          | 0/1 [00:00<?, ?it/s]"
      ]
     },
     "metadata": {},
     "output_type": "display_data"
    },
    {
     "name": "stdout",
     "output_type": "stream",
     "text": [
      "SHAP values difference: 1.2990014042202347e-07\n",
      "Background count: 10\n",
      "Background min diff: -0.6200981140136719\n",
      "Background max diff: 1.0783882141113281\n"
     ]
    },
    {
     "data": {
      "application/vnd.jupyter.widget-view+json": {
       "model_id": "3193d8b365fe454fb0d50f05292290d5",
       "version_major": 2,
       "version_minor": 0
      },
      "text/plain": [
       "  0%|          | 0/1 [00:00<?, ?it/s]"
      ]
     },
     "metadata": {},
     "output_type": "display_data"
    },
    {
     "name": "stdout",
     "output_type": "stream",
     "text": [
      "SHAP values difference: -1.7826097220563497e-07\n",
      "Background count: 10\n",
      "Background min diff: -1.7915821075439453\n",
      "Background max diff: 2.0269603729248047\n"
     ]
    },
    {
     "data": {
      "application/vnd.jupyter.widget-view+json": {
       "model_id": "cf336ed4d54f4a4f9c9374a014407eec",
       "version_major": 2,
       "version_minor": 0
      },
      "text/plain": [
       "  0%|          | 0/1 [00:00<?, ?it/s]"
      ]
     },
     "metadata": {},
     "output_type": "display_data"
    },
    {
     "name": "stdout",
     "output_type": "stream",
     "text": [
      "SHAP values difference: -2.470310023205968e-07\n",
      "SHAP values correction 1\n",
      "SHAP values correction 2\n",
      "Background count: 10\n",
      "Background min diff: -0.6365280151367188\n",
      "Background max diff: 1.0619583129882812\n"
     ]
    },
    {
     "data": {
      "application/vnd.jupyter.widget-view+json": {
       "model_id": "89f8c68d791949cb987e83d621d3f611",
       "version_major": 2,
       "version_minor": 0
      },
      "text/plain": [
       "  0%|          | 0/1 [00:00<?, ?it/s]"
      ]
     },
     "metadata": {},
     "output_type": "display_data"
    },
    {
     "name": "stdout",
     "output_type": "stream",
     "text": [
      "SHAP values difference: 4.203127197399681e-07\n",
      "Background count: 10\n",
      "Background min diff: -2.8631820678710938\n",
      "Background max diff: 2.4191055297851562\n"
     ]
    },
    {
     "data": {
      "application/vnd.jupyter.widget-view+json": {
       "model_id": "11952d821b8446868c1053b9cfc45b2f",
       "version_major": 2,
       "version_minor": 0
      },
      "text/plain": [
       "  0%|          | 0/1 [00:00<?, ?it/s]"
      ]
     },
     "metadata": {},
     "output_type": "display_data"
    },
    {
     "name": "stdout",
     "output_type": "stream",
     "text": [
      "SHAP values difference: 2.1862712173970067e-07\n",
      "Background count: 10\n",
      "Background min diff: -1.4669189453125\n",
      "Background max diff: 2.339630126953125\n"
     ]
    },
    {
     "data": {
      "application/vnd.jupyter.widget-view+json": {
       "model_id": "c71705f11b5e42308a554d2c7fb99345",
       "version_major": 2,
       "version_minor": 0
      },
      "text/plain": [
       "  0%|          | 0/1 [00:00<?, ?it/s]"
      ]
     },
     "metadata": {},
     "output_type": "display_data"
    },
    {
     "name": "stdout",
     "output_type": "stream",
     "text": [
      "SHAP values difference: 8.903944603844138e-08\n",
      "Background count: 10\n",
      "Background min diff: -1.8793182373046875\n",
      "Background max diff: 1.4466705322265625\n"
     ]
    },
    {
     "data": {
      "application/vnd.jupyter.widget-view+json": {
       "model_id": "cff59ddb3e7a4e98abbc29fcacaf5d2a",
       "version_major": 2,
       "version_minor": 0
      },
      "text/plain": [
       "  0%|          | 0/1 [00:00<?, ?it/s]"
      ]
     },
     "metadata": {},
     "output_type": "display_data"
    },
    {
     "name": "stdout",
     "output_type": "stream",
     "text": [
      "SHAP values difference: 2.7557746307138586e-07\n",
      "Background count: 10\n",
      "Background min diff: -1.3718795776367188\n",
      "Background max diff: 1.0766983032226562\n"
     ]
    },
    {
     "data": {
      "application/vnd.jupyter.widget-view+json": {
       "model_id": "981b26cc0e8542949727683a2a65b338",
       "version_major": 2,
       "version_minor": 0
      },
      "text/plain": [
       "  0%|          | 0/1 [00:00<?, ?it/s]"
      ]
     },
     "metadata": {},
     "output_type": "display_data"
    },
    {
     "name": "stdout",
     "output_type": "stream",
     "text": [
      "SHAP values difference: -1.0361380553547406e-07\n",
      "SHAP values correction 2\n",
      "Background count: 10\n",
      "Background min diff: -2.0231361389160156\n",
      "Background max diff: 2.0834312438964844\n"
     ]
    },
    {
     "data": {
      "application/vnd.jupyter.widget-view+json": {
       "model_id": "2396f221e3e140a2975f446bc7febf81",
       "version_major": 2,
       "version_minor": 0
      },
      "text/plain": [
       "  0%|          | 0/1 [00:00<?, ?it/s]"
      ]
     },
     "metadata": {},
     "output_type": "display_data"
    },
    {
     "name": "stdout",
     "output_type": "stream",
     "text": [
      "SHAP values difference: 4.553795207584699e-08\n",
      "Background count: 10\n",
      "Background min diff: -1.8871116638183594\n",
      "Background max diff: 0.7489967346191406\n"
     ]
    },
    {
     "data": {
      "application/vnd.jupyter.widget-view+json": {
       "model_id": "0487db8fe23a4830b58dc0a5dfd77754",
       "version_major": 2,
       "version_minor": 0
      },
      "text/plain": [
       "  0%|          | 0/1 [00:00<?, ?it/s]"
      ]
     },
     "metadata": {},
     "output_type": "display_data"
    },
    {
     "name": "stdout",
     "output_type": "stream",
     "text": [
      "SHAP values difference: 3.514592989972698e-07\n",
      "Background count: 10\n",
      "Background min diff: -0.9207305908203125\n",
      "Background max diff: 1.1531829833984375\n"
     ]
    },
    {
     "data": {
      "application/vnd.jupyter.widget-view+json": {
       "model_id": "fb46a5f7115c4e839c23eab6c61cc121",
       "version_major": 2,
       "version_minor": 0
      },
      "text/plain": [
       "  0%|          | 0/1 [00:00<?, ?it/s]"
      ]
     },
     "metadata": {},
     "output_type": "display_data"
    },
    {
     "name": "stdout",
     "output_type": "stream",
     "text": [
      "SHAP values difference: -3.707381068807081e-07\n",
      "Background count: 10\n",
      "Background min diff: -0.11716842651367188\n",
      "Background max diff: 0.6434211730957031\n"
     ]
    },
    {
     "data": {
      "application/vnd.jupyter.widget-view+json": {
       "model_id": "bbc05036592a4119b20b040fdd7436ef",
       "version_major": 2,
       "version_minor": 0
      },
      "text/plain": [
       "  0%|          | 0/1 [00:00<?, ?it/s]"
      ]
     },
     "metadata": {},
     "output_type": "display_data"
    },
    {
     "name": "stdout",
     "output_type": "stream",
     "text": [
      "SHAP values difference: 5.812586820752585e-07\n",
      "Background count: 10\n",
      "Background min diff: -1.41363525390625\n",
      "Background max diff: 1.4666748046875\n"
     ]
    },
    {
     "data": {
      "application/vnd.jupyter.widget-view+json": {
       "model_id": "57c5146176bd4b87879297ccdea34d0c",
       "version_major": 2,
       "version_minor": 0
      },
      "text/plain": [
       "  0%|          | 0/1 [00:00<?, ?it/s]"
      ]
     },
     "metadata": {},
     "output_type": "display_data"
    },
    {
     "name": "stdout",
     "output_type": "stream",
     "text": [
      "SHAP values difference: 7.366267595898535e-08\n",
      "Background count: 10\n",
      "Background min diff: -1.2732925415039062\n",
      "Background max diff: 1.3382797241210938\n"
     ]
    },
    {
     "data": {
      "application/vnd.jupyter.widget-view+json": {
       "model_id": "245189461b3946b095313793d967aae4",
       "version_major": 2,
       "version_minor": 0
      },
      "text/plain": [
       "  0%|          | 0/1 [00:00<?, ?it/s]"
      ]
     },
     "metadata": {},
     "output_type": "display_data"
    },
    {
     "name": "stdout",
     "output_type": "stream",
     "text": [
      "SHAP values difference: 8.676852125688583e-08\n",
      "SHAP values correction 2\n",
      "Background count: 10\n",
      "Background min diff: -1.8611698150634766\n",
      "Background max diff: 1.9453792572021484\n"
     ]
    },
    {
     "data": {
      "application/vnd.jupyter.widget-view+json": {
       "model_id": "ae82aed83fb948fbbc91b3535a92ac1c",
       "version_major": 2,
       "version_minor": 0
      },
      "text/plain": [
       "  0%|          | 0/1 [00:00<?, ?it/s]"
      ]
     },
     "metadata": {},
     "output_type": "display_data"
    },
    {
     "name": "stdout",
     "output_type": "stream",
     "text": [
      "SHAP values difference: 2.358527382284592e-07\n",
      "Background count: 10\n",
      "Background min diff: -0.7002792358398438\n",
      "Background max diff: 4.582008361816406\n"
     ]
    },
    {
     "data": {
      "application/vnd.jupyter.widget-view+json": {
       "model_id": "34965942edaa4e8882fe16934cae4d8b",
       "version_major": 2,
       "version_minor": 0
      },
      "text/plain": [
       "  0%|          | 0/1 [00:00<?, ?it/s]"
      ]
     },
     "metadata": {},
     "output_type": "display_data"
    },
    {
     "name": "stdout",
     "output_type": "stream",
     "text": [
      "SHAP values difference: 4.367766583968091e-07\n",
      "SHAP values correction 2\n",
      "Background count: 10\n",
      "Background min diff: -0.7475051879882812\n",
      "Background max diff: 0.8178024291992188\n"
     ]
    },
    {
     "data": {
      "application/vnd.jupyter.widget-view+json": {
       "model_id": "cf9f2365d1f243c3a780237101d3a093",
       "version_major": 2,
       "version_minor": 0
      },
      "text/plain": [
       "  0%|          | 0/1 [00:00<?, ?it/s]"
      ]
     },
     "metadata": {},
     "output_type": "display_data"
    },
    {
     "name": "stdout",
     "output_type": "stream",
     "text": [
      "SHAP values difference: 1.1479308881234829e-07\n",
      "Background count: 10\n",
      "Background min diff: -0.8623771667480469\n",
      "Background max diff: 1.0235786437988281\n"
     ]
    },
    {
     "data": {
      "application/vnd.jupyter.widget-view+json": {
       "model_id": "f2701beabe24475b9530c75d65f6e683",
       "version_major": 2,
       "version_minor": 0
      },
      "text/plain": [
       "  0%|          | 0/1 [00:00<?, ?it/s]"
      ]
     },
     "metadata": {},
     "output_type": "display_data"
    },
    {
     "name": "stdout",
     "output_type": "stream",
     "text": [
      "SHAP values difference: -6.003640651286446e-08\n",
      "SHAP values correction 1\n",
      "Background count: 10\n",
      "Background min diff: -1.2963981628417969\n",
      "Background max diff: 1.7780342102050781\n"
     ]
    },
    {
     "data": {
      "application/vnd.jupyter.widget-view+json": {
       "model_id": "d26c8a48e8dd4112bbf78ff7e528fc96",
       "version_major": 2,
       "version_minor": 0
      },
      "text/plain": [
       "  0%|          | 0/1 [00:00<?, ?it/s]"
      ]
     },
     "metadata": {},
     "output_type": "display_data"
    },
    {
     "name": "stdout",
     "output_type": "stream",
     "text": [
      "SHAP values difference: -6.387908157989841e-08\n",
      "SHAP values correction 2\n",
      "Background count: 10\n",
      "Background min diff: -1.1903972625732422\n",
      "Background max diff: 2.616151809692383\n"
     ]
    },
    {
     "data": {
      "application/vnd.jupyter.widget-view+json": {
       "model_id": "a2f441918eb54be3a04adc080e00e85f",
       "version_major": 2,
       "version_minor": 0
      },
      "text/plain": [
       "  0%|          | 0/1 [00:00<?, ?it/s]"
      ]
     },
     "metadata": {},
     "output_type": "display_data"
    },
    {
     "name": "stdout",
     "output_type": "stream",
     "text": [
      "SHAP values difference: -1.7974660337927162e-07\n",
      "Background count: 10\n",
      "Background min diff: -1.3741950988769531\n",
      "Background max diff: 1.3908805847167969\n"
     ]
    },
    {
     "data": {
      "application/vnd.jupyter.widget-view+json": {
       "model_id": "c1839d3d90b14ebfaabeaf48790423fa",
       "version_major": 2,
       "version_minor": 0
      },
      "text/plain": [
       "  0%|          | 0/1 [00:00<?, ?it/s]"
      ]
     },
     "metadata": {},
     "output_type": "display_data"
    },
    {
     "name": "stdout",
     "output_type": "stream",
     "text": [
      "SHAP values difference: -1.0135964068069825e-07\n",
      "SHAP values correction 2\n",
      "Background count: 10\n",
      "Background min diff: -3.191709518432617\n",
      "Background max diff: 6.300355911254883\n"
     ]
    },
    {
     "data": {
      "application/vnd.jupyter.widget-view+json": {
       "model_id": "41707e9a260d4b48b3f982785daf984e",
       "version_major": 2,
       "version_minor": 0
      },
      "text/plain": [
       "  0%|          | 0/1 [00:00<?, ?it/s]"
      ]
     },
     "metadata": {},
     "output_type": "display_data"
    },
    {
     "name": "stdout",
     "output_type": "stream",
     "text": [
      "SHAP values difference: -6.260214213682502e-08\n",
      "SHAP values correction 2\n",
      "Background count: 10\n",
      "Background min diff: -2.8720226287841797\n",
      "Background max diff: 2.5866260528564453\n"
     ]
    },
    {
     "data": {
      "application/vnd.jupyter.widget-view+json": {
       "model_id": "b46c7081809e49828f1da8664eaa107a",
       "version_major": 2,
       "version_minor": 0
      },
      "text/plain": [
       "  0%|          | 0/1 [00:00<?, ?it/s]"
      ]
     },
     "metadata": {},
     "output_type": "display_data"
    },
    {
     "name": "stdout",
     "output_type": "stream",
     "text": [
      "SHAP values difference: 1.1677328259906972e-07\n",
      "Background count: 10\n",
      "Background min diff: -1.1473770141601562\n",
      "Background max diff: 1.3012008666992188\n"
     ]
    },
    {
     "data": {
      "application/vnd.jupyter.widget-view+json": {
       "model_id": "2e788604e4f74c6ca9df3c0a505d1cc9",
       "version_major": 2,
       "version_minor": 0
      },
      "text/plain": [
       "  0%|          | 0/1 [00:00<?, ?it/s]"
      ]
     },
     "metadata": {},
     "output_type": "display_data"
    },
    {
     "name": "stdout",
     "output_type": "stream",
     "text": [
      "SHAP values difference: 2.3790128267364707e-07\n",
      "Background count: 10\n",
      "Background min diff: -13.231498718261719\n",
      "Background max diff: 2.0331802368164062\n"
     ]
    },
    {
     "data": {
      "application/vnd.jupyter.widget-view+json": {
       "model_id": "7d3cd2f177e247cf8349c8cd5494443b",
       "version_major": 2,
       "version_minor": 0
      },
      "text/plain": [
       "  0%|          | 0/1 [00:00<?, ?it/s]"
      ]
     },
     "metadata": {},
     "output_type": "display_data"
    },
    {
     "name": "stdout",
     "output_type": "stream",
     "text": [
      "SHAP values difference: 1.0298443342549035e-07\n",
      "Background count: 10\n",
      "Background min diff: -0.45043182373046875\n",
      "Background max diff: 0.47223663330078125\n"
     ]
    },
    {
     "data": {
      "application/vnd.jupyter.widget-view+json": {
       "model_id": "69585ad608ab41dd9022b79e1eca5672",
       "version_major": 2,
       "version_minor": 0
      },
      "text/plain": [
       "  0%|          | 0/1 [00:00<?, ?it/s]"
      ]
     },
     "metadata": {},
     "output_type": "display_data"
    },
    {
     "name": "stdout",
     "output_type": "stream",
     "text": [
      "SHAP values difference: -7.446377381370439e-08\n",
      "SHAP values correction 2\n",
      "Background count: 10\n",
      "Background min diff: -2.090333938598633\n",
      "Background max diff: 1.7833538055419922\n"
     ]
    },
    {
     "data": {
      "application/vnd.jupyter.widget-view+json": {
       "model_id": "1e8f7dc78f534455b3427fd13c20db96",
       "version_major": 2,
       "version_minor": 0
      },
      "text/plain": [
       "  0%|          | 0/1 [00:00<?, ?it/s]"
      ]
     },
     "metadata": {},
     "output_type": "display_data"
    },
    {
     "name": "stdout",
     "output_type": "stream",
     "text": [
      "SHAP values difference: 1.0301516795152565e-07\n",
      "Background count: 10\n",
      "Background min diff: -3.4416561126708984\n",
      "Background max diff: 3.1740360260009766\n"
     ]
    },
    {
     "data": {
      "application/vnd.jupyter.widget-view+json": {
       "model_id": "b22579b8b1ae492d93b1fd7bf5b0e22e",
       "version_major": 2,
       "version_minor": 0
      },
      "text/plain": [
       "  0%|          | 0/1 [00:00<?, ?it/s]"
      ]
     },
     "metadata": {},
     "output_type": "display_data"
    },
    {
     "name": "stdout",
     "output_type": "stream",
     "text": [
      "SHAP values difference: -4.38352714127177e-08\n",
      "Background count: 10\n",
      "Background min diff: -0.9846363067626953\n",
      "Background max diff: 1.7517223358154297\n"
     ]
    },
    {
     "data": {
      "application/vnd.jupyter.widget-view+json": {
       "model_id": "113c198d67534a309f6ebc7915133413",
       "version_major": 2,
       "version_minor": 0
      },
      "text/plain": [
       "  0%|          | 0/1 [00:00<?, ?it/s]"
      ]
     },
     "metadata": {},
     "output_type": "display_data"
    },
    {
     "name": "stdout",
     "output_type": "stream",
     "text": [
      "SHAP values difference: -1.2481191902224964e-07\n",
      "Background count: 10\n",
      "Background min diff: -4.753303527832031\n",
      "Background max diff: 2.5529098510742188\n"
     ]
    },
    {
     "data": {
      "application/vnd.jupyter.widget-view+json": {
       "model_id": "3964c0aa833b4807803ce0d1e62e5bfc",
       "version_major": 2,
       "version_minor": 0
      },
      "text/plain": [
       "  0%|          | 0/1 [00:00<?, ?it/s]"
      ]
     },
     "metadata": {},
     "output_type": "display_data"
    },
    {
     "name": "stdout",
     "output_type": "stream",
     "text": [
      "SHAP values difference: -1.4618114363429413e-07\n",
      "SHAP values correction 2\n",
      "Background count: 10\n",
      "Background min diff: -1.4022407531738281\n",
      "Background max diff: 1.3851127624511719\n"
     ]
    },
    {
     "data": {
      "application/vnd.jupyter.widget-view+json": {
       "model_id": "4f6ace74aa264d9c810321c881addeda",
       "version_major": 2,
       "version_minor": 0
      },
      "text/plain": [
       "  0%|          | 0/1 [00:00<?, ?it/s]"
      ]
     },
     "metadata": {},
     "output_type": "display_data"
    },
    {
     "name": "stdout",
     "output_type": "stream",
     "text": [
      "SHAP values difference: -8.282584929020231e-08\n",
      "Background count: 10\n",
      "Background min diff: -4.02777099609375\n",
      "Background max diff: 3.2784423828125\n"
     ]
    },
    {
     "data": {
      "application/vnd.jupyter.widget-view+json": {
       "model_id": "1f9f710b63cd41d387b23449c2cb8930",
       "version_major": 2,
       "version_minor": 0
      },
      "text/plain": [
       "  0%|          | 0/1 [00:00<?, ?it/s]"
      ]
     },
     "metadata": {},
     "output_type": "display_data"
    },
    {
     "name": "stdout",
     "output_type": "stream",
     "text": [
      "SHAP values difference: -4.801139468213478e-07\n",
      "Background count: 10\n",
      "Background min diff: -0.6565132141113281\n",
      "Background max diff: 0.5282402038574219\n"
     ]
    },
    {
     "data": {
      "application/vnd.jupyter.widget-view+json": {
       "model_id": "90f5fe62f0814956bfd47ba66dd031df",
       "version_major": 2,
       "version_minor": 0
      },
      "text/plain": [
       "  0%|          | 0/1 [00:00<?, ?it/s]"
      ]
     },
     "metadata": {},
     "output_type": "display_data"
    },
    {
     "name": "stdout",
     "output_type": "stream",
     "text": [
      "SHAP values difference: 1.1427287205378889e-07\n",
      "Background count: 10\n",
      "Background min diff: -2.7447242736816406\n",
      "Background max diff: 3.0585899353027344\n"
     ]
    },
    {
     "data": {
      "application/vnd.jupyter.widget-view+json": {
       "model_id": "34634c05385d498f87d6e749da9bed36",
       "version_major": 2,
       "version_minor": 0
      },
      "text/plain": [
       "  0%|          | 0/1 [00:00<?, ?it/s]"
      ]
     },
     "metadata": {},
     "output_type": "display_data"
    },
    {
     "name": "stdout",
     "output_type": "stream",
     "text": [
      "SHAP values difference: 1.4297364714366267e-07\n",
      "Background count: 10\n",
      "Background min diff: -1.4840888977050781\n",
      "Background max diff: 1.3537101745605469\n"
     ]
    },
    {
     "data": {
      "application/vnd.jupyter.widget-view+json": {
       "model_id": "137515ffa30a47bebe6385f784c3e5f6",
       "version_major": 2,
       "version_minor": 0
      },
      "text/plain": [
       "  0%|          | 0/1 [00:00<?, ?it/s]"
      ]
     },
     "metadata": {},
     "output_type": "display_data"
    },
    {
     "name": "stdout",
     "output_type": "stream",
     "text": [
      "SHAP values difference: -1.0604484401710579e-07\n",
      "Background count: 10\n",
      "Background min diff: -1.3470497131347656\n",
      "Background max diff: 1.6262779235839844\n"
     ]
    },
    {
     "data": {
      "application/vnd.jupyter.widget-view+json": {
       "model_id": "1895486d34a44ed2a764008ebf65d262",
       "version_major": 2,
       "version_minor": 0
      },
      "text/plain": [
       "  0%|          | 0/1 [00:00<?, ?it/s]"
      ]
     },
     "metadata": {},
     "output_type": "display_data"
    },
    {
     "name": "stdout",
     "output_type": "stream",
     "text": [
      "SHAP values difference: 2.082305243789051e-07\n",
      "SHAP values correction 2\n",
      "Background count: 10\n",
      "Background min diff: -0.6525993347167969\n",
      "Background max diff: 1.4690742492675781\n"
     ]
    },
    {
     "data": {
      "application/vnd.jupyter.widget-view+json": {
       "model_id": "870de47612ea4317ae1856cbc3fa0248",
       "version_major": 2,
       "version_minor": 0
      },
      "text/plain": [
       "  0%|          | 0/1 [00:00<?, ?it/s]"
      ]
     },
     "metadata": {},
     "output_type": "display_data"
    },
    {
     "name": "stdout",
     "output_type": "stream",
     "text": [
      "SHAP values difference: -1.0571942254955502e-07\n",
      "Background count: 10\n",
      "Background min diff: -2.7974586486816406\n",
      "Background max diff: 6.694606781005859\n"
     ]
    },
    {
     "data": {
      "application/vnd.jupyter.widget-view+json": {
       "model_id": "d9ae9ed6844b4abaa19b07348c898041",
       "version_major": 2,
       "version_minor": 0
      },
      "text/plain": [
       "  0%|          | 0/1 [00:00<?, ?it/s]"
      ]
     },
     "metadata": {},
     "output_type": "display_data"
    },
    {
     "name": "stdout",
     "output_type": "stream",
     "text": [
      "SHAP values difference: 6.480842174028112e-08\n",
      "Background count: 10\n",
      "Background min diff: -1.4175605773925781\n",
      "Background max diff: 1.4142875671386719\n"
     ]
    },
    {
     "data": {
      "application/vnd.jupyter.widget-view+json": {
       "model_id": "dc6b149d070243029db6bdff961a9b8f",
       "version_major": 2,
       "version_minor": 0
      },
      "text/plain": [
       "  0%|          | 0/1 [00:00<?, ?it/s]"
      ]
     },
     "metadata": {},
     "output_type": "display_data"
    },
    {
     "name": "stdout",
     "output_type": "stream",
     "text": [
      "SHAP values difference: -3.47094086805555e-09\n",
      "Background count: 10\n",
      "Background min diff: -1.4567298889160156\n",
      "Background max diff: 1.1548423767089844\n"
     ]
    },
    {
     "data": {
      "application/vnd.jupyter.widget-view+json": {
       "model_id": "ec2cfe5d4f7b4af99d38084021b929da",
       "version_major": 2,
       "version_minor": 0
      },
      "text/plain": [
       "  0%|          | 0/1 [00:00<?, ?it/s]"
      ]
     },
     "metadata": {},
     "output_type": "display_data"
    },
    {
     "name": "stdout",
     "output_type": "stream",
     "text": [
      "SHAP values difference: 2.8756478798186436e-07\n",
      "Background count: 10\n",
      "Background min diff: -1.3061485290527344\n",
      "Background max diff: 1.3054237365722656\n"
     ]
    },
    {
     "data": {
      "application/vnd.jupyter.widget-view+json": {
       "model_id": "c4f426a6bd544799b595e225fc3b89e2",
       "version_major": 2,
       "version_minor": 0
      },
      "text/plain": [
       "  0%|          | 0/1 [00:00<?, ?it/s]"
      ]
     },
     "metadata": {},
     "output_type": "display_data"
    },
    {
     "name": "stdout",
     "output_type": "stream",
     "text": [
      "SHAP values difference: 1.1427073953740319e-07\n",
      "SHAP values correction 2\n",
      "Background count: 10\n",
      "Background min diff: -1.93133544921875\n",
      "Background max diff: 1.3946533203125\n"
     ]
    },
    {
     "data": {
      "application/vnd.jupyter.widget-view+json": {
       "model_id": "1d39240091f742c1ba8eecc7ce7a4e5b",
       "version_major": 2,
       "version_minor": 0
      },
      "text/plain": [
       "  0%|          | 0/1 [00:00<?, ?it/s]"
      ]
     },
     "metadata": {},
     "output_type": "display_data"
    },
    {
     "name": "stdout",
     "output_type": "stream",
     "text": [
      "SHAP values difference: -7.344277008769495e-08\n",
      "Background count: 10\n",
      "Background min diff: -0.9855728149414062\n",
      "Background max diff: 1.0142135620117188\n"
     ]
    },
    {
     "data": {
      "application/vnd.jupyter.widget-view+json": {
       "model_id": "16a4761e98994f0798033dab88805e3e",
       "version_major": 2,
       "version_minor": 0
      },
      "text/plain": [
       "  0%|          | 0/1 [00:00<?, ?it/s]"
      ]
     },
     "metadata": {},
     "output_type": "display_data"
    },
    {
     "name": "stdout",
     "output_type": "stream",
     "text": [
      "SHAP values difference: 8.830146924765359e-08\n",
      "Background count: 10\n",
      "Background min diff: -1.0305366516113281\n",
      "Background max diff: 0.6573600769042969\n"
     ]
    },
    {
     "data": {
      "application/vnd.jupyter.widget-view+json": {
       "model_id": "9dd73f5504854bd094bac606bed2ba30",
       "version_major": 2,
       "version_minor": 0
      },
      "text/plain": [
       "  0%|          | 0/1 [00:00<?, ?it/s]"
      ]
     },
     "metadata": {},
     "output_type": "display_data"
    },
    {
     "name": "stdout",
     "output_type": "stream",
     "text": [
      "SHAP values difference: -1.4694231253997714e-07\n",
      "SHAP values correction 2\n",
      "Background count: 10\n",
      "Background min diff: -1.7578125\n",
      "Background max diff: 1.700347900390625\n"
     ]
    },
    {
     "data": {
      "application/vnd.jupyter.widget-view+json": {
       "model_id": "5faccdfeedad4a1abf1409af29482e51",
       "version_major": 2,
       "version_minor": 0
      },
      "text/plain": [
       "  0%|          | 0/1 [00:00<?, ?it/s]"
      ]
     },
     "metadata": {},
     "output_type": "display_data"
    },
    {
     "name": "stdout",
     "output_type": "stream",
     "text": [
      "SHAP values difference: -1.1091703200349912e-07\n",
      "SHAP values correction 2\n",
      "Background count: 10\n",
      "Background min diff: -1.1272201538085938\n",
      "Background max diff: 1.1791763305664062\n"
     ]
    },
    {
     "data": {
      "application/vnd.jupyter.widget-view+json": {
       "model_id": "7dd8d77f65054310825fb6c3b70bc106",
       "version_major": 2,
       "version_minor": 0
      },
      "text/plain": [
       "  0%|          | 0/1 [00:00<?, ?it/s]"
      ]
     },
     "metadata": {},
     "output_type": "display_data"
    },
    {
     "name": "stdout",
     "output_type": "stream",
     "text": [
      "SHAP values difference: -2.2480089967302774e-07\n",
      "Background count: 10\n",
      "Background min diff: -1.5470619201660156\n",
      "Background max diff: 1.2907371520996094\n"
     ]
    },
    {
     "data": {
      "application/vnd.jupyter.widget-view+json": {
       "model_id": "086afeca3b734a048b02861bcfbf2101",
       "version_major": 2,
       "version_minor": 0
      },
      "text/plain": [
       "  0%|          | 0/1 [00:00<?, ?it/s]"
      ]
     },
     "metadata": {},
     "output_type": "display_data"
    },
    {
     "name": "stdout",
     "output_type": "stream",
     "text": [
      "SHAP values difference: -3.35017119823533e-07\n",
      "Background count: 10\n",
      "Background min diff: -0.3663139343261719\n",
      "Background max diff: 0.3942756652832031\n"
     ]
    },
    {
     "data": {
      "application/vnd.jupyter.widget-view+json": {
       "model_id": "6514e90143de490c81a5954f8624f1c4",
       "version_major": 2,
       "version_minor": 0
      },
      "text/plain": [
       "  0%|          | 0/1 [00:00<?, ?it/s]"
      ]
     },
     "metadata": {},
     "output_type": "display_data"
    },
    {
     "name": "stdout",
     "output_type": "stream",
     "text": [
      "SHAP values difference: 6.178489186936531e-07\n",
      "Background count: 10\n",
      "Background min diff: -1.0319862365722656\n",
      "Background max diff: 1.1339073181152344\n"
     ]
    },
    {
     "data": {
      "application/vnd.jupyter.widget-view+json": {
       "model_id": "0fdea2f12a0c421d92e8c7370ac6bc86",
       "version_major": 2,
       "version_minor": 0
      },
      "text/plain": [
       "  0%|          | 0/1 [00:00<?, ?it/s]"
      ]
     },
     "metadata": {},
     "output_type": "display_data"
    },
    {
     "name": "stdout",
     "output_type": "stream",
     "text": [
      "SHAP values difference: 1.4306505136119085e-07\n",
      "Background count: 10\n",
      "Background min diff: -0.71282958984375\n",
      "Background max diff: 1.408843994140625\n"
     ]
    },
    {
     "data": {
      "application/vnd.jupyter.widget-view+json": {
       "model_id": "a95e3f91779f40b9b726fdfd2c7ccb5b",
       "version_major": 2,
       "version_minor": 0
      },
      "text/plain": [
       "  0%|          | 0/1 [00:00<?, ?it/s]"
      ]
     },
     "metadata": {},
     "output_type": "display_data"
    },
    {
     "name": "stdout",
     "output_type": "stream",
     "text": [
      "SHAP values difference: -1.0449978304905017e-07\n",
      "Background count: 10\n",
      "Background min diff: -1.6774520874023438\n",
      "Background max diff: 1.3831863403320312\n"
     ]
    },
    {
     "data": {
      "application/vnd.jupyter.widget-view+json": {
       "model_id": "1e86ce2e8e2248c590cc6a915f8d440b",
       "version_major": 2,
       "version_minor": 0
      },
      "text/plain": [
       "  0%|          | 0/1 [00:00<?, ?it/s]"
      ]
     },
     "metadata": {},
     "output_type": "display_data"
    },
    {
     "name": "stdout",
     "output_type": "stream",
     "text": [
      "SHAP values difference: -4.312306174369951e-07\n",
      "SHAP values correction 2\n",
      "Background count: 10\n",
      "Background min diff: -0.5449066162109375\n",
      "Background max diff: 1.0204010009765625\n"
     ]
    },
    {
     "data": {
      "application/vnd.jupyter.widget-view+json": {
       "model_id": "473e162c9bab491c81462508d9ea6e6d",
       "version_major": 2,
       "version_minor": 0
      },
      "text/plain": [
       "  0%|          | 0/1 [00:00<?, ?it/s]"
      ]
     },
     "metadata": {},
     "output_type": "display_data"
    },
    {
     "name": "stdout",
     "output_type": "stream",
     "text": [
      "SHAP values difference: -3.6433982586459024e-07\n",
      "Background count: 10\n",
      "Background min diff: -1.9645156860351562\n",
      "Background max diff: 1.2224655151367188\n"
     ]
    },
    {
     "data": {
      "application/vnd.jupyter.widget-view+json": {
       "model_id": "76d588cab5fa44ef8c73b77b67f99f06",
       "version_major": 2,
       "version_minor": 0
      },
      "text/plain": [
       "  0%|          | 0/1 [00:00<?, ?it/s]"
      ]
     },
     "metadata": {},
     "output_type": "display_data"
    },
    {
     "name": "stdout",
     "output_type": "stream",
     "text": [
      "SHAP values difference: -2.00010006778939e-07\n",
      "Background count: 10\n",
      "Background min diff: -3.6461925506591797\n",
      "Background max diff: 5.84587287902832\n"
     ]
    },
    {
     "data": {
      "application/vnd.jupyter.widget-view+json": {
       "model_id": "580587bc050a416dae610fb31b9fc02e",
       "version_major": 2,
       "version_minor": 0
      },
      "text/plain": [
       "  0%|          | 0/1 [00:00<?, ?it/s]"
      ]
     },
     "metadata": {},
     "output_type": "display_data"
    },
    {
     "name": "stdout",
     "output_type": "stream",
     "text": [
      "SHAP values difference: 1.6107154721112238e-08\n",
      "Background count: 10\n",
      "Background min diff: -0.8990058898925781\n",
      "Background max diff: 1.2226676940917969\n"
     ]
    },
    {
     "data": {
      "application/vnd.jupyter.widget-view+json": {
       "model_id": "20ddcd75524d4232ada6ea06c7cb208e",
       "version_major": 2,
       "version_minor": 0
      },
      "text/plain": [
       "  0%|          | 0/1 [00:00<?, ?it/s]"
      ]
     },
     "metadata": {},
     "output_type": "display_data"
    },
    {
     "name": "stdout",
     "output_type": "stream",
     "text": [
      "SHAP values difference: -2.538076557812019e-07\n",
      "SHAP values correction 2\n",
      "Background count: 10\n",
      "Background min diff: -0.8851432800292969\n",
      "Background max diff: 0.5163459777832031\n"
     ]
    },
    {
     "data": {
      "application/vnd.jupyter.widget-view+json": {
       "model_id": "523be000611e48b9b21b90db8d7a7764",
       "version_major": 2,
       "version_minor": 0
      },
      "text/plain": [
       "  0%|          | 0/1 [00:00<?, ?it/s]"
      ]
     },
     "metadata": {},
     "output_type": "display_data"
    },
    {
     "name": "stdout",
     "output_type": "stream",
     "text": [
      "SHAP values difference: -4.930971186922761e-08\n",
      "Background count: 10\n",
      "Background min diff: -1.0494117736816406\n",
      "Background max diff: 1.0245018005371094\n"
     ]
    },
    {
     "data": {
      "application/vnd.jupyter.widget-view+json": {
       "model_id": "c4bd36dd28594d16ba25726c60fafef9",
       "version_major": 2,
       "version_minor": 0
      },
      "text/plain": [
       "  0%|          | 0/1 [00:00<?, ?it/s]"
      ]
     },
     "metadata": {},
     "output_type": "display_data"
    },
    {
     "name": "stdout",
     "output_type": "stream",
     "text": [
      "SHAP values difference: 3.822282650389752e-07\n",
      "Background count: 10\n",
      "Background min diff: -0.8692436218261719\n",
      "Background max diff: 0.8292427062988281\n"
     ]
    },
    {
     "data": {
      "application/vnd.jupyter.widget-view+json": {
       "model_id": "6a6bc275b55d439eb8c8cd3d5cfdf599",
       "version_major": 2,
       "version_minor": 0
      },
      "text/plain": [
       "  0%|          | 0/1 [00:00<?, ?it/s]"
      ]
     },
     "metadata": {},
     "output_type": "display_data"
    },
    {
     "name": "stdout",
     "output_type": "stream",
     "text": [
      "SHAP values difference: -2.5011361159954504e-07\n",
      "Background count: 10\n",
      "Background min diff: -1.5607490539550781\n",
      "Background max diff: 1.2770500183105469\n"
     ]
    },
    {
     "data": {
      "application/vnd.jupyter.widget-view+json": {
       "model_id": "2f1e5df4112f45fc8523eeb7d2db5eb9",
       "version_major": 2,
       "version_minor": 0
      },
      "text/plain": [
       "  0%|          | 0/1 [00:00<?, ?it/s]"
      ]
     },
     "metadata": {},
     "output_type": "display_data"
    },
    {
     "name": "stdout",
     "output_type": "stream",
     "text": [
      "SHAP values difference: 1.2976569330191978e-07\n",
      "SHAP values correction 2\n",
      "Background count: 10\n",
      "Background min diff: -0.9549407958984375\n",
      "Background max diff: 2.8516082763671875\n"
     ]
    },
    {
     "data": {
      "application/vnd.jupyter.widget-view+json": {
       "model_id": "1feae1e657054a638e6a26ba90dbbdcc",
       "version_major": 2,
       "version_minor": 0
      },
      "text/plain": [
       "  0%|          | 0/1 [00:00<?, ?it/s]"
      ]
     },
     "metadata": {},
     "output_type": "display_data"
    },
    {
     "name": "stdout",
     "output_type": "stream",
     "text": [
      "SHAP values difference: 3.7410337938581506e-08\n",
      "SHAP values correction 2\n",
      "Background count: 10\n",
      "Background min diff: -1.1154861450195312\n",
      "Background max diff: 1.2963180541992188\n"
     ]
    },
    {
     "data": {
      "application/vnd.jupyter.widget-view+json": {
       "model_id": "59ccef84feab4737beea5ea67ac0c01c",
       "version_major": 2,
       "version_minor": 0
      },
      "text/plain": [
       "  0%|          | 0/1 [00:00<?, ?it/s]"
      ]
     },
     "metadata": {},
     "output_type": "display_data"
    },
    {
     "name": "stdout",
     "output_type": "stream",
     "text": [
      "SHAP values difference: 1.0165312680499028e-07\n",
      "SHAP values correction 1\n",
      "SHAP values correction 2\n",
      "Background count: 10\n",
      "Background min diff: -3.4600677490234375\n",
      "Background max diff: 3.4076385498046875\n"
     ]
    },
    {
     "data": {
      "application/vnd.jupyter.widget-view+json": {
       "model_id": "6eb2107bad9d49aa997273ab97c9f9e3",
       "version_major": 2,
       "version_minor": 0
      },
      "text/plain": [
       "  0%|          | 0/1 [00:00<?, ?it/s]"
      ]
     },
     "metadata": {},
     "output_type": "display_data"
    },
    {
     "name": "stdout",
     "output_type": "stream",
     "text": [
      "SHAP values difference: -3.514101933888014e-07\n",
      "Background count: 10\n",
      "Background min diff: -5.295402526855469\n",
      "Background max diff: 2.0108108520507812\n"
     ]
    },
    {
     "data": {
      "application/vnd.jupyter.widget-view+json": {
       "model_id": "d7c148adc0e64add9fa05ae9d33b7c23",
       "version_major": 2,
       "version_minor": 0
      },
      "text/plain": [
       "  0%|          | 0/1 [00:00<?, ?it/s]"
      ]
     },
     "metadata": {},
     "output_type": "display_data"
    },
    {
     "name": "stdout",
     "output_type": "stream",
     "text": [
      "SHAP values difference: 1.7965367593575365e-07\n",
      "SHAP values correction 2\n",
      "Background count: 10\n",
      "Background min diff: -0.8805980682373047\n",
      "Background max diff: 1.8557605743408203\n"
     ]
    },
    {
     "data": {
      "application/vnd.jupyter.widget-view+json": {
       "model_id": "78b7628073b543799e56e94444546338",
       "version_major": 2,
       "version_minor": 0
      },
      "text/plain": [
       "  0%|          | 0/1 [00:00<?, ?it/s]"
      ]
     },
     "metadata": {},
     "output_type": "display_data"
    },
    {
     "name": "stdout",
     "output_type": "stream",
     "text": [
      "SHAP values difference: -2.0652367549445216e-07\n",
      "SHAP values correction 1\n",
      "SHAP values correction 2\n",
      "Background count: 10\n",
      "Background min diff: -0.8426332473754883\n",
      "Background max diff: 8.649432182312012\n"
     ]
    },
    {
     "data": {
      "application/vnd.jupyter.widget-view+json": {
       "model_id": "97fbc6ef8783492c8e1974e863a2fd3d",
       "version_major": 2,
       "version_minor": 0
      },
      "text/plain": [
       "  0%|          | 0/1 [00:00<?, ?it/s]"
      ]
     },
     "metadata": {},
     "output_type": "display_data"
    },
    {
     "name": "stdout",
     "output_type": "stream",
     "text": [
      "SHAP values difference: -2.639296425854809e-08\n",
      "Background count: 10\n",
      "Background min diff: -1.373626708984375\n",
      "Background max diff: 0.932769775390625\n"
     ]
    },
    {
     "data": {
      "application/vnd.jupyter.widget-view+json": {
       "model_id": "54ad539804b7428e877fdc6f8f29a04d",
       "version_major": 2,
       "version_minor": 0
      },
      "text/plain": [
       "  0%|          | 0/1 [00:00<?, ?it/s]"
      ]
     },
     "metadata": {},
     "output_type": "display_data"
    },
    {
     "name": "stdout",
     "output_type": "stream",
     "text": [
      "SHAP values difference: 7.067942178196063e-07\n",
      "Background count: 10\n",
      "Background min diff: -1.825103759765625\n",
      "Background max diff: 1.108612060546875\n"
     ]
    },
    {
     "data": {
      "application/vnd.jupyter.widget-view+json": {
       "model_id": "5cdddfad5fff4765a53574689f32127a",
       "version_major": 2,
       "version_minor": 0
      },
      "text/plain": [
       "  0%|          | 0/1 [00:00<?, ?it/s]"
      ]
     },
     "metadata": {},
     "output_type": "display_data"
    },
    {
     "name": "stdout",
     "output_type": "stream",
     "text": [
      "SHAP values difference: 3.4106886204199327e-07\n",
      "Background count: 10\n",
      "Background min diff: -2.0911102294921875\n",
      "Background max diff: 3.1911773681640625\n"
     ]
    },
    {
     "data": {
      "application/vnd.jupyter.widget-view+json": {
       "model_id": "d6c96a80fb5b4e86bc5b48a24bd65997",
       "version_major": 2,
       "version_minor": 0
      },
      "text/plain": [
       "  0%|          | 0/1 [00:00<?, ?it/s]"
      ]
     },
     "metadata": {},
     "output_type": "display_data"
    },
    {
     "name": "stdout",
     "output_type": "stream",
     "text": [
      "SHAP values difference: -6.304566113612964e-08\n",
      "Background count: 10\n",
      "Background min diff: -1.7028007507324219\n",
      "Background max diff: 2.101947784423828\n"
     ]
    },
    {
     "data": {
      "application/vnd.jupyter.widget-view+json": {
       "model_id": "cb250bee76574c0b879b469e1b2be902",
       "version_major": 2,
       "version_minor": 0
      },
      "text/plain": [
       "  0%|          | 0/1 [00:00<?, ?it/s]"
      ]
     },
     "metadata": {},
     "output_type": "display_data"
    },
    {
     "name": "stdout",
     "output_type": "stream",
     "text": [
      "SHAP values difference: 2.1669050198624973e-07\n",
      "Background count: 10\n",
      "Background min diff: -0.5230026245117188\n",
      "Background max diff: 1.0423049926757812\n"
     ]
    },
    {
     "data": {
      "application/vnd.jupyter.widget-view+json": {
       "model_id": "0c7a03ff7ef24a34b169385a750544bc",
       "version_major": 2,
       "version_minor": 0
      },
      "text/plain": [
       "  0%|          | 0/1 [00:00<?, ?it/s]"
      ]
     },
     "metadata": {},
     "output_type": "display_data"
    },
    {
     "name": "stdout",
     "output_type": "stream",
     "text": [
      "SHAP values difference: -2.5813827519982624e-07\n",
      "Background count: 10\n",
      "Background min diff: -1.3992347717285156\n",
      "Background max diff: 1.2123374938964844\n"
     ]
    },
    {
     "data": {
      "application/vnd.jupyter.widget-view+json": {
       "model_id": "b4cf6178b6164f568cfb487e14c6da24",
       "version_major": 2,
       "version_minor": 0
      },
      "text/plain": [
       "  0%|          | 0/1 [00:00<?, ?it/s]"
      ]
     },
     "metadata": {},
     "output_type": "display_data"
    },
    {
     "name": "stdout",
     "output_type": "stream",
     "text": [
      "SHAP values difference: 2.643892327292008e-07\n",
      "SHAP values correction 1\n",
      "SHAP values correction 2\n",
      "Background count: 10\n",
      "Background min diff: -2.12481689453125\n",
      "Background max diff: 2.184722900390625\n"
     ]
    },
    {
     "data": {
      "application/vnd.jupyter.widget-view+json": {
       "model_id": "9f01e5fecae44f809fda5de134a2d173",
       "version_major": 2,
       "version_minor": 0
      },
      "text/plain": [
       "  0%|          | 0/1 [00:00<?, ?it/s]"
      ]
     },
     "metadata": {},
     "output_type": "display_data"
    },
    {
     "name": "stdout",
     "output_type": "stream",
     "text": [
      "SHAP values difference: 8.709071153134573e-08\n",
      "Background count: 10\n",
      "Background min diff: -0.9934005737304688\n",
      "Background max diff: 0.47440338134765625\n"
     ]
    },
    {
     "data": {
      "application/vnd.jupyter.widget-view+json": {
       "model_id": "76538b8131d64ebea914ce0bcaf9a536",
       "version_major": 2,
       "version_minor": 0
      },
      "text/plain": [
       "  0%|          | 0/1 [00:00<?, ?it/s]"
      ]
     },
     "metadata": {},
     "output_type": "display_data"
    },
    {
     "name": "stdout",
     "output_type": "stream",
     "text": [
      "SHAP values difference: 4.649139526691215e-07\n",
      "Background count: 10\n",
      "Background min diff: -1.2776527404785156\n",
      "Background max diff: 1.8336753845214844\n"
     ]
    },
    {
     "data": {
      "application/vnd.jupyter.widget-view+json": {
       "model_id": "effbb95f3cba41be92967deec9bf8301",
       "version_major": 2,
       "version_minor": 0
      },
      "text/plain": [
       "  0%|          | 0/1 [00:00<?, ?it/s]"
      ]
     },
     "metadata": {},
     "output_type": "display_data"
    },
    {
     "name": "stdout",
     "output_type": "stream",
     "text": [
      "SHAP values difference: -2.475958833514369e-07\n",
      "SHAP values correction 2\n",
      "Background count: 10\n",
      "Background min diff: -1.2720870971679688\n",
      "Background max diff: 0.7453689575195312\n"
     ]
    },
    {
     "data": {
      "application/vnd.jupyter.widget-view+json": {
       "model_id": "dadfd35e94ac4455a1839cd3e14bc00c",
       "version_major": 2,
       "version_minor": 0
      },
      "text/plain": [
       "  0%|          | 0/1 [00:00<?, ?it/s]"
      ]
     },
     "metadata": {},
     "output_type": "display_data"
    },
    {
     "name": "stdout",
     "output_type": "stream",
     "text": [
      "SHAP values difference: -1.8411578039945198e-07\n",
      "Background count: 10\n",
      "Background min diff: -1.1096458435058594\n",
      "Background max diff: 0.2918434143066406\n"
     ]
    },
    {
     "data": {
      "application/vnd.jupyter.widget-view+json": {
       "model_id": "09b218559afb46d0b888fbf108c8b262",
       "version_major": 2,
       "version_minor": 0
      },
      "text/plain": [
       "  0%|          | 0/1 [00:00<?, ?it/s]"
      ]
     },
     "metadata": {},
     "output_type": "display_data"
    },
    {
     "name": "stdout",
     "output_type": "stream",
     "text": [
      "SHAP values difference: -3.027477742989504e-05\n",
      "Background count: 10\n",
      "Background min diff: -1.0662574768066406\n",
      "Background max diff: 1.5868797302246094\n"
     ]
    },
    {
     "data": {
      "application/vnd.jupyter.widget-view+json": {
       "model_id": "bc11bdeba85c4f00acad72060640d2dc",
       "version_major": 2,
       "version_minor": 0
      },
      "text/plain": [
       "  0%|          | 0/1 [00:00<?, ?it/s]"
      ]
     },
     "metadata": {},
     "output_type": "display_data"
    },
    {
     "name": "stdout",
     "output_type": "stream",
     "text": [
      "SHAP values difference: 5.219753207441613e-08\n",
      "SHAP values correction 2\n",
      "Background count: 10\n",
      "Background min diff: -0.8452186584472656\n",
      "Background max diff: 0.9267539978027344\n"
     ]
    },
    {
     "data": {
      "application/vnd.jupyter.widget-view+json": {
       "model_id": "0c939442a6a84e46a6598ef90a089db1",
       "version_major": 2,
       "version_minor": 0
      },
      "text/plain": [
       "  0%|          | 0/1 [00:00<?, ?it/s]"
      ]
     },
     "metadata": {},
     "output_type": "display_data"
    },
    {
     "name": "stdout",
     "output_type": "stream",
     "text": [
      "SHAP values difference: 2.6728255164698567e-07\n",
      "Background count: 10\n",
      "Background min diff: -3.321697235107422\n",
      "Background max diff: 0.5211677551269531\n"
     ]
    },
    {
     "data": {
      "application/vnd.jupyter.widget-view+json": {
       "model_id": "0a06cb6cad704b339a60656b8c4ea476",
       "version_major": 2,
       "version_minor": 0
      },
      "text/plain": [
       "  0%|          | 0/1 [00:00<?, ?it/s]"
      ]
     },
     "metadata": {},
     "output_type": "display_data"
    },
    {
     "name": "stdout",
     "output_type": "stream",
     "text": [
      "SHAP values difference: -1.9687860230988008e-08\n",
      "Background count: 10\n",
      "Background min diff: -1.4906234741210938\n",
      "Background max diff: 1.1625137329101562\n"
     ]
    },
    {
     "data": {
      "application/vnd.jupyter.widget-view+json": {
       "model_id": "33e8dd7171a74b4cad1f7eccc5fbb5de",
       "version_major": 2,
       "version_minor": 0
      },
      "text/plain": [
       "  0%|          | 0/1 [00:00<?, ?it/s]"
      ]
     },
     "metadata": {},
     "output_type": "display_data"
    },
    {
     "name": "stdout",
     "output_type": "stream",
     "text": [
      "SHAP values difference: 1.3393848163900657e-07\n",
      "SHAP values correction 2\n",
      "Background count: 10\n",
      "Background min diff: -1.0138206481933594\n",
      "Background max diff: 1.0600929260253906\n"
     ]
    },
    {
     "data": {
      "application/vnd.jupyter.widget-view+json": {
       "model_id": "42d7de1ad5d24125be574323d2a2d4e3",
       "version_major": 2,
       "version_minor": 0
      },
      "text/plain": [
       "  0%|          | 0/1 [00:00<?, ?it/s]"
      ]
     },
     "metadata": {},
     "output_type": "display_data"
    },
    {
     "name": "stdout",
     "output_type": "stream",
     "text": [
      "SHAP values difference: 7.40691685763295e-09\n",
      "Background count: 10\n",
      "Background min diff: -0.848297119140625\n",
      "Background max diff: 0.6195068359375\n"
     ]
    },
    {
     "data": {
      "application/vnd.jupyter.widget-view+json": {
       "model_id": "a26866b347104500b910cdd9d4795007",
       "version_major": 2,
       "version_minor": 0
      },
      "text/plain": [
       "  0%|          | 0/1 [00:00<?, ?it/s]"
      ]
     },
     "metadata": {},
     "output_type": "display_data"
    },
    {
     "name": "stdout",
     "output_type": "stream",
     "text": [
      "SHAP values difference: -5.396091538045766e-07\n",
      "Background count: 10\n",
      "Background min diff: -1.092620849609375\n",
      "Background max diff: 1.35595703125\n"
     ]
    },
    {
     "data": {
      "application/vnd.jupyter.widget-view+json": {
       "model_id": "ef6618af5b0648de8862dc26e10e7dff",
       "version_major": 2,
       "version_minor": 0
      },
      "text/plain": [
       "  0%|          | 0/1 [00:00<?, ?it/s]"
      ]
     },
     "metadata": {},
     "output_type": "display_data"
    },
    {
     "name": "stdout",
     "output_type": "stream",
     "text": [
      "SHAP values difference: 1.9831316144802713e-07\n",
      "SHAP values correction 2\n",
      "Background count: 10\n",
      "Background min diff: -1.1129798889160156\n",
      "Background max diff: 0.7159690856933594\n"
     ]
    },
    {
     "data": {
      "application/vnd.jupyter.widget-view+json": {
       "model_id": "f92caaddd63542d38f6e403b90c0a7ec",
       "version_major": 2,
       "version_minor": 0
      },
      "text/plain": [
       "  0%|          | 0/1 [00:00<?, ?it/s]"
      ]
     },
     "metadata": {},
     "output_type": "display_data"
    },
    {
     "name": "stdout",
     "output_type": "stream",
     "text": [
      "SHAP values difference: -1.2883073452485405e-07\n",
      "Background count: 10\n",
      "Background min diff: -3.8374061584472656\n",
      "Background max diff: 3.8061485290527344\n"
     ]
    },
    {
     "data": {
      "application/vnd.jupyter.widget-view+json": {
       "model_id": "ec0d0d627dd14bdbac07b3b21d2c3cca",
       "version_major": 2,
       "version_minor": 0
      },
      "text/plain": [
       "  0%|          | 0/1 [00:00<?, ?it/s]"
      ]
     },
     "metadata": {},
     "output_type": "display_data"
    },
    {
     "name": "stdout",
     "output_type": "stream",
     "text": [
      "SHAP values difference: -1.472149477876883e-07\n",
      "Background count: 10\n",
      "Background min diff: -1.5831298828125\n",
      "Background max diff: 1.427886962890625\n"
     ]
    },
    {
     "data": {
      "application/vnd.jupyter.widget-view+json": {
       "model_id": "32d80551b3ac4fa6ab287a4680de1d2a",
       "version_major": 2,
       "version_minor": 0
      },
      "text/plain": [
       "  0%|          | 0/1 [00:00<?, ?it/s]"
      ]
     },
     "metadata": {},
     "output_type": "display_data"
    },
    {
     "name": "stdout",
     "output_type": "stream",
     "text": [
      "SHAP values difference: 5.907021893847286e-08\n",
      "SHAP values correction 2\n",
      "Background count: 10\n",
      "Background min diff: -3.5573196411132812\n",
      "Background max diff: 2.8725814819335938\n"
     ]
    },
    {
     "data": {
      "application/vnd.jupyter.widget-view+json": {
       "model_id": "5b7e1c05d485462e88df689a226ee9ca",
       "version_major": 2,
       "version_minor": 0
      },
      "text/plain": [
       "  0%|          | 0/1 [00:00<?, ?it/s]"
      ]
     },
     "metadata": {},
     "output_type": "display_data"
    },
    {
     "name": "stdout",
     "output_type": "stream",
     "text": [
      "SHAP values difference: 1.1296612001387984e-07\n",
      "Background count: 10\n",
      "Background min diff: -2.7454395294189453\n",
      "Background max diff: 6.746625900268555\n"
     ]
    },
    {
     "data": {
      "application/vnd.jupyter.widget-view+json": {
       "model_id": "c969e96716cc4d0d971d8e893f0257b1",
       "version_major": 2,
       "version_minor": 0
      },
      "text/plain": [
       "  0%|          | 0/1 [00:00<?, ?it/s]"
      ]
     },
     "metadata": {},
     "output_type": "display_data"
    },
    {
     "name": "stdout",
     "output_type": "stream",
     "text": [
      "SHAP values difference: -3.772177201710747e-07\n",
      "Background count: 10\n",
      "Background min diff: -5.6595306396484375\n",
      "Background max diff: 1.6466827392578125\n"
     ]
    },
    {
     "data": {
      "application/vnd.jupyter.widget-view+json": {
       "model_id": "658924af6c6a44f9a6d150a8e875c895",
       "version_major": 2,
       "version_minor": 0
      },
      "text/plain": [
       "  0%|          | 0/1 [00:00<?, ?it/s]"
      ]
     },
     "metadata": {},
     "output_type": "display_data"
    },
    {
     "name": "stdout",
     "output_type": "stream",
     "text": [
      "SHAP values difference: 1.3668321763304903e-07\n",
      "SHAP values correction 1\n",
      "Background count: 10\n",
      "Background min diff: -1.3464546203613281\n",
      "Background max diff: 2.460094451904297\n"
     ]
    },
    {
     "data": {
      "application/vnd.jupyter.widget-view+json": {
       "model_id": "a87990f203264cd69e71617521686f27",
       "version_major": 2,
       "version_minor": 0
      },
      "text/plain": [
       "  0%|          | 0/1 [00:00<?, ?it/s]"
      ]
     },
     "metadata": {},
     "output_type": "display_data"
    },
    {
     "name": "stdout",
     "output_type": "stream",
     "text": [
      "SHAP values difference: 1.3804494969349435e-07\n",
      "SHAP values correction 2\n",
      "Background count: 10\n",
      "Background min diff: -0.7995262145996094\n",
      "Background max diff: 0.7657814025878906\n"
     ]
    },
    {
     "data": {
      "application/vnd.jupyter.widget-view+json": {
       "model_id": "7c6621c45ade4a5687de4b1a9bd62a3c",
       "version_major": 2,
       "version_minor": 0
      },
      "text/plain": [
       "  0%|          | 0/1 [00:00<?, ?it/s]"
      ]
     },
     "metadata": {},
     "output_type": "display_data"
    },
    {
     "name": "stdout",
     "output_type": "stream",
     "text": [
      "SHAP values difference: 2.6870611691265367e-07\n",
      "Background count: 10\n",
      "Background min diff: -0.8988533020019531\n",
      "Background max diff: 0.8461723327636719\n"
     ]
    },
    {
     "data": {
      "application/vnd.jupyter.widget-view+json": {
       "model_id": "38a26f3ae7ba4c4ca9c8b986e71a7e4d",
       "version_major": 2,
       "version_minor": 0
      },
      "text/plain": [
       "  0%|          | 0/1 [00:00<?, ?it/s]"
      ]
     },
     "metadata": {},
     "output_type": "display_data"
    },
    {
     "name": "stdout",
     "output_type": "stream",
     "text": [
      "SHAP values difference: -5.0631722814387103e-08\n",
      "Background count: 10\n",
      "Background min diff: -0.8385963439941406\n",
      "Background max diff: 0.5628929138183594\n"
     ]
    },
    {
     "data": {
      "application/vnd.jupyter.widget-view+json": {
       "model_id": "1d5441d5afc3474bb81aac25572d65c4",
       "version_major": 2,
       "version_minor": 0
      },
      "text/plain": [
       "  0%|          | 0/1 [00:00<?, ?it/s]"
      ]
     },
     "metadata": {},
     "output_type": "display_data"
    },
    {
     "name": "stdout",
     "output_type": "stream",
     "text": [
      "SHAP values difference: -3.6820156168460016e-07\n",
      "Background count: 10\n",
      "Background min diff: -1.3088836669921875\n",
      "Background max diff: 1.3026885986328125\n"
     ]
    },
    {
     "data": {
      "application/vnd.jupyter.widget-view+json": {
       "model_id": "f4545bd319e14a88850ac36aabf60f7c",
       "version_major": 2,
       "version_minor": 0
      },
      "text/plain": [
       "  0%|          | 0/1 [00:00<?, ?it/s]"
      ]
     },
     "metadata": {},
     "output_type": "display_data"
    },
    {
     "name": "stdout",
     "output_type": "stream",
     "text": [
      "SHAP values difference: -6.214623482492243e-07\n",
      "Background count: 10\n",
      "Background min diff: -16.40740203857422\n",
      "Background max diff: -1.1427230834960938\n"
     ]
    },
    {
     "data": {
      "application/vnd.jupyter.widget-view+json": {
       "model_id": "13aa83d4ff5f4145a785e0a91a8b6431",
       "version_major": 2,
       "version_minor": 0
      },
      "text/plain": [
       "  0%|          | 0/1 [00:00<?, ?it/s]"
      ]
     },
     "metadata": {},
     "output_type": "display_data"
    },
    {
     "name": "stdout",
     "output_type": "stream",
     "text": [
      "SHAP values difference: 1.6159489213407596e-07\n",
      "Background count: 10\n",
      "Background min diff: -0.5899848937988281\n",
      "Background max diff: 1.1085014343261719\n"
     ]
    },
    {
     "data": {
      "application/vnd.jupyter.widget-view+json": {
       "model_id": "2f1d3da874b04f18a2bd5b9ad8dd86f7",
       "version_major": 2,
       "version_minor": 0
      },
      "text/plain": [
       "  0%|          | 0/1 [00:00<?, ?it/s]"
      ]
     },
     "metadata": {},
     "output_type": "display_data"
    },
    {
     "name": "stdout",
     "output_type": "stream",
     "text": [
      "SHAP values difference: 1.316067361756268e-07\n",
      "Background count: 10\n",
      "Background min diff: -1.6006011962890625\n",
      "Background max diff: 1.3331146240234375\n"
     ]
    },
    {
     "data": {
      "application/vnd.jupyter.widget-view+json": {
       "model_id": "cfdc403f396e452f940caf6832221d80",
       "version_major": 2,
       "version_minor": 0
      },
      "text/plain": [
       "  0%|          | 0/1 [00:00<?, ?it/s]"
      ]
     },
     "metadata": {},
     "output_type": "display_data"
    },
    {
     "name": "stdout",
     "output_type": "stream",
     "text": [
      "SHAP values difference: 1.744775923739894e-07\n",
      "SHAP values correction 2\n",
      "Background count: 10\n",
      "Background min diff: -0.8330268859863281\n",
      "Background max diff: 0.6495170593261719\n"
     ]
    },
    {
     "data": {
      "application/vnd.jupyter.widget-view+json": {
       "model_id": "c7aaff70049c4a729fe74e0e8b7372b4",
       "version_major": 2,
       "version_minor": 0
      },
      "text/plain": [
       "  0%|          | 0/1 [00:00<?, ?it/s]"
      ]
     },
     "metadata": {},
     "output_type": "display_data"
    },
    {
     "name": "stdout",
     "output_type": "stream",
     "text": [
      "SHAP values difference: -1.0647323023249555e-08\n",
      "SHAP values correction 2\n",
      "Background count: 10\n",
      "Background min diff: -1.4360275268554688\n",
      "Background max diff: 1.6384048461914062\n"
     ]
    },
    {
     "data": {
      "application/vnd.jupyter.widget-view+json": {
       "model_id": "093359ec3b1b43108849e970e605c718",
       "version_major": 2,
       "version_minor": 0
      },
      "text/plain": [
       "  0%|          | 0/1 [00:00<?, ?it/s]"
      ]
     },
     "metadata": {},
     "output_type": "display_data"
    },
    {
     "name": "stdout",
     "output_type": "stream",
     "text": [
      "SHAP values difference: 5.3436543190343855e-08\n",
      "SHAP values correction 2\n",
      "Background count: 10\n",
      "Background min diff: -1.7068328857421875\n",
      "Background max diff: 1.6191558837890625\n"
     ]
    },
    {
     "data": {
      "application/vnd.jupyter.widget-view+json": {
       "model_id": "4d41e5a3d7114e52a125e54cda722967",
       "version_major": 2,
       "version_minor": 0
      },
      "text/plain": [
       "  0%|          | 0/1 [00:00<?, ?it/s]"
      ]
     },
     "metadata": {},
     "output_type": "display_data"
    },
    {
     "name": "stdout",
     "output_type": "stream",
     "text": [
      "SHAP values difference: -3.6440535211568204e-07\n",
      "Background count: 10\n",
      "Background min diff: -0.9429244995117188\n",
      "Background max diff: 0.7449722290039062\n"
     ]
    },
    {
     "data": {
      "application/vnd.jupyter.widget-view+json": {
       "model_id": "5ee123bc312347d0abf1607c7d1ff202",
       "version_major": 2,
       "version_minor": 0
      },
      "text/plain": [
       "  0%|          | 0/1 [00:00<?, ?it/s]"
      ]
     },
     "metadata": {},
     "output_type": "display_data"
    },
    {
     "name": "stdout",
     "output_type": "stream",
     "text": [
      "SHAP values difference: -3.6549907633798284e-07\n",
      "SHAP values correction 1\n",
      "SHAP values correction 2\n",
      "Background count: 10\n",
      "Background min diff: -0.86871337890625\n",
      "Background max diff: 1.2052001953125\n"
     ]
    },
    {
     "data": {
      "application/vnd.jupyter.widget-view+json": {
       "model_id": "d2111af97c114b1a91debaf36af9d366",
       "version_major": 2,
       "version_minor": 0
      },
      "text/plain": [
       "  0%|          | 0/1 [00:00<?, ?it/s]"
      ]
     },
     "metadata": {},
     "output_type": "display_data"
    },
    {
     "name": "stdout",
     "output_type": "stream",
     "text": [
      "SHAP values difference: -1.152912147972529e-07\n",
      "Background count: 10\n",
      "Background min diff: -0.8915481567382812\n",
      "Background max diff: 1.8448104858398438\n"
     ]
    },
    {
     "data": {
      "application/vnd.jupyter.widget-view+json": {
       "model_id": "076e0bc606c843c0a9d9cadf7262067e",
       "version_major": 2,
       "version_minor": 0
      },
      "text/plain": [
       "  0%|          | 0/1 [00:00<?, ?it/s]"
      ]
     },
     "metadata": {},
     "output_type": "display_data"
    },
    {
     "name": "stdout",
     "output_type": "stream",
     "text": [
      "SHAP values difference: -2.9187218686388405e-07\n",
      "SHAP values correction 2\n",
      "Background count: 10\n",
      "Background min diff: -1.2997016906738281\n",
      "Background max diff: 1.0066947937011719\n"
     ]
    },
    {
     "data": {
      "application/vnd.jupyter.widget-view+json": {
       "model_id": "7e7197f9202b4fd38b89b382e55453f8",
       "version_major": 2,
       "version_minor": 0
      },
      "text/plain": [
       "  0%|          | 0/1 [00:00<?, ?it/s]"
      ]
     },
     "metadata": {},
     "output_type": "display_data"
    },
    {
     "name": "stdout",
     "output_type": "stream",
     "text": [
      "SHAP values difference: -8.441136856163212e-08\n",
      "Background count: 10\n",
      "Background min diff: -1.6035308837890625\n",
      "Background max diff: 1.4571075439453125\n"
     ]
    },
    {
     "data": {
      "application/vnd.jupyter.widget-view+json": {
       "model_id": "4622031d3a794d4caa5c3e5d12b655e3",
       "version_major": 2,
       "version_minor": 0
      },
      "text/plain": [
       "  0%|          | 0/1 [00:00<?, ?it/s]"
      ]
     },
     "metadata": {},
     "output_type": "display_data"
    },
    {
     "name": "stdout",
     "output_type": "stream",
     "text": [
      "SHAP values difference: -2.418807980575366e-07\n",
      "SHAP values correction 2\n",
      "Background count: 10\n",
      "Background min diff: -1.4430198669433594\n",
      "Background max diff: 1.2977943420410156\n"
     ]
    },
    {
     "data": {
      "application/vnd.jupyter.widget-view+json": {
       "model_id": "31046465c77341fea7bf031b99a80d3d",
       "version_major": 2,
       "version_minor": 0
      },
      "text/plain": [
       "  0%|          | 0/1 [00:00<?, ?it/s]"
      ]
     },
     "metadata": {},
     "output_type": "display_data"
    },
    {
     "name": "stdout",
     "output_type": "stream",
     "text": [
      "SHAP values difference: 7.333929019637253e-08\n",
      "Background count: 10\n",
      "Background min diff: -0.9687614440917969\n",
      "Background max diff: 0.4990425109863281\n"
     ]
    },
    {
     "data": {
      "application/vnd.jupyter.widget-view+json": {
       "model_id": "9e6ce689259b4679b2dbf4270214c218",
       "version_major": 2,
       "version_minor": 0
      },
      "text/plain": [
       "  0%|          | 0/1 [00:00<?, ?it/s]"
      ]
     },
     "metadata": {},
     "output_type": "display_data"
    },
    {
     "name": "stdout",
     "output_type": "stream",
     "text": [
      "SHAP values difference: -6.411075204049155e-08\n",
      "SHAP values correction 1\n",
      "SHAP values correction 2\n",
      "Background count: 10\n",
      "Background min diff: -2.0134925842285156\n",
      "Background max diff: 1.9365196228027344\n"
     ]
    },
    {
     "data": {
      "application/vnd.jupyter.widget-view+json": {
       "model_id": "d1de5eda37814e698ec6435acab49573",
       "version_major": 2,
       "version_minor": 0
      },
      "text/plain": [
       "  0%|          | 0/1 [00:00<?, ?it/s]"
      ]
     },
     "metadata": {},
     "output_type": "display_data"
    },
    {
     "name": "stdout",
     "output_type": "stream",
     "text": [
      "SHAP values difference: 1.0955701412740382e-07\n",
      "Background count: 10\n",
      "Background min diff: -1.6144065856933594\n",
      "Background max diff: 1.4969215393066406\n"
     ]
    },
    {
     "data": {
      "application/vnd.jupyter.widget-view+json": {
       "model_id": "38505400ca5542968c44e45335a42411",
       "version_major": 2,
       "version_minor": 0
      },
      "text/plain": [
       "  0%|          | 0/1 [00:00<?, ?it/s]"
      ]
     },
     "metadata": {},
     "output_type": "display_data"
    },
    {
     "name": "stdout",
     "output_type": "stream",
     "text": [
      "SHAP values difference: 2.97874258592401e-07\n",
      "Background count: 10\n",
      "Background min diff: -1.3084869384765625\n",
      "Background max diff: 1.4565887451171875\n"
     ]
    },
    {
     "data": {
      "application/vnd.jupyter.widget-view+json": {
       "model_id": "fae446bab0494032890e8cbc5e44943e",
       "version_major": 2,
       "version_minor": 0
      },
      "text/plain": [
       "  0%|          | 0/1 [00:00<?, ?it/s]"
      ]
     },
     "metadata": {},
     "output_type": "display_data"
    },
    {
     "name": "stdout",
     "output_type": "stream",
     "text": [
      "SHAP values difference: -8.287152830632749e-08\n",
      "SHAP values correction 2\n",
      "Background count: 10\n",
      "Background min diff: -1.1242656707763672\n",
      "Background max diff: 1.6120929718017578\n"
     ]
    },
    {
     "data": {
      "application/vnd.jupyter.widget-view+json": {
       "model_id": "5cf997e92b694292997322da0d5a314f",
       "version_major": 2,
       "version_minor": 0
      },
      "text/plain": [
       "  0%|          | 0/1 [00:00<?, ?it/s]"
      ]
     },
     "metadata": {},
     "output_type": "display_data"
    },
    {
     "name": "stdout",
     "output_type": "stream",
     "text": [
      "SHAP values difference: -1.7922934247849298e-07\n",
      "Background count: 10\n",
      "Background min diff: -0.8501472473144531\n",
      "Background max diff: 0.9306755065917969\n"
     ]
    },
    {
     "data": {
      "application/vnd.jupyter.widget-view+json": {
       "model_id": "dc8502ff29d34f9a9c63ef771025a5f0",
       "version_major": 2,
       "version_minor": 0
      },
      "text/plain": [
       "  0%|          | 0/1 [00:00<?, ?it/s]"
      ]
     },
     "metadata": {},
     "output_type": "display_data"
    },
    {
     "name": "stdout",
     "output_type": "stream",
     "text": [
      "SHAP values difference: -6.600163233727585e-07\n",
      "SHAP values correction 1\n",
      "SHAP values correction 2\n",
      "Background count: 10\n",
      "Background min diff: -0.994293212890625\n",
      "Background max diff: 0.99249267578125\n"
     ]
    },
    {
     "data": {
      "application/vnd.jupyter.widget-view+json": {
       "model_id": "33db6ae2ae414cee86af3aa547824a1e",
       "version_major": 2,
       "version_minor": 0
      },
      "text/plain": [
       "  0%|          | 0/1 [00:00<?, ?it/s]"
      ]
     },
     "metadata": {},
     "output_type": "display_data"
    },
    {
     "name": "stdout",
     "output_type": "stream",
     "text": [
      "SHAP values difference: -3.614073023072706e-07\n",
      "Background count: 10\n",
      "Background min diff: -0.9043045043945312\n",
      "Background max diff: 0.49718475341796875\n"
     ]
    },
    {
     "data": {
      "application/vnd.jupyter.widget-view+json": {
       "model_id": "51c316fa837e4dde84e86e6aa5218997",
       "version_major": 2,
       "version_minor": 0
      },
      "text/plain": [
       "  0%|          | 0/1 [00:00<?, ?it/s]"
      ]
     },
     "metadata": {},
     "output_type": "display_data"
    },
    {
     "name": "stdout",
     "output_type": "stream",
     "text": [
      "SHAP values difference: 1.3799857256913128e-07\n",
      "Background count: 10\n",
      "Background min diff: -0.6072311401367188\n",
      "Background max diff: 0.5775222778320312\n"
     ]
    },
    {
     "data": {
      "application/vnd.jupyter.widget-view+json": {
       "model_id": "e70dba56fabe4213b63e25eb62ef69b7",
       "version_major": 2,
       "version_minor": 0
      },
      "text/plain": [
       "  0%|          | 0/1 [00:00<?, ?it/s]"
      ]
     },
     "metadata": {},
     "output_type": "display_data"
    },
    {
     "name": "stdout",
     "output_type": "stream",
     "text": [
      "SHAP values difference: -1.8106755206304115e-08\n",
      "SHAP values correction 2\n",
      "Background count: 10\n",
      "Background min diff: -1.8206214904785156\n",
      "Background max diff: 2.0763511657714844\n"
     ]
    },
    {
     "data": {
      "application/vnd.jupyter.widget-view+json": {
       "model_id": "248ba70e47b7402f9b0a27e80321147b",
       "version_major": 2,
       "version_minor": 0
      },
      "text/plain": [
       "  0%|          | 0/1 [00:00<?, ?it/s]"
      ]
     },
     "metadata": {},
     "output_type": "display_data"
    },
    {
     "name": "stdout",
     "output_type": "stream",
     "text": [
      "SHAP values difference: 1.664932520739626e-07\n",
      "SHAP values correction 2\n",
      "Background count: 10\n",
      "Background min diff: -1.4175605773925781\n",
      "Background max diff: 1.4142875671386719\n"
     ]
    },
    {
     "data": {
      "application/vnd.jupyter.widget-view+json": {
       "model_id": "a3c971b85d4a46389168cf6c78531ed5",
       "version_major": 2,
       "version_minor": 0
      },
      "text/plain": [
       "  0%|          | 0/1 [00:00<?, ?it/s]"
      ]
     },
     "metadata": {},
     "output_type": "display_data"
    },
    {
     "name": "stdout",
     "output_type": "stream",
     "text": [
      "SHAP values difference: -4.7212117948447485e-07\n",
      "Background count: 10\n",
      "Background min diff: -3.050384521484375\n",
      "Background max diff: 2.983917236328125\n"
     ]
    },
    {
     "data": {
      "application/vnd.jupyter.widget-view+json": {
       "model_id": "f70adf748ed44dc59c64cd0694c2d977",
       "version_major": 2,
       "version_minor": 0
      },
      "text/plain": [
       "  0%|          | 0/1 [00:00<?, ?it/s]"
      ]
     },
     "metadata": {},
     "output_type": "display_data"
    },
    {
     "name": "stdout",
     "output_type": "stream",
     "text": [
      "SHAP values difference: 9.864258245784185e-07\n",
      "SHAP values correction 2\n",
      "Background count: 10\n",
      "Background min diff: -0.8117485046386719\n",
      "Background max diff: 0.8867378234863281\n"
     ]
    },
    {
     "data": {
      "application/vnd.jupyter.widget-view+json": {
       "model_id": "498365af66bb44ec860683097e6a5c81",
       "version_major": 2,
       "version_minor": 0
      },
      "text/plain": [
       "  0%|          | 0/1 [00:00<?, ?it/s]"
      ]
     },
     "metadata": {},
     "output_type": "display_data"
    },
    {
     "name": "stdout",
     "output_type": "stream",
     "text": [
      "SHAP values difference: 2.960260658824154e-07\n",
      "Background count: 10\n",
      "Background min diff: -1.4251174926757812\n",
      "Background max diff: 1.4782638549804688\n"
     ]
    },
    {
     "data": {
      "application/vnd.jupyter.widget-view+json": {
       "model_id": "c21a0e7a0ca54d43814bdc488e4baaf8",
       "version_major": 2,
       "version_minor": 0
      },
      "text/plain": [
       "  0%|          | 0/1 [00:00<?, ?it/s]"
      ]
     },
     "metadata": {},
     "output_type": "display_data"
    },
    {
     "name": "stdout",
     "output_type": "stream",
     "text": [
      "SHAP values difference: 3.145648150848501e-07\n",
      "Background count: 10\n",
      "Background min diff: -1.6226959228515625\n",
      "Background max diff: 1.4379425048828125\n"
     ]
    },
    {
     "data": {
      "application/vnd.jupyter.widget-view+json": {
       "model_id": "c322b306d90f4665becd89c967a4a70a",
       "version_major": 2,
       "version_minor": 0
      },
      "text/plain": [
       "  0%|          | 0/1 [00:00<?, ?it/s]"
      ]
     },
     "metadata": {},
     "output_type": "display_data"
    },
    {
     "name": "stdout",
     "output_type": "stream",
     "text": [
      "SHAP values difference: 2.443914723926355e-07\n",
      "Background count: 10\n",
      "Background min diff: -9.565513610839844\n",
      "Background max diff: 5.699165344238281\n"
     ]
    },
    {
     "data": {
      "application/vnd.jupyter.widget-view+json": {
       "model_id": "733f458e95fc4c2e80b4343964849cd1",
       "version_major": 2,
       "version_minor": 0
      },
      "text/plain": [
       "  0%|          | 0/1 [00:00<?, ?it/s]"
      ]
     },
     "metadata": {},
     "output_type": "display_data"
    },
    {
     "name": "stdout",
     "output_type": "stream",
     "text": [
      "SHAP values difference: -1.9026753506068417e-07\n",
      "Background count: 10\n",
      "Background min diff: -1.3554115295410156\n",
      "Background max diff: 1.3854026794433594\n"
     ]
    },
    {
     "data": {
      "application/vnd.jupyter.widget-view+json": {
       "model_id": "894dfdb3fcc5488aa01e55b64b4f6052",
       "version_major": 2,
       "version_minor": 0
      },
      "text/plain": [
       "  0%|          | 0/1 [00:00<?, ?it/s]"
      ]
     },
     "metadata": {},
     "output_type": "display_data"
    },
    {
     "name": "stdout",
     "output_type": "stream",
     "text": [
      "SHAP values difference: -2.0279213952534292e-07\n",
      "SHAP values correction 2\n",
      "Background count: 10\n",
      "Background min diff: -1.3354463577270508\n",
      "Background max diff: 8.15661907196045\n"
     ]
    },
    {
     "data": {
      "application/vnd.jupyter.widget-view+json": {
       "model_id": "a1759c868629487db8b14f52c79cc187",
       "version_major": 2,
       "version_minor": 0
      },
      "text/plain": [
       "  0%|          | 0/1 [00:00<?, ?it/s]"
      ]
     },
     "metadata": {},
     "output_type": "display_data"
    },
    {
     "name": "stdout",
     "output_type": "stream",
     "text": [
      "SHAP values difference: -2.0465866157337587e-07\n",
      "Background count: 10\n",
      "Background min diff: -1.9629020690917969\n",
      "Background max diff: 2.143665313720703\n"
     ]
    },
    {
     "data": {
      "application/vnd.jupyter.widget-view+json": {
       "model_id": "d6666218efc24485b16de17b8945c00c",
       "version_major": 2,
       "version_minor": 0
      },
      "text/plain": [
       "  0%|          | 0/1 [00:00<?, ?it/s]"
      ]
     },
     "metadata": {},
     "output_type": "display_data"
    },
    {
     "name": "stdout",
     "output_type": "stream",
     "text": [
      "SHAP values difference: -3.395178110876529e-09\n",
      "SHAP values correction 2\n",
      "Background count: 10\n",
      "Background min diff: -1.5017776489257812\n",
      "Background max diff: 1.4016036987304688\n"
     ]
    },
    {
     "data": {
      "application/vnd.jupyter.widget-view+json": {
       "model_id": "b0a4de5482d0495786c2b28cf18acd0f",
       "version_major": 2,
       "version_minor": 0
      },
      "text/plain": [
       "  0%|          | 0/1 [00:00<?, ?it/s]"
      ]
     },
     "metadata": {},
     "output_type": "display_data"
    },
    {
     "name": "stdout",
     "output_type": "stream",
     "text": [
      "SHAP values difference: 2.0728049321405706e-07\n",
      "Background count: 10\n",
      "Background min diff: -0.3724212646484375\n",
      "Background max diff: 1.1928863525390625\n"
     ]
    },
    {
     "data": {
      "application/vnd.jupyter.widget-view+json": {
       "model_id": "187e7bf2cb424f1ead22fa4e86bbe41d",
       "version_major": 2,
       "version_minor": 0
      },
      "text/plain": [
       "  0%|          | 0/1 [00:00<?, ?it/s]"
      ]
     },
     "metadata": {},
     "output_type": "display_data"
    },
    {
     "name": "stdout",
     "output_type": "stream",
     "text": [
      "SHAP values difference: -7.588747052977851e-08\n",
      "SHAP values correction 2\n",
      "Background count: 10\n",
      "Background min diff: -1.1759300231933594\n",
      "Background max diff: 1.8985023498535156\n"
     ]
    },
    {
     "data": {
      "application/vnd.jupyter.widget-view+json": {
       "model_id": "be234616af444794a8b1fb6c02ed8eed",
       "version_major": 2,
       "version_minor": 0
      },
      "text/plain": [
       "  0%|          | 0/1 [00:00<?, ?it/s]"
      ]
     },
     "metadata": {},
     "output_type": "display_data"
    },
    {
     "name": "stdout",
     "output_type": "stream",
     "text": [
      "SHAP values difference: -2.5063221897880794e-07\n",
      "Background count: 10\n",
      "Background min diff: -2.6803722381591797\n",
      "Background max diff: 2.7782764434814453\n"
     ]
    },
    {
     "data": {
      "application/vnd.jupyter.widget-view+json": {
       "model_id": "dd8acf681f1c4c4d84dd7e1652fe74bd",
       "version_major": 2,
       "version_minor": 0
      },
      "text/plain": [
       "  0%|          | 0/1 [00:00<?, ?it/s]"
      ]
     },
     "metadata": {},
     "output_type": "display_data"
    },
    {
     "name": "stdout",
     "output_type": "stream",
     "text": [
      "SHAP values difference: 3.6421205606984586e-07\n",
      "Background count: 10\n",
      "Background min diff: -1.1265525817871094\n",
      "Background max diff: 0.9447669982910156\n"
     ]
    },
    {
     "data": {
      "application/vnd.jupyter.widget-view+json": {
       "model_id": "ec8f8378e1ef4b83aadf377f26460aef",
       "version_major": 2,
       "version_minor": 0
      },
      "text/plain": [
       "  0%|          | 0/1 [00:00<?, ?it/s]"
      ]
     },
     "metadata": {},
     "output_type": "display_data"
    },
    {
     "name": "stdout",
     "output_type": "stream",
     "text": [
      "SHAP values difference: -3.3980889213580667e-07\n",
      "SHAP values correction 2\n",
      "Background count: 10\n",
      "Background min diff: -1.3592071533203125\n",
      "Background max diff: 1.2939300537109375\n"
     ]
    },
    {
     "data": {
      "application/vnd.jupyter.widget-view+json": {
       "model_id": "c06788d69531416fb1dba7716403c399",
       "version_major": 2,
       "version_minor": 0
      },
      "text/plain": [
       "  0%|          | 0/1 [00:00<?, ?it/s]"
      ]
     },
     "metadata": {},
     "output_type": "display_data"
    },
    {
     "name": "stdout",
     "output_type": "stream",
     "text": [
      "SHAP values difference: -7.858821695627682e-07\n",
      "SHAP values correction 1\n",
      "SHAP values correction 2\n",
      "Background count: 10\n",
      "Background min diff: -1.6042060852050781\n",
      "Background max diff: 1.5299186706542969\n"
     ]
    },
    {
     "data": {
      "application/vnd.jupyter.widget-view+json": {
       "model_id": "b8e164f759c846d9b85aa921fd34a110",
       "version_major": 2,
       "version_minor": 0
      },
      "text/plain": [
       "  0%|          | 0/1 [00:00<?, ?it/s]"
      ]
     },
     "metadata": {},
     "output_type": "display_data"
    },
    {
     "name": "stdout",
     "output_type": "stream",
     "text": [
      "SHAP values difference: -3.767035274826469e-07\n",
      "SHAP values correction 1\n",
      "SHAP values correction 2\n",
      "Background count: 10\n",
      "Background min diff: -1.3793087005615234\n",
      "Background max diff: 2.4272403717041016\n"
     ]
    },
    {
     "data": {
      "application/vnd.jupyter.widget-view+json": {
       "model_id": "66c4b0291bd6443c9866016cbbc3a2ef",
       "version_major": 2,
       "version_minor": 0
      },
      "text/plain": [
       "  0%|          | 0/1 [00:00<?, ?it/s]"
      ]
     },
     "metadata": {},
     "output_type": "display_data"
    },
    {
     "name": "stdout",
     "output_type": "stream",
     "text": [
      "SHAP values difference: 2.9804492385210324e-07\n",
      "Background count: 10\n",
      "Background min diff: -1.1096649169921875\n",
      "Background max diff: 1.7386322021484375\n"
     ]
    },
    {
     "data": {
      "application/vnd.jupyter.widget-view+json": {
       "model_id": "234b001a7f814999abba8af46b29814e",
       "version_major": 2,
       "version_minor": 0
      },
      "text/plain": [
       "  0%|          | 0/1 [00:00<?, ?it/s]"
      ]
     },
     "metadata": {},
     "output_type": "display_data"
    },
    {
     "name": "stdout",
     "output_type": "stream",
     "text": [
      "SHAP values difference: -1.904436928157338e-07\n",
      "Background count: 10\n",
      "Background min diff: -1.4074287414550781\n",
      "Background max diff: 1.4303703308105469\n"
     ]
    },
    {
     "data": {
      "application/vnd.jupyter.widget-view+json": {
       "model_id": "f002800bc25b4e55a655c1b26f3cfc85",
       "version_major": 2,
       "version_minor": 0
      },
      "text/plain": [
       "  0%|          | 0/1 [00:00<?, ?it/s]"
      ]
     },
     "metadata": {},
     "output_type": "display_data"
    },
    {
     "name": "stdout",
     "output_type": "stream",
     "text": [
      "SHAP values difference: -2.970987704742356e-07\n",
      "SHAP values correction 2\n",
      "Background count: 10\n",
      "Background min diff: -1.5799140930175781\n",
      "Background max diff: 1.2578849792480469\n"
     ]
    },
    {
     "data": {
      "application/vnd.jupyter.widget-view+json": {
       "model_id": "9df536c09caa46fd953e0c627bddd5f9",
       "version_major": 2,
       "version_minor": 0
      },
      "text/plain": [
       "  0%|          | 0/1 [00:00<?, ?it/s]"
      ]
     },
     "metadata": {},
     "output_type": "display_data"
    },
    {
     "name": "stdout",
     "output_type": "stream",
     "text": [
      "SHAP values difference: 7.797829191247274e-07\n",
      "SHAP values correction 2\n",
      "Background count: 10\n",
      "Background min diff: -3.5078697204589844\n",
      "Background max diff: 0.3349952697753906\n"
     ]
    },
    {
     "data": {
      "application/vnd.jupyter.widget-view+json": {
       "model_id": "967547a0430e433c9d93d959a1592cef",
       "version_major": 2,
       "version_minor": 0
      },
      "text/plain": [
       "  0%|          | 0/1 [00:00<?, ?it/s]"
      ]
     },
     "metadata": {},
     "output_type": "display_data"
    },
    {
     "name": "stdout",
     "output_type": "stream",
     "text": [
      "SHAP values difference: 5.22826013593658e-08\n",
      "Background count: 10\n",
      "Background min diff: -1.3636245727539062\n",
      "Background max diff: 1.3771896362304688\n"
     ]
    },
    {
     "data": {
      "application/vnd.jupyter.widget-view+json": {
       "model_id": "1fc2deec2c394889b66186765f5e3607",
       "version_major": 2,
       "version_minor": 0
      },
      "text/plain": [
       "  0%|          | 0/1 [00:00<?, ?it/s]"
      ]
     },
     "metadata": {},
     "output_type": "display_data"
    },
    {
     "name": "stdout",
     "output_type": "stream",
     "text": [
      "SHAP values difference: -1.0279911322186308e-07\n",
      "Background count: 10\n",
      "Background min diff: -2.14312744140625\n",
      "Background max diff: 3.13916015625\n"
     ]
    },
    {
     "data": {
      "application/vnd.jupyter.widget-view+json": {
       "model_id": "9e5da13c68b643e5b65ff7737ca4d99f",
       "version_major": 2,
       "version_minor": 0
      },
      "text/plain": [
       "  0%|          | 0/1 [00:00<?, ?it/s]"
      ]
     },
     "metadata": {},
     "output_type": "display_data"
    },
    {
     "name": "stdout",
     "output_type": "stream",
     "text": [
      "SHAP values difference: -8.94974192533482e-08\n",
      "Background count: 10\n",
      "Background min diff: -1.3838481903076172\n",
      "Background max diff: 1.2692890167236328\n"
     ]
    },
    {
     "data": {
      "application/vnd.jupyter.widget-view+json": {
       "model_id": "9b1721f360994199982ff26c80746c2c",
       "version_major": 2,
       "version_minor": 0
      },
      "text/plain": [
       "  0%|          | 0/1 [00:00<?, ?it/s]"
      ]
     },
     "metadata": {},
     "output_type": "display_data"
    },
    {
     "name": "stdout",
     "output_type": "stream",
     "text": [
      "SHAP values difference: 2.658699713720125e-07\n",
      "Background count: 10\n",
      "Background min diff: -0.8851394653320312\n",
      "Background max diff: 1.1887741088867188\n"
     ]
    },
    {
     "data": {
      "application/vnd.jupyter.widget-view+json": {
       "model_id": "a3ec7681d4d54f459173d436174c7564",
       "version_major": 2,
       "version_minor": 0
      },
      "text/plain": [
       "  0%|          | 0/1 [00:00<?, ?it/s]"
      ]
     },
     "metadata": {},
     "output_type": "display_data"
    },
    {
     "name": "stdout",
     "output_type": "stream",
     "text": [
      "SHAP values difference: 2.020453617745943e-07\n",
      "SHAP values correction 1\n",
      "SHAP values correction 2\n",
      "Background count: 10\n",
      "Background min diff: -0.9867324829101562\n",
      "Background max diff: 0.7011642456054688\n"
     ]
    },
    {
     "data": {
      "application/vnd.jupyter.widget-view+json": {
       "model_id": "80e7f98c3e9c4023868a1eb40ef534aa",
       "version_major": 2,
       "version_minor": 0
      },
      "text/plain": [
       "  0%|          | 0/1 [00:00<?, ?it/s]"
      ]
     },
     "metadata": {},
     "output_type": "display_data"
    },
    {
     "name": "stdout",
     "output_type": "stream",
     "text": [
      "SHAP values difference: -1.1652065978751125e-09\n",
      "SHAP values correction 2\n",
      "Background count: 10\n",
      "Background min diff: -3.9033164978027344\n",
      "Background max diff: 3.9550514221191406\n"
     ]
    },
    {
     "data": {
      "application/vnd.jupyter.widget-view+json": {
       "model_id": "c398d4bd617c44a79742fad0d76b9d42",
       "version_major": 2,
       "version_minor": 0
      },
      "text/plain": [
       "  0%|          | 0/1 [00:00<?, ?it/s]"
      ]
     },
     "metadata": {},
     "output_type": "display_data"
    },
    {
     "name": "stdout",
     "output_type": "stream",
     "text": [
      "SHAP values difference: 2.4242779339544995e-08\n",
      "SHAP values correction 2\n",
      "Background count: 10\n",
      "Background min diff: -1.5083808898925781\n",
      "Background max diff: 1.6257438659667969\n"
     ]
    },
    {
     "data": {
      "application/vnd.jupyter.widget-view+json": {
       "model_id": "c9ede787cf344724b296925d7a8b7b51",
       "version_major": 2,
       "version_minor": 0
      },
      "text/plain": [
       "  0%|          | 0/1 [00:00<?, ?it/s]"
      ]
     },
     "metadata": {},
     "output_type": "display_data"
    },
    {
     "name": "stdout",
     "output_type": "stream",
     "text": [
      "SHAP values difference: 3.6816761728175607e-07\n",
      "SHAP values correction 2\n",
      "Background count: 10\n",
      "Background min diff: -1.7033195495605469\n",
      "Background max diff: 1.8677253723144531\n"
     ]
    },
    {
     "data": {
      "application/vnd.jupyter.widget-view+json": {
       "model_id": "f17eee18db864725812622f2e42e6363",
       "version_major": 2,
       "version_minor": 0
      },
      "text/plain": [
       "  0%|          | 0/1 [00:00<?, ?it/s]"
      ]
     },
     "metadata": {},
     "output_type": "display_data"
    },
    {
     "name": "stdout",
     "output_type": "stream",
     "text": [
      "SHAP values difference: -1.8980415283920138e-07\n",
      "SHAP values correction 2\n",
      "Background count: 10\n",
      "Background min diff: -0.9689903259277344\n",
      "Background max diff: 0.8239173889160156\n"
     ]
    },
    {
     "data": {
      "application/vnd.jupyter.widget-view+json": {
       "model_id": "48e3bef19ec4460f85382ee2fbe1f552",
       "version_major": 2,
       "version_minor": 0
      },
      "text/plain": [
       "  0%|          | 0/1 [00:00<?, ?it/s]"
      ]
     },
     "metadata": {},
     "output_type": "display_data"
    },
    {
     "name": "stdout",
     "output_type": "stream",
     "text": [
      "SHAP values difference: 3.4747752408748056e-07\n",
      "Background count: 10\n",
      "Background min diff: -0.5627899169921875\n",
      "Background max diff: 0.5464630126953125\n"
     ]
    },
    {
     "data": {
      "application/vnd.jupyter.widget-view+json": {
       "model_id": "9cc5855b0e9f4a6cb8c0ebc809f4b0d8",
       "version_major": 2,
       "version_minor": 0
      },
      "text/plain": [
       "  0%|          | 0/1 [00:00<?, ?it/s]"
      ]
     },
     "metadata": {},
     "output_type": "display_data"
    },
    {
     "name": "stdout",
     "output_type": "stream",
     "text": [
      "SHAP values difference: 4.1237413483941054e-09\n",
      "Background count: 10\n",
      "Background min diff: -0.8912162780761719\n",
      "Background max diff: 0.9377326965332031\n"
     ]
    },
    {
     "data": {
      "application/vnd.jupyter.widget-view+json": {
       "model_id": "59966ca833ac490789503dd556d07230",
       "version_major": 2,
       "version_minor": 0
      },
      "text/plain": [
       "  0%|          | 0/1 [00:00<?, ?it/s]"
      ]
     },
     "metadata": {},
     "output_type": "display_data"
    },
    {
     "name": "stdout",
     "output_type": "stream",
     "text": [
      "SHAP values difference: 8.542378893139357e-08\n",
      "Background count: 10\n",
      "Background min diff: -1.7219657897949219\n",
      "Background max diff: 2.082782745361328\n"
     ]
    },
    {
     "data": {
      "application/vnd.jupyter.widget-view+json": {
       "model_id": "5423d479db4045bea6595c2b769631ab",
       "version_major": 2,
       "version_minor": 0
      },
      "text/plain": [
       "  0%|          | 0/1 [00:00<?, ?it/s]"
      ]
     },
     "metadata": {},
     "output_type": "display_data"
    },
    {
     "name": "stdout",
     "output_type": "stream",
     "text": [
      "SHAP values difference: 3.0798125649766916e-07\n",
      "Background count: 10\n",
      "Background min diff: -3.523040771484375\n",
      "Background max diff: 3.34466552734375\n"
     ]
    },
    {
     "data": {
      "application/vnd.jupyter.widget-view+json": {
       "model_id": "7020841b8887405e822661a588e93727",
       "version_major": 2,
       "version_minor": 0
      },
      "text/plain": [
       "  0%|          | 0/1 [00:00<?, ?it/s]"
      ]
     },
     "metadata": {},
     "output_type": "display_data"
    },
    {
     "name": "stdout",
     "output_type": "stream",
     "text": [
      "SHAP values difference: 2.0668890243769056e-07\n",
      "Background count: 10\n",
      "Background min diff: -1.0684146881103516\n",
      "Background max diff: 1.9426021575927734\n"
     ]
    },
    {
     "data": {
      "application/vnd.jupyter.widget-view+json": {
       "model_id": "0ba889eadcca42f281d793a01aae17e5",
       "version_major": 2,
       "version_minor": 0
      },
      "text/plain": [
       "  0%|          | 0/1 [00:00<?, ?it/s]"
      ]
     },
     "metadata": {},
     "output_type": "display_data"
    },
    {
     "name": "stdout",
     "output_type": "stream",
     "text": [
      "SHAP values difference: -1.4608666454307695e-07\n",
      "Background count: 10\n",
      "Background min diff: -0.9924659729003906\n",
      "Background max diff: 0.7750205993652344\n"
     ]
    },
    {
     "data": {
      "application/vnd.jupyter.widget-view+json": {
       "model_id": "8171808a5b9243c788c9292bda658075",
       "version_major": 2,
       "version_minor": 0
      },
      "text/plain": [
       "  0%|          | 0/1 [00:00<?, ?it/s]"
      ]
     },
     "metadata": {},
     "output_type": "display_data"
    },
    {
     "name": "stdout",
     "output_type": "stream",
     "text": [
      "SHAP values difference: -1.605686712480292e-07\n",
      "Background count: 10\n",
      "Background min diff: -1.5795631408691406\n",
      "Background max diff: 1.5545616149902344\n"
     ]
    },
    {
     "data": {
      "application/vnd.jupyter.widget-view+json": {
       "model_id": "b33f9b2794634adaac1dc07aa92b3a6a",
       "version_major": 2,
       "version_minor": 0
      },
      "text/plain": [
       "  0%|          | 0/1 [00:00<?, ?it/s]"
      ]
     },
     "metadata": {},
     "output_type": "display_data"
    },
    {
     "name": "stdout",
     "output_type": "stream",
     "text": [
      "SHAP values difference: -2.5351713617283167e-07\n",
      "SHAP values correction 2\n",
      "Background count: 10\n",
      "Background min diff: -3.197986602783203\n",
      "Background max diff: 3.417705535888672\n"
     ]
    },
    {
     "data": {
      "application/vnd.jupyter.widget-view+json": {
       "model_id": "474da2d5d6474aa4a34670bea02c169d",
       "version_major": 2,
       "version_minor": 0
      },
      "text/plain": [
       "  0%|          | 0/1 [00:00<?, ?it/s]"
      ]
     },
     "metadata": {},
     "output_type": "display_data"
    },
    {
     "name": "stdout",
     "output_type": "stream",
     "text": [
      "SHAP values difference: 2.4679376764424887e-08\n",
      "Background count: 10\n",
      "Background min diff: -0.5668067932128906\n",
      "Background max diff: 0.9985008239746094\n"
     ]
    },
    {
     "data": {
      "application/vnd.jupyter.widget-view+json": {
       "model_id": "702a5046b2844bbcbc1bd9aef0576626",
       "version_major": 2,
       "version_minor": 0
      },
      "text/plain": [
       "  0%|          | 0/1 [00:00<?, ?it/s]"
      ]
     },
     "metadata": {},
     "output_type": "display_data"
    },
    {
     "name": "stdout",
     "output_type": "stream",
     "text": [
      "SHAP values difference: 1.236262425763357e-07\n",
      "SHAP values correction 2\n",
      "Background count: 10\n",
      "Background min diff: -1.5417366027832031\n",
      "Background max diff: 1.5546379089355469\n"
     ]
    },
    {
     "data": {
      "application/vnd.jupyter.widget-view+json": {
       "model_id": "5438e726838c432aa549d359a7927e4f",
       "version_major": 2,
       "version_minor": 0
      },
      "text/plain": [
       "  0%|          | 0/1 [00:00<?, ?it/s]"
      ]
     },
     "metadata": {},
     "output_type": "display_data"
    },
    {
     "name": "stdout",
     "output_type": "stream",
     "text": [
      "SHAP values difference: 2.8680842589778877e-08\n",
      "Background count: 10\n",
      "Background min diff: -1.7822914123535156\n",
      "Background max diff: 2.1146812438964844\n"
     ]
    },
    {
     "data": {
      "application/vnd.jupyter.widget-view+json": {
       "model_id": "5c6a0676ca974dc187c3a0382c7d063a",
       "version_major": 2,
       "version_minor": 0
      },
      "text/plain": [
       "  0%|          | 0/1 [00:00<?, ?it/s]"
      ]
     },
     "metadata": {},
     "output_type": "display_data"
    },
    {
     "name": "stdout",
     "output_type": "stream",
     "text": [
      "SHAP values difference: 5.716521940257735e-07\n",
      "Background count: 10\n",
      "Background min diff: -1.9434623718261719\n",
      "Background max diff: 2.017932891845703\n"
     ]
    },
    {
     "data": {
      "application/vnd.jupyter.widget-view+json": {
       "model_id": "5b97f3a7ca424a74ad8f351774c2f4ba",
       "version_major": 2,
       "version_minor": 0
      },
      "text/plain": [
       "  0%|          | 0/1 [00:00<?, ?it/s]"
      ]
     },
     "metadata": {},
     "output_type": "display_data"
    },
    {
     "name": "stdout",
     "output_type": "stream",
     "text": [
      "SHAP values difference: -1.3519860431188135e-07\n",
      "Background count: 10\n",
      "Background min diff: -3.0685062408447266\n",
      "Background max diff: 6.423559188842773\n"
     ]
    },
    {
     "data": {
      "application/vnd.jupyter.widget-view+json": {
       "model_id": "88b632f18c27463d92363c0e838dc726",
       "version_major": 2,
       "version_minor": 0
      },
      "text/plain": [
       "  0%|          | 0/1 [00:00<?, ?it/s]"
      ]
     },
     "metadata": {},
     "output_type": "display_data"
    },
    {
     "name": "stdout",
     "output_type": "stream",
     "text": [
      "SHAP values difference: -8.682383167979424e-08\n",
      "SHAP values correction 2\n",
      "Background count: 10\n",
      "Background min diff: -0.8090324401855469\n",
      "Background max diff: 0.9584541320800781\n"
     ]
    },
    {
     "data": {
      "application/vnd.jupyter.widget-view+json": {
       "model_id": "b066659897944f85bea7528f503906c2",
       "version_major": 2,
       "version_minor": 0
      },
      "text/plain": [
       "  0%|          | 0/1 [00:00<?, ?it/s]"
      ]
     },
     "metadata": {},
     "output_type": "display_data"
    },
    {
     "name": "stdout",
     "output_type": "stream",
     "text": [
      "SHAP values difference: -3.002009512087511e-07\n",
      "SHAP values correction 2\n",
      "Background count: 10\n",
      "Background min diff: -1.9002456665039062\n",
      "Background max diff: 4.715446472167969\n"
     ]
    },
    {
     "data": {
      "application/vnd.jupyter.widget-view+json": {
       "model_id": "6181200f4a0d43f19eefdd60178c3fae",
       "version_major": 2,
       "version_minor": 0
      },
      "text/plain": [
       "  0%|          | 0/1 [00:00<?, ?it/s]"
      ]
     },
     "metadata": {},
     "output_type": "display_data"
    },
    {
     "name": "stdout",
     "output_type": "stream",
     "text": [
      "SHAP values difference: -1.626735866011586e-07\n"
     ]
    },
    {
     "name": "stderr",
     "output_type": "stream",
     "text": [
      "C:\\Users\\user\\AppData\\Local\\Temp\\ipykernel_26220\\1336789382.py:330: FutureWarning: A value is trying to be set on a copy of a DataFrame or Series through chained assignment using an inplace method.\n",
      "The behavior will change in pandas 3.0. This inplace method will never work because the intermediate object on which we are setting values always behaves as a copy.\n",
      "\n",
      "For example, when doing 'df[col].method(value, inplace=True)', try using 'df.method({col: value}, inplace=True)' or df[col] = df[col].method(value) instead, to perform the operation inplace on the original object.\n",
      "\n",
      "\n",
      "  df_fig['Group'].replace(groups_rename, inplace=True)\n",
      "C:\\Users\\user\\AppData\\Local\\Temp\\ipykernel_26220\\1336789382.py:333: FutureWarning: \n",
      "\n",
      "Passing `palette` without assigning `hue` is deprecated and will be removed in v0.14.0. Assign the `x` variable to `hue` and set `legend=False` for the same effect.\n",
      "\n",
      "  violin = sns.violinplot(\n",
      "C:\\Users\\user\\AppData\\Local\\Temp\\ipykernel_26220\\1336789382.py:333: FutureWarning: \n",
      "\n",
      "The `scale` parameter has been renamed and will be removed in v0.15.0. Pass `density_norm='width'` for the same effect.\n",
      "  violin = sns.violinplot(\n",
      "C:\\Users\\user\\AppData\\Local\\Temp\\ipykernel_26220\\1336789382.py:358: FutureWarning: A value is trying to be set on a copy of a DataFrame or Series through chained assignment using an inplace method.\n",
      "The behavior will change in pandas 3.0. This inplace method will never work because the intermediate object on which we are setting values always behaves as a copy.\n",
      "\n",
      "For example, when doing 'df[col].method(value, inplace=True)', try using 'df.method({col: value}, inplace=True)' or df[col] = df[col].method(value) instead, to perform the operation inplace on the original object.\n",
      "\n",
      "\n",
      "  df_fig['Group'].replace(groups_rename, inplace=True)\n",
      "C:\\Users\\user\\AppData\\Local\\Temp\\ipykernel_26220\\1336789382.py:361: FutureWarning: \n",
      "\n",
      "Passing `palette` without assigning `hue` is deprecated and will be removed in v0.14.0. Assign the `x` variable to `hue` and set `legend=False` for the same effect.\n",
      "\n",
      "  violin = sns.violinplot(\n",
      "C:\\Users\\user\\AppData\\Local\\Temp\\ipykernel_26220\\1336789382.py:361: FutureWarning: \n",
      "\n",
      "The `scale` parameter has been renamed and will be removed in v0.15.0. Pass `density_norm='width'` for the same effect.\n",
      "  violin = sns.violinplot(\n",
      "c:\\Users\\user\\anaconda3\\envs\\py312\\Lib\\site-packages\\pytorch_tabular\\tabular_datamodule.py:378: FutureWarning: Setting an item of incompatible dtype is deprecated and will raise in a future error of pandas. Value '[18.80095684 18.9402699  16.48399137 ... 18.66054934 18.30457686\n",
      " 18.87074865]' has dtype incompatible with int64, please explicitly cast to a compatible dtype first.\n",
      "  data.loc[:, self.config.continuous_cols] = self.continuous_transform.transform(\n"
     ]
    },
    {
     "data": {
      "text/html": [
       "<pre style=\"white-space:pre;overflow-x:auto;line-height:normal;font-family:Menlo,'DejaVu Sans Mono',consolas,'Courier New',monospace\"><span style=\"color: #008080; text-decoration-color: #008080; font-weight: bold\">2025</span>-<span style=\"color: #008080; text-decoration-color: #008080; font-weight: bold\">10</span>-<span style=\"color: #008080; text-decoration-color: #008080; font-weight: bold\">22</span> <span style=\"color: #00ff00; text-decoration-color: #00ff00; font-weight: bold\">14:42:56</span>,<span style=\"color: #008080; text-decoration-color: #008080; font-weight: bold\">046</span> - <span style=\"font-weight: bold\">{</span>pytorch_tabular.tabular_model:<span style=\"color: #008080; text-decoration-color: #008080; font-weight: bold\">171</span><span style=\"font-weight: bold\">}</span> - INFO - Experiment Tracking is turned off           \n",
       "</pre>\n"
      ],
      "text/plain": [
       "\u001b[1;36m2025\u001b[0m-\u001b[1;36m10\u001b[0m-\u001b[1;36m22\u001b[0m \u001b[1;92m14:42:56\u001b[0m,\u001b[1;36m046\u001b[0m - \u001b[1m{\u001b[0mpytorch_tabular.tabular_model:\u001b[1;36m171\u001b[0m\u001b[1m}\u001b[0m - INFO - Experiment Tracking is turned off           \n"
      ]
     },
     "metadata": {},
     "output_type": "display_data"
    },
    {
     "data": {
      "text/html": [
       "<pre style=\"white-space:pre;overflow-x:auto;line-height:normal;font-family:Menlo,'DejaVu Sans Mono',consolas,'Courier New',monospace\"><span style=\"color: #008080; text-decoration-color: #008080; font-weight: bold\">2025</span>-<span style=\"color: #008080; text-decoration-color: #008080; font-weight: bold\">10</span>-<span style=\"color: #008080; text-decoration-color: #008080; font-weight: bold\">22</span> <span style=\"color: #00ff00; text-decoration-color: #00ff00; font-weight: bold\">14:42:56</span>,<span style=\"color: #008080; text-decoration-color: #008080; font-weight: bold\">059</span> - <span style=\"font-weight: bold\">{</span>pytorch_tabular.tabular_model:<span style=\"color: #008080; text-decoration-color: #008080; font-weight: bold\">342</span><span style=\"font-weight: bold\">}</span> - INFO - Preparing the Trainer                       \n",
       "</pre>\n"
      ],
      "text/plain": [
       "\u001b[1;36m2025\u001b[0m-\u001b[1;36m10\u001b[0m-\u001b[1;36m22\u001b[0m \u001b[1;92m14:42:56\u001b[0m,\u001b[1;36m059\u001b[0m - \u001b[1m{\u001b[0mpytorch_tabular.tabular_model:\u001b[1;36m342\u001b[0m\u001b[1m}\u001b[0m - INFO - Preparing the Trainer                       \n"
      ]
     },
     "metadata": {},
     "output_type": "display_data"
    },
    {
     "name": "stderr",
     "output_type": "stream",
     "text": [
      "c:\\Users\\user\\anaconda3\\envs\\py312\\Lib\\site-packages\\pytorch_tabular\\tabular_datamodule.py:378: FutureWarning: Setting an item of incompatible dtype is deprecated and will raise in a future error of pandas. Value '[18.80095684 18.9402699  16.48399137 ... 18.66054934 18.30457686\n",
      " 18.87074865]' has dtype incompatible with int64, please explicitly cast to a compatible dtype first.\n",
      "  data.loc[:, self.config.continuous_cols] = self.continuous_transform.transform(\n"
     ]
    },
    {
     "name": "stdout",
     "output_type": "stream",
     "text": [
      "Background count: 10\n",
      "Background min diff: -0.2894401550292969\n",
      "Background max diff: 0.4288520812988281\n"
     ]
    },
    {
     "data": {
      "application/vnd.jupyter.widget-view+json": {
       "model_id": "48ef1c6816b14016a45a301e92b10d9c",
       "version_major": 2,
       "version_minor": 0
      },
      "text/plain": [
       "  0%|          | 0/1 [00:00<?, ?it/s]"
      ]
     },
     "metadata": {},
     "output_type": "display_data"
    },
    {
     "name": "stdout",
     "output_type": "stream",
     "text": [
      "SHAP values difference: 1.1568991187260735e-07\n",
      "SHAP values correction 2\n",
      "Background count: 10\n",
      "Background min diff: -0.9335556030273438\n",
      "Background max diff: 0.8631973266601562\n"
     ]
    },
    {
     "data": {
      "application/vnd.jupyter.widget-view+json": {
       "model_id": "fc1c6e67a696438a9431602ce77d2ac9",
       "version_major": 2,
       "version_minor": 0
      },
      "text/plain": [
       "  0%|          | 0/1 [00:00<?, ?it/s]"
      ]
     },
     "metadata": {},
     "output_type": "display_data"
    },
    {
     "name": "stdout",
     "output_type": "stream",
     "text": [
      "SHAP values difference: 1.5262730101994748e-07\n",
      "Background count: 10\n",
      "Background min diff: -16.708419799804688\n",
      "Background max diff: 12.693130493164062\n"
     ]
    },
    {
     "data": {
      "application/vnd.jupyter.widget-view+json": {
       "model_id": "6c544d7cb3484c69a7fca24766cc6145",
       "version_major": 2,
       "version_minor": 0
      },
      "text/plain": [
       "  0%|          | 0/1 [00:00<?, ?it/s]"
      ]
     },
     "metadata": {},
     "output_type": "display_data"
    },
    {
     "name": "stdout",
     "output_type": "stream",
     "text": [
      "SHAP values difference: 2.1493089263913134e-07\n",
      "Background count: 10\n",
      "Background min diff: -0.8561668395996094\n",
      "Background max diff: 0.9218482971191406\n"
     ]
    },
    {
     "data": {
      "application/vnd.jupyter.widget-view+json": {
       "model_id": "a35941a8cc124e07bd5a53a5faf7e443",
       "version_major": 2,
       "version_minor": 0
      },
      "text/plain": [
       "  0%|          | 0/1 [00:00<?, ?it/s]"
      ]
     },
     "metadata": {},
     "output_type": "display_data"
    },
    {
     "name": "stdout",
     "output_type": "stream",
     "text": [
      "SHAP values difference: -1.5917952111976774e-07\n",
      "Background count: 10\n",
      "Background min diff: -0.52783203125\n",
      "Background max diff: 1.5706787109375\n"
     ]
    },
    {
     "data": {
      "application/vnd.jupyter.widget-view+json": {
       "model_id": "21b30b5699ef4673a9027b1ac3fb1b6e",
       "version_major": 2,
       "version_minor": 0
      },
      "text/plain": [
       "  0%|          | 0/1 [00:00<?, ?it/s]"
      ]
     },
     "metadata": {},
     "output_type": "display_data"
    },
    {
     "name": "stdout",
     "output_type": "stream",
     "text": [
      "SHAP values difference: -9.434168113386932e-08\n",
      "Background count: 10\n",
      "Background min diff: -1.7912139892578125\n",
      "Background max diff: 0.6184844970703125\n"
     ]
    },
    {
     "data": {
      "application/vnd.jupyter.widget-view+json": {
       "model_id": "00db883f3f59487986cfa19dcdf66647",
       "version_major": 2,
       "version_minor": 0
      },
      "text/plain": [
       "  0%|          | 0/1 [00:00<?, ?it/s]"
      ]
     },
     "metadata": {},
     "output_type": "display_data"
    },
    {
     "name": "stdout",
     "output_type": "stream",
     "text": [
      "SHAP values difference: -1.7761519188752573e-07\n",
      "Background count: 10\n",
      "Background min diff: -4.2147064208984375\n",
      "Background max diff: 1.3804473876953125\n"
     ]
    },
    {
     "data": {
      "application/vnd.jupyter.widget-view+json": {
       "model_id": "255b9d4d6b314ee0b54fcf76eaec89b2",
       "version_major": 2,
       "version_minor": 0
      },
      "text/plain": [
       "  0%|          | 0/1 [00:00<?, ?it/s]"
      ]
     },
     "metadata": {},
     "output_type": "display_data"
    },
    {
     "name": "stdout",
     "output_type": "stream",
     "text": [
      "SHAP values difference: -6.2850766369138e-08\n",
      "Background count: 10\n",
      "Background min diff: -6.667121887207031\n",
      "Background max diff: 5.440940856933594\n"
     ]
    },
    {
     "data": {
      "application/vnd.jupyter.widget-view+json": {
       "model_id": "e3161480d493410f807bb7a260760cbf",
       "version_major": 2,
       "version_minor": 0
      },
      "text/plain": [
       "  0%|          | 0/1 [00:00<?, ?it/s]"
      ]
     },
     "metadata": {},
     "output_type": "display_data"
    },
    {
     "name": "stdout",
     "output_type": "stream",
     "text": [
      "SHAP values difference: -3.199550935306661e-07\n",
      "Background count: 10\n",
      "Background min diff: -2.513120651245117\n",
      "Background max diff: 2.504884719848633\n"
     ]
    },
    {
     "data": {
      "application/vnd.jupyter.widget-view+json": {
       "model_id": "b559f1c978e4415a8b3bb5424e86ac23",
       "version_major": 2,
       "version_minor": 0
      },
      "text/plain": [
       "  0%|          | 0/1 [00:00<?, ?it/s]"
      ]
     },
     "metadata": {},
     "output_type": "display_data"
    },
    {
     "name": "stdout",
     "output_type": "stream",
     "text": [
      "SHAP values difference: -1.3834567091919325e-07\n",
      "SHAP values correction 2\n",
      "Background count: 10\n",
      "Background min diff: -1.04559326171875\n",
      "Background max diff: 0.87091064453125\n"
     ]
    },
    {
     "data": {
      "application/vnd.jupyter.widget-view+json": {
       "model_id": "c1b23812df234979959847207dc3f36f",
       "version_major": 2,
       "version_minor": 0
      },
      "text/plain": [
       "  0%|          | 0/1 [00:00<?, ?it/s]"
      ]
     },
     "metadata": {},
     "output_type": "display_data"
    },
    {
     "name": "stdout",
     "output_type": "stream",
     "text": [
      "SHAP values difference: 2.172795490196222e-07\n",
      "Background count: 10\n",
      "Background min diff: -2.4013442993164062\n",
      "Background max diff: 2.1768417358398438\n"
     ]
    },
    {
     "data": {
      "application/vnd.jupyter.widget-view+json": {
       "model_id": "2262ac395bfe46a983fad95415541903",
       "version_major": 2,
       "version_minor": 0
      },
      "text/plain": [
       "  0%|          | 0/1 [00:00<?, ?it/s]"
      ]
     },
     "metadata": {},
     "output_type": "display_data"
    },
    {
     "name": "stdout",
     "output_type": "stream",
     "text": [
      "SHAP values difference: -9.259487399049249e-08\n",
      "Background count: 10\n",
      "Background min diff: -0.34865570068359375\n",
      "Background max diff: 0.37128448486328125\n"
     ]
    },
    {
     "data": {
      "application/vnd.jupyter.widget-view+json": {
       "model_id": "2d4e95789f384d3eb1c64a39dc3b70b3",
       "version_major": 2,
       "version_minor": 0
      },
      "text/plain": [
       "  0%|          | 0/1 [00:00<?, ?it/s]"
      ]
     },
     "metadata": {},
     "output_type": "display_data"
    },
    {
     "name": "stdout",
     "output_type": "stream",
     "text": [
      "SHAP values difference: 1.310041497504244e-07\n",
      "Background count: 10\n",
      "Background min diff: -0.9921379089355469\n",
      "Background max diff: 0.7436714172363281\n"
     ]
    },
    {
     "data": {
      "application/vnd.jupyter.widget-view+json": {
       "model_id": "91801f3b48ad4bc3bcefc968609c201e",
       "version_major": 2,
       "version_minor": 0
      },
      "text/plain": [
       "  0%|          | 0/1 [00:00<?, ?it/s]"
      ]
     },
     "metadata": {},
     "output_type": "display_data"
    },
    {
     "name": "stdout",
     "output_type": "stream",
     "text": [
      "SHAP values difference: -3.9608785584732686e-07\n",
      "SHAP values correction 2\n",
      "Background count: 10\n",
      "Background min diff: -4.077812194824219\n",
      "Background max diff: 1.5173416137695312\n"
     ]
    },
    {
     "data": {
      "application/vnd.jupyter.widget-view+json": {
       "model_id": "15922dcea68d4431b72d82e7dee0d787",
       "version_major": 2,
       "version_minor": 0
      },
      "text/plain": [
       "  0%|          | 0/1 [00:00<?, ?it/s]"
      ]
     },
     "metadata": {},
     "output_type": "display_data"
    },
    {
     "name": "stdout",
     "output_type": "stream",
     "text": [
      "SHAP values difference: 1.8785193844905734e-08\n",
      "Background count: 10\n",
      "Background min diff: -2.12176513671875\n",
      "Background max diff: 1.348480224609375\n"
     ]
    },
    {
     "data": {
      "application/vnd.jupyter.widget-view+json": {
       "model_id": "8842e30bccd14f9fa430e32d81a10189",
       "version_major": 2,
       "version_minor": 0
      },
      "text/plain": [
       "  0%|          | 0/1 [00:00<?, ?it/s]"
      ]
     },
     "metadata": {},
     "output_type": "display_data"
    },
    {
     "name": "stdout",
     "output_type": "stream",
     "text": [
      "SHAP values difference: -6.151074316562699e-08\n",
      "Background count: 10\n",
      "Background min diff: -0.8767509460449219\n",
      "Background max diff: 1.1208381652832031\n"
     ]
    },
    {
     "data": {
      "application/vnd.jupyter.widget-view+json": {
       "model_id": "1cd35f538b82426a87eb605fd2e89cc0",
       "version_major": 2,
       "version_minor": 0
      },
      "text/plain": [
       "  0%|          | 0/1 [00:00<?, ?it/s]"
      ]
     },
     "metadata": {},
     "output_type": "display_data"
    },
    {
     "name": "stdout",
     "output_type": "stream",
     "text": [
      "SHAP values difference: -7.508619326301869e-08\n",
      "SHAP values correction 2\n",
      "Background count: 10\n",
      "Background min diff: -2.5526599884033203\n",
      "Background max diff: 2.4786815643310547\n"
     ]
    },
    {
     "data": {
      "application/vnd.jupyter.widget-view+json": {
       "model_id": "f4ec02a577b54f05b227553a7ed58935",
       "version_major": 2,
       "version_minor": 0
      },
      "text/plain": [
       "  0%|          | 0/1 [00:00<?, ?it/s]"
      ]
     },
     "metadata": {},
     "output_type": "display_data"
    },
    {
     "name": "stdout",
     "output_type": "stream",
     "text": [
      "SHAP values difference: -4.259398167505424e-08\n",
      "SHAP values correction 2\n",
      "Background count: 10\n",
      "Background min diff: -0.4381752014160156\n",
      "Background max diff: 0.4590110778808594\n"
     ]
    },
    {
     "data": {
      "application/vnd.jupyter.widget-view+json": {
       "model_id": "83ba912b93a84cd08d358f2dcb84a61a",
       "version_major": 2,
       "version_minor": 0
      },
      "text/plain": [
       "  0%|          | 0/1 [00:00<?, ?it/s]"
      ]
     },
     "metadata": {},
     "output_type": "display_data"
    },
    {
     "name": "stdout",
     "output_type": "stream",
     "text": [
      "SHAP values difference: 6.273073616114289e-08\n",
      "Background count: 10\n",
      "Background min diff: -21.79808807373047\n",
      "Background max diff: 7.603462219238281\n"
     ]
    },
    {
     "data": {
      "application/vnd.jupyter.widget-view+json": {
       "model_id": "cdb98ef709ce4952b839b1923d44769e",
       "version_major": 2,
       "version_minor": 0
      },
      "text/plain": [
       "  0%|          | 0/1 [00:00<?, ?it/s]"
      ]
     },
     "metadata": {},
     "output_type": "display_data"
    },
    {
     "name": "stdout",
     "output_type": "stream",
     "text": [
      "SHAP values difference: 4.2519182485989404e-07\n",
      "Background count: 10\n",
      "Background min diff: -2.125518798828125\n",
      "Background max diff: 2.75653076171875\n"
     ]
    },
    {
     "data": {
      "application/vnd.jupyter.widget-view+json": {
       "model_id": "bc89608566ac4cbda05f5aacdef6bd7b",
       "version_major": 2,
       "version_minor": 0
      },
      "text/plain": [
       "  0%|          | 0/1 [00:00<?, ?it/s]"
      ]
     },
     "metadata": {},
     "output_type": "display_data"
    },
    {
     "name": "stdout",
     "output_type": "stream",
     "text": [
      "SHAP values difference: 2.2354731932239247e-07\n",
      "Background count: 10\n",
      "Background min diff: -0.7784004211425781\n",
      "Background max diff: 0.8902397155761719\n"
     ]
    },
    {
     "data": {
      "application/vnd.jupyter.widget-view+json": {
       "model_id": "fee117e2a87e42dc80cc9a643d049b81",
       "version_major": 2,
       "version_minor": 0
      },
      "text/plain": [
       "  0%|          | 0/1 [00:00<?, ?it/s]"
      ]
     },
     "metadata": {},
     "output_type": "display_data"
    },
    {
     "name": "stdout",
     "output_type": "stream",
     "text": [
      "SHAP values difference: -4.549970893386046e-07\n",
      "SHAP values correction 2\n",
      "Background count: 10\n",
      "Background min diff: -4.291492462158203\n",
      "Background max diff: 4.364543914794922\n"
     ]
    },
    {
     "data": {
      "application/vnd.jupyter.widget-view+json": {
       "model_id": "b2ab33a4b54948209ffc71c850be2f9d",
       "version_major": 2,
       "version_minor": 0
      },
      "text/plain": [
       "  0%|          | 0/1 [00:00<?, ?it/s]"
      ]
     },
     "metadata": {},
     "output_type": "display_data"
    },
    {
     "name": "stdout",
     "output_type": "stream",
     "text": [
      "SHAP values difference: 4.0201315698595863e-07\n",
      "Background count: 10\n",
      "Background min diff: -4.244823455810547\n",
      "Background max diff: 1.3503303527832031\n"
     ]
    },
    {
     "data": {
      "application/vnd.jupyter.widget-view+json": {
       "model_id": "73b27bdbf0424e6191811acc21e992aa",
       "version_major": 2,
       "version_minor": 0
      },
      "text/plain": [
       "  0%|          | 0/1 [00:00<?, ?it/s]"
      ]
     },
     "metadata": {},
     "output_type": "display_data"
    },
    {
     "name": "stdout",
     "output_type": "stream",
     "text": [
      "SHAP values difference: 2.3058078113535885e-07\n",
      "Background count: 10\n",
      "Background min diff: -17.004112243652344\n",
      "Background max diff: 12.397438049316406\n"
     ]
    },
    {
     "data": {
      "application/vnd.jupyter.widget-view+json": {
       "model_id": "0e2759ac9d9246cdbf0649fa9b2805ef",
       "version_major": 2,
       "version_minor": 0
      },
      "text/plain": [
       "  0%|          | 0/1 [00:00<?, ?it/s]"
      ]
     },
     "metadata": {},
     "output_type": "display_data"
    },
    {
     "name": "stdout",
     "output_type": "stream",
     "text": [
      "SHAP values difference: -3.6420893678723587e-07\n",
      "SHAP values correction 2\n",
      "Background count: 10\n",
      "Background min diff: -0.8332481384277344\n",
      "Background max diff: 1.0994911193847656\n"
     ]
    },
    {
     "data": {
      "application/vnd.jupyter.widget-view+json": {
       "model_id": "27b9742e90194781a4f7e48cfe0d01fb",
       "version_major": 2,
       "version_minor": 0
      },
      "text/plain": [
       "  0%|          | 0/1 [00:00<?, ?it/s]"
      ]
     },
     "metadata": {},
     "output_type": "display_data"
    },
    {
     "name": "stdout",
     "output_type": "stream",
     "text": [
      "SHAP values difference: -2.191381653915414e-08\n",
      "SHAP values correction 2\n",
      "Background count: 10\n",
      "Background min diff: -0.7504997253417969\n",
      "Background max diff: 1.0346565246582031\n"
     ]
    },
    {
     "data": {
      "application/vnd.jupyter.widget-view+json": {
       "model_id": "3c5a119a99d94a36a75049daf385185f",
       "version_major": 2,
       "version_minor": 0
      },
      "text/plain": [
       "  0%|          | 0/1 [00:00<?, ?it/s]"
      ]
     },
     "metadata": {},
     "output_type": "display_data"
    },
    {
     "name": "stdout",
     "output_type": "stream",
     "text": [
      "SHAP values difference: 1.3549102817478342e-07\n",
      "SHAP values correction 2\n",
      "Background count: 10\n",
      "Background min diff: -1.3363208770751953\n",
      "Background max diff: 2.9026927947998047\n"
     ]
    },
    {
     "data": {
      "application/vnd.jupyter.widget-view+json": {
       "model_id": "554c8a496c22403b966caf343fdc4351",
       "version_major": 2,
       "version_minor": 0
      },
      "text/plain": [
       "  0%|          | 0/1 [00:00<?, ?it/s]"
      ]
     },
     "metadata": {},
     "output_type": "display_data"
    },
    {
     "name": "stdout",
     "output_type": "stream",
     "text": [
      "SHAP values difference: 5.61743220828248e-08\n",
      "Background count: 10\n",
      "Background min diff: -0.796142578125\n",
      "Background max diff: 1.3023681640625\n"
     ]
    },
    {
     "data": {
      "application/vnd.jupyter.widget-view+json": {
       "model_id": "9d94e232fe044904b21ec5e78b5ca163",
       "version_major": 2,
       "version_minor": 0
      },
      "text/plain": [
       "  0%|          | 0/1 [00:00<?, ?it/s]"
      ]
     },
     "metadata": {},
     "output_type": "display_data"
    },
    {
     "name": "stdout",
     "output_type": "stream",
     "text": [
      "SHAP values difference: 1.5594387292594547e-07\n",
      "Background count: 10\n",
      "Background min diff: -4.461112976074219\n",
      "Background max diff: 1.1340408325195312\n"
     ]
    },
    {
     "data": {
      "application/vnd.jupyter.widget-view+json": {
       "model_id": "9e7083d5a2af40508d65e5eaf7d7d960",
       "version_major": 2,
       "version_minor": 0
      },
      "text/plain": [
       "  0%|          | 0/1 [00:00<?, ?it/s]"
      ]
     },
     "metadata": {},
     "output_type": "display_data"
    },
    {
     "name": "stdout",
     "output_type": "stream",
     "text": [
      "SHAP values difference: -7.364854006652877e-07\n",
      "SHAP values correction 2\n",
      "Background count: 10\n",
      "Background min diff: -1.5009994506835938\n",
      "Background max diff: 0.9086990356445312\n"
     ]
    },
    {
     "data": {
      "application/vnd.jupyter.widget-view+json": {
       "model_id": "8e8ac769f1fd4f7fa834bd3add8ffdf2",
       "version_major": 2,
       "version_minor": 0
      },
      "text/plain": [
       "  0%|          | 0/1 [00:00<?, ?it/s]"
      ]
     },
     "metadata": {},
     "output_type": "display_data"
    },
    {
     "name": "stdout",
     "output_type": "stream",
     "text": [
      "SHAP values difference: 1.4487679322883196e-07\n",
      "Background count: 10\n",
      "Background min diff: -0.9454994201660156\n",
      "Background max diff: 0.9872398376464844\n"
     ]
    },
    {
     "data": {
      "application/vnd.jupyter.widget-view+json": {
       "model_id": "fe9da99972d44bb487243c1d79e2a823",
       "version_major": 2,
       "version_minor": 0
      },
      "text/plain": [
       "  0%|          | 0/1 [00:00<?, ?it/s]"
      ]
     },
     "metadata": {},
     "output_type": "display_data"
    },
    {
     "name": "stdout",
     "output_type": "stream",
     "text": [
      "SHAP values difference: -5.7761468497119495e-08\n",
      "Background count: 10\n",
      "Background min diff: -2.6081085205078125\n",
      "Background max diff: 2.4665985107421875\n"
     ]
    },
    {
     "data": {
      "application/vnd.jupyter.widget-view+json": {
       "model_id": "e808a2a2640345739cf6429897c6b594",
       "version_major": 2,
       "version_minor": 0
      },
      "text/plain": [
       "  0%|          | 0/1 [00:00<?, ?it/s]"
      ]
     },
     "metadata": {},
     "output_type": "display_data"
    },
    {
     "name": "stdout",
     "output_type": "stream",
     "text": [
      "SHAP values difference: 1.4014803184636548e-07\n",
      "Background count: 10\n",
      "Background min diff: -2.0262584686279297\n",
      "Background max diff: 2.2127552032470703\n"
     ]
    },
    {
     "data": {
      "application/vnd.jupyter.widget-view+json": {
       "model_id": "bd96de5b377f434f97e8da050ea64dea",
       "version_major": 2,
       "version_minor": 0
      },
      "text/plain": [
       "  0%|          | 0/1 [00:00<?, ?it/s]"
      ]
     },
     "metadata": {},
     "output_type": "display_data"
    },
    {
     "name": "stdout",
     "output_type": "stream",
     "text": [
      "SHAP values difference: 1.368756930020254e-07\n",
      "SHAP values correction 2\n",
      "Background count: 10\n",
      "Background min diff: -1.5623855590820312\n",
      "Background max diff: 1.7498703002929688\n"
     ]
    },
    {
     "data": {
      "application/vnd.jupyter.widget-view+json": {
       "model_id": "09f1f8ace149467d9b139957133d11c8",
       "version_major": 2,
       "version_minor": 0
      },
      "text/plain": [
       "  0%|          | 0/1 [00:00<?, ?it/s]"
      ]
     },
     "metadata": {},
     "output_type": "display_data"
    },
    {
     "name": "stdout",
     "output_type": "stream",
     "text": [
      "SHAP values difference: 1.0167070740862982e-08\n",
      "Background count: 10\n",
      "Background min diff: -4.373500823974609\n",
      "Background max diff: 1.2216529846191406\n"
     ]
    },
    {
     "data": {
      "application/vnd.jupyter.widget-view+json": {
       "model_id": "048bd6e9943d4e26b7c756e736fee7b7",
       "version_major": 2,
       "version_minor": 0
      },
      "text/plain": [
       "  0%|          | 0/1 [00:00<?, ?it/s]"
      ]
     },
     "metadata": {},
     "output_type": "display_data"
    },
    {
     "name": "stdout",
     "output_type": "stream",
     "text": [
      "SHAP values difference: 2.8817295216754246e-08\n",
      "SHAP values correction 2\n",
      "Background count: 10\n",
      "Background min diff: -9.169517517089844\n",
      "Background max diff: 2.9385452270507812\n"
     ]
    },
    {
     "data": {
      "application/vnd.jupyter.widget-view+json": {
       "model_id": "c20df9a2c0004193abd083ea3a8974a8",
       "version_major": 2,
       "version_minor": 0
      },
      "text/plain": [
       "  0%|          | 0/1 [00:00<?, ?it/s]"
      ]
     },
     "metadata": {},
     "output_type": "display_data"
    },
    {
     "name": "stdout",
     "output_type": "stream",
     "text": [
      "SHAP values difference: -1.1956804257806652e-07\n",
      "Background count: 10\n",
      "Background min diff: -13.752677917480469\n",
      "Background max diff: -1.6446151733398438\n"
     ]
    },
    {
     "data": {
      "application/vnd.jupyter.widget-view+json": {
       "model_id": "b0544de6066e401a9615aebc81600e8d",
       "version_major": 2,
       "version_minor": 0
      },
      "text/plain": [
       "  0%|          | 0/1 [00:00<?, ?it/s]"
      ]
     },
     "metadata": {},
     "output_type": "display_data"
    },
    {
     "name": "stdout",
     "output_type": "stream",
     "text": [
      "SHAP values difference: -3.172623976865907e-07\n",
      "SHAP values correction 2\n",
      "Background count: 10\n",
      "Background min diff: -0.9619789123535156\n",
      "Background max diff: 0.6751365661621094\n"
     ]
    },
    {
     "data": {
      "application/vnd.jupyter.widget-view+json": {
       "model_id": "21a9492d2c9c467d927a9b53e6c4a8cf",
       "version_major": 2,
       "version_minor": 0
      },
      "text/plain": [
       "  0%|          | 0/1 [00:00<?, ?it/s]"
      ]
     },
     "metadata": {},
     "output_type": "display_data"
    },
    {
     "name": "stdout",
     "output_type": "stream",
     "text": [
      "SHAP values difference: 1.816581445268639e-07\n",
      "Background count: 10\n",
      "Background min diff: -1.00689697265625\n",
      "Background max diff: 1.13629150390625\n"
     ]
    },
    {
     "data": {
      "application/vnd.jupyter.widget-view+json": {
       "model_id": "52d118c9cabe4a039bd07f51de6d1212",
       "version_major": 2,
       "version_minor": 0
      },
      "text/plain": [
       "  0%|          | 0/1 [00:00<?, ?it/s]"
      ]
     },
     "metadata": {},
     "output_type": "display_data"
    },
    {
     "name": "stdout",
     "output_type": "stream",
     "text": [
      "SHAP values difference: 8.272343521298353e-08\n",
      "Background count: 10\n",
      "Background min diff: -1.0085639953613281\n",
      "Background max diff: 0.7272453308105469\n"
     ]
    },
    {
     "data": {
      "application/vnd.jupyter.widget-view+json": {
       "model_id": "b058d54a70984d5ea7485eab6ce671c6",
       "version_major": 2,
       "version_minor": 0
      },
      "text/plain": [
       "  0%|          | 0/1 [00:00<?, ?it/s]"
      ]
     },
     "metadata": {},
     "output_type": "display_data"
    },
    {
     "name": "stdout",
     "output_type": "stream",
     "text": [
      "SHAP values difference: -8.808800089354918e-08\n",
      "Background count: 10\n",
      "Background min diff: -1.0105819702148438\n",
      "Background max diff: 0.7333755493164062\n"
     ]
    },
    {
     "data": {
      "application/vnd.jupyter.widget-view+json": {
       "model_id": "bcf3ae536b32430ab3dd7b4ab1997195",
       "version_major": 2,
       "version_minor": 0
      },
      "text/plain": [
       "  0%|          | 0/1 [00:00<?, ?it/s]"
      ]
     },
     "metadata": {},
     "output_type": "display_data"
    },
    {
     "name": "stdout",
     "output_type": "stream",
     "text": [
      "SHAP values difference: 1.0461356581004111e-07\n",
      "Background count: 10\n",
      "Background min diff: -0.9985313415527344\n",
      "Background max diff: 1.1905555725097656\n"
     ]
    },
    {
     "data": {
      "application/vnd.jupyter.widget-view+json": {
       "model_id": "cac59665f273431ab28aaf326a624267",
       "version_major": 2,
       "version_minor": 0
      },
      "text/plain": [
       "  0%|          | 0/1 [00:00<?, ?it/s]"
      ]
     },
     "metadata": {},
     "output_type": "display_data"
    },
    {
     "name": "stdout",
     "output_type": "stream",
     "text": [
      "SHAP values difference: 1.7956013920183977e-07\n",
      "Background count: 10\n",
      "Background min diff: -2.3246841430664062\n",
      "Background max diff: 2.2535018920898438\n"
     ]
    },
    {
     "data": {
      "application/vnd.jupyter.widget-view+json": {
       "model_id": "cde943ad140148a8922220bec1e19125",
       "version_major": 2,
       "version_minor": 0
      },
      "text/plain": [
       "  0%|          | 0/1 [00:00<?, ?it/s]"
      ]
     },
     "metadata": {},
     "output_type": "display_data"
    },
    {
     "name": "stdout",
     "output_type": "stream",
     "text": [
      "SHAP values difference: -2.4147325916601403e-08\n",
      "Background count: 10\n",
      "Background min diff: -1.1219711303710938\n",
      "Background max diff: 0.9116287231445312\n"
     ]
    },
    {
     "data": {
      "application/vnd.jupyter.widget-view+json": {
       "model_id": "98b887eb25c54692946ef3327c797647",
       "version_major": 2,
       "version_minor": 0
      },
      "text/plain": [
       "  0%|          | 0/1 [00:00<?, ?it/s]"
      ]
     },
     "metadata": {},
     "output_type": "display_data"
    },
    {
     "name": "stdout",
     "output_type": "stream",
     "text": [
      "SHAP values difference: -9.429514591374755e-08\n",
      "SHAP values correction 1\n",
      "SHAP values correction 2\n",
      "Background count: 10\n",
      "Background min diff: -0.9757118225097656\n",
      "Background max diff: 0.7600975036621094\n"
     ]
    },
    {
     "data": {
      "application/vnd.jupyter.widget-view+json": {
       "model_id": "1fbd77d2092a49959ba64f991eab085e",
       "version_major": 2,
       "version_minor": 0
      },
      "text/plain": [
       "  0%|          | 0/1 [00:00<?, ?it/s]"
      ]
     },
     "metadata": {},
     "output_type": "display_data"
    },
    {
     "name": "stdout",
     "output_type": "stream",
     "text": [
      "SHAP values difference: -2.5726215469035196e-07\n",
      "Background count: 10\n",
      "Background min diff: -0.9510269165039062\n",
      "Background max diff: 0.6860885620117188\n"
     ]
    },
    {
     "data": {
      "application/vnd.jupyter.widget-view+json": {
       "model_id": "e134cf44665b45ffa764c42cab6db52f",
       "version_major": 2,
       "version_minor": 0
      },
      "text/plain": [
       "  0%|          | 0/1 [00:00<?, ?it/s]"
      ]
     },
     "metadata": {},
     "output_type": "display_data"
    },
    {
     "name": "stdout",
     "output_type": "stream",
     "text": [
      "SHAP values difference: -1.7598405577246012e-07\n",
      "Background count: 10\n",
      "Background min diff: -1.7941474914550781\n",
      "Background max diff: 1.6108512878417969\n"
     ]
    },
    {
     "data": {
      "application/vnd.jupyter.widget-view+json": {
       "model_id": "b1118792a03846a595f1ca0cf94d164e",
       "version_major": 2,
       "version_minor": 0
      },
      "text/plain": [
       "  0%|          | 0/1 [00:00<?, ?it/s]"
      ]
     },
     "metadata": {},
     "output_type": "display_data"
    },
    {
     "name": "stdout",
     "output_type": "stream",
     "text": [
      "SHAP values difference: 1.8752523445186853e-07\n",
      "Background count: 10\n",
      "Background min diff: -0.8650779724121094\n",
      "Background max diff: 0.9794960021972656\n"
     ]
    },
    {
     "data": {
      "application/vnd.jupyter.widget-view+json": {
       "model_id": "907517502e8a4210b2fb19ed14b15ed2",
       "version_major": 2,
       "version_minor": 0
      },
      "text/plain": [
       "  0%|          | 0/1 [00:00<?, ?it/s]"
      ]
     },
     "metadata": {},
     "output_type": "display_data"
    },
    {
     "name": "stdout",
     "output_type": "stream",
     "text": [
      "SHAP values difference: -4.1493592561892e-07\n",
      "Background count: 10\n",
      "Background min diff: -0.5803031921386719\n",
      "Background max diff: 5.048908233642578\n"
     ]
    },
    {
     "data": {
      "application/vnd.jupyter.widget-view+json": {
       "model_id": "0568fdd3e39a46218de2b2e6f293d1dc",
       "version_major": 2,
       "version_minor": 0
      },
      "text/plain": [
       "  0%|          | 0/1 [00:00<?, ?it/s]"
      ]
     },
     "metadata": {},
     "output_type": "display_data"
    },
    {
     "name": "stdout",
     "output_type": "stream",
     "text": [
      "SHAP values difference: -1.0084561452572416e-07\n",
      "Background count: 10\n",
      "Background min diff: -1.7759513854980469\n",
      "Background max diff: 1.8976020812988281\n"
     ]
    },
    {
     "data": {
      "application/vnd.jupyter.widget-view+json": {
       "model_id": "323fcb82f9074382809f17eea158106a",
       "version_major": 2,
       "version_minor": 0
      },
      "text/plain": [
       "  0%|          | 0/1 [00:00<?, ?it/s]"
      ]
     },
     "metadata": {},
     "output_type": "display_data"
    },
    {
     "name": "stdout",
     "output_type": "stream",
     "text": [
      "SHAP values difference: -9.245715659744747e-08\n",
      "Background count: 10\n",
      "Background min diff: -1.0249214172363281\n",
      "Background max diff: 1.2550773620605469\n"
     ]
    },
    {
     "data": {
      "application/vnd.jupyter.widget-view+json": {
       "model_id": "f464a7ac332845bfad0973e0e8416afc",
       "version_major": 2,
       "version_minor": 0
      },
      "text/plain": [
       "  0%|          | 0/1 [00:00<?, ?it/s]"
      ]
     },
     "metadata": {},
     "output_type": "display_data"
    },
    {
     "name": "stdout",
     "output_type": "stream",
     "text": [
      "SHAP values difference: -1.2882210853604192e-07\n",
      "Background count: 10\n",
      "Background min diff: -0.3962135314941406\n",
      "Background max diff: 0.3220787048339844\n"
     ]
    },
    {
     "data": {
      "application/vnd.jupyter.widget-view+json": {
       "model_id": "9dbcabc741074c3b973c796b2801f44e",
       "version_major": 2,
       "version_minor": 0
      },
      "text/plain": [
       "  0%|          | 0/1 [00:00<?, ?it/s]"
      ]
     },
     "metadata": {},
     "output_type": "display_data"
    },
    {
     "name": "stdout",
     "output_type": "stream",
     "text": [
      "SHAP values difference: -1.1172499014833193e-07\n",
      "SHAP values correction 2\n",
      "Background count: 10\n",
      "Background min diff: -0.911651611328125\n",
      "Background max diff: 0.885101318359375\n"
     ]
    },
    {
     "data": {
      "application/vnd.jupyter.widget-view+json": {
       "model_id": "606ec2dc9920481488e27568ace90bfe",
       "version_major": 2,
       "version_minor": 0
      },
      "text/plain": [
       "  0%|          | 0/1 [00:00<?, ?it/s]"
      ]
     },
     "metadata": {},
     "output_type": "display_data"
    },
    {
     "name": "stdout",
     "output_type": "stream",
     "text": [
      "SHAP values difference: -4.204626868897776e-08\n",
      "SHAP values correction 1\n",
      "SHAP values correction 2\n",
      "Background count: 10\n",
      "Background min diff: -0.5340690612792969\n",
      "Background max diff: 0.4540596008300781\n"
     ]
    },
    {
     "data": {
      "application/vnd.jupyter.widget-view+json": {
       "model_id": "c60244e0d8214983bdeda113237fe0d3",
       "version_major": 2,
       "version_minor": 0
      },
      "text/plain": [
       "  0%|          | 0/1 [00:00<?, ?it/s]"
      ]
     },
     "metadata": {},
     "output_type": "display_data"
    },
    {
     "name": "stdout",
     "output_type": "stream",
     "text": [
      "SHAP values difference: -1.704342107444745e-07\n",
      "Background count: 10\n",
      "Background min diff: -2.569700241088867\n",
      "Background max diff: 0.9961261749267578\n"
     ]
    },
    {
     "data": {
      "application/vnd.jupyter.widget-view+json": {
       "model_id": "10a6bdf677ed490cb57e492ddf1069d9",
       "version_major": 2,
       "version_minor": 0
      },
      "text/plain": [
       "  0%|          | 0/1 [00:00<?, ?it/s]"
      ]
     },
     "metadata": {},
     "output_type": "display_data"
    },
    {
     "name": "stdout",
     "output_type": "stream",
     "text": [
      "SHAP values difference: -1.5678956231113261e-06\n",
      "SHAP values correction 2\n",
      "Background count: 10\n",
      "Background min diff: -1.7329387664794922\n",
      "Background max diff: 3.896272659301758\n"
     ]
    },
    {
     "data": {
      "application/vnd.jupyter.widget-view+json": {
       "model_id": "78f128fb5e124e14a788ac5ad03a2b2e",
       "version_major": 2,
       "version_minor": 0
      },
      "text/plain": [
       "  0%|          | 0/1 [00:00<?, ?it/s]"
      ]
     },
     "metadata": {},
     "output_type": "display_data"
    },
    {
     "name": "stdout",
     "output_type": "stream",
     "text": [
      "SHAP values difference: 1.9482113700064474e-08\n",
      "SHAP values correction 2\n",
      "Background count: 10\n",
      "Background min diff: -1.2199077606201172\n",
      "Background max diff: 1.4035358428955078\n"
     ]
    },
    {
     "data": {
      "application/vnd.jupyter.widget-view+json": {
       "model_id": "a85e35b11df247e28bb1349bb158363c",
       "version_major": 2,
       "version_minor": 0
      },
      "text/plain": [
       "  0%|          | 0/1 [00:00<?, ?it/s]"
      ]
     },
     "metadata": {},
     "output_type": "display_data"
    },
    {
     "name": "stdout",
     "output_type": "stream",
     "text": [
      "SHAP values difference: -9.629632202745597e-08\n",
      "Background count: 10\n",
      "Background min diff: -1.18841552734375\n",
      "Background max diff: 0.89361572265625\n"
     ]
    },
    {
     "data": {
      "application/vnd.jupyter.widget-view+json": {
       "model_id": "01642641643141a1806246db6a32371b",
       "version_major": 2,
       "version_minor": 0
      },
      "text/plain": [
       "  0%|          | 0/1 [00:00<?, ?it/s]"
      ]
     },
     "metadata": {},
     "output_type": "display_data"
    },
    {
     "name": "stdout",
     "output_type": "stream",
     "text": [
      "SHAP values difference: 1.0546735040861677e-08\n",
      "Background count: 10\n",
      "Background min diff: -15.443534851074219\n",
      "Background max diff: 13.958015441894531\n"
     ]
    },
    {
     "data": {
      "application/vnd.jupyter.widget-view+json": {
       "model_id": "560409f33f484804b8ca03183c6a5d25",
       "version_major": 2,
       "version_minor": 0
      },
      "text/plain": [
       "  0%|          | 0/1 [00:00<?, ?it/s]"
      ]
     },
     "metadata": {},
     "output_type": "display_data"
    },
    {
     "name": "stdout",
     "output_type": "stream",
     "text": [
      "SHAP values difference: -1.506683986463031e-07\n",
      "Background count: 10\n",
      "Background min diff: -12.605518341064453\n",
      "Background max diff: -0.4974555969238281\n"
     ]
    },
    {
     "data": {
      "application/vnd.jupyter.widget-view+json": {
       "model_id": "cee99e27a6644e629b717e9fc9a7280e",
       "version_major": 2,
       "version_minor": 0
      },
      "text/plain": [
       "  0%|          | 0/1 [00:00<?, ?it/s]"
      ]
     },
     "metadata": {},
     "output_type": "display_data"
    },
    {
     "name": "stdout",
     "output_type": "stream",
     "text": [
      "SHAP values difference: 1.7245378103325493e-07\n",
      "Background count: 10\n",
      "Background min diff: -0.6583633422851562\n",
      "Background max diff: 0.8642196655273438\n"
     ]
    },
    {
     "data": {
      "application/vnd.jupyter.widget-view+json": {
       "model_id": "d044ef09f66d423fb85566b4fe5091a5",
       "version_major": 2,
       "version_minor": 0
      },
      "text/plain": [
       "  0%|          | 0/1 [00:00<?, ?it/s]"
      ]
     },
     "metadata": {},
     "output_type": "display_data"
    },
    {
     "name": "stdout",
     "output_type": "stream",
     "text": [
      "SHAP values difference: 2.4138259391293104e-07\n",
      "Background count: 10\n",
      "Background min diff: -1.2526493072509766\n",
      "Background max diff: 1.2311763763427734\n"
     ]
    },
    {
     "data": {
      "application/vnd.jupyter.widget-view+json": {
       "model_id": "afcaa0626cb947c589d5f8814679783f",
       "version_major": 2,
       "version_minor": 0
      },
      "text/plain": [
       "  0%|          | 0/1 [00:00<?, ?it/s]"
      ]
     },
     "metadata": {},
     "output_type": "display_data"
    },
    {
     "name": "stdout",
     "output_type": "stream",
     "text": [
      "SHAP values difference: -1.9435998055428172e-07\n",
      "SHAP values correction 2\n",
      "Background count: 10\n",
      "Background min diff: -0.8107337951660156\n",
      "Background max diff: 0.9744224548339844\n"
     ]
    },
    {
     "data": {
      "application/vnd.jupyter.widget-view+json": {
       "model_id": "8023cd7702424687bc169ad93157cc4a",
       "version_major": 2,
       "version_minor": 0
      },
      "text/plain": [
       "  0%|          | 0/1 [00:00<?, ?it/s]"
      ]
     },
     "metadata": {},
     "output_type": "display_data"
    },
    {
     "name": "stdout",
     "output_type": "stream",
     "text": [
      "SHAP values difference: 5.7184681878652555e-08\n",
      "Background count: 10\n",
      "Background min diff: -2.5581016540527344\n",
      "Background max diff: 2.4677162170410156\n"
     ]
    },
    {
     "data": {
      "application/vnd.jupyter.widget-view+json": {
       "model_id": "6a0f781f71b2405ab32b0fe0a48b1073",
       "version_major": 2,
       "version_minor": 0
      },
      "text/plain": [
       "  0%|          | 0/1 [00:00<?, ?it/s]"
      ]
     },
     "metadata": {},
     "output_type": "display_data"
    },
    {
     "name": "stdout",
     "output_type": "stream",
     "text": [
      "SHAP values difference: -1.0003593775564923e-07\n",
      "SHAP values correction 2\n",
      "Background count: 10\n",
      "Background min diff: -0.9664115905761719\n",
      "Background max diff: 0.8303413391113281\n"
     ]
    },
    {
     "data": {
      "application/vnd.jupyter.widget-view+json": {
       "model_id": "aaa42460e64348eaa5b34bbdb4ad4452",
       "version_major": 2,
       "version_minor": 0
      },
      "text/plain": [
       "  0%|          | 0/1 [00:00<?, ?it/s]"
      ]
     },
     "metadata": {},
     "output_type": "display_data"
    },
    {
     "name": "stdout",
     "output_type": "stream",
     "text": [
      "SHAP values difference: -2.581584546135218e-07\n",
      "SHAP values correction 1\n",
      "SHAP values correction 2\n",
      "Background count: 10\n",
      "Background min diff: -2.4386367797851562\n",
      "Background max diff: 2.4909896850585938\n"
     ]
    },
    {
     "data": {
      "application/vnd.jupyter.widget-view+json": {
       "model_id": "b3902a8aba914f3aa26bcefe4022e855",
       "version_major": 2,
       "version_minor": 0
      },
      "text/plain": [
       "  0%|          | 0/1 [00:00<?, ?it/s]"
      ]
     },
     "metadata": {},
     "output_type": "display_data"
    },
    {
     "name": "stdout",
     "output_type": "stream",
     "text": [
      "SHAP values difference: -2.492070692028392e-07\n",
      "SHAP values correction 2\n",
      "Background count: 10\n",
      "Background min diff: -1.0015068054199219\n",
      "Background max diff: 1.0320930480957031\n"
     ]
    },
    {
     "data": {
      "application/vnd.jupyter.widget-view+json": {
       "model_id": "8264bd0ed1a04015b7107441861d4488",
       "version_major": 2,
       "version_minor": 0
      },
      "text/plain": [
       "  0%|          | 0/1 [00:00<?, ?it/s]"
      ]
     },
     "metadata": {},
     "output_type": "display_data"
    },
    {
     "name": "stdout",
     "output_type": "stream",
     "text": [
      "SHAP values difference: 4.032168021694815e-07\n",
      "Background count: 10\n",
      "Background min diff: -0.6008682250976562\n",
      "Background max diff: 0.9217147827148438\n"
     ]
    },
    {
     "data": {
      "application/vnd.jupyter.widget-view+json": {
       "model_id": "cd2b41ef8d7f4d4492040f4ab7bc4928",
       "version_major": 2,
       "version_minor": 0
      },
      "text/plain": [
       "  0%|          | 0/1 [00:00<?, ?it/s]"
      ]
     },
     "metadata": {},
     "output_type": "display_data"
    },
    {
     "name": "stdout",
     "output_type": "stream",
     "text": [
      "SHAP values difference: 2.1916047643344427e-07\n",
      "Background count: 10\n",
      "Background min diff: -4.909236907958984\n",
      "Background max diff: 4.578311920166016\n"
     ]
    },
    {
     "data": {
      "application/vnd.jupyter.widget-view+json": {
       "model_id": "280b01185785498aa8d8db98fff78801",
       "version_major": 2,
       "version_minor": 0
      },
      "text/plain": [
       "  0%|          | 0/1 [00:00<?, ?it/s]"
      ]
     },
     "metadata": {},
     "output_type": "display_data"
    },
    {
     "name": "stdout",
     "output_type": "stream",
     "text": [
      "SHAP values difference: -1.8667898160629193e-07\n",
      "SHAP values correction 2\n",
      "Background count: 10\n",
      "Background min diff: -5.082733154296875\n",
      "Background max diff: 3.57330322265625\n"
     ]
    },
    {
     "data": {
      "application/vnd.jupyter.widget-view+json": {
       "model_id": "527c70d324ab4f5b93ed97fbdfe30d11",
       "version_major": 2,
       "version_minor": 0
      },
      "text/plain": [
       "  0%|          | 0/1 [00:00<?, ?it/s]"
      ]
     },
     "metadata": {},
     "output_type": "display_data"
    },
    {
     "name": "stdout",
     "output_type": "stream",
     "text": [
      "SHAP values difference: -7.972021052182754e-07\n",
      "Background count: 10\n",
      "Background min diff: -2.212635040283203\n",
      "Background max diff: 2.409893035888672\n"
     ]
    },
    {
     "data": {
      "application/vnd.jupyter.widget-view+json": {
       "model_id": "b360b1bb872241e98e2ec14a864e0a98",
       "version_major": 2,
       "version_minor": 0
      },
      "text/plain": [
       "  0%|          | 0/1 [00:00<?, ?it/s]"
      ]
     },
     "metadata": {},
     "output_type": "display_data"
    },
    {
     "name": "stdout",
     "output_type": "stream",
     "text": [
      "SHAP values difference: -4.8123762752538823e-08\n",
      "Background count: 10\n",
      "Background min diff: -1.2437934875488281\n",
      "Background max diff: 1.0499992370605469\n"
     ]
    },
    {
     "data": {
      "application/vnd.jupyter.widget-view+json": {
       "model_id": "bc8ebec3d00447ecaf313a6dc7656a9b",
       "version_major": 2,
       "version_minor": 0
      },
      "text/plain": [
       "  0%|          | 0/1 [00:00<?, ?it/s]"
      ]
     },
     "metadata": {},
     "output_type": "display_data"
    },
    {
     "name": "stdout",
     "output_type": "stream",
     "text": [
      "SHAP values difference: -1.2468478161054009e-07\n",
      "SHAP values correction 2\n",
      "Background count: 10\n",
      "Background min diff: -2.7499122619628906\n",
      "Background max diff: 2.6636619567871094\n"
     ]
    },
    {
     "data": {
      "application/vnd.jupyter.widget-view+json": {
       "model_id": "8893ccd2b3154bb38dc0a4337cd57041",
       "version_major": 2,
       "version_minor": 0
      },
      "text/plain": [
       "  0%|          | 0/1 [00:00<?, ?it/s]"
      ]
     },
     "metadata": {},
     "output_type": "display_data"
    },
    {
     "name": "stdout",
     "output_type": "stream",
     "text": [
      "SHAP values difference: 1.0849475842178435e-06\n",
      "Background count: 10\n",
      "Background min diff: -2.9388275146484375\n",
      "Background max diff: 2.4747467041015625\n"
     ]
    },
    {
     "data": {
      "application/vnd.jupyter.widget-view+json": {
       "model_id": "11ee5383b6bc4f9e9ffc2704294416df",
       "version_major": 2,
       "version_minor": 0
      },
      "text/plain": [
       "  0%|          | 0/1 [00:00<?, ?it/s]"
      ]
     },
     "metadata": {},
     "output_type": "display_data"
    },
    {
     "name": "stdout",
     "output_type": "stream",
     "text": [
      "SHAP values difference: -7.856201875711122e-07\n",
      "Background count: 10\n",
      "Background min diff: -5.699954986572266\n",
      "Background max diff: 5.076351165771484\n"
     ]
    },
    {
     "data": {
      "application/vnd.jupyter.widget-view+json": {
       "model_id": "2b3df1829b0d41719cef165950f1e037",
       "version_major": 2,
       "version_minor": 0
      },
      "text/plain": [
       "  0%|          | 0/1 [00:00<?, ?it/s]"
      ]
     },
     "metadata": {},
     "output_type": "display_data"
    },
    {
     "name": "stdout",
     "output_type": "stream",
     "text": [
      "SHAP values difference: 5.774500930755266e-07\n",
      "SHAP values correction 2\n",
      "Background count: 10\n",
      "Background min diff: -1.7841682434082031\n",
      "Background max diff: 1.8893852233886719\n"
     ]
    },
    {
     "data": {
      "application/vnd.jupyter.widget-view+json": {
       "model_id": "c880f56643b14017b00f69916479ede1",
       "version_major": 2,
       "version_minor": 0
      },
      "text/plain": [
       "  0%|          | 0/1 [00:00<?, ?it/s]"
      ]
     },
     "metadata": {},
     "output_type": "display_data"
    },
    {
     "name": "stdout",
     "output_type": "stream",
     "text": [
      "SHAP values difference: 1.5327418156907413e-07\n",
      "SHAP values correction 2\n",
      "Background count: 10\n",
      "Background min diff: -0.6950340270996094\n",
      "Background max diff: 1.2647438049316406\n"
     ]
    },
    {
     "data": {
      "application/vnd.jupyter.widget-view+json": {
       "model_id": "1a48852f34ba422cb3b0fa1539b49172",
       "version_major": 2,
       "version_minor": 0
      },
      "text/plain": [
       "  0%|          | 0/1 [00:00<?, ?it/s]"
      ]
     },
     "metadata": {},
     "output_type": "display_data"
    },
    {
     "name": "stdout",
     "output_type": "stream",
     "text": [
      "SHAP values difference: -7.862793793833589e-08\n",
      "Background count: 10\n",
      "Background min diff: -0.9293212890625\n",
      "Background max diff: 0.806549072265625\n"
     ]
    },
    {
     "data": {
      "application/vnd.jupyter.widget-view+json": {
       "model_id": "7f8e02a684754418b557a3d0a603a75b",
       "version_major": 2,
       "version_minor": 0
      },
      "text/plain": [
       "  0%|          | 0/1 [00:00<?, ?it/s]"
      ]
     },
     "metadata": {},
     "output_type": "display_data"
    },
    {
     "name": "stdout",
     "output_type": "stream",
     "text": [
      "SHAP values difference: 7.403118829074629e-08\n",
      "Background count: 10\n",
      "Background min diff: -14.26739501953125\n",
      "Background max diff: -2.159332275390625\n"
     ]
    },
    {
     "data": {
      "application/vnd.jupyter.widget-view+json": {
       "model_id": "f031c423def848caa597d11a6e58cd2a",
       "version_major": 2,
       "version_minor": 0
      },
      "text/plain": [
       "  0%|          | 0/1 [00:00<?, ?it/s]"
      ]
     },
     "metadata": {},
     "output_type": "display_data"
    },
    {
     "name": "stdout",
     "output_type": "stream",
     "text": [
      "SHAP values difference: 1.320538887128464e-07\n",
      "SHAP values correction 2\n",
      "Background count: 10\n",
      "Background min diff: -1.3414955139160156\n",
      "Background max diff: 1.9483909606933594\n"
     ]
    },
    {
     "data": {
      "application/vnd.jupyter.widget-view+json": {
       "model_id": "23e21135cb064624aa094ee8c55b3b68",
       "version_major": 2,
       "version_minor": 0
      },
      "text/plain": [
       "  0%|          | 0/1 [00:00<?, ?it/s]"
      ]
     },
     "metadata": {},
     "output_type": "display_data"
    },
    {
     "name": "stdout",
     "output_type": "stream",
     "text": [
      "SHAP values difference: 1.8391806366757635e-07\n",
      "SHAP values correction 1\n",
      "SHAP values correction 2\n",
      "Background count: 10\n",
      "Background min diff: -0.9499282836914062\n",
      "Background max diff: 0.6713180541992188\n"
     ]
    },
    {
     "data": {
      "application/vnd.jupyter.widget-view+json": {
       "model_id": "3e23d4f90ec54dd596d8d13214bcd3ce",
       "version_major": 2,
       "version_minor": 0
      },
      "text/plain": [
       "  0%|          | 0/1 [00:00<?, ?it/s]"
      ]
     },
     "metadata": {},
     "output_type": "display_data"
    },
    {
     "name": "stdout",
     "output_type": "stream",
     "text": [
      "SHAP values difference: -1.804356983825528e-07\n",
      "Background count: 10\n",
      "Background min diff: -0.7309226989746094\n",
      "Background max diff: 1.1136512756347656\n"
     ]
    },
    {
     "data": {
      "application/vnd.jupyter.widget-view+json": {
       "model_id": "4201678c8a4544c3b3db3f95e218ae61",
       "version_major": 2,
       "version_minor": 0
      },
      "text/plain": [
       "  0%|          | 0/1 [00:00<?, ?it/s]"
      ]
     },
     "metadata": {},
     "output_type": "display_data"
    },
    {
     "name": "stdout",
     "output_type": "stream",
     "text": [
      "SHAP values difference: -1.7882675429348183e-07\n",
      "SHAP values correction 2\n",
      "Background count: 10\n",
      "Background min diff: -1.6918716430664062\n",
      "Background max diff: 3.9373397827148438\n"
     ]
    },
    {
     "data": {
      "application/vnd.jupyter.widget-view+json": {
       "model_id": "53670cadaa0e4be9bd70c730a2916cbb",
       "version_major": 2,
       "version_minor": 0
      },
      "text/plain": [
       "  0%|          | 0/1 [00:00<?, ?it/s]"
      ]
     },
     "metadata": {},
     "output_type": "display_data"
    },
    {
     "name": "stdout",
     "output_type": "stream",
     "text": [
      "SHAP values difference: 1.9292839437135e-08\n",
      "SHAP values correction 2\n",
      "Background count: 10\n",
      "Background min diff: -2.213926315307617\n",
      "Background max diff: 2.309602737426758\n"
     ]
    },
    {
     "data": {
      "application/vnd.jupyter.widget-view+json": {
       "model_id": "9699eb54e07e49a5822bbcfc6664c25e",
       "version_major": 2,
       "version_minor": 0
      },
      "text/plain": [
       "  0%|          | 0/1 [00:00<?, ?it/s]"
      ]
     },
     "metadata": {},
     "output_type": "display_data"
    },
    {
     "name": "stdout",
     "output_type": "stream",
     "text": [
      "SHAP values difference: -2.1606730449263978e-07\n",
      "SHAP values correction 2\n",
      "Background count: 10\n",
      "Background min diff: -1.532022476196289\n",
      "Background max diff: 1.091421127319336\n"
     ]
    },
    {
     "data": {
      "application/vnd.jupyter.widget-view+json": {
       "model_id": "169c840cad71440582ed57f7b60e5042",
       "version_major": 2,
       "version_minor": 0
      },
      "text/plain": [
       "  0%|          | 0/1 [00:00<?, ?it/s]"
      ]
     },
     "metadata": {},
     "output_type": "display_data"
    },
    {
     "name": "stdout",
     "output_type": "stream",
     "text": [
      "SHAP values difference: -3.078388610688876e-07\n",
      "SHAP values correction 1\n",
      "SHAP values correction 2\n",
      "Background count: 10\n",
      "Background min diff: -2.9004974365234375\n",
      "Background max diff: 2.5130767822265625\n"
     ]
    },
    {
     "data": {
      "application/vnd.jupyter.widget-view+json": {
       "model_id": "887814ecca8e46de9ffe054de541c43f",
       "version_major": 2,
       "version_minor": 0
      },
      "text/plain": [
       "  0%|          | 0/1 [00:00<?, ?it/s]"
      ]
     },
     "metadata": {},
     "output_type": "display_data"
    },
    {
     "name": "stdout",
     "output_type": "stream",
     "text": [
      "SHAP values difference: -1.6680320413797745e-07\n",
      "Background count: 10\n",
      "Background min diff: -0.8362350463867188\n",
      "Background max diff: 0.8996353149414062\n"
     ]
    },
    {
     "data": {
      "application/vnd.jupyter.widget-view+json": {
       "model_id": "e2489a68431a44319cd9ac0f1352e423",
       "version_major": 2,
       "version_minor": 0
      },
      "text/plain": [
       "  0%|          | 0/1 [00:00<?, ?it/s]"
      ]
     },
     "metadata": {},
     "output_type": "display_data"
    },
    {
     "name": "stdout",
     "output_type": "stream",
     "text": [
      "SHAP values difference: 4.41346936774778e-08\n",
      "SHAP values correction 2\n",
      "Background count: 10\n",
      "Background min diff: -1.6043281555175781\n",
      "Background max diff: 1.6855583190917969\n"
     ]
    },
    {
     "data": {
      "application/vnd.jupyter.widget-view+json": {
       "model_id": "1d914e9423cd4deb84c5aedfcd7c4191",
       "version_major": 2,
       "version_minor": 0
      },
      "text/plain": [
       "  0%|          | 0/1 [00:00<?, ?it/s]"
      ]
     },
     "metadata": {},
     "output_type": "display_data"
    },
    {
     "name": "stdout",
     "output_type": "stream",
     "text": [
      "SHAP values difference: 4.6297073730272587e-07\n",
      "SHAP values correction 2\n",
      "Background count: 10\n",
      "Background min diff: -1.28179931640625\n",
      "Background max diff: 1.107879638671875\n"
     ]
    },
    {
     "data": {
      "application/vnd.jupyter.widget-view+json": {
       "model_id": "5b57ddbdf1354b88af69b70117572acb",
       "version_major": 2,
       "version_minor": 0
      },
      "text/plain": [
       "  0%|          | 0/1 [00:00<?, ?it/s]"
      ]
     },
     "metadata": {},
     "output_type": "display_data"
    },
    {
     "name": "stdout",
     "output_type": "stream",
     "text": [
      "SHAP values difference: 2.938865328871998e-07\n",
      "SHAP values correction 2\n",
      "Background count: 10\n",
      "Background min diff: -2.3226795196533203\n",
      "Background max diff: 2.7086620330810547\n"
     ]
    },
    {
     "data": {
      "application/vnd.jupyter.widget-view+json": {
       "model_id": "5fc0f6e550ed4f3ea76d7f059b3c7e12",
       "version_major": 2,
       "version_minor": 0
      },
      "text/plain": [
       "  0%|          | 0/1 [00:00<?, ?it/s]"
      ]
     },
     "metadata": {},
     "output_type": "display_data"
    },
    {
     "name": "stdout",
     "output_type": "stream",
     "text": [
      "SHAP values difference: -3.0300784992221e-08\n",
      "SHAP values correction 2\n",
      "Background count: 10\n",
      "Background min diff: -13.366641998291016\n",
      "Background max diff: -1.2585792541503906\n"
     ]
    },
    {
     "data": {
      "application/vnd.jupyter.widget-view+json": {
       "model_id": "da3b236fb1864b68b45682f500fc35dc",
       "version_major": 2,
       "version_minor": 0
      },
      "text/plain": [
       "  0%|          | 0/1 [00:00<?, ?it/s]"
      ]
     },
     "metadata": {},
     "output_type": "display_data"
    },
    {
     "name": "stdout",
     "output_type": "stream",
     "text": [
      "SHAP values difference: 4.543434215520392e-07\n",
      "Background count: 10\n",
      "Background min diff: -0.680267333984375\n",
      "Background max diff: 0.842315673828125\n"
     ]
    },
    {
     "data": {
      "application/vnd.jupyter.widget-view+json": {
       "model_id": "5e7101d7680d4950904b9d86b24b722f",
       "version_major": 2,
       "version_minor": 0
      },
      "text/plain": [
       "  0%|          | 0/1 [00:00<?, ?it/s]"
      ]
     },
     "metadata": {},
     "output_type": "display_data"
    },
    {
     "name": "stdout",
     "output_type": "stream",
     "text": [
      "SHAP values difference: 8.41987386479559e-08\n",
      "SHAP values correction 2\n",
      "Background count: 10\n",
      "Background min diff: -0.6898536682128906\n",
      "Background max diff: 1.1547203063964844\n"
     ]
    },
    {
     "data": {
      "application/vnd.jupyter.widget-view+json": {
       "model_id": "4048b13d0132442388bd0623633792cd",
       "version_major": 2,
       "version_minor": 0
      },
      "text/plain": [
       "  0%|          | 0/1 [00:00<?, ?it/s]"
      ]
     },
     "metadata": {},
     "output_type": "display_data"
    },
    {
     "name": "stdout",
     "output_type": "stream",
     "text": [
      "SHAP values difference: -1.0930840232958872e-07\n",
      "SHAP values correction 2\n",
      "Background count: 10\n",
      "Background min diff: -1.8907127380371094\n",
      "Background max diff: 1.6751136779785156\n"
     ]
    },
    {
     "data": {
      "application/vnd.jupyter.widget-view+json": {
       "model_id": "4922bfd77f5743479efff08d086b7d8a",
       "version_major": 2,
       "version_minor": 0
      },
      "text/plain": [
       "  0%|          | 0/1 [00:00<?, ?it/s]"
      ]
     },
     "metadata": {},
     "output_type": "display_data"
    },
    {
     "name": "stdout",
     "output_type": "stream",
     "text": [
      "SHAP values difference: 1.5700214461844553e-07\n",
      "SHAP values correction 2\n",
      "Background count: 10\n",
      "Background min diff: -0.5163955688476562\n",
      "Background max diff: 0.6244125366210938\n"
     ]
    },
    {
     "data": {
      "application/vnd.jupyter.widget-view+json": {
       "model_id": "b536b19194e44db7a7d77b1e3b461f8d",
       "version_major": 2,
       "version_minor": 0
      },
      "text/plain": [
       "  0%|          | 0/1 [00:00<?, ?it/s]"
      ]
     },
     "metadata": {},
     "output_type": "display_data"
    },
    {
     "name": "stdout",
     "output_type": "stream",
     "text": [
      "SHAP values difference: 5.330991115215511e-08\n",
      "Background count: 10\n",
      "Background min diff: -3.0894508361816406\n",
      "Background max diff: 2.5057029724121094\n"
     ]
    },
    {
     "data": {
      "application/vnd.jupyter.widget-view+json": {
       "model_id": "692a295fc99e4292b6b0dbda2126914d",
       "version_major": 2,
       "version_minor": 0
      },
      "text/plain": [
       "  0%|          | 0/1 [00:00<?, ?it/s]"
      ]
     },
     "metadata": {},
     "output_type": "display_data"
    },
    {
     "name": "stdout",
     "output_type": "stream",
     "text": [
      "SHAP values difference: 2.835112908883275e-07\n",
      "Background count: 10\n",
      "Background min diff: -5.14691162109375\n",
      "Background max diff: 5.62939453125\n"
     ]
    },
    {
     "data": {
      "application/vnd.jupyter.widget-view+json": {
       "model_id": "f3fcb305af984988a2c591f82f335240",
       "version_major": 2,
       "version_minor": 0
      },
      "text/plain": [
       "  0%|          | 0/1 [00:00<?, ?it/s]"
      ]
     },
     "metadata": {},
     "output_type": "display_data"
    },
    {
     "name": "stdout",
     "output_type": "stream",
     "text": [
      "SHAP values difference: 1.952101325031208e-07\n",
      "SHAP values correction 2\n",
      "Background count: 10\n",
      "Background min diff: -1.4736213684082031\n",
      "Background max diff: 0.9360771179199219\n"
     ]
    },
    {
     "data": {
      "application/vnd.jupyter.widget-view+json": {
       "model_id": "64b604322bb848a481d11404a40b2999",
       "version_major": 2,
       "version_minor": 0
      },
      "text/plain": [
       "  0%|          | 0/1 [00:00<?, ?it/s]"
      ]
     },
     "metadata": {},
     "output_type": "display_data"
    },
    {
     "name": "stdout",
     "output_type": "stream",
     "text": [
      "SHAP values difference: 4.5513704804989175e-08\n",
      "Background count: 10\n",
      "Background min diff: -1.075592041015625\n",
      "Background max diff: 1.157989501953125\n"
     ]
    },
    {
     "data": {
      "application/vnd.jupyter.widget-view+json": {
       "model_id": "3b8d93bc27d2482788f030e1235f59e1",
       "version_major": 2,
       "version_minor": 0
      },
      "text/plain": [
       "  0%|          | 0/1 [00:00<?, ?it/s]"
      ]
     },
     "metadata": {},
     "output_type": "display_data"
    },
    {
     "name": "stdout",
     "output_type": "stream",
     "text": [
      "SHAP values difference: -6.791810847062152e-08\n",
      "Background count: 10\n",
      "Background min diff: -1.3321609497070312\n",
      "Background max diff: 1.2912826538085938\n"
     ]
    },
    {
     "data": {
      "application/vnd.jupyter.widget-view+json": {
       "model_id": "ab3200b12e2d41df9704d600e970c275",
       "version_major": 2,
       "version_minor": 0
      },
      "text/plain": [
       "  0%|          | 0/1 [00:00<?, ?it/s]"
      ]
     },
     "metadata": {},
     "output_type": "display_data"
    },
    {
     "name": "stdout",
     "output_type": "stream",
     "text": [
      "SHAP values difference: -1.4665617342757287e-07\n",
      "Background count: 10\n",
      "Background min diff: -0.4203147888183594\n",
      "Background max diff: 0.4379005432128906\n"
     ]
    },
    {
     "data": {
      "application/vnd.jupyter.widget-view+json": {
       "model_id": "666ad65ec9594c5394e46fe64bb36ac9",
       "version_major": 2,
       "version_minor": 0
      },
      "text/plain": [
       "  0%|          | 0/1 [00:00<?, ?it/s]"
      ]
     },
     "metadata": {},
     "output_type": "display_data"
    },
    {
     "name": "stdout",
     "output_type": "stream",
     "text": [
      "SHAP values difference: -3.770247758438927e-07\n",
      "Background count: 10\n",
      "Background min diff: -0.7468605041503906\n",
      "Background max diff: 1.3516502380371094\n"
     ]
    },
    {
     "data": {
      "application/vnd.jupyter.widget-view+json": {
       "model_id": "c8067a4203cc462ea67c91286d46d642",
       "version_major": 2,
       "version_minor": 0
      },
      "text/plain": [
       "  0%|          | 0/1 [00:00<?, ?it/s]"
      ]
     },
     "metadata": {},
     "output_type": "display_data"
    },
    {
     "name": "stdout",
     "output_type": "stream",
     "text": [
      "SHAP values difference: -1.3669755505318903e-07\n",
      "SHAP values correction 2\n",
      "Background count: 10\n",
      "Background min diff: -1.7549114227294922\n",
      "Background max diff: 1.5349750518798828\n"
     ]
    },
    {
     "data": {
      "application/vnd.jupyter.widget-view+json": {
       "model_id": "03be6cd045fc4773acd629b66e3869f1",
       "version_major": 2,
       "version_minor": 0
      },
      "text/plain": [
       "  0%|          | 0/1 [00:00<?, ?it/s]"
      ]
     },
     "metadata": {},
     "output_type": "display_data"
    },
    {
     "name": "stdout",
     "output_type": "stream",
     "text": [
      "SHAP values difference: -6.71364617232939e-08\n",
      "Background count: 10\n",
      "Background min diff: -1.7696094512939453\n",
      "Background max diff: 1.2404613494873047\n"
     ]
    },
    {
     "data": {
      "application/vnd.jupyter.widget-view+json": {
       "model_id": "6870045b6e5f42049dbf736985eb582f",
       "version_major": 2,
       "version_minor": 0
      },
      "text/plain": [
       "  0%|          | 0/1 [00:00<?, ?it/s]"
      ]
     },
     "metadata": {},
     "output_type": "display_data"
    },
    {
     "name": "stdout",
     "output_type": "stream",
     "text": [
      "SHAP values difference: -2.037705222335262e-07\n",
      "SHAP values correction 2\n",
      "Background count: 10\n",
      "Background min diff: -0.9770317077636719\n",
      "Background max diff: 0.9827461242675781\n"
     ]
    },
    {
     "data": {
      "application/vnd.jupyter.widget-view+json": {
       "model_id": "d32a917f58654f2ca915637edb1c4216",
       "version_major": 2,
       "version_minor": 0
      },
      "text/plain": [
       "  0%|          | 0/1 [00:00<?, ?it/s]"
      ]
     },
     "metadata": {},
     "output_type": "display_data"
    },
    {
     "name": "stdout",
     "output_type": "stream",
     "text": [
      "SHAP values difference: -6.730496016071896e-08\n",
      "SHAP values correction 2\n",
      "Background count: 10\n",
      "Background min diff: -0.8198089599609375\n",
      "Background max diff: 0.9160614013671875\n"
     ]
    },
    {
     "data": {
      "application/vnd.jupyter.widget-view+json": {
       "model_id": "c33a661751d24f10887605136886387b",
       "version_major": 2,
       "version_minor": 0
      },
      "text/plain": [
       "  0%|          | 0/1 [00:00<?, ?it/s]"
      ]
     },
     "metadata": {},
     "output_type": "display_data"
    },
    {
     "name": "stdout",
     "output_type": "stream",
     "text": [
      "SHAP values difference: 9.450091198459631e-08\n",
      "SHAP values correction 2\n",
      "Background count: 10\n",
      "Background min diff: -1.8605976104736328\n",
      "Background max diff: 1.7052288055419922\n"
     ]
    },
    {
     "data": {
      "application/vnd.jupyter.widget-view+json": {
       "model_id": "0520e0c1d64f4ddba6701ddea70b0737",
       "version_major": 2,
       "version_minor": 0
      },
      "text/plain": [
       "  0%|          | 0/1 [00:00<?, ?it/s]"
      ]
     },
     "metadata": {},
     "output_type": "display_data"
    },
    {
     "name": "stdout",
     "output_type": "stream",
     "text": [
      "SHAP values difference: 9.628299935116047e-09\n",
      "SHAP values correction 2\n",
      "Background count: 10\n",
      "Background min diff: -1.1064605712890625\n",
      "Background max diff: 1.2700347900390625\n"
     ]
    },
    {
     "data": {
      "application/vnd.jupyter.widget-view+json": {
       "model_id": "7942e6578a1d4c50b528d63e7a546fac",
       "version_major": 2,
       "version_minor": 0
      },
      "text/plain": [
       "  0%|          | 0/1 [00:00<?, ?it/s]"
      ]
     },
     "metadata": {},
     "output_type": "display_data"
    },
    {
     "name": "stdout",
     "output_type": "stream",
     "text": [
      "SHAP values difference: -1.836050689263402e-07\n",
      "SHAP values correction 1\n",
      "Background count: 10\n",
      "Background min diff: -0.6378364562988281\n",
      "Background max diff: 1.2067375183105469\n"
     ]
    },
    {
     "data": {
      "application/vnd.jupyter.widget-view+json": {
       "model_id": "bbcc6fa0cf7642fa93bbba8d098901ce",
       "version_major": 2,
       "version_minor": 0
      },
      "text/plain": [
       "  0%|          | 0/1 [00:00<?, ?it/s]"
      ]
     },
     "metadata": {},
     "output_type": "display_data"
    },
    {
     "name": "stdout",
     "output_type": "stream",
     "text": [
      "SHAP values difference: -4.479537807355882e-08\n",
      "Background count: 10\n",
      "Background min diff: -1.1111812591552734\n",
      "Background max diff: 1.0477848052978516\n"
     ]
    },
    {
     "data": {
      "application/vnd.jupyter.widget-view+json": {
       "model_id": "ea698fed9ecc40129b851bd65f81d834",
       "version_major": 2,
       "version_minor": 0
      },
      "text/plain": [
       "  0%|          | 0/1 [00:00<?, ?it/s]"
      ]
     },
     "metadata": {},
     "output_type": "display_data"
    },
    {
     "name": "stdout",
     "output_type": "stream",
     "text": [
      "SHAP values difference: 2.971972001830636e-08\n",
      "Background count: 10\n",
      "Background min diff: -0.3393726348876953\n",
      "Background max diff: 5.289838790893555\n"
     ]
    },
    {
     "data": {
      "application/vnd.jupyter.widget-view+json": {
       "model_id": "91eab78ab3bc46b6927365a1da49b9f8",
       "version_major": 2,
       "version_minor": 0
      },
      "text/plain": [
       "  0%|          | 0/1 [00:00<?, ?it/s]"
      ]
     },
     "metadata": {},
     "output_type": "display_data"
    },
    {
     "name": "stdout",
     "output_type": "stream",
     "text": [
      "SHAP values difference: -1.651260070900662e-07\n",
      "SHAP values correction 2\n",
      "Background count: 10\n",
      "Background min diff: -1.1803817749023438\n",
      "Background max diff: 1.1961135864257812\n"
     ]
    },
    {
     "data": {
      "application/vnd.jupyter.widget-view+json": {
       "model_id": "ed9ef53efd9944dc9fab0fc220c7914a",
       "version_major": 2,
       "version_minor": 0
      },
      "text/plain": [
       "  0%|          | 0/1 [00:00<?, ?it/s]"
      ]
     },
     "metadata": {},
     "output_type": "display_data"
    },
    {
     "name": "stdout",
     "output_type": "stream",
     "text": [
      "SHAP values difference: -2.5008793080871783e-07\n",
      "SHAP values correction 2\n",
      "Background count: 10\n",
      "Background min diff: -0.9384498596191406\n",
      "Background max diff: 1.2047386169433594\n"
     ]
    },
    {
     "data": {
      "application/vnd.jupyter.widget-view+json": {
       "model_id": "d5358b72bbfd4747a4b584a7a275ec37",
       "version_major": 2,
       "version_minor": 0
      },
      "text/plain": [
       "  0%|          | 0/1 [00:00<?, ?it/s]"
      ]
     },
     "metadata": {},
     "output_type": "display_data"
    },
    {
     "name": "stdout",
     "output_type": "stream",
     "text": [
      "SHAP values difference: -7.046077143968432e-08\n",
      "Background count: 10\n",
      "Background min diff: -4.99359130859375\n",
      "Background max diff: 5.78271484375\n"
     ]
    },
    {
     "data": {
      "application/vnd.jupyter.widget-view+json": {
       "model_id": "3c9c604b62fd431398447fad21695d25",
       "version_major": 2,
       "version_minor": 0
      },
      "text/plain": [
       "  0%|          | 0/1 [00:00<?, ?it/s]"
      ]
     },
     "metadata": {},
     "output_type": "display_data"
    },
    {
     "name": "stdout",
     "output_type": "stream",
     "text": [
      "SHAP values difference: -4.118694612031959e-07\n",
      "Background count: 10\n",
      "Background min diff: -6.140750885009766\n",
      "Background max diff: 4.635555267333984\n"
     ]
    },
    {
     "data": {
      "application/vnd.jupyter.widget-view+json": {
       "model_id": "c32fdeb81e7d491991ec76fc51ab02c6",
       "version_major": 2,
       "version_minor": 0
      },
      "text/plain": [
       "  0%|          | 0/1 [00:00<?, ?it/s]"
      ]
     },
     "metadata": {},
     "output_type": "display_data"
    },
    {
     "name": "stdout",
     "output_type": "stream",
     "text": [
      "SHAP values difference: -3.5753700800000843e-07\n",
      "SHAP values correction 2\n",
      "Background count: 10\n",
      "Background min diff: -0.7908573150634766\n",
      "Background max diff: 1.1689205169677734\n"
     ]
    },
    {
     "data": {
      "application/vnd.jupyter.widget-view+json": {
       "model_id": "29f173d9dee04bbb8548b365016c873d",
       "version_major": 2,
       "version_minor": 0
      },
      "text/plain": [
       "  0%|          | 0/1 [00:00<?, ?it/s]"
      ]
     },
     "metadata": {},
     "output_type": "display_data"
    },
    {
     "name": "stdout",
     "output_type": "stream",
     "text": [
      "SHAP values difference: 7.407301794160048e-08\n",
      "Background count: 10\n",
      "Background min diff: -1.0379600524902344\n",
      "Background max diff: 0.7059974670410156\n"
     ]
    },
    {
     "data": {
      "application/vnd.jupyter.widget-view+json": {
       "model_id": "75d21e0423a54716888550411450a328",
       "version_major": 2,
       "version_minor": 0
      },
      "text/plain": [
       "  0%|          | 0/1 [00:00<?, ?it/s]"
      ]
     },
     "metadata": {},
     "output_type": "display_data"
    },
    {
     "name": "stdout",
     "output_type": "stream",
     "text": [
      "SHAP values difference: 2.1120175830446897e-08\n",
      "SHAP values correction 2\n",
      "Background count: 10\n",
      "Background min diff: -1.638193130493164\n",
      "Background max diff: 1.371877670288086\n"
     ]
    },
    {
     "data": {
      "application/vnd.jupyter.widget-view+json": {
       "model_id": "8c70be3f61fb49b38bc132bc6ea54c51",
       "version_major": 2,
       "version_minor": 0
      },
      "text/plain": [
       "  0%|          | 0/1 [00:00<?, ?it/s]"
      ]
     },
     "metadata": {},
     "output_type": "display_data"
    },
    {
     "name": "stdout",
     "output_type": "stream",
     "text": [
      "SHAP values difference: 1.544161492006424e-07\n",
      "Background count: 10\n",
      "Background min diff: -0.7916488647460938\n",
      "Background max diff: 0.8425979614257812\n"
     ]
    },
    {
     "data": {
      "application/vnd.jupyter.widget-view+json": {
       "model_id": "9bf91355c61f415c941c6f8451101061",
       "version_major": 2,
       "version_minor": 0
      },
      "text/plain": [
       "  0%|          | 0/1 [00:00<?, ?it/s]"
      ]
     },
     "metadata": {},
     "output_type": "display_data"
    },
    {
     "name": "stdout",
     "output_type": "stream",
     "text": [
      "SHAP values difference: -3.9131623452703934e-07\n",
      "SHAP values correction 2\n",
      "Background count: 10\n",
      "Background min diff: -0.8606758117675781\n",
      "Background max diff: 0.7764396667480469\n"
     ]
    },
    {
     "data": {
      "application/vnd.jupyter.widget-view+json": {
       "model_id": "1e00dd28ab4a472b9153fb1dca1527d4",
       "version_major": 2,
       "version_minor": 0
      },
      "text/plain": [
       "  0%|          | 0/1 [00:00<?, ?it/s]"
      ]
     },
     "metadata": {},
     "output_type": "display_data"
    },
    {
     "name": "stdout",
     "output_type": "stream",
     "text": [
      "SHAP values difference: -9.434331360580472e-08\n",
      "SHAP values correction 2\n",
      "Background count: 10\n",
      "Background min diff: -1.6023025512695312\n",
      "Background max diff: 0.8073959350585938\n"
     ]
    },
    {
     "data": {
      "application/vnd.jupyter.widget-view+json": {
       "model_id": "12d0232f27c7466ab7f6455cfa70876d",
       "version_major": 2,
       "version_minor": 0
      },
      "text/plain": [
       "  0%|          | 0/1 [00:00<?, ?it/s]"
      ]
     },
     "metadata": {},
     "output_type": "display_data"
    },
    {
     "name": "stdout",
     "output_type": "stream",
     "text": [
      "SHAP values difference: 2.1274987460628836e-07\n",
      "Background count: 10\n",
      "Background min diff: -1.0817680358886719\n",
      "Background max diff: 0.6621894836425781\n"
     ]
    },
    {
     "data": {
      "application/vnd.jupyter.widget-view+json": {
       "model_id": "d3320a1da8da49c8b031d333ebceb334",
       "version_major": 2,
       "version_minor": 0
      },
      "text/plain": [
       "  0%|          | 0/1 [00:00<?, ?it/s]"
      ]
     },
     "metadata": {},
     "output_type": "display_data"
    },
    {
     "name": "stdout",
     "output_type": "stream",
     "text": [
      "SHAP values difference: -2.2511315833639856e-07\n",
      "Background count: 10\n",
      "Background min diff: -2.420206069946289\n",
      "Background max diff: 2.487142562866211\n"
     ]
    },
    {
     "data": {
      "application/vnd.jupyter.widget-view+json": {
       "model_id": "563d33825abe45f481d8b01ea784ac92",
       "version_major": 2,
       "version_minor": 0
      },
      "text/plain": [
       "  0%|          | 0/1 [00:00<?, ?it/s]"
      ]
     },
     "metadata": {},
     "output_type": "display_data"
    }
   ],
   "source": [
    "explain_method = \"GradientShap\"\n",
    "explain_baselines = \"b|1000\"\n",
    "explain_n_feats_to_plot = 25\n",
    "\n",
    "models_type = 'DANet' # 'GANDALF'\n",
    "models_ids = [\n",
    "    11,\n",
    "    24,\n",
    "    35,\n",
    "    39,\n",
    "    90,\n",
    "    102,\n",
    "    116,\n",
    "    117,\n",
    "    138,\n",
    "    149,\n",
    "    160,\n",
    "    176,\n",
    "    179,\n",
    "    234,\n",
    "    308,\n",
    "    323,\n",
    "    390,\n",
    "]\n",
    "models_ids = sorted(list(set(models_ids)))\n",
    "\n",
    "ids_shap_check = test.index.values\n",
    "bkg_count = 10\n",
    "\n",
    "feat_trgt = 'Возраст'\n",
    "data_for_shap = data.copy()\n",
    "data_for_shap.loc[train.index, 'Group'] = 'Train'\n",
    "data_for_shap.loc[validation.index, 'Group'] = 'Validation'\n",
    "data_for_shap.loc[test.index, 'Group'] = 'Test'\n",
    "\n",
    "feats_corr = pd.DataFrame(index=feats, columns=['Correlation'])\n",
    "for f in feats:\n",
    "    feats_corr.at[f, 'Correlation'], _ = stats.pearsonr(data.loc[:, f].values, data.loc[:, feat_trgt].values)\n",
    "\n",
    "df_sweeps = pd.read_excel(\n",
    "    (\n",
    "        f\"{path_ckpts}/\"\n",
    "        f\"models_\"\n",
    "        f\"tst({tst_split_id})_\"\n",
    "        f\"val({val_fold_id})\"\n",
    "        f\".xlsx\"\n",
    "    ),\n",
    "    index_col=0\n",
    ")\n",
    "\n",
    "colors_groups = {\n",
    "    'Train': 'chartreuse',\n",
    "    'Validation': 'dodgerblue',\n",
    "    'Test': 'crimson',\n",
    "}\n",
    "\n",
    "path_to_candidates = f\"{path_ckpts}/candidates/{models_type}\"\n",
    "pathlib.Path(path_to_candidates).mkdir(parents=True, exist_ok=True)\n",
    "\n",
    "for model_id in models_ids:\n",
    "\n",
    "    model_dir = str(pathlib.Path(df_sweeps.at[model_id, 'checkpoint']).parent).replace('\\\\', '/') + '/' + pathlib.Path(df_sweeps.at[model_id, 'checkpoint']).stem\n",
    "    model = TabularModel.load_model(model_dir)\n",
    "    pathlib.Path(f\"{path_to_candidates}/{model_id}\").mkdir(parents=True, exist_ok=True)\n",
    "    shutil.copytree(model_dir, f\"{path_to_candidates}/{model_id}\", dirs_exist_ok=True)\n",
    "    \n",
    "    df = data.loc[:, [feat_trgt]]\n",
    "    df.loc[train.index, 'Group'] = 'Train'\n",
    "    df.loc[validation.index, 'Group'] = 'Validation'\n",
    "    df.loc[test.index, 'Group'] = 'Test'\n",
    "    df['Prediction'] = model.predict(data)\n",
    "    df['Error'] = df['Prediction'] - df[feat_trgt]\n",
    "    corrector = LinearBiasCorrector()\n",
    "    corrector.fit(df.loc[df['Group'] == 'Train', feat_trgt].values, df.loc[df['Group'] == 'Train', 'Prediction'].values)\n",
    "    df['Prediction Unbiased'] = corrector.predict(df['Prediction'].values)\n",
    "    df['Error Unbiased'] = df['Prediction Unbiased'] - df[feat_trgt]\n",
    "    df.to_excel(f\"{path_to_candidates}/{model_id}/df.xlsx\")\n",
    "    \n",
    "    def predict_func(X):\n",
    "        X_df = pd.DataFrame(data=X, columns=feats)\n",
    "        y = model.predict(X_df)[f'{feat_trgt}_prediction'].values\n",
    "        y = corrector.predict(y)\n",
    "        return y\n",
    "    \n",
    "    data_for_shap['Prediction'] = df['Prediction']\n",
    "    data_for_shap['Error'] = df['Error']\n",
    "    data_for_shap['Prediction Unbiased'] = df['Prediction Unbiased']\n",
    "    data_for_shap['Error Unbiased'] = df['Error Unbiased']\n",
    "\n",
    "    \n",
    "    df_metrics = pd.DataFrame(\n",
    "        index=list(colors_groups.keys()),\n",
    "        columns=[\n",
    "            'mean_absolute_error', 'pearson_corrcoef', 'bias',\n",
    "            'mean_absolute_error_unbiased', 'pearson_corrcoef_unbiased', 'bias_unbiased'\n",
    "        ]\n",
    "    )\n",
    "    for group in colors_groups.keys():\n",
    "        pred = torch.from_numpy(df.loc[df['Group'] == group, 'Prediction'].values)\n",
    "        pred_unbiased = torch.from_numpy(df.loc[df['Group'] == group, 'Prediction Unbiased'].values)\n",
    "        real = torch.from_numpy(df.loc[df['Group'] == group, feat_trgt].values.astype(np.float32))\n",
    "        df_metrics.at[group, 'mean_absolute_error'] = mean_absolute_error(pred, real).numpy()\n",
    "        df_metrics.at[group, 'pearson_corrcoef'] = pearson_corrcoef(pred, real).numpy()\n",
    "        df_metrics.at[group, 'bias'] = np.mean(df.loc[df['Group'] == group, 'Error'].values)\n",
    "        df_metrics.at[group, 'mean_absolute_error_unbiased'] = mean_absolute_error(pred_unbiased, real).numpy()\n",
    "        df_metrics.at[group, 'pearson_corrcoef_unbiased'] = pearson_corrcoef(pred_unbiased, real).numpy()\n",
    "        df_metrics.at[group, 'bias_unbiased'] = np.mean(df.loc[df['Group'] == group, 'Error Unbiased'].values)\n",
    "    df_metrics.to_excel(f\"{path_to_candidates}/{model_id}/metrics.xlsx\", index_label=\"Metrics\")\n",
    "    \n",
    "    mae = df_metrics.at['Test', 'mean_absolute_error_unbiased']\n",
    "    rho = df_metrics.at['Test', 'pearson_corrcoef_unbiased']\n",
    "    \n",
    "    \n",
    "    \n",
    "    \n",
    "    \n",
    "    df_correspondence = pd.DataFrame()\n",
    "    for sample_id in ids_shap_check:\n",
    "        \n",
    "        trgt_age = data_for_shap.at[sample_id, feat_trgt]\n",
    "        trgt_pred_raw = data_for_shap.at[sample_id, 'Prediction Unbiased']\n",
    "        \n",
    "        data_closest = data_for_shap.loc[data_for_shap['Error Unbiased'].abs() < mae * rho * feats_corr['Correlation'].abs().max(), :]\n",
    "        data_closest = data_closest.iloc[(data_closest['Prediction Unbiased'] - trgt_age).abs().argsort()[:bkg_count]]\n",
    "        \n",
    "        print(f\"Background count: {data_closest.shape[0]}\")\n",
    "        print(f\"Background min diff: {(data_closest['Prediction Unbiased'] - trgt_age).min()}\")\n",
    "        print(f\"Background max diff: {(data_closest['Prediction Unbiased'] - trgt_age).max()}\")\n",
    "        \n",
    "        explainer = shap.SamplingExplainer(predict_func, data_closest.loc[:, feats].values)\n",
    "        shap_values = explainer.shap_values(data_for_shap.loc[[sample_id], feats].values)[0]\n",
    "        shap_values = shap_values * (trgt_pred_raw - trgt_age) / (trgt_pred_raw - explainer.expected_value)\n",
    "        print(f\"SHAP values difference: {sum(shap_values) - (trgt_pred_raw - trgt_age)}\")\n",
    "        \n",
    "        # SHAP values correction 1\n",
    "        shap_corr_thld = 3.0\n",
    "        shap_corr_to = 1.0\n",
    "        shap_mean_abs = np.mean(np.abs(shap_values))\n",
    "        if shap_mean_abs > shap_corr_thld and abs(sum(shap_values)) < shap_corr_thld:\n",
    "            print('SHAP values correction 1')\n",
    "            shap_pos_ids = np.argwhere(shap_values >= 0).ravel()\n",
    "            shap_neg_ids = np.argwhere(shap_values < 0).ravel()\n",
    "            \n",
    "            shap_pos_sum_abs = np.sum(np.abs(shap_values[shap_pos_ids]))\n",
    "            shap_neg_sum_abs = np.sum(np.abs(shap_values[shap_neg_ids]))\n",
    "            \n",
    "            shap_sum_abs_from = np.sum(np.abs(shap_values))\n",
    "            shap_sum_abs_to = shap_corr_to * len(shap_values)\n",
    "            \n",
    "            shap_corr_diff = shap_sum_abs_from - shap_sum_abs_to\n",
    "            \n",
    "            for pos_id in shap_pos_ids:\n",
    "                curr_part = abs(shap_values[pos_id]) / shap_pos_sum_abs\n",
    "                shap_values[pos_id] -= curr_part * shap_corr_diff * 0.5\n",
    "            for neg_id in shap_neg_ids:\n",
    "                curr_part = abs(shap_values[neg_id]) / shap_neg_sum_abs\n",
    "                shap_values[neg_id] += curr_part * shap_corr_diff * 0.5\n",
    "                \n",
    "        # SHAP values correction 2\n",
    "        shap_corr_max_thld = 1.0\n",
    "        shap_corr_max_to = 0.95\n",
    "        shap_max_abs = np.max(np.abs(shap_values))\n",
    "        shap_abs_sum = np.abs(np.sum(shap_values))\n",
    "        if shap_max_abs > shap_corr_max_thld * shap_abs_sum:\n",
    "            print('SHAP values correction 2')\n",
    "            shap_pos_ids = np.argwhere(shap_values >= 0).ravel()\n",
    "            shap_neg_ids = np.argwhere(shap_values < 0).ravel()\n",
    "            \n",
    "            shap_pos_sum_abs = np.sum(np.abs(shap_values[shap_pos_ids]))\n",
    "            shap_neg_sum_abs = np.sum(np.abs(shap_values[shap_neg_ids]))\n",
    "            \n",
    "            shap_corr_diff = (shap_max_abs - shap_corr_max_thld) * shap_corr_max_to\n",
    "            \n",
    "            for pos_id in shap_pos_ids:\n",
    "                curr_part = abs(shap_values[pos_id]) / shap_pos_sum_abs\n",
    "                shap_values[pos_id] -= curr_part * shap_corr_diff\n",
    "            for neg_id in shap_neg_ids:\n",
    "                curr_part = abs(shap_values[neg_id]) / shap_neg_sum_abs\n",
    "                shap_values[neg_id] += curr_part * shap_corr_diff\n",
    "        \n",
    "        df_comp = pd.DataFrame(index=feats, columns=['SHAP', 'Values', 'Correlation', 'Percentile', 'Consistent'])\n",
    "        df_comp['SHAP'] = shap_values\n",
    "        df_comp.sort_values(by='SHAP', key=abs, inplace=True)\n",
    "        df_comp.loc[df_comp.index.values, 'Values'] = data_for_shap.loc[sample_id, df_comp.index.values].values\n",
    "        df_comp.loc[df_comp.index.values, 'Correlation'] = feats_corr.loc[df_comp.index.values, 'Correlation']\n",
    "        for f_id, f in enumerate(df_comp.index.values):\n",
    "            df_comp.at[f, 'Percentile'] = stats.percentileofscore(data_closest.loc[:, f].values, data_for_shap.at[sample_id, f])\n",
    "            if (\n",
    "                ((df_comp.at[f, 'Correlation'] > 0) & (df_comp.at[f, 'SHAP'] > 0) & (df_comp.at[f, 'Percentile'] > 55)) or \\\n",
    "                ((df_comp.at[f, 'Correlation'] > 0) & (df_comp.at[f, 'SHAP'] < 0) & (df_comp.at[f, 'Percentile'] < 45)) or \\\n",
    "                ((df_comp.at[f, 'Correlation'] < 0) & (df_comp.at[f, 'SHAP'] > 0) & (df_comp.at[f, 'Percentile'] < 45)) or \\\n",
    "                ((df_comp.at[f, 'Correlation'] < 0) & (df_comp.at[f, 'SHAP'] < 0) & (df_comp.at[f, 'Percentile'] > 55))\n",
    "                ):\n",
    "                df_comp.at[f, 'Consistent'] = 1\n",
    "            else:\n",
    "                df_comp.at[f, 'Consistent'] = 0\n",
    "\n",
    "            df_correspondence.at[sample_id, f\"{f} Consistent\"] = df_comp.at[f, 'Consistent']\n",
    "            df_correspondence.at[sample_id, f\"{f} Order\"] = f_id\n",
    "            df_correspondence.at[sample_id, f\"{f} Percentile\"] = df_comp.at[f, 'Percentile']\n",
    "            df_correspondence.at[sample_id, f\"{f} SHAP\"] = df_comp.at[f, 'SHAP']\n",
    "            df_correspondence.at[sample_id, f\"{f} Value\"] = df_comp.at[f, 'Values']\n",
    "            df_correspondence.at[sample_id, f\"{f} Correlation\"] = df_comp.at[f, 'Correlation']\n",
    "            \n",
    "    for n_top_feats in np.arange(1, len(feats) + 1):\n",
    "        df_sweeps.at[model_id, f\"SHAP top-{n_top_feats}\"] = 0.0\n",
    "        for f in feats:\n",
    "            df_sweeps.at[model_id, f\"SHAP top-{n_top_feats}\"] += df_correspondence.loc[df_correspondence[f\"{f} Order\"] > len(feats) - n_top_feats - 1, f\"{f} Consistent\"].sum()\n",
    "        df_sweeps.at[model_id, f\"SHAP top-{n_top_feats}\"] /= (n_top_feats * len(ids_shap_check))\n",
    "        \n",
    "    df_correspondence.to_excel(f\"{path_to_candidates}/{model_id}/correspondence.xlsx\")\n",
    "    \n",
    "    \n",
    "    \n",
    "    \n",
    "    xy_min = df[[feat_trgt, 'Prediction']].min().min()\n",
    "    xy_max = df[[feat_trgt, 'Prediction']].max().max()\n",
    "    xy_ptp = xy_max - xy_min\n",
    "    \n",
    "    xy_min_unbiased = df[[feat_trgt, 'Prediction Unbiased']].min().min()\n",
    "    xy_max_unbiased = df[[feat_trgt, 'Prediction Unbiased']].max().max()\n",
    "    xy_ptp_unbiased = xy_max_unbiased - xy_min_unbiased\n",
    "    \n",
    "    sns.set_theme(style='whitegrid')\n",
    "    fig, ax = plt.subplots(figsize=(4.5, 4))\n",
    "    for group in colors_groups.keys():    \n",
    "        regplot = sns.regplot(\n",
    "            data=df.loc[df['Group'] == group, :],\n",
    "            x=feat_trgt,\n",
    "            y=\"Prediction\",\n",
    "            label=group,\n",
    "            color=colors_groups[group],\n",
    "            scatter_kws=dict(\n",
    "                linewidth=0.2,\n",
    "                alpha=0.75,\n",
    "                edgecolor=\"k\",\n",
    "                s=20,\n",
    "            ),\n",
    "            ax=ax\n",
    "        )\n",
    "    bisect = sns.lineplot(\n",
    "        x=[xy_min - 0.1 * xy_ptp, xy_max + 0.1 * xy_ptp],\n",
    "        y=[xy_min - 0.1 * xy_ptp, xy_max + 0.1 * xy_ptp],\n",
    "        linestyle='--',\n",
    "        color='black',\n",
    "        linewidth=1.0,\n",
    "        ax=ax\n",
    "    )\n",
    "    ax.set_title(f\"{df_sweeps.at[model_id, 'model']} ({df_sweeps.at[model_id, '# Params']} params)\")\n",
    "    ax.set_xlim(xy_min - 0.1 * xy_ptp, xy_max + 0.1 * xy_ptp)\n",
    "    ax.set_ylim(xy_min - 0.1 * xy_ptp, xy_max + 0.1 * xy_ptp)\n",
    "    plt.gca().set_aspect('equal', adjustable='box')\n",
    "    fig.savefig(f\"{path_to_candidates}/{model_id}/regplot.png\", bbox_inches='tight', dpi=200)\n",
    "    fig.savefig(f\"{path_to_candidates}/{model_id}/regplot.pdf\", bbox_inches='tight')\n",
    "    plt.close(fig)\n",
    "    \n",
    "    sns.set_theme(style='whitegrid')\n",
    "    fig, ax = plt.subplots(figsize=(4.5, 4))\n",
    "    for group in colors_groups.keys():    \n",
    "        regplot = sns.regplot(\n",
    "            data=df.loc[df['Group'] == group, :],\n",
    "            x=feat_trgt,\n",
    "            y=\"Prediction Unbiased\",\n",
    "            label=group,\n",
    "            color=colors_groups[group],\n",
    "            scatter_kws=dict(\n",
    "                linewidth=0.2,\n",
    "                alpha=0.75,\n",
    "                edgecolor=\"k\",\n",
    "                s=20,\n",
    "            ),\n",
    "            ax=ax\n",
    "        )\n",
    "    bisect = sns.lineplot(\n",
    "        x=[xy_min_unbiased - 0.1 * xy_ptp_unbiased, xy_max_unbiased + 0.1 * xy_ptp_unbiased],\n",
    "        y=[xy_min_unbiased - 0.1 * xy_ptp_unbiased, xy_max_unbiased + 0.1 * xy_ptp_unbiased],\n",
    "        linestyle='--',\n",
    "        color='black',\n",
    "        linewidth=1.0,\n",
    "        ax=ax\n",
    "    )\n",
    "    ax.set_title(f\"{df_sweeps.at[model_id, 'model']} ({df_sweeps.at[model_id, '# Params']} params)\")\n",
    "    ax.set_xlim(xy_min_unbiased - 0.1 * xy_ptp, xy_max_unbiased + 0.1 * xy_ptp_unbiased)\n",
    "    ax.set_ylim(xy_min_unbiased - 0.1 * xy_ptp, xy_max_unbiased + 0.1 * xy_ptp_unbiased)\n",
    "    plt.gca().set_aspect('equal', adjustable='box')\n",
    "    fig.savefig(f\"{path_to_candidates}/{model_id}/regplot_unbiased.png\", bbox_inches='tight', dpi=200)\n",
    "    fig.savefig(f\"{path_to_candidates}/{model_id}/regplot_unbiased.pdf\", bbox_inches='tight')\n",
    "    plt.close(fig)\n",
    "    \n",
    "    sns.set_theme(style='whitegrid')\n",
    "    fig, ax = plt.subplots(figsize=(4.5, 4))   \n",
    "    scatter = sns.scatterplot(\n",
    "        data=df,\n",
    "        x=feat_trgt,\n",
    "        y=\"Prediction\",\n",
    "        hue=\"Group\",\n",
    "        palette=colors_groups,\n",
    "        linewidth=0.2,\n",
    "        alpha=0.75,\n",
    "        edgecolor=\"k\",\n",
    "        s=20,\n",
    "        hue_order=list(colors_groups.keys()),\n",
    "        ax=ax\n",
    "    )\n",
    "    bisect = sns.lineplot(\n",
    "        x=[xy_min - 0.1 * xy_ptp, xy_max + 0.1 * xy_ptp],\n",
    "        y=[xy_min - 0.1 * xy_ptp, xy_max + 0.1 * xy_ptp],\n",
    "        linestyle='--',\n",
    "        color='black',\n",
    "        linewidth=1.0,\n",
    "        ax=ax\n",
    "    )\n",
    "    ax.set_title(f\"{df_sweeps.at[model_id, 'model']} ({df_sweeps.at[model_id, '# Params']} params)\")\n",
    "    ax.set_xlim(xy_min - 0.1 * xy_ptp, xy_max + 0.1 * xy_ptp)\n",
    "    ax.set_ylim(xy_min - 0.1 * xy_ptp, xy_max + 0.1 * xy_ptp)\n",
    "    plt.gca().set_aspect('equal', adjustable='box')\n",
    "    fig.savefig(f\"{path_to_candidates}/{model_id}/scatter.png\", bbox_inches='tight', dpi=200)\n",
    "    fig.savefig(f\"{path_to_candidates}/{model_id}/scatter.pdf\", bbox_inches='tight')\n",
    "    plt.close(fig)\n",
    "    \n",
    "    df_fig = df.loc[:, ['Error', 'Group']]\n",
    "    groups_rename = {\n",
    "        group: f\"{group}\" + \"\\n\" +\n",
    "               fr\"MAE: {df_metrics.at[group, 'mean_absolute_error']:0.2f}\" + \"\\n\"\n",
    "               fr\"Pearson $\\rho$: {df_metrics.at[group, 'pearson_corrcoef']:0.2f}\" + \"\\n\" +\n",
    "               fr\"$\\langle$Error$\\rangle$: {df_metrics.at[group, 'bias']:0.2f}\" \n",
    "        for group in colors_groups\n",
    "    }\n",
    "    colors_groups_violin = {groups_rename[group]: colors_groups[group] for group in colors_groups}\n",
    "    df_fig['Group'].replace(groups_rename, inplace=True)\n",
    "    sns.set_theme(style='whitegrid')\n",
    "    fig, ax = plt.subplots(figsize=(7, 4))\n",
    "    violin = sns.violinplot(\n",
    "        data=df_fig,\n",
    "        x='Group',\n",
    "        y='Error',\n",
    "        palette=colors_groups_violin,\n",
    "        scale='width',\n",
    "        order=list(colors_groups_violin.keys()),\n",
    "        saturation=0.75,\n",
    "        legend=False,\n",
    "        ax=ax\n",
    "    )\n",
    "    ax.set_xlabel('')\n",
    "    fig.savefig(f\"{path_to_candidates}/{model_id}/violin.png\", bbox_inches='tight', dpi=200)\n",
    "    fig.savefig(f\"{path_to_candidates}/{model_id}/violin.pdf\", bbox_inches='tight')\n",
    "    plt.close(fig)\n",
    "    \n",
    "    df_fig = df.loc[:, ['Error Unbiased', 'Group']]\n",
    "    groups_rename = {\n",
    "        group: f\"{group}\" + \"\\n\" +\n",
    "               fr\"MAE: {df_metrics.at[group, 'mean_absolute_error_unbiased']:0.2f}\" + \"\\n\"\n",
    "               fr\"Pearson $\\rho$: {df_metrics.at[group, 'pearson_corrcoef_unbiased']:0.2f}\" + \"\\n\" +\n",
    "               fr\"$\\langle$Error$\\rangle$: {df_metrics.at[group, 'bias_unbiased']:0.2f}\" \n",
    "        for group in colors_groups\n",
    "    }\n",
    "    colors_groups_violin = {groups_rename[group]: colors_groups[group] for group in colors_groups}\n",
    "    df_fig['Group'].replace(groups_rename, inplace=True)\n",
    "    sns.set_theme(style='whitegrid')\n",
    "    fig, ax = plt.subplots(figsize=(7, 4))\n",
    "    violin = sns.violinplot(\n",
    "        data=df_fig,\n",
    "        x='Group',\n",
    "        y='Error Unbiased',\n",
    "        palette=colors_groups_violin,\n",
    "        scale='width',\n",
    "        order=list(colors_groups_violin.keys()),\n",
    "        saturation=0.75,\n",
    "        legend=False,\n",
    "        ax=ax\n",
    "    )\n",
    "    ax.set_xlabel('')\n",
    "    fig.savefig(f\"{path_to_candidates}/{model_id}/violin_unbiased.png\", bbox_inches='tight', dpi=200)\n",
    "    fig.savefig(f\"{path_to_candidates}/{model_id}/violin_unbiased.pdf\", bbox_inches='tight')\n",
    "    plt.close(fig)\n",
    "    \n",
    "    try:\n",
    "        explanation = model.explain(data, method=explain_method, baselines=explain_baselines)\n",
    "        explanation.index = data.index\n",
    "        explanation.to_excel(f\"{path_to_candidates}/{model_id}/explanation.xlsx\")\n",
    "        \n",
    "        # sns.set_theme(style='whitegrid')\n",
    "        # fig = shap.summary_plot(\n",
    "        #     shap_values=explanation.loc[:, feats].values,\n",
    "        #     features=data.loc[:, feats].values,\n",
    "        #     feature_names=feats,\n",
    "        #     max_display=explain_n_feats_to_plot,\n",
    "        #     plot_type=\"violin\",\n",
    "        #     show=False,\n",
    "        # )\n",
    "        # plt.savefig(f\"{path_to_candidates}/{model_id}/explain_beeswarm.png\", bbox_inches='tight', dpi=200)\n",
    "        # plt.savefig(f\"{path_to_candidates}/{model_id}/explain_beeswarm.pdf\", bbox_inches='tight')\n",
    "        # plt.close(fig)\n",
    "        \n",
    "        sns.set_theme(style='ticks')\n",
    "        fig = shap.summary_plot(\n",
    "            shap_values=explanation.loc[:, feats].values,\n",
    "            features=data.loc[:, feats].values,\n",
    "            feature_names=feats,\n",
    "            max_display=explain_n_feats_to_plot,\n",
    "            plot_type=\"bar\",\n",
    "            show=False,\n",
    "            plot_size=[12,8]\n",
    "        )\n",
    "        plt.savefig(f\"{path_to_candidates}/{model_id}/explain_bar.png\", bbox_inches='tight', dpi=200)\n",
    "        plt.savefig(f\"{path_to_candidates}/{model_id}/explain_bar.pdf\", bbox_inches='tight')\n",
    "        plt.close(fig)\n",
    "    \n",
    "    except NotImplementedError:\n",
    "        pass\n",
    "    \n",
    "df_sweeps.loc[models_ids, :].style.background_gradient(cmap=\"RdYlGn_r\").to_excel(f\"{path_to_candidates}/selected.xlsx\")"
   ]
  },
  {
   "cell_type": "markdown",
   "metadata": {},
   "source": [
    "# Optuna Stand Alone"
   ]
  },
  {
   "cell_type": "markdown",
   "metadata": {},
   "source": [
    "## Training"
   ]
  },
  {
   "cell_type": "code",
   "execution_count": null,
   "metadata": {},
   "outputs": [],
   "source": [
    "model_name = 'LightGBM' # 'ElasticNet'\n",
    "\n",
    "model_config = OmegaConf.load(f\"{path_configs}/models/{model_name}.yaml\")\n",
    "model_config = OmegaConf.to_container(model_config, resolve=True)\n",
    "\n",
    "pathlib.Path(f\"{path_ckpts}\").mkdir(parents=True, exist_ok=True)\n",
    "\n",
    "opt_parts = ['test', 'validation']\n",
    "opt_metrics = [('pearson_corrcoef', 'maximize')]\n",
    "# opt_metrics = [('mean_absolute_error', 'minimize'), ('pearson_corrcoef', 'maximize')]\n",
    "# opt_metrics = [('pearson_corrcoef', 'maximize')]\n",
    "# opt_metrics = [('mean_absolute_error', 'minimize')]\n",
    "opt_directions = []\n",
    "for part in opt_parts:\n",
    "    for metric_pair in opt_metrics:\n",
    "        opt_directions.append(f\"{metric_pair[1]}\")\n",
    "\n",
    "n_trials = 512\n",
    "seed = 1337\n",
    "n_startup_trials = 256\n",
    "n_ei_candidates = 32\n",
    "\n",
    "trials_results = []\n",
    "\n",
    "study = optuna.create_study(\n",
    "    study_name=model_name,\n",
    "    sampler=optuna.samplers.TPESampler(\n",
    "        n_startup_trials=n_startup_trials,\n",
    "        n_ei_candidates=n_ei_candidates,\n",
    "        seed=seed,\n",
    "    ),\n",
    "    directions=opt_directions\n",
    ")\n",
    "study.optimize(\n",
    "    func=lambda trial: train_hyper_opt_sa_regression(\n",
    "        trial=trial,\n",
    "        trials_results=trials_results,\n",
    "        opt_metrics=opt_metrics,\n",
    "        opt_parts=opt_parts,\n",
    "        model_config_default=model_config,\n",
    "        train=train,\n",
    "        validation=validation,\n",
    "        test=test,\n",
    "        features=feats_cnt,\n",
    "        target=feat_trgt,\n",
    "        save_dir=f\"{path_ckpts}\"\n",
    "    ),\n",
    "    n_trials=n_trials,\n",
    "    show_progress_bar=True\n",
    ")\n",
    "\n",
    "fn_trials = (\n",
    "    f\"{model_name}_\"\n",
    "    f\"trials({n_trials}_{seed}_{n_startup_trials}_{n_ei_candidates})_\"\n",
    "    f\"tst({tst_split_id})_\"\n",
    "    f\"val({val_fold_id})\"\n",
    ")\n",
    "\n",
    "df_trials = pd.DataFrame(trials_results)\n",
    "df_trials['split_id'] = tst_split_id\n",
    "df_trials['fold_id'] = val_fold_id\n",
    "df_trials.style.background_gradient(cmap=\"RdYlGn_r\").to_excel(f\"{path_ckpts}/{fn_trials}.xlsx\")"
   ]
  },
  {
   "cell_type": "markdown",
   "metadata": {},
   "source": [
    "## Best models"
   ]
  },
  {
   "cell_type": "code",
   "execution_count": null,
   "metadata": {},
   "outputs": [],
   "source": [
    "explain_method = \"GradientShap\"\n",
    "explain_baselines = \"b|1000\"\n",
    "explain_n_feats_to_plot = 25\n",
    "\n",
    "models_ids = [\n",
    "\n",
    "]\n",
    "models_ids = sorted(list(set(models_ids)))\n",
    "\n",
    "df_sweeps = pd.read_excel(\n",
    "    (\n",
    "        f\"{path_ckpts}/\"\n",
    "        f\"progress\"\n",
    "        f\".xlsx\"\n",
    "    ),\n",
    "    index_col=0\n",
    ")\n",
    "\n",
    "path_to_candidates = f\"{path_ckpts}/candidates\"\n",
    "pathlib.Path(path_to_candidates).mkdir(parents=True, exist_ok=True)\n",
    "df_sweeps.loc[models_ids, :].to_excel(f\"{path_to_candidates}/selected.xlsx\")\n",
    "\n",
    "for model_id in models_ids:\n",
    "    \n",
    "    model_dir = f\"{path_ckpts}/elastic_net_{df_sweeps.at[model_id, 'alpha']:0.4e}\"\n",
    "    model = pickle.load(open(f\"{model_dir}/model.pkl\", 'rb'))\n",
    "    pathlib.Path(f\"{path_to_candidates}/{model_id}\").mkdir(parents=True, exist_ok=True)\n",
    "    shutil.copytree(model_dir, f\"{path_to_candidates}/{model_id}\", dirs_exist_ok=True)\n",
    "    \n",
    "    df = data.loc[:, [feat_trgt]]\n",
    "    df.loc[train.index, 'Group'] = 'Train'\n",
    "    df.loc[validation.index, 'Group'] = 'Validation'\n",
    "    df.loc[test.index, 'Group'] = 'Test'\n",
    "    df['Prediction'] = model.predict(data[feats_cnt].values)\n",
    "    df['Error'] = df['Prediction'] - df[feat_trgt]\n",
    "    corrector = LinearBiasCorrector()\n",
    "    corrector.fit(df.loc[df['Group'] == 'Train', feat_trgt].values, df.loc[df['Group'] == 'Train', 'Prediction'].values)\n",
    "    df['Prediction Unbiased'] = corrector.predict(df['Prediction'].values)\n",
    "    df['Error Unbiased'] = df['Prediction Unbiased'] - df[feat_trgt]\n",
    "    df.to_excel(f\"{path_to_candidates}/{model_id}/df.xlsx\")\n",
    "    \n",
    "    colors_groups = {\n",
    "        'Train': 'chartreuse',\n",
    "        'Validation': 'dodgerblue',\n",
    "        'Test': 'crimson',\n",
    "    }\n",
    "    \n",
    "    df_metrics = pd.DataFrame(\n",
    "        index=list(colors_groups.keys()),\n",
    "        columns=[\n",
    "            'mean_absolute_error', 'pearson_corrcoef', 'bias',\n",
    "            'mean_absolute_error_unbiased', 'pearson_corrcoef_unbiased', 'bias_unbiased'\n",
    "        ]\n",
    "    )\n",
    "    for group in colors_groups.keys():\n",
    "        pred = torch.from_numpy(df.loc[df['Group'] == group, 'Prediction'].values)\n",
    "        pred_unbiased = torch.from_numpy(df.loc[df['Group'] == group, 'Prediction Unbiased'].values)\n",
    "        real = torch.from_numpy(df.loc[df['Group'] == group, feat_trgt].values.astype(np.float32))\n",
    "        df_metrics.at[group, 'mean_absolute_error'] = mean_absolute_error(pred, real).numpy()\n",
    "        df_metrics.at[group, 'pearson_corrcoef'] = pearson_corrcoef(pred, real).numpy()\n",
    "        df_metrics.at[group, 'bias'] = np.mean(df.loc[df['Group'] == group, 'Error'].values)\n",
    "        df_metrics.at[group, 'mean_absolute_error_unbiased'] = mean_absolute_error(pred_unbiased, real).numpy()\n",
    "        df_metrics.at[group, 'pearson_corrcoef_unbiased'] = pearson_corrcoef(pred_unbiased, real).numpy()\n",
    "        df_metrics.at[group, 'bias_unbiased'] = np.mean(df.loc[df['Group'] == group, 'Error Unbiased'].values)\n",
    "    df_metrics.to_excel(f\"{path_to_candidates}/{model_id}/metrics.xlsx\", index_label=\"Metrics\")\n",
    "    \n",
    "    xy_min = df[[feat_trgt, 'Prediction']].min().min()\n",
    "    xy_max = df[[feat_trgt, 'Prediction']].max().max()\n",
    "    xy_ptp = xy_max - xy_min\n",
    "    \n",
    "    xy_min_unbiased = df[[feat_trgt, 'Prediction Unbiased']].min().min()\n",
    "    xy_max_unbiased = df[[feat_trgt, 'Prediction Unbiased']].max().max()\n",
    "    xy_ptp_unbiased = xy_max_unbiased - xy_min_unbiased\n",
    "    \n",
    "    sns.set_theme(style='whitegrid')\n",
    "    fig, ax = plt.subplots(figsize=(4.5, 4))\n",
    "    for group in colors_groups.keys():    \n",
    "        regplot = sns.regplot(\n",
    "            data=df.loc[df['Group'] == group, :],\n",
    "            x=feat_trgt,\n",
    "            y=\"Prediction\",\n",
    "            label=group,\n",
    "            color=colors_groups[group],\n",
    "            scatter_kws=dict(\n",
    "                linewidth=0.2,\n",
    "                alpha=0.75,\n",
    "                edgecolor=\"k\",\n",
    "                s=20,\n",
    "            ),\n",
    "            ax=ax\n",
    "        )\n",
    "    bisect = sns.lineplot(\n",
    "        x=[xy_min - 0.1 * xy_ptp, xy_max + 0.1 * xy_ptp],\n",
    "        y=[xy_min - 0.1 * xy_ptp, xy_max + 0.1 * xy_ptp],\n",
    "        linestyle='--',\n",
    "        color='black',\n",
    "        linewidth=1.0,\n",
    "        ax=ax\n",
    "    )\n",
    "    ax.set_xlim(xy_min - 0.1 * xy_ptp, xy_max + 0.1 * xy_ptp)\n",
    "    ax.set_ylim(xy_min - 0.1 * xy_ptp, xy_max + 0.1 * xy_ptp)\n",
    "    plt.gca().set_aspect('equal', adjustable='box')\n",
    "    fig.savefig(f\"{path_to_candidates}/{model_id}/regplot.png\", bbox_inches='tight', dpi=200)\n",
    "    fig.savefig(f\"{path_to_candidates}/{model_id}/regplot.pdf\", bbox_inches='tight')\n",
    "    plt.close(fig)\n",
    "    \n",
    "    sns.set_theme(style='whitegrid')\n",
    "    fig, ax = plt.subplots(figsize=(4.5, 4))\n",
    "    for group in colors_groups.keys():    \n",
    "        regplot = sns.regplot(\n",
    "            data=df.loc[df['Group'] == group, :],\n",
    "            x=feat_trgt,\n",
    "            y=\"Prediction Unbiased\",\n",
    "            label=group,\n",
    "            color=colors_groups[group],\n",
    "            scatter_kws=dict(\n",
    "                linewidth=0.2,\n",
    "                alpha=0.75,\n",
    "                edgecolor=\"k\",\n",
    "                s=20,\n",
    "            ),\n",
    "            ax=ax\n",
    "        )\n",
    "    bisect = sns.lineplot(\n",
    "        x=[xy_min_unbiased - 0.1 * xy_ptp_unbiased, xy_max_unbiased + 0.1 * xy_ptp_unbiased],\n",
    "        y=[xy_min_unbiased - 0.1 * xy_ptp_unbiased, xy_max_unbiased + 0.1 * xy_ptp_unbiased],\n",
    "        linestyle='--',\n",
    "        color='black',\n",
    "        linewidth=1.0,\n",
    "        ax=ax\n",
    "    )\n",
    "    ax.set_xlim(xy_min_unbiased - 0.1 * xy_ptp, xy_max_unbiased + 0.1 * xy_ptp_unbiased)\n",
    "    ax.set_ylim(xy_min_unbiased - 0.1 * xy_ptp, xy_max_unbiased + 0.1 * xy_ptp_unbiased)\n",
    "    plt.gca().set_aspect('equal', adjustable='box')\n",
    "    fig.savefig(f\"{path_to_candidates}/{model_id}/regplot_unbiased.png\", bbox_inches='tight', dpi=200)\n",
    "    fig.savefig(f\"{path_to_candidates}/{model_id}/regplot_unbiased.pdf\", bbox_inches='tight')\n",
    "    plt.close(fig)\n",
    "    \n",
    "    sns.set_theme(style='whitegrid')\n",
    "    fig, ax = plt.subplots(figsize=(4.5, 4))   \n",
    "    scatter = sns.scatterplot(\n",
    "        data=df,\n",
    "        x=feat_trgt,\n",
    "        y=\"Prediction\",\n",
    "        hue=\"Group\",\n",
    "        palette=colors_groups,\n",
    "        linewidth=0.2,\n",
    "        alpha=0.75,\n",
    "        edgecolor=\"k\",\n",
    "        s=20,\n",
    "        hue_order=list(colors_groups.keys()),\n",
    "        ax=ax\n",
    "    )\n",
    "    bisect = sns.lineplot(\n",
    "        x=[xy_min - 0.1 * xy_ptp, xy_max + 0.1 * xy_ptp],\n",
    "        y=[xy_min - 0.1 * xy_ptp, xy_max + 0.1 * xy_ptp],\n",
    "        linestyle='--',\n",
    "        color='black',\n",
    "        linewidth=1.0,\n",
    "        ax=ax\n",
    "    )\n",
    "    ax.set_xlim(xy_min - 0.1 * xy_ptp, xy_max + 0.1 * xy_ptp)\n",
    "    ax.set_ylim(xy_min - 0.1 * xy_ptp, xy_max + 0.1 * xy_ptp)\n",
    "    plt.gca().set_aspect('equal', adjustable='box')\n",
    "    fig.savefig(f\"{path_to_candidates}/{model_id}/scatter.png\", bbox_inches='tight', dpi=200)\n",
    "    fig.savefig(f\"{path_to_candidates}/{model_id}/scatter.pdf\", bbox_inches='tight')\n",
    "    plt.close(fig)\n",
    "    \n",
    "    df_fig = df.loc[:, ['Error', 'Group']]\n",
    "    groups_rename = {\n",
    "        group: f\"{group}\" + \"\\n\" +\n",
    "               fr\"MAE: {df_metrics.at[group, 'mean_absolute_error']:0.2f}\" + \"\\n\"\n",
    "               fr\"Pearson $\\rho$: {df_metrics.at[group, 'pearson_corrcoef']:0.2f}\" + \"\\n\" +\n",
    "               fr\"$\\langle$Error$\\rangle$: {df_metrics.at[group, 'bias']:0.2f}\" \n",
    "        for group in colors_groups\n",
    "    }\n",
    "    colors_groups_violin = {groups_rename[group]: colors_groups[group] for group in colors_groups}\n",
    "    df_fig['Group'].replace(groups_rename, inplace=True)\n",
    "    sns.set_theme(style='whitegrid')\n",
    "    fig, ax = plt.subplots(figsize=(7, 4))\n",
    "    violin = sns.violinplot(\n",
    "        data=df_fig,\n",
    "        x='Group',\n",
    "        y='Error',\n",
    "        palette=colors_groups_violin,\n",
    "        scale='width',\n",
    "        order=list(colors_groups_violin.keys()),\n",
    "        saturation=0.75,\n",
    "        legend=False,\n",
    "        ax=ax\n",
    "    )\n",
    "    ax.set_xlabel('')\n",
    "    fig.savefig(f\"{path_to_candidates}/{model_id}/violin.png\", bbox_inches='tight', dpi=200)\n",
    "    fig.savefig(f\"{path_to_candidates}/{model_id}/violin.pdf\", bbox_inches='tight')\n",
    "    plt.close(fig)\n",
    "    \n",
    "    df_fig = df.loc[:, ['Error Unbiased', 'Group']]\n",
    "    groups_rename = {\n",
    "        group: f\"{group}\" + \"\\n\" +\n",
    "               fr\"MAE: {df_metrics.at[group, 'mean_absolute_error_unbiased']:0.2f}\" + \"\\n\"\n",
    "               fr\"Pearson $\\rho$: {df_metrics.at[group, 'pearson_corrcoef_unbiased']:0.2f}\" + \"\\n\" +\n",
    "               fr\"$\\langle$Error$\\rangle$: {df_metrics.at[group, 'bias_unbiased']:0.2f}\" \n",
    "        for group in colors_groups\n",
    "    }\n",
    "    colors_groups_violin = {groups_rename[group]: colors_groups[group] for group in colors_groups}\n",
    "    df_fig['Group'].replace(groups_rename, inplace=True)\n",
    "    sns.set_theme(style='whitegrid')\n",
    "    fig, ax = plt.subplots(figsize=(7, 4))\n",
    "    violin = sns.violinplot(\n",
    "        data=df_fig,\n",
    "        x='Group',\n",
    "        y='Error Unbiased',\n",
    "        palette=colors_groups_violin,\n",
    "        scale='width',\n",
    "        order=list(colors_groups_violin.keys()),\n",
    "        saturation=0.75,\n",
    "        legend=False,\n",
    "        ax=ax\n",
    "    )\n",
    "    ax.set_xlabel('')\n",
    "    fig.savefig(f\"{path_to_candidates}/{model_id}/violin_unbiased.png\", bbox_inches='tight', dpi=200)\n",
    "    fig.savefig(f\"{path_to_candidates}/{model_id}/violin_unbiased.pdf\", bbox_inches='tight')\n",
    "    plt.close(fig)\n",
    "    \n",
    "    def predict_func(X):        \n",
    "        y = model.predict(X)\n",
    "        y = corrector.predict(y)\n",
    "        return y\n",
    "    \n",
    "    explainer = shap.SamplingExplainer(predict_func, data[feats_cnt].values)\n",
    "    print(explainer.expected_value)\n",
    "    shap_values = explainer.shap_values( data[feats_cnt].values)\n",
    "    \n",
    "    sns.set_theme(style='ticks')\n",
    "    fig = shap.summary_plot(\n",
    "        shap_values=shap_values,\n",
    "        features=data[feats_cnt].values,\n",
    "        feature_names=feats_cnt,\n",
    "        max_display=25,\n",
    "        plot_type=\"bar\",\n",
    "        show=False,\n",
    "        plot_size=[14, 10]\n",
    "    )\n",
    "    plt.savefig(f\"{path_to_candidates}/{model_id}/explain_bar.png\", bbox_inches='tight', dpi=200)\n",
    "    plt.savefig(f\"{path_to_candidates}/{model_id}/explain_bar.pdf\", bbox_inches='tight')\n",
    "    plt.close(fig)\n",
    "    \n",
    "    sns.set_theme(style='ticks')\n",
    "    fig = shap.summary_plot(\n",
    "        shap_values=shap_values,\n",
    "        features=data[feats_cnt].values,\n",
    "        feature_names=feats_cnt,\n",
    "        max_display=25,\n",
    "        plot_type=\"violin\",\n",
    "        show=False,\n",
    "        plot_size=[14, 10]\n",
    "    )\n",
    "    plt.savefig(f\"{path_to_candidates}/{model_id}/explain_violin.png\", bbox_inches='tight', dpi=200)\n",
    "    plt.savefig(f\"{path_to_candidates}/{model_id}/explain_violin.pdf\", bbox_inches='tight')\n",
    "    plt.close(fig)\n",
    "    "
   ]
  }
 ],
 "metadata": {
  "kernelspec": {
   "display_name": "py312",
   "language": "python",
   "name": "python3"
  },
  "language_info": {
   "codemirror_mode": {
    "name": "ipython",
    "version": 3
   },
   "file_extension": ".py",
   "mimetype": "text/x-python",
   "name": "python",
   "nbconvert_exporter": "python",
   "pygments_lexer": "ipython3",
   "version": "3.12.9"
  }
 },
 "nbformat": 4,
 "nbformat_minor": 0
}
