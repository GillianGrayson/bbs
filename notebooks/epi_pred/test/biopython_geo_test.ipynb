{
 "cells": [
  {
   "cell_type": "code",
   "execution_count": null,
   "id": "e2e062eb",
   "metadata": {},
   "outputs": [],
   "source": [
    "from Bio import Entrez\n",
    "import pandas as pd\n",
    "from tqdm import tqdm\n",
    "import http\n",
    "\n",
    "path = \"E:/YandexDisk/Work/bbd/epi_pred\"\n",
    "\n",
    "Entrez.email = \"alena.kalyakulina@itmm.unn.ru\"\n",
    "Entrez.api_key = 'd4cd80314ce06cf5cb310beba9e013400808'\n",
    "\n",
    "platforms = [\n",
    "    \"GPL13534\", #450k\n",
    "    #\"GPL16304\", #450k\n",
    "    \"GPL21145\", #EPIC\n",
    "    #\"GPL23976\", #EPIC\n",
    "    #\"GPL29753\", #EPIC\n",
    "    #\"GPL33022\", #EPICv2 \n",
    "    #\"GPL34394\", #MSA\n",
    "    ]\n",
    "\n",
    "for platform in platforms:\n",
    "    all_results = []\n",
    "    search_term = f\"{platform}[Platform] AND Homo sapiens[Organism]\" # Выберет GPL, GSE и все GSM\n",
    "    #search_term = f\"{platform}[Platform] AND Homo sapiens[Organism] AND GSE[Filter]\" # Выберет GSE\n",
    "    handle = Entrez.esearch(db=\"gds\", term=search_term, retmax=1000000)\n",
    "    record = Entrez.read(handle)\n",
    "    entry_ids = record[\"IdList\"]\n",
    "\n",
    "    for entry_id in tqdm(entry_ids):\n",
    "        while True:\n",
    "            try:\n",
    "                handle = Entrez.esummary(db=\"gds\", id=entry_id)\n",
    "            except http.client.RemoteDisconnected:\n",
    "                continue\n",
    "            break\n",
    "        while True:\n",
    "            try: \n",
    "                summary = Entrez.read(handle)[0]\n",
    "            except http.client.IncompleteRead:\n",
    "                continue\n",
    "            break\n",
    "        if summary['entryType'] == 'GSM':\n",
    "            all_results.append({\n",
    "                \"Accession\": summary['Accession'],\n",
    "                \"Source\": summary['summary'],\n",
    "                \"GPL\": \"GPL\" + (\";\" + \"GPL\").join(summary['GPL'].split(\";\")),\n",
    "                \"GSE\": \"GSE\" + (\";\" + \"GSE\").join(summary['GSE'].split(\";\")),\n",
    "                \"Organism\": summary['taxon'],\n",
    "                \"Date\": summary['PDAT']\n",
    "            })\n",
    "    df = pd.DataFrame(all_results)\n",
    "    df.to_excel(f\"{path}/{platform}_geo_datasets.xlsx\", index=False)"
   ]
  }
 ],
 "metadata": {
  "kernelspec": {
   "display_name": "py312",
   "language": "python",
   "name": "python3"
  },
  "language_info": {
   "codemirror_mode": {
    "name": "ipython",
    "version": 3
   },
   "file_extension": ".py",
   "mimetype": "text/x-python",
   "name": "python",
   "nbconvert_exporter": "python",
   "pygments_lexer": "ipython3",
   "version": "3.12.9"
  }
 },
 "nbformat": 4,
 "nbformat_minor": 5
}
