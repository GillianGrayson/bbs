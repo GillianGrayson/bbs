{
 "cells": [
  {
   "cell_type": "code",
   "execution_count": 1,
   "id": "67eef64d",
   "metadata": {},
   "outputs": [],
   "source": [
    "from upsetplot import UpSet\n",
    "import pandas as pd\n",
    "import matplotlib.pyplot as plt"
   ]
  },
  {
   "cell_type": "code",
   "execution_count": 2,
   "id": "3cfc4ce7",
   "metadata": {},
   "outputs": [],
   "source": [
    "path = \"E:/YandexDisk/Work/bbd/epi_pred/GPL13534/24_GSE87571\""
   ]
  },
  {
   "cell_type": "code",
   "execution_count": 4,
   "id": "fc3a66ca",
   "metadata": {},
   "outputs": [],
   "source": [
    "df_full = pd.read_csv(f\"{path}/betas_450k.csv\", index_col=0)"
   ]
  }
 ],
 "metadata": {
  "kernelspec": {
   "display_name": "py312",
   "language": "python",
   "name": "python3"
  },
  "language_info": {
   "codemirror_mode": {
    "name": "ipython",
    "version": 3
   },
   "file_extension": ".py",
   "mimetype": "text/x-python",
   "name": "python",
   "nbconvert_exporter": "python",
   "pygments_lexer": "ipython3",
   "version": "3.12.9"
  }
 },
 "nbformat": 4,
 "nbformat_minor": 5
}
