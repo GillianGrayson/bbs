{
 "cells": [
  {
   "cell_type": "code",
   "execution_count": 2,
   "id": "67eef64d",
   "metadata": {},
   "outputs": [],
   "source": [
    "from upsetplot import UpSet\n",
    "import pandas as pd\n",
    "import matplotlib.pyplot as plt\n",
    "from functools import reduce"
   ]
  },
  {
   "cell_type": "code",
   "execution_count": 3,
   "id": "a01b7057",
   "metadata": {},
   "outputs": [
    {
     "name": "stderr",
     "output_type": "stream",
     "text": [
      "C:\\Users\\user\\AppData\\Local\\Temp\\ipykernel_5172\\2912620775.py:3: DtypeWarning: Columns (11,14,15) have mixed types. Specify dtype option on import or set low_memory=False.\n",
      "  manifest_450 = pd.read_csv(f\"{path_manifest}/humanmethylation450_15017482_v1-2.csv\")\n",
      "C:\\Users\\user\\AppData\\Local\\Temp\\ipykernel_5172\\2912620775.py:4: DtypeWarning: Columns (42) have mixed types. Specify dtype option on import or set low_memory=False.\n",
      "  manifest_epic = pd.read_csv(f\"{path_manifest}/infinium-methylationepic-v-1-0-b5-manifest-file.csv\")\n",
      "C:\\Users\\user\\AppData\\Local\\Temp\\ipykernel_5172\\2912620775.py:5: DtypeWarning: Columns (5,6,7,8,15,23,24,25,26,27,28,29,30,31,32,33,34,36,37,38,39,40,41,42,43,44,45,46,47,48,49) have mixed types. Specify dtype option on import or set low_memory=False.\n",
      "  manifest_epicv2 = pd.read_csv(f\"{path_manifest}/EPIC-8v2-0_A2.csv\")\n",
      "C:\\Users\\user\\AppData\\Local\\Temp\\ipykernel_5172\\2912620775.py:6: DtypeWarning: Columns (5,6,7,8,16,26,27,31,32,33,34,37,40,41,42,43,44,45,49) have mixed types. Specify dtype option on import or set low_memory=False.\n",
      "  manifest_msa = pd.read_csv(f\"{path_manifest}/MSA-48v1-0_20102838_A1.csv\")\n"
     ]
    }
   ],
   "source": [
    "path_manifest = \"E:/YandexDisk/Work/bbd/epi_pred/manifests/Illumina\"\n",
    "\n",
    "manifest_450 = pd.read_csv(f\"{path_manifest}/humanmethylation450_15017482_v1-2.csv\")\n",
    "manifest_epic = pd.read_csv(f\"{path_manifest}/infinium-methylationepic-v-1-0-b5-manifest-file.csv\")\n",
    "manifest_epicv2 = pd.read_csv(f\"{path_manifest}/EPIC-8v2-0_A2.csv\")\n",
    "manifest_msa = pd.read_csv(f\"{path_manifest}/MSA-48v1-0_20102838_A1.csv\")"
   ]
  },
  {
   "cell_type": "code",
   "execution_count": 4,
   "id": "c1f8d93b",
   "metadata": {},
   "outputs": [],
   "source": [
    "cpgs_450 = list(manifest_450['Name'])\n",
    "cpgs_epic = list(manifest_epic['Name'])\n",
    "cpgs_epicv2 = list(manifest_epicv2['Name'])\n",
    "cpgs_msa = list(manifest_msa['Name'])"
   ]
  },
  {
   "cell_type": "code",
   "execution_count": 8,
   "id": "8a870acd",
   "metadata": {},
   "outputs": [],
   "source": [
    "indices = [\n",
    "    pd.Index(cpgs_450),\n",
    "    pd.Index(cpgs_epic),\n",
    "    pd.Index(cpgs_epicv2),\n",
    "    pd.Index(cpgs_msa),\n",
    "]\n",
    "cpgs_common = reduce(lambda x, y: x.intersection(y), indices)\n",
    "pd.DataFrame(index=cpgs_common).to_csv(f\"{path_manifest}/intersection.csv\", index_label='CpGs')"
   ]
  },
  {
   "cell_type": "code",
   "execution_count": null,
   "id": "fe233d51",
   "metadata": {},
   "outputs": [],
   "source": [
    "cpgs_dict = {\"450k\": cpgs_450, \"EPIC\": cpgs_epic, \"EPICv2\": cpgs_epicv2, \"MSA\": cpgs_msa}\n",
    "upset_all = list(set().union(*list(cpgs_dict.values())))\n",
    "df_upset = pd.DataFrame(index=upset_all)\n",
    "for k, v in cpgs_dict.items():\n",
    "    df_upset[k] = df_upset.index.isin(v)\n",
    "df_upset = df_upset.set_index(list(cpgs_dict.keys()))\n",
    "\n",
    "tmp = plt.figure(figsize=(30, 10))\n",
    "upset_fig = UpSet(\n",
    "    df_upset,\n",
    "    sort_categories_by='input',\n",
    "    subset_size='count',\n",
    "    show_counts=True,\n",
    "    min_degree=0,\n",
    "    element_size=None,\n",
    "    totals_plot_elements=3,\n",
    "    include_empty_subsets=False\n",
    ")\n",
    "upset_fig.plot(tmp)\n",
    "plt.savefig(f\"{path_manifest}/upset.png\", bbox_inches='tight')\n",
    "plt.savefig(f\"{path_manifest}/upset.pdf\", bbox_inches='tight')\n",
    "plt.close()"
   ]
  }
 ],
 "metadata": {
  "kernelspec": {
   "display_name": "py312",
   "language": "python",
   "name": "python3"
  },
  "language_info": {
   "codemirror_mode": {
    "name": "ipython",
    "version": 3
   },
   "file_extension": ".py",
   "mimetype": "text/x-python",
   "name": "python",
   "nbconvert_exporter": "python",
   "pygments_lexer": "ipython3",
   "version": "3.12.9"
  }
 },
 "nbformat": 4,
 "nbformat_minor": 5
}
