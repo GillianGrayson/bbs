{
 "cells": [
  {
   "cell_type": "markdown",
   "metadata": {
    "collapsed": false
   },
   "source": [
    "# Debugging autoreload"
   ]
  },
  {
   "cell_type": "code",
   "execution_count": null,
   "metadata": {
    "collapsed": false
   },
   "outputs": [],
   "source": [
    "%load_ext autoreload\n",
    "%autoreload 2"
   ]
  },
  {
   "cell_type": "markdown",
   "metadata": {
    "collapsed": false
   },
   "source": [
    "# Load packages"
   ]
  },
  {
   "cell_type": "code",
   "execution_count": null,
   "metadata": {
    "ExecuteTime": {
     "end_time": "2024-07-01T14:29:22.801727Z",
     "start_time": "2024-07-01T14:29:18.695223Z"
    },
    "collapsed": false
   },
   "outputs": [],
   "source": [
    "from pytorch_tabular.utils import load_covertype_dataset\n",
    "from rich.pretty import pprint\n",
    "from sklearn.model_selection import BaseCrossValidator, ParameterGrid, ParameterSampler\n",
    "import torch\n",
    "import pickle\n",
    "import shutil\n",
    "import shap\n",
    "from sklearn.model_selection import RepeatedStratifiedKFold\n",
    "from glob import glob\n",
    "import ast\n",
    "import matplotlib.pyplot as plt\n",
    "import seaborn as sns\n",
    "import copy\n",
    "from sklearn.model_selection import train_test_split\n",
    "import numpy as np\n",
    "from pytorch_tabular.utils import make_mixed_dataset, print_metrics\n",
    "from pytorch_tabular import available_models\n",
    "from pytorch_tabular import TabularModel\n",
    "from pytorch_tabular.models import CategoryEmbeddingModelConfig, GANDALFConfig, TabNetModelConfig, FTTransformerConfig, DANetConfig\n",
    "from pytorch_tabular.config import DataConfig, OptimizerConfig, TrainerConfig\n",
    "from pytorch_tabular.models.common.heads import LinearHeadConfig\n",
    "from pytorch_tabular.tabular_model_tuner import TabularModelTuner\n",
    "from torchmetrics.functional.regression import mean_absolute_error, pearson_corrcoef\n",
    "from pytorch_tabular import MODEL_SWEEP_PRESETS\n",
    "import pandas as pd\n",
    "from pytorch_tabular import model_sweep\n",
    "from src.pt.model_sweep import model_sweep_custom\n",
    "import warnings\n",
    "from src.utils.configs import read_parse_config\n",
    "from src.utils.hash import dict_hash\n",
    "from src.pt.hyper_opt import train_hyper_opt\n",
    "import pathlib\n",
    "from tqdm import tqdm\n",
    "import distinctipy\n",
    "import matplotlib.patheffects as pe\n",
    "import matplotlib.colors as mcolors\n",
    "from statannotations.Annotator import Annotator\n",
    "from scipy.stats import mannwhitneyu\n",
    "import optuna\n",
    "from scipy import stats\n",
    "from regression_bias_corrector import LinearBiasCorrector\n",
    "\n",
    "\n",
    "def make_rgb_transparent(rgb, bg_rgb, alpha):\n",
    "    return [alpha * c1 + (1 - alpha) * c2 for (c1, c2) in zip(rgb, bg_rgb)]"
   ]
  },
  {
   "cell_type": "markdown",
   "metadata": {
    "collapsed": false
   },
   "source": [
    "# Load data"
   ]
  },
  {
   "cell_type": "code",
   "execution_count": null,
   "metadata": {},
   "outputs": [],
   "source": [
    "path = f\"E:/YandexDisk/Work/bbd/mriya\"\n",
    "path_configs = \"E:/Git/bbs/notebooks/mriya/configs\"\n",
    "\n",
    "feats_set = 'Биохимический анализ крови'\n",
    "models_type = 'models/oct2025'\n",
    "\n",
    "path_ckpts = f\"E:/Git/bbs/notebooks/mriya/pt/{feats_set}\"\n",
    "\n",
    "tst_n_splits = 5\n",
    "tst_n_repeats = 5\n",
    "tst_random_state = 1337\n",
    "tst_split_id = 20\n",
    "\n",
    "val_n_splits = 4\n",
    "val_n_repeats = 4\n",
    "val_random_state = 1337\n",
    "val_fold_id = 13\n",
    "\n",
    "data = pd.read_excel(f\"{path}/{models_type}/{feats_set}/data.xlsx\", index_col=0)\n",
    "df_feats = pd.read_excel(f\"{path}/{models_type}/{feats_set}/feats.xlsx\", index_col=0)\n",
    "\n",
    "feat_trgt = 'Age'\n",
    "feats_cnt = df_feats.index[df_feats['data_type'].isin(['decimal', 'integer'])].to_list()\n",
    "feats_cat = df_feats.index[df_feats['data_type'].isin(['enum'])].to_list()\n",
    "\n",
    "feats = list(feats_cnt) + list(feats_cat)"
   ]
  },
  {
   "cell_type": "markdown",
   "metadata": {},
   "source": [
    "# Load stratification"
   ]
  },
  {
   "cell_type": "code",
   "execution_count": null,
   "metadata": {},
   "outputs": [],
   "source": [
    "with open(f\"{path}/{models_type}/{feats_set}/samples_tst({tst_random_state}_{tst_n_splits}_{tst_n_repeats})_val({val_random_state}_{val_n_splits}_{val_n_repeats}).pickle\", 'rb') as handle:\n",
    "    samples = pickle.load(handle)\n",
    "\n",
    "for split_id in range(tst_n_splits * tst_n_repeats):\n",
    "    for fold_id in range(val_n_splits * val_n_repeats):\n",
    "        test_samples = samples[split_id]['test']\n",
    "        train_samples = samples[split_id]['trains'][fold_id]\n",
    "        validation_samples = samples[split_id]['validations'][fold_id]\n",
    "\n",
    "        intxns = {\n",
    "            'train_validation': set.intersection(set(train_samples), set(validation_samples)),\n",
    "            'validation_test': set.intersection(set(validation_samples), set(test_samples)),\n",
    "            'train_test': set.intersection(set(train_samples), set(test_samples))\n",
    "        }\n",
    "        \n",
    "        for intxn_name, intxn_samples in intxns.items():\n",
    "            if len(intxn_samples) > 0:\n",
    "                print(f\"Non-zero {intxn_name} intersection ({len(intxn_samples)}) for {split_id} Split and {fold_id} Fold!\")"
   ]
  },
  {
   "cell_type": "markdown",
   "metadata": {},
   "source": [
    "# Train, Validation, Test selection"
   ]
  },
  {
   "cell_type": "code",
   "execution_count": null,
   "metadata": {},
   "outputs": [],
   "source": [
    "split_dict = samples[tst_split_id]\n",
    "\n",
    "test = data.loc[split_dict['test'], feats + [feat_trgt]]\n",
    "train = data.loc[split_dict['trains'][val_fold_id], feats + [feat_trgt]]\n",
    "validation = data.loc[split_dict['validations'][val_fold_id], feats + [feat_trgt]]"
   ]
  },
  {
   "cell_type": "markdown",
   "metadata": {},
   "source": [
    "# Optuna training"
   ]
  },
  {
   "cell_type": "markdown",
   "metadata": {},
   "source": [
    "## Models setup"
   ]
  },
  {
   "cell_type": "code",
   "execution_count": null,
   "metadata": {},
   "outputs": [],
   "source": [
    "seed_target = 451  # 1337 42 451 1984 1899 1408\n",
    "\n",
    "models_runs = {\n",
    "    # 'GANDALF': {\n",
    "    #     'config': GANDALFConfig,\n",
    "    #     'n_trials': 1024,\n",
    "    #     'seed': seed_target,\n",
    "    #     'n_startup_trials': 256,\n",
    "    #     'n_ei_candidates': 16\n",
    "    # },\n",
    "    # 'FTTransformer': {\n",
    "    #     'config': FTTransformerConfig,\n",
    "    #     'n_trials': 1024,\n",
    "    #     'seed': seed_target,\n",
    "    #     'n_startup_trials': 256,\n",
    "    #     'n_ei_candidates': 16\n",
    "    # },\n",
    "    'DANet': {\n",
    "        'config': DANetConfig,\n",
    "        'n_trials': 512,\n",
    "        'seed': seed_target,\n",
    "        'n_startup_trials': 256,\n",
    "        'n_ei_candidates': 16\n",
    "    },\n",
    "    # 'CategoryEmbeddingModel': {\n",
    "    #     'config': CategoryEmbeddingModelConfig,\n",
    "    #     'n_trials': 256,\n",
    "    #     'seed': seed_target,\n",
    "    #     'n_startup_trials': 64,\n",
    "    #     'n_ei_candidates': 16\n",
    "    # },\n",
    "    # 'TabNetModel': {\n",
    "    #     'config': TabNetModelConfig,\n",
    "    #     'n_trials': 256,\n",
    "    #     'seed': seed_target,\n",
    "    #     'n_startup_trials': 64,\n",
    "    #     'n_ei_candidates': 16\n",
    "    # }\n",
    "}"
   ]
  },
  {
   "cell_type": "markdown",
   "metadata": {},
   "source": [
    "## Training"
   ]
  },
  {
   "cell_type": "code",
   "execution_count": null,
   "metadata": {},
   "outputs": [],
   "source": [
    "dfs_models = []\n",
    "\n",
    "for model_name, model_run in models_runs.items():\n",
    "\n",
    "    model_config_name = model_run['config']\n",
    "    n_trials = model_run['n_trials']\n",
    "    seed = model_run['seed']\n",
    "    n_startup_trials = model_run['n_startup_trials']\n",
    "    n_ei_candidates = model_run['n_ei_candidates']\n",
    "\n",
    "    data_config = read_parse_config(f\"{path_configs}/DataConfig.yaml\", DataConfig)\n",
    "    data_config['target'] = [feat_trgt]\n",
    "    data_config['continuous_cols'] = feats_cnt\n",
    "    data_config['categorical_cols'] = feats_cat\n",
    "    trainer_config = read_parse_config(f\"{path_configs}/TrainerConfig.yaml\", TrainerConfig)\n",
    "    pathlib.Path(path_ckpts).mkdir(parents=True, exist_ok=True)\n",
    "    trainer_config['checkpoints_path'] = path_ckpts\n",
    "    optimizer_config = read_parse_config(f\"{path_configs}/OptimizerConfig.yaml\", OptimizerConfig)\n",
    "\n",
    "    lr_find_min_lr = 1e-8\n",
    "    lr_find_max_lr = 10\n",
    "    lr_find_num_training = 256\n",
    "    lr_find_mode = \"exponential\"\n",
    "    lr_find_early_stop_threshold = 8.0\n",
    "\n",
    "    trainer_config['seed'] = seed\n",
    "    trainer_config['checkpoints'] = 'valid_loss'\n",
    "    trainer_config['load_best'] = True\n",
    "    trainer_config['auto_lr_find'] = False\n",
    "\n",
    "    model_config_default = read_parse_config(f\"{path_configs}/models/{model_name}Config.yaml\", model_config_name)\n",
    "    tabular_model_default = TabularModel(\n",
    "        data_config=data_config,\n",
    "        model_config=model_config_default,\n",
    "        optimizer_config=optimizer_config,\n",
    "        trainer_config=trainer_config,\n",
    "        verbose=False,\n",
    "    )\n",
    "    datamodule = tabular_model_default.prepare_dataloader(train=train, validation=validation, seed=seed)\n",
    "\n",
    "    opt_parts = ['test', 'validation']\n",
    "    opt_metrics = [('mean_absolute_error', 'minimize')]\n",
    "    opt_directions = []\n",
    "    for part in opt_parts:\n",
    "        for metric_pair in opt_metrics:\n",
    "            opt_directions.append(f\"{metric_pair[1]}\")\n",
    "\n",
    "    trials_results = []\n",
    "\n",
    "    study = optuna.create_study(\n",
    "        study_name=model_name,\n",
    "        sampler=optuna.samplers.TPESampler(\n",
    "            n_startup_trials=n_startup_trials,\n",
    "            n_ei_candidates=n_ei_candidates,\n",
    "            seed=seed,\n",
    "        ),\n",
    "        directions=opt_directions\n",
    "    )\n",
    "    study.optimize(\n",
    "        func=lambda trial: train_hyper_opt(\n",
    "            trial=trial,\n",
    "            trials_results=trials_results,\n",
    "            opt_metrics=opt_metrics,\n",
    "            opt_parts=opt_parts,\n",
    "            model_config_default=model_config_default,\n",
    "            data_config_default=data_config,\n",
    "            optimizer_config_default=optimizer_config,\n",
    "            trainer_config_default=trainer_config,\n",
    "            experiment_config_default=None,\n",
    "            train=train,\n",
    "            validation=validation,\n",
    "            test=test,\n",
    "            datamodule=datamodule,\n",
    "            min_lr=lr_find_min_lr,\n",
    "            max_lr=lr_find_max_lr,\n",
    "            num_training=lr_find_num_training,\n",
    "            mode=lr_find_mode,\n",
    "            early_stop_threshold=lr_find_early_stop_threshold\n",
    "        ),\n",
    "        n_trials=n_trials,\n",
    "        show_progress_bar=True\n",
    "    )\n",
    "\n",
    "    fn_trials = (\n",
    "        f\"model({model_name})_\"\n",
    "        f\"trials({n_trials}_{seed}_{n_startup_trials}_{n_ei_candidates})_\"\n",
    "        f\"tst({tst_split_id})_\"\n",
    "        f\"val({val_fold_id})\"\n",
    "    )\n",
    "\n",
    "    df_trials = pd.DataFrame(trials_results)\n",
    "    df_trials['split_id'] = tst_split_id\n",
    "    df_trials['fold_id'] = val_fold_id\n",
    "    df_trials[\"train_more\"] = False\n",
    "    df_trials.loc[(df_trials[\"train_loss\"] > df_trials[\"test_loss\"]) | (\n",
    "            df_trials[\"train_loss\"] > df_trials[\"validation_loss\"]), \"train_more\"] = True\n",
    "    df_trials[\"validation_test_mean_loss\"] = (df_trials[\"validation_loss\"] + df_trials[\"test_loss\"]) / 2.0\n",
    "    df_trials[\"train_validation_test_mean_loss\"] = (df_trials[\"train_loss\"] + df_trials[\"validation_loss\"] + df_trials[\"test_loss\"]) / 3.0\n",
    "    df_trials.style.background_gradient(\n",
    "        subset=[\n",
    "            \"train_loss\",\n",
    "            \"validation_loss\",\n",
    "            \"validation_test_mean_loss\",\n",
    "            \"train_validation_test_mean_loss\",\n",
    "            \"test_loss\",\n",
    "            \"time_taken\",\n",
    "            \"time_taken_per_epoch\"\n",
    "        ], cmap=\"RdYlGn_r\"\n",
    "    ).to_excel(f\"{trainer_config['checkpoints_path']}/{fn_trials}.xlsx\")\n",
    "\n",
    "    dfs_models.append(df_trials)\n",
    "\n",
    "df_models = pd.concat(dfs_models, ignore_index=True)\n",
    "df_models.insert(0, 'Selected', 0)\n",
    "fn = (\n",
    "    f\"models_\"\n",
    "    f\"tst({tst_split_id})_\"\n",
    "    f\"val({val_fold_id})\"\n",
    ")\n",
    "df_models.style.background_gradient(\n",
    "    subset=[\n",
    "        \"train_loss\",\n",
    "        \"validation_loss\",\n",
    "        \"validation_test_mean_loss\",\n",
    "        \"train_validation_test_mean_loss\",\n",
    "        \"test_loss\",\n",
    "        \"time_taken\",\n",
    "        \"time_taken_per_epoch\"\n",
    "    ], cmap=\"RdYlGn_r\"\n",
    ").to_excel(f\"{trainer_config['checkpoints_path']}/{fn}.xlsx\")"
   ]
  },
  {
   "cell_type": "markdown",
   "metadata": {},
   "source": [
    "## Perform tests (High risk VS Low risk) on models"
   ]
  },
  {
   "cell_type": "code",
   "execution_count": null,
   "metadata": {},
   "outputs": [],
   "source": [
    "data_for_tests = data.copy()\n",
    "\n",
    "fn_sweep = (\n",
    "    f\"models_\"\n",
    "    f\"tst({tst_split_id})_\"\n",
    "    f\"val({val_fold_id})\"\n",
    ")\n",
    "\n",
    "df_sweeps = pd.read_excel(f\"{path_ckpts}/{fn_sweep}.xlsx\", index_col=0)\n",
    "\n",
    "df_sweeps.insert(14, 'MW 1-2 p-value', None)\n",
    "df_sweeps.insert(15, 'MW 1-3 p-value', None)\n",
    "df_sweeps.insert(16, 'MW 2-3 p-value', None)\n",
    "df_sweeps.insert(17, 'Mean AA 1', None)\n",
    "df_sweeps.insert(18, 'Mean AA 2', None)\n",
    "df_sweeps.insert(19, 'Mean AA 3', None)\n",
    "\n",
    "models_tests_raw = pd.DataFrame(index=df_sweeps.index)\n",
    "for model_id, model_row in (pbar := tqdm(df_sweeps.iterrows())):\n",
    "    pbar.set_description(f\"Processing {model_id}\")\n",
    "\n",
    "    model_dir = str(pathlib.Path(df_sweeps.at[model_id, 'checkpoint']).parent).replace('\\\\', '/') + '/' + pathlib.Path(df_sweeps.at[model_id, 'checkpoint']).stem\n",
    "    \n",
    "    model = TabularModel.load_model(model_dir)\n",
    "\n",
    "    data_for_tests.loc[train.index, 'Group'] = 'Train'\n",
    "    data_for_tests.loc[validation.index, 'Group'] = 'Validation'\n",
    "    data_for_tests.loc[test.index, 'Group'] = 'Test'\n",
    "    data_for_tests['Prediction'] = model.predict(data_for_tests)\n",
    "    data_for_tests['Error'] = data_for_tests['Prediction'] - data_for_tests['Age']\n",
    "    corrector = LinearBiasCorrector()\n",
    "    corrector.fit(data_for_tests.loc[data_for_tests['Group'] == 'Train', feat_trgt].values, data_for_tests.loc[data_for_tests['Group'] == 'Train', 'Prediction'].values)\n",
    "    data_for_tests['Prediction Unbiased'] = corrector.predict(data_for_tests['Prediction'].values)\n",
    "    data_for_tests['Error Unbiased'] = data_for_tests['Prediction Unbiased'] - data_for_tests[feat_trgt]\n",
    "    \n",
    "    _, df_sweeps.at[model_id, 'MW 1-2 p-value'] = mannwhitneyu(\n",
    "        data_for_tests.loc[data_for_tests['Риск ССЗ'] == 'Низкий/умеренный', 'Error Unbiased'].values,\n",
    "        data_for_tests.loc[data_for_tests['Риск ССЗ'] == 'Высокий', 'Error Unbiased'].values,\n",
    "        alternative=\"two-sided\",\n",
    "    )\n",
    "    _, df_sweeps.at[model_id, 'MW 1-3 p-value'] = mannwhitneyu(\n",
    "        data_for_tests.loc[data_for_tests['Риск ССЗ'] == 'Низкий/умеренный', 'Error Unbiased'].values,\n",
    "        data_for_tests.loc[data_for_tests['Риск ССЗ'] == 'Очень высокий', 'Error Unbiased'].values,\n",
    "        alternative=\"two-sided\",\n",
    "    )\n",
    "    _, df_sweeps.at[model_id, 'MW 2-3 p-value'] = mannwhitneyu(\n",
    "        data_for_tests.loc[data_for_tests['Риск ССЗ'] == 'Высокий', 'Error Unbiased'].values,\n",
    "        data_for_tests.loc[data_for_tests['Риск ССЗ'] == 'Очень высокий', 'Error Unbiased'].values,\n",
    "        alternative=\"two-sided\",\n",
    "    )\n",
    "    df_sweeps.at[model_id, 'Mean AA 1'] = np.mean(data_for_tests.loc[data_for_tests['Риск ССЗ'] == 'Низкий/умеренный', 'Error Unbiased'])\n",
    "    df_sweeps.at[model_id, 'Mean AA 2'] = np.mean(data_for_tests.loc[data_for_tests['Риск ССЗ'] == 'Высокий', 'Error Unbiased'])\n",
    "    df_sweeps.at[model_id, 'Mean AA 3'] = np.mean(data_for_tests.loc[data_for_tests['Риск ССЗ'] == 'Очень высокий', 'Error Unbiased'])\n",
    "    \n",
    "df_sweeps.style.background_gradient(cmap=\"RdYlGn_r\").to_excel(f\"{path_ckpts}/models.xlsx\", index_label='Model ID')"
   ]
  },
  {
   "cell_type": "markdown",
   "metadata": {},
   "source": [
    "# Best models analysis"
   ]
  },
  {
   "cell_type": "code",
   "execution_count": null,
   "metadata": {},
   "outputs": [],
   "source": [
    "is_explain = True\n",
    "explain_method = \"GradientShap\"\n",
    "explain_baselines = \"b|1000\"\n",
    "explain_n_feats_to_plot = 25\n",
    "\n",
    "models_type = 'DANet'\n",
    "models_ids = [\n",
    "26,\n",
    "29,\n",
    "4,\n",
    "262,\n",
    "]\n",
    "models_ids = sorted(list(set(models_ids)))\n",
    "\n",
    "path_to_models = path_ckpts\n",
    "\n",
    "fn_sweep = (\n",
    "    f\"models\"\n",
    ")\n",
    "\n",
    "df_sweeps = pd.read_excel(f\"{path_to_models}/{fn_sweep}.xlsx\", index_col=0)\n",
    "\n",
    "path_to_candidates = f\"{path_to_models}/candidates/{models_type}\"\n",
    "pathlib.Path(path_to_candidates).mkdir(parents=True, exist_ok=True)\n",
    "df_sweeps.loc[models_ids, :].style.background_gradient(cmap=\"RdYlGn_r\"\n",
    ").to_excel(f\"{path_to_candidates}/selected.xlsx\")\n",
    "\n",
    "for model_id in models_ids:\n",
    "\n",
    "    model_dir = str(pathlib.Path(df_sweeps.at[model_id, 'checkpoint']).parent).replace('\\\\', '/') + '/' + pathlib.Path(df_sweeps.at[model_id, 'checkpoint']).stem\n",
    "    model = TabularModel.load_model(model_dir)\n",
    "    pathlib.Path(f\"{path_to_candidates}/{model_id}\").mkdir(parents=True, exist_ok=True)\n",
    "    shutil.copytree(model_dir, f\"{path_to_candidates}/{model_id}\", dirs_exist_ok=True)\n",
    "    \n",
    "    df = data.loc[:, [feat_trgt, 'Сердечно-сосудистый риск']]\n",
    "    df.loc[train.index, 'Group'] = 'Train'\n",
    "    df.loc[validation.index, 'Group'] = 'Validation'\n",
    "    df.loc[test.index, 'Group'] = 'Test'\n",
    "    df['Prediction'] = model.predict(data)\n",
    "    df['Error'] = df['Prediction'] - df[feat_trgt]\n",
    "    corrector = LinearBiasCorrector()\n",
    "    corrector.fit(df.loc[df['Group'] == 'Train', feat_trgt].values, df.loc[df['Group'] == 'Train', 'Prediction'].values)\n",
    "    df['Prediction Unbiased'] = corrector.predict(df['Prediction'].values)\n",
    "    df['Error Unbiased'] = df['Prediction Unbiased'] - df[feat_trgt]\n",
    "    df.to_excel(f\"{path_to_candidates}/{model_id}/df.xlsx\")\n",
    "    \n",
    "    colors_groups = {\n",
    "        'Train': 'chartreuse',\n",
    "        'Validation': 'dodgerblue',\n",
    "        'Test': 'crimson',\n",
    "    }\n",
    "    \n",
    "    df_metrics = pd.DataFrame(\n",
    "        index=list(colors_groups.keys()),\n",
    "        columns=[\n",
    "            'mean_absolute_error', 'pearson_corrcoef', 'bias',\n",
    "            'mean_absolute_error_unbiased', 'pearson_corrcoef_unbiased', 'bias_unbiased'\n",
    "        ]\n",
    "    )\n",
    "    for group in colors_groups.keys():\n",
    "        pred = torch.from_numpy(df.loc[df['Group'] == group, 'Prediction'].values)\n",
    "        pred_unbiased = torch.from_numpy(df.loc[df['Group'] == group, 'Prediction Unbiased'].values)\n",
    "        real = torch.from_numpy(df.loc[df['Group'] == group, feat_trgt].values)\n",
    "        df_metrics.at[group, 'mean_absolute_error'] = mean_absolute_error(pred, real).numpy()\n",
    "        df_metrics.at[group, 'pearson_corrcoef'] = pearson_corrcoef(pred, real).numpy()\n",
    "        df_metrics.at[group, 'bias'] = np.mean(df.loc[df['Group'] == group, 'Error'].values)\n",
    "        df_metrics.at[group, 'mean_absolute_error_unbiased'] = mean_absolute_error(pred_unbiased, real).numpy()\n",
    "        df_metrics.at[group, 'pearson_corrcoef_unbiased'] = pearson_corrcoef(pred_unbiased, real).numpy()\n",
    "        df_metrics.at[group, 'bias_unbiased'] = np.mean(df.loc[df['Group'] == group, 'Error Unbiased'].values)\n",
    "    df_metrics.to_excel(f\"{path_to_candidates}/{model_id}/metrics.xlsx\", index_label=\"Metrics\")\n",
    "    \n",
    "    xy_min = df[[feat_trgt, 'Prediction']].min().min()\n",
    "    xy_max = df[[feat_trgt, 'Prediction']].max().max()\n",
    "    xy_ptp = xy_max - xy_min\n",
    "    \n",
    "    xy_min_unbiased = df[[feat_trgt, 'Prediction Unbiased']].min().min()\n",
    "    xy_max_unbiased = df[[feat_trgt, 'Prediction Unbiased']].max().max()\n",
    "    xy_ptp_unbiased = xy_max_unbiased - xy_min_unbiased\n",
    "    \n",
    "    sns.set_theme(style='whitegrid')\n",
    "    fig, ax = plt.subplots(figsize=(4.5, 4))\n",
    "    for group in colors_groups.keys():    \n",
    "        regplot = sns.regplot(\n",
    "            data=df.loc[df['Group'] == group, :],\n",
    "            x=feat_trgt,\n",
    "            y=\"Prediction\",\n",
    "            label=group,\n",
    "            color=colors_groups[group],\n",
    "            scatter_kws=dict(\n",
    "                linewidth=0.2,\n",
    "                alpha=0.75,\n",
    "                edgecolor=\"k\",\n",
    "                s=20,\n",
    "            ),\n",
    "            ax=ax\n",
    "        )\n",
    "    bisect = sns.lineplot(\n",
    "        x=[xy_min - 0.1 * xy_ptp, xy_max + 0.1 * xy_ptp],\n",
    "        y=[xy_min - 0.1 * xy_ptp, xy_max + 0.1 * xy_ptp],\n",
    "        linestyle='--',\n",
    "        color='black',\n",
    "        linewidth=1.0,\n",
    "        ax=ax\n",
    "    )\n",
    "    ax.set_title(f\"{df_sweeps.at[model_id, 'model']} ({df_sweeps.at[model_id, '# Params']} params)\")\n",
    "    ax.set_xlim(xy_min - 0.1 * xy_ptp, xy_max + 0.1 * xy_ptp)\n",
    "    ax.set_ylim(xy_min - 0.1 * xy_ptp, xy_max + 0.1 * xy_ptp)\n",
    "    plt.gca().set_aspect('equal', adjustable='box')\n",
    "    fig.savefig(f\"{path_to_candidates}/{model_id}/regplot.png\", bbox_inches='tight', dpi=200)\n",
    "    fig.savefig(f\"{path_to_candidates}/{model_id}/regplot.pdf\", bbox_inches='tight')\n",
    "    plt.close(fig)\n",
    "    \n",
    "    sns.set_theme(style='whitegrid')\n",
    "    fig, ax = plt.subplots(figsize=(4.5, 4))\n",
    "    for group in colors_groups.keys():    \n",
    "        regplot = sns.regplot(\n",
    "            data=df.loc[df['Group'] == group, :],\n",
    "            x=feat_trgt,\n",
    "            y=\"Prediction Unbiased\",\n",
    "            label=group,\n",
    "            color=colors_groups[group],\n",
    "            scatter_kws=dict(\n",
    "                linewidth=0.2,\n",
    "                alpha=0.75,\n",
    "                edgecolor=\"k\",\n",
    "                s=20,\n",
    "            ),\n",
    "            ax=ax\n",
    "        )\n",
    "    bisect = sns.lineplot(\n",
    "        x=[xy_min_unbiased - 0.1 * xy_ptp_unbiased, xy_max_unbiased + 0.1 * xy_ptp_unbiased],\n",
    "        y=[xy_min_unbiased - 0.1 * xy_ptp_unbiased, xy_max_unbiased + 0.1 * xy_ptp_unbiased],\n",
    "        linestyle='--',\n",
    "        color='black',\n",
    "        linewidth=1.0,\n",
    "        ax=ax\n",
    "    )\n",
    "    ax.set_title(f\"{df_sweeps.at[model_id, 'model']} ({df_sweeps.at[model_id, '# Params']} params)\")\n",
    "    ax.set_xlim(xy_min_unbiased - 0.1 * xy_ptp, xy_max_unbiased + 0.1 * xy_ptp_unbiased)\n",
    "    ax.set_ylim(xy_min_unbiased - 0.1 * xy_ptp, xy_max_unbiased + 0.1 * xy_ptp_unbiased)\n",
    "    plt.gca().set_aspect('equal', adjustable='box')\n",
    "    fig.savefig(f\"{path_to_candidates}/{model_id}/regplot_unbiased.png\", bbox_inches='tight', dpi=200)\n",
    "    fig.savefig(f\"{path_to_candidates}/{model_id}/regplot_unbiased.pdf\", bbox_inches='tight')\n",
    "    plt.close(fig)\n",
    "    \n",
    "    sns.set_theme(style='whitegrid')\n",
    "    fig, ax = plt.subplots(figsize=(4.5, 4))   \n",
    "    scatter = sns.scatterplot(\n",
    "        data=df,\n",
    "        x=feat_trgt,\n",
    "        y=\"Prediction\",\n",
    "        hue=\"Group\",\n",
    "        palette=colors_groups,\n",
    "        linewidth=0.2,\n",
    "        alpha=0.75,\n",
    "        edgecolor=\"k\",\n",
    "        s=20,\n",
    "        hue_order=list(colors_groups.keys()),\n",
    "        ax=ax\n",
    "    )\n",
    "    bisect = sns.lineplot(\n",
    "        x=[xy_min - 0.1 * xy_ptp, xy_max + 0.1 * xy_ptp],\n",
    "        y=[xy_min - 0.1 * xy_ptp, xy_max + 0.1 * xy_ptp],\n",
    "        linestyle='--',\n",
    "        color='black',\n",
    "        linewidth=1.0,\n",
    "        ax=ax\n",
    "    )\n",
    "    ax.set_title(f\"{df_sweeps.at[model_id, 'model']} ({df_sweeps.at[model_id, '# Params']} params)\")\n",
    "    ax.set_xlim(xy_min - 0.1 * xy_ptp, xy_max + 0.1 * xy_ptp)\n",
    "    ax.set_ylim(xy_min - 0.1 * xy_ptp, xy_max + 0.1 * xy_ptp)\n",
    "    plt.gca().set_aspect('equal', adjustable='box')\n",
    "    fig.savefig(f\"{path_to_candidates}/{model_id}/scatter.png\", bbox_inches='tight', dpi=200)\n",
    "    fig.savefig(f\"{path_to_candidates}/{model_id}/scatter.pdf\", bbox_inches='tight')\n",
    "    plt.close(fig)\n",
    "    \n",
    "    df_fig = df.loc[:, ['Error', 'Group']]\n",
    "    groups_rename = {\n",
    "        group: f\"{group}\" + \"\\n\" +\n",
    "               fr\"MAE: {df_metrics.at[group, 'mean_absolute_error']:0.2f}\" + \"\\n\"\n",
    "               fr\"Pearson $\\rho$: {df_metrics.at[group, 'pearson_corrcoef']:0.2f}\" + \"\\n\" +\n",
    "               fr\"$\\langle$Error$\\rangle$: {df_metrics.at[group, 'bias']:0.2f}\" \n",
    "        for group in colors_groups\n",
    "    }\n",
    "    colors_groups_violin = {groups_rename[group]: colors_groups[group] for group in colors_groups}\n",
    "    df_fig['Group'].replace(groups_rename, inplace=True)\n",
    "    sns.set_theme(style='whitegrid')\n",
    "    fig, ax = plt.subplots(figsize=(7, 4))\n",
    "    violin = sns.violinplot(\n",
    "        data=df_fig,\n",
    "        x='Group',\n",
    "        y='Error',\n",
    "        palette=colors_groups_violin,\n",
    "        scale='width',\n",
    "        order=list(colors_groups_violin.keys()),\n",
    "        saturation=0.75,\n",
    "        legend=False,\n",
    "        ax=ax\n",
    "    )\n",
    "    ax.set_xlabel('')\n",
    "    fig.savefig(f\"{path_to_candidates}/{model_id}/violin.png\", bbox_inches='tight', dpi=200)\n",
    "    fig.savefig(f\"{path_to_candidates}/{model_id}/violin.pdf\", bbox_inches='tight')\n",
    "    plt.close(fig)\n",
    "    \n",
    "    df_fig = df.loc[:, ['Error Unbiased', 'Group']]\n",
    "    groups_rename = {\n",
    "        group: f\"{group}\" + \"\\n\" +\n",
    "               fr\"MAE: {df_metrics.at[group, 'mean_absolute_error_unbiased']:0.2f}\" + \"\\n\"\n",
    "               fr\"Pearson $\\rho$: {df_metrics.at[group, 'pearson_corrcoef_unbiased']:0.2f}\" + \"\\n\" +\n",
    "               fr\"$\\langle$Error$\\rangle$: {df_metrics.at[group, 'bias_unbiased']:0.2f}\" \n",
    "        for group in colors_groups\n",
    "    }\n",
    "    colors_groups_violin = {groups_rename[group]: colors_groups[group] for group in colors_groups}\n",
    "    df_fig['Group'].replace(groups_rename, inplace=True)\n",
    "    sns.set_theme(style='whitegrid')\n",
    "    fig, ax = plt.subplots(figsize=(7, 4))\n",
    "    violin = sns.violinplot(\n",
    "        data=df_fig,\n",
    "        x='Group',\n",
    "        y='Error Unbiased',\n",
    "        palette=colors_groups_violin,\n",
    "        scale='width',\n",
    "        order=list(colors_groups_violin.keys()),\n",
    "        saturation=0.75,\n",
    "        legend=False,\n",
    "        ax=ax\n",
    "    )\n",
    "    ax.set_xlabel('')\n",
    "    fig.savefig(f\"{path_to_candidates}/{model_id}/violin_unbiased.png\", bbox_inches='tight', dpi=200)\n",
    "    fig.savefig(f\"{path_to_candidates}/{model_id}/violin_unbiased.pdf\", bbox_inches='tight')\n",
    "    plt.close(fig)\n",
    "    \n",
    "    dataparts_ids = ['Низкий/умеренный', 'Высокий', 'Очень высокий']\n",
    "    dataparts_colors = {'Низкий/умеренный': 'chartreuse', 'Высокий': 'gold', 'Очень высокий': 'crimson'}\n",
    "    df_fig = df.copy()\n",
    "    plot_dataparts_count = df_fig['Сердечно-сосудистый риск'].value_counts()\n",
    "    plot_dataparts_rename = {}\n",
    "    for x in dataparts_ids:\n",
    "        plot_dataparts_rename[x] = x + f\"\\nCount: {plot_dataparts_count[x]}\\nBias: {np.mean(df_fig.loc[df_fig['Сердечно-сосудистый риск'] == x, 'Error Unbiased']):0.1f}\"\n",
    "    plot_dataparts = [plot_dataparts_rename[x] for x in dataparts_ids]\n",
    "    plot_pairs = [\n",
    "        ('Низкий/умеренный', 'Высокий'),\n",
    "        ('Низкий/умеренный', 'Очень высокий'),\n",
    "        ('Высокий', 'Очень высокий'),\n",
    "    ]\n",
    "    plot_pairs = [(plot_dataparts_rename[x[0]], plot_dataparts_rename[x[1]]) for x in plot_pairs]\n",
    "    df_fig['Сердечно-сосудистый риск'] = df_fig['Сердечно-сосудистый риск'].replace(plot_dataparts_rename)\n",
    "    colors_plot_dataparts = {plot_dataparts_rename[x]: dataparts_colors[x] for x in plot_dataparts_rename}\n",
    "    pvals_formatted = []\n",
    "    for plot_pair in plot_pairs:\n",
    "        pval = mannwhitneyu(\n",
    "            df_fig.loc[df_fig['Сердечно-сосудистый риск'] == plot_pair[0], f'Error Unbiased'].values,\n",
    "            df_fig.loc[df_fig['Сердечно-сосудистый риск'] == plot_pair[1], f'Error Unbiased'].values,\n",
    "            alternative='two-sided'\n",
    "        ).pvalue\n",
    "        pvals_formatted.append(f\"{pval:.1e}\")\n",
    "    \n",
    "    sns.set_theme(style='ticks')\n",
    "    fig, ax = plt.subplots(figsize=(6, 5))\n",
    "    violin = sns.violinplot(\n",
    "        data=df_fig,\n",
    "        x='Сердечно-сосудистый риск',\n",
    "        y='Error Unbiased',\n",
    "        hue='Сердечно-сосудистый риск',\n",
    "        hue_order=plot_dataparts,\n",
    "        palette=colors_plot_dataparts,\n",
    "        density_norm='width',\n",
    "        saturation=0.75,\n",
    "        linewidth=1.0,\n",
    "        ax=ax,\n",
    "        legend=False,\n",
    "    )\n",
    "    annotator = Annotator(\n",
    "        ax=ax,\n",
    "        pairs=plot_pairs,\n",
    "        data=df_fig,\n",
    "        x=\"Сердечно-сосудистый риск\",\n",
    "        y='Error Unbiased',\n",
    "        order=plot_dataparts,\n",
    "    )\n",
    "    annotator.set_custom_annotations(pvals_formatted)\n",
    "    annotator.configure(loc='inside', verbose=0)\n",
    "    annotator.annotate()\n",
    "    ax.set_ylabel('Age Acceleration')\n",
    "    ax.set_xlabel('')\n",
    "    fig.savefig(f\"{path_to_candidates}/{model_id}/violins_global.png\", bbox_inches='tight', dpi=200)\n",
    "    fig.savefig(f\"{path_to_candidates}/{model_id}/violins_global.pdf\", bbox_inches='tight')\n",
    "    plt.close(fig)\n",
    "    \n",
    "    \n",
    "    try:\n",
    "        explanation = model.explain(data, method=explain_method, baselines=explain_baselines)\n",
    "        explanation.index = data.index\n",
    "        explanation.to_excel(f\"{path_to_candidates}/{model_id}/explanation.xlsx\")\n",
    "        \n",
    "        # sns.set_theme(style='whitegrid')\n",
    "        # fig = shap.summary_plot(\n",
    "        #     shap_values=explanation.loc[:, feats].values,\n",
    "        #     features=data.loc[:, feats].values,\n",
    "        #     feature_names=feats,\n",
    "        #     max_display=explain_n_feats_to_plot,\n",
    "        #     plot_type=\"violin\",\n",
    "        #     show=False,\n",
    "        # )\n",
    "        # plt.savefig(f\"{path_to_candidates}/{model_id}/explain_beeswarm.png\", bbox_inches='tight', dpi=200)\n",
    "        # plt.savefig(f\"{path_to_candidates}/{model_id}/explain_beeswarm.pdf\", bbox_inches='tight')\n",
    "        # plt.close(fig)\n",
    "        \n",
    "        sns.set_theme(style='ticks')\n",
    "        fig = shap.summary_plot(\n",
    "            shap_values=explanation.loc[:, feats].values,\n",
    "            features=data.loc[:, feats].values,\n",
    "            feature_names=feats,\n",
    "            max_display=explain_n_feats_to_plot,\n",
    "            plot_type=\"bar\",\n",
    "            show=False,\n",
    "            plot_size=[12,8]\n",
    "        )\n",
    "        plt.savefig(f\"{path_to_candidates}/{model_id}/explain_bar.png\", bbox_inches='tight', dpi=200)\n",
    "        plt.savefig(f\"{path_to_candidates}/{model_id}/explain_bar.pdf\", bbox_inches='tight')\n",
    "        plt.close(fig)\n",
    "    \n",
    "    except NotImplementedError:\n",
    "        pass"
   ]
  },
  {
   "cell_type": "markdown",
   "metadata": {},
   "source": [
    "# Best models with SHAP correspondence"
   ]
  },
  {
   "cell_type": "code",
   "execution_count": 8,
   "metadata": {},
   "outputs": [
    {
     "name": "stdout",
     "output_type": "stream",
     "text": [
      "SHAP values difference: -1.92668686338493e-07\n",
      "Background count: 10\n",
      "Background min diff: -2.5176849365234375\n",
      "Background max diff: 2.2403182983398438\n"
     ]
    },
    {
     "data": {
      "application/vnd.jupyter.widget-view+json": {
       "model_id": "0044a61440f14e88a113613838611527",
       "version_major": 2,
       "version_minor": 0
      },
      "text/plain": [
       "  0%|          | 0/1 [00:00<?, ?it/s]"
      ]
     },
     "metadata": {},
     "output_type": "display_data"
    },
    {
     "name": "stdout",
     "output_type": "stream",
     "text": [
      "SHAP values difference: -9.600912420637542e-08\n",
      "SHAP values correction 2\n",
      "Background count: 10\n",
      "Background min diff: -5.385833740234375\n",
      "Background max diff: 0.6280670166015625\n"
     ]
    },
    {
     "data": {
      "application/vnd.jupyter.widget-view+json": {
       "model_id": "1d63bc6278e24a6f912c53e068701237",
       "version_major": 2,
       "version_minor": 0
      },
      "text/plain": [
       "  0%|          | 0/1 [00:00<?, ?it/s]"
      ]
     },
     "metadata": {},
     "output_type": "display_data"
    },
    {
     "name": "stdout",
     "output_type": "stream",
     "text": [
      "SHAP values difference: -1.53726746887628e-08\n",
      "Background count: 10\n",
      "Background min diff: -3.411182403564453\n",
      "Background max diff: 2.262836456298828\n"
     ]
    },
    {
     "data": {
      "application/vnd.jupyter.widget-view+json": {
       "model_id": "063895b327e341c793601a22716afbb5",
       "version_major": 2,
       "version_minor": 0
      },
      "text/plain": [
       "  0%|          | 0/1 [00:00<?, ?it/s]"
      ]
     },
     "metadata": {},
     "output_type": "display_data"
    },
    {
     "name": "stdout",
     "output_type": "stream",
     "text": [
      "SHAP values difference: 4.6415559040724474e-07\n",
      "Background count: 10\n",
      "Background min diff: -11.181533813476562\n",
      "Background max diff: 6.893646240234375\n"
     ]
    },
    {
     "data": {
      "application/vnd.jupyter.widget-view+json": {
       "model_id": "c0d21cbd373943a9b7c0e26265c45852",
       "version_major": 2,
       "version_minor": 0
      },
      "text/plain": [
       "  0%|          | 0/1 [00:00<?, ?it/s]"
      ]
     },
     "metadata": {},
     "output_type": "display_data"
    },
    {
     "name": "stdout",
     "output_type": "stream",
     "text": [
      "SHAP values difference: -1.5072085091105691e-07\n",
      "Background count: 10\n",
      "Background min diff: -5.731693267822266\n",
      "Background max diff: 3.610118865966797\n"
     ]
    },
    {
     "data": {
      "application/vnd.jupyter.widget-view+json": {
       "model_id": "83152bd7fd364a61ae1bebbd6a19b1b4",
       "version_major": 2,
       "version_minor": 0
      },
      "text/plain": [
       "  0%|          | 0/1 [00:00<?, ?it/s]"
      ]
     },
     "metadata": {},
     "output_type": "display_data"
    },
    {
     "name": "stdout",
     "output_type": "stream",
     "text": [
      "SHAP values difference: 2.1765888646996245e-08\n",
      "Background count: 10\n",
      "Background min diff: -2.932720184326172\n",
      "Background max diff: 3.0811805725097656\n"
     ]
    },
    {
     "data": {
      "application/vnd.jupyter.widget-view+json": {
       "model_id": "9d37c230c47f450a9761bdf0506a317d",
       "version_major": 2,
       "version_minor": 0
      },
      "text/plain": [
       "  0%|          | 0/1 [00:00<?, ?it/s]"
      ]
     },
     "metadata": {},
     "output_type": "display_data"
    },
    {
     "name": "stdout",
     "output_type": "stream",
     "text": [
      "SHAP values difference: -4.1762807434508886e-08\n",
      "SHAP values correction 2\n",
      "Background count: 10\n",
      "Background min diff: -2.899139404296875\n",
      "Background max diff: 2.0357208251953125\n"
     ]
    },
    {
     "data": {
      "application/vnd.jupyter.widget-view+json": {
       "model_id": "1276a600ce4946a1bf016f5aeb632b2d",
       "version_major": 2,
       "version_minor": 0
      },
      "text/plain": [
       "  0%|          | 0/1 [00:00<?, ?it/s]"
      ]
     },
     "metadata": {},
     "output_type": "display_data"
    },
    {
     "name": "stdout",
     "output_type": "stream",
     "text": [
      "SHAP values difference: -9.655308907952076e-08\n",
      "Background count: 10\n",
      "Background min diff: 1.6945171356201172\n",
      "Background max diff: 9.315191268920898\n"
     ]
    },
    {
     "data": {
      "application/vnd.jupyter.widget-view+json": {
       "model_id": "d9008a973ce34270a13a09eac7616ca7",
       "version_major": 2,
       "version_minor": 0
      },
      "text/plain": [
       "  0%|          | 0/1 [00:00<?, ?it/s]"
      ]
     },
     "metadata": {},
     "output_type": "display_data"
    },
    {
     "name": "stdout",
     "output_type": "stream",
     "text": [
      "SHAP values difference: -2.6342666004097737e-07\n",
      "Background count: 10\n",
      "Background min diff: -1.7235221862792969\n",
      "Background max diff: 3.5603675842285156\n"
     ]
    },
    {
     "data": {
      "application/vnd.jupyter.widget-view+json": {
       "model_id": "9f37873b48914931a96ce5cbd376e4fd",
       "version_major": 2,
       "version_minor": 0
      },
      "text/plain": [
       "  0%|          | 0/1 [00:00<?, ?it/s]"
      ]
     },
     "metadata": {},
     "output_type": "display_data"
    },
    {
     "name": "stdout",
     "output_type": "stream",
     "text": [
      "SHAP values difference: -1.6606385599970963e-07\n",
      "SHAP values correction 2\n",
      "Background count: 10\n",
      "Background min diff: -3.1283416748046875\n",
      "Background max diff: 3.2288360595703125\n"
     ]
    },
    {
     "data": {
      "application/vnd.jupyter.widget-view+json": {
       "model_id": "24db4a39114049dd8c335033eda10199",
       "version_major": 2,
       "version_minor": 0
      },
      "text/plain": [
       "  0%|          | 0/1 [00:00<?, ?it/s]"
      ]
     },
     "metadata": {},
     "output_type": "display_data"
    },
    {
     "name": "stdout",
     "output_type": "stream",
     "text": [
      "SHAP values difference: -4.1807856288045286e-08\n",
      "SHAP values correction 2\n",
      "Background count: 10\n",
      "Background min diff: -1.8443984985351562\n",
      "Background max diff: 2.4232406616210938\n"
     ]
    },
    {
     "data": {
      "application/vnd.jupyter.widget-view+json": {
       "model_id": "94d861a138f449ca9a8fd02d62cc78f9",
       "version_major": 2,
       "version_minor": 0
      },
      "text/plain": [
       "  0%|          | 0/1 [00:00<?, ?it/s]"
      ]
     },
     "metadata": {},
     "output_type": "display_data"
    },
    {
     "name": "stdout",
     "output_type": "stream",
     "text": [
      "SHAP values difference: 1.2236819924016373e-07\n",
      "SHAP values correction 2\n",
      "Background count: 10\n",
      "Background min diff: -2.9461402893066406\n",
      "Background max diff: 4.674533843994141\n"
     ]
    },
    {
     "data": {
      "application/vnd.jupyter.widget-view+json": {
       "model_id": "3f1b01e5e4374f74835d316506277454",
       "version_major": 2,
       "version_minor": 0
      },
      "text/plain": [
       "  0%|          | 0/1 [00:00<?, ?it/s]"
      ]
     },
     "metadata": {},
     "output_type": "display_data"
    },
    {
     "name": "stdout",
     "output_type": "stream",
     "text": [
      "SHAP values difference: -5.188169502901019e-07\n",
      "Background count: 10\n",
      "Background min diff: -1.8795814514160156\n",
      "Background max diff: 3.404308319091797\n"
     ]
    },
    {
     "data": {
      "application/vnd.jupyter.widget-view+json": {
       "model_id": "c2c06e91dc4d4eb9b6dff53b703b172b",
       "version_major": 2,
       "version_minor": 0
      },
      "text/plain": [
       "  0%|          | 0/1 [00:00<?, ?it/s]"
      ]
     },
     "metadata": {},
     "output_type": "display_data"
    },
    {
     "name": "stdout",
     "output_type": "stream",
     "text": [
      "SHAP values difference: 3.054656332324157e-07\n",
      "SHAP values correction 2\n"
     ]
    },
    {
     "name": "stderr",
     "output_type": "stream",
     "text": [
      "C:\\Users\\user\\AppData\\Local\\Temp\\ipykernel_46640\\4091489871.py:313: FutureWarning: A value is trying to be set on a copy of a DataFrame or Series through chained assignment using an inplace method.\n",
      "The behavior will change in pandas 3.0. This inplace method will never work because the intermediate object on which we are setting values always behaves as a copy.\n",
      "\n",
      "For example, when doing 'df[col].method(value, inplace=True)', try using 'df.method({col: value}, inplace=True)' or df[col] = df[col].method(value) instead, to perform the operation inplace on the original object.\n",
      "\n",
      "\n",
      "  df_fig['Group'].replace(groups_rename, inplace=True)\n",
      "C:\\Users\\user\\AppData\\Local\\Temp\\ipykernel_46640\\4091489871.py:316: FutureWarning: \n",
      "\n",
      "Passing `palette` without assigning `hue` is deprecated and will be removed in v0.14.0. Assign the `x` variable to `hue` and set `legend=False` for the same effect.\n",
      "\n",
      "  violin = sns.violinplot(\n",
      "C:\\Users\\user\\AppData\\Local\\Temp\\ipykernel_46640\\4091489871.py:316: FutureWarning: \n",
      "\n",
      "The `scale` parameter has been renamed and will be removed in v0.15.0. Pass `density_norm='width'` for the same effect.\n",
      "  violin = sns.violinplot(\n",
      "C:\\Users\\user\\AppData\\Local\\Temp\\ipykernel_46640\\4091489871.py:341: FutureWarning: A value is trying to be set on a copy of a DataFrame or Series through chained assignment using an inplace method.\n",
      "The behavior will change in pandas 3.0. This inplace method will never work because the intermediate object on which we are setting values always behaves as a copy.\n",
      "\n",
      "For example, when doing 'df[col].method(value, inplace=True)', try using 'df.method({col: value}, inplace=True)' or df[col] = df[col].method(value) instead, to perform the operation inplace on the original object.\n",
      "\n",
      "\n",
      "  df_fig['Group'].replace(groups_rename, inplace=True)\n",
      "C:\\Users\\user\\AppData\\Local\\Temp\\ipykernel_46640\\4091489871.py:344: FutureWarning: \n",
      "\n",
      "Passing `palette` without assigning `hue` is deprecated and will be removed in v0.14.0. Assign the `x` variable to `hue` and set `legend=False` for the same effect.\n",
      "\n",
      "  violin = sns.violinplot(\n",
      "C:\\Users\\user\\AppData\\Local\\Temp\\ipykernel_46640\\4091489871.py:344: FutureWarning: \n",
      "\n",
      "The `scale` parameter has been renamed and will be removed in v0.15.0. Pass `density_norm='width'` for the same effect.\n",
      "  violin = sns.violinplot(\n",
      "c:\\Users\\user\\anaconda3\\envs\\py311\\Lib\\site-packages\\statannotations\\Annotator.py:825: UserWarning: Annotator was reconfigured without applying the test (again) which will probably lead to unexpected results\n",
      "  warnings.warn(\"Annotator was reconfigured without applying the \"\n",
      "c:\\Users\\user\\anaconda3\\envs\\py311\\Lib\\site-packages\\lightning_fabric\\utilities\\cloud_io.py:56: You are using `torch.load` with `weights_only=False` (the current default value), which uses the default pickle module implicitly. It is possible to construct malicious pickle data which will execute arbitrary code during unpickling (See https://github.com/pytorch/pytorch/blob/main/SECURITY.md#untrusted-models for more details). In a future release, the default value for `weights_only` will be flipped to `True`. This limits the functions that could be executed during unpickling. Arbitrary objects will no longer be allowed to be loaded via this mode unless they are explicitly allowlisted by the user via `torch.serialization.add_safe_globals`. We recommend you start setting `weights_only=True` for any use case where you don't have full control of the loaded file. Please open an issue on GitHub for any issues related to this experimental feature.\n"
     ]
    },
    {
     "data": {
      "text/html": [
       "<pre style=\"white-space:pre;overflow-x:auto;line-height:normal;font-family:Menlo,'DejaVu Sans Mono',consolas,'Courier New',monospace\"><span style=\"color: #008080; text-decoration-color: #008080; font-weight: bold\">2025</span>-<span style=\"color: #008080; text-decoration-color: #008080; font-weight: bold\">10</span>-<span style=\"color: #008080; text-decoration-color: #008080; font-weight: bold\">22</span> <span style=\"color: #00ff00; text-decoration-color: #00ff00; font-weight: bold\">13:47:37</span>,<span style=\"color: #008080; text-decoration-color: #008080; font-weight: bold\">448</span> - <span style=\"font-weight: bold\">{</span>pytorch_tabular.tabular_model:<span style=\"color: #008080; text-decoration-color: #008080; font-weight: bold\">165</span><span style=\"font-weight: bold\">}</span> - INFO - Experiment Tracking is turned off           \n",
       "</pre>\n"
      ],
      "text/plain": [
       "\u001b[1;36m2025\u001b[0m-\u001b[1;36m10\u001b[0m-\u001b[1;36m22\u001b[0m \u001b[1;92m13:47:37\u001b[0m,\u001b[1;36m448\u001b[0m - \u001b[1m{\u001b[0mpytorch_tabular.tabular_model:\u001b[1;36m165\u001b[0m\u001b[1m}\u001b[0m - INFO - Experiment Tracking is turned off           \n"
      ]
     },
     "metadata": {},
     "output_type": "display_data"
    },
    {
     "data": {
      "text/html": [
       "<pre style=\"white-space:pre;overflow-x:auto;line-height:normal;font-family:Menlo,'DejaVu Sans Mono',consolas,'Courier New',monospace\"><span style=\"color: #008080; text-decoration-color: #008080; font-weight: bold\">2025</span>-<span style=\"color: #008080; text-decoration-color: #008080; font-weight: bold\">10</span>-<span style=\"color: #008080; text-decoration-color: #008080; font-weight: bold\">22</span> <span style=\"color: #00ff00; text-decoration-color: #00ff00; font-weight: bold\">13:47:37</span>,<span style=\"color: #008080; text-decoration-color: #008080; font-weight: bold\">459</span> - <span style=\"font-weight: bold\">{</span>pytorch_tabular.tabular_model:<span style=\"color: #008080; text-decoration-color: #008080; font-weight: bold\">340</span><span style=\"font-weight: bold\">}</span> - INFO - Preparing the Trainer                       \n",
       "</pre>\n"
      ],
      "text/plain": [
       "\u001b[1;36m2025\u001b[0m-\u001b[1;36m10\u001b[0m-\u001b[1;36m22\u001b[0m \u001b[1;92m13:47:37\u001b[0m,\u001b[1;36m459\u001b[0m - \u001b[1m{\u001b[0mpytorch_tabular.tabular_model:\u001b[1;36m340\u001b[0m\u001b[1m}\u001b[0m - INFO - Preparing the Trainer                       \n"
      ]
     },
     "metadata": {},
     "output_type": "display_data"
    },
    {
     "name": "stdout",
     "output_type": "stream",
     "text": [
      "Background count: 10\n",
      "Background min diff: -2.161855697631836\n",
      "Background max diff: 14.22172737121582\n"
     ]
    },
    {
     "data": {
      "application/vnd.jupyter.widget-view+json": {
       "model_id": "a22d515f155a498db18342683735e546",
       "version_major": 2,
       "version_minor": 0
      },
      "text/plain": [
       "  0%|          | 0/1 [00:00<?, ?it/s]"
      ]
     },
     "metadata": {},
     "output_type": "display_data"
    },
    {
     "name": "stdout",
     "output_type": "stream",
     "text": [
      "SHAP values difference: 1.3429058043357145e-07\n",
      "Background count: 10\n",
      "Background min diff: -2.473970413208008\n",
      "Background max diff: 13.909612655639648\n"
     ]
    },
    {
     "data": {
      "application/vnd.jupyter.widget-view+json": {
       "model_id": "dc3f643dce324d9ea6142145344af92c",
       "version_major": 2,
       "version_minor": 0
      },
      "text/plain": [
       "  0%|          | 0/1 [00:00<?, ?it/s]"
      ]
     },
     "metadata": {},
     "output_type": "display_data"
    },
    {
     "name": "stdout",
     "output_type": "stream",
     "text": [
      "SHAP values difference: 4.834412514753694e-08\n",
      "SHAP values correction 2\n",
      "Background count: 10\n",
      "Background min diff: -7.448644638061523\n",
      "Background max diff: 8.934938430786133\n"
     ]
    },
    {
     "data": {
      "application/vnd.jupyter.widget-view+json": {
       "model_id": "7d9a33e963704b1e8303eb8e07b0c9a3",
       "version_major": 2,
       "version_minor": 0
      },
      "text/plain": [
       "  0%|          | 0/1 [00:00<?, ?it/s]"
      ]
     },
     "metadata": {},
     "output_type": "display_data"
    },
    {
     "name": "stdout",
     "output_type": "stream",
     "text": [
      "SHAP values difference: 5.736078279028334e-09\n",
      "Background count: 10\n",
      "Background min diff: -6.590850830078125\n",
      "Background max diff: 6.13665771484375\n"
     ]
    },
    {
     "data": {
      "application/vnd.jupyter.widget-view+json": {
       "model_id": "ab968feec76942868b49218566cb69c1",
       "version_major": 2,
       "version_minor": 0
      },
      "text/plain": [
       "  0%|          | 0/1 [00:00<?, ?it/s]"
      ]
     },
     "metadata": {},
     "output_type": "display_data"
    },
    {
     "name": "stdout",
     "output_type": "stream",
     "text": [
      "SHAP values difference: 6.986363656480421e-07\n",
      "SHAP values correction 2\n",
      "Background count: 10\n",
      "Background min diff: -8.204292297363281\n",
      "Background max diff: 8.179290771484375\n"
     ]
    },
    {
     "data": {
      "application/vnd.jupyter.widget-view+json": {
       "model_id": "370362e1386b442fa91307dfb9186005",
       "version_major": 2,
       "version_minor": 0
      },
      "text/plain": [
       "  0%|          | 0/1 [00:00<?, ?it/s]"
      ]
     },
     "metadata": {},
     "output_type": "display_data"
    },
    {
     "name": "stdout",
     "output_type": "stream",
     "text": [
      "SHAP values difference: 2.013044220205984e-07\n",
      "Background count: 10\n",
      "Background min diff: -11.655876159667969\n",
      "Background max diff: 1.0716323852539062\n"
     ]
    },
    {
     "data": {
      "application/vnd.jupyter.widget-view+json": {
       "model_id": "285635cac849466a8a3f662dee176c6e",
       "version_major": 2,
       "version_minor": 0
      },
      "text/plain": [
       "  0%|          | 0/1 [00:00<?, ?it/s]"
      ]
     },
     "metadata": {},
     "output_type": "display_data"
    },
    {
     "name": "stdout",
     "output_type": "stream",
     "text": [
      "SHAP values difference: -3.297942186009095e-08\n",
      "Background count: 10\n",
      "Background min diff: -8.118541717529297\n",
      "Background max diff: 5.157314300537109\n"
     ]
    },
    {
     "data": {
      "application/vnd.jupyter.widget-view+json": {
       "model_id": "6089122fa8114edbb1ca52056f068499",
       "version_major": 2,
       "version_minor": 0
      },
      "text/plain": [
       "  0%|          | 0/1 [00:00<?, ?it/s]"
      ]
     },
     "metadata": {},
     "output_type": "display_data"
    },
    {
     "name": "stdout",
     "output_type": "stream",
     "text": [
      "SHAP values difference: -1.1385155573861994e-07\n",
      "SHAP values correction 2\n",
      "Background count: 10\n",
      "Background min diff: -3.8457794189453125\n",
      "Background max diff: 4.948570251464844\n"
     ]
    },
    {
     "data": {
      "application/vnd.jupyter.widget-view+json": {
       "model_id": "991e4b060dc54ddc86b36052f5f69ee2",
       "version_major": 2,
       "version_minor": 0
      },
      "text/plain": [
       "  0%|          | 0/1 [00:00<?, ?it/s]"
      ]
     },
     "metadata": {},
     "output_type": "display_data"
    },
    {
     "name": "stdout",
     "output_type": "stream",
     "text": [
      "SHAP values difference: 1.3432154499781745e-07\n",
      "SHAP values correction 2\n",
      "Background count: 10\n",
      "Background min diff: -17.6243896484375\n",
      "Background max diff: -4.896881103515625\n"
     ]
    },
    {
     "data": {
      "application/vnd.jupyter.widget-view+json": {
       "model_id": "83c0856114a74fc99110f780e67b6696",
       "version_major": 2,
       "version_minor": 0
      },
      "text/plain": [
       "  0%|          | 0/1 [00:00<?, ?it/s]"
      ]
     },
     "metadata": {},
     "output_type": "display_data"
    },
    {
     "name": "stdout",
     "output_type": "stream",
     "text": [
      "SHAP values difference: -2.21474204309402e-07\n",
      "SHAP values correction 2\n",
      "Background count: 10\n",
      "Background min diff: -5.205497741699219\n",
      "Background max diff: 7.522010803222656\n"
     ]
    },
    {
     "data": {
      "application/vnd.jupyter.widget-view+json": {
       "model_id": "63ab3c0ca5d44a93bd9d755c6966400e",
       "version_major": 2,
       "version_minor": 0
      },
      "text/plain": [
       "  0%|          | 0/1 [00:00<?, ?it/s]"
      ]
     },
     "metadata": {},
     "output_type": "display_data"
    },
    {
     "name": "stdout",
     "output_type": "stream",
     "text": [
      "SHAP values difference: 1.3399135667668816e-07\n",
      "Background count: 10\n",
      "Background min diff: -7.514446258544922\n",
      "Background max diff: 5.635639190673828\n"
     ]
    },
    {
     "data": {
      "application/vnd.jupyter.widget-view+json": {
       "model_id": "021c6e18fbcf4ee9a53e907e232a7d5d",
       "version_major": 2,
       "version_minor": 0
      },
      "text/plain": [
       "  0%|          | 0/1 [00:00<?, ?it/s]"
      ]
     },
     "metadata": {},
     "output_type": "display_data"
    },
    {
     "name": "stdout",
     "output_type": "stream",
     "text": [
      "SHAP values difference: -5.8584763706903686e-08\n",
      "Background count: 10\n",
      "Background min diff: -6.905708312988281\n",
      "Background max diff: 5.821800231933594\n"
     ]
    },
    {
     "data": {
      "application/vnd.jupyter.widget-view+json": {
       "model_id": "35553800b7664453bf779f24dc1c27ef",
       "version_major": 2,
       "version_minor": 0
      },
      "text/plain": [
       "  0%|          | 0/1 [00:00<?, ?it/s]"
      ]
     },
     "metadata": {},
     "output_type": "display_data"
    },
    {
     "name": "stdout",
     "output_type": "stream",
     "text": [
      "SHAP values difference: -1.2418615114029308e-07\n",
      "SHAP values correction 2\n",
      "Background count: 10\n",
      "Background min diff: -6.873786926269531\n",
      "Background max diff: 6.276298522949219\n"
     ]
    },
    {
     "data": {
      "application/vnd.jupyter.widget-view+json": {
       "model_id": "2de43c44303a402e84224a0714230f9a",
       "version_major": 2,
       "version_minor": 0
      },
      "text/plain": [
       "  0%|          | 0/1 [00:00<?, ?it/s]"
      ]
     },
     "metadata": {},
     "output_type": "display_data"
    },
    {
     "name": "stdout",
     "output_type": "stream",
     "text": [
      "SHAP values difference: -2.8651083283648404e-08\n",
      "Background count: 10\n",
      "Background min diff: -7.084285736083984\n",
      "Background max diff: 7.213390350341797\n"
     ]
    },
    {
     "data": {
      "application/vnd.jupyter.widget-view+json": {
       "model_id": "63de57a62ecd45caa46421e36c4acbf7",
       "version_major": 2,
       "version_minor": 0
      },
      "text/plain": [
       "  0%|          | 0/1 [00:00<?, ?it/s]"
      ]
     },
     "metadata": {},
     "output_type": "display_data"
    },
    {
     "name": "stdout",
     "output_type": "stream",
     "text": [
      "SHAP values difference: 2.0117737875580133e-07\n",
      "SHAP values correction 2\n",
      "Background count: 10\n",
      "Background min diff: -7.004886627197266\n",
      "Background max diff: 7.292789459228516\n"
     ]
    },
    {
     "data": {
      "application/vnd.jupyter.widget-view+json": {
       "model_id": "689bbd3c45874a0598c111a9db3ca9cf",
       "version_major": 2,
       "version_minor": 0
      },
      "text/plain": [
       "  0%|          | 0/1 [00:00<?, ?it/s]"
      ]
     },
     "metadata": {},
     "output_type": "display_data"
    },
    {
     "name": "stdout",
     "output_type": "stream",
     "text": [
      "SHAP values difference: 3.617627086782704e-08\n",
      "SHAP values correction 2\n",
      "Background count: 10\n",
      "Background min diff: -1.2638397216796875\n",
      "Background max diff: 15.119743347167969\n"
     ]
    },
    {
     "data": {
      "application/vnd.jupyter.widget-view+json": {
       "model_id": "f20a6bb739ff4a3a9189b2d555f4358c",
       "version_major": 2,
       "version_minor": 0
      },
      "text/plain": [
       "  0%|          | 0/1 [00:00<?, ?it/s]"
      ]
     },
     "metadata": {},
     "output_type": "display_data"
    },
    {
     "name": "stdout",
     "output_type": "stream",
     "text": [
      "SHAP values difference: -8.440718346491849e-09\n",
      "Background count: 10\n",
      "Background min diff: -6.419403076171875\n",
      "Background max diff: 7.403923034667969\n"
     ]
    },
    {
     "data": {
      "application/vnd.jupyter.widget-view+json": {
       "model_id": "5fb97cea306e40339b331ac095ad5171",
       "version_major": 2,
       "version_minor": 0
      },
      "text/plain": [
       "  0%|          | 0/1 [00:00<?, ?it/s]"
      ]
     },
     "metadata": {},
     "output_type": "display_data"
    },
    {
     "name": "stdout",
     "output_type": "stream",
     "text": [
      "SHAP values difference: -5.827672833191855e-08\n",
      "SHAP values correction 2\n",
      "Background count: 10\n",
      "Background min diff: -5.16801643371582\n",
      "Background max diff: 11.215566635131836\n"
     ]
    },
    {
     "data": {
      "application/vnd.jupyter.widget-view+json": {
       "model_id": "4052e582a04d41e18ce8c945c044fe0b",
       "version_major": 2,
       "version_minor": 0
      },
      "text/plain": [
       "  0%|          | 0/1 [00:00<?, ?it/s]"
      ]
     },
     "metadata": {},
     "output_type": "display_data"
    },
    {
     "name": "stdout",
     "output_type": "stream",
     "text": [
      "SHAP values difference: -1.882471778458239e-08\n",
      "Background count: 10\n",
      "Background min diff: -7.366802215576172\n",
      "Background max diff: 6.678539276123047\n"
     ]
    },
    {
     "data": {
      "application/vnd.jupyter.widget-view+json": {
       "model_id": "82c3770205144ae18a8363fc76d5f518",
       "version_major": 2,
       "version_minor": 0
      },
      "text/plain": [
       "  0%|          | 0/1 [00:00<?, ?it/s]"
      ]
     },
     "metadata": {},
     "output_type": "display_data"
    },
    {
     "name": "stdout",
     "output_type": "stream",
     "text": [
      "SHAP values difference: -1.1536287924940325e-08\n",
      "SHAP values correction 2\n",
      "Background count: 10\n",
      "Background min diff: -7.374723434448242\n",
      "Background max diff: 9.008859634399414\n"
     ]
    },
    {
     "data": {
      "application/vnd.jupyter.widget-view+json": {
       "model_id": "1102eeaad6c44f1db5ece667622a404d",
       "version_major": 2,
       "version_minor": 0
      },
      "text/plain": [
       "  0%|          | 0/1 [00:00<?, ?it/s]"
      ]
     },
     "metadata": {},
     "output_type": "display_data"
    },
    {
     "name": "stdout",
     "output_type": "stream",
     "text": [
      "SHAP values difference: 6.366587390616019e-08\n",
      "SHAP values correction 2\n",
      "Background count: 10\n",
      "Background min diff: -4.780647277832031\n",
      "Background max diff: 6.8441009521484375\n"
     ]
    },
    {
     "data": {
      "application/vnd.jupyter.widget-view+json": {
       "model_id": "b05bd5531b3f42a39bd68ff390ee1278",
       "version_major": 2,
       "version_minor": 0
      },
      "text/plain": [
       "  0%|          | 0/1 [00:00<?, ?it/s]"
      ]
     },
     "metadata": {},
     "output_type": "display_data"
    },
    {
     "name": "stdout",
     "output_type": "stream",
     "text": [
      "SHAP values difference: 1.555969904032395e-07\n",
      "SHAP values correction 2\n",
      "Background count: 10\n",
      "Background min diff: -1.7457027435302734\n",
      "Background max diff: 14.637880325317383\n"
     ]
    },
    {
     "data": {
      "application/vnd.jupyter.widget-view+json": {
       "model_id": "7e2179aae33c453ebfa82fcde5deba01",
       "version_major": 2,
       "version_minor": 0
      },
      "text/plain": [
       "  0%|          | 0/1 [00:00<?, ?it/s]"
      ]
     },
     "metadata": {},
     "output_type": "display_data"
    },
    {
     "name": "stdout",
     "output_type": "stream",
     "text": [
      "SHAP values difference: -1.6591773288610057e-08\n",
      "Background count: 10\n",
      "Background min diff: -7.411846160888672\n",
      "Background max diff: 6.667263031005859\n"
     ]
    },
    {
     "data": {
      "application/vnd.jupyter.widget-view+json": {
       "model_id": "7cbff84d71144b96aa2a7cbe638fea9d",
       "version_major": 2,
       "version_minor": 0
      },
      "text/plain": [
       "  0%|          | 0/1 [00:00<?, ?it/s]"
      ]
     },
     "metadata": {},
     "output_type": "display_data"
    },
    {
     "name": "stdout",
     "output_type": "stream",
     "text": [
      "SHAP values difference: 5.129592448582798e-07\n",
      "SHAP values correction 2\n",
      "Background count: 10\n",
      "Background min diff: -7.447765350341797\n",
      "Background max diff: 5.828090667724609\n"
     ]
    },
    {
     "data": {
      "application/vnd.jupyter.widget-view+json": {
       "model_id": "78dccc08cdbb4efa86f4c971557af5fd",
       "version_major": 2,
       "version_minor": 0
      },
      "text/plain": [
       "  0%|          | 0/1 [00:00<?, ?it/s]"
      ]
     },
     "metadata": {},
     "output_type": "display_data"
    },
    {
     "name": "stdout",
     "output_type": "stream",
     "text": [
      "SHAP values difference: 7.610915542244356e-08\n",
      "Background count: 10\n",
      "Background min diff: -8.033531188964844\n",
      "Background max diff: 7.93792724609375\n"
     ]
    },
    {
     "data": {
      "application/vnd.jupyter.widget-view+json": {
       "model_id": "150f76abcc5942deaa5edcbfd6d1da63",
       "version_major": 2,
       "version_minor": 0
      },
      "text/plain": [
       "  0%|          | 0/1 [00:00<?, ?it/s]"
      ]
     },
     "metadata": {},
     "output_type": "display_data"
    },
    {
     "name": "stdout",
     "output_type": "stream",
     "text": [
      "SHAP values difference: -1.9797947103938895e-07\n",
      "SHAP values correction 2\n",
      "Background count: 10\n",
      "Background min diff: -3.1858253479003906\n",
      "Background max diff: 4.756748199462891\n"
     ]
    },
    {
     "data": {
      "application/vnd.jupyter.widget-view+json": {
       "model_id": "c17dfbf54ca04169a222f16da77b967a",
       "version_major": 2,
       "version_minor": 0
      },
      "text/plain": [
       "  0%|          | 0/1 [00:00<?, ?it/s]"
      ]
     },
     "metadata": {},
     "output_type": "display_data"
    },
    {
     "name": "stdout",
     "output_type": "stream",
     "text": [
      "SHAP values difference: -4.04331501613342e-09\n",
      "SHAP values correction 2\n",
      "Background count: 10\n",
      "Background min diff: -6.586315155029297\n",
      "Background max diff: 6.563770294189453\n"
     ]
    },
    {
     "data": {
      "application/vnd.jupyter.widget-view+json": {
       "model_id": "761158418a474b129db08faf89f1032d",
       "version_major": 2,
       "version_minor": 0
      },
      "text/plain": [
       "  0%|          | 0/1 [00:00<?, ?it/s]"
      ]
     },
     "metadata": {},
     "output_type": "display_data"
    },
    {
     "name": "stdout",
     "output_type": "stream",
     "text": [
      "SHAP values difference: -6.140788144648468e-08\n",
      "Background count: 10\n",
      "Background min diff: -3.8593368530273438\n",
      "Background max diff: 4.0832366943359375\n"
     ]
    },
    {
     "data": {
      "application/vnd.jupyter.widget-view+json": {
       "model_id": "0e3e4163d56f4d078a4462703c9dcc13",
       "version_major": 2,
       "version_minor": 0
      },
      "text/plain": [
       "  0%|          | 0/1 [00:00<?, ?it/s]"
      ]
     },
     "metadata": {},
     "output_type": "display_data"
    },
    {
     "name": "stdout",
     "output_type": "stream",
     "text": [
      "SHAP values difference: 9.597914285564002e-08\n",
      "Background count: 10\n",
      "Background min diff: -19.926925659179688\n",
      "Background max diff: -7.1994171142578125\n"
     ]
    },
    {
     "data": {
      "application/vnd.jupyter.widget-view+json": {
       "model_id": "8242a7aace6a4fd599418245812d6c43",
       "version_major": 2,
       "version_minor": 0
      },
      "text/plain": [
       "  0%|          | 0/1 [00:00<?, ?it/s]"
      ]
     },
     "metadata": {},
     "output_type": "display_data"
    },
    {
     "name": "stdout",
     "output_type": "stream",
     "text": [
      "SHAP values difference: 5.871250152722496e-08\n",
      "Background count: 10\n",
      "Background min diff: -8.587591171264648\n",
      "Background max diff: 7.795991897583008\n"
     ]
    },
    {
     "data": {
      "application/vnd.jupyter.widget-view+json": {
       "model_id": "317ad51831e84ef8839fcb38b941d1ee",
       "version_major": 2,
       "version_minor": 0
      },
      "text/plain": [
       "  0%|          | 0/1 [00:00<?, ?it/s]"
      ]
     },
     "metadata": {},
     "output_type": "display_data"
    },
    {
     "name": "stdout",
     "output_type": "stream",
     "text": [
      "SHAP values difference: 1.704899617038791e-07\n",
      "Background count: 10\n",
      "Background min diff: -4.765178680419922\n",
      "Background max diff: 2.523487091064453\n"
     ]
    },
    {
     "data": {
      "application/vnd.jupyter.widget-view+json": {
       "model_id": "b398f1890b6a44ebaecc3d74b1d11034",
       "version_major": 2,
       "version_minor": 0
      },
      "text/plain": [
       "  0%|          | 0/1 [00:00<?, ?it/s]"
      ]
     },
     "metadata": {},
     "output_type": "display_data"
    },
    {
     "name": "stdout",
     "output_type": "stream",
     "text": [
      "SHAP values difference: 4.105688233835281e-08\n",
      "Background count: 10\n",
      "Background min diff: -4.0227508544921875\n",
      "Background max diff: 8.704757690429688\n"
     ]
    },
    {
     "data": {
      "application/vnd.jupyter.widget-view+json": {
       "model_id": "ad46f23bbd4b4f74bb7ec3a40a0b5597",
       "version_major": 2,
       "version_minor": 0
      },
      "text/plain": [
       "  0%|          | 0/1 [00:00<?, ?it/s]"
      ]
     },
     "metadata": {},
     "output_type": "display_data"
    },
    {
     "name": "stdout",
     "output_type": "stream",
     "text": [
      "SHAP values difference: 1.1338755712131388e-08\n",
      "Background count: 10\n",
      "Background min diff: -6.325901031494141\n",
      "Background max diff: 7.971775054931641\n"
     ]
    },
    {
     "data": {
      "application/vnd.jupyter.widget-view+json": {
       "model_id": "f726e7856173491195725c757692a6ba",
       "version_major": 2,
       "version_minor": 0
      },
      "text/plain": [
       "  0%|          | 0/1 [00:00<?, ?it/s]"
      ]
     },
     "metadata": {},
     "output_type": "display_data"
    },
    {
     "name": "stdout",
     "output_type": "stream",
     "text": [
      "SHAP values difference: -1.1019154477764914e-07\n",
      "Background count: 10\n",
      "Background min diff: -4.787906646728516\n",
      "Background max diff: 4.854061126708984\n"
     ]
    },
    {
     "data": {
      "application/vnd.jupyter.widget-view+json": {
       "model_id": "78563db601f644e3aed8eec2beb9deeb",
       "version_major": 2,
       "version_minor": 0
      },
      "text/plain": [
       "  0%|          | 0/1 [00:00<?, ?it/s]"
      ]
     },
     "metadata": {},
     "output_type": "display_data"
    },
    {
     "name": "stdout",
     "output_type": "stream",
     "text": [
      "SHAP values difference: 1.338612385382021e-07\n",
      "Background count: 10\n",
      "Background min diff: -6.985893249511719\n",
      "Background max diff: 3.9520339965820312\n"
     ]
    },
    {
     "data": {
      "application/vnd.jupyter.widget-view+json": {
       "model_id": "0a10e852f78c4defa52965b66d443444",
       "version_major": 2,
       "version_minor": 0
      },
      "text/plain": [
       "  0%|          | 0/1 [00:00<?, ?it/s]"
      ]
     },
     "metadata": {},
     "output_type": "display_data"
    },
    {
     "name": "stdout",
     "output_type": "stream",
     "text": [
      "SHAP values difference: -3.661586660541616e-07\n",
      "Background count: 10\n",
      "Background min diff: -8.195198059082031\n",
      "Background max diff: 5.080657958984375\n"
     ]
    },
    {
     "data": {
      "application/vnd.jupyter.widget-view+json": {
       "model_id": "0fdeba9f671f44688c66ffe1daabca30",
       "version_major": 2,
       "version_minor": 0
      },
      "text/plain": [
       "  0%|          | 0/1 [00:00<?, ?it/s]"
      ]
     },
     "metadata": {},
     "output_type": "display_data"
    },
    {
     "name": "stdout",
     "output_type": "stream",
     "text": [
      "SHAP values difference: 1.4309818041624567e-07\n",
      "Background count: 10\n",
      "Background min diff: -5.863372802734375\n",
      "Background max diff: 5.074554443359375\n"
     ]
    },
    {
     "data": {
      "application/vnd.jupyter.widget-view+json": {
       "model_id": "57366543c5cb4b17981a8bf650318edf",
       "version_major": 2,
       "version_minor": 0
      },
      "text/plain": [
       "  0%|          | 0/1 [00:00<?, ?it/s]"
      ]
     },
     "metadata": {},
     "output_type": "display_data"
    },
    {
     "name": "stdout",
     "output_type": "stream",
     "text": [
      "SHAP values difference: -1.6709751804455664e-08\n",
      "SHAP values correction 2\n",
      "Background count: 10\n",
      "Background min diff: -7.9542999267578125\n",
      "Background max diff: 4.7732086181640625\n"
     ]
    },
    {
     "data": {
      "application/vnd.jupyter.widget-view+json": {
       "model_id": "a10ec591f6dc4d9d980e27c7976f8248",
       "version_major": 2,
       "version_minor": 0
      },
      "text/plain": [
       "  0%|          | 0/1 [00:00<?, ?it/s]"
      ]
     },
     "metadata": {},
     "output_type": "display_data"
    },
    {
     "name": "stdout",
     "output_type": "stream",
     "text": [
      "SHAP values difference: 3.1757707574797678e-09\n",
      "SHAP values correction 2\n",
      "Background count: 10\n",
      "Background min diff: -5.8330841064453125\n",
      "Background max diff: 5.881492614746094\n"
     ]
    },
    {
     "data": {
      "application/vnd.jupyter.widget-view+json": {
       "model_id": "baa33c0f51a146d59394c01ea2d534d2",
       "version_major": 2,
       "version_minor": 0
      },
      "text/plain": [
       "  0%|          | 0/1 [00:00<?, ?it/s]"
      ]
     },
     "metadata": {},
     "output_type": "display_data"
    },
    {
     "name": "stdout",
     "output_type": "stream",
     "text": [
      "SHAP values difference: -1.0450445842025147e-08\n",
      "Background count: 10\n",
      "Background min diff: -6.514808654785156\n",
      "Background max diff: 5.19976806640625\n"
     ]
    },
    {
     "data": {
      "application/vnd.jupyter.widget-view+json": {
       "model_id": "6980f75606e44476b76495b65a20fcd2",
       "version_major": 2,
       "version_minor": 0
      },
      "text/plain": [
       "  0%|          | 0/1 [00:00<?, ?it/s]"
      ]
     },
     "metadata": {},
     "output_type": "display_data"
    },
    {
     "name": "stdout",
     "output_type": "stream",
     "text": [
      "SHAP values difference: 2.3401029025649223e-07\n",
      "Background count: 10\n",
      "Background min diff: -5.734714508056641\n",
      "Background max diff: 6.142383575439453\n"
     ]
    },
    {
     "data": {
      "application/vnd.jupyter.widget-view+json": {
       "model_id": "fb6f82c3ffa740e49efce14a0fecca34",
       "version_major": 2,
       "version_minor": 0
      },
      "text/plain": [
       "  0%|          | 0/1 [00:00<?, ?it/s]"
      ]
     },
     "metadata": {},
     "output_type": "display_data"
    },
    {
     "name": "stdout",
     "output_type": "stream",
     "text": [
      "SHAP values difference: -1.437786263380758e-07\n",
      "SHAP values correction 2\n",
      "Background count: 10\n",
      "Background min diff: -5.488491058349609\n",
      "Background max diff: 3.305858612060547\n"
     ]
    },
    {
     "data": {
      "application/vnd.jupyter.widget-view+json": {
       "model_id": "975786e8c2de4bbb944024b1221bff80",
       "version_major": 2,
       "version_minor": 0
      },
      "text/plain": [
       "  0%|          | 0/1 [00:00<?, ?it/s]"
      ]
     },
     "metadata": {},
     "output_type": "display_data"
    },
    {
     "name": "stdout",
     "output_type": "stream",
     "text": [
      "SHAP values difference: 8.374388171805691e-08\n",
      "SHAP values correction 2\n",
      "Background count: 10\n",
      "Background min diff: -3.607452392578125\n",
      "Background max diff: 4.335121154785156\n"
     ]
    },
    {
     "data": {
      "application/vnd.jupyter.widget-view+json": {
       "model_id": "f3a6a103a6144027bb8dda6f688e6c3f",
       "version_major": 2,
       "version_minor": 0
      },
      "text/plain": [
       "  0%|          | 0/1 [00:00<?, ?it/s]"
      ]
     },
     "metadata": {},
     "output_type": "display_data"
    },
    {
     "name": "stdout",
     "output_type": "stream",
     "text": [
      "SHAP values difference: -1.239098850192022e-07\n",
      "Background count: 10\n",
      "Background min diff: -6.022258758544922\n",
      "Background max diff: 6.091381072998047\n"
     ]
    },
    {
     "data": {
      "application/vnd.jupyter.widget-view+json": {
       "model_id": "1b84d3f38ebe47c1878495d6d755cfa0",
       "version_major": 2,
       "version_minor": 0
      },
      "text/plain": [
       "  0%|          | 0/1 [00:00<?, ?it/s]"
      ]
     },
     "metadata": {},
     "output_type": "display_data"
    },
    {
     "name": "stdout",
     "output_type": "stream",
     "text": [
      "SHAP values difference: 3.769447864954145e-08\n",
      "SHAP values correction 2\n",
      "Background count: 10\n",
      "Background min diff: -3.8014564514160156\n",
      "Background max diff: 3.4872093200683594\n"
     ]
    },
    {
     "data": {
      "application/vnd.jupyter.widget-view+json": {
       "model_id": "faf66e969559468cb5e01a1cb5c01dff",
       "version_major": 2,
       "version_minor": 0
      },
      "text/plain": [
       "  0%|          | 0/1 [00:00<?, ?it/s]"
      ]
     },
     "metadata": {},
     "output_type": "display_data"
    },
    {
     "name": "stdout",
     "output_type": "stream",
     "text": [
      "SHAP values difference: 1.994245479863821e-07\n",
      "Background count: 10\n",
      "Background min diff: -8.115802764892578\n",
      "Background max diff: 5.160053253173828\n"
     ]
    },
    {
     "data": {
      "application/vnd.jupyter.widget-view+json": {
       "model_id": "3ac34a0acf634ec2922c858ca21a2c49",
       "version_major": 2,
       "version_minor": 0
      },
      "text/plain": [
       "  0%|          | 0/1 [00:00<?, ?it/s]"
      ]
     },
     "metadata": {},
     "output_type": "display_data"
    },
    {
     "name": "stdout",
     "output_type": "stream",
     "text": [
      "SHAP values difference: -1.8566883674964174e-07\n",
      "SHAP values correction 2\n",
      "Background count: 10\n",
      "Background min diff: -6.758707046508789\n",
      "Background max diff: 9.624876022338867\n"
     ]
    },
    {
     "data": {
      "application/vnd.jupyter.widget-view+json": {
       "model_id": "6233d08ceff6480893299e5f485c27ba",
       "version_major": 2,
       "version_minor": 0
      },
      "text/plain": [
       "  0%|          | 0/1 [00:00<?, ?it/s]"
      ]
     },
     "metadata": {},
     "output_type": "display_data"
    },
    {
     "name": "stdout",
     "output_type": "stream",
     "text": [
      "SHAP values difference: 7.075559693703326e-09\n",
      "SHAP values correction 2\n",
      "Background count: 10\n",
      "Background min diff: -5.351543426513672\n",
      "Background max diff: 7.798542022705078\n"
     ]
    },
    {
     "data": {
      "application/vnd.jupyter.widget-view+json": {
       "model_id": "3b75e2db73be49309c31de78cd09198e",
       "version_major": 2,
       "version_minor": 0
      },
      "text/plain": [
       "  0%|          | 0/1 [00:00<?, ?it/s]"
      ]
     },
     "metadata": {},
     "output_type": "display_data"
    },
    {
     "name": "stdout",
     "output_type": "stream",
     "text": [
      "SHAP values difference: -3.310497476149976e-08\n",
      "SHAP values correction 2\n",
      "Background count: 10\n",
      "Background min diff: -5.692476272583008\n",
      "Background max diff: 8.386632919311523\n"
     ]
    },
    {
     "data": {
      "application/vnd.jupyter.widget-view+json": {
       "model_id": "bb8e0b882a48465a926f7944ebbc65b7",
       "version_major": 2,
       "version_minor": 0
      },
      "text/plain": [
       "  0%|          | 0/1 [00:00<?, ?it/s]"
      ]
     },
     "metadata": {},
     "output_type": "display_data"
    },
    {
     "name": "stdout",
     "output_type": "stream",
     "text": [
      "SHAP values difference: -8.940011109181967e-08\n",
      "SHAP values correction 2\n",
      "Background count: 10\n",
      "Background min diff: -6.821453094482422\n",
      "Background max diff: 7.476222991943359\n"
     ]
    },
    {
     "data": {
      "application/vnd.jupyter.widget-view+json": {
       "model_id": "c3d74517e7de46348c5d9e928306c980",
       "version_major": 2,
       "version_minor": 0
      },
      "text/plain": [
       "  0%|          | 0/1 [00:00<?, ?it/s]"
      ]
     },
     "metadata": {},
     "output_type": "display_data"
    },
    {
     "name": "stdout",
     "output_type": "stream",
     "text": [
      "SHAP values difference: 1.246213567895893e-07\n",
      "SHAP values correction 2\n",
      "Background count: 10\n",
      "Background min diff: -5.378978729248047\n",
      "Background max diff: 3.4153709411621094\n"
     ]
    },
    {
     "data": {
      "application/vnd.jupyter.widget-view+json": {
       "model_id": "8b7e215084514257be228a8c0f1946a4",
       "version_major": 2,
       "version_minor": 0
      },
      "text/plain": [
       "  0%|          | 0/1 [00:00<?, ?it/s]"
      ]
     },
     "metadata": {},
     "output_type": "display_data"
    },
    {
     "name": "stdout",
     "output_type": "stream",
     "text": [
      "SHAP values difference: -1.4565113559683596e-07\n",
      "Background count: 10\n",
      "Background min diff: -7.401222229003906\n",
      "Background max diff: 5.8746337890625\n"
     ]
    },
    {
     "data": {
      "application/vnd.jupyter.widget-view+json": {
       "model_id": "3814b15c66024af59d776e7a9ebd07b3",
       "version_major": 2,
       "version_minor": 0
      },
      "text/plain": [
       "  0%|          | 0/1 [00:00<?, ?it/s]"
      ]
     },
     "metadata": {},
     "output_type": "display_data"
    },
    {
     "name": "stdout",
     "output_type": "stream",
     "text": [
      "SHAP values difference: -1.5353715454580197e-07\n",
      "SHAP values correction 2\n",
      "Background count: 10\n",
      "Background min diff: -6.1796875\n",
      "Background max diff: 5.445060729980469\n"
     ]
    },
    {
     "data": {
      "application/vnd.jupyter.widget-view+json": {
       "model_id": "78c2fe5fd5bb48d68ab6e19d1981205f",
       "version_major": 2,
       "version_minor": 0
      },
      "text/plain": [
       "  0%|          | 0/1 [00:00<?, ?it/s]"
      ]
     },
     "metadata": {},
     "output_type": "display_data"
    },
    {
     "name": "stdout",
     "output_type": "stream",
     "text": [
      "SHAP values difference: -2.517013282243852e-07\n",
      "Background count: 10\n",
      "Background min diff: -6.553142547607422\n",
      "Background max diff: 7.744533538818359\n"
     ]
    },
    {
     "data": {
      "application/vnd.jupyter.widget-view+json": {
       "model_id": "938d43f7bb7748efa08f226508b19bc6",
       "version_major": 2,
       "version_minor": 0
      },
      "text/plain": [
       "  0%|          | 0/1 [00:00<?, ?it/s]"
      ]
     },
     "metadata": {},
     "output_type": "display_data"
    },
    {
     "name": "stdout",
     "output_type": "stream",
     "text": [
      "SHAP values difference: -1.789446315569876e-07\n",
      "Background count: 10\n",
      "Background min diff: -4.475242614746094\n",
      "Background max diff: 5.301490783691406\n"
     ]
    },
    {
     "data": {
      "application/vnd.jupyter.widget-view+json": {
       "model_id": "0b74b410324847baaa20813305c24d94",
       "version_major": 2,
       "version_minor": 0
      },
      "text/plain": [
       "  0%|          | 0/1 [00:00<?, ?it/s]"
      ]
     },
     "metadata": {},
     "output_type": "display_data"
    },
    {
     "name": "stdout",
     "output_type": "stream",
     "text": [
      "SHAP values difference: 7.002862645322239e-08\n",
      "Background count: 10\n",
      "Background min diff: -8.019649505615234\n",
      "Background max diff: 6.059459686279297\n"
     ]
    },
    {
     "data": {
      "application/vnd.jupyter.widget-view+json": {
       "model_id": "9e1bcf79c82543eaa2dbb8a4d81fa866",
       "version_major": 2,
       "version_minor": 0
      },
      "text/plain": [
       "  0%|          | 0/1 [00:00<?, ?it/s]"
      ]
     },
     "metadata": {},
     "output_type": "display_data"
    },
    {
     "name": "stdout",
     "output_type": "stream",
     "text": [
      "SHAP values difference: 5.563556371157574e-08\n",
      "Background count: 10\n",
      "Background min diff: -5.8401947021484375\n",
      "Background max diff: 5.784553527832031\n"
     ]
    },
    {
     "data": {
      "application/vnd.jupyter.widget-view+json": {
       "model_id": "1dc731868bb440d290ee3986db5ed501",
       "version_major": 2,
       "version_minor": 0
      },
      "text/plain": [
       "  0%|          | 0/1 [00:00<?, ?it/s]"
      ]
     },
     "metadata": {},
     "output_type": "display_data"
    },
    {
     "name": "stdout",
     "output_type": "stream",
     "text": [
      "SHAP values difference: 2.235238127923367e-08\n",
      "SHAP values correction 2\n",
      "Background count: 10\n",
      "Background min diff: -7.203769683837891\n",
      "Background max diff: 6.875339508056641\n"
     ]
    },
    {
     "data": {
      "application/vnd.jupyter.widget-view+json": {
       "model_id": "d8cf658b3a06410fa40da37c43e6b491",
       "version_major": 2,
       "version_minor": 0
      },
      "text/plain": [
       "  0%|          | 0/1 [00:00<?, ?it/s]"
      ]
     },
     "metadata": {},
     "output_type": "display_data"
    },
    {
     "name": "stdout",
     "output_type": "stream",
     "text": [
      "SHAP values difference: -1.0567528896388012e-07\n",
      "SHAP values correction 2\n",
      "Background count: 10\n",
      "Background min diff: -5.235279083251953\n",
      "Background max diff: 5.501422882080078\n"
     ]
    },
    {
     "data": {
      "application/vnd.jupyter.widget-view+json": {
       "model_id": "fa4b531911b54045b9b44bfceb536944",
       "version_major": 2,
       "version_minor": 0
      },
      "text/plain": [
       "  0%|          | 0/1 [00:00<?, ?it/s]"
      ]
     },
     "metadata": {},
     "output_type": "display_data"
    },
    {
     "name": "stdout",
     "output_type": "stream",
     "text": [
      "SHAP values difference: -1.1051599102529508e-07\n",
      "Background count: 10\n",
      "Background min diff: -3.8978004455566406\n",
      "Background max diff: 4.896549224853516\n"
     ]
    },
    {
     "data": {
      "application/vnd.jupyter.widget-view+json": {
       "model_id": "4b366f881974424cbb219b0a556f6f57",
       "version_major": 2,
       "version_minor": 0
      },
      "text/plain": [
       "  0%|          | 0/1 [00:00<?, ?it/s]"
      ]
     },
     "metadata": {},
     "output_type": "display_data"
    },
    {
     "name": "stdout",
     "output_type": "stream",
     "text": [
      "SHAP values difference: -2.4640200191328177e-07\n",
      "SHAP values correction 1\n",
      "SHAP values correction 2\n",
      "Background count: 10\n",
      "Background min diff: -3.8773231506347656\n",
      "Background max diff: 4.357196807861328\n"
     ]
    },
    {
     "data": {
      "application/vnd.jupyter.widget-view+json": {
       "model_id": "5d43f622d76e4eb6a32a99d15be0a654",
       "version_major": 2,
       "version_minor": 0
      },
      "text/plain": [
       "  0%|          | 0/1 [00:00<?, ?it/s]"
      ]
     },
     "metadata": {},
     "output_type": "display_data"
    },
    {
     "name": "stdout",
     "output_type": "stream",
     "text": [
      "SHAP values difference: -8.759297820404299e-08\n",
      "SHAP values correction 1\n",
      "SHAP values correction 2\n",
      "Background count: 10\n",
      "Background min diff: -4.398826599121094\n",
      "Background max diff: 4.3955230712890625\n"
     ]
    },
    {
     "data": {
      "application/vnd.jupyter.widget-view+json": {
       "model_id": "acaae167f55f4ddd9fe76b422e12d8ac",
       "version_major": 2,
       "version_minor": 0
      },
      "text/plain": [
       "  0%|          | 0/1 [00:00<?, ?it/s]"
      ]
     },
     "metadata": {},
     "output_type": "display_data"
    },
    {
     "name": "stdout",
     "output_type": "stream",
     "text": [
      "SHAP values difference: 8.283499752792522e-08\n",
      "Background count: 10\n",
      "Background min diff: -3.2448768615722656\n",
      "Background max diff: 4.989643096923828\n"
     ]
    },
    {
     "data": {
      "application/vnd.jupyter.widget-view+json": {
       "model_id": "e50842da2fa84a068c190d3d379d6fce",
       "version_major": 2,
       "version_minor": 0
      },
      "text/plain": [
       "  0%|          | 0/1 [00:00<?, ?it/s]"
      ]
     },
     "metadata": {},
     "output_type": "display_data"
    },
    {
     "name": "stdout",
     "output_type": "stream",
     "text": [
      "SHAP values difference: 1.2187203957125803e-07\n",
      "SHAP values correction 2\n",
      "Background count: 10\n",
      "Background min diff: -8.56207275390625\n",
      "Background max diff: 4.713783264160156\n"
     ]
    },
    {
     "data": {
      "application/vnd.jupyter.widget-view+json": {
       "model_id": "2843dcadee3546e2882e596985530d1f",
       "version_major": 2,
       "version_minor": 0
      },
      "text/plain": [
       "  0%|          | 0/1 [00:00<?, ?it/s]"
      ]
     },
     "metadata": {},
     "output_type": "display_data"
    },
    {
     "name": "stdout",
     "output_type": "stream",
     "text": [
      "SHAP values difference: 3.039663738491072e-07\n",
      "Background count: 10\n",
      "Background min diff: -6.404317855834961\n",
      "Background max diff: 7.67479133605957\n"
     ]
    },
    {
     "data": {
      "application/vnd.jupyter.widget-view+json": {
       "model_id": "2367d47544e0454182075f455e5c7284",
       "version_major": 2,
       "version_minor": 0
      },
      "text/plain": [
       "  0%|          | 0/1 [00:00<?, ?it/s]"
      ]
     },
     "metadata": {},
     "output_type": "display_data"
    },
    {
     "name": "stdout",
     "output_type": "stream",
     "text": [
      "SHAP values difference: 5.6795467884285245e-08\n",
      "Background count: 10\n",
      "Background min diff: -6.484691619873047\n",
      "Background max diff: 5.229885101318359\n"
     ]
    },
    {
     "data": {
      "application/vnd.jupyter.widget-view+json": {
       "model_id": "67bdd89f538044aab65a4e1aae14ac0f",
       "version_major": 2,
       "version_minor": 0
      },
      "text/plain": [
       "  0%|          | 0/1 [00:00<?, ?it/s]"
      ]
     },
     "metadata": {},
     "output_type": "display_data"
    },
    {
     "name": "stdout",
     "output_type": "stream",
     "text": [
      "SHAP values difference: 1.0218244383963793e-07\n",
      "Background count: 10\n",
      "Background min diff: -7.0946197509765625\n",
      "Background max diff: 5.6328887939453125\n"
     ]
    },
    {
     "data": {
      "application/vnd.jupyter.widget-view+json": {
       "model_id": "6515b5675526497f9bb321b95ba35f0a",
       "version_major": 2,
       "version_minor": 0
      },
      "text/plain": [
       "  0%|          | 0/1 [00:00<?, ?it/s]"
      ]
     },
     "metadata": {},
     "output_type": "display_data"
    },
    {
     "name": "stdout",
     "output_type": "stream",
     "text": [
      "SHAP values difference: -3.4173444163343447e-07\n",
      "SHAP values correction 2\n",
      "Background count: 10\n",
      "Background min diff: -5.411808013916016\n",
      "Background max diff: 5.581295013427734\n"
     ]
    },
    {
     "data": {
      "application/vnd.jupyter.widget-view+json": {
       "model_id": "10835d69b12b42cf8ac2d4e066f002a3",
       "version_major": 2,
       "version_minor": 0
      },
      "text/plain": [
       "  0%|          | 0/1 [00:00<?, ?it/s]"
      ]
     },
     "metadata": {},
     "output_type": "display_data"
    },
    {
     "name": "stdout",
     "output_type": "stream",
     "text": [
      "SHAP values difference: -3.364092648894257e-07\n",
      "Background count: 10\n",
      "Background min diff: -4.052543640136719\n",
      "Background max diff: 4.181976318359375\n"
     ]
    },
    {
     "data": {
      "application/vnd.jupyter.widget-view+json": {
       "model_id": "fa12c2af11b24f0184a0768dda2547e0",
       "version_major": 2,
       "version_minor": 0
      },
      "text/plain": [
       "  0%|          | 0/1 [00:00<?, ?it/s]"
      ]
     },
     "metadata": {},
     "output_type": "display_data"
    },
    {
     "name": "stdout",
     "output_type": "stream",
     "text": [
      "SHAP values difference: 5.413460968384243e-08\n",
      "Background count: 10\n",
      "Background min diff: -7.447547912597656\n",
      "Background max diff: 7.976493835449219\n"
     ]
    },
    {
     "data": {
      "application/vnd.jupyter.widget-view+json": {
       "model_id": "7174dcff98ce442eacaedab4d7babe38",
       "version_major": 2,
       "version_minor": 0
      },
      "text/plain": [
       "  0%|          | 0/1 [00:00<?, ?it/s]"
      ]
     },
     "metadata": {},
     "output_type": "display_data"
    },
    {
     "name": "stdout",
     "output_type": "stream",
     "text": [
      "SHAP values difference: -3.882924204390292e-09\n",
      "Background count: 10\n",
      "Background min diff: -7.255788803100586\n",
      "Background max diff: 6.823320388793945\n"
     ]
    },
    {
     "data": {
      "application/vnd.jupyter.widget-view+json": {
       "model_id": "1b5f8b95763d469faa926cacd2130a94",
       "version_major": 2,
       "version_minor": 0
      },
      "text/plain": [
       "  0%|          | 0/1 [00:00<?, ?it/s]"
      ]
     },
     "metadata": {},
     "output_type": "display_data"
    },
    {
     "name": "stdout",
     "output_type": "stream",
     "text": [
      "SHAP values difference: -4.8254669593461585e-08\n",
      "Background count: 10\n",
      "Background min diff: -3.798248291015625\n",
      "Background max diff: 8.92926025390625\n"
     ]
    },
    {
     "data": {
      "application/vnd.jupyter.widget-view+json": {
       "model_id": "723733b6a7aa4e62843c7f2c116c8687",
       "version_major": 2,
       "version_minor": 0
      },
      "text/plain": [
       "  0%|          | 0/1 [00:00<?, ?it/s]"
      ]
     },
     "metadata": {},
     "output_type": "display_data"
    },
    {
     "name": "stdout",
     "output_type": "stream",
     "text": [
      "SHAP values difference: 9.77857395056958e-09\n",
      "Background count: 10\n",
      "Background min diff: -6.553138732910156\n",
      "Background max diff: 5.16143798828125\n"
     ]
    },
    {
     "data": {
      "application/vnd.jupyter.widget-view+json": {
       "model_id": "e98c5e6045944ecd9bc8d7c92d1c11e3",
       "version_major": 2,
       "version_minor": 0
      },
      "text/plain": [
       "  0%|          | 0/1 [00:00<?, ?it/s]"
      ]
     },
     "metadata": {},
     "output_type": "display_data"
    },
    {
     "name": "stdout",
     "output_type": "stream",
     "text": [
      "SHAP values difference: -1.4552409055568205e-07\n",
      "Background count: 10\n",
      "Background min diff: -6.112068176269531\n",
      "Background max diff: 6.3175048828125\n"
     ]
    },
    {
     "data": {
      "application/vnd.jupyter.widget-view+json": {
       "model_id": "a44ad27eb1a84ea188c3cfa52134bb70",
       "version_major": 2,
       "version_minor": 0
      },
      "text/plain": [
       "  0%|          | 0/1 [00:00<?, ?it/s]"
      ]
     },
     "metadata": {},
     "output_type": "display_data"
    },
    {
     "name": "stdout",
     "output_type": "stream",
     "text": [
      "SHAP values difference: -8.120233019326406e-08\n",
      "Background count: 10\n",
      "Background min diff: -6.097785949707031\n",
      "Background max diff: 9.326255798339844\n"
     ]
    },
    {
     "data": {
      "application/vnd.jupyter.widget-view+json": {
       "model_id": "89f481490d854bac88f2143921cce1c0",
       "version_major": 2,
       "version_minor": 0
      },
      "text/plain": [
       "  0%|          | 0/1 [00:00<?, ?it/s]"
      ]
     },
     "metadata": {},
     "output_type": "display_data"
    },
    {
     "name": "stdout",
     "output_type": "stream",
     "text": [
      "SHAP values difference: 2.632727369444865e-07\n",
      "SHAP values correction 2\n",
      "Background count: 10\n",
      "Background min diff: -5.901851654052734\n",
      "Background max diff: 7.248233795166016\n"
     ]
    },
    {
     "data": {
      "application/vnd.jupyter.widget-view+json": {
       "model_id": "550c8e6d82e2433894619d1aec69abbf",
       "version_major": 2,
       "version_minor": 0
      },
      "text/plain": [
       "  0%|          | 0/1 [00:00<?, ?it/s]"
      ]
     },
     "metadata": {},
     "output_type": "display_data"
    },
    {
     "name": "stdout",
     "output_type": "stream",
     "text": [
      "SHAP values difference: -5.0178378785403766e-08\n",
      "Background count: 10\n",
      "Background min diff: -7.0371246337890625\n",
      "Background max diff: 5.6903839111328125\n"
     ]
    },
    {
     "data": {
      "application/vnd.jupyter.widget-view+json": {
       "model_id": "1cf4e1d616f34ebda416f7a7ac1c0ba6",
       "version_major": 2,
       "version_minor": 0
      },
      "text/plain": [
       "  0%|          | 0/1 [00:00<?, ?it/s]"
      ]
     },
     "metadata": {},
     "output_type": "display_data"
    },
    {
     "name": "stdout",
     "output_type": "stream",
     "text": [
      "SHAP values difference: -3.5580256962930434e-08\n",
      "Background count: 10\n",
      "Background min diff: -3.2832069396972656\n",
      "Background max diff: 4.951313018798828\n"
     ]
    },
    {
     "data": {
      "application/vnd.jupyter.widget-view+json": {
       "model_id": "1a7e515b38f5476886c80748a4445410",
       "version_major": 2,
       "version_minor": 0
      },
      "text/plain": [
       "  0%|          | 0/1 [00:00<?, ?it/s]"
      ]
     },
     "metadata": {},
     "output_type": "display_data"
    },
    {
     "name": "stdout",
     "output_type": "stream",
     "text": [
      "SHAP values difference: -7.583896821650171e-08\n",
      "SHAP values correction 2\n",
      "Background count: 10\n",
      "Background min diff: -7.031612396240234\n",
      "Background max diff: 6.244243621826172\n"
     ]
    },
    {
     "data": {
      "application/vnd.jupyter.widget-view+json": {
       "model_id": "2bba50b6ded1407ab135f176e8ced2d9",
       "version_major": 2,
       "version_minor": 0
      },
      "text/plain": [
       "  0%|          | 0/1 [00:00<?, ?it/s]"
      ]
     },
     "metadata": {},
     "output_type": "display_data"
    },
    {
     "name": "stdout",
     "output_type": "stream",
     "text": [
      "SHAP values difference: -2.842152024840061e-08\n",
      "SHAP values correction 2\n",
      "Background count: 10\n",
      "Background min diff: -3.83209228515625\n",
      "Background max diff: 4.962257385253906\n"
     ]
    },
    {
     "data": {
      "application/vnd.jupyter.widget-view+json": {
       "model_id": "01e9d57a0cf14c3d8d901552b632955e",
       "version_major": 2,
       "version_minor": 0
      },
      "text/plain": [
       "  0%|          | 0/1 [00:00<?, ?it/s]"
      ]
     },
     "metadata": {},
     "output_type": "display_data"
    },
    {
     "name": "stdout",
     "output_type": "stream",
     "text": [
      "SHAP values difference: 4.533503528136862e-08\n",
      "Background count: 10\n",
      "Background min diff: -5.299432754516602\n",
      "Background max diff: 11.084150314331055\n"
     ]
    },
    {
     "data": {
      "application/vnd.jupyter.widget-view+json": {
       "model_id": "53230b47e7fa429f9f040af72fee73d1",
       "version_major": 2,
       "version_minor": 0
      },
      "text/plain": [
       "  0%|          | 0/1 [00:00<?, ?it/s]"
      ]
     },
     "metadata": {},
     "output_type": "display_data"
    },
    {
     "name": "stdout",
     "output_type": "stream",
     "text": [
      "SHAP values difference: 3.011047411405343e-09\n",
      "Background count: 10\n",
      "Background min diff: -6.405712127685547\n",
      "Background max diff: 7.417613983154297\n"
     ]
    },
    {
     "data": {
      "application/vnd.jupyter.widget-view+json": {
       "model_id": "4ff4d0178f20484a9ab7a6c2ea00fea0",
       "version_major": 2,
       "version_minor": 0
      },
      "text/plain": [
       "  0%|          | 0/1 [00:00<?, ?it/s]"
      ]
     },
     "metadata": {},
     "output_type": "display_data"
    },
    {
     "name": "stdout",
     "output_type": "stream",
     "text": [
      "SHAP values difference: 4.181291757276995e-09\n",
      "SHAP values correction 2\n",
      "Background count: 10\n",
      "Background min diff: -6.367286682128906\n",
      "Background max diff: 6.782798767089844\n"
     ]
    },
    {
     "data": {
      "application/vnd.jupyter.widget-view+json": {
       "model_id": "0dd9208fc684448da26a7c5090e683a9",
       "version_major": 2,
       "version_minor": 0
      },
      "text/plain": [
       "  0%|          | 0/1 [00:00<?, ?it/s]"
      ]
     },
     "metadata": {},
     "output_type": "display_data"
    },
    {
     "name": "stdout",
     "output_type": "stream",
     "text": [
      "SHAP values difference: 4.994754299048054e-08\n",
      "SHAP values correction 2\n",
      "Background count: 10\n",
      "Background min diff: -4.733146667480469\n",
      "Background max diff: 4.908821105957031\n"
     ]
    },
    {
     "data": {
      "application/vnd.jupyter.widget-view+json": {
       "model_id": "767e00d3b820483396c819b44e34e6a8",
       "version_major": 2,
       "version_minor": 0
      },
      "text/plain": [
       "  0%|          | 0/1 [00:00<?, ?it/s]"
      ]
     },
     "metadata": {},
     "output_type": "display_data"
    },
    {
     "name": "stdout",
     "output_type": "stream",
     "text": [
      "SHAP values difference: -1.3742535287519786e-07\n",
      "Background count: 10\n",
      "Background min diff: -5.936145782470703\n",
      "Background max diff: 8.142963409423828\n"
     ]
    },
    {
     "data": {
      "application/vnd.jupyter.widget-view+json": {
       "model_id": "ae49e26499464744877e07350e33f506",
       "version_major": 2,
       "version_minor": 0
      },
      "text/plain": [
       "  0%|          | 0/1 [00:00<?, ?it/s]"
      ]
     },
     "metadata": {},
     "output_type": "display_data"
    },
    {
     "name": "stdout",
     "output_type": "stream",
     "text": [
      "SHAP values difference: 1.2698772167141215e-07\n",
      "Background count: 10\n",
      "Background min diff: -6.561771392822266\n",
      "Background max diff: 7.261554718017578\n"
     ]
    },
    {
     "data": {
      "application/vnd.jupyter.widget-view+json": {
       "model_id": "b9fdb69351d74f1f91f7eaa502344acf",
       "version_major": 2,
       "version_minor": 0
      },
      "text/plain": [
       "  0%|          | 0/1 [00:00<?, ?it/s]"
      ]
     },
     "metadata": {},
     "output_type": "display_data"
    },
    {
     "name": "stdout",
     "output_type": "stream",
     "text": [
      "SHAP values difference: -1.2310750818755878e-07\n"
     ]
    },
    {
     "name": "stderr",
     "output_type": "stream",
     "text": [
      "C:\\Users\\user\\AppData\\Local\\Temp\\ipykernel_46640\\4091489871.py:313: FutureWarning: A value is trying to be set on a copy of a DataFrame or Series through chained assignment using an inplace method.\n",
      "The behavior will change in pandas 3.0. This inplace method will never work because the intermediate object on which we are setting values always behaves as a copy.\n",
      "\n",
      "For example, when doing 'df[col].method(value, inplace=True)', try using 'df.method({col: value}, inplace=True)' or df[col] = df[col].method(value) instead, to perform the operation inplace on the original object.\n",
      "\n",
      "\n",
      "  df_fig['Group'].replace(groups_rename, inplace=True)\n",
      "C:\\Users\\user\\AppData\\Local\\Temp\\ipykernel_46640\\4091489871.py:316: FutureWarning: \n",
      "\n",
      "Passing `palette` without assigning `hue` is deprecated and will be removed in v0.14.0. Assign the `x` variable to `hue` and set `legend=False` for the same effect.\n",
      "\n",
      "  violin = sns.violinplot(\n",
      "C:\\Users\\user\\AppData\\Local\\Temp\\ipykernel_46640\\4091489871.py:316: FutureWarning: \n",
      "\n",
      "The `scale` parameter has been renamed and will be removed in v0.15.0. Pass `density_norm='width'` for the same effect.\n",
      "  violin = sns.violinplot(\n",
      "C:\\Users\\user\\AppData\\Local\\Temp\\ipykernel_46640\\4091489871.py:341: FutureWarning: A value is trying to be set on a copy of a DataFrame or Series through chained assignment using an inplace method.\n",
      "The behavior will change in pandas 3.0. This inplace method will never work because the intermediate object on which we are setting values always behaves as a copy.\n",
      "\n",
      "For example, when doing 'df[col].method(value, inplace=True)', try using 'df.method({col: value}, inplace=True)' or df[col] = df[col].method(value) instead, to perform the operation inplace on the original object.\n",
      "\n",
      "\n",
      "  df_fig['Group'].replace(groups_rename, inplace=True)\n",
      "C:\\Users\\user\\AppData\\Local\\Temp\\ipykernel_46640\\4091489871.py:344: FutureWarning: \n",
      "\n",
      "Passing `palette` without assigning `hue` is deprecated and will be removed in v0.14.0. Assign the `x` variable to `hue` and set `legend=False` for the same effect.\n",
      "\n",
      "  violin = sns.violinplot(\n",
      "C:\\Users\\user\\AppData\\Local\\Temp\\ipykernel_46640\\4091489871.py:344: FutureWarning: \n",
      "\n",
      "The `scale` parameter has been renamed and will be removed in v0.15.0. Pass `density_norm='width'` for the same effect.\n",
      "  violin = sns.violinplot(\n",
      "c:\\Users\\user\\anaconda3\\envs\\py311\\Lib\\site-packages\\statannotations\\Annotator.py:825: UserWarning: Annotator was reconfigured without applying the test (again) which will probably lead to unexpected results\n",
      "  warnings.warn(\"Annotator was reconfigured without applying the \"\n",
      "c:\\Users\\user\\anaconda3\\envs\\py311\\Lib\\site-packages\\lightning_fabric\\utilities\\cloud_io.py:56: You are using `torch.load` with `weights_only=False` (the current default value), which uses the default pickle module implicitly. It is possible to construct malicious pickle data which will execute arbitrary code during unpickling (See https://github.com/pytorch/pytorch/blob/main/SECURITY.md#untrusted-models for more details). In a future release, the default value for `weights_only` will be flipped to `True`. This limits the functions that could be executed during unpickling. Arbitrary objects will no longer be allowed to be loaded via this mode unless they are explicitly allowlisted by the user via `torch.serialization.add_safe_globals`. We recommend you start setting `weights_only=True` for any use case where you don't have full control of the loaded file. Please open an issue on GitHub for any issues related to this experimental feature.\n"
     ]
    },
    {
     "data": {
      "text/html": [
       "<pre style=\"white-space:pre;overflow-x:auto;line-height:normal;font-family:Menlo,'DejaVu Sans Mono',consolas,'Courier New',monospace\"><span style=\"color: #008080; text-decoration-color: #008080; font-weight: bold\">2025</span>-<span style=\"color: #008080; text-decoration-color: #008080; font-weight: bold\">10</span>-<span style=\"color: #008080; text-decoration-color: #008080; font-weight: bold\">22</span> <span style=\"color: #00ff00; text-decoration-color: #00ff00; font-weight: bold\">13:56:11</span>,<span style=\"color: #008080; text-decoration-color: #008080; font-weight: bold\">985</span> - <span style=\"font-weight: bold\">{</span>pytorch_tabular.tabular_model:<span style=\"color: #008080; text-decoration-color: #008080; font-weight: bold\">165</span><span style=\"font-weight: bold\">}</span> - INFO - Experiment Tracking is turned off           \n",
       "</pre>\n"
      ],
      "text/plain": [
       "\u001b[1;36m2025\u001b[0m-\u001b[1;36m10\u001b[0m-\u001b[1;36m22\u001b[0m \u001b[1;92m13:56:11\u001b[0m,\u001b[1;36m985\u001b[0m - \u001b[1m{\u001b[0mpytorch_tabular.tabular_model:\u001b[1;36m165\u001b[0m\u001b[1m}\u001b[0m - INFO - Experiment Tracking is turned off           \n"
      ]
     },
     "metadata": {},
     "output_type": "display_data"
    },
    {
     "data": {
      "text/html": [
       "<pre style=\"white-space:pre;overflow-x:auto;line-height:normal;font-family:Menlo,'DejaVu Sans Mono',consolas,'Courier New',monospace\"><span style=\"color: #008080; text-decoration-color: #008080; font-weight: bold\">2025</span>-<span style=\"color: #008080; text-decoration-color: #008080; font-weight: bold\">10</span>-<span style=\"color: #008080; text-decoration-color: #008080; font-weight: bold\">22</span> <span style=\"color: #00ff00; text-decoration-color: #00ff00; font-weight: bold\">13:56:11</span>,<span style=\"color: #008080; text-decoration-color: #008080; font-weight: bold\">997</span> - <span style=\"font-weight: bold\">{</span>pytorch_tabular.tabular_model:<span style=\"color: #008080; text-decoration-color: #008080; font-weight: bold\">340</span><span style=\"font-weight: bold\">}</span> - INFO - Preparing the Trainer                       \n",
       "</pre>\n"
      ],
      "text/plain": [
       "\u001b[1;36m2025\u001b[0m-\u001b[1;36m10\u001b[0m-\u001b[1;36m22\u001b[0m \u001b[1;92m13:56:11\u001b[0m,\u001b[1;36m997\u001b[0m - \u001b[1m{\u001b[0mpytorch_tabular.tabular_model:\u001b[1;36m340\u001b[0m\u001b[1m}\u001b[0m - INFO - Preparing the Trainer                       \n"
      ]
     },
     "metadata": {},
     "output_type": "display_data"
    },
    {
     "name": "stdout",
     "output_type": "stream",
     "text": [
      "Background count: 10\n",
      "Background min diff: 1.3679866790771484\n",
      "Background max diff: 14.867353439331055\n"
     ]
    },
    {
     "data": {
      "application/vnd.jupyter.widget-view+json": {
       "model_id": "44d91516114a4de4939cdc62e1b8cd0e",
       "version_major": 2,
       "version_minor": 0
      },
      "text/plain": [
       "  0%|          | 0/1 [00:00<?, ?it/s]"
      ]
     },
     "metadata": {},
     "output_type": "display_data"
    },
    {
     "name": "stdout",
     "output_type": "stream",
     "text": [
      "SHAP values difference: -7.179547090174765e-07\n",
      "Background count: 10\n",
      "Background min diff: 1.0558719635009766\n",
      "Background max diff: 14.555238723754883\n"
     ]
    },
    {
     "data": {
      "application/vnd.jupyter.widget-view+json": {
       "model_id": "7e9ac5d496f74af0a798727fd28ccefa",
       "version_major": 2,
       "version_minor": 0
      },
      "text/plain": [
       "  0%|          | 0/1 [00:00<?, ?it/s]"
      ]
     },
     "metadata": {},
     "output_type": "display_data"
    },
    {
     "name": "stdout",
     "output_type": "stream",
     "text": [
      "SHAP values difference: -3.0643309045785827e-07\n",
      "Background count: 10\n",
      "Background min diff: -3.918802261352539\n",
      "Background max diff: 9.580564498901367\n"
     ]
    },
    {
     "data": {
      "application/vnd.jupyter.widget-view+json": {
       "model_id": "0027ba6e889948278a1ca08aaa9e9bcc",
       "version_major": 2,
       "version_minor": 0
      },
      "text/plain": [
       "  0%|          | 0/1 [00:00<?, ?it/s]"
      ]
     },
     "metadata": {},
     "output_type": "display_data"
    },
    {
     "name": "stdout",
     "output_type": "stream",
     "text": [
      "SHAP values difference: 8.53316228788259e-08\n",
      "SHAP values correction 2\n",
      "Background count: 10\n",
      "Background min diff: -6.210521697998047\n",
      "Background max diff: 7.250236511230469\n"
     ]
    },
    {
     "data": {
      "application/vnd.jupyter.widget-view+json": {
       "model_id": "11226323ad674246bbfbd7ddaf7d8190",
       "version_major": 2,
       "version_minor": 0
      },
      "text/plain": [
       "  0%|          | 0/1 [00:00<?, ?it/s]"
      ]
     },
     "metadata": {},
     "output_type": "display_data"
    },
    {
     "name": "stdout",
     "output_type": "stream",
     "text": [
      "SHAP values difference: -6.621761805547521e-08\n",
      "Background count: 10\n",
      "Background min diff: -4.674449920654297\n",
      "Background max diff: 8.82491683959961\n"
     ]
    },
    {
     "data": {
      "application/vnd.jupyter.widget-view+json": {
       "model_id": "5be0ecc0b4844ab08bf445aa8597dba9",
       "version_major": 2,
       "version_minor": 0
      },
      "text/plain": [
       "  0%|          | 0/1 [00:00<?, ?it/s]"
      ]
     },
     "metadata": {},
     "output_type": "display_data"
    },
    {
     "name": "stdout",
     "output_type": "stream",
     "text": [
      "SHAP values difference: 2.553997848764311e-07\n",
      "Background count: 10\n",
      "Background min diff: -11.27554702758789\n",
      "Background max diff: 2.185211181640625\n"
     ]
    },
    {
     "data": {
      "application/vnd.jupyter.widget-view+json": {
       "model_id": "c25836ebb34348ff876c4017ef6ebd01",
       "version_major": 2,
       "version_minor": 0
      },
      "text/plain": [
       "  0%|          | 0/1 [00:00<?, ?it/s]"
      ]
     },
     "metadata": {},
     "output_type": "display_data"
    },
    {
     "name": "stdout",
     "output_type": "stream",
     "text": [
      "SHAP values difference: -2.6870836222769867e-08\n",
      "SHAP values correction 2\n",
      "Background count: 10\n",
      "Background min diff: -5.690773010253906\n",
      "Background max diff: 4.008365631103516\n"
     ]
    },
    {
     "data": {
      "application/vnd.jupyter.widget-view+json": {
       "model_id": "cc7ca9b0208b4bdd9e64254a77640e7c",
       "version_major": 2,
       "version_minor": 0
      },
      "text/plain": [
       "  0%|          | 0/1 [00:00<?, ?it/s]"
      ]
     },
     "metadata": {},
     "output_type": "display_data"
    },
    {
     "name": "stdout",
     "output_type": "stream",
     "text": [
      "SHAP values difference: 8.507875630670014e-07\n",
      "SHAP values correction 1\n",
      "SHAP values correction 2\n",
      "Background count: 10\n",
      "Background min diff: -3.611431121826172\n",
      "Background max diff: 4.849140167236328\n"
     ]
    },
    {
     "data": {
      "application/vnd.jupyter.widget-view+json": {
       "model_id": "d3c1137b83094f60ac0489bef6456a5d",
       "version_major": 2,
       "version_minor": 0
      },
      "text/plain": [
       "  0%|          | 0/1 [00:00<?, ?it/s]"
      ]
     },
     "metadata": {},
     "output_type": "display_data"
    },
    {
     "name": "stdout",
     "output_type": "stream",
     "text": [
      "SHAP values difference: -1.588634113147691e-08\n",
      "SHAP values correction 2\n",
      "Background count: 10\n",
      "Background min diff: -17.244060516357422\n",
      "Background max diff: -3.7833023071289062\n"
     ]
    },
    {
     "data": {
      "application/vnd.jupyter.widget-view+json": {
       "model_id": "ce170ca2d88d49ebacddad98f9635b98",
       "version_major": 2,
       "version_minor": 0
      },
      "text/plain": [
       "  0%|          | 0/1 [00:00<?, ?it/s]"
      ]
     },
     "metadata": {},
     "output_type": "display_data"
    },
    {
     "name": "stdout",
     "output_type": "stream",
     "text": [
      "SHAP values difference: -1.8959712733135348e-07\n",
      "Background count: 10\n",
      "Background min diff: -5.973735809326172\n",
      "Background max diff: 3.959075927734375\n"
     ]
    },
    {
     "data": {
      "application/vnd.jupyter.widget-view+json": {
       "model_id": "ae6fcc64974a47a595462f70887b2cd6",
       "version_major": 2,
       "version_minor": 0
      },
      "text/plain": [
       "  0%|          | 0/1 [00:00<?, ?it/s]"
      ]
     },
     "metadata": {},
     "output_type": "display_data"
    },
    {
     "name": "stdout",
     "output_type": "stream",
     "text": [
      "SHAP values difference: 7.550103475750802e-08\n",
      "Background count: 10\n",
      "Background min diff: -1.8609161376953125\n",
      "Background max diff: 3.5657272338867188\n"
     ]
    },
    {
     "data": {
      "application/vnd.jupyter.widget-view+json": {
       "model_id": "9776fbfe13864c308bf85d29b2e403e6",
       "version_major": 2,
       "version_minor": 0
      },
      "text/plain": [
       "  0%|          | 0/1 [00:00<?, ?it/s]"
      ]
     },
     "metadata": {},
     "output_type": "display_data"
    },
    {
     "name": "stdout",
     "output_type": "stream",
     "text": [
      "SHAP values difference: 1.237287072797244e-07\n",
      "Background count: 10\n",
      "Background min diff: -6.525379180908203\n",
      "Background max diff: 6.9353790283203125\n"
     ]
    },
    {
     "data": {
      "application/vnd.jupyter.widget-view+json": {
       "model_id": "b4e5e3657c4b47148c3fc592be0070cd",
       "version_major": 2,
       "version_minor": 0
      },
      "text/plain": [
       "  0%|          | 0/1 [00:00<?, ?it/s]"
      ]
     },
     "metadata": {},
     "output_type": "display_data"
    },
    {
     "name": "stdout",
     "output_type": "stream",
     "text": [
      "SHAP values difference: -3.093553146982231e-08\n",
      "Background count: 10\n",
      "Background min diff: -3.1011390686035156\n",
      "Background max diff: 3.673114776611328\n"
     ]
    },
    {
     "data": {
      "application/vnd.jupyter.widget-view+json": {
       "model_id": "d227abe1460243d096cbf7e7074cd59c",
       "version_major": 2,
       "version_minor": 0
      },
      "text/plain": [
       "  0%|          | 0/1 [00:00<?, ?it/s]"
      ]
     },
     "metadata": {},
     "output_type": "display_data"
    },
    {
     "name": "stdout",
     "output_type": "stream",
     "text": [
      "SHAP values difference: 4.166682039397074e-07\n",
      "Background count: 10\n",
      "Background min diff: -2.4923477172851562\n",
      "Background max diff: 2.10052490234375\n"
     ]
    },
    {
     "data": {
      "application/vnd.jupyter.widget-view+json": {
       "model_id": "08f9eb5ba5b946f7accafc9b167479f7",
       "version_major": 2,
       "version_minor": 0
      },
      "text/plain": [
       "  0%|          | 0/1 [00:00<?, ?it/s]"
      ]
     },
     "metadata": {},
     "output_type": "display_data"
    },
    {
     "name": "stdout",
     "output_type": "stream",
     "text": [
      "SHAP values difference: 1.716278106300706e-07\n",
      "Background count: 10\n",
      "Background min diff: -2.4129486083984375\n",
      "Background max diff: 2.1799240112304688\n"
     ]
    },
    {
     "data": {
      "application/vnd.jupyter.widget-view+json": {
       "model_id": "e27826fecdbf4e90b6dcf0398c92a62e",
       "version_major": 2,
       "version_minor": 0
      },
      "text/plain": [
       "  0%|          | 0/1 [00:00<?, ?it/s]"
      ]
     },
     "metadata": {},
     "output_type": "display_data"
    },
    {
     "name": "stdout",
     "output_type": "stream",
     "text": [
      "SHAP values difference: 2.910729328675643e-07\n",
      "SHAP values correction 1\n",
      "SHAP values correction 2\n",
      "Background count: 10\n",
      "Background min diff: 2.266002655029297\n",
      "Background max diff: 15.765369415283203\n"
     ]
    },
    {
     "data": {
      "application/vnd.jupyter.widget-view+json": {
       "model_id": "1f56f9ceb2e54372954128f8b47002ae",
       "version_major": 2,
       "version_minor": 0
      },
      "text/plain": [
       "  0%|          | 0/1 [00:00<?, ?it/s]"
      ]
     },
     "metadata": {},
     "output_type": "display_data"
    },
    {
     "name": "stdout",
     "output_type": "stream",
     "text": [
      "SHAP values difference: 1.6196666052792352e-07\n",
      "Background count: 10\n",
      "Background min diff: -2.467212677001953\n",
      "Background max diff: 3.8114051818847656\n"
     ]
    },
    {
     "data": {
      "application/vnd.jupyter.widget-view+json": {
       "model_id": "6a99df812cf34ea5b19af9f059b8fdb8",
       "version_major": 2,
       "version_minor": 0
      },
      "text/plain": [
       "  0%|          | 0/1 [00:00<?, ?it/s]"
      ]
     },
     "metadata": {},
     "output_type": "display_data"
    },
    {
     "name": "stdout",
     "output_type": "stream",
     "text": [
      "SHAP values difference: 8.701793063892183e-09\n",
      "SHAP values correction 2\n",
      "Background count: 10\n",
      "Background min diff: -1.638174057006836\n",
      "Background max diff: 11.86119270324707\n"
     ]
    },
    {
     "data": {
      "application/vnd.jupyter.widget-view+json": {
       "model_id": "55dd844df91842d6afe98c997c26000c",
       "version_major": 2,
       "version_minor": 0
      },
      "text/plain": [
       "  0%|          | 0/1 [00:00<?, ?it/s]"
      ]
     },
     "metadata": {},
     "output_type": "display_data"
    },
    {
     "name": "stdout",
     "output_type": "stream",
     "text": [
      "SHAP values difference: -1.2237138236059764e-07\n",
      "Background count: 10\n",
      "Background min diff: -2.0960159301757812\n",
      "Background max diff: 2.854339599609375\n"
     ]
    },
    {
     "data": {
      "application/vnd.jupyter.widget-view+json": {
       "model_id": "0dbd174fa8304a1ab40a1a4e2fc8fd48",
       "version_major": 2,
       "version_minor": 0
      },
      "text/plain": [
       "  0%|          | 0/1 [00:00<?, ?it/s]"
      ]
     },
     "metadata": {},
     "output_type": "display_data"
    },
    {
     "name": "stdout",
     "output_type": "stream",
     "text": [
      "SHAP values difference: -3.9468247692298064e-07\n",
      "Background count: 10\n",
      "Background min diff: -3.844881057739258\n",
      "Background max diff: 9.654485702514648\n"
     ]
    },
    {
     "data": {
      "application/vnd.jupyter.widget-view+json": {
       "model_id": "824e0eb796b9418b947abac5e2fd2bc7",
       "version_major": 2,
       "version_minor": 0
      },
      "text/plain": [
       "  0%|          | 0/1 [00:00<?, ?it/s]"
      ]
     },
     "metadata": {},
     "output_type": "display_data"
    },
    {
     "name": "stdout",
     "output_type": "stream",
     "text": [
      "SHAP values difference: 1.2425154594097876e-07\n",
      "SHAP values correction 2\n",
      "Background count: 10\n",
      "Background min diff: -2.665843963623047\n",
      "Background max diff: 2.7607994079589844\n"
     ]
    },
    {
     "data": {
      "application/vnd.jupyter.widget-view+json": {
       "model_id": "ead1dcf298a8469197a1cf98a64e4394",
       "version_major": 2,
       "version_minor": 0
      },
      "text/plain": [
       "  0%|          | 0/1 [00:00<?, ?it/s]"
      ]
     },
     "metadata": {},
     "output_type": "display_data"
    },
    {
     "name": "stdout",
     "output_type": "stream",
     "text": [
      "SHAP values difference: 9.728219474425259e-08\n",
      "SHAP values correction 2\n",
      "Background count: 10\n",
      "Background min diff: 1.784139633178711\n",
      "Background max diff: 15.283506393432617\n"
     ]
    },
    {
     "data": {
      "application/vnd.jupyter.widget-view+json": {
       "model_id": "a29ac90243e54ed3931e1877292b3e06",
       "version_major": 2,
       "version_minor": 0
      },
      "text/plain": [
       "  0%|          | 0/1 [00:00<?, ?it/s]"
      ]
     },
     "metadata": {},
     "output_type": "display_data"
    },
    {
     "name": "stdout",
     "output_type": "stream",
     "text": [
      "SHAP values difference: -1.6907996069903675e-07\n",
      "Background count: 10\n",
      "Background min diff: -5.341911315917969\n",
      "Background max diff: 6.240959167480469\n"
     ]
    },
    {
     "data": {
      "application/vnd.jupyter.widget-view+json": {
       "model_id": "f4a64fe3d2744972872123a39f85033f",
       "version_major": 2,
       "version_minor": 0
      },
      "text/plain": [
       "  0%|          | 0/1 [00:00<?, ?it/s]"
      ]
     },
     "metadata": {},
     "output_type": "display_data"
    },
    {
     "name": "stdout",
     "output_type": "stream",
     "text": [
      "SHAP values difference: -9.712544724038707e-08\n",
      "SHAP values correction 2\n",
      "Background count: 10\n",
      "Background min diff: -5.019996643066406\n",
      "Background max diff: 4.679141998291016\n"
     ]
    },
    {
     "data": {
      "application/vnd.jupyter.widget-view+json": {
       "model_id": "b7223dd1878d49c192cfc749861713ad",
       "version_major": 2,
       "version_minor": 0
      },
      "text/plain": [
       "  0%|          | 0/1 [00:00<?, ?it/s]"
      ]
     },
     "metadata": {},
     "output_type": "display_data"
    },
    {
     "name": "stdout",
     "output_type": "stream",
     "text": [
      "SHAP values difference: -7.493512921286083e-09\n",
      "SHAP values correction 2\n",
      "Background count: 10\n",
      "Background min diff: -3.382770538330078\n",
      "Background max diff: 5.014217376708984\n"
     ]
    },
    {
     "data": {
      "application/vnd.jupyter.widget-view+json": {
       "model_id": "17fd24dcf02448a0a74518c3bab8da99",
       "version_major": 2,
       "version_minor": 0
      },
      "text/plain": [
       "  0%|          | 0/1 [00:00<?, ?it/s]"
      ]
     },
     "metadata": {},
     "output_type": "display_data"
    },
    {
     "name": "stdout",
     "output_type": "stream",
     "text": [
      "SHAP values difference: -1.2977121849333528e-08\n",
      "SHAP values correction 2\n",
      "Background count: 10\n",
      "Background min diff: -4.899253845214844\n",
      "Background max diff: 4.5924072265625\n"
     ]
    },
    {
     "data": {
      "application/vnd.jupyter.widget-view+json": {
       "model_id": "55c3a607c0ca48e69d228cf6b5bfd8ec",
       "version_major": 2,
       "version_minor": 0
      },
      "text/plain": [
       "  0%|          | 0/1 [00:00<?, ?it/s]"
      ]
     },
     "metadata": {},
     "output_type": "display_data"
    },
    {
     "name": "stdout",
     "output_type": "stream",
     "text": [
      "SHAP values difference: 5.972919936425569e-08\n",
      "SHAP values correction 2\n",
      "Background count: 10\n",
      "Background min diff: -3.442962646484375\n",
      "Background max diff: 3.4795989990234375\n"
     ]
    },
    {
     "data": {
      "application/vnd.jupyter.widget-view+json": {
       "model_id": "f59bb68ba2634f208224903679cd893e",
       "version_major": 2,
       "version_minor": 0
      },
      "text/plain": [
       "  0%|          | 0/1 [00:00<?, ?it/s]"
      ]
     },
     "metadata": {},
     "output_type": "display_data"
    },
    {
     "name": "stdout",
     "output_type": "stream",
     "text": [
      "SHAP values difference: 3.9775219562443453e-08\n",
      "Background count: 10\n",
      "Background min diff: -4.507854461669922\n",
      "Background max diff: 4.504940032958984\n"
     ]
    },
    {
     "data": {
      "application/vnd.jupyter.widget-view+json": {
       "model_id": "430dfd71cd594d5c8f4c2cc0a818caae",
       "version_major": 2,
       "version_minor": 0
      },
      "text/plain": [
       "  0%|          | 0/1 [00:00<?, ?it/s]"
      ]
     },
     "metadata": {},
     "output_type": "display_data"
    },
    {
     "name": "stdout",
     "output_type": "stream",
     "text": [
      "SHAP values difference: 3.26440510178827e-07\n",
      "Background count: 10\n",
      "Background min diff: -19.54659652709961\n",
      "Background max diff: -6.085838317871094\n"
     ]
    },
    {
     "data": {
      "application/vnd.jupyter.widget-view+json": {
       "model_id": "16469bbad0ff44f999512832effbc417",
       "version_major": 2,
       "version_minor": 0
      },
      "text/plain": [
       "  0%|          | 0/1 [00:00<?, ?it/s]"
      ]
     },
     "metadata": {},
     "output_type": "display_data"
    },
    {
     "name": "stdout",
     "output_type": "stream",
     "text": [
      "SHAP values difference: -3.433823003717862e-09\n",
      "Background count: 10\n",
      "Background min diff: -5.057748794555664\n",
      "Background max diff: 8.441617965698242\n"
     ]
    },
    {
     "data": {
      "application/vnd.jupyter.widget-view+json": {
       "model_id": "54eb8aedb8e5496aad7044b9851d1b76",
       "version_major": 2,
       "version_minor": 0
      },
      "text/plain": [
       "  0%|          | 0/1 [00:00<?, ?it/s]"
      ]
     },
     "metadata": {},
     "output_type": "display_data"
    },
    {
     "name": "stdout",
     "output_type": "stream",
     "text": [
      "SHAP values difference: 1.3554636524304442e-07\n",
      "Background count: 10\n",
      "Background min diff: -2.4417572021484375\n",
      "Background max diff: 3.3714675903320312\n"
     ]
    },
    {
     "data": {
      "application/vnd.jupyter.widget-view+json": {
       "model_id": "07f22ec40fe64dc592c8798feae1ba30",
       "version_major": 2,
       "version_minor": 0
      },
      "text/plain": [
       "  0%|          | 0/1 [00:00<?, ?it/s]"
      ]
     },
     "metadata": {},
     "output_type": "display_data"
    },
    {
     "name": "stdout",
     "output_type": "stream",
     "text": [
      "SHAP values difference: 5.1993416683160376e-08\n",
      "SHAP values correction 2\n",
      "Background count: 10\n",
      "Background min diff: -4.790988922119141\n",
      "Background max diff: 5.141822814941406\n"
     ]
    },
    {
     "data": {
      "application/vnd.jupyter.widget-view+json": {
       "model_id": "92cbd3c526c84b5e881ed9cf3ab01190",
       "version_major": 2,
       "version_minor": 0
      },
      "text/plain": [
       "  0%|          | 0/1 [00:00<?, ?it/s]"
      ]
     },
     "metadata": {},
     "output_type": "display_data"
    },
    {
     "name": "stdout",
     "output_type": "stream",
     "text": [
      "SHAP values difference: -1.200890924479836e-07\n",
      "SHAP values correction 2\n",
      "Background count: 10\n",
      "Background min diff: -2.236053466796875\n",
      "Background max diff: 1.4821701049804688\n"
     ]
    },
    {
     "data": {
      "application/vnd.jupyter.widget-view+json": {
       "model_id": "b4f4dc89da1a412a9560d0f0900c52b5",
       "version_major": 2,
       "version_minor": 0
      },
      "text/plain": [
       "  0%|          | 0/1 [00:00<?, ?it/s]"
      ]
     },
     "metadata": {},
     "output_type": "display_data"
    },
    {
     "name": "stdout",
     "output_type": "stream",
     "text": [
      "SHAP values difference: -3.7254581641832374e-08\n",
      "Background count: 10\n",
      "Background min diff: -4.522613525390625\n",
      "Background max diff: 2.3669815063476562\n"
     ]
    },
    {
     "data": {
      "application/vnd.jupyter.widget-view+json": {
       "model_id": "635b5ece66954a0687e52883e7212df9",
       "version_major": 2,
       "version_minor": 0
      },
      "text/plain": [
       "  0%|          | 0/1 [00:00<?, ?it/s]"
      ]
     },
     "metadata": {},
     "output_type": "display_data"
    },
    {
     "name": "stdout",
     "output_type": "stream",
     "text": [
      "SHAP values difference: 9.047911220250171e-08\n",
      "Background count: 10\n",
      "Background min diff: -2.716938018798828\n",
      "Background max diff: 2.8028907775878906\n"
     ]
    },
    {
     "data": {
      "application/vnd.jupyter.widget-view+json": {
       "model_id": "8db3b0b9badd44aa810580131022829e",
       "version_major": 2,
       "version_minor": 0
      },
      "text/plain": [
       "  0%|          | 0/1 [00:00<?, ?it/s]"
      ]
     },
     "metadata": {},
     "output_type": "display_data"
    },
    {
     "name": "stdout",
     "output_type": "stream",
     "text": [
      "SHAP values difference: 7.808143909215914e-08\n",
      "SHAP values correction 1\n",
      "SHAP values correction 2\n",
      "Background count: 10\n",
      "Background min diff: -5.767429351806641\n",
      "Background max diff: 3.9317092895507812\n"
     ]
    },
    {
     "data": {
      "application/vnd.jupyter.widget-view+json": {
       "model_id": "c6f578d789274f3081e432c8eaab6f4f",
       "version_major": 2,
       "version_minor": 0
      },
      "text/plain": [
       "  0%|          | 0/1 [00:00<?, ?it/s]"
      ]
     },
     "metadata": {},
     "output_type": "display_data"
    },
    {
     "name": "stdout",
     "output_type": "stream",
     "text": [
      "SHAP values difference: 3.30107940982316e-09\n",
      "SHAP values correction 2\n",
      "Background count: 10\n",
      "Background min diff: -2.4883766174316406\n",
      "Background max diff: 3.4262733459472656\n"
     ]
    },
    {
     "data": {
      "application/vnd.jupyter.widget-view+json": {
       "model_id": "dd25bfc71bbc4dbfa02937585309eb74",
       "version_major": 2,
       "version_minor": 0
      },
      "text/plain": [
       "  0%|          | 0/1 [00:00<?, ?it/s]"
      ]
     },
     "metadata": {},
     "output_type": "display_data"
    },
    {
     "name": "stdout",
     "output_type": "stream",
     "text": [
      "SHAP values difference: -3.5488191940658e-08\n",
      "Background count: 10\n",
      "Background min diff: -7.573970794677734\n",
      "Background max diff: 5.886787414550781\n"
     ]
    },
    {
     "data": {
      "application/vnd.jupyter.widget-view+json": {
       "model_id": "cf357c1c245d4dcb979ecbb4662d550b",
       "version_major": 2,
       "version_minor": 0
      },
      "text/plain": [
       "  0%|          | 0/1 [00:00<?, ?it/s]"
      ]
     },
     "metadata": {},
     "output_type": "display_data"
    },
    {
     "name": "stdout",
     "output_type": "stream",
     "text": [
      "SHAP values difference: -3.784012037044704e-08\n",
      "Background count: 10\n",
      "Background min diff: -4.891368865966797\n",
      "Background max diff: 4.072841644287109\n"
     ]
    },
    {
     "data": {
      "application/vnd.jupyter.widget-view+json": {
       "model_id": "c7545870368b4353bd227b431ec9dd9d",
       "version_major": 2,
       "version_minor": 0
      },
      "text/plain": [
       "  0%|          | 0/1 [00:00<?, ?it/s]"
      ]
     },
     "metadata": {},
     "output_type": "display_data"
    },
    {
     "name": "stdout",
     "output_type": "stream",
     "text": [
      "SHAP values difference: 1.387950341324995e-07\n",
      "Background count: 10\n",
      "Background min diff: -5.338573455810547\n",
      "Background max diff: 5.296455383300781\n"
     ]
    },
    {
     "data": {
      "application/vnd.jupyter.widget-view+json": {
       "model_id": "7f52f7f0927a4dbe9f05b4ebab60b18b",
       "version_major": 2,
       "version_minor": 0
      },
      "text/plain": [
       "  0%|          | 0/1 [00:00<?, ?it/s]"
      ]
     },
     "metadata": {},
     "output_type": "display_data"
    },
    {
     "name": "stdout",
     "output_type": "stream",
     "text": [
      "SHAP values difference: 2.6599425950735167e-07\n",
      "SHAP values correction 2\n",
      "Background count: 10\n",
      "Background min diff: -4.7093048095703125\n",
      "Background max diff: 3.84967041015625\n"
     ]
    },
    {
     "data": {
      "application/vnd.jupyter.widget-view+json": {
       "model_id": "df9d59eb9cc946f4bdacb6e0f1fff959",
       "version_major": 2,
       "version_minor": 0
      },
      "text/plain": [
       "  0%|          | 0/1 [00:00<?, ?it/s]"
      ]
     },
     "metadata": {},
     "output_type": "display_data"
    },
    {
     "name": "stdout",
     "output_type": "stream",
     "text": [
      "SHAP values difference: -2.6399821040357097e-07\n",
      "SHAP values correction 2\n",
      "Background count: 10\n",
      "Background min diff: -4.2398834228515625\n",
      "Background max diff: 4.684791564941406\n"
     ]
    },
    {
     "data": {
      "application/vnd.jupyter.widget-view+json": {
       "model_id": "edcc134df704496bbb592f0d4626f135",
       "version_major": 2,
       "version_minor": 0
      },
      "text/plain": [
       "  0%|          | 0/1 [00:00<?, ?it/s]"
      ]
     },
     "metadata": {},
     "output_type": "display_data"
    },
    {
     "name": "stdout",
     "output_type": "stream",
     "text": [
      "SHAP values difference: 1.0535123839972016e-07\n",
      "SHAP values correction 2\n",
      "Background count: 10\n",
      "Background min diff: -4.255970001220703\n",
      "Background max diff: 4.756824493408203\n"
     ]
    },
    {
     "data": {
      "application/vnd.jupyter.widget-view+json": {
       "model_id": "e1ae99ddd84b45d1bb6bb56290b72509",
       "version_major": 2,
       "version_minor": 0
      },
      "text/plain": [
       "  0%|          | 0/1 [00:00<?, ?it/s]"
      ]
     },
     "metadata": {},
     "output_type": "display_data"
    },
    {
     "name": "stdout",
     "output_type": "stream",
     "text": [
      "SHAP values difference: -2.5476831311266324e-07\n",
      "Background count: 10\n",
      "Background min diff: -4.609367370605469\n",
      "Background max diff: 4.3548431396484375\n"
     ]
    },
    {
     "data": {
      "application/vnd.jupyter.widget-view+json": {
       "model_id": "eec23752e2644130b99ecb73a814abd2",
       "version_major": 2,
       "version_minor": 0
      },
      "text/plain": [
       "  0%|          | 0/1 [00:00<?, ?it/s]"
      ]
     },
     "metadata": {},
     "output_type": "display_data"
    },
    {
     "name": "stdout",
     "output_type": "stream",
     "text": [
      "SHAP values difference: -1.6205797770396657e-07\n",
      "SHAP values correction 2\n",
      "Background count: 10\n",
      "Background min diff: -2.9529647827148438\n",
      "Background max diff: 3.51019287109375\n"
     ]
    },
    {
     "data": {
      "application/vnd.jupyter.widget-view+json": {
       "model_id": "3aa5a28485e546b5a07223d571fdf783",
       "version_major": 2,
       "version_minor": 0
      },
      "text/plain": [
       "  0%|          | 0/1 [00:00<?, ?it/s]"
      ]
     },
     "metadata": {},
     "output_type": "display_data"
    },
    {
     "name": "stdout",
     "output_type": "stream",
     "text": [
      "SHAP values difference: -1.5153982335647243e-07\n",
      "SHAP values correction 2\n",
      "Background count: 10\n",
      "Background min diff: -5.6880340576171875\n",
      "Background max diff: 4.011104583740234\n"
     ]
    },
    {
     "data": {
      "application/vnd.jupyter.widget-view+json": {
       "model_id": "8d9b57a0a68145668a880aab6a65ce46",
       "version_major": 2,
       "version_minor": 0
      },
      "text/plain": [
       "  0%|          | 0/1 [00:00<?, ?it/s]"
      ]
     },
     "metadata": {},
     "output_type": "display_data"
    },
    {
     "name": "stdout",
     "output_type": "stream",
     "text": [
      "SHAP values difference: 1.402331974986737e-07\n",
      "Background count: 10\n",
      "Background min diff: -3.2288646697998047\n",
      "Background max diff: 10.270502090454102\n"
     ]
    },
    {
     "data": {
      "application/vnd.jupyter.widget-view+json": {
       "model_id": "d57a9c90ebb94bd9b9f74227fae1b34b",
       "version_major": 2,
       "version_minor": 0
      },
      "text/plain": [
       "  0%|          | 0/1 [00:00<?, ?it/s]"
      ]
     },
     "metadata": {},
     "output_type": "display_data"
    },
    {
     "name": "stdout",
     "output_type": "stream",
     "text": [
      "SHAP values difference: -3.2818234885212405e-07\n",
      "SHAP values correction 2\n",
      "Background count: 10\n",
      "Background min diff: -3.01666259765625\n",
      "Background max diff: 3.1196212768554688\n"
     ]
    },
    {
     "data": {
      "application/vnd.jupyter.widget-view+json": {
       "model_id": "e0a7c7446c044a82aa20ed51a7ba6f6c",
       "version_major": 2,
       "version_minor": 0
      },
      "text/plain": [
       "  0%|          | 0/1 [00:00<?, ?it/s]"
      ]
     },
     "metadata": {},
     "output_type": "display_data"
    },
    {
     "name": "stdout",
     "output_type": "stream",
     "text": [
      "SHAP values difference: -3.140559954317723e-07\n",
      "Background count: 10\n",
      "Background min diff: -6.16657829284668\n",
      "Background max diff: 7.332788467407227\n"
     ]
    },
    {
     "data": {
      "application/vnd.jupyter.widget-view+json": {
       "model_id": "41caa289bc074c09aa76111fa0b4603d",
       "version_major": 2,
       "version_minor": 0
      },
      "text/plain": [
       "  0%|          | 0/1 [00:00<?, ?it/s]"
      ]
     },
     "metadata": {},
     "output_type": "display_data"
    },
    {
     "name": "stdout",
     "output_type": "stream",
     "text": [
      "SHAP values difference: -3.10731618213822e-08\n",
      "Background count: 10\n",
      "Background min diff: -2.2295150756835938\n",
      "Background max diff: 2.3633575439453125\n"
     ]
    },
    {
     "data": {
      "application/vnd.jupyter.widget-view+json": {
       "model_id": "98ec1945e7dc4ff5960ba09db68cd2d5",
       "version_major": 2,
       "version_minor": 0
      },
      "text/plain": [
       "  0%|          | 0/1 [00:00<?, ?it/s]"
      ]
     },
     "metadata": {},
     "output_type": "display_data"
    },
    {
     "name": "stdout",
     "output_type": "stream",
     "text": [
      "SHAP values difference: -9.96689499821457e-08\n",
      "SHAP values correction 1\n",
      "SHAP values correction 2\n",
      "Background count: 10\n",
      "Background min diff: -4.663642883300781\n",
      "Background max diff: 3.5983810424804688\n"
     ]
    },
    {
     "data": {
      "application/vnd.jupyter.widget-view+json": {
       "model_id": "d79eefda560f434c87f14f122ac3216b",
       "version_major": 2,
       "version_minor": 0
      },
      "text/plain": [
       "  0%|          | 0/1 [00:00<?, ?it/s]"
      ]
     },
     "metadata": {},
     "output_type": "display_data"
    },
    {
     "name": "stdout",
     "output_type": "stream",
     "text": [
      "SHAP values difference: -1.3985762592483297e-07\n",
      "Background count: 10\n",
      "Background min diff: -4.973453521728516\n",
      "Background max diff: 4.725685119628906\n"
     ]
    },
    {
     "data": {
      "application/vnd.jupyter.widget-view+json": {
       "model_id": "871962817f6d43849c785b9395c717b9",
       "version_major": 2,
       "version_minor": 0
      },
      "text/plain": [
       "  0%|          | 0/1 [00:00<?, ?it/s]"
      ]
     },
     "metadata": {},
     "output_type": "display_data"
    },
    {
     "name": "stdout",
     "output_type": "stream",
     "text": [
      "SHAP values difference: 2.2811036615166813e-08\n",
      "SHAP values correction 2\n",
      "Background count: 10\n",
      "Background min diff: -3.4373435974121094\n",
      "Background max diff: 2.330951690673828\n"
     ]
    },
    {
     "data": {
      "application/vnd.jupyter.widget-view+json": {
       "model_id": "ece881bc62b7463da3de746d459c65b9",
       "version_major": 2,
       "version_minor": 0
      },
      "text/plain": [
       "  0%|          | 0/1 [00:00<?, ?it/s]"
      ]
     },
     "metadata": {},
     "output_type": "display_data"
    },
    {
     "name": "stdout",
     "output_type": "stream",
     "text": [
      "SHAP values difference: -1.0748014034334119e-07\n",
      "Background count: 10\n",
      "Background min diff: -2.4632949829101562\n",
      "Background max diff: 1.2549285888671875\n"
     ]
    },
    {
     "data": {
      "application/vnd.jupyter.widget-view+json": {
       "model_id": "d54eba91162e48268ac059b15d6bbb85",
       "version_major": 2,
       "version_minor": 0
      },
      "text/plain": [
       "  0%|          | 0/1 [00:00<?, ?it/s]"
      ]
     },
     "metadata": {},
     "output_type": "display_data"
    },
    {
     "name": "stdout",
     "output_type": "stream",
     "text": [
      "SHAP values difference: 2.9786191069192114e-07\n",
      "SHAP values correction 2\n",
      "Background count: 10\n",
      "Background min diff: -3.884876251220703\n",
      "Background max diff: 3.273479461669922\n"
     ]
    },
    {
     "data": {
      "application/vnd.jupyter.widget-view+json": {
       "model_id": "f0a9074b9fc0455ea013e31386857da0",
       "version_major": 2,
       "version_minor": 0
      },
      "text/plain": [
       "  0%|          | 0/1 [00:00<?, ?it/s]"
      ]
     },
     "metadata": {},
     "output_type": "display_data"
    },
    {
     "name": "stdout",
     "output_type": "stream",
     "text": [
      "SHAP values difference: -6.855522216575594e-08\n",
      "SHAP values correction 2\n",
      "Background count: 10\n",
      "Background min diff: -5.949714660644531\n",
      "Background max diff: 5.633155822753906\n"
     ]
    },
    {
     "data": {
      "application/vnd.jupyter.widget-view+json": {
       "model_id": "c5ee465fe85c40348ae0d0cfcd617958",
       "version_major": 2,
       "version_minor": 0
      },
      "text/plain": [
       "  0%|          | 0/1 [00:00<?, ?it/s]"
      ]
     },
     "metadata": {},
     "output_type": "display_data"
    },
    {
     "name": "stdout",
     "output_type": "stream",
     "text": [
      "SHAP values difference: 1.9247417881729234e-07\n",
      "Background count: 10\n",
      "Background min diff: -3.097850799560547\n",
      "Background max diff: 2.6704444885253906\n"
     ]
    },
    {
     "data": {
      "application/vnd.jupyter.widget-view+json": {
       "model_id": "25db71ff3527485a906670b81fedcd8e",
       "version_major": 2,
       "version_minor": 0
      },
      "text/plain": [
       "  0%|          | 0/1 [00:00<?, ?it/s]"
      ]
     },
     "metadata": {},
     "output_type": "display_data"
    },
    {
     "name": "stdout",
     "output_type": "stream",
     "text": [
      "SHAP values difference: 1.1941465238862747e-07\n",
      "Background count: 10\n",
      "Background min diff: -5.1338348388671875\n",
      "Background max diff: 6.44903564453125\n"
     ]
    },
    {
     "data": {
      "application/vnd.jupyter.widget-view+json": {
       "model_id": "6ece6ab293f9457bb2990d24c97de4fe",
       "version_major": 2,
       "version_minor": 0
      },
      "text/plain": [
       "  0%|          | 0/1 [00:00<?, ?it/s]"
      ]
     },
     "metadata": {},
     "output_type": "display_data"
    },
    {
     "name": "stdout",
     "output_type": "stream",
     "text": [
      "SHAP values difference: -1.937150315711733e-07\n",
      "Background count: 10\n",
      "Background min diff: -3.3290939331054688\n",
      "Background max diff: 3.8292617797851562\n"
     ]
    },
    {
     "data": {
      "application/vnd.jupyter.widget-view+json": {
       "model_id": "977f8e691dd34084a68a96ae7d13282c",
       "version_major": 2,
       "version_minor": 0
      },
      "text/plain": [
       "  0%|          | 0/1 [00:00<?, ?it/s]"
      ]
     },
     "metadata": {},
     "output_type": "display_data"
    },
    {
     "name": "stdout",
     "output_type": "stream",
     "text": [
      "SHAP values difference: -1.0365935132483628e-07\n",
      "Background count: 10\n",
      "Background min diff: -3.6634521484375\n",
      "Background max diff: 4.797119140625\n"
     ]
    },
    {
     "data": {
      "application/vnd.jupyter.widget-view+json": {
       "model_id": "5c488014498d469abd4f3a2fdbbabe4b",
       "version_major": 2,
       "version_minor": 0
      },
      "text/plain": [
       "  0%|          | 0/1 [00:00<?, ?it/s]"
      ]
     },
     "metadata": {},
     "output_type": "display_data"
    },
    {
     "name": "stdout",
     "output_type": "stream",
     "text": [
      "SHAP values difference: -1.5874169800866866e-07\n",
      "SHAP values correction 2\n",
      "Background count: 10\n",
      "Background min diff: -2.575286865234375\n",
      "Background max diff: 4.177055358886719\n"
     ]
    },
    {
     "data": {
      "application/vnd.jupyter.widget-view+json": {
       "model_id": "cfc9d07afd7c4aabac0b79c322eec305",
       "version_major": 2,
       "version_minor": 0
      },
      "text/plain": [
       "  0%|          | 0/1 [00:00<?, ?it/s]"
      ]
     },
     "metadata": {},
     "output_type": "display_data"
    },
    {
     "name": "stdout",
     "output_type": "stream",
     "text": [
      "SHAP values difference: -2.169479316194156e-07\n",
      "Background count: 10\n",
      "Background min diff: -4.164478302001953\n",
      "Background max diff: 4.296092987060547\n"
     ]
    },
    {
     "data": {
      "application/vnd.jupyter.widget-view+json": {
       "model_id": "2d7c00c299ce4112980326e76c7d7b91",
       "version_major": 2,
       "version_minor": 0
      },
      "text/plain": [
       "  0%|          | 0/1 [00:00<?, ?it/s]"
      ]
     },
     "metadata": {},
     "output_type": "display_data"
    },
    {
     "name": "stdout",
     "output_type": "stream",
     "text": [
      "SHAP values difference: 1.7645781724695553e-08\n",
      "Background count: 10\n",
      "Background min diff: -4.546089172363281\n",
      "Background max diff: 4.307411193847656\n"
     ]
    },
    {
     "data": {
      "application/vnd.jupyter.widget-view+json": {
       "model_id": "4ed687335092429d89d61f628ddfbfb5",
       "version_major": 2,
       "version_minor": 0
      },
      "text/plain": [
       "  0%|          | 0/1 [00:00<?, ?it/s]"
      ]
     },
     "metadata": {},
     "output_type": "display_data"
    },
    {
     "name": "stdout",
     "output_type": "stream",
     "text": [
      "SHAP values difference: -2.666589375976969e-07\n",
      "SHAP values correction 2\n",
      "Background count: 10\n",
      "Background min diff: -5.748302459716797\n",
      "Background max diff: 5.4773406982421875\n"
     ]
    },
    {
     "data": {
      "application/vnd.jupyter.widget-view+json": {
       "model_id": "0a8c0163bc194ee99f678299efb47955",
       "version_major": 2,
       "version_minor": 0
      },
      "text/plain": [
       "  0%|          | 0/1 [00:00<?, ?it/s]"
      ]
     },
     "metadata": {},
     "output_type": "display_data"
    },
    {
     "name": "stdout",
     "output_type": "stream",
     "text": [
      "SHAP values difference: -1.1635406238497126e-07\n",
      "Background count: 10\n",
      "Background min diff: -6.878419876098633\n",
      "Background max diff: 6.620946884155273\n"
     ]
    },
    {
     "data": {
      "application/vnd.jupyter.widget-view+json": {
       "model_id": "ed4bfe94083b4e749287790210b81e4f",
       "version_major": 2,
       "version_minor": 0
      },
      "text/plain": [
       "  0%|          | 0/1 [00:00<?, ?it/s]"
      ]
     },
     "metadata": {},
     "output_type": "display_data"
    },
    {
     "name": "stdout",
     "output_type": "stream",
     "text": [
      "SHAP values difference: -1.340767452617797e-07\n",
      "SHAP values correction 2\n",
      "Background count: 10\n",
      "Background min diff: -5.3084564208984375\n",
      "Background max diff: 5.326572418212891\n"
     ]
    },
    {
     "data": {
      "application/vnd.jupyter.widget-view+json": {
       "model_id": "4e1e6b43c38c44c99542becdfc31c75f",
       "version_major": 2,
       "version_minor": 0
      },
      "text/plain": [
       "  0%|          | 0/1 [00:00<?, ?it/s]"
      ]
     },
     "metadata": {},
     "output_type": "display_data"
    },
    {
     "name": "stdout",
     "output_type": "stream",
     "text": [
      "SHAP values difference: -1.7942643282253812e-07\n",
      "Background count: 10\n",
      "Background min diff: -6.714290618896484\n",
      "Background max diff: 6.746467590332031\n"
     ]
    },
    {
     "data": {
      "application/vnd.jupyter.widget-view+json": {
       "model_id": "b6688fe5108145809a175abb8c9f3338",
       "version_major": 2,
       "version_minor": 0
      },
      "text/plain": [
       "  0%|          | 0/1 [00:00<?, ?it/s]"
      ]
     },
     "metadata": {},
     "output_type": "display_data"
    },
    {
     "name": "stdout",
     "output_type": "stream",
     "text": [
      "SHAP values difference: 5.947015893070784e-07\n",
      "SHAP values correction 2\n",
      "Background count: 10\n",
      "Background min diff: -4.160491943359375\n",
      "Background max diff: 4.1721649169921875\n"
     ]
    },
    {
     "data": {
      "application/vnd.jupyter.widget-view+json": {
       "model_id": "b2709ca8873349759416fd601f9e597b",
       "version_major": 2,
       "version_minor": 0
      },
      "text/plain": [
       "  0%|          | 0/1 [00:00<?, ?it/s]"
      ]
     },
     "metadata": {},
     "output_type": "display_data"
    },
    {
     "name": "stdout",
     "output_type": "stream",
     "text": [
      "SHAP values difference: 6.369477212331276e-08\n",
      "SHAP values correction 2\n",
      "Background count: 10\n",
      "Background min diff: -2.750507354736328\n",
      "Background max diff: 4.001834869384766\n"
     ]
    },
    {
     "data": {
      "application/vnd.jupyter.widget-view+json": {
       "model_id": "db589f9311c3452185452082e7fc84a4",
       "version_major": 2,
       "version_minor": 0
      },
      "text/plain": [
       "  0%|          | 0/1 [00:00<?, ?it/s]"
      ]
     },
     "metadata": {},
     "output_type": "display_data"
    },
    {
     "name": "stdout",
     "output_type": "stream",
     "text": [
      "SHAP values difference: -3.2474803290938326e-07\n",
      "Background count: 10\n",
      "Background min diff: -6.515491485595703\n",
      "Background max diff: 6.2806243896484375\n"
     ]
    },
    {
     "data": {
      "application/vnd.jupyter.widget-view+json": {
       "model_id": "59f568d0e7f3406c939e8e93852ecc46",
       "version_major": 2,
       "version_minor": 0
      },
      "text/plain": [
       "  0%|          | 0/1 [00:00<?, ?it/s]"
      ]
     },
     "metadata": {},
     "output_type": "display_data"
    },
    {
     "name": "stdout",
     "output_type": "stream",
     "text": [
      "SHAP values difference: 1.9599390554958518e-08\n",
      "Background count: 10\n",
      "Background min diff: -5.185853958129883\n",
      "Background max diff: 6.397016525268555\n"
     ]
    },
    {
     "data": {
      "application/vnd.jupyter.widget-view+json": {
       "model_id": "0ab9cd5bd3b842dea8f40e64ebaae9cb",
       "version_major": 2,
       "version_minor": 0
      },
      "text/plain": [
       "  0%|          | 0/1 [00:00<?, ?it/s]"
      ]
     },
     "metadata": {},
     "output_type": "display_data"
    },
    {
     "name": "stdout",
     "output_type": "stream",
     "text": [
      "SHAP values difference: 8.608861179482119e-08\n",
      "Background count: 10\n",
      "Background min diff: -4.566486358642578\n",
      "Background max diff: 5.366325378417969\n"
     ]
    },
    {
     "data": {
      "application/vnd.jupyter.widget-view+json": {
       "model_id": "6258b61002b34d1fa9b0533ee88d790d",
       "version_major": 2,
       "version_minor": 0
      },
      "text/plain": [
       "  0%|          | 0/1 [00:00<?, ?it/s]"
      ]
     },
     "metadata": {},
     "output_type": "display_data"
    },
    {
     "name": "stdout",
     "output_type": "stream",
     "text": [
      "SHAP values difference: -7.669675072818904e-08\n",
      "SHAP values correction 2\n",
      "Background count: 10\n",
      "Background min diff: -5.376903533935547\n",
      "Background max diff: 5.258125305175781\n"
     ]
    },
    {
     "data": {
      "application/vnd.jupyter.widget-view+json": {
       "model_id": "51550f2743e5446b80a2ad3e29724890",
       "version_major": 2,
       "version_minor": 0
      },
      "text/plain": [
       "  0%|          | 0/1 [00:00<?, ?it/s]"
      ]
     },
     "metadata": {},
     "output_type": "display_data"
    },
    {
     "name": "stdout",
     "output_type": "stream",
     "text": [
      "SHAP values difference: 1.1008790323785433e-07\n",
      "Background count: 10\n",
      "Background min diff: -4.306842803955078\n",
      "Background max diff: 4.252132415771484\n"
     ]
    },
    {
     "data": {
      "application/vnd.jupyter.widget-view+json": {
       "model_id": "5a24b25e20444472a0bd146c8efb6928",
       "version_major": 2,
       "version_minor": 0
      },
      "text/plain": [
       "  0%|          | 0/1 [00:00<?, ?it/s]"
      ]
     },
     "metadata": {},
     "output_type": "display_data"
    },
    {
     "name": "stdout",
     "output_type": "stream",
     "text": [
      "SHAP values difference: -1.7853908218512515e-07\n",
      "SHAP values correction 2\n",
      "Background count: 10\n",
      "Background min diff: -6.542469024658203\n",
      "Background max diff: 5.799468994140625\n"
     ]
    },
    {
     "data": {
      "application/vnd.jupyter.widget-view+json": {
       "model_id": "7a76ea54b4c1493a9d8ad5f04060a3cb",
       "version_major": 2,
       "version_minor": 0
      },
      "text/plain": [
       "  0%|          | 0/1 [00:00<?, ?it/s]"
      ]
     },
     "metadata": {},
     "output_type": "display_data"
    },
    {
     "name": "stdout",
     "output_type": "stream",
     "text": [
      "SHAP values difference: -9.756648466918705e-08\n",
      "Background count: 10\n",
      "Background min diff: -3.5669708251953125\n",
      "Background max diff: 2.5693130493164062\n"
     ]
    },
    {
     "data": {
      "application/vnd.jupyter.widget-view+json": {
       "model_id": "13a86a5d366d462db4c37d66a45378be",
       "version_major": 2,
       "version_minor": 0
      },
      "text/plain": [
       "  0%|          | 0/1 [00:00<?, ?it/s]"
      ]
     },
     "metadata": {},
     "output_type": "display_data"
    },
    {
     "name": "stdout",
     "output_type": "stream",
     "text": [
      "SHAP values difference: 1.493307522082432e-07\n",
      "Background count: 10\n",
      "Background min diff: -6.656795501708984\n",
      "Background max diff: 6.803962707519531\n"
     ]
    },
    {
     "data": {
      "application/vnd.jupyter.widget-view+json": {
       "model_id": "3701e21a59e547338e81dfcc0e21a2b0",
       "version_major": 2,
       "version_minor": 0
      },
      "text/plain": [
       "  0%|          | 0/1 [00:00<?, ?it/s]"
      ]
     },
     "metadata": {},
     "output_type": "display_data"
    },
    {
     "name": "stdout",
     "output_type": "stream",
     "text": [
      "SHAP values difference: 7.305235527610421e-09\n",
      "Background count: 10\n",
      "Background min diff: -4.584419250488281\n",
      "Background max diff: 4.269081115722656\n"
     ]
    },
    {
     "data": {
      "application/vnd.jupyter.widget-view+json": {
       "model_id": "95b5da036a704aa9bdd994b8be2a0ab1",
       "version_major": 2,
       "version_minor": 0
      },
      "text/plain": [
       "  0%|          | 0/1 [00:00<?, ?it/s]"
      ]
     },
     "metadata": {},
     "output_type": "display_data"
    },
    {
     "name": "stdout",
     "output_type": "stream",
     "text": [
      "SHAP values difference: 1.0164449282257237e-08\n",
      "SHAP values correction 2\n",
      "Background count: 10\n",
      "Background min diff: -4.603843688964844\n",
      "Background max diff: 5.095294952392578\n"
     ]
    },
    {
     "data": {
      "application/vnd.jupyter.widget-view+json": {
       "model_id": "5c3c81701daf4847b77632d98d8bc47f",
       "version_major": 2,
       "version_minor": 0
      },
      "text/plain": [
       "  0%|          | 0/1 [00:00<?, ?it/s]"
      ]
     },
     "metadata": {},
     "output_type": "display_data"
    },
    {
     "name": "stdout",
     "output_type": "stream",
     "text": [
      "SHAP values difference: 1.809344229997123e-09\n",
      "SHAP values correction 2\n",
      "Background count: 10\n",
      "Background min diff: -3.5977439880371094\n",
      "Background max diff: 4.862827301025391\n"
     ]
    },
    {
     "data": {
      "application/vnd.jupyter.widget-view+json": {
       "model_id": "6159e911398249c0ad98ffa5ec4386d7",
       "version_major": 2,
       "version_minor": 0
      },
      "text/plain": [
       "  0%|          | 0/1 [00:00<?, ?it/s]"
      ]
     },
     "metadata": {},
     "output_type": "display_data"
    },
    {
     "name": "stdout",
     "output_type": "stream",
     "text": [
      "SHAP values difference: -3.329458930778628e-08\n",
      "SHAP values correction 2\n",
      "Background count: 10\n",
      "Background min diff: -1.7695903778076172\n",
      "Background max diff: 11.729776382446289\n"
     ]
    },
    {
     "data": {
      "application/vnd.jupyter.widget-view+json": {
       "model_id": "284ddee61760414c8e7b745e89e7c8e0",
       "version_major": 2,
       "version_minor": 0
      },
      "text/plain": [
       "  0%|          | 0/1 [00:00<?, ?it/s]"
      ]
     },
     "metadata": {},
     "output_type": "display_data"
    },
    {
     "name": "stdout",
     "output_type": "stream",
     "text": [
      "SHAP values difference: -2.0721750493279956e-07\n",
      "SHAP values correction 2\n",
      "Background count: 10\n",
      "Background min diff: -2.453521728515625\n",
      "Background max diff: 3.8250961303710938\n"
     ]
    },
    {
     "data": {
      "application/vnd.jupyter.widget-view+json": {
       "model_id": "070e140c7cf14ad087a316816c0d9cc7",
       "version_major": 2,
       "version_minor": 0
      },
      "text/plain": [
       "  0%|          | 0/1 [00:00<?, ?it/s]"
      ]
     },
     "metadata": {},
     "output_type": "display_data"
    },
    {
     "name": "stdout",
     "output_type": "stream",
     "text": [
      "SHAP values difference: 8.317791433398725e-08\n",
      "SHAP values correction 1\n",
      "SHAP values correction 2\n",
      "Background count: 10\n",
      "Background min diff: -3.2239341735839844\n",
      "Background max diff: 3.698627471923828\n"
     ]
    },
    {
     "data": {
      "application/vnd.jupyter.widget-view+json": {
       "model_id": "e8025154e30f4218b577b66831b2e388",
       "version_major": 2,
       "version_minor": 0
      },
      "text/plain": [
       "  0%|          | 0/1 [00:00<?, ?it/s]"
      ]
     },
     "metadata": {},
     "output_type": "display_data"
    },
    {
     "name": "stdout",
     "output_type": "stream",
     "text": [
      "SHAP values difference: -1.0058877153440449e-07\n",
      "SHAP values correction 1\n",
      "SHAP values correction 2\n",
      "Background count: 10\n",
      "Background min diff: -4.467853546142578\n",
      "Background max diff: 2.421741485595703\n"
     ]
    },
    {
     "data": {
      "application/vnd.jupyter.widget-view+json": {
       "model_id": "363e0ffad20e4b25acaa41266f31e55e",
       "version_major": 2,
       "version_minor": 0
      },
      "text/plain": [
       "  0%|          | 0/1 [00:00<?, ?it/s]"
      ]
     },
     "metadata": {},
     "output_type": "display_data"
    },
    {
     "name": "stdout",
     "output_type": "stream",
     "text": [
      "SHAP values difference: 1.7695312948262654e-07\n",
      "SHAP values correction 2\n",
      "Background count: 10\n",
      "Background min diff: -6.410247802734375\n",
      "Background max diff: 7.089118957519531\n"
     ]
    },
    {
     "data": {
      "application/vnd.jupyter.widget-view+json": {
       "model_id": "fdca47a9489c4b7888be2011b9aae605",
       "version_major": 2,
       "version_minor": 0
      },
      "text/plain": [
       "  0%|          | 0/1 [00:00<?, ?it/s]"
      ]
     },
     "metadata": {},
     "output_type": "display_data"
    },
    {
     "name": "stdout",
     "output_type": "stream",
     "text": [
      "SHAP values difference: 3.206217149553936e-07\n",
      "SHAP values correction 2\n",
      "Background count: 10\n",
      "Background min diff: -2.6095809936523438\n",
      "Background max diff: 3.669036865234375\n"
     ]
    },
    {
     "data": {
      "application/vnd.jupyter.widget-view+json": {
       "model_id": "e24cac871f984f6c9a18a9d44b169ccb",
       "version_major": 2,
       "version_minor": 0
      },
      "text/plain": [
       "  0%|          | 0/1 [00:00<?, ?it/s]"
      ]
     },
     "metadata": {},
     "output_type": "display_data"
    },
    {
     "name": "stdout",
     "output_type": "stream",
     "text": [
      "SHAP values difference: 5.2555129137488166e-08\n",
      "SHAP values correction 2\n"
     ]
    },
    {
     "name": "stderr",
     "output_type": "stream",
     "text": [
      "C:\\Users\\user\\AppData\\Local\\Temp\\ipykernel_46640\\4091489871.py:313: FutureWarning: A value is trying to be set on a copy of a DataFrame or Series through chained assignment using an inplace method.\n",
      "The behavior will change in pandas 3.0. This inplace method will never work because the intermediate object on which we are setting values always behaves as a copy.\n",
      "\n",
      "For example, when doing 'df[col].method(value, inplace=True)', try using 'df.method({col: value}, inplace=True)' or df[col] = df[col].method(value) instead, to perform the operation inplace on the original object.\n",
      "\n",
      "\n",
      "  df_fig['Group'].replace(groups_rename, inplace=True)\n",
      "C:\\Users\\user\\AppData\\Local\\Temp\\ipykernel_46640\\4091489871.py:316: FutureWarning: \n",
      "\n",
      "Passing `palette` without assigning `hue` is deprecated and will be removed in v0.14.0. Assign the `x` variable to `hue` and set `legend=False` for the same effect.\n",
      "\n",
      "  violin = sns.violinplot(\n",
      "C:\\Users\\user\\AppData\\Local\\Temp\\ipykernel_46640\\4091489871.py:316: FutureWarning: \n",
      "\n",
      "The `scale` parameter has been renamed and will be removed in v0.15.0. Pass `density_norm='width'` for the same effect.\n",
      "  violin = sns.violinplot(\n",
      "C:\\Users\\user\\AppData\\Local\\Temp\\ipykernel_46640\\4091489871.py:341: FutureWarning: A value is trying to be set on a copy of a DataFrame or Series through chained assignment using an inplace method.\n",
      "The behavior will change in pandas 3.0. This inplace method will never work because the intermediate object on which we are setting values always behaves as a copy.\n",
      "\n",
      "For example, when doing 'df[col].method(value, inplace=True)', try using 'df.method({col: value}, inplace=True)' or df[col] = df[col].method(value) instead, to perform the operation inplace on the original object.\n",
      "\n",
      "\n",
      "  df_fig['Group'].replace(groups_rename, inplace=True)\n",
      "C:\\Users\\user\\AppData\\Local\\Temp\\ipykernel_46640\\4091489871.py:344: FutureWarning: \n",
      "\n",
      "Passing `palette` without assigning `hue` is deprecated and will be removed in v0.14.0. Assign the `x` variable to `hue` and set `legend=False` for the same effect.\n",
      "\n",
      "  violin = sns.violinplot(\n",
      "C:\\Users\\user\\AppData\\Local\\Temp\\ipykernel_46640\\4091489871.py:344: FutureWarning: \n",
      "\n",
      "The `scale` parameter has been renamed and will be removed in v0.15.0. Pass `density_norm='width'` for the same effect.\n",
      "  violin = sns.violinplot(\n",
      "c:\\Users\\user\\anaconda3\\envs\\py311\\Lib\\site-packages\\statannotations\\Annotator.py:825: UserWarning: Annotator was reconfigured without applying the test (again) which will probably lead to unexpected results\n",
      "  warnings.warn(\"Annotator was reconfigured without applying the \"\n",
      "c:\\Users\\user\\anaconda3\\envs\\py311\\Lib\\site-packages\\lightning_fabric\\utilities\\cloud_io.py:56: You are using `torch.load` with `weights_only=False` (the current default value), which uses the default pickle module implicitly. It is possible to construct malicious pickle data which will execute arbitrary code during unpickling (See https://github.com/pytorch/pytorch/blob/main/SECURITY.md#untrusted-models for more details). In a future release, the default value for `weights_only` will be flipped to `True`. This limits the functions that could be executed during unpickling. Arbitrary objects will no longer be allowed to be loaded via this mode unless they are explicitly allowlisted by the user via `torch.serialization.add_safe_globals`. We recommend you start setting `weights_only=True` for any use case where you don't have full control of the loaded file. Please open an issue on GitHub for any issues related to this experimental feature.\n"
     ]
    },
    {
     "data": {
      "text/html": [
       "<pre style=\"white-space:pre;overflow-x:auto;line-height:normal;font-family:Menlo,'DejaVu Sans Mono',consolas,'Courier New',monospace\"><span style=\"color: #008080; text-decoration-color: #008080; font-weight: bold\">2025</span>-<span style=\"color: #008080; text-decoration-color: #008080; font-weight: bold\">10</span>-<span style=\"color: #008080; text-decoration-color: #008080; font-weight: bold\">22</span> <span style=\"color: #00ff00; text-decoration-color: #00ff00; font-weight: bold\">14:04:19</span>,<span style=\"color: #008080; text-decoration-color: #008080; font-weight: bold\">106</span> - <span style=\"font-weight: bold\">{</span>pytorch_tabular.tabular_model:<span style=\"color: #008080; text-decoration-color: #008080; font-weight: bold\">165</span><span style=\"font-weight: bold\">}</span> - INFO - Experiment Tracking is turned off           \n",
       "</pre>\n"
      ],
      "text/plain": [
       "\u001b[1;36m2025\u001b[0m-\u001b[1;36m10\u001b[0m-\u001b[1;36m22\u001b[0m \u001b[1;92m14:04:19\u001b[0m,\u001b[1;36m106\u001b[0m - \u001b[1m{\u001b[0mpytorch_tabular.tabular_model:\u001b[1;36m165\u001b[0m\u001b[1m}\u001b[0m - INFO - Experiment Tracking is turned off           \n"
      ]
     },
     "metadata": {},
     "output_type": "display_data"
    },
    {
     "data": {
      "text/html": [
       "<pre style=\"white-space:pre;overflow-x:auto;line-height:normal;font-family:Menlo,'DejaVu Sans Mono',consolas,'Courier New',monospace\"><span style=\"color: #008080; text-decoration-color: #008080; font-weight: bold\">2025</span>-<span style=\"color: #008080; text-decoration-color: #008080; font-weight: bold\">10</span>-<span style=\"color: #008080; text-decoration-color: #008080; font-weight: bold\">22</span> <span style=\"color: #00ff00; text-decoration-color: #00ff00; font-weight: bold\">14:04:19</span>,<span style=\"color: #008080; text-decoration-color: #008080; font-weight: bold\">116</span> - <span style=\"font-weight: bold\">{</span>pytorch_tabular.tabular_model:<span style=\"color: #008080; text-decoration-color: #008080; font-weight: bold\">340</span><span style=\"font-weight: bold\">}</span> - INFO - Preparing the Trainer                       \n",
       "</pre>\n"
      ],
      "text/plain": [
       "\u001b[1;36m2025\u001b[0m-\u001b[1;36m10\u001b[0m-\u001b[1;36m22\u001b[0m \u001b[1;92m14:04:19\u001b[0m,\u001b[1;36m116\u001b[0m - \u001b[1m{\u001b[0mpytorch_tabular.tabular_model:\u001b[1;36m340\u001b[0m\u001b[1m}\u001b[0m - INFO - Preparing the Trainer                       \n"
      ]
     },
     "metadata": {},
     "output_type": "display_data"
    },
    {
     "name": "stdout",
     "output_type": "stream",
     "text": [
      "Background count: 10\n",
      "Background min diff: 3.091341018676758\n",
      "Background max diff: 15.616647720336914\n"
     ]
    },
    {
     "data": {
      "application/vnd.jupyter.widget-view+json": {
       "model_id": "f93361d2ead64dac98c2b9812e27ea36",
       "version_major": 2,
       "version_minor": 0
      },
      "text/plain": [
       "  0%|          | 0/1 [00:00<?, ?it/s]"
      ]
     },
     "metadata": {},
     "output_type": "display_data"
    },
    {
     "name": "stdout",
     "output_type": "stream",
     "text": [
      "SHAP values difference: -5.575789430167788e-08\n",
      "SHAP values correction 2\n",
      "Background count: 10\n",
      "Background min diff: 2.779226303100586\n",
      "Background max diff: 15.304533004760742\n"
     ]
    },
    {
     "data": {
      "application/vnd.jupyter.widget-view+json": {
       "model_id": "f7c68a8103d4493ba2ef3419bd5c4ba9",
       "version_major": 2,
       "version_minor": 0
      },
      "text/plain": [
       "  0%|          | 0/1 [00:00<?, ?it/s]"
      ]
     },
     "metadata": {},
     "output_type": "display_data"
    },
    {
     "name": "stdout",
     "output_type": "stream",
     "text": [
      "SHAP values difference: 3.212076471470482e-08\n",
      "SHAP values correction 2\n",
      "Background count: 10\n",
      "Background min diff: -2.1954479217529297\n",
      "Background max diff: 10.329858779907227\n"
     ]
    },
    {
     "data": {
      "application/vnd.jupyter.widget-view+json": {
       "model_id": "256e448bd1854917894a1ee70b2b498b",
       "version_major": 2,
       "version_minor": 0
      },
      "text/plain": [
       "  0%|          | 0/1 [00:00<?, ?it/s]"
      ]
     },
     "metadata": {},
     "output_type": "display_data"
    },
    {
     "name": "stdout",
     "output_type": "stream",
     "text": [
      "SHAP values difference: 1.9131507222880373e-07\n",
      "SHAP values correction 2\n",
      "Background count: 10\n",
      "Background min diff: -6.194404602050781\n",
      "Background max diff: 2.9054031372070312\n"
     ]
    },
    {
     "data": {
      "application/vnd.jupyter.widget-view+json": {
       "model_id": "edf75c711aaa446cbb8bf720d0b32a88",
       "version_major": 2,
       "version_minor": 0
      },
      "text/plain": [
       "  0%|          | 0/1 [00:00<?, ?it/s]"
      ]
     },
     "metadata": {},
     "output_type": "display_data"
    },
    {
     "name": "stdout",
     "output_type": "stream",
     "text": [
      "SHAP values difference: -4.392388852636486e-08\n",
      "Background count: 10\n",
      "Background min diff: -2.9510955810546875\n",
      "Background max diff: 9.574211120605469\n"
     ]
    },
    {
     "data": {
      "application/vnd.jupyter.widget-view+json": {
       "model_id": "35479d6b16a445b39935dbbe4cbea172",
       "version_major": 2,
       "version_minor": 0
      },
      "text/plain": [
       "  0%|          | 0/1 [00:00<?, ?it/s]"
      ]
     },
     "metadata": {},
     "output_type": "display_data"
    },
    {
     "name": "stdout",
     "output_type": "stream",
     "text": [
      "SHAP values difference: 1.279280290589213e-07\n",
      "Background count: 10\n",
      "Background min diff: -10.629165649414062\n",
      "Background max diff: 1.50677490234375\n"
     ]
    },
    {
     "data": {
      "application/vnd.jupyter.widget-view+json": {
       "model_id": "fe4bacef98ba487d8c7d223ca5da814d",
       "version_major": 2,
       "version_minor": 0
      },
      "text/plain": [
       "  0%|          | 0/1 [00:00<?, ?it/s]"
      ]
     },
     "metadata": {},
     "output_type": "display_data"
    },
    {
     "name": "stdout",
     "output_type": "stream",
     "text": [
      "SHAP values difference: -3.008331450615742e-08\n",
      "Background count: 10\n",
      "Background min diff: -4.220394134521484\n",
      "Background max diff: 3.119709014892578\n"
     ]
    },
    {
     "data": {
      "application/vnd.jupyter.widget-view+json": {
       "model_id": "927a67bed23b4982a8ccafb5130528cf",
       "version_major": 2,
       "version_minor": 0
      },
      "text/plain": [
       "  0%|          | 0/1 [00:00<?, ?it/s]"
      ]
     },
     "metadata": {},
     "output_type": "display_data"
    },
    {
     "name": "stdout",
     "output_type": "stream",
     "text": [
      "SHAP values difference: -5.645249245844752e-08\n",
      "Background count: 10\n",
      "Background min diff: -3.19775390625\n",
      "Background max diff: 5.508171081542969\n"
     ]
    },
    {
     "data": {
      "application/vnd.jupyter.widget-view+json": {
       "model_id": "f444d4fd7bac4841b2f6b1e70c3e79e3",
       "version_major": 2,
       "version_minor": 0
      },
      "text/plain": [
       "  0%|          | 0/1 [00:00<?, ?it/s]"
      ]
     },
     "metadata": {},
     "output_type": "display_data"
    },
    {
     "name": "stdout",
     "output_type": "stream",
     "text": [
      "SHAP values difference: -6.72872388918222e-08\n",
      "SHAP values correction 2\n",
      "Background count: 10\n",
      "Background min diff: -16.597679138183594\n",
      "Background max diff: -4.461738586425781\n"
     ]
    },
    {
     "data": {
      "application/vnd.jupyter.widget-view+json": {
       "model_id": "0118f9c0fd17460ebdde8f7d19aa2f20",
       "version_major": 2,
       "version_minor": 0
      },
      "text/plain": [
       "  0%|          | 0/1 [00:00<?, ?it/s]"
      ]
     },
     "metadata": {},
     "output_type": "display_data"
    },
    {
     "name": "stdout",
     "output_type": "stream",
     "text": [
      "SHAP values difference: -6.382895509915443e-07\n",
      "SHAP values correction 2\n",
      "Background count: 10\n",
      "Background min diff: -4.809051513671875\n",
      "Background max diff: 4.2907562255859375\n"
     ]
    },
    {
     "data": {
      "application/vnd.jupyter.widget-view+json": {
       "model_id": "67e1858ff82843258f7db4c77354f074",
       "version_major": 2,
       "version_minor": 0
      },
      "text/plain": [
       "  0%|          | 0/1 [00:00<?, ?it/s]"
      ]
     },
     "metadata": {},
     "output_type": "display_data"
    },
    {
     "name": "stdout",
     "output_type": "stream",
     "text": [
      "SHAP values difference: 4.991142077415134e-08\n",
      "Background count: 10\n",
      "Background min diff: -6.728336334228516\n",
      "Background max diff: 6.701404571533203\n"
     ]
    },
    {
     "data": {
      "application/vnd.jupyter.widget-view+json": {
       "model_id": "9271676a673b45d6b72ca59eef92f062",
       "version_major": 2,
       "version_minor": 0
      },
      "text/plain": [
       "  0%|          | 0/1 [00:00<?, ?it/s]"
      ]
     },
     "metadata": {},
     "output_type": "display_data"
    },
    {
     "name": "stdout",
     "output_type": "stream",
     "text": [
      "SHAP values difference: -7.6334806919931e-08\n",
      "Background count: 10\n",
      "Background min diff: -5.878997802734375\n",
      "Background max diff: 6.2569427490234375\n"
     ]
    },
    {
     "data": {
      "application/vnd.jupyter.widget-view+json": {
       "model_id": "3f64baac633042d09f7c8699bf6725c8",
       "version_major": 2,
       "version_minor": 0
      },
      "text/plain": [
       "  0%|          | 0/1 [00:00<?, ?it/s]"
      ]
     },
     "metadata": {},
     "output_type": "display_data"
    },
    {
     "name": "stdout",
     "output_type": "stream",
     "text": [
      "SHAP values difference: 4.324228441987543e-08\n",
      "SHAP values correction 2\n",
      "Background count: 10\n",
      "Background min diff: -6.087677001953125\n",
      "Background max diff: 7.342063903808594\n"
     ]
    },
    {
     "data": {
      "application/vnd.jupyter.widget-view+json": {
       "model_id": "a93c0a1e9824428e8c721bf8d3f0d698",
       "version_major": 2,
       "version_minor": 0
      },
      "text/plain": [
       "  0%|          | 0/1 [00:00<?, ?it/s]"
      ]
     },
     "metadata": {},
     "output_type": "display_data"
    },
    {
     "name": "stdout",
     "output_type": "stream",
     "text": [
      "SHAP values difference: 8.564931519572383e-08\n",
      "Background count: 10\n",
      "Background min diff: -5.568523406982422\n",
      "Background max diff: 5.336978912353516\n"
     ]
    },
    {
     "data": {
      "application/vnd.jupyter.widget-view+json": {
       "model_id": "15848e53e20340a3be2b151c4aea23a2",
       "version_major": 2,
       "version_minor": 0
      },
      "text/plain": [
       "  0%|          | 0/1 [00:00<?, ?it/s]"
      ]
     },
     "metadata": {},
     "output_type": "display_data"
    },
    {
     "name": "stdout",
     "output_type": "stream",
     "text": [
      "SHAP values difference: 3.404502990633773e-08\n",
      "Background count: 10\n",
      "Background min diff: -5.489124298095703\n",
      "Background max diff: 5.416378021240234\n"
     ]
    },
    {
     "data": {
      "application/vnd.jupyter.widget-view+json": {
       "model_id": "02cfb85b84fb4dc0a5d40ca17352008f",
       "version_major": 2,
       "version_minor": 0
      },
      "text/plain": [
       "  0%|          | 0/1 [00:00<?, ?it/s]"
      ]
     },
     "metadata": {},
     "output_type": "display_data"
    },
    {
     "name": "stdout",
     "output_type": "stream",
     "text": [
      "SHAP values difference: -1.2805097604484672e-07\n",
      "SHAP values correction 2\n",
      "Background count: 10\n",
      "Background min diff: 3.9893569946289062\n",
      "Background max diff: 16.514663696289062\n"
     ]
    },
    {
     "data": {
      "application/vnd.jupyter.widget-view+json": {
       "model_id": "ff55169fe2684de396d65f0f8b52b1ac",
       "version_major": 2,
       "version_minor": 0
      },
      "text/plain": [
       "  0%|          | 0/1 [00:00<?, ?it/s]"
      ]
     },
     "metadata": {},
     "output_type": "display_data"
    },
    {
     "name": "stdout",
     "output_type": "stream",
     "text": [
      "SHAP values difference: -6.009999964362578e-08\n",
      "Background count: 10\n",
      "Background min diff: -6.812286376953125\n",
      "Background max diff: 7.318328857421875\n"
     ]
    },
    {
     "data": {
      "application/vnd.jupyter.widget-view+json": {
       "model_id": "15b68aac3e5e4b3fa732af34118374e1",
       "version_major": 2,
       "version_minor": 0
      },
      "text/plain": [
       "  0%|          | 0/1 [00:00<?, ?it/s]"
      ]
     },
     "metadata": {},
     "output_type": "display_data"
    },
    {
     "name": "stdout",
     "output_type": "stream",
     "text": [
      "SHAP values difference: 8.033963272424671e-08\n",
      "SHAP values correction 2\n",
      "Background count: 10\n",
      "Background min diff: 0.08518028259277344\n",
      "Background max diff: 12.61048698425293\n"
     ]
    },
    {
     "data": {
      "application/vnd.jupyter.widget-view+json": {
       "model_id": "bed3c56d0f9245939fce5a15f1acc0f2",
       "version_major": 2,
       "version_minor": 0
      },
      "text/plain": [
       "  0%|          | 0/1 [00:00<?, ?it/s]"
      ]
     },
     "metadata": {},
     "output_type": "display_data"
    },
    {
     "name": "stdout",
     "output_type": "stream",
     "text": [
      "SHAP values difference: 1.0777515768722878e-08\n",
      "Background count: 10\n",
      "Background min diff: -6.410068511962891\n",
      "Background max diff: 6.814167022705078\n"
     ]
    },
    {
     "data": {
      "application/vnd.jupyter.widget-view+json": {
       "model_id": "878e64fc87d54e30b231e741b1527985",
       "version_major": 2,
       "version_minor": 0
      },
      "text/plain": [
       "  0%|          | 0/1 [00:00<?, ?it/s]"
      ]
     },
     "metadata": {},
     "output_type": "display_data"
    },
    {
     "name": "stdout",
     "output_type": "stream",
     "text": [
      "SHAP values difference: -7.241147903513934e-08\n",
      "SHAP values correction 2\n",
      "Background count: 10\n",
      "Background min diff: -2.1215267181396484\n",
      "Background max diff: 10.403779983520508\n"
     ]
    },
    {
     "data": {
      "application/vnd.jupyter.widget-view+json": {
       "model_id": "cfe776a5f98242f8939dc903880a7de3",
       "version_major": 2,
       "version_minor": 0
      },
      "text/plain": [
       "  0%|          | 0/1 [00:00<?, ?it/s]"
      ]
     },
     "metadata": {},
     "output_type": "display_data"
    },
    {
     "name": "stdout",
     "output_type": "stream",
     "text": [
      "SHAP values difference: 1.358456014344256e-07\n",
      "Background count: 10\n",
      "Background min diff: -6.926025390625\n",
      "Background max diff: 7.238189697265625\n"
     ]
    },
    {
     "data": {
      "application/vnd.jupyter.widget-view+json": {
       "model_id": "2ee832ec846349e883ff15a36320d6c0",
       "version_major": 2,
       "version_minor": 0
      },
      "text/plain": [
       "  0%|          | 0/1 [00:00<?, ?it/s]"
      ]
     },
     "metadata": {},
     "output_type": "display_data"
    },
    {
     "name": "stdout",
     "output_type": "stream",
     "text": [
      "SHAP values difference: 3.765631539920378e-08\n",
      "SHAP values correction 2\n",
      "Background count: 10\n",
      "Background min diff: 3.5074939727783203\n",
      "Background max diff: 16.032800674438477\n"
     ]
    },
    {
     "data": {
      "application/vnd.jupyter.widget-view+json": {
       "model_id": "1215db4e500e4440b2e69942482c055b",
       "version_major": 2,
       "version_minor": 0
      },
      "text/plain": [
       "  0%|          | 0/1 [00:00<?, ?it/s]"
      ]
     },
     "metadata": {},
     "output_type": "display_data"
    },
    {
     "name": "stdout",
     "output_type": "stream",
     "text": [
      "SHAP values difference: 1.1511288278143184e-07\n",
      "Background count: 10\n",
      "Background min diff: -6.162593841552734\n",
      "Background max diff: 6.362712860107422\n"
     ]
    },
    {
     "data": {
      "application/vnd.jupyter.widget-view+json": {
       "model_id": "9a2b97711f234091be3d0ca3e111cba6",
       "version_major": 2,
       "version_minor": 0
      },
      "text/plain": [
       "  0%|          | 0/1 [00:00<?, ?it/s]"
      ]
     },
     "metadata": {},
     "output_type": "display_data"
    },
    {
     "name": "stdout",
     "output_type": "stream",
     "text": [
      "SHAP values difference: -1.1366750563013284e-07\n",
      "SHAP values correction 2\n",
      "Background count: 10\n",
      "Background min diff: -3.5496177673339844\n",
      "Background max diff: 3.790485382080078\n"
     ]
    },
    {
     "data": {
      "application/vnd.jupyter.widget-view+json": {
       "model_id": "4e03054aceb843ae96216e5ad8d8324f",
       "version_major": 2,
       "version_minor": 0
      },
      "text/plain": [
       "  0%|          | 0/1 [00:00<?, ?it/s]"
      ]
     },
     "metadata": {},
     "output_type": "display_data"
    },
    {
     "name": "stdout",
     "output_type": "stream",
     "text": [
      "SHAP values difference: 1.6169277472499743e-07\n",
      "SHAP values correction 2\n",
      "Background count: 10\n",
      "Background min diff: -8.016120910644531\n",
      "Background max diff: 4.509185791015625\n"
     ]
    },
    {
     "data": {
      "application/vnd.jupyter.widget-view+json": {
       "model_id": "bd6622e0148945f7b76a267b7b405362",
       "version_major": 2,
       "version_minor": 0
      },
      "text/plain": [
       "  0%|          | 0/1 [00:00<?, ?it/s]"
      ]
     },
     "metadata": {},
     "output_type": "display_data"
    },
    {
     "name": "stdout",
     "output_type": "stream",
     "text": [
      "SHAP values difference: 1.44879076735549e-07\n",
      "Background count: 10\n",
      "Background min diff: -5.649875640869141\n",
      "Background max diff: 7.119449615478516\n"
     ]
    },
    {
     "data": {
      "application/vnd.jupyter.widget-view+json": {
       "model_id": "dcfdf6d1ec1c46c992455100a4b34ef9",
       "version_major": 2,
       "version_minor": 0
      },
      "text/plain": [
       "  0%|          | 0/1 [00:00<?, ?it/s]"
      ]
     },
     "metadata": {},
     "output_type": "display_data"
    },
    {
     "name": "stdout",
     "output_type": "stream",
     "text": [
      "SHAP values difference: 8.562358644326196e-08\n",
      "Background count: 10\n",
      "Background min diff: -5.800205230712891\n",
      "Background max diff: 7.629535675048828\n"
     ]
    },
    {
     "data": {
      "application/vnd.jupyter.widget-view+json": {
       "model_id": "5bbbf1f89ba04e5f897f90d8a22dd4b2",
       "version_major": 2,
       "version_minor": 0
      },
      "text/plain": [
       "  0%|          | 0/1 [00:00<?, ?it/s]"
      ]
     },
     "metadata": {},
     "output_type": "display_data"
    },
    {
     "name": "stdout",
     "output_type": "stream",
     "text": [
      "SHAP values difference: 1.523427073379935e-08\n",
      "Background count: 10\n",
      "Background min diff: -6.323387145996094\n",
      "Background max diff: 6.4459381103515625\n"
     ]
    },
    {
     "data": {
      "application/vnd.jupyter.widget-view+json": {
       "model_id": "44a64b121e394704887aa08b3f607768",
       "version_major": 2,
       "version_minor": 0
      },
      "text/plain": [
       "  0%|          | 0/1 [00:00<?, ?it/s]"
      ]
     },
     "metadata": {},
     "output_type": "display_data"
    },
    {
     "name": "stdout",
     "output_type": "stream",
     "text": [
      "SHAP values difference: -3.419027816420339e-08\n",
      "SHAP values correction 2\n",
      "Background count: 10\n",
      "Background min diff: -18.90021514892578\n",
      "Background max diff: -6.764274597167969\n"
     ]
    },
    {
     "data": {
      "application/vnd.jupyter.widget-view+json": {
       "model_id": "973b452e7fda497b9997bf288a989c66",
       "version_major": 2,
       "version_minor": 0
      },
      "text/plain": [
       "  0%|          | 0/1 [00:00<?, ?it/s]"
      ]
     },
     "metadata": {},
     "output_type": "display_data"
    },
    {
     "name": "stdout",
     "output_type": "stream",
     "text": [
      "SHAP values difference: -2.2211846584241357e-08\n",
      "SHAP values correction 2\n",
      "Background count: 10\n",
      "Background min diff: -3.3343944549560547\n",
      "Background max diff: 9.190912246704102\n"
     ]
    },
    {
     "data": {
      "application/vnd.jupyter.widget-view+json": {
       "model_id": "9fabb4b11ac54655bc5841b6eeed10ca",
       "version_major": 2,
       "version_minor": 0
      },
      "text/plain": [
       "  0%|          | 0/1 [00:00<?, ?it/s]"
      ]
     },
     "metadata": {},
     "output_type": "display_data"
    },
    {
     "name": "stdout",
     "output_type": "stream",
     "text": [
      "SHAP values difference: 1.5144799903055173e-07\n",
      "Background count: 10\n",
      "Background min diff: -4.867931365966797\n",
      "Background max diff: 3.5311317443847656\n"
     ]
    },
    {
     "data": {
      "application/vnd.jupyter.widget-view+json": {
       "model_id": "f851d7fdd4fb42228f6a0d94cfb72fb1",
       "version_major": 2,
       "version_minor": 0
      },
      "text/plain": [
       "  0%|          | 0/1 [00:00<?, ?it/s]"
      ]
     },
     "metadata": {},
     "output_type": "display_data"
    },
    {
     "name": "stdout",
     "output_type": "stream",
     "text": [
      "SHAP values difference: -2.531308371800378e-07\n",
      "Background count: 10\n",
      "Background min diff: -5.081001281738281\n",
      "Background max diff: 4.918952941894531\n"
     ]
    },
    {
     "data": {
      "application/vnd.jupyter.widget-view+json": {
       "model_id": "87f82357eb3c4839b809c7b293dce678",
       "version_major": 2,
       "version_minor": 0
      },
      "text/plain": [
       "  0%|          | 0/1 [00:00<?, ?it/s]"
      ]
     },
     "metadata": {},
     "output_type": "display_data"
    },
    {
     "name": "stdout",
     "output_type": "stream",
     "text": [
      "SHAP values difference: 8.670328810467254e-08\n",
      "Background count: 10\n",
      "Background min diff: -5.420063018798828\n",
      "Background max diff: 4.557140350341797\n"
     ]
    },
    {
     "data": {
      "application/vnd.jupyter.widget-view+json": {
       "model_id": "ddd0df41066349a89548ea95bb8ec429",
       "version_major": 2,
       "version_minor": 0
      },
      "text/plain": [
       "  0%|          | 0/1 [00:00<?, ?it/s]"
      ]
     },
     "metadata": {},
     "output_type": "display_data"
    },
    {
     "name": "stdout",
     "output_type": "stream",
     "text": [
      "SHAP values difference: 4.250909491076982e-08\n",
      "SHAP values correction 2\n",
      "Background count: 10\n",
      "Background min diff: -7.295932769775391\n",
      "Background max diff: 4.605030059814453\n"
     ]
    },
    {
     "data": {
      "application/vnd.jupyter.widget-view+json": {
       "model_id": "12515c450e57431abdc5b1d000ae12d5",
       "version_major": 2,
       "version_minor": 0
      },
      "text/plain": [
       "  0%|          | 0/1 [00:00<?, ?it/s]"
      ]
     },
     "metadata": {},
     "output_type": "display_data"
    },
    {
     "name": "stdout",
     "output_type": "stream",
     "text": [
      "SHAP values difference: 1.047200020032335e-07\n",
      "SHAP values correction 2\n",
      "Background count: 10\n",
      "Background min diff: -4.623191833496094\n",
      "Background max diff: 3.7741317749023438\n"
     ]
    },
    {
     "data": {
      "application/vnd.jupyter.widget-view+json": {
       "model_id": "66334c0674f045be99163ae37d3114f6",
       "version_major": 2,
       "version_minor": 0
      },
      "text/plain": [
       "  0%|          | 0/1 [00:00<?, ?it/s]"
      ]
     },
     "metadata": {},
     "output_type": "display_data"
    },
    {
     "name": "stdout",
     "output_type": "stream",
     "text": [
      "SHAP values difference: 1.0504813729994567e-07\n",
      "SHAP values correction 2\n",
      "Background count: 10\n",
      "Background min diff: -4.297050476074219\n",
      "Background max diff: 3.0430526733398438\n"
     ]
    },
    {
     "data": {
      "application/vnd.jupyter.widget-view+json": {
       "model_id": "e655ae07e7154c27a6a2c28ce87b06b3",
       "version_major": 2,
       "version_minor": 0
      },
      "text/plain": [
       "  0%|          | 0/1 [00:00<?, ?it/s]"
      ]
     },
     "metadata": {},
     "output_type": "display_data"
    },
    {
     "name": "stdout",
     "output_type": "stream",
     "text": [
      "SHAP values difference: -1.5859680502217088e-07\n",
      "Background count: 10\n",
      "Background min diff: -3.50067138671875\n",
      "Background max diff: 4.8966522216796875\n"
     ]
    },
    {
     "data": {
      "application/vnd.jupyter.widget-view+json": {
       "model_id": "4e64476e89474820a127010b6c560bd8",
       "version_major": 2,
       "version_minor": 0
      },
      "text/plain": [
       "  0%|          | 0/1 [00:00<?, ?it/s]"
      ]
     },
     "metadata": {},
     "output_type": "display_data"
    },
    {
     "name": "stdout",
     "output_type": "stream",
     "text": [
      "SHAP values difference: 1.847776509578125e-07\n",
      "Background count: 10\n",
      "Background min diff: -6.927589416503906\n",
      "Background max diff: 5.208351135253906\n"
     ]
    },
    {
     "data": {
      "application/vnd.jupyter.widget-view+json": {
       "model_id": "519bc4bd2f8c4f489604c10aca1de089",
       "version_major": 2,
       "version_minor": 0
      },
      "text/plain": [
       "  0%|          | 0/1 [00:00<?, ?it/s]"
      ]
     },
     "metadata": {},
     "output_type": "display_data"
    },
    {
     "name": "stdout",
     "output_type": "stream",
     "text": [
      "SHAP values difference: 3.1124054444831017e-09\n",
      "SHAP values correction 2\n",
      "Background count: 10\n",
      "Background min diff: -4.7317047119140625\n",
      "Background max diff: 4.7192230224609375\n"
     ]
    },
    {
     "data": {
      "application/vnd.jupyter.widget-view+json": {
       "model_id": "1001cb59afb940f7b7532061f37f3496",
       "version_major": 2,
       "version_minor": 0
      },
      "text/plain": [
       "  0%|          | 0/1 [00:00<?, ?it/s]"
      ]
     },
     "metadata": {},
     "output_type": "display_data"
    },
    {
     "name": "stdout",
     "output_type": "stream",
     "text": [
      "SHAP values difference: 4.3883870759486854e-08\n",
      "SHAP values correction 2\n",
      "Background count: 10\n",
      "Background min diff: -2.5229263305664062\n",
      "Background max diff: 4.817176818847656\n"
     ]
    },
    {
     "data": {
      "application/vnd.jupyter.widget-view+json": {
       "model_id": "beef44f081ea44938fbcb8ffea3d89c6",
       "version_major": 2,
       "version_minor": 0
      },
      "text/plain": [
       "  0%|          | 0/1 [00:00<?, ?it/s]"
      ]
     },
     "metadata": {},
     "output_type": "display_data"
    },
    {
     "name": "stdout",
     "output_type": "stream",
     "text": [
      "SHAP values difference: -1.3926965891641885e-07\n",
      "Background count: 10\n",
      "Background min diff: -4.801898956298828\n",
      "Background max diff: 5.014354705810547\n"
     ]
    },
    {
     "data": {
      "application/vnd.jupyter.widget-view+json": {
       "model_id": "5fd35b62ca564994b8c059addeaf2382",
       "version_major": 2,
       "version_minor": 0
      },
      "text/plain": [
       "  0%|          | 0/1 [00:00<?, ?it/s]"
      ]
     },
     "metadata": {},
     "output_type": "display_data"
    },
    {
     "name": "stdout",
     "output_type": "stream",
     "text": [
      "SHAP values difference: -4.411111831359449e-08\n",
      "Background count: 10\n",
      "Background min diff: -4.386379241943359\n",
      "Background max diff: 4.211696624755859\n"
     ]
    },
    {
     "data": {
      "application/vnd.jupyter.widget-view+json": {
       "model_id": "6995706dab1b4a7fa02c1552104fddd0",
       "version_major": 2,
       "version_minor": 0
      },
      "text/plain": [
       "  0%|          | 0/1 [00:00<?, ?it/s]"
      ]
     },
     "metadata": {},
     "output_type": "display_data"
    },
    {
     "name": "stdout",
     "output_type": "stream",
     "text": [
      "SHAP values difference: -3.883633552526078e-07\n",
      "SHAP values correction 2\n",
      "Background count: 10\n",
      "Background min diff: -6.071502685546875\n",
      "Background max diff: 6.697822570800781\n"
     ]
    },
    {
     "data": {
      "application/vnd.jupyter.widget-view+json": {
       "model_id": "e0f5c76c9e6548819456a70a07543846",
       "version_major": 2,
       "version_minor": 0
      },
      "text/plain": [
       "  0%|          | 0/1 [00:00<?, ?it/s]"
      ]
     },
     "metadata": {},
     "output_type": "display_data"
    },
    {
     "name": "stdout",
     "output_type": "stream",
     "text": [
      "SHAP values difference: -1.5514649476244813e-07\n",
      "Background count: 10\n",
      "Background min diff: -4.449703216552734\n",
      "Background max diff: 5.001224517822266\n"
     ]
    },
    {
     "data": {
      "application/vnd.jupyter.widget-view+json": {
       "model_id": "26595a74729244eba1c2dcdb7fb9626f",
       "version_major": 2,
       "version_minor": 0
      },
      "text/plain": [
       "  0%|          | 0/1 [00:00<?, ?it/s]"
      ]
     },
     "metadata": {},
     "output_type": "display_data"
    },
    {
     "name": "stdout",
     "output_type": "stream",
     "text": [
      "SHAP values difference: -5.695870441968509e-08\n",
      "SHAP values correction 2\n",
      "Background count: 10\n",
      "Background min diff: -4.378276824951172\n",
      "Background max diff: 3.4992637634277344\n"
     ]
    },
    {
     "data": {
      "application/vnd.jupyter.widget-view+json": {
       "model_id": "d5bda82c76af47fdbac5985133a0498a",
       "version_major": 2,
       "version_minor": 0
      },
      "text/plain": [
       "  0%|          | 0/1 [00:00<?, ?it/s]"
      ]
     },
     "metadata": {},
     "output_type": "display_data"
    },
    {
     "name": "stdout",
     "output_type": "stream",
     "text": [
      "SHAP values difference: -4.4666963816553107e-07\n",
      "Background count: 10\n",
      "Background min diff: -4.217655181884766\n",
      "Background max diff: 3.122447967529297\n"
     ]
    },
    {
     "data": {
      "application/vnd.jupyter.widget-view+json": {
       "model_id": "13f3f25545734e9d9385b0dcc146a505",
       "version_major": 2,
       "version_minor": 0
      },
      "text/plain": [
       "  0%|          | 0/1 [00:00<?, ?it/s]"
      ]
     },
     "metadata": {},
     "output_type": "display_data"
    },
    {
     "name": "stdout",
     "output_type": "stream",
     "text": [
      "SHAP values difference: 1.987794640001539e-07\n",
      "SHAP values correction 2\n",
      "Background count: 10\n",
      "Background min diff: -1.5055103302001953\n",
      "Background max diff: 11.019796371459961\n"
     ]
    },
    {
     "data": {
      "application/vnd.jupyter.widget-view+json": {
       "model_id": "f38d8f02a5c547938820ac72ace13890",
       "version_major": 2,
       "version_minor": 0
      },
      "text/plain": [
       "  0%|          | 0/1 [00:00<?, ?it/s]"
      ]
     },
     "metadata": {},
     "output_type": "display_data"
    },
    {
     "name": "stdout",
     "output_type": "stream",
     "text": [
      "SHAP values difference: 6.486309400699497e-08\n",
      "SHAP values correction 2\n",
      "Background count: 10\n",
      "Background min diff: -6.753711700439453\n",
      "Background max diff: 6.449237823486328\n"
     ]
    },
    {
     "data": {
      "application/vnd.jupyter.widget-view+json": {
       "model_id": "486251ca74c24ec49290bb56558c141f",
       "version_major": 2,
       "version_minor": 0
      },
      "text/plain": [
       "  0%|          | 0/1 [00:00<?, ?it/s]"
      ]
     },
     "metadata": {},
     "output_type": "display_data"
    },
    {
     "name": "stdout",
     "output_type": "stream",
     "text": [
      "SHAP values difference: 7.1748580410258e-08\n",
      "Background count: 10\n",
      "Background min diff: -4.44322395324707\n",
      "Background max diff: 8.082082748413086\n"
     ]
    },
    {
     "data": {
      "application/vnd.jupyter.widget-view+json": {
       "model_id": "06b29a012e4041e4b2198a8367181875",
       "version_major": 2,
       "version_minor": 0
      },
      "text/plain": [
       "  0%|          | 0/1 [00:00<?, ?it/s]"
      ]
     },
     "metadata": {},
     "output_type": "display_data"
    },
    {
     "name": "stdout",
     "output_type": "stream",
     "text": [
      "SHAP values difference: 1.8551721225890105e-07\n",
      "SHAP values correction 2\n",
      "Background count: 10\n",
      "Background min diff: -5.305690765380859\n",
      "Background max diff: 5.599811553955078\n"
     ]
    },
    {
     "data": {
      "application/vnd.jupyter.widget-view+json": {
       "model_id": "6b815fd17b754130b890ee8d50e0d1fb",
       "version_major": 2,
       "version_minor": 0
      },
      "text/plain": [
       "  0%|          | 0/1 [00:00<?, ?it/s]"
      ]
     },
     "metadata": {},
     "output_type": "display_data"
    },
    {
     "name": "stdout",
     "output_type": "stream",
     "text": [
      "SHAP values difference: 1.0128812633070083e-07\n",
      "Background count: 10\n",
      "Background min diff: -4.276866912841797\n",
      "Background max diff: 4.321208953857422\n"
     ]
    },
    {
     "data": {
      "application/vnd.jupyter.widget-view+json": {
       "model_id": "4fe68192d54949faa97094d5e0612bba",
       "version_major": 2,
       "version_minor": 0
      },
      "text/plain": [
       "  0%|          | 0/1 [00:00<?, ?it/s]"
      ]
     },
     "metadata": {},
     "output_type": "display_data"
    },
    {
     "name": "stdout",
     "output_type": "stream",
     "text": [
      "SHAP values difference: 1.1687199474863519e-07\n",
      "Background count: 10\n",
      "Background min diff: -3.5030746459960938\n",
      "Background max diff: 3.8370285034179688\n"
     ]
    },
    {
     "data": {
      "application/vnd.jupyter.widget-view+json": {
       "model_id": "65f98867503347e1a04280e8b9ff4023",
       "version_major": 2,
       "version_minor": 0
      },
      "text/plain": [
       "  0%|          | 0/1 [00:00<?, ?it/s]"
      ]
     },
     "metadata": {},
     "output_type": "display_data"
    },
    {
     "name": "stdout",
     "output_type": "stream",
     "text": [
      "SHAP values difference: 3.0577081844285203e-07\n",
      "SHAP values correction 2\n",
      "Background count: 10\n",
      "Background min diff: -6.303779602050781\n",
      "Background max diff: 5.907829284667969\n"
     ]
    },
    {
     "data": {
      "application/vnd.jupyter.widget-view+json": {
       "model_id": "d0597830238c455c822a0897b2c498c4",
       "version_major": 2,
       "version_minor": 0
      },
      "text/plain": [
       "  0%|          | 0/1 [00:00<?, ?it/s]"
      ]
     },
     "metadata": {},
     "output_type": "display_data"
    },
    {
     "name": "stdout",
     "output_type": "stream",
     "text": [
      "SHAP values difference: -5.351122744912118e-08\n",
      "Background count: 10\n",
      "Background min diff: -5.647304534912109\n",
      "Background max diff: 4.329898834228516\n"
     ]
    },
    {
     "data": {
      "application/vnd.jupyter.widget-view+json": {
       "model_id": "033e24b0632c4137808cdd438c4d239d",
       "version_major": 2,
       "version_minor": 0
      },
      "text/plain": [
       "  0%|          | 0/1 [00:00<?, ?it/s]"
      ]
     },
     "metadata": {},
     "output_type": "display_data"
    },
    {
     "name": "stdout",
     "output_type": "stream",
     "text": [
      "SHAP values difference: 1.763003929511342e-07\n",
      "Background count: 10\n",
      "Background min diff: -3.4094772338867188\n",
      "Background max diff: 4.153846740722656\n"
     ]
    },
    {
     "data": {
      "application/vnd.jupyter.widget-view+json": {
       "model_id": "9427bba419be41aa8abe6804a069d6cd",
       "version_major": 2,
       "version_minor": 0
      },
      "text/plain": [
       "  0%|          | 0/1 [00:00<?, ?it/s]"
      ]
     },
     "metadata": {},
     "output_type": "display_data"
    },
    {
     "name": "stdout",
     "output_type": "stream",
     "text": [
      "SHAP values difference: -1.4808469783744727e-08\n",
      "SHAP values correction 1\n",
      "SHAP values correction 2\n",
      "Background count: 10\n",
      "Background min diff: -6.770397186279297\n",
      "Background max diff: 5.754909515380859\n"
     ]
    },
    {
     "data": {
      "application/vnd.jupyter.widget-view+json": {
       "model_id": "3c0485c6df954eb8ac22cf55796dfbc8",
       "version_major": 2,
       "version_minor": 0
      },
      "text/plain": [
       "  0%|          | 0/1 [00:00<?, ?it/s]"
      ]
     },
     "metadata": {},
     "output_type": "display_data"
    },
    {
     "name": "stdout",
     "output_type": "stream",
     "text": [
      "SHAP values difference: 6.41791164324168e-07\n",
      "SHAP values correction 1\n",
      "SHAP values correction 2\n",
      "Background count: 10\n",
      "Background min diff: -5.964286804199219\n",
      "Background max diff: 6.247322082519531\n"
     ]
    },
    {
     "data": {
      "application/vnd.jupyter.widget-view+json": {
       "model_id": "3b9bc745d4fb420896daffb52b178f20",
       "version_major": 2,
       "version_minor": 0
      },
      "text/plain": [
       "  0%|          | 0/1 [00:00<?, ?it/s]"
      ]
     },
     "metadata": {},
     "output_type": "display_data"
    },
    {
     "name": "stdout",
     "output_type": "stream",
     "text": [
      "SHAP values difference: 7.255550826812396e-08\n",
      "Background count: 10\n",
      "Background min diff: -5.954517364501953\n",
      "Background max diff: 6.570789337158203\n"
     ]
    },
    {
     "data": {
      "application/vnd.jupyter.widget-view+json": {
       "model_id": "c6399bd5db6c417a988ff4d7fa076464",
       "version_major": 2,
       "version_minor": 0
      },
      "text/plain": [
       "  0%|          | 0/1 [00:00<?, ?it/s]"
      ]
     },
     "metadata": {},
     "output_type": "display_data"
    },
    {
     "name": "stdout",
     "output_type": "stream",
     "text": [
      "SHAP values difference: 2.645977836834845e-07\n",
      "Background count: 10\n",
      "Background min diff: -2.8536949157714844\n",
      "Background max diff: 4.709629058837891\n"
     ]
    },
    {
     "data": {
      "application/vnd.jupyter.widget-view+json": {
       "model_id": "1e4465081f3f408996562aa2010a7102",
       "version_major": 2,
       "version_minor": 0
      },
      "text/plain": [
       "  0%|          | 0/1 [00:00<?, ?it/s]"
      ]
     },
     "metadata": {},
     "output_type": "display_data"
    },
    {
     "name": "stdout",
     "output_type": "stream",
     "text": [
      "SHAP values difference: 3.198660607495185e-07\n",
      "Background count: 10\n",
      "Background min diff: -3.249774932861328\n",
      "Background max diff: 5.456150054931641\n"
     ]
    },
    {
     "data": {
      "application/vnd.jupyter.widget-view+json": {
       "model_id": "3a3ca199b2634f2f909bc2e8e23bb6c4",
       "version_major": 2,
       "version_minor": 0
      },
      "text/plain": [
       "  0%|          | 0/1 [00:00<?, ?it/s]"
      ]
     },
     "metadata": {},
     "output_type": "display_data"
    },
    {
     "name": "stdout",
     "output_type": "stream",
     "text": [
      "SHAP values difference: 4.955718395649455e-07\n",
      "SHAP values correction 1\n",
      "SHAP values correction 2\n",
      "Background count: 10\n",
      "Background min diff: -3.483234405517578\n",
      "Background max diff: 3.8563880920410156\n"
     ]
    },
    {
     "data": {
      "application/vnd.jupyter.widget-view+json": {
       "model_id": "b2230f0fbb244abaadcb76f671048962",
       "version_major": 2,
       "version_minor": 0
      },
      "text/plain": [
       "  0%|          | 0/1 [00:00<?, ?it/s]"
      ]
     },
     "metadata": {},
     "output_type": "display_data"
    },
    {
     "name": "stdout",
     "output_type": "stream",
     "text": [
      "SHAP values difference: -2.569595327628349e-07\n",
      "SHAP values correction 2\n",
      "Background count: 10\n",
      "Background min diff: -3.7508010864257812\n",
      "Background max diff: 4.9551239013671875\n"
     ]
    },
    {
     "data": {
      "application/vnd.jupyter.widget-view+json": {
       "model_id": "5a4a863a49f948ed92905093d19b5fa2",
       "version_major": 2,
       "version_minor": 0
      },
      "text/plain": [
       "  0%|          | 0/1 [00:00<?, ?it/s]"
      ]
     },
     "metadata": {},
     "output_type": "display_data"
    },
    {
     "name": "stdout",
     "output_type": "stream",
     "text": [
      "SHAP values difference: 3.253612526066263e-07\n",
      "Background count: 10\n",
      "Background min diff: -4.192501068115234\n",
      "Background max diff: 3.3708229064941406\n"
     ]
    },
    {
     "data": {
      "application/vnd.jupyter.widget-view+json": {
       "model_id": "9a86a6ded94e4430b77f756cbbdb4bf7",
       "version_major": 2,
       "version_minor": 0
      },
      "text/plain": [
       "  0%|          | 0/1 [00:00<?, ?it/s]"
      ]
     },
     "metadata": {},
     "output_type": "display_data"
    },
    {
     "name": "stdout",
     "output_type": "stream",
     "text": [
      "SHAP values difference: 4.2016701229385944e-08\n",
      "SHAP values correction 2\n",
      "Background count: 10\n",
      "Background min diff: -4.6639251708984375\n",
      "Background max diff: 2.676177978515625\n"
     ]
    },
    {
     "data": {
      "application/vnd.jupyter.widget-view+json": {
       "model_id": "c6055a8d590047d1854c299195d841b3",
       "version_major": 2,
       "version_minor": 0
      },
      "text/plain": [
       "  0%|          | 0/1 [00:00<?, ?it/s]"
      ]
     },
     "metadata": {},
     "output_type": "display_data"
    },
    {
     "name": "stdout",
     "output_type": "stream",
     "text": [
      "SHAP values difference: 2.0805131839551905e-08\n",
      "Background count: 10\n",
      "Background min diff: -5.155065536499023\n",
      "Background max diff: 7.370241165161133\n"
     ]
    },
    {
     "data": {
      "application/vnd.jupyter.widget-view+json": {
       "model_id": "76d097b9573d4db98cdc74066e26a378",
       "version_major": 2,
       "version_minor": 0
      },
      "text/plain": [
       "  0%|          | 0/1 [00:00<?, ?it/s]"
      ]
     },
     "metadata": {},
     "output_type": "display_data"
    },
    {
     "name": "stdout",
     "output_type": "stream",
     "text": [
      "SHAP values difference: -5.012715575958282e-08\n",
      "Background count: 10\n",
      "Background min diff: -2.492809295654297\n",
      "Background max diff: 4.847293853759766\n"
     ]
    },
    {
     "data": {
      "application/vnd.jupyter.widget-view+json": {
       "model_id": "121e584460324b3ea267fde6ac0283bb",
       "version_major": 2,
       "version_minor": 0
      },
      "text/plain": [
       "  0%|          | 0/1 [00:00<?, ?it/s]"
      ]
     },
     "metadata": {},
     "output_type": "display_data"
    },
    {
     "name": "stdout",
     "output_type": "stream",
     "text": [
      "SHAP values difference: -1.6719054585223603e-07\n",
      "Background count: 10\n",
      "Background min diff: -6.067909240722656\n",
      "Background max diff: 6.068031311035156\n"
     ]
    },
    {
     "data": {
      "application/vnd.jupyter.widget-view+json": {
       "model_id": "87519186986449a0986f9750045f5fce",
       "version_major": 2,
       "version_minor": 0
      },
      "text/plain": [
       "  0%|          | 0/1 [00:00<?, ?it/s]"
      ]
     },
     "metadata": {},
     "output_type": "display_data"
    },
    {
     "name": "stdout",
     "output_type": "stream",
     "text": [
      "SHAP values difference: 7.478329777654835e-08\n",
      "SHAP values correction 1\n",
      "SHAP values correction 2\n",
      "Background count: 10\n",
      "Background min diff: -4.409076690673828\n",
      "Background max diff: 3.9318199157714844\n"
     ]
    },
    {
     "data": {
      "application/vnd.jupyter.widget-view+json": {
       "model_id": "8593fba9f6d6490e84208ec72584058e",
       "version_major": 2,
       "version_minor": 0
      },
      "text/plain": [
       "  0%|          | 0/1 [00:00<?, ?it/s]"
      ]
     },
     "metadata": {},
     "output_type": "display_data"
    },
    {
     "name": "stdout",
     "output_type": "stream",
     "text": [
      "SHAP values difference: 5.354027621251589e-08\n",
      "SHAP values correction 2\n",
      "Background count: 10\n",
      "Background min diff: -3.6584548950195312\n",
      "Background max diff: 3.6811676025390625\n"
     ]
    },
    {
     "data": {
      "application/vnd.jupyter.widget-view+json": {
       "model_id": "21b5b5c90b6e4cff8ad321e3f2b42c45",
       "version_major": 2,
       "version_minor": 0
      },
      "text/plain": [
       "  0%|          | 0/1 [00:00<?, ?it/s]"
      ]
     },
     "metadata": {},
     "output_type": "display_data"
    },
    {
     "name": "stdout",
     "output_type": "stream",
     "text": [
      "SHAP values difference: -1.0989435850206064e-07\n",
      "Background count: 10\n",
      "Background min diff: -5.4190216064453125\n",
      "Background max diff: 4.2371063232421875\n"
     ]
    },
    {
     "data": {
      "application/vnd.jupyter.widget-view+json": {
       "model_id": "a24c0561ff8a4e25ac75508b9716f9e4",
       "version_major": 2,
       "version_minor": 0
      },
      "text/plain": [
       "  0%|          | 0/1 [00:00<?, ?it/s]"
      ]
     },
     "metadata": {},
     "output_type": "display_data"
    },
    {
     "name": "stdout",
     "output_type": "stream",
     "text": [
      "SHAP values difference: 5.109922796009414e-08\n",
      "Background count: 10\n",
      "Background min diff: -6.006536483764648\n",
      "Background max diff: 6.518770217895508\n"
     ]
    },
    {
     "data": {
      "application/vnd.jupyter.widget-view+json": {
       "model_id": "fa1847f5f74343b5b3f807c743f91c5d",
       "version_major": 2,
       "version_minor": 0
      },
      "text/plain": [
       "  0%|          | 0/1 [00:00<?, ?it/s]"
      ]
     },
     "metadata": {},
     "output_type": "display_data"
    },
    {
     "name": "stdout",
     "output_type": "stream",
     "text": [
      "SHAP values difference: -1.1306162761570704e-07\n",
      "Background count: 10\n",
      "Background min diff: -4.856498718261719\n",
      "Background max diff: 5.143455505371094\n"
     ]
    },
    {
     "data": {
      "application/vnd.jupyter.widget-view+json": {
       "model_id": "95861523fd72466287a1d115c22e4e41",
       "version_major": 2,
       "version_minor": 0
      },
      "text/plain": [
       "  0%|          | 0/1 [00:00<?, ?it/s]"
      ]
     },
     "metadata": {},
     "output_type": "display_data"
    },
    {
     "name": "stdout",
     "output_type": "stream",
     "text": [
      "SHAP values difference: 4.695742628069155e-08\n",
      "SHAP values correction 2\n",
      "Background count: 10\n",
      "Background min diff: -2.5612564086914062\n",
      "Background max diff: 4.778846740722656\n"
     ]
    },
    {
     "data": {
      "application/vnd.jupyter.widget-view+json": {
       "model_id": "e5844addc5404c968e838f718e4816db",
       "version_major": 2,
       "version_minor": 0
      },
      "text/plain": [
       "  0%|          | 0/1 [00:00<?, ?it/s]"
      ]
     },
     "metadata": {},
     "output_type": "display_data"
    },
    {
     "name": "stdout",
     "output_type": "stream",
     "text": [
      "SHAP values difference: -6.535088914461085e-09\n",
      "Background count: 10\n",
      "Background min diff: -5.006034851074219\n",
      "Background max diff: 5.392677307128906\n"
     ]
    },
    {
     "data": {
      "application/vnd.jupyter.widget-view+json": {
       "model_id": "59c62c9bd02841069380096ab579052c",
       "version_major": 2,
       "version_minor": 0
      },
      "text/plain": [
       "  0%|          | 0/1 [00:00<?, ?it/s]"
      ]
     },
     "metadata": {},
     "output_type": "display_data"
    },
    {
     "name": "stdout",
     "output_type": "stream",
     "text": [
      "SHAP values difference: -6.419379694477811e-08\n",
      "Background count: 10\n",
      "Background min diff: -4.3792877197265625\n",
      "Background max diff: 4.1787109375\n"
     ]
    },
    {
     "data": {
      "application/vnd.jupyter.widget-view+json": {
       "model_id": "722d3799c29a4f5ca42c311a95b70c19",
       "version_major": 2,
       "version_minor": 0
      },
      "text/plain": [
       "  0%|          | 0/1 [00:00<?, ?it/s]"
      ]
     },
     "metadata": {},
     "output_type": "display_data"
    },
    {
     "name": "stdout",
     "output_type": "stream",
     "text": [
      "SHAP values difference: 2.6710815781427755e-08\n",
      "SHAP values correction 2\n",
      "Background count: 10\n",
      "Background min diff: -7.304019927978516\n",
      "Background max diff: 5.898929595947266\n"
     ]
    },
    {
     "data": {
      "application/vnd.jupyter.widget-view+json": {
       "model_id": "551a95d394f245688ed0233afacf1d4f",
       "version_major": 2,
       "version_minor": 0
      },
      "text/plain": [
       "  0%|          | 0/1 [00:00<?, ?it/s]"
      ]
     },
     "metadata": {},
     "output_type": "display_data"
    },
    {
     "name": "stdout",
     "output_type": "stream",
     "text": [
      "SHAP values difference: 4.370146200471936e-08\n",
      "Background count: 10\n",
      "Background min diff: -6.010414123535156\n",
      "Background max diff: 6.125526428222656\n"
     ]
    },
    {
     "data": {
      "application/vnd.jupyter.widget-view+json": {
       "model_id": "855d499e696345f8b16ba2df080819a0",
       "version_major": 2,
       "version_minor": 0
      },
      "text/plain": [
       "  0%|          | 0/1 [00:00<?, ?it/s]"
      ]
     },
     "metadata": {},
     "output_type": "display_data"
    },
    {
     "name": "stdout",
     "output_type": "stream",
     "text": [
      "SHAP values difference: -5.409428993630172e-08\n",
      "Background count: 10\n",
      "Background min diff: -4.230831146240234\n",
      "Background max diff: 3.3324928283691406\n"
     ]
    },
    {
     "data": {
      "application/vnd.jupyter.widget-view+json": {
       "model_id": "7bb0fe6b99ba4e848b4e5080516157df",
       "version_major": 2,
       "version_minor": 0
      },
      "text/plain": [
       "  0%|          | 0/1 [00:00<?, ?it/s]"
      ]
     },
     "metadata": {},
     "output_type": "display_data"
    },
    {
     "name": "stdout",
     "output_type": "stream",
     "text": [
      "SHAP values difference: -1.2272625937725934e-07\n",
      "SHAP values correction 2\n",
      "Background count: 10\n",
      "Background min diff: -3.133464813232422\n",
      "Background max diff: 4.206638336181641\n"
     ]
    },
    {
     "data": {
      "application/vnd.jupyter.widget-view+json": {
       "model_id": "b42a3c3fc15040b0b24179e062985ebf",
       "version_major": 2,
       "version_minor": 0
      },
      "text/plain": [
       "  0%|          | 0/1 [00:00<?, ?it/s]"
      ]
     },
     "metadata": {},
     "output_type": "display_data"
    },
    {
     "name": "stdout",
     "output_type": "stream",
     "text": [
      "SHAP values difference: -2.3078615329907848e-07\n",
      "SHAP values correction 2\n",
      "Background count: 10\n",
      "Background min diff: -3.1840667724609375\n",
      "Background max diff: 5.521858215332031\n"
     ]
    },
    {
     "data": {
      "application/vnd.jupyter.widget-view+json": {
       "model_id": "b8b065fffaf547a984009ad474d66e75",
       "version_major": 2,
       "version_minor": 0
      },
      "text/plain": [
       "  0%|          | 0/1 [00:00<?, ?it/s]"
      ]
     },
     "metadata": {},
     "output_type": "display_data"
    },
    {
     "name": "stdout",
     "output_type": "stream",
     "text": [
      "SHAP values difference: 1.1111445630263006e-07\n",
      "Background count: 10\n",
      "Background min diff: -0.04623603820800781\n",
      "Background max diff: 12.479070663452148\n"
     ]
    },
    {
     "data": {
      "application/vnd.jupyter.widget-view+json": {
       "model_id": "1551d1e652c34da19cdd79dc1873b6fd",
       "version_major": 2,
       "version_minor": 0
      },
      "text/plain": [
       "  0%|          | 0/1 [00:00<?, ?it/s]"
      ]
     },
     "metadata": {},
     "output_type": "display_data"
    },
    {
     "name": "stdout",
     "output_type": "stream",
     "text": [
      "SHAP values difference: 1.4055876462748529e-08\n",
      "Background count: 10\n",
      "Background min diff: -6.798595428466797\n",
      "Background max diff: 7.332019805908203\n"
     ]
    },
    {
     "data": {
      "application/vnd.jupyter.widget-view+json": {
       "model_id": "cc83e59299fd4c18bf9d5cf4eca210b6",
       "version_major": 2,
       "version_minor": 0
      },
      "text/plain": [
       "  0%|          | 0/1 [00:00<?, ?it/s]"
      ]
     },
     "metadata": {},
     "output_type": "display_data"
    },
    {
     "name": "stdout",
     "output_type": "stream",
     "text": [
      "SHAP values difference: -1.3639847296076368e-07\n",
      "SHAP values correction 2\n",
      "Background count: 10\n",
      "Background min diff: -7.7694549560546875\n",
      "Background max diff: 5.433494567871094\n"
     ]
    },
    {
     "data": {
      "application/vnd.jupyter.widget-view+json": {
       "model_id": "9b3bfa62ef8a437197952566384124b7",
       "version_major": 2,
       "version_minor": 0
      },
      "text/plain": [
       "  0%|          | 0/1 [00:00<?, ?it/s]"
      ]
     },
     "metadata": {},
     "output_type": "display_data"
    },
    {
     "name": "stdout",
     "output_type": "stream",
     "text": [
      "SHAP values difference: 2.539937398182701e-07\n",
      "Background count: 10\n",
      "Background min diff: -7.241172790527344\n",
      "Background max diff: 4.6597900390625\n"
     ]
    },
    {
     "data": {
      "application/vnd.jupyter.widget-view+json": {
       "model_id": "e0b29054f6d14241946af2f4d8f386b9",
       "version_major": 2,
       "version_minor": 0
      },
      "text/plain": [
       "  0%|          | 0/1 [00:00<?, ?it/s]"
      ]
     },
     "metadata": {},
     "output_type": "display_data"
    },
    {
     "name": "stdout",
     "output_type": "stream",
     "text": [
      "SHAP values difference: -1.4458733055278117e-07\n",
      "SHAP values correction 2\n",
      "Background count: 10\n",
      "Background min diff: -4.686893463134766\n",
      "Background max diff: 7.838413238525391\n"
     ]
    },
    {
     "data": {
      "application/vnd.jupyter.widget-view+json": {
       "model_id": "e746e9c968e54a389332c8786c186407",
       "version_major": 2,
       "version_minor": 0
      },
      "text/plain": [
       "  0%|          | 0/1 [00:00<?, ?it/s]"
      ]
     },
     "metadata": {},
     "output_type": "display_data"
    },
    {
     "name": "stdout",
     "output_type": "stream",
     "text": [
      "SHAP values difference: 5.645137690635238e-09\n",
      "Background count: 10\n",
      "Background min diff: -6.954654693603516\n",
      "Background max diff: 7.175960540771484\n"
     ]
    },
    {
     "data": {
      "application/vnd.jupyter.widget-view+json": {
       "model_id": "4964490145184b1a8af05db393f78fdf",
       "version_major": 2,
       "version_minor": 0
      },
      "text/plain": [
       "  0%|          | 0/1 [00:00<?, ?it/s]"
      ]
     },
     "metadata": {},
     "output_type": "display_data"
    },
    {
     "name": "stdout",
     "output_type": "stream",
     "text": [
      "SHAP values difference: 9.187704819169085e-09\n"
     ]
    },
    {
     "name": "stderr",
     "output_type": "stream",
     "text": [
      "C:\\Users\\user\\AppData\\Local\\Temp\\ipykernel_46640\\4091489871.py:313: FutureWarning: A value is trying to be set on a copy of a DataFrame or Series through chained assignment using an inplace method.\n",
      "The behavior will change in pandas 3.0. This inplace method will never work because the intermediate object on which we are setting values always behaves as a copy.\n",
      "\n",
      "For example, when doing 'df[col].method(value, inplace=True)', try using 'df.method({col: value}, inplace=True)' or df[col] = df[col].method(value) instead, to perform the operation inplace on the original object.\n",
      "\n",
      "\n",
      "  df_fig['Group'].replace(groups_rename, inplace=True)\n",
      "C:\\Users\\user\\AppData\\Local\\Temp\\ipykernel_46640\\4091489871.py:316: FutureWarning: \n",
      "\n",
      "Passing `palette` without assigning `hue` is deprecated and will be removed in v0.14.0. Assign the `x` variable to `hue` and set `legend=False` for the same effect.\n",
      "\n",
      "  violin = sns.violinplot(\n",
      "C:\\Users\\user\\AppData\\Local\\Temp\\ipykernel_46640\\4091489871.py:316: FutureWarning: \n",
      "\n",
      "The `scale` parameter has been renamed and will be removed in v0.15.0. Pass `density_norm='width'` for the same effect.\n",
      "  violin = sns.violinplot(\n",
      "C:\\Users\\user\\AppData\\Local\\Temp\\ipykernel_46640\\4091489871.py:341: FutureWarning: A value is trying to be set on a copy of a DataFrame or Series through chained assignment using an inplace method.\n",
      "The behavior will change in pandas 3.0. This inplace method will never work because the intermediate object on which we are setting values always behaves as a copy.\n",
      "\n",
      "For example, when doing 'df[col].method(value, inplace=True)', try using 'df.method({col: value}, inplace=True)' or df[col] = df[col].method(value) instead, to perform the operation inplace on the original object.\n",
      "\n",
      "\n",
      "  df_fig['Group'].replace(groups_rename, inplace=True)\n",
      "C:\\Users\\user\\AppData\\Local\\Temp\\ipykernel_46640\\4091489871.py:344: FutureWarning: \n",
      "\n",
      "Passing `palette` without assigning `hue` is deprecated and will be removed in v0.14.0. Assign the `x` variable to `hue` and set `legend=False` for the same effect.\n",
      "\n",
      "  violin = sns.violinplot(\n",
      "C:\\Users\\user\\AppData\\Local\\Temp\\ipykernel_46640\\4091489871.py:344: FutureWarning: \n",
      "\n",
      "The `scale` parameter has been renamed and will be removed in v0.15.0. Pass `density_norm='width'` for the same effect.\n",
      "  violin = sns.violinplot(\n",
      "c:\\Users\\user\\anaconda3\\envs\\py311\\Lib\\site-packages\\statannotations\\Annotator.py:825: UserWarning: Annotator was reconfigured without applying the test (again) which will probably lead to unexpected results\n",
      "  warnings.warn(\"Annotator was reconfigured without applying the \"\n",
      "c:\\Users\\user\\anaconda3\\envs\\py311\\Lib\\site-packages\\lightning_fabric\\utilities\\cloud_io.py:56: You are using `torch.load` with `weights_only=False` (the current default value), which uses the default pickle module implicitly. It is possible to construct malicious pickle data which will execute arbitrary code during unpickling (See https://github.com/pytorch/pytorch/blob/main/SECURITY.md#untrusted-models for more details). In a future release, the default value for `weights_only` will be flipped to `True`. This limits the functions that could be executed during unpickling. Arbitrary objects will no longer be allowed to be loaded via this mode unless they are explicitly allowlisted by the user via `torch.serialization.add_safe_globals`. We recommend you start setting `weights_only=True` for any use case where you don't have full control of the loaded file. Please open an issue on GitHub for any issues related to this experimental feature.\n"
     ]
    },
    {
     "data": {
      "text/html": [
       "<pre style=\"white-space:pre;overflow-x:auto;line-height:normal;font-family:Menlo,'DejaVu Sans Mono',consolas,'Courier New',monospace\"><span style=\"color: #008080; text-decoration-color: #008080; font-weight: bold\">2025</span>-<span style=\"color: #008080; text-decoration-color: #008080; font-weight: bold\">10</span>-<span style=\"color: #008080; text-decoration-color: #008080; font-weight: bold\">22</span> <span style=\"color: #00ff00; text-decoration-color: #00ff00; font-weight: bold\">14:12:49</span>,<span style=\"color: #008080; text-decoration-color: #008080; font-weight: bold\">663</span> - <span style=\"font-weight: bold\">{</span>pytorch_tabular.tabular_model:<span style=\"color: #008080; text-decoration-color: #008080; font-weight: bold\">165</span><span style=\"font-weight: bold\">}</span> - INFO - Experiment Tracking is turned off           \n",
       "</pre>\n"
      ],
      "text/plain": [
       "\u001b[1;36m2025\u001b[0m-\u001b[1;36m10\u001b[0m-\u001b[1;36m22\u001b[0m \u001b[1;92m14:12:49\u001b[0m,\u001b[1;36m663\u001b[0m - \u001b[1m{\u001b[0mpytorch_tabular.tabular_model:\u001b[1;36m165\u001b[0m\u001b[1m}\u001b[0m - INFO - Experiment Tracking is turned off           \n"
      ]
     },
     "metadata": {},
     "output_type": "display_data"
    },
    {
     "data": {
      "text/html": [
       "<pre style=\"white-space:pre;overflow-x:auto;line-height:normal;font-family:Menlo,'DejaVu Sans Mono',consolas,'Courier New',monospace\"><span style=\"color: #008080; text-decoration-color: #008080; font-weight: bold\">2025</span>-<span style=\"color: #008080; text-decoration-color: #008080; font-weight: bold\">10</span>-<span style=\"color: #008080; text-decoration-color: #008080; font-weight: bold\">22</span> <span style=\"color: #00ff00; text-decoration-color: #00ff00; font-weight: bold\">14:12:49</span>,<span style=\"color: #008080; text-decoration-color: #008080; font-weight: bold\">672</span> - <span style=\"font-weight: bold\">{</span>pytorch_tabular.tabular_model:<span style=\"color: #008080; text-decoration-color: #008080; font-weight: bold\">340</span><span style=\"font-weight: bold\">}</span> - INFO - Preparing the Trainer                       \n",
       "</pre>\n"
      ],
      "text/plain": [
       "\u001b[1;36m2025\u001b[0m-\u001b[1;36m10\u001b[0m-\u001b[1;36m22\u001b[0m \u001b[1;92m14:12:49\u001b[0m,\u001b[1;36m672\u001b[0m - \u001b[1m{\u001b[0mpytorch_tabular.tabular_model:\u001b[1;36m340\u001b[0m\u001b[1m}\u001b[0m - INFO - Preparing the Trainer                       \n"
      ]
     },
     "metadata": {},
     "output_type": "display_data"
    },
    {
     "name": "stdout",
     "output_type": "stream",
     "text": [
      "Background count: 10\n",
      "Background min diff: -2.741750717163086\n",
      "Background max diff: 15.721574783325195\n"
     ]
    },
    {
     "data": {
      "application/vnd.jupyter.widget-view+json": {
       "model_id": "d4b9b29b73994acaa2d84863179e05fb",
       "version_major": 2,
       "version_minor": 0
      },
      "text/plain": [
       "  0%|          | 0/1 [00:00<?, ?it/s]"
      ]
     },
     "metadata": {},
     "output_type": "display_data"
    },
    {
     "name": "stdout",
     "output_type": "stream",
     "text": [
      "SHAP values difference: -1.281359374161184e-07\n",
      "SHAP values correction 2\n",
      "Background count: 10\n",
      "Background min diff: -3.053865432739258\n",
      "Background max diff: 15.409460067749023\n"
     ]
    },
    {
     "data": {
      "application/vnd.jupyter.widget-view+json": {
       "model_id": "7bff7288c53c4041b63a759163eb28f1",
       "version_major": 2,
       "version_minor": 0
      },
      "text/plain": [
       "  0%|          | 0/1 [00:00<?, ?it/s]"
      ]
     },
     "metadata": {},
     "output_type": "display_data"
    },
    {
     "name": "stdout",
     "output_type": "stream",
     "text": [
      "SHAP values difference: -2.241440739680911e-07\n",
      "Background count: 10\n",
      "Background min diff: -8.028539657592773\n",
      "Background max diff: 10.434785842895508\n"
     ]
    },
    {
     "data": {
      "application/vnd.jupyter.widget-view+json": {
       "model_id": "b5e41f4e07544da4ba7a1e384dffb89d",
       "version_major": 2,
       "version_minor": 0
      },
      "text/plain": [
       "  0%|          | 0/1 [00:00<?, ?it/s]"
      ]
     },
     "metadata": {},
     "output_type": "display_data"
    },
    {
     "name": "stdout",
     "output_type": "stream",
     "text": [
      "SHAP values difference: -2.0959614843718555e-07\n",
      "SHAP values correction 2\n",
      "Background count: 10\n",
      "Background min diff: -12.792610168457031\n",
      "Background max diff: 2.4416961669921875\n"
     ]
    },
    {
     "data": {
      "application/vnd.jupyter.widget-view+json": {
       "model_id": "dfd402a52dd442b5922496ac00e25247",
       "version_major": 2,
       "version_minor": 0
      },
      "text/plain": [
       "  0%|          | 0/1 [00:00<?, ?it/s]"
      ]
     },
     "metadata": {},
     "output_type": "display_data"
    },
    {
     "name": "stdout",
     "output_type": "stream",
     "text": [
      "SHAP values difference: 2.389955078285766e-07\n",
      "SHAP values correction 2\n",
      "Background count: 10\n",
      "Background min diff: -8.784187316894531\n",
      "Background max diff: 9.67913818359375\n"
     ]
    },
    {
     "data": {
      "application/vnd.jupyter.widget-view+json": {
       "model_id": "17a3b453de61489f94b1886c210cf871",
       "version_major": 2,
       "version_minor": 0
      },
      "text/plain": [
       "  0%|          | 0/1 [00:00<?, ?it/s]"
      ]
     },
     "metadata": {},
     "output_type": "display_data"
    },
    {
     "name": "stdout",
     "output_type": "stream",
     "text": [
      "SHAP values difference: -2.1384078863206923e-07\n",
      "Background count: 10\n",
      "Background min diff: -17.857635498046875\n",
      "Background max diff: -2.6233291625976562\n"
     ]
    },
    {
     "data": {
      "application/vnd.jupyter.widget-view+json": {
       "model_id": "2cdf5b55b3d2491a86693d80a33e4f9a",
       "version_major": 2,
       "version_minor": 0
      },
      "text/plain": [
       "  0%|          | 0/1 [00:00<?, ?it/s]"
      ]
     },
     "metadata": {},
     "output_type": "display_data"
    },
    {
     "name": "stdout",
     "output_type": "stream",
     "text": [
      "SHAP values difference: -1.229690171911102e-07\n",
      "Background count: 10\n",
      "Background min diff: -6.661716461181641\n",
      "Background max diff: 3.223003387451172\n"
     ]
    },
    {
     "data": {
      "application/vnd.jupyter.widget-view+json": {
       "model_id": "9c2c6062208349e582eec18d354a4a54",
       "version_major": 2,
       "version_minor": 0
      },
      "text/plain": [
       "  0%|          | 0/1 [00:00<?, ?it/s]"
      ]
     },
     "metadata": {},
     "output_type": "display_data"
    },
    {
     "name": "stdout",
     "output_type": "stream",
     "text": [
      "SHAP values difference: 1.4264901704308386e-08\n",
      "SHAP values correction 1\n",
      "Background count: 10\n",
      "Background min diff: -5.045555114746094\n",
      "Background max diff: 1.9329681396484375\n"
     ]
    },
    {
     "data": {
      "application/vnd.jupyter.widget-view+json": {
       "model_id": "9cbb14e6e25142b5a57a48e131012d60",
       "version_major": 2,
       "version_minor": 0
      },
      "text/plain": [
       "  0%|          | 0/1 [00:00<?, ?it/s]"
      ]
     },
     "metadata": {},
     "output_type": "display_data"
    },
    {
     "name": "stdout",
     "output_type": "stream",
     "text": [
      "SHAP values difference: -1.1083706130676774e-07\n",
      "SHAP values correction 2\n",
      "Background count: 10\n",
      "Background min diff: -23.826148986816406\n",
      "Background max diff: -8.591842651367188\n"
     ]
    },
    {
     "data": {
      "application/vnd.jupyter.widget-view+json": {
       "model_id": "df973c0c8e224d03a4a5694894dd80d7",
       "version_major": 2,
       "version_minor": 0
      },
      "text/plain": [
       "  0%|          | 0/1 [00:00<?, ?it/s]"
      ]
     },
     "metadata": {},
     "output_type": "display_data"
    },
    {
     "name": "stdout",
     "output_type": "stream",
     "text": [
      "SHAP values difference: -1.267391290582509e-06\n",
      "SHAP values correction 2\n",
      "Background count: 10\n",
      "Background min diff: -11.407257080078125\n",
      "Background max diff: 3.8270492553710938\n"
     ]
    },
    {
     "data": {
      "application/vnd.jupyter.widget-view+json": {
       "model_id": "11086811b44246acb1f9dc0bd92b1b12",
       "version_major": 2,
       "version_minor": 0
      },
      "text/plain": [
       "  0%|          | 0/1 [00:00<?, ?it/s]"
      ]
     },
     "metadata": {},
     "output_type": "display_data"
    },
    {
     "name": "stdout",
     "output_type": "stream",
     "text": [
      "SHAP values difference: -3.7090347682067204e-07\n",
      "SHAP values correction 2\n",
      "Background count: 10\n",
      "Background min diff: -1.0066947937011719\n",
      "Background max diff: 4.686954498291016\n"
     ]
    },
    {
     "data": {
      "application/vnd.jupyter.widget-view+json": {
       "model_id": "22df2e65b70a4d3e8788071a7a8b292b",
       "version_major": 2,
       "version_minor": 0
      },
      "text/plain": [
       "  0%|          | 0/1 [00:00<?, ?it/s]"
      ]
     },
     "metadata": {},
     "output_type": "display_data"
    },
    {
     "name": "stdout",
     "output_type": "stream",
     "text": [
      "SHAP values difference: 4.494314254088749e-08\n",
      "Background count: 10\n",
      "Background min diff: -13.107467651367188\n",
      "Background max diff: 2.1268386840820312\n"
     ]
    },
    {
     "data": {
      "application/vnd.jupyter.widget-view+json": {
       "model_id": "ecb1979fca07499eabaefeeb5651460e",
       "version_major": 2,
       "version_minor": 0
      },
      "text/plain": [
       "  0%|          | 0/1 [00:00<?, ?it/s]"
      ]
     },
     "metadata": {},
     "output_type": "display_data"
    },
    {
     "name": "stdout",
     "output_type": "stream",
     "text": [
      "SHAP values difference: 3.044267060658967e-08\n",
      "Background count: 10\n",
      "Background min diff: -4.335517883300781\n",
      "Background max diff: 5.1716766357421875\n"
     ]
    },
    {
     "data": {
      "application/vnd.jupyter.widget-view+json": {
       "model_id": "123928f995b54c35975d744fe52e55cc",
       "version_major": 2,
       "version_minor": 0
      },
      "text/plain": [
       "  0%|          | 0/1 [00:00<?, ?it/s]"
      ]
     },
     "metadata": {},
     "output_type": "display_data"
    },
    {
     "name": "stdout",
     "output_type": "stream",
     "text": [
      "SHAP values difference: -2.1086511736712055e-07\n",
      "Background count: 10\n",
      "Background min diff: -4.981403350830078\n",
      "Background max diff: 1.7252998352050781\n"
     ]
    },
    {
     "data": {
      "application/vnd.jupyter.widget-view+json": {
       "model_id": "f33caa875dec4cd09445f12e60bd0888",
       "version_major": 2,
       "version_minor": 0
      },
      "text/plain": [
       "  0%|          | 0/1 [00:00<?, ?it/s]"
      ]
     },
     "metadata": {},
     "output_type": "display_data"
    },
    {
     "name": "stdout",
     "output_type": "stream",
     "text": [
      "SHAP values difference: -1.1222662266163752e-07\n",
      "Background count: 10\n",
      "Background min diff: -4.902004241943359\n",
      "Background max diff: 1.8046989440917969\n"
     ]
    },
    {
     "data": {
      "application/vnd.jupyter.widget-view+json": {
       "model_id": "9ad34f51234a4c7baca783727ec6486f",
       "version_major": 2,
       "version_minor": 0
      },
      "text/plain": [
       "  0%|          | 0/1 [00:00<?, ?it/s]"
      ]
     },
     "metadata": {},
     "output_type": "display_data"
    },
    {
     "name": "stdout",
     "output_type": "stream",
     "text": [
      "SHAP values difference: 4.979104151203728e-08\n",
      "SHAP values correction 2\n",
      "Background count: 10\n",
      "Background min diff: -1.8437347412109375\n",
      "Background max diff: 16.619590759277344\n"
     ]
    },
    {
     "data": {
      "application/vnd.jupyter.widget-view+json": {
       "model_id": "a57a0c1fd38248a98eb53f807e294974",
       "version_major": 2,
       "version_minor": 0
      },
      "text/plain": [
       "  0%|          | 0/1 [00:00<?, ?it/s]"
      ]
     },
     "metadata": {},
     "output_type": "display_data"
    },
    {
     "name": "stdout",
     "output_type": "stream",
     "text": [
      "SHAP values difference: 1.7140476415988815e-07\n",
      "Background count: 10\n",
      "Background min diff: -5.328788757324219\n",
      "Background max diff: 6.978782653808594\n"
     ]
    },
    {
     "data": {
      "application/vnd.jupyter.widget-view+json": {
       "model_id": "12fa001c288f4a989cdcea462be9d66b",
       "version_major": 2,
       "version_minor": 0
      },
      "text/plain": [
       "  0%|          | 0/1 [00:00<?, ?it/s]"
      ]
     },
     "metadata": {},
     "output_type": "display_data"
    },
    {
     "name": "stdout",
     "output_type": "stream",
     "text": [
      "SHAP values difference: 2.752106986747549e-09\n",
      "SHAP values correction 2\n",
      "Background count: 10\n",
      "Background min diff: -5.74791145324707\n",
      "Background max diff: 12.715414047241211\n"
     ]
    },
    {
     "data": {
      "application/vnd.jupyter.widget-view+json": {
       "model_id": "3bdc6f786d454aa09baefb13850b2107",
       "version_major": 2,
       "version_minor": 0
      },
      "text/plain": [
       "  0%|          | 0/1 [00:00<?, ?it/s]"
      ]
     },
     "metadata": {},
     "output_type": "display_data"
    },
    {
     "name": "stdout",
     "output_type": "stream",
     "text": [
      "SHAP values difference: 1.0404604466884848e-07\n",
      "SHAP values correction 2\n",
      "Background count: 10\n",
      "Background min diff: -6.287036895751953\n",
      "Background max diff: 6.020534515380859\n"
     ]
    },
    {
     "data": {
      "application/vnd.jupyter.widget-view+json": {
       "model_id": "9cc141aa0c9841ee8e283c79887ab39b",
       "version_major": 2,
       "version_minor": 0
      },
      "text/plain": [
       "  0%|          | 0/1 [00:00<?, ?it/s]"
      ]
     },
     "metadata": {},
     "output_type": "display_data"
    },
    {
     "name": "stdout",
     "output_type": "stream",
     "text": [
      "SHAP values difference: -1.036883325866711e-07\n",
      "SHAP values correction 2\n",
      "Background count: 10\n",
      "Background min diff: -7.954618453979492\n",
      "Background max diff: 10.508707046508789\n"
     ]
    },
    {
     "data": {
      "application/vnd.jupyter.widget-view+json": {
       "model_id": "80c0b3a197ae47189b87b09d4751c03f",
       "version_major": 2,
       "version_minor": 0
      },
      "text/plain": [
       "  0%|          | 0/1 [00:00<?, ?it/s]"
      ]
     },
     "metadata": {},
     "output_type": "display_data"
    },
    {
     "name": "stdout",
     "output_type": "stream",
     "text": [
      "SHAP values difference: -1.9688898333924953e-07\n",
      "SHAP values correction 2\n",
      "Background count: 10\n",
      "Background min diff: -1.8116226196289062\n",
      "Background max diff: 3.8820266723632812\n"
     ]
    },
    {
     "data": {
      "application/vnd.jupyter.widget-view+json": {
       "model_id": "e6dad9ca3cbb4843ba73aa05b0f079c5",
       "version_major": 2,
       "version_minor": 0
      },
      "text/plain": [
       "  0%|          | 0/1 [00:00<?, ?it/s]"
      ]
     },
     "metadata": {},
     "output_type": "display_data"
    },
    {
     "name": "stdout",
     "output_type": "stream",
     "text": [
      "SHAP values difference: -2.48647783251954e-07\n",
      "SHAP values correction 2\n",
      "Background count: 10\n",
      "Background min diff: -2.3255977630615234\n",
      "Background max diff: 16.137727737426758\n"
     ]
    },
    {
     "data": {
      "application/vnd.jupyter.widget-view+json": {
       "model_id": "270e2437c507456887f8466c267e53d9",
       "version_major": 2,
       "version_minor": 0
      },
      "text/plain": [
       "  0%|          | 0/1 [00:00<?, ?it/s]"
      ]
     },
     "metadata": {},
     "output_type": "display_data"
    },
    {
     "name": "stdout",
     "output_type": "stream",
     "text": [
      "SHAP values difference: -3.875429754884863e-09\n",
      "SHAP values correction 2\n",
      "Background count: 10\n",
      "Background min diff: -6.550228118896484\n",
      "Background max diff: 8.013912200927734\n"
     ]
    },
    {
     "data": {
      "application/vnd.jupyter.widget-view+json": {
       "model_id": "7c37fe2cd48c43a9b0eb65629011dfa6",
       "version_major": 2,
       "version_minor": 0
      },
      "text/plain": [
       "  0%|          | 0/1 [00:00<?, ?it/s]"
      ]
     },
     "metadata": {},
     "output_type": "display_data"
    },
    {
     "name": "stdout",
     "output_type": "stream",
     "text": [
      "SHAP values difference: 5.607012205643969e-07\n",
      "SHAP values correction 2\n",
      "Background count: 10\n",
      "Background min diff: -5.990940093994141\n",
      "Background max diff: 3.893779754638672\n"
     ]
    },
    {
     "data": {
      "application/vnd.jupyter.widget-view+json": {
       "model_id": "ea87ce19e8c34f45a1104683da0182b5",
       "version_major": 2,
       "version_minor": 0
      },
      "text/plain": [
       "  0%|          | 0/1 [00:00<?, ?it/s]"
      ]
     },
     "metadata": {},
     "output_type": "display_data"
    },
    {
     "name": "stdout",
     "output_type": "stream",
     "text": [
      "SHAP values difference: 2.1772469338543488e-07\n",
      "Background count: 10\n",
      "Background min diff: -6.726509094238281\n",
      "Background max diff: 6.738151550292969\n"
     ]
    },
    {
     "data": {
      "application/vnd.jupyter.widget-view+json": {
       "model_id": "08486f3e58a8431482f3eadf3861ed06",
       "version_major": 2,
       "version_minor": 0
      },
      "text/plain": [
       "  0%|          | 0/1 [00:00<?, ?it/s]"
      ]
     },
     "metadata": {},
     "output_type": "display_data"
    },
    {
     "name": "stdout",
     "output_type": "stream",
     "text": [
      "SHAP values difference: 4.450584256687762e-08\n",
      "SHAP values correction 2\n",
      "Background count: 10\n",
      "Background min diff: -3.241313934326172\n",
      "Background max diff: 3.7372093200683594\n"
     ]
    },
    {
     "data": {
      "application/vnd.jupyter.widget-view+json": {
       "model_id": "19c8f1af25db449aaeb0d83e2fa78298",
       "version_major": 2,
       "version_minor": 0
      },
      "text/plain": [
       "  0%|          | 0/1 [00:00<?, ?it/s]"
      ]
     },
     "metadata": {},
     "output_type": "display_data"
    },
    {
     "name": "stdout",
     "output_type": "stream",
     "text": [
      "SHAP values difference: 1.6067809305297942e-07\n",
      "SHAP values correction 2\n",
      "Background count: 10\n",
      "Background min diff: -4.048046112060547\n",
      "Background max diff: 5.459148406982422\n"
     ]
    },
    {
     "data": {
      "application/vnd.jupyter.widget-view+json": {
       "model_id": "ab14e3f9619b422582793b2aa8d31ff2",
       "version_major": 2,
       "version_minor": 0
      },
      "text/plain": [
       "  0%|          | 0/1 [00:00<?, ?it/s]"
      ]
     },
     "metadata": {},
     "output_type": "display_data"
    },
    {
     "name": "stdout",
     "output_type": "stream",
     "text": [
      "SHAP values difference: -1.8844425930808484e-07\n",
      "Background count: 10\n",
      "Background min diff: -3.914825439453125\n",
      "Background max diff: 3.0636978149414062\n"
     ]
    },
    {
     "data": {
      "application/vnd.jupyter.widget-view+json": {
       "model_id": "358ff8f96f104288a2c74edf84e5d596",
       "version_major": 2,
       "version_minor": 0
      },
      "text/plain": [
       "  0%|          | 0/1 [00:00<?, ?it/s]"
      ]
     },
     "metadata": {},
     "output_type": "display_data"
    },
    {
     "name": "stdout",
     "output_type": "stream",
     "text": [
      "SHAP values difference: 1.392263122568238e-07\n",
      "Background count: 10\n",
      "Background min diff: -26.128684997558594\n",
      "Background max diff: -10.894378662109375\n"
     ]
    },
    {
     "data": {
      "application/vnd.jupyter.widget-view+json": {
       "model_id": "54e9cf54439b4aeebbb4bbf024e6f2db",
       "version_major": 2,
       "version_minor": 0
      },
      "text/plain": [
       "  0%|          | 0/1 [00:00<?, ?it/s]"
      ]
     },
     "metadata": {},
     "output_type": "display_data"
    },
    {
     "name": "stdout",
     "output_type": "stream",
     "text": [
      "SHAP values difference: 7.200991269940005e-08\n",
      "Background count: 10\n",
      "Background min diff: -9.167486190795898\n",
      "Background max diff: 9.295839309692383\n"
     ]
    },
    {
     "data": {
      "application/vnd.jupyter.widget-view+json": {
       "model_id": "e10da29291ca43cd895b7f4f67c4aca3",
       "version_major": 2,
       "version_minor": 0
      },
      "text/plain": [
       "  0%|          | 0/1 [00:00<?, ?it/s]"
      ]
     },
     "metadata": {},
     "output_type": "display_data"
    },
    {
     "name": "stdout",
     "output_type": "stream",
     "text": [
      "SHAP values difference: 4.958612187522249e-07\n",
      "Background count: 10\n",
      "Background min diff: -1.8817100524902344\n",
      "Background max diff: 3.660655975341797\n"
     ]
    },
    {
     "data": {
      "application/vnd.jupyter.widget-view+json": {
       "model_id": "6b681cbfbe604b6baecb34f104eda6c0",
       "version_major": 2,
       "version_minor": 0
      },
      "text/plain": [
       "  0%|          | 0/1 [00:00<?, ?it/s]"
      ]
     },
     "metadata": {},
     "output_type": "display_data"
    },
    {
     "name": "stdout",
     "output_type": "stream",
     "text": [
      "SHAP values difference: 4.491140792595161e-09\n",
      "SHAP values correction 2\n",
      "Background count: 10\n",
      "Background min diff: -10.224510192871094\n",
      "Background max diff: 5.009796142578125\n"
     ]
    },
    {
     "data": {
      "application/vnd.jupyter.widget-view+json": {
       "model_id": "24fa039589f74eeda0444325c473fa22",
       "version_major": 2,
       "version_minor": 0
      },
      "text/plain": [
       "  0%|          | 0/1 [00:00<?, ?it/s]"
      ]
     },
     "metadata": {},
     "output_type": "display_data"
    },
    {
     "name": "stdout",
     "output_type": "stream",
     "text": [
      "SHAP values difference: -1.081353957488318e-07\n",
      "Background count: 10\n",
      "Background min diff: -4.223018646240234\n",
      "Background max diff: 2.483684539794922\n"
     ]
    },
    {
     "data": {
      "application/vnd.jupyter.widget-view+json": {
       "model_id": "b5d05d99ea2e4f6a8ad402b261e2bf7f",
       "version_major": 2,
       "version_minor": 0
      },
      "text/plain": [
       "  0%|          | 0/1 [00:00<?, ?it/s]"
      ]
     },
     "metadata": {},
     "output_type": "display_data"
    },
    {
     "name": "stdout",
     "output_type": "stream",
     "text": [
      "SHAP values difference: 1.1246202724635168e-07\n",
      "Background count: 10\n",
      "Background min diff: -3.4412574768066406\n",
      "Background max diff: 3.6448936462402344\n"
     ]
    },
    {
     "data": {
      "application/vnd.jupyter.widget-view+json": {
       "model_id": "6f76532a80ef4d1fb134bd99c16ddbc5",
       "version_major": 2,
       "version_minor": 0
      },
      "text/plain": [
       "  0%|          | 0/1 [00:00<?, ?it/s]"
      ]
     },
     "metadata": {},
     "output_type": "display_data"
    },
    {
     "name": "stdout",
     "output_type": "stream",
     "text": [
      "SHAP values difference: 1.0721015186732075e-07\n",
      "SHAP values correction 2\n",
      "Background count: 10\n",
      "Background min diff: -3.0555953979492188\n",
      "Background max diff: 3.6039657592773438\n"
     ]
    },
    {
     "data": {
      "application/vnd.jupyter.widget-view+json": {
       "model_id": "4fa7edd7449043d89d711b792bdae3ea",
       "version_major": 2,
       "version_minor": 0
      },
      "text/plain": [
       "  0%|          | 0/1 [00:00<?, ?it/s]"
      ]
     },
     "metadata": {},
     "output_type": "display_data"
    },
    {
     "name": "stdout",
     "output_type": "stream",
     "text": [
      "SHAP values difference: 3.0165514441904406e-07\n",
      "SHAP values correction 1\n",
      "SHAP values correction 2\n",
      "Background count: 10\n",
      "Background min diff: -6.738372802734375\n",
      "Background max diff: 3.1463470458984375\n"
     ]
    },
    {
     "data": {
      "application/vnd.jupyter.widget-view+json": {
       "model_id": "c8d3a82b24f5465ba95b08f45432e3af",
       "version_major": 2,
       "version_minor": 0
      },
      "text/plain": [
       "  0%|          | 0/1 [00:00<?, ?it/s]"
      ]
     },
     "metadata": {},
     "output_type": "display_data"
    },
    {
     "name": "stdout",
     "output_type": "stream",
     "text": [
      "SHAP values difference: 1.5730848978989798e-07\n",
      "SHAP values correction 2\n",
      "Background count: 10\n",
      "Background min diff: -2.964385986328125\n",
      "Background max diff: 2.4553298950195312\n"
     ]
    },
    {
     "data": {
      "application/vnd.jupyter.widget-view+json": {
       "model_id": "90f2bbce05014d3995a8da4b1f7c30c2",
       "version_major": 2,
       "version_minor": 0
      },
      "text/plain": [
       "  0%|          | 0/1 [00:00<?, ?it/s]"
      ]
     },
     "metadata": {},
     "output_type": "display_data"
    },
    {
     "name": "stdout",
     "output_type": "stream",
     "text": [
      "SHAP values difference: -1.160001250610776e-07\n",
      "SHAP values correction 2\n",
      "Background count: 10\n",
      "Background min diff: -14.156059265136719\n",
      "Background max diff: 1.0782470703125\n"
     ]
    },
    {
     "data": {
      "application/vnd.jupyter.widget-view+json": {
       "model_id": "3024f3ebaaaa448da9061fffabeb8020",
       "version_major": 2,
       "version_minor": 0
      },
      "text/plain": [
       "  0%|          | 0/1 [00:00<?, ?it/s]"
      ]
     },
     "metadata": {},
     "output_type": "display_data"
    },
    {
     "name": "stdout",
     "output_type": "stream",
     "text": [
      "SHAP values difference: 9.089453811839121e-08\n",
      "SHAP values correction 2\n",
      "Background count: 10\n",
      "Background min diff: -4.602180480957031\n",
      "Background max diff: 3.0489501953125\n"
     ]
    },
    {
     "data": {
      "application/vnd.jupyter.widget-view+json": {
       "model_id": "90a016e8447d4053b836439107a0184b",
       "version_major": 2,
       "version_minor": 0
      },
      "text/plain": [
       "  0%|          | 0/1 [00:00<?, ?it/s]"
      ]
     },
     "metadata": {},
     "output_type": "display_data"
    },
    {
     "name": "stdout",
     "output_type": "stream",
     "text": [
      "SHAP values difference: -2.4620733896085767e-08\n",
      "Background count: 10\n",
      "Background min diff: -4.9642486572265625\n",
      "Background max diff: 4.92047119140625\n"
     ]
    },
    {
     "data": {
      "application/vnd.jupyter.widget-view+json": {
       "model_id": "a9d08f3b3b3544918353970447e28540",
       "version_major": 2,
       "version_minor": 0
      },
      "text/plain": [
       "  0%|          | 0/1 [00:00<?, ?it/s]"
      ]
     },
     "metadata": {},
     "output_type": "display_data"
    },
    {
     "name": "stdout",
     "output_type": "stream",
     "text": [
      "SHAP values difference: 1.8676378843451857e-07\n",
      "Background count: 10\n",
      "Background min diff: -3.6767845153808594\n",
      "Background max diff: 3.974346160888672\n"
     ]
    },
    {
     "data": {
      "application/vnd.jupyter.widget-view+json": {
       "model_id": "0188672170794de3a6b338dccc127e1b",
       "version_major": 2,
       "version_minor": 0
      },
      "text/plain": [
       "  0%|          | 0/1 [00:00<?, ?it/s]"
      ]
     },
     "metadata": {},
     "output_type": "display_data"
    },
    {
     "name": "stdout",
     "output_type": "stream",
     "text": [
      "SHAP values difference: -7.717081063063347e-08\n",
      "SHAP values correction 2\n",
      "Background count: 10\n",
      "Background min diff: -3.2745933532714844\n",
      "Background max diff: 4.208782196044922\n"
     ]
    },
    {
     "data": {
      "application/vnd.jupyter.widget-view+json": {
       "model_id": "f2a9c9c53ae748a9a745bd282ec0e6d0",
       "version_major": 2,
       "version_minor": 0
      },
      "text/plain": [
       "  0%|          | 0/1 [00:00<?, ?it/s]"
      ]
     },
     "metadata": {},
     "output_type": "display_data"
    },
    {
     "name": "stdout",
     "output_type": "stream",
     "text": [
      "SHAP values difference: 9.856421279152983e-08\n",
      "SHAP values correction 2\n",
      "Background count: 10\n",
      "Background min diff: -3.6629409790039062\n",
      "Background max diff: 3.315582275390625\n"
     ]
    },
    {
     "data": {
      "application/vnd.jupyter.widget-view+json": {
       "model_id": "8506c614bcf24dcebce6e4332ceef70c",
       "version_major": 2,
       "version_minor": 0
      },
      "text/plain": [
       "  0%|          | 0/1 [00:00<?, ?it/s]"
      ]
     },
     "metadata": {},
     "output_type": "display_data"
    },
    {
     "name": "stdout",
     "output_type": "stream",
     "text": [
      "SHAP values difference: 4.1672743478216034e-07\n",
      "Background count: 10\n",
      "Background min diff: -4.320178985595703\n",
      "Background max diff: 3.330951690673828\n"
     ]
    },
    {
     "data": {
      "application/vnd.jupyter.widget-view+json": {
       "model_id": "9d1ac5ca3cb04c7a94f241815b1c250a",
       "version_major": 2,
       "version_minor": 0
      },
      "text/plain": [
       "  0%|          | 0/1 [00:00<?, ?it/s]"
      ]
     },
     "metadata": {},
     "output_type": "display_data"
    },
    {
     "name": "stdout",
     "output_type": "stream",
     "text": [
      "SHAP values difference: 3.6713930695597696e-07\n",
      "SHAP values correction 2\n",
      "Background count: 10\n",
      "Background min diff: -4.394207000732422\n",
      "Background max diff: 3.172405242919922\n"
     ]
    },
    {
     "data": {
      "application/vnd.jupyter.widget-view+json": {
       "model_id": "9b4b58213c8b45a5ae4037b1f6f17131",
       "version_major": 2,
       "version_minor": 0
      },
      "text/plain": [
       "  0%|          | 0/1 [00:00<?, ?it/s]"
      ]
     },
     "metadata": {},
     "output_type": "display_data"
    },
    {
     "name": "stdout",
     "output_type": "stream",
     "text": [
      "SHAP values difference: -1.4486909671873605e-07\n",
      "SHAP values correction 1\n",
      "SHAP values correction 2\n",
      "Background count: 10\n",
      "Background min diff: -6.658977508544922\n",
      "Background max diff: 3.2257423400878906\n"
     ]
    },
    {
     "data": {
      "application/vnd.jupyter.widget-view+json": {
       "model_id": "0e1bf47bc93e4647888267101288cabb",
       "version_major": 2,
       "version_minor": 0
      },
      "text/plain": [
       "  0%|          | 0/1 [00:00<?, ?it/s]"
      ]
     },
     "metadata": {},
     "output_type": "display_data"
    },
    {
     "name": "stdout",
     "output_type": "stream",
     "text": [
      "SHAP values difference: 1.3690296896129439e-08\n",
      "Background count: 10\n",
      "Background min diff: -7.338602066040039\n",
      "Background max diff: 11.124723434448242\n"
     ]
    },
    {
     "data": {
      "application/vnd.jupyter.widget-view+json": {
       "model_id": "a8c384bb1ef046edb37979973078e1fb",
       "version_major": 2,
       "version_minor": 0
      },
      "text/plain": [
       "  0%|          | 0/1 [00:00<?, ?it/s]"
      ]
     },
     "metadata": {},
     "output_type": "display_data"
    },
    {
     "name": "stdout",
     "output_type": "stream",
     "text": [
      "SHAP values difference: 2.144041992835355e-07\n",
      "SHAP values correction 2\n",
      "Background count: 10\n",
      "Background min diff: -2.813274383544922\n",
      "Background max diff: 6.693920135498047\n"
     ]
    },
    {
     "data": {
      "application/vnd.jupyter.widget-view+json": {
       "model_id": "cac0c1f6b61b44a680c8b4c1d7bfcbba",
       "version_major": 2,
       "version_minor": 0
      },
      "text/plain": [
       "  0%|          | 0/1 [00:00<?, ?it/s]"
      ]
     },
     "metadata": {},
     "output_type": "display_data"
    },
    {
     "name": "stdout",
     "output_type": "stream",
     "text": [
      "SHAP values difference: 1.0804574657186095e-07\n",
      "SHAP values correction 2\n",
      "Background count: 10\n",
      "Background min diff: -6.522516250610352\n",
      "Background max diff: 8.825040817260742\n"
     ]
    },
    {
     "data": {
      "application/vnd.jupyter.widget-view+json": {
       "model_id": "cf5c4e7ab0904e5faaaac660c5aab9b7",
       "version_major": 2,
       "version_minor": 0
      },
      "text/plain": [
       "  0%|          | 0/1 [00:00<?, ?it/s]"
      ]
     },
     "metadata": {},
     "output_type": "display_data"
    },
    {
     "name": "stdout",
     "output_type": "stream",
     "text": [
      "SHAP values difference: -1.5380691387179013e-07\n",
      "SHAP values correction 2\n",
      "Background count: 10\n",
      "Background min diff: -4.718570709228516\n",
      "Background max diff: 1.9881324768066406\n"
     ]
    },
    {
     "data": {
      "application/vnd.jupyter.widget-view+json": {
       "model_id": "06b816137de24c738ef90bb7699e97ca",
       "version_major": 2,
       "version_minor": 0
      },
      "text/plain": [
       "  0%|          | 0/1 [00:00<?, ?it/s]"
      ]
     },
     "metadata": {},
     "output_type": "display_data"
    },
    {
     "name": "stdout",
     "output_type": "stream",
     "text": [
      "SHAP values difference: 5.274045369318969e-07\n",
      "SHAP values correction 1\n",
      "SHAP values correction 2\n",
      "Background count: 10\n",
      "Background min diff: -3.165081024169922\n",
      "Background max diff: 4.318294525146484\n"
     ]
    },
    {
     "data": {
      "application/vnd.jupyter.widget-view+json": {
       "model_id": "eaec6ed02b404b29a1632498dd3f27c4",
       "version_major": 2,
       "version_minor": 0
      },
      "text/plain": [
       "  0%|          | 0/1 [00:00<?, ?it/s]"
      ]
     },
     "metadata": {},
     "output_type": "display_data"
    },
    {
     "name": "stdout",
     "output_type": "stream",
     "text": [
      "SHAP values difference: -1.075095497071743e-07\n",
      "Background count: 10\n",
      "Background min diff: -5.94439697265625\n",
      "Background max diff: 3.9403228759765625\n"
     ]
    },
    {
     "data": {
      "application/vnd.jupyter.widget-view+json": {
       "model_id": "aeeb8527cdfd43499974ace6a00c21ca",
       "version_major": 2,
       "version_minor": 0
      },
      "text/plain": [
       "  0%|          | 0/1 [00:00<?, ?it/s]"
      ]
     },
     "metadata": {},
     "output_type": "display_data"
    },
    {
     "name": "stdout",
     "output_type": "stream",
     "text": [
      "SHAP values difference: -1.232260782302319e-07\n",
      "SHAP values correction 1\n",
      "SHAP values correction 2\n",
      "Background count: 10\n",
      "Background min diff: -3.210662841796875\n",
      "Background max diff: 2.4829864501953125\n"
     ]
    },
    {
     "data": {
      "application/vnd.jupyter.widget-view+json": {
       "model_id": "1173e04bab704e788ab73a9ca527b7ce",
       "version_major": 2,
       "version_minor": 0
      },
      "text/plain": [
       "  0%|          | 0/1 [00:00<?, ?it/s]"
      ]
     },
     "metadata": {},
     "output_type": "display_data"
    },
    {
     "name": "stdout",
     "output_type": "stream",
     "text": [
      "SHAP values difference: 5.066419539456746e-08\n",
      "SHAP values correction 1\n",
      "SHAP values correction 2\n",
      "Background count: 10\n",
      "Background min diff: -4.450260162353516\n",
      "Background max diff: 2.2564430236816406\n"
     ]
    },
    {
     "data": {
      "application/vnd.jupyter.widget-view+json": {
       "model_id": "387c79adc3c44b96880fdfe86b3bc0fd",
       "version_major": 2,
       "version_minor": 0
      },
      "text/plain": [
       "  0%|          | 0/1 [00:00<?, ?it/s]"
      ]
     },
     "metadata": {},
     "output_type": "display_data"
    },
    {
     "name": "stdout",
     "output_type": "stream",
     "text": [
      "SHAP values difference: -1.0589509891190119e-07\n",
      "Background count: 10\n",
      "Background min diff: -2.935150146484375\n",
      "Background max diff: 3.1034698486328125\n"
     ]
    },
    {
     "data": {
      "application/vnd.jupyter.widget-view+json": {
       "model_id": "d4de5b97ef0d43b581a1f57aafa60d85",
       "version_major": 2,
       "version_minor": 0
      },
      "text/plain": [
       "  0%|          | 0/1 [00:00<?, ?it/s]"
      ]
     },
     "metadata": {},
     "output_type": "display_data"
    },
    {
     "name": "stdout",
     "output_type": "stream",
     "text": [
      "SHAP values difference: -3.828081673873385e-08\n",
      "Background count: 10\n",
      "Background min diff: -7.158031463623047\n",
      "Background max diff: 7.406108856201172\n"
     ]
    },
    {
     "data": {
      "application/vnd.jupyter.widget-view+json": {
       "model_id": "7e6c2f67bb0040cc8e695115de204111",
       "version_major": 2,
       "version_minor": 0
      },
      "text/plain": [
       "  0%|          | 0/1 [00:00<?, ?it/s]"
      ]
     },
     "metadata": {},
     "output_type": "display_data"
    },
    {
     "name": "stdout",
     "output_type": "stream",
     "text": [
      "SHAP values difference: 6.672911645466684e-08\n",
      "SHAP values correction 2\n",
      "Background count: 10\n",
      "Background min diff: -2.8711700439453125\n",
      "Background max diff: 2.822479248046875\n"
     ]
    },
    {
     "data": {
      "application/vnd.jupyter.widget-view+json": {
       "model_id": "6089fd15a4a645a0b8852c7738c245cc",
       "version_major": 2,
       "version_minor": 0
      },
      "text/plain": [
       "  0%|          | 0/1 [00:00<?, ?it/s]"
      ]
     },
     "metadata": {},
     "output_type": "display_data"
    },
    {
     "name": "stdout",
     "output_type": "stream",
     "text": [
      "SHAP values difference: 4.1895205526998325e-08\n",
      "SHAP values correction 2\n",
      "Background count: 10\n",
      "Background min diff: -8.033809661865234\n",
      "Background max diff: 7.313747406005859\n"
     ]
    },
    {
     "data": {
      "application/vnd.jupyter.widget-view+json": {
       "model_id": "a3c2c2ec9f4b43cfbfd40d45a2369303",
       "version_major": 2,
       "version_minor": 0
      },
      "text/plain": [
       "  0%|          | 0/1 [00:00<?, ?it/s]"
      ]
     },
     "metadata": {},
     "output_type": "display_data"
    },
    {
     "name": "stdout",
     "output_type": "stream",
     "text": [
      "SHAP values difference: 1.5756717175463564e-07\n",
      "Background count: 10\n",
      "Background min diff: -2.800029754638672\n",
      "Background max diff: 3.4906044006347656\n"
     ]
    },
    {
     "data": {
      "application/vnd.jupyter.widget-view+json": {
       "model_id": "fa93d7331f33453e980bc51844836436",
       "version_major": 2,
       "version_minor": 0
      },
      "text/plain": [
       "  0%|          | 0/1 [00:00<?, ?it/s]"
      ]
     },
     "metadata": {},
     "output_type": "display_data"
    },
    {
     "name": "stdout",
     "output_type": "stream",
     "text": [
      "SHAP values difference: 4.014386156825367e-08\n",
      "Background count: 10\n",
      "Background min diff: -5.097576141357422\n",
      "Background max diff: 1.8809471130371094\n"
     ]
    },
    {
     "data": {
      "application/vnd.jupyter.widget-view+json": {
       "model_id": "cfa2b36f4c5547d7ab0c73d8d484df31",
       "version_major": 2,
       "version_minor": 0
      },
      "text/plain": [
       "  0%|          | 0/1 [00:00<?, ?it/s]"
      ]
     },
     "metadata": {},
     "output_type": "display_data"
    },
    {
     "name": "stdout",
     "output_type": "stream",
     "text": [
      "SHAP values difference: -2.894186224011719e-09\n",
      "SHAP values correction 2\n",
      "Background count: 10\n",
      "Background min diff: -3.900623321533203\n",
      "Background max diff: 2.264179229736328\n"
     ]
    },
    {
     "data": {
      "application/vnd.jupyter.widget-view+json": {
       "model_id": "6dc6e17e6b544686b308aacce4821eb8",
       "version_major": 2,
       "version_minor": 0
      },
      "text/plain": [
       "  0%|          | 0/1 [00:00<?, ?it/s]"
      ]
     },
     "metadata": {},
     "output_type": "display_data"
    },
    {
     "name": "stdout",
     "output_type": "stream",
     "text": [
      "SHAP values difference: -1.2211269151407578e-07\n",
      "Background count: 10\n",
      "Background min diff: -4.771270751953125\n",
      "Background max diff: 4.85614013671875\n"
     ]
    },
    {
     "data": {
      "application/vnd.jupyter.widget-view+json": {
       "model_id": "0e00d88d0802419fbafa7ce0d2ca1d06",
       "version_major": 2,
       "version_minor": 0
      },
      "text/plain": [
       "  0%|          | 0/1 [00:00<?, ?it/s]"
      ]
     },
     "metadata": {},
     "output_type": "display_data"
    },
    {
     "name": "stdout",
     "output_type": "stream",
     "text": [
      "SHAP values difference: 8.109455862381765e-08\n",
      "Background count: 10\n",
      "Background min diff: -3.268177032470703\n",
      "Background max diff: 2.896625518798828\n"
     ]
    },
    {
     "data": {
      "application/vnd.jupyter.widget-view+json": {
       "model_id": "7489ae23bc17451f93c3cc28c858fe51",
       "version_major": 2,
       "version_minor": 0
      },
      "text/plain": [
       "  0%|          | 0/1 [00:00<?, ?it/s]"
      ]
     },
     "metadata": {},
     "output_type": "display_data"
    },
    {
     "name": "stdout",
     "output_type": "stream",
     "text": [
      "SHAP values difference: -2.3086903233604517e-07\n",
      "SHAP values correction 2\n",
      "Background count: 10\n",
      "Background min diff: -7.105247497558594\n",
      "Background max diff: 2.7794723510742188\n"
     ]
    },
    {
     "data": {
      "application/vnd.jupyter.widget-view+json": {
       "model_id": "a53b3566c54649b8ba559b0dfd59d517",
       "version_major": 2,
       "version_minor": 0
      },
      "text/plain": [
       "  0%|          | 0/1 [00:00<?, ?it/s]"
      ]
     },
     "metadata": {},
     "output_type": "display_data"
    },
    {
     "name": "stdout",
     "output_type": "stream",
     "text": [
      "SHAP values difference: 8.804052242794569e-08\n",
      "Background count: 10\n",
      "Background min diff: -7.234357833862305\n",
      "Background max diff: 8.113199234008789\n"
     ]
    },
    {
     "data": {
      "application/vnd.jupyter.widget-view+json": {
       "model_id": "e57d03601e2b4fd0aded33fa4e37fb29",
       "version_major": 2,
       "version_minor": 0
      },
      "text/plain": [
       "  0%|          | 0/1 [00:00<?, ?it/s]"
      ]
     },
     "metadata": {},
     "output_type": "display_data"
    },
    {
     "name": "stdout",
     "output_type": "stream",
     "text": [
      "SHAP values difference: -4.651375840047933e-08\n",
      "SHAP values correction 2\n",
      "Background count: 10\n",
      "Background min diff: -4.934131622314453\n",
      "Background max diff: 4.950588226318359\n"
     ]
    },
    {
     "data": {
      "application/vnd.jupyter.widget-view+json": {
       "model_id": "a89c6146010741e294a24464ce917b65",
       "version_major": 2,
       "version_minor": 0
      },
      "text/plain": [
       "  0%|          | 0/1 [00:00<?, ?it/s]"
      ]
     },
     "metadata": {},
     "output_type": "display_data"
    },
    {
     "name": "stdout",
     "output_type": "stream",
     "text": [
      "SHAP values difference: 1.7011828390423034e-08\n",
      "Background count: 10\n",
      "Background min diff: -13.296379089355469\n",
      "Background max diff: 1.93792724609375\n"
     ]
    },
    {
     "data": {
      "application/vnd.jupyter.widget-view+json": {
       "model_id": "2e642d39a30f42b1b8833ff8ffeac944",
       "version_major": 2,
       "version_minor": 0
      },
      "text/plain": [
       "  0%|          | 0/1 [00:00<?, ?it/s]"
      ]
     },
     "metadata": {},
     "output_type": "display_data"
    },
    {
     "name": "stdout",
     "output_type": "stream",
     "text": [
      "SHAP values difference: -4.787661289640255e-08\n",
      "Background count: 10\n",
      "Background min diff: -4.008457183837891\n",
      "Background max diff: 3.627025604248047\n"
     ]
    },
    {
     "data": {
      "application/vnd.jupyter.widget-view+json": {
       "model_id": "f309f511e283466296c52070d4d9e056",
       "version_major": 2,
       "version_minor": 0
      },
      "text/plain": [
       "  0%|          | 0/1 [00:00<?, ?it/s]"
      ]
     },
     "metadata": {},
     "output_type": "display_data"
    },
    {
     "name": "stdout",
     "output_type": "stream",
     "text": [
      "SHAP values difference: -7.957756897880586e-08\n",
      "SHAP values correction 2\n",
      "Background count: 10\n",
      "Background min diff: -3.6057052612304688\n",
      "Background max diff: 3.960906982421875\n"
     ]
    },
    {
     "data": {
      "application/vnd.jupyter.widget-view+json": {
       "model_id": "a1d325854f934b24af8322963f2af453",
       "version_major": 2,
       "version_minor": 0
      },
      "text/plain": [
       "  0%|          | 0/1 [00:00<?, ?it/s]"
      ]
     },
     "metadata": {},
     "output_type": "display_data"
    },
    {
     "name": "stdout",
     "output_type": "stream",
     "text": [
      "SHAP values difference: 2.447674778416342e-07\n",
      "SHAP values correction 1\n",
      "SHAP values correction 2\n",
      "Background count: 10\n",
      "Background min diff: -7.6043853759765625\n",
      "Background max diff: 7.629920959472656\n"
     ]
    },
    {
     "data": {
      "application/vnd.jupyter.widget-view+json": {
       "model_id": "4fc6eccaef194c7291930ba50f495f6e",
       "version_major": 2,
       "version_minor": 0
      },
      "text/plain": [
       "  0%|          | 0/1 [00:00<?, ?it/s]"
      ]
     },
     "metadata": {},
     "output_type": "display_data"
    },
    {
     "name": "stdout",
     "output_type": "stream",
     "text": [
      "SHAP values difference: 8.938918938383722e-09\n",
      "Background count: 10\n",
      "Background min diff: -8.08582878112793\n",
      "Background max diff: 7.261728286743164\n"
     ]
    },
    {
     "data": {
      "application/vnd.jupyter.widget-view+json": {
       "model_id": "5be1547434364efb9b61d3adbd1ac715",
       "version_major": 2,
       "version_minor": 0
      },
      "text/plain": [
       "  0%|          | 0/1 [00:00<?, ?it/s]"
      ]
     },
     "metadata": {},
     "output_type": "display_data"
    },
    {
     "name": "stdout",
     "output_type": "stream",
     "text": [
      "SHAP values difference: -7.4357373591738e-09\n",
      "Background count: 10\n",
      "Background min diff: -10.000007629394531\n",
      "Background max diff: 5.2342987060546875\n"
     ]
    },
    {
     "data": {
      "application/vnd.jupyter.widget-view+json": {
       "model_id": "538bd1b7ef3043c6917159f970553178",
       "version_major": 2,
       "version_minor": 0
      },
      "text/plain": [
       "  0%|          | 0/1 [00:00<?, ?it/s]"
      ]
     },
     "metadata": {},
     "output_type": "display_data"
    },
    {
     "name": "stdout",
     "output_type": "stream",
     "text": [
      "SHAP values difference: 9.346272022980884e-08\n",
      "Background count: 10\n",
      "Background min diff: -5.0025787353515625\n",
      "Background max diff: 4.88214111328125\n"
     ]
    },
    {
     "data": {
      "application/vnd.jupyter.widget-view+json": {
       "model_id": "6feab468805c4e7b9ea3780d113fc036",
       "version_major": 2,
       "version_minor": 0
      },
      "text/plain": [
       "  0%|          | 0/1 [00:00<?, ?it/s]"
      ]
     },
     "metadata": {},
     "output_type": "display_data"
    },
    {
     "name": "stdout",
     "output_type": "stream",
     "text": [
      "SHAP values difference: -2.5079745924472263e-07\n",
      "Background count: 10\n",
      "Background min diff: -3.274322509765625\n",
      "Background max diff: 4.376808166503906\n"
     ]
    },
    {
     "data": {
      "application/vnd.jupyter.widget-view+json": {
       "model_id": "501e8830b0ae43419be5c35e681aba39",
       "version_major": 2,
       "version_minor": 0
      },
      "text/plain": [
       "  0%|          | 0/1 [00:00<?, ?it/s]"
      ]
     },
     "metadata": {},
     "output_type": "display_data"
    },
    {
     "name": "stdout",
     "output_type": "stream",
     "text": [
      "SHAP values difference: -4.5444958018947545e-08\n",
      "SHAP values correction 2\n",
      "Background count: 10\n",
      "Background min diff: -8.027900695800781\n",
      "Background max diff: 1.8568191528320312\n"
     ]
    },
    {
     "data": {
      "application/vnd.jupyter.widget-view+json": {
       "model_id": "d27e7303abf942eda0c45ece9d3c70e5",
       "version_major": 2,
       "version_minor": 0
      },
      "text/plain": [
       "  0%|          | 0/1 [00:00<?, ?it/s]"
      ]
     },
     "metadata": {},
     "output_type": "display_data"
    },
    {
     "name": "stdout",
     "output_type": "stream",
     "text": [
      "SHAP values difference: -1.9039946064225433e-08\n",
      "SHAP values correction 2\n",
      "Background count: 10\n",
      "Background min diff: -3.3635826110839844\n",
      "Background max diff: 6.143611907958984\n"
     ]
    },
    {
     "data": {
      "application/vnd.jupyter.widget-view+json": {
       "model_id": "850062607db0401e936719957b743220",
       "version_major": 2,
       "version_minor": 0
      },
      "text/plain": [
       "  0%|          | 0/1 [00:00<?, ?it/s]"
      ]
     },
     "metadata": {},
     "output_type": "display_data"
    },
    {
     "name": "stdout",
     "output_type": "stream",
     "text": [
      "SHAP values difference: -2.488604877726175e-08\n",
      "Background count: 10\n",
      "Background min diff: -13.238883972167969\n",
      "Background max diff: 1.99542236328125\n"
     ]
    },
    {
     "data": {
      "application/vnd.jupyter.widget-view+json": {
       "model_id": "0cc4c968c3c24e31adf92dc30a8e6fff",
       "version_major": 2,
       "version_minor": 0
      },
      "text/plain": [
       "  0%|          | 0/1 [00:00<?, ?it/s]"
      ]
     },
     "metadata": {},
     "output_type": "display_data"
    },
    {
     "name": "stdout",
     "output_type": "stream",
     "text": [
      "SHAP values difference: -3.61799479264846e-08\n",
      "Background count: 10\n",
      "Background min diff: -3.306507110595703\n",
      "Background max diff: 2.858295440673828\n"
     ]
    },
    {
     "data": {
      "application/vnd.jupyter.widget-view+json": {
       "model_id": "faab3ca8fb04427189df24a31a3670d9",
       "version_major": 2,
       "version_minor": 0
      },
      "text/plain": [
       "  0%|          | 0/1 [00:00<?, ?it/s]"
      ]
     },
     "metadata": {},
     "output_type": "display_data"
    },
    {
     "name": "stdout",
     "output_type": "stream",
     "text": [
      "SHAP values difference: -1.2767180912476306e-07\n",
      "SHAP values correction 2\n",
      "Background count: 10\n",
      "Background min diff: -5.574787139892578\n",
      "Background max diff: 4.309932708740234\n"
     ]
    },
    {
     "data": {
      "application/vnd.jupyter.widget-view+json": {
       "model_id": "49db89397cf740fb8b1cbd3b53e9a050",
       "version_major": 2,
       "version_minor": 0
      },
      "text/plain": [
       "  0%|          | 0/1 [00:00<?, ?it/s]"
      ]
     },
     "metadata": {},
     "output_type": "display_data"
    },
    {
     "name": "stdout",
     "output_type": "stream",
     "text": [
      "SHAP values difference: 2.425289302721012e-09\n",
      "SHAP values correction 2\n",
      "Background count: 10\n",
      "Background min diff: -5.031867980957031\n",
      "Background max diff: 1.9466552734375\n"
     ]
    },
    {
     "data": {
      "application/vnd.jupyter.widget-view+json": {
       "model_id": "6e7b3533c9544cdab45f9ed010ca0ad2",
       "version_major": 2,
       "version_minor": 0
      },
      "text/plain": [
       "  0%|          | 0/1 [00:00<?, ?it/s]"
      ]
     },
     "metadata": {},
     "output_type": "display_data"
    },
    {
     "name": "stdout",
     "output_type": "stream",
     "text": [
      "SHAP values difference: -2.7755927334283115e-07\n",
      "SHAP values correction 2\n",
      "Background count: 10\n",
      "Background min diff: -5.879327774047852\n",
      "Background max diff: 12.58399772644043\n"
     ]
    },
    {
     "data": {
      "application/vnd.jupyter.widget-view+json": {
       "model_id": "fd411a27b6ff44aab39ba98b076bda4e",
       "version_major": 2,
       "version_minor": 0
      },
      "text/plain": [
       "  0%|          | 0/1 [00:00<?, ?it/s]"
      ]
     },
     "metadata": {},
     "output_type": "display_data"
    },
    {
     "name": "stdout",
     "output_type": "stream",
     "text": [
      "SHAP values difference: -1.3784840979802482e-06\n",
      "SHAP values correction 1\n",
      "SHAP values correction 2\n",
      "Background count: 10\n",
      "Background min diff: -5.315097808837891\n",
      "Background max diff: 6.992473602294922\n"
     ]
    },
    {
     "data": {
      "application/vnd.jupyter.widget-view+json": {
       "model_id": "f395a644e0e04bc4b50cfe6e3578a662",
       "version_major": 2,
       "version_minor": 0
      },
      "text/plain": [
       "  0%|          | 0/1 [00:00<?, ?it/s]"
      ]
     },
     "metadata": {},
     "output_type": "display_data"
    },
    {
     "name": "stdout",
     "output_type": "stream",
     "text": [
      "SHAP values difference: -1.488557330731055e-07\n",
      "SHAP values correction 2\n",
      "Background count: 10\n",
      "Background min diff: -3.8290176391601562\n",
      "Background max diff: 5.6781768798828125\n"
     ]
    },
    {
     "data": {
      "application/vnd.jupyter.widget-view+json": {
       "model_id": "122214bd8007430785233e1244a2d975",
       "version_major": 2,
       "version_minor": 0
      },
      "text/plain": [
       "  0%|          | 0/1 [00:00<?, ?it/s]"
      ]
     },
     "metadata": {},
     "output_type": "display_data"
    },
    {
     "name": "stdout",
     "output_type": "stream",
     "text": [
      "SHAP values difference: 2.765396844850443e-07\n",
      "SHAP values correction 2\n",
      "Background count: 10\n",
      "Background min diff: -3.3864974975585938\n",
      "Background max diff: 3.6996536254882812\n"
     ]
    },
    {
     "data": {
      "application/vnd.jupyter.widget-view+json": {
       "model_id": "b8398b9e640045248304fc93f049e1e4",
       "version_major": 2,
       "version_minor": 0
      },
      "text/plain": [
       "  0%|          | 0/1 [00:00<?, ?it/s]"
      ]
     },
     "metadata": {},
     "output_type": "display_data"
    },
    {
     "name": "stdout",
     "output_type": "stream",
     "text": [
      "SHAP values difference: 1.1581153813722267e-08\n",
      "Background count: 10\n",
      "Background min diff: -6.766185760498047\n",
      "Background max diff: 8.581371307373047\n"
     ]
    },
    {
     "data": {
      "application/vnd.jupyter.widget-view+json": {
       "model_id": "b58139aa17684d7d97ef07eabff8233b",
       "version_major": 2,
       "version_minor": 0
      },
      "text/plain": [
       "  0%|          | 0/1 [00:00<?, ?it/s]"
      ]
     },
     "metadata": {},
     "output_type": "display_data"
    },
    {
     "name": "stdout",
     "output_type": "stream",
     "text": [
      "SHAP values difference: 3.7885650527869075e-07\n",
      "Background count: 10\n",
      "Background min diff: -5.471157073974609\n",
      "Background max diff: 6.836414337158203\n"
     ]
    },
    {
     "data": {
      "application/vnd.jupyter.widget-view+json": {
       "model_id": "be264ac30488409e9481048787164722",
       "version_major": 2,
       "version_minor": 0
      },
      "text/plain": [
       "  0%|          | 0/1 [00:00<?, ?it/s]"
      ]
     },
     "metadata": {},
     "output_type": "display_data"
    },
    {
     "name": "stdout",
     "output_type": "stream",
     "text": [
      "SHAP values difference: 2.3891968581324363e-07\n",
      "SHAP values correction 2\n"
     ]
    },
    {
     "name": "stderr",
     "output_type": "stream",
     "text": [
      "C:\\Users\\user\\AppData\\Local\\Temp\\ipykernel_46640\\4091489871.py:313: FutureWarning: A value is trying to be set on a copy of a DataFrame or Series through chained assignment using an inplace method.\n",
      "The behavior will change in pandas 3.0. This inplace method will never work because the intermediate object on which we are setting values always behaves as a copy.\n",
      "\n",
      "For example, when doing 'df[col].method(value, inplace=True)', try using 'df.method({col: value}, inplace=True)' or df[col] = df[col].method(value) instead, to perform the operation inplace on the original object.\n",
      "\n",
      "\n",
      "  df_fig['Group'].replace(groups_rename, inplace=True)\n",
      "C:\\Users\\user\\AppData\\Local\\Temp\\ipykernel_46640\\4091489871.py:316: FutureWarning: \n",
      "\n",
      "Passing `palette` without assigning `hue` is deprecated and will be removed in v0.14.0. Assign the `x` variable to `hue` and set `legend=False` for the same effect.\n",
      "\n",
      "  violin = sns.violinplot(\n",
      "C:\\Users\\user\\AppData\\Local\\Temp\\ipykernel_46640\\4091489871.py:316: FutureWarning: \n",
      "\n",
      "The `scale` parameter has been renamed and will be removed in v0.15.0. Pass `density_norm='width'` for the same effect.\n",
      "  violin = sns.violinplot(\n",
      "C:\\Users\\user\\AppData\\Local\\Temp\\ipykernel_46640\\4091489871.py:341: FutureWarning: A value is trying to be set on a copy of a DataFrame or Series through chained assignment using an inplace method.\n",
      "The behavior will change in pandas 3.0. This inplace method will never work because the intermediate object on which we are setting values always behaves as a copy.\n",
      "\n",
      "For example, when doing 'df[col].method(value, inplace=True)', try using 'df.method({col: value}, inplace=True)' or df[col] = df[col].method(value) instead, to perform the operation inplace on the original object.\n",
      "\n",
      "\n",
      "  df_fig['Group'].replace(groups_rename, inplace=True)\n",
      "C:\\Users\\user\\AppData\\Local\\Temp\\ipykernel_46640\\4091489871.py:344: FutureWarning: \n",
      "\n",
      "Passing `palette` without assigning `hue` is deprecated and will be removed in v0.14.0. Assign the `x` variable to `hue` and set `legend=False` for the same effect.\n",
      "\n",
      "  violin = sns.violinplot(\n",
      "C:\\Users\\user\\AppData\\Local\\Temp\\ipykernel_46640\\4091489871.py:344: FutureWarning: \n",
      "\n",
      "The `scale` parameter has been renamed and will be removed in v0.15.0. Pass `density_norm='width'` for the same effect.\n",
      "  violin = sns.violinplot(\n",
      "c:\\Users\\user\\anaconda3\\envs\\py311\\Lib\\site-packages\\statannotations\\Annotator.py:825: UserWarning: Annotator was reconfigured without applying the test (again) which will probably lead to unexpected results\n",
      "  warnings.warn(\"Annotator was reconfigured without applying the \"\n",
      "c:\\Users\\user\\anaconda3\\envs\\py311\\Lib\\site-packages\\lightning_fabric\\utilities\\cloud_io.py:56: You are using `torch.load` with `weights_only=False` (the current default value), which uses the default pickle module implicitly. It is possible to construct malicious pickle data which will execute arbitrary code during unpickling (See https://github.com/pytorch/pytorch/blob/main/SECURITY.md#untrusted-models for more details). In a future release, the default value for `weights_only` will be flipped to `True`. This limits the functions that could be executed during unpickling. Arbitrary objects will no longer be allowed to be loaded via this mode unless they are explicitly allowlisted by the user via `torch.serialization.add_safe_globals`. We recommend you start setting `weights_only=True` for any use case where you don't have full control of the loaded file. Please open an issue on GitHub for any issues related to this experimental feature.\n"
     ]
    },
    {
     "data": {
      "text/html": [
       "<pre style=\"white-space:pre;overflow-x:auto;line-height:normal;font-family:Menlo,'DejaVu Sans Mono',consolas,'Courier New',monospace\"><span style=\"color: #008080; text-decoration-color: #008080; font-weight: bold\">2025</span>-<span style=\"color: #008080; text-decoration-color: #008080; font-weight: bold\">10</span>-<span style=\"color: #008080; text-decoration-color: #008080; font-weight: bold\">22</span> <span style=\"color: #00ff00; text-decoration-color: #00ff00; font-weight: bold\">14:23:52</span>,<span style=\"color: #008080; text-decoration-color: #008080; font-weight: bold\">379</span> - <span style=\"font-weight: bold\">{</span>pytorch_tabular.tabular_model:<span style=\"color: #008080; text-decoration-color: #008080; font-weight: bold\">165</span><span style=\"font-weight: bold\">}</span> - INFO - Experiment Tracking is turned off           \n",
       "</pre>\n"
      ],
      "text/plain": [
       "\u001b[1;36m2025\u001b[0m-\u001b[1;36m10\u001b[0m-\u001b[1;36m22\u001b[0m \u001b[1;92m14:23:52\u001b[0m,\u001b[1;36m379\u001b[0m - \u001b[1m{\u001b[0mpytorch_tabular.tabular_model:\u001b[1;36m165\u001b[0m\u001b[1m}\u001b[0m - INFO - Experiment Tracking is turned off           \n"
      ]
     },
     "metadata": {},
     "output_type": "display_data"
    },
    {
     "data": {
      "text/html": [
       "<pre style=\"white-space:pre;overflow-x:auto;line-height:normal;font-family:Menlo,'DejaVu Sans Mono',consolas,'Courier New',monospace\"><span style=\"color: #008080; text-decoration-color: #008080; font-weight: bold\">2025</span>-<span style=\"color: #008080; text-decoration-color: #008080; font-weight: bold\">10</span>-<span style=\"color: #008080; text-decoration-color: #008080; font-weight: bold\">22</span> <span style=\"color: #00ff00; text-decoration-color: #00ff00; font-weight: bold\">14:23:52</span>,<span style=\"color: #008080; text-decoration-color: #008080; font-weight: bold\">390</span> - <span style=\"font-weight: bold\">{</span>pytorch_tabular.tabular_model:<span style=\"color: #008080; text-decoration-color: #008080; font-weight: bold\">340</span><span style=\"font-weight: bold\">}</span> - INFO - Preparing the Trainer                       \n",
       "</pre>\n"
      ],
      "text/plain": [
       "\u001b[1;36m2025\u001b[0m-\u001b[1;36m10\u001b[0m-\u001b[1;36m22\u001b[0m \u001b[1;92m14:23:52\u001b[0m,\u001b[1;36m390\u001b[0m - \u001b[1m{\u001b[0mpytorch_tabular.tabular_model:\u001b[1;36m340\u001b[0m\u001b[1m}\u001b[0m - INFO - Preparing the Trainer                       \n"
      ]
     },
     "metadata": {},
     "output_type": "display_data"
    },
    {
     "name": "stdout",
     "output_type": "stream",
     "text": [
      "Background count: 10\n",
      "Background min diff: -2.046079635620117\n",
      "Background max diff: 13.107645034790039\n"
     ]
    },
    {
     "data": {
      "application/vnd.jupyter.widget-view+json": {
       "model_id": "9c6d60dcba0649e397c22fe8dbce61f3",
       "version_major": 2,
       "version_minor": 0
      },
      "text/plain": [
       "  0%|          | 0/1 [00:00<?, ?it/s]"
      ]
     },
     "metadata": {},
     "output_type": "display_data"
    },
    {
     "name": "stdout",
     "output_type": "stream",
     "text": [
      "SHAP values difference: 1.9886837065996588e-08\n",
      "Background count: 10\n",
      "Background min diff: -2.358194351196289\n",
      "Background max diff: 12.795530319213867\n"
     ]
    },
    {
     "data": {
      "application/vnd.jupyter.widget-view+json": {
       "model_id": "2fe313e4a37c44c6a4b3a5446a802ce3",
       "version_major": 2,
       "version_minor": 0
      },
      "text/plain": [
       "  0%|          | 0/1 [00:00<?, ?it/s]"
      ]
     },
     "metadata": {},
     "output_type": "display_data"
    },
    {
     "name": "stdout",
     "output_type": "stream",
     "text": [
      "SHAP values difference: -4.941621316589817e-07\n",
      "SHAP values correction 2\n",
      "Background count: 10\n",
      "Background min diff: -7.332868576049805\n",
      "Background max diff: 7.820856094360352\n"
     ]
    },
    {
     "data": {
      "application/vnd.jupyter.widget-view+json": {
       "model_id": "14b0e034b15045fea756d8045ba0cda4",
       "version_major": 2,
       "version_minor": 0
      },
      "text/plain": [
       "  0%|          | 0/1 [00:00<?, ?it/s]"
      ]
     },
     "metadata": {},
     "output_type": "display_data"
    },
    {
     "name": "stdout",
     "output_type": "stream",
     "text": [
      "SHAP values difference: 3.727147479537507e-07\n",
      "SHAP values correction 2\n",
      "Background count: 10\n",
      "Background min diff: -8.323890686035156\n",
      "Background max diff: 6.630859375\n"
     ]
    },
    {
     "data": {
      "application/vnd.jupyter.widget-view+json": {
       "model_id": "62e818d818f344119d432818aeec5b81",
       "version_major": 2,
       "version_minor": 0
      },
      "text/plain": [
       "  0%|          | 0/1 [00:00<?, ?it/s]"
      ]
     },
     "metadata": {},
     "output_type": "display_data"
    },
    {
     "name": "stdout",
     "output_type": "stream",
     "text": [
      "SHAP values difference: -9.513565046859185e-09\n",
      "Background count: 10\n",
      "Background min diff: -7.342506408691406\n",
      "Background max diff: 7.537445068359375\n"
     ]
    },
    {
     "data": {
      "application/vnd.jupyter.widget-view+json": {
       "model_id": "4830e7e16f544fc280da59b16030e667",
       "version_major": 2,
       "version_minor": 0
      },
      "text/plain": [
       "  0%|          | 0/1 [00:00<?, ?it/s]"
      ]
     },
     "metadata": {},
     "output_type": "display_data"
    },
    {
     "name": "stdout",
     "output_type": "stream",
     "text": [
      "SHAP values difference: 2.706160362464516e-08\n",
      "Background count: 10\n",
      "Background min diff: -13.388916015625\n",
      "Background max diff: 1.5658340454101562\n"
     ]
    },
    {
     "data": {
      "application/vnd.jupyter.widget-view+json": {
       "model_id": "97e291091133408a95ce41921dfc9a79",
       "version_major": 2,
       "version_minor": 0
      },
      "text/plain": [
       "  0%|          | 0/1 [00:00<?, ?it/s]"
      ]
     },
     "metadata": {},
     "output_type": "display_data"
    },
    {
     "name": "stdout",
     "output_type": "stream",
     "text": [
      "SHAP values difference: 3.627422184848683e-08\n",
      "Background count: 10\n",
      "Background min diff: -2.205158233642578\n",
      "Background max diff: 0.9902534484863281\n"
     ]
    },
    {
     "data": {
      "application/vnd.jupyter.widget-view+json": {
       "model_id": "6c564aefd1e74ef1836fbf0fc886d471",
       "version_major": 2,
       "version_minor": 0
      },
      "text/plain": [
       "  0%|          | 0/1 [00:00<?, ?it/s]"
      ]
     },
     "metadata": {},
     "output_type": "display_data"
    },
    {
     "name": "stdout",
     "output_type": "stream",
     "text": [
      "SHAP values difference: 1.7372367366874641e-07\n",
      "SHAP values correction 2\n",
      "Background count: 10\n",
      "Background min diff: -5.217521667480469\n",
      "Background max diff: 6.350738525390625\n"
     ]
    },
    {
     "data": {
      "application/vnd.jupyter.widget-view+json": {
       "model_id": "ea5fd0e234e9471c9fccd8689b8f48ac",
       "version_major": 2,
       "version_minor": 0
      },
      "text/plain": [
       "  0%|          | 0/1 [00:00<?, ?it/s]"
      ]
     },
     "metadata": {},
     "output_type": "display_data"
    },
    {
     "name": "stdout",
     "output_type": "stream",
     "text": [
      "SHAP values difference: 3.62351677551942e-07\n",
      "SHAP values correction 2\n",
      "Background count: 10\n",
      "Background min diff: -19.35742950439453\n",
      "Background max diff: -4.402679443359375\n"
     ]
    },
    {
     "data": {
      "application/vnd.jupyter.widget-view+json": {
       "model_id": "02dbc3d90bc648f5b3e36616de2da6da",
       "version_major": 2,
       "version_minor": 0
      },
      "text/plain": [
       "  0%|          | 0/1 [00:00<?, ?it/s]"
      ]
     },
     "metadata": {},
     "output_type": "display_data"
    },
    {
     "name": "stdout",
     "output_type": "stream",
     "text": [
      "SHAP values difference: 1.0747132250799041e-07\n",
      "SHAP values correction 2\n",
      "Background count: 10\n",
      "Background min diff: -6.94097900390625\n",
      "Background max diff: 5.993995666503906\n"
     ]
    },
    {
     "data": {
      "application/vnd.jupyter.widget-view+json": {
       "model_id": "d489875408104f739586db7c835b7887",
       "version_major": 2,
       "version_minor": 0
      },
      "text/plain": [
       "  0%|          | 0/1 [00:00<?, ?it/s]"
      ]
     },
     "metadata": {},
     "output_type": "display_data"
    },
    {
     "name": "stdout",
     "output_type": "stream",
     "text": [
      "SHAP values difference: -1.5897349214810674e-07\n",
      "Background count: 10\n",
      "Background min diff: -4.269290924072266\n",
      "Background max diff: 3.449573516845703\n"
     ]
    },
    {
     "data": {
      "application/vnd.jupyter.widget-view+json": {
       "model_id": "6a924a62837943c486fefb579d81e127",
       "version_major": 2,
       "version_minor": 0
      },
      "text/plain": [
       "  0%|          | 0/1 [00:00<?, ?it/s]"
      ]
     },
     "metadata": {},
     "output_type": "display_data"
    },
    {
     "name": "stdout",
     "output_type": "stream",
     "text": [
      "SHAP values difference: -2.434094739101056e-07\n",
      "Background count: 10\n",
      "Background min diff: -8.638748168945312\n",
      "Background max diff: 6.316001892089844\n"
     ]
    },
    {
     "data": {
      "application/vnd.jupyter.widget-view+json": {
       "model_id": "38505738b85a4f45aea0e11b01826990",
       "version_major": 2,
       "version_minor": 0
      },
      "text/plain": [
       "  0%|          | 0/1 [00:00<?, ?it/s]"
      ]
     },
     "metadata": {},
     "output_type": "display_data"
    },
    {
     "name": "stdout",
     "output_type": "stream",
     "text": [
      "SHAP values difference: -2.0674341882909175e-07\n",
      "Background count: 10\n",
      "Background min diff: -3.628631591796875\n",
      "Background max diff: 4.090232849121094\n"
     ]
    },
    {
     "data": {
      "application/vnd.jupyter.widget-view+json": {
       "model_id": "55cd6dd7c8ef48f9a5ac9a755fe4a0e9",
       "version_major": 2,
       "version_minor": 0
      },
      "text/plain": [
       "  0%|          | 0/1 [00:00<?, ?it/s]"
      ]
     },
     "metadata": {},
     "output_type": "display_data"
    },
    {
     "name": "stdout",
     "output_type": "stream",
     "text": [
      "SHAP values difference: -8.207181423358634e-08\n",
      "Background count: 10\n",
      "Background min diff: -3.280132293701172\n",
      "Background max diff: 3.6949119567871094\n"
     ]
    },
    {
     "data": {
      "application/vnd.jupyter.widget-view+json": {
       "model_id": "40e7cdfb2d0d484faf1dae8c6935a06f",
       "version_major": 2,
       "version_minor": 0
      },
      "text/plain": [
       "  0%|          | 0/1 [00:00<?, ?it/s]"
      ]
     },
     "metadata": {},
     "output_type": "display_data"
    },
    {
     "name": "stdout",
     "output_type": "stream",
     "text": [
      "SHAP values difference: -2.769135107882903e-07\n",
      "SHAP values correction 2\n",
      "Background count: 10\n",
      "Background min diff: -3.200733184814453\n",
      "Background max diff: 3.774311065673828\n"
     ]
    },
    {
     "data": {
      "application/vnd.jupyter.widget-view+json": {
       "model_id": "90304955dedb4e1aba8579139cce1a3a",
       "version_major": 2,
       "version_minor": 0
      },
      "text/plain": [
       "  0%|          | 0/1 [00:00<?, ?it/s]"
      ]
     },
     "metadata": {},
     "output_type": "display_data"
    },
    {
     "name": "stdout",
     "output_type": "stream",
     "text": [
      "SHAP values difference: 2.409850963225324e-07\n",
      "SHAP values correction 1\n",
      "SHAP values correction 2\n",
      "Background count: 10\n",
      "Background min diff: -1.1480636596679688\n",
      "Background max diff: 14.005661010742188\n"
     ]
    },
    {
     "data": {
      "application/vnd.jupyter.widget-view+json": {
       "model_id": "504d2acf55214fd2a7840b8383cc333f",
       "version_major": 2,
       "version_minor": 0
      },
      "text/plain": [
       "  0%|          | 0/1 [00:00<?, ?it/s]"
      ]
     },
     "metadata": {},
     "output_type": "display_data"
    },
    {
     "name": "stdout",
     "output_type": "stream",
     "text": [
      "SHAP values difference: -1.514899174992479e-07\n",
      "Background count: 10\n",
      "Background min diff: -4.054534912109375\n",
      "Background max diff: 5.298561096191406\n"
     ]
    },
    {
     "data": {
      "application/vnd.jupyter.widget-view+json": {
       "model_id": "79f641334e524a5082ed0fcca7d8b571",
       "version_major": 2,
       "version_minor": 0
      },
      "text/plain": [
       "  0%|          | 0/1 [00:00<?, ?it/s]"
      ]
     },
     "metadata": {},
     "output_type": "display_data"
    },
    {
     "name": "stdout",
     "output_type": "stream",
     "text": [
      "SHAP values difference: -1.4158597316793475e-07\n",
      "SHAP values correction 2\n",
      "Background count: 10\n",
      "Background min diff: -5.052240371704102\n",
      "Background max diff: 10.101484298706055\n"
     ]
    },
    {
     "data": {
      "application/vnd.jupyter.widget-view+json": {
       "model_id": "27662268283742e0890402cdbdb0da6d",
       "version_major": 2,
       "version_minor": 0
      },
      "text/plain": [
       "  0%|          | 0/1 [00:00<?, ?it/s]"
      ]
     },
     "metadata": {},
     "output_type": "display_data"
    },
    {
     "name": "stdout",
     "output_type": "stream",
     "text": [
      "SHAP values difference: -1.6744345643360248e-07\n",
      "Background count: 10\n",
      "Background min diff: -5.012783050537109\n",
      "Background max diff: 4.340312957763672\n"
     ]
    },
    {
     "data": {
      "application/vnd.jupyter.widget-view+json": {
       "model_id": "2791a876c30a428189c913f156c403e0",
       "version_major": 2,
       "version_minor": 0
      },
      "text/plain": [
       "  0%|          | 0/1 [00:00<?, ?it/s]"
      ]
     },
     "metadata": {},
     "output_type": "display_data"
    },
    {
     "name": "stdout",
     "output_type": "stream",
     "text": [
      "SHAP values difference: 1.279873966808509e-07\n",
      "SHAP values correction 2\n",
      "Background count: 10\n",
      "Background min diff: -7.258947372436523\n",
      "Background max diff: 7.894777297973633\n"
     ]
    },
    {
     "data": {
      "application/vnd.jupyter.widget-view+json": {
       "model_id": "6e49907fe82a483a8563f8128dae4256",
       "version_major": 2,
       "version_minor": 0
      },
      "text/plain": [
       "  0%|          | 0/1 [00:00<?, ?it/s]"
      ]
     },
     "metadata": {},
     "output_type": "display_data"
    },
    {
     "name": "stdout",
     "output_type": "stream",
     "text": [
      "SHAP values difference: 3.1831124225334406e-07\n",
      "Background count: 10\n",
      "Background min diff: -3.9533157348632812\n",
      "Background max diff: 4.386199951171875\n"
     ]
    },
    {
     "data": {
      "application/vnd.jupyter.widget-view+json": {
       "model_id": "94bee243412546d389f554c44c2e1c82",
       "version_major": 2,
       "version_minor": 0
      },
      "text/plain": [
       "  0%|          | 0/1 [00:00<?, ?it/s]"
      ]
     },
     "metadata": {},
     "output_type": "display_data"
    },
    {
     "name": "stdout",
     "output_type": "stream",
     "text": [
      "SHAP values difference: -2.188065835184716e-07\n",
      "SHAP values correction 2\n",
      "Background count: 10\n",
      "Background min diff: -1.6299266815185547\n",
      "Background max diff: 13.523797988891602\n"
     ]
    },
    {
     "data": {
      "application/vnd.jupyter.widget-view+json": {
       "model_id": "a6429f4d33414ac094f7ff141558560b",
       "version_major": 2,
       "version_minor": 0
      },
      "text/plain": [
       "  0%|          | 0/1 [00:00<?, ?it/s]"
      ]
     },
     "metadata": {},
     "output_type": "display_data"
    },
    {
     "name": "stdout",
     "output_type": "stream",
     "text": [
      "SHAP values difference: -1.1428087276499355e-07\n",
      "SHAP values correction 2\n",
      "Background count: 10\n",
      "Background min diff: -3.293048858642578\n",
      "Background max diff: 5.267902374267578\n"
     ]
    },
    {
     "data": {
      "application/vnd.jupyter.widget-view+json": {
       "model_id": "fba060ac0a0c42f7a7a72e758b0e2d81",
       "version_major": 2,
       "version_minor": 0
      },
      "text/plain": [
       "  0%|          | 0/1 [00:00<?, ?it/s]"
      ]
     },
     "metadata": {},
     "output_type": "display_data"
    },
    {
     "name": "stdout",
     "output_type": "stream",
     "text": [
      "SHAP values difference: 1.6503106614607077e-07\n",
      "SHAP values correction 2\n",
      "Background count: 10\n",
      "Background min diff: -1.5343818664550781\n",
      "Background max diff: 1.6610298156738281\n"
     ]
    },
    {
     "data": {
      "application/vnd.jupyter.widget-view+json": {
       "model_id": "25008286a4914db184e40c2841c42509",
       "version_major": 2,
       "version_minor": 0
      },
      "text/plain": [
       "  0%|          | 0/1 [00:00<?, ?it/s]"
      ]
     },
     "metadata": {},
     "output_type": "display_data"
    },
    {
     "name": "stdout",
     "output_type": "stream",
     "text": [
      "SHAP values difference: -1.3510148555440082e-08\n",
      "SHAP values correction 2\n",
      "Background count: 10\n",
      "Background min diff: -4.052619934082031\n",
      "Background max diff: 3.46405029296875\n"
     ]
    },
    {
     "data": {
      "application/vnd.jupyter.widget-view+json": {
       "model_id": "8d0dff0cde864110b4155e21075e1cff",
       "version_major": 2,
       "version_minor": 0
      },
      "text/plain": [
       "  0%|          | 0/1 [00:00<?, ?it/s]"
      ]
     },
     "metadata": {},
     "output_type": "display_data"
    },
    {
     "name": "stdout",
     "output_type": "stream",
     "text": [
      "SHAP values difference: 4.0142040802493284e-08\n",
      "Background count: 10\n",
      "Background min diff: -6.515415191650391\n",
      "Background max diff: 5.084278106689453\n"
     ]
    },
    {
     "data": {
      "application/vnd.jupyter.widget-view+json": {
       "model_id": "36643827091f44e6b03159a67fed9dc6",
       "version_major": 2,
       "version_minor": 0
      },
      "text/plain": [
       "  0%|          | 0/1 [00:00<?, ?it/s]"
      ]
     },
     "metadata": {},
     "output_type": "display_data"
    },
    {
     "name": "stdout",
     "output_type": "stream",
     "text": [
      "SHAP values difference: 4.0560962588642724e-08\n",
      "Background count: 10\n",
      "Background min diff: -3.3411598205566406\n",
      "Background max diff: 4.377704620361328\n"
     ]
    },
    {
     "data": {
      "application/vnd.jupyter.widget-view+json": {
       "model_id": "72ee29759aa34490b5096945093df269",
       "version_major": 2,
       "version_minor": 0
      },
      "text/plain": [
       "  0%|          | 0/1 [00:00<?, ?it/s]"
      ]
     },
     "metadata": {},
     "output_type": "display_data"
    },
    {
     "name": "stdout",
     "output_type": "stream",
     "text": [
      "SHAP values difference: 2.1032643360285874e-07\n",
      "Background count: 10\n",
      "Background min diff: -7.188926696777344\n",
      "Background max diff: 4.4107666015625\n"
     ]
    },
    {
     "data": {
      "application/vnd.jupyter.widget-view+json": {
       "model_id": "0c2ad4bbdc8c476cb3f75ee077c4b9c5",
       "version_major": 2,
       "version_minor": 0
      },
      "text/plain": [
       "  0%|          | 0/1 [00:00<?, ?it/s]"
      ]
     },
     "metadata": {},
     "output_type": "display_data"
    },
    {
     "name": "stdout",
     "output_type": "stream",
     "text": [
      "SHAP values difference: 3.1097641794985975e-08\n",
      "Background count: 10\n",
      "Background min diff: -21.65996551513672\n",
      "Background max diff: -6.7052154541015625\n"
     ]
    },
    {
     "data": {
      "application/vnd.jupyter.widget-view+json": {
       "model_id": "8c458a2ab879431cac1e823b95d2b35e",
       "version_major": 2,
       "version_minor": 0
      },
      "text/plain": [
       "  0%|          | 0/1 [00:00<?, ?it/s]"
      ]
     },
     "metadata": {},
     "output_type": "display_data"
    },
    {
     "name": "stdout",
     "output_type": "stream",
     "text": [
      "SHAP values difference: 1.3084828509590807e-07\n",
      "Background count: 10\n",
      "Background min diff: -2.8248729705810547\n",
      "Background max diff: 7.369073867797852\n"
     ]
    },
    {
     "data": {
      "application/vnd.jupyter.widget-view+json": {
       "model_id": "cfe2252b89a04dd79b517e05085e569c",
       "version_major": 2,
       "version_minor": 0
      },
      "text/plain": [
       "  0%|          | 0/1 [00:00<?, ?it/s]"
      ]
     },
     "metadata": {},
     "output_type": "display_data"
    },
    {
     "name": "stdout",
     "output_type": "stream",
     "text": [
      "SHAP values difference: -1.5585683854624222e-07\n",
      "Background count: 10\n",
      "Background min diff: -4.782649993896484\n",
      "Background max diff: 3.1001625061035156\n"
     ]
    },
    {
     "data": {
      "application/vnd.jupyter.widget-view+json": {
       "model_id": "863c38461037415c820507ae85b479ff",
       "version_major": 2,
       "version_minor": 0
      },
      "text/plain": [
       "  0%|          | 0/1 [00:00<?, ?it/s]"
      ]
     },
     "metadata": {},
     "output_type": "display_data"
    },
    {
     "name": "stdout",
     "output_type": "stream",
     "text": [
      "SHAP values difference: 2.3872070831210124e-07\n",
      "SHAP values correction 1\n",
      "SHAP values correction 2\n",
      "Background count: 10\n",
      "Background min diff: -5.9206085205078125\n",
      "Background max diff: 2.5265655517578125\n"
     ]
    },
    {
     "data": {
      "application/vnd.jupyter.widget-view+json": {
       "model_id": "8bd4cf98154f4305977c3e286b049c6d",
       "version_major": 2,
       "version_minor": 0
      },
      "text/plain": [
       "  0%|          | 0/1 [00:00<?, ?it/s]"
      ]
     },
     "metadata": {},
     "output_type": "display_data"
    },
    {
     "name": "stdout",
     "output_type": "stream",
     "text": [
      "SHAP values difference: 1.8024204351263506e-09\n",
      "SHAP values correction 2\n",
      "Background count: 10\n",
      "Background min diff: -3.661663055419922\n",
      "Background max diff: 2.530529022216797\n"
     ]
    },
    {
     "data": {
      "application/vnd.jupyter.widget-view+json": {
       "model_id": "e4a25d7502514d1abe88e295ecfdcd7a",
       "version_major": 2,
       "version_minor": 0
      },
      "text/plain": [
       "  0%|          | 0/1 [00:00<?, ?it/s]"
      ]
     },
     "metadata": {},
     "output_type": "display_data"
    },
    {
     "name": "stdout",
     "output_type": "stream",
     "text": [
      "SHAP values difference: 2.2069855631912105e-07\n",
      "Background count: 10\n",
      "Background min diff: -6.137592315673828\n",
      "Background max diff: 5.462100982666016\n"
     ]
    },
    {
     "data": {
      "application/vnd.jupyter.widget-view+json": {
       "model_id": "e9e025bee46e470e8d9eb480d64bf658",
       "version_major": 2,
       "version_minor": 0
      },
      "text/plain": [
       "  0%|          | 0/1 [00:00<?, ?it/s]"
      ]
     },
     "metadata": {},
     "output_type": "display_data"
    },
    {
     "name": "stdout",
     "output_type": "stream",
     "text": [
      "SHAP values difference: 2.0296538139064069e-07\n",
      "Background count: 10\n",
      "Background min diff: -3.5876617431640625\n",
      "Background max diff: 2.9502487182617188\n"
     ]
    },
    {
     "data": {
      "application/vnd.jupyter.widget-view+json": {
       "model_id": "b8ec932f364a4ecaa20b8534f1054aa4",
       "version_major": 2,
       "version_minor": 0
      },
      "text/plain": [
       "  0%|          | 0/1 [00:00<?, ?it/s]"
      ]
     },
     "metadata": {},
     "output_type": "display_data"
    },
    {
     "name": "stdout",
     "output_type": "stream",
     "text": [
      "SHAP values difference: 1.1845540370813978e-07\n",
      "Background count: 10\n",
      "Background min diff: -2.2818145751953125\n",
      "Background max diff: 0.9135971069335938\n"
     ]
    },
    {
     "data": {
      "application/vnd.jupyter.widget-view+json": {
       "model_id": "f95d0d76459c45969ad1d39e0a2979d9",
       "version_major": 2,
       "version_minor": 0
      },
      "text/plain": [
       "  0%|          | 0/1 [00:00<?, ?it/s]"
      ]
     },
     "metadata": {},
     "output_type": "display_data"
    },
    {
     "name": "stdout",
     "output_type": "stream",
     "text": [
      "SHAP values difference: 2.0971794834068191e-07\n",
      "SHAP values correction 2\n",
      "Background count: 10\n",
      "Background min diff: -2.4651412963867188\n",
      "Background max diff: 4.0727691650390625\n"
     ]
    },
    {
     "data": {
      "application/vnd.jupyter.widget-view+json": {
       "model_id": "4fcd5a8e07ad4890bed29af9ecb23aa3",
       "version_major": 2,
       "version_minor": 0
      },
      "text/plain": [
       "  0%|          | 0/1 [00:00<?, ?it/s]"
      ]
     },
     "metadata": {},
     "output_type": "display_data"
    },
    {
     "name": "stdout",
     "output_type": "stream",
     "text": [
      "SHAP values difference: -1.7828896048399656e-07\n",
      "Background count: 10\n",
      "Background min diff: -9.687339782714844\n",
      "Background max diff: 5.2674102783203125\n"
     ]
    },
    {
     "data": {
      "application/vnd.jupyter.widget-view+json": {
       "model_id": "4edf51a032f14143ac257bc352d256d0",
       "version_major": 2,
       "version_minor": 0
      },
      "text/plain": [
       "  0%|          | 0/1 [00:00<?, ?it/s]"
      ]
     },
     "metadata": {},
     "output_type": "display_data"
    },
    {
     "name": "stdout",
     "output_type": "stream",
     "text": [
      "SHAP values difference: 2.1502472691281582e-08\n",
      "SHAP values correction 2\n",
      "Background count: 10\n",
      "Background min diff: -1.7487335205078125\n",
      "Background max diff: 2.3219451904296875\n"
     ]
    },
    {
     "data": {
      "application/vnd.jupyter.widget-view+json": {
       "model_id": "d2b3374025fb47c7a77ff7c604be46e0",
       "version_major": 2,
       "version_minor": 0
      },
      "text/plain": [
       "  0%|          | 0/1 [00:00<?, ?it/s]"
      ]
     },
     "metadata": {},
     "output_type": "display_data"
    },
    {
     "name": "stdout",
     "output_type": "stream",
     "text": [
      "SHAP values difference: -1.1500863728031163e-07\n",
      "SHAP values correction 2\n",
      "Background count: 10\n",
      "Background min diff: -0.775909423828125\n",
      "Background max diff: 2.3218765258789062\n"
     ]
    },
    {
     "data": {
      "application/vnd.jupyter.widget-view+json": {
       "model_id": "ddf2a186e55e44c3b59f58012c60e7db",
       "version_major": 2,
       "version_minor": 0
      },
      "text/plain": [
       "  0%|          | 0/1 [00:00<?, ?it/s]"
      ]
     },
     "metadata": {},
     "output_type": "display_data"
    },
    {
     "name": "stdout",
     "output_type": "stream",
     "text": [
      "SHAP values difference: -1.769874380386227e-07\n",
      "SHAP values correction 2\n",
      "Background count: 10\n",
      "Background min diff: -1.8233985900878906\n",
      "Background max diff: 2.882427215576172\n"
     ]
    },
    {
     "data": {
      "application/vnd.jupyter.widget-view+json": {
       "model_id": "fdf2e1b81f4d4b1891d3f3b3edd4837c",
       "version_major": 2,
       "version_minor": 0
      },
      "text/plain": [
       "  0%|          | 0/1 [00:00<?, ?it/s]"
      ]
     },
     "metadata": {},
     "output_type": "display_data"
    },
    {
     "name": "stdout",
     "output_type": "stream",
     "text": [
      "SHAP values difference: -7.437481741590091e-08\n",
      "Background count: 10\n",
      "Background min diff: -5.705509185791016\n",
      "Background max diff: 5.970096588134766\n"
     ]
    },
    {
     "data": {
      "application/vnd.jupyter.widget-view+json": {
       "model_id": "6b74501064cd48898718a5cf7396c247",
       "version_major": 2,
       "version_minor": 0
      },
      "text/plain": [
       "  0%|          | 0/1 [00:00<?, ?it/s]"
      ]
     },
     "metadata": {},
     "output_type": "display_data"
    },
    {
     "name": "stdout",
     "output_type": "stream",
     "text": [
      "SHAP values difference: 1.1998497839726951e-07\n",
      "SHAP values correction 2\n",
      "Background count: 10\n",
      "Background min diff: -6.937042236328125\n",
      "Background max diff: 4.662651062011719\n"
     ]
    },
    {
     "data": {
      "application/vnd.jupyter.widget-view+json": {
       "model_id": "df7a5d09f7a948ecb5386670038f95bf",
       "version_major": 2,
       "version_minor": 0
      },
      "text/plain": [
       "  0%|          | 0/1 [00:00<?, ?it/s]"
      ]
     },
     "metadata": {},
     "output_type": "display_data"
    },
    {
     "name": "stdout",
     "output_type": "stream",
     "text": [
      "SHAP values difference: 6.301366184402468e-08\n",
      "Background count: 10\n",
      "Background min diff: -2.3830833435058594\n",
      "Background max diff: 2.241474151611328\n"
     ]
    },
    {
     "data": {
      "application/vnd.jupyter.widget-view+json": {
       "model_id": "a5742efd6a754583addbe19dfabf9823",
       "version_major": 2,
       "version_minor": 0
      },
      "text/plain": [
       "  0%|          | 0/1 [00:00<?, ?it/s]"
      ]
     },
     "metadata": {},
     "output_type": "display_data"
    },
    {
     "name": "stdout",
     "output_type": "stream",
     "text": [
      "SHAP values difference: 3.0732157441093477e-07\n",
      "SHAP values correction 2\n",
      "Background count: 10\n",
      "Background min diff: -3.818927764892578\n",
      "Background max diff: 4.063884735107422\n"
     ]
    },
    {
     "data": {
      "application/vnd.jupyter.widget-view+json": {
       "model_id": "ee64f43bc7aa4bf6bec0b6c71711465e",
       "version_major": 2,
       "version_minor": 0
      },
      "text/plain": [
       "  0%|          | 0/1 [00:00<?, ?it/s]"
      ]
     },
     "metadata": {},
     "output_type": "display_data"
    },
    {
     "name": "stdout",
     "output_type": "stream",
     "text": [
      "SHAP values difference: 2.1078954759445878e-07\n",
      "SHAP values correction 2\n",
      "Background count: 10\n",
      "Background min diff: -2.2024192810058594\n",
      "Background max diff: 0.9929924011230469\n"
     ]
    },
    {
     "data": {
      "application/vnd.jupyter.widget-view+json": {
       "model_id": "765b4b1531ca4179a227d92ec4773ad0",
       "version_major": 2,
       "version_minor": 0
      },
      "text/plain": [
       "  0%|          | 0/1 [00:00<?, ?it/s]"
      ]
     },
     "metadata": {},
     "output_type": "display_data"
    },
    {
     "name": "stdout",
     "output_type": "stream",
     "text": [
      "SHAP values difference: 5.5112819197233875e-08\n",
      "SHAP values correction 2\n",
      "Background count: 10\n",
      "Background min diff: -6.64293098449707\n",
      "Background max diff: 8.510793685913086\n"
     ]
    },
    {
     "data": {
      "application/vnd.jupyter.widget-view+json": {
       "model_id": "9840c13289ed4dc5b2ce151c770d1205",
       "version_major": 2,
       "version_minor": 0
      },
      "text/plain": [
       "  0%|          | 0/1 [00:00<?, ?it/s]"
      ]
     },
     "metadata": {},
     "output_type": "display_data"
    },
    {
     "name": "stdout",
     "output_type": "stream",
     "text": [
      "SHAP values difference: -2.285232518772773e-07\n",
      "Background count: 10\n",
      "Background min diff: -4.521144866943359\n",
      "Background max diff: 5.416164398193359\n"
     ]
    },
    {
     "data": {
      "application/vnd.jupyter.widget-view+json": {
       "model_id": "b6ed1a602f1e40d4931f7268950384b4",
       "version_major": 2,
       "version_minor": 0
      },
      "text/plain": [
       "  0%|          | 0/1 [00:00<?, ?it/s]"
      ]
     },
     "metadata": {},
     "output_type": "display_data"
    },
    {
     "name": "stdout",
     "output_type": "stream",
     "text": [
      "SHAP values difference: 1.45052482025676e-07\n",
      "Background count: 10\n",
      "Background min diff: -3.9337024688720703\n",
      "Background max diff: 6.260244369506836\n"
     ]
    },
    {
     "data": {
      "application/vnd.jupyter.widget-view+json": {
       "model_id": "245b2ba4ee0b4b33b02af79b3563070b",
       "version_major": 2,
       "version_minor": 0
      },
      "text/plain": [
       "  0%|          | 0/1 [00:00<?, ?it/s]"
      ]
     },
     "metadata": {},
     "output_type": "display_data"
    },
    {
     "name": "stdout",
     "output_type": "stream",
     "text": [
      "SHAP values difference: -2.172037874004218e-07\n",
      "Background count: 10\n",
      "Background min diff: -3.7056846618652344\n",
      "Background max diff: 3.689525604248047\n"
     ]
    },
    {
     "data": {
      "application/vnd.jupyter.widget-view+json": {
       "model_id": "3ebef3c4eb1541f8a96346ec7957796c",
       "version_major": 2,
       "version_minor": 0
      },
      "text/plain": [
       "  0%|          | 0/1 [00:00<?, ?it/s]"
      ]
     },
     "metadata": {},
     "output_type": "display_data"
    },
    {
     "name": "stdout",
     "output_type": "stream",
     "text": [
      "SHAP values difference: 6.884977921117752e-08\n",
      "Background count: 10\n",
      "Background min diff: -5.595996856689453\n",
      "Background max diff: 6.079608917236328\n"
     ]
    },
    {
     "data": {
      "application/vnd.jupyter.widget-view+json": {
       "model_id": "c5fd10b2db8d42558c80cbeaafaf65ac",
       "version_major": 2,
       "version_minor": 0
      },
      "text/plain": [
       "  0%|          | 0/1 [00:00<?, ?it/s]"
      ]
     },
     "metadata": {},
     "output_type": "display_data"
    },
    {
     "name": "stdout",
     "output_type": "stream",
     "text": [
      "SHAP values difference: -2.4906225348786393e-07\n",
      "Background count: 10\n",
      "Background min diff: -1.4878387451171875\n",
      "Background max diff: 1.7075729370117188\n"
     ]
    },
    {
     "data": {
      "application/vnd.jupyter.widget-view+json": {
       "model_id": "08203b8f4db14a129a95c97f22df1c30",
       "version_major": 2,
       "version_minor": 0
      },
      "text/plain": [
       "  0%|          | 0/1 [00:00<?, ?it/s]"
      ]
     },
     "metadata": {},
     "output_type": "display_data"
    },
    {
     "name": "stdout",
     "output_type": "stream",
     "text": [
      "SHAP values difference: -1.1785873965663995e-07\n",
      "Background count: 10\n",
      "Background min diff: -5.137428283691406\n",
      "Background max diff: 3.1417617797851562\n"
     ]
    },
    {
     "data": {
      "application/vnd.jupyter.widget-view+json": {
       "model_id": "f2a131fdc9ec4571aed7db97c5461867",
       "version_major": 2,
       "version_minor": 0
      },
      "text/plain": [
       "  0%|          | 0/1 [00:00<?, ?it/s]"
      ]
     },
     "metadata": {},
     "output_type": "display_data"
    },
    {
     "name": "stdout",
     "output_type": "stream",
     "text": [
      "SHAP values difference: 1.8463181206129775e-08\n",
      "Background count: 10\n",
      "Background min diff: -3.888904571533203\n",
      "Background max diff: 2.3032875061035156\n"
     ]
    },
    {
     "data": {
      "application/vnd.jupyter.widget-view+json": {
       "model_id": "4e27faa8c1274c7b8a68ee0df73f9205",
       "version_major": 2,
       "version_minor": 0
      },
      "text/plain": [
       "  0%|          | 0/1 [00:00<?, ?it/s]"
      ]
     },
     "metadata": {},
     "output_type": "display_data"
    },
    {
     "name": "stdout",
     "output_type": "stream",
     "text": [
      "SHAP values difference: 4.881054564975784e-07\n",
      "SHAP values correction 1\n",
      "SHAP values correction 2\n",
      "Background count: 10\n",
      "Background min diff: -5.747550964355469\n",
      "Background max diff: 4.8648681640625\n"
     ]
    },
    {
     "data": {
      "application/vnd.jupyter.widget-view+json": {
       "model_id": "a375c9ae7b1a47178a8c08eb1df19cde",
       "version_major": 2,
       "version_minor": 0
      },
      "text/plain": [
       "  0%|          | 0/1 [00:00<?, ?it/s]"
      ]
     },
     "metadata": {},
     "output_type": "display_data"
    },
    {
     "name": "stdout",
     "output_type": "stream",
     "text": [
      "SHAP values difference: 2.3540144056255485e-08\n",
      "Background count: 10\n",
      "Background min diff: -3.9008522033691406\n",
      "Background max diff: 4.660099029541016\n"
     ]
    },
    {
     "data": {
      "application/vnd.jupyter.widget-view+json": {
       "model_id": "e56b5b4ba5844522b6a4cecabf024ad7",
       "version_major": 2,
       "version_minor": 0
      },
      "text/plain": [
       "  0%|          | 0/1 [00:00<?, ?it/s]"
      ]
     },
     "metadata": {},
     "output_type": "display_data"
    },
    {
     "name": "stdout",
     "output_type": "stream",
     "text": [
      "SHAP values difference: -7.638072929694317e-08\n",
      "Background count: 10\n",
      "Background min diff: -4.797935485839844\n",
      "Background max diff: 3.4812545776367188\n"
     ]
    },
    {
     "data": {
      "application/vnd.jupyter.widget-view+json": {
       "model_id": "a6b310b9284245edb4f5f119bc2b7a10",
       "version_major": 2,
       "version_minor": 0
      },
      "text/plain": [
       "  0%|          | 0/1 [00:00<?, ?it/s]"
      ]
     },
     "metadata": {},
     "output_type": "display_data"
    },
    {
     "name": "stdout",
     "output_type": "stream",
     "text": [
      "SHAP values difference: -1.5952745080483055e-07\n",
      "Background count: 10\n",
      "Background min diff: -5.444995880126953\n",
      "Background max diff: 4.748950958251953\n"
     ]
    },
    {
     "data": {
      "application/vnd.jupyter.widget-view+json": {
       "model_id": "90077671954947af87706a668a3fb2ad",
       "version_major": 2,
       "version_minor": 0
      },
      "text/plain": [
       "  0%|          | 0/1 [00:00<?, ?it/s]"
      ]
     },
     "metadata": {},
     "output_type": "display_data"
    },
    {
     "name": "stdout",
     "output_type": "stream",
     "text": [
      "SHAP values difference: -2.6090290816682682e-08\n",
      "SHAP values correction 2\n",
      "Background count: 10\n",
      "Background min diff: -5.191768646240234\n",
      "Background max diff: 5.420650482177734\n"
     ]
    },
    {
     "data": {
      "application/vnd.jupyter.widget-view+json": {
       "model_id": "ff3b5389f80f40bfaa968a9ae2e6788a",
       "version_major": 2,
       "version_minor": 0
      },
      "text/plain": [
       "  0%|          | 0/1 [00:00<?, ?it/s]"
      ]
     },
     "metadata": {},
     "output_type": "display_data"
    },
    {
     "name": "stdout",
     "output_type": "stream",
     "text": [
      "SHAP values difference: -7.498680787421108e-08\n",
      "SHAP values correction 2\n",
      "Background count: 10\n",
      "Background min diff: -5.269542694091797\n",
      "Background max diff: 6.298717498779297\n"
     ]
    },
    {
     "data": {
      "application/vnd.jupyter.widget-view+json": {
       "model_id": "635f4c93798740ea9b993d13c15d65f7",
       "version_major": 2,
       "version_minor": 0
      },
      "text/plain": [
       "  0%|          | 0/1 [00:00<?, ?it/s]"
      ]
     },
     "metadata": {},
     "output_type": "display_data"
    },
    {
     "name": "stdout",
     "output_type": "stream",
     "text": [
      "SHAP values difference: -1.1749702011343288e-07\n",
      "SHAP values correction 2\n",
      "Background count: 10\n",
      "Background min diff: -2.855205535888672\n",
      "Background max diff: 5.027606964111328\n"
     ]
    },
    {
     "data": {
      "application/vnd.jupyter.widget-view+json": {
       "model_id": "1a0a17aac3e1412689ab84f98f13ee25",
       "version_major": 2,
       "version_minor": 0
      },
      "text/plain": [
       "  0%|          | 0/1 [00:00<?, ?it/s]"
      ]
     },
     "metadata": {},
     "output_type": "display_data"
    },
    {
     "name": "stdout",
     "output_type": "stream",
     "text": [
      "SHAP values difference: -2.684777982153719e-07\n",
      "SHAP values correction 2\n",
      "Background count: 10\n",
      "Background min diff: -5.77056884765625\n",
      "Background max diff: 5.797691345214844\n"
     ]
    },
    {
     "data": {
      "application/vnd.jupyter.widget-view+json": {
       "model_id": "701f79a49eab4374b79d7201ea75b83d",
       "version_major": 2,
       "version_minor": 0
      },
      "text/plain": [
       "  0%|          | 0/1 [00:00<?, ?it/s]"
      ]
     },
     "metadata": {},
     "output_type": "display_data"
    },
    {
     "name": "stdout",
     "output_type": "stream",
     "text": [
      "SHAP values difference: -7.827646442137848e-08\n",
      "Background count: 10\n",
      "Background min diff: -5.548175811767578\n",
      "Background max diff: 5.357959747314453\n"
     ]
    },
    {
     "data": {
      "application/vnd.jupyter.widget-view+json": {
       "model_id": "da9b7ea9b0bf4179a18ef577aabf970a",
       "version_major": 2,
       "version_minor": 0
      },
      "text/plain": [
       "  0%|          | 0/1 [00:00<?, ?it/s]"
      ]
     },
     "metadata": {},
     "output_type": "display_data"
    },
    {
     "name": "stdout",
     "output_type": "stream",
     "text": [
      "SHAP values difference: -2.203267968070577e-08\n",
      "Background count: 10\n",
      "Background min diff: -2.6486892700195312\n",
      "Background max diff: 0.546722412109375\n"
     ]
    },
    {
     "data": {
      "application/vnd.jupyter.widget-view+json": {
       "model_id": "719270816f2e401cbe594e3816b09c59",
       "version_major": 2,
       "version_minor": 0
      },
      "text/plain": [
       "  0%|          | 0/1 [00:00<?, ?it/s]"
      ]
     },
     "metadata": {},
     "output_type": "display_data"
    },
    {
     "name": "stdout",
     "output_type": "stream",
     "text": [
      "SHAP values difference: -1.701329122028028e-07\n",
      "SHAP values correction 2\n",
      "Background count: 10\n",
      "Background min diff: -4.645544052124023\n",
      "Background max diff: 5.548402786254883\n"
     ]
    },
    {
     "data": {
      "application/vnd.jupyter.widget-view+json": {
       "model_id": "f1a0881d8c3247179dea2dbe9e5777a4",
       "version_major": 2,
       "version_minor": 0
      },
      "text/plain": [
       "  0%|          | 0/1 [00:00<?, ?it/s]"
      ]
     },
     "metadata": {},
     "output_type": "display_data"
    },
    {
     "name": "stdout",
     "output_type": "stream",
     "text": [
      "SHAP values difference: 3.6397515223995924e-08\n",
      "SHAP values correction 1\n",
      "SHAP values correction 2\n",
      "Background count: 10\n",
      "Background min diff: -0.7457923889160156\n",
      "Background max diff: 2.3519935607910156\n"
     ]
    },
    {
     "data": {
      "application/vnd.jupyter.widget-view+json": {
       "model_id": "40b83bdde2284d408638350a2252cbfa",
       "version_major": 2,
       "version_minor": 0
      },
      "text/plain": [
       "  0%|          | 0/1 [00:00<?, ?it/s]"
      ]
     },
     "metadata": {},
     "output_type": "display_data"
    },
    {
     "name": "stdout",
     "output_type": "stream",
     "text": [
      "SHAP values difference: 5.991418561279716e-08\n",
      "Background count: 10\n",
      "Background min diff: -8.827659606933594\n",
      "Background max diff: 6.1270904541015625\n"
     ]
    },
    {
     "data": {
      "application/vnd.jupyter.widget-view+json": {
       "model_id": "c9196ca427184679ab40633f5d32b637",
       "version_major": 2,
       "version_minor": 0
      },
      "text/plain": [
       "  0%|          | 0/1 [00:00<?, ?it/s]"
      ]
     },
     "metadata": {},
     "output_type": "display_data"
    },
    {
     "name": "stdout",
     "output_type": "stream",
     "text": [
      "SHAP values difference: 3.1845566184074414e-09\n",
      "Background count: 10\n",
      "Background min diff: -5.442150115966797\n",
      "Background max diff: 5.531826019287109\n"
     ]
    },
    {
     "data": {
      "application/vnd.jupyter.widget-view+json": {
       "model_id": "c2c4c75caa3d4ddebdebc083e90fa215",
       "version_major": 2,
       "version_minor": 0
      },
      "text/plain": [
       "  0%|          | 0/1 [00:00<?, ?it/s]"
      ]
     },
     "metadata": {},
     "output_type": "display_data"
    },
    {
     "name": "stdout",
     "output_type": "stream",
     "text": [
      "SHAP values difference: -2.6256767426957595e-08\n",
      "SHAP values correction 2\n",
      "Background count: 10\n",
      "Background min diff: -3.030426025390625\n",
      "Background max diff: 4.852386474609375\n"
     ]
    },
    {
     "data": {
      "application/vnd.jupyter.widget-view+json": {
       "model_id": "3388ef70105d4bc4b7e9e78e57f868e8",
       "version_major": 2,
       "version_minor": 0
      },
      "text/plain": [
       "  0%|          | 0/1 [00:00<?, ?it/s]"
      ]
     },
     "metadata": {},
     "output_type": "display_data"
    },
    {
     "name": "stdout",
     "output_type": "stream",
     "text": [
      "SHAP values difference: -1.566070864100766e-07\n",
      "Background count: 10\n",
      "Background min diff: -4.057159423828125\n",
      "Background max diff: 3.4505996704101562\n"
     ]
    },
    {
     "data": {
      "application/vnd.jupyter.widget-view+json": {
       "model_id": "b96b7667082d409e9d69d7402c8e04da",
       "version_major": 2,
       "version_minor": 0
      },
      "text/plain": [
       "  0%|          | 0/1 [00:00<?, ?it/s]"
      ]
     },
     "metadata": {},
     "output_type": "display_data"
    },
    {
     "name": "stdout",
     "output_type": "stream",
     "text": [
      "SHAP values difference: -2.2957795664524383e-09\n",
      "Background count: 10\n",
      "Background min diff: -3.136991500854492\n",
      "Background max diff: 5.423959732055664\n"
     ]
    },
    {
     "data": {
      "application/vnd.jupyter.widget-view+json": {
       "model_id": "c3e922be002a4e45ba20adde0c39d426",
       "version_major": 2,
       "version_minor": 0
      },
      "text/plain": [
       "  0%|          | 0/1 [00:00<?, ?it/s]"
      ]
     },
     "metadata": {},
     "output_type": "display_data"
    },
    {
     "name": "stdout",
     "output_type": "stream",
     "text": [
      "SHAP values difference: -4.509320490342361e-07\n",
      "Background count: 10\n",
      "Background min diff: -5.69610595703125\n",
      "Background max diff: 2.751068115234375\n"
     ]
    },
    {
     "data": {
      "application/vnd.jupyter.widget-view+json": {
       "model_id": "ce6bcfaffa854017b97aa4a88bf3eef3",
       "version_major": 2,
       "version_minor": 0
      },
      "text/plain": [
       "  0%|          | 0/1 [00:00<?, ?it/s]"
      ]
     },
     "metadata": {},
     "output_type": "display_data"
    },
    {
     "name": "stdout",
     "output_type": "stream",
     "text": [
      "SHAP values difference: 1.0766893332458949e-07\n",
      "SHAP values correction 2\n",
      "Background count: 10\n",
      "Background min diff: -0.814239501953125\n",
      "Background max diff: 2.2835464477539062\n"
     ]
    },
    {
     "data": {
      "application/vnd.jupyter.widget-view+json": {
       "model_id": "a6b2db9dc23646969e2a581aa2f22156",
       "version_major": 2,
       "version_minor": 0
      },
      "text/plain": [
       "  0%|          | 0/1 [00:00<?, ?it/s]"
      ]
     },
     "metadata": {},
     "output_type": "display_data"
    },
    {
     "name": "stdout",
     "output_type": "stream",
     "text": [
      "SHAP values difference: 3.7614000802932424e-10\n",
      "Background count: 10\n",
      "Background min diff: -1.4209365844726562\n",
      "Background max diff: 3.2848892211914062\n"
     ]
    },
    {
     "data": {
      "application/vnd.jupyter.widget-view+json": {
       "model_id": "7bc116d6155843a287cc22ab1612ef80",
       "version_major": 2,
       "version_minor": 0
      },
      "text/plain": [
       "  0%|          | 0/1 [00:00<?, ?it/s]"
      ]
     },
     "metadata": {},
     "output_type": "display_data"
    },
    {
     "name": "stdout",
     "output_type": "stream",
     "text": [
      "SHAP values difference: 6.593976920044042e-08\n",
      "Background count: 10\n",
      "Background min diff: -3.2227783203125\n",
      "Background max diff: 2.4426498413085938\n"
     ]
    },
    {
     "data": {
      "application/vnd.jupyter.widget-view+json": {
       "model_id": "c787b1ae0f63485483f3875ffaddc295",
       "version_major": 2,
       "version_minor": 0
      },
      "text/plain": [
       "  0%|          | 0/1 [00:00<?, ?it/s]"
      ]
     },
     "metadata": {},
     "output_type": "display_data"
    },
    {
     "name": "stdout",
     "output_type": "stream",
     "text": [
      "SHAP values difference: -4.0918013155533117e-07\n",
      "SHAP values correction 1\n",
      "SHAP values correction 2\n",
      "Background count: 10\n",
      "Background min diff: -2.656696319580078\n",
      "Background max diff: 5.062168121337891\n"
     ]
    },
    {
     "data": {
      "application/vnd.jupyter.widget-view+json": {
       "model_id": "cdcae2fa9d39489b99ac9b5c2095490e",
       "version_major": 2,
       "version_minor": 0
      },
      "text/plain": [
       "  0%|          | 0/1 [00:00<?, ?it/s]"
      ]
     },
     "metadata": {},
     "output_type": "display_data"
    },
    {
     "name": "stdout",
     "output_type": "stream",
     "text": [
      "SHAP values difference: 2.583815117418453e-07\n",
      "Background count: 10\n",
      "Background min diff: -8.770164489746094\n",
      "Background max diff: 6.1845855712890625\n"
     ]
    },
    {
     "data": {
      "application/vnd.jupyter.widget-view+json": {
       "model_id": "2e73fc7ba80141d2bd5104ff6f150d59",
       "version_major": 2,
       "version_minor": 0
      },
      "text/plain": [
       "  0%|          | 0/1 [00:00<?, ?it/s]"
      ]
     },
     "metadata": {},
     "output_type": "display_data"
    },
    {
     "name": "stdout",
     "output_type": "stream",
     "text": [
      "SHAP values difference: 5.046643281048091e-08\n",
      "Background count: 10\n",
      "Background min diff: -5.586505889892578\n",
      "Background max diff: 5.319629669189453\n"
     ]
    },
    {
     "data": {
      "application/vnd.jupyter.widget-view+json": {
       "model_id": "6b24a7144b4a425fb8bd7a3df2b912e0",
       "version_major": 2,
       "version_minor": 0
      },
      "text/plain": [
       "  0%|          | 0/1 [00:00<?, ?it/s]"
      ]
     },
     "metadata": {},
     "output_type": "display_data"
    },
    {
     "name": "stdout",
     "output_type": "stream",
     "text": [
      "SHAP values difference: 8.41244292004717e-08\n",
      "SHAP values correction 2\n",
      "Background count: 10\n",
      "Background min diff: -1.3864479064941406\n",
      "Background max diff: 1.7113380432128906\n"
     ]
    },
    {
     "data": {
      "application/vnd.jupyter.widget-view+json": {
       "model_id": "59662e98558f459289ece44776a6df1a",
       "version_major": 2,
       "version_minor": 0
      },
      "text/plain": [
       "  0%|          | 0/1 [00:00<?, ?it/s]"
      ]
     },
     "metadata": {},
     "output_type": "display_data"
    },
    {
     "name": "stdout",
     "output_type": "stream",
     "text": [
      "SHAP values difference: -1.722895710543071e-07\n",
      "SHAP values correction 2\n",
      "Background count: 10\n",
      "Background min diff: -5.203834533691406\n",
      "Background max diff: 6.3644256591796875\n"
     ]
    },
    {
     "data": {
      "application/vnd.jupyter.widget-view+json": {
       "model_id": "4781cf224df6464eace1ae339ed3b42d",
       "version_major": 2,
       "version_minor": 0
      },
      "text/plain": [
       "  0%|          | 0/1 [00:00<?, ?it/s]"
      ]
     },
     "metadata": {},
     "output_type": "display_data"
    },
    {
     "name": "stdout",
     "output_type": "stream",
     "text": [
      "SHAP values difference: 5.8566936189663465e-08\n",
      "Background count: 10\n",
      "Background min diff: -5.183656692504883\n",
      "Background max diff: 9.970067977905273\n"
     ]
    },
    {
     "data": {
      "application/vnd.jupyter.widget-view+json": {
       "model_id": "12b9c6463d6541a193180ea5bdf06e96",
       "version_major": 2,
       "version_minor": 0
      },
      "text/plain": [
       "  0%|          | 0/1 [00:00<?, ?it/s]"
      ]
     },
     "metadata": {},
     "output_type": "display_data"
    },
    {
     "name": "stdout",
     "output_type": "stream",
     "text": [
      "SHAP values difference: -2.927429253674063e-06\n",
      "SHAP values correction 2\n",
      "Background count: 10\n",
      "Background min diff: -5.306552886962891\n",
      "Background max diff: 2.2101173400878906\n"
     ]
    },
    {
     "data": {
      "application/vnd.jupyter.widget-view+json": {
       "model_id": "f33bf3183df14dcba52643c21530875e",
       "version_major": 2,
       "version_minor": 0
      },
      "text/plain": [
       "  0%|          | 0/1 [00:00<?, ?it/s]"
      ]
     },
     "metadata": {},
     "output_type": "display_data"
    },
    {
     "name": "stdout",
     "output_type": "stream",
     "text": [
      "SHAP values difference: -3.7673796526860315e-08\n",
      "Background count: 10\n",
      "Background min diff: -3.12213134765625\n",
      "Background max diff: 4.596733093261719\n"
     ]
    },
    {
     "data": {
      "application/vnd.jupyter.widget-view+json": {
       "model_id": "5f12fba2953a438ca8e5a12e273112b2",
       "version_major": 2,
       "version_minor": 0
      },
      "text/plain": [
       "  0%|          | 0/1 [00:00<?, ?it/s]"
      ]
     },
     "metadata": {},
     "output_type": "display_data"
    },
    {
     "name": "stdout",
     "output_type": "stream",
     "text": [
      "SHAP values difference: 2.3078322519687333e-07\n",
      "SHAP values correction 1\n",
      "SHAP values correction 2\n",
      "Background count: 10\n",
      "Background min diff: -6.082832336425781\n",
      "Background max diff: 5.5168609619140625\n"
     ]
    },
    {
     "data": {
      "application/vnd.jupyter.widget-view+json": {
       "model_id": "f53ade3c713e46f496d24acfcefbcbae",
       "version_major": 2,
       "version_minor": 0
      },
      "text/plain": [
       "  0%|          | 0/1 [00:00<?, ?it/s]"
      ]
     },
     "metadata": {},
     "output_type": "display_data"
    },
    {
     "name": "stdout",
     "output_type": "stream",
     "text": [
      "SHAP values difference: 3.834387385381888e-08\n",
      "Background count: 10\n",
      "Background min diff: -4.177371978759766\n",
      "Background max diff: 6.016574859619141\n"
     ]
    },
    {
     "data": {
      "application/vnd.jupyter.widget-view+json": {
       "model_id": "263771c4070441778a7f6c5b0684878b",
       "version_major": 2,
       "version_minor": 0
      },
      "text/plain": [
       "  0%|          | 0/1 [00:00<?, ?it/s]"
      ]
     },
     "metadata": {},
     "output_type": "display_data"
    },
    {
     "name": "stdout",
     "output_type": "stream",
     "text": [
      "SHAP values difference: 6.685018525409703e-07\n",
      "SHAP values correction 2\n",
      "Background count: 10\n",
      "Background min diff: -4.196903228759766\n",
      "Background max diff: 5.156192779541016\n"
     ]
    },
    {
     "data": {
      "application/vnd.jupyter.widget-view+json": {
       "model_id": "f4f51ca971ca4f5fb6ca719310952907",
       "version_major": 2,
       "version_minor": 0
      },
      "text/plain": [
       "  0%|          | 0/1 [00:00<?, ?it/s]"
      ]
     },
     "metadata": {},
     "output_type": "display_data"
    },
    {
     "name": "stdout",
     "output_type": "stream",
     "text": [
      "SHAP values difference: -7.152272019084194e-08\n"
     ]
    },
    {
     "name": "stderr",
     "output_type": "stream",
     "text": [
      "C:\\Users\\user\\AppData\\Local\\Temp\\ipykernel_46640\\4091489871.py:313: FutureWarning: A value is trying to be set on a copy of a DataFrame or Series through chained assignment using an inplace method.\n",
      "The behavior will change in pandas 3.0. This inplace method will never work because the intermediate object on which we are setting values always behaves as a copy.\n",
      "\n",
      "For example, when doing 'df[col].method(value, inplace=True)', try using 'df.method({col: value}, inplace=True)' or df[col] = df[col].method(value) instead, to perform the operation inplace on the original object.\n",
      "\n",
      "\n",
      "  df_fig['Group'].replace(groups_rename, inplace=True)\n",
      "C:\\Users\\user\\AppData\\Local\\Temp\\ipykernel_46640\\4091489871.py:316: FutureWarning: \n",
      "\n",
      "Passing `palette` without assigning `hue` is deprecated and will be removed in v0.14.0. Assign the `x` variable to `hue` and set `legend=False` for the same effect.\n",
      "\n",
      "  violin = sns.violinplot(\n",
      "C:\\Users\\user\\AppData\\Local\\Temp\\ipykernel_46640\\4091489871.py:316: FutureWarning: \n",
      "\n",
      "The `scale` parameter has been renamed and will be removed in v0.15.0. Pass `density_norm='width'` for the same effect.\n",
      "  violin = sns.violinplot(\n",
      "C:\\Users\\user\\AppData\\Local\\Temp\\ipykernel_46640\\4091489871.py:341: FutureWarning: A value is trying to be set on a copy of a DataFrame or Series through chained assignment using an inplace method.\n",
      "The behavior will change in pandas 3.0. This inplace method will never work because the intermediate object on which we are setting values always behaves as a copy.\n",
      "\n",
      "For example, when doing 'df[col].method(value, inplace=True)', try using 'df.method({col: value}, inplace=True)' or df[col] = df[col].method(value) instead, to perform the operation inplace on the original object.\n",
      "\n",
      "\n",
      "  df_fig['Group'].replace(groups_rename, inplace=True)\n",
      "C:\\Users\\user\\AppData\\Local\\Temp\\ipykernel_46640\\4091489871.py:344: FutureWarning: \n",
      "\n",
      "Passing `palette` without assigning `hue` is deprecated and will be removed in v0.14.0. Assign the `x` variable to `hue` and set `legend=False` for the same effect.\n",
      "\n",
      "  violin = sns.violinplot(\n",
      "C:\\Users\\user\\AppData\\Local\\Temp\\ipykernel_46640\\4091489871.py:344: FutureWarning: \n",
      "\n",
      "The `scale` parameter has been renamed and will be removed in v0.15.0. Pass `density_norm='width'` for the same effect.\n",
      "  violin = sns.violinplot(\n",
      "c:\\Users\\user\\anaconda3\\envs\\py311\\Lib\\site-packages\\statannotations\\Annotator.py:825: UserWarning: Annotator was reconfigured without applying the test (again) which will probably lead to unexpected results\n",
      "  warnings.warn(\"Annotator was reconfigured without applying the \"\n",
      "c:\\Users\\user\\anaconda3\\envs\\py311\\Lib\\site-packages\\lightning_fabric\\utilities\\cloud_io.py:56: You are using `torch.load` with `weights_only=False` (the current default value), which uses the default pickle module implicitly. It is possible to construct malicious pickle data which will execute arbitrary code during unpickling (See https://github.com/pytorch/pytorch/blob/main/SECURITY.md#untrusted-models for more details). In a future release, the default value for `weights_only` will be flipped to `True`. This limits the functions that could be executed during unpickling. Arbitrary objects will no longer be allowed to be loaded via this mode unless they are explicitly allowlisted by the user via `torch.serialization.add_safe_globals`. We recommend you start setting `weights_only=True` for any use case where you don't have full control of the loaded file. Please open an issue on GitHub for any issues related to this experimental feature.\n"
     ]
    },
    {
     "data": {
      "text/html": [
       "<pre style=\"white-space:pre;overflow-x:auto;line-height:normal;font-family:Menlo,'DejaVu Sans Mono',consolas,'Courier New',monospace\"><span style=\"color: #008080; text-decoration-color: #008080; font-weight: bold\">2025</span>-<span style=\"color: #008080; text-decoration-color: #008080; font-weight: bold\">10</span>-<span style=\"color: #008080; text-decoration-color: #008080; font-weight: bold\">22</span> <span style=\"color: #00ff00; text-decoration-color: #00ff00; font-weight: bold\">14:32:07</span>,<span style=\"color: #008080; text-decoration-color: #008080; font-weight: bold\">685</span> - <span style=\"font-weight: bold\">{</span>pytorch_tabular.tabular_model:<span style=\"color: #008080; text-decoration-color: #008080; font-weight: bold\">165</span><span style=\"font-weight: bold\">}</span> - INFO - Experiment Tracking is turned off           \n",
       "</pre>\n"
      ],
      "text/plain": [
       "\u001b[1;36m2025\u001b[0m-\u001b[1;36m10\u001b[0m-\u001b[1;36m22\u001b[0m \u001b[1;92m14:32:07\u001b[0m,\u001b[1;36m685\u001b[0m - \u001b[1m{\u001b[0mpytorch_tabular.tabular_model:\u001b[1;36m165\u001b[0m\u001b[1m}\u001b[0m - INFO - Experiment Tracking is turned off           \n"
      ]
     },
     "metadata": {},
     "output_type": "display_data"
    },
    {
     "data": {
      "text/html": [
       "<pre style=\"white-space:pre;overflow-x:auto;line-height:normal;font-family:Menlo,'DejaVu Sans Mono',consolas,'Courier New',monospace\"><span style=\"color: #008080; text-decoration-color: #008080; font-weight: bold\">2025</span>-<span style=\"color: #008080; text-decoration-color: #008080; font-weight: bold\">10</span>-<span style=\"color: #008080; text-decoration-color: #008080; font-weight: bold\">22</span> <span style=\"color: #00ff00; text-decoration-color: #00ff00; font-weight: bold\">14:32:07</span>,<span style=\"color: #008080; text-decoration-color: #008080; font-weight: bold\">698</span> - <span style=\"font-weight: bold\">{</span>pytorch_tabular.tabular_model:<span style=\"color: #008080; text-decoration-color: #008080; font-weight: bold\">340</span><span style=\"font-weight: bold\">}</span> - INFO - Preparing the Trainer                       \n",
       "</pre>\n"
      ],
      "text/plain": [
       "\u001b[1;36m2025\u001b[0m-\u001b[1;36m10\u001b[0m-\u001b[1;36m22\u001b[0m \u001b[1;92m14:32:07\u001b[0m,\u001b[1;36m698\u001b[0m - \u001b[1m{\u001b[0mpytorch_tabular.tabular_model:\u001b[1;36m340\u001b[0m\u001b[1m}\u001b[0m - INFO - Preparing the Trainer                       \n"
      ]
     },
     "metadata": {},
     "output_type": "display_data"
    },
    {
     "name": "stdout",
     "output_type": "stream",
     "text": [
      "Background count: 10\n",
      "Background min diff: 1.791055679321289\n",
      "Background max diff: 12.906518936157227\n"
     ]
    },
    {
     "data": {
      "application/vnd.jupyter.widget-view+json": {
       "model_id": "00e69fa4846f4b739d3a37466643875d",
       "version_major": 2,
       "version_minor": 0
      },
      "text/plain": [
       "  0%|          | 0/1 [00:00<?, ?it/s]"
      ]
     },
     "metadata": {},
     "output_type": "display_data"
    },
    {
     "name": "stdout",
     "output_type": "stream",
     "text": [
      "SHAP values difference: -1.4658877844908602e-07\n",
      "Background count: 10\n",
      "Background min diff: 1.4789409637451172\n",
      "Background max diff: 12.594404220581055\n"
     ]
    },
    {
     "data": {
      "application/vnd.jupyter.widget-view+json": {
       "model_id": "e6bd0c2e5f7744a3a9434228be4d759d",
       "version_major": 2,
       "version_minor": 0
      },
      "text/plain": [
       "  0%|          | 0/1 [00:00<?, ?it/s]"
      ]
     },
     "metadata": {},
     "output_type": "display_data"
    },
    {
     "name": "stdout",
     "output_type": "stream",
     "text": [
      "SHAP values difference: -2.0022554281240446e-08\n",
      "SHAP values correction 2\n",
      "Background count: 10\n",
      "Background min diff: -3.4957332611083984\n",
      "Background max diff: 7.619729995727539\n"
     ]
    },
    {
     "data": {
      "application/vnd.jupyter.widget-view+json": {
       "model_id": "7897dc12220a4ea2a4209c4692c29725",
       "version_major": 2,
       "version_minor": 0
      },
      "text/plain": [
       "  0%|          | 0/1 [00:00<?, ?it/s]"
      ]
     },
     "metadata": {},
     "output_type": "display_data"
    },
    {
     "name": "stdout",
     "output_type": "stream",
     "text": [
      "SHAP values difference: -6.493562665355057e-08\n",
      "SHAP values correction 2\n",
      "Background count: 10\n",
      "Background min diff: -11.150352478027344\n",
      "Background max diff: 6.958641052246094\n"
     ]
    },
    {
     "data": {
      "application/vnd.jupyter.widget-view+json": {
       "model_id": "e14fb09b9d794da1b0f2feb937cdca25",
       "version_major": 2,
       "version_minor": 0
      },
      "text/plain": [
       "  0%|          | 0/1 [00:00<?, ?it/s]"
      ]
     },
     "metadata": {},
     "output_type": "display_data"
    },
    {
     "name": "stdout",
     "output_type": "stream",
     "text": [
      "SHAP values difference: -6.05383476681709e-09\n",
      "Background count: 10\n",
      "Background min diff: -4.251380920410156\n",
      "Background max diff: 6.864082336425781\n"
     ]
    },
    {
     "data": {
      "application/vnd.jupyter.widget-view+json": {
       "model_id": "ddf43d4a03c149e49b879fe9c31beacf",
       "version_major": 2,
       "version_minor": 0
      },
      "text/plain": [
       "  0%|          | 0/1 [00:00<?, ?it/s]"
      ]
     },
     "metadata": {},
     "output_type": "display_data"
    },
    {
     "name": "stdout",
     "output_type": "stream",
     "text": [
      "SHAP values difference: 2.5298731642919847e-07\n",
      "SHAP values correction 2\n",
      "Background count: 10\n",
      "Background min diff: -16.215377807617188\n",
      "Background max diff: 1.89361572265625\n"
     ]
    },
    {
     "data": {
      "application/vnd.jupyter.widget-view+json": {
       "model_id": "ac62fdaf4efb46d8bed2b058ceeaec75",
       "version_major": 2,
       "version_minor": 0
      },
      "text/plain": [
       "  0%|          | 0/1 [00:00<?, ?it/s]"
      ]
     },
     "metadata": {},
     "output_type": "display_data"
    },
    {
     "name": "stdout",
     "output_type": "stream",
     "text": [
      "SHAP values difference: 4.819736609817937e-08\n",
      "Background count: 10\n",
      "Background min diff: -3.791881561279297\n",
      "Background max diff: 4.532154083251953\n"
     ]
    },
    {
     "data": {
      "application/vnd.jupyter.widget-view+json": {
       "model_id": "b96510bb7fe2464389a153fa2c3170b9",
       "version_major": 2,
       "version_minor": 0
      },
      "text/plain": [
       "  0%|          | 0/1 [00:00<?, ?it/s]"
      ]
     },
     "metadata": {},
     "output_type": "display_data"
    },
    {
     "name": "stdout",
     "output_type": "stream",
     "text": [
      "SHAP values difference: 1.5781214557364365e-08\n",
      "Background count: 10\n",
      "Background min diff: -3.7880172729492188\n",
      "Background max diff: 3.2863311767578125\n"
     ]
    },
    {
     "data": {
      "application/vnd.jupyter.widget-view+json": {
       "model_id": "fafe9424cd4347be99c8491d17b405f3",
       "version_major": 2,
       "version_minor": 0
      },
      "text/plain": [
       "  0%|          | 0/1 [00:00<?, ?it/s]"
      ]
     },
     "metadata": {},
     "output_type": "display_data"
    },
    {
     "name": "stdout",
     "output_type": "stream",
     "text": [
      "SHAP values difference: 1.8685376801386155e-07\n",
      "SHAP values correction 2\n",
      "Background count: 10\n",
      "Background min diff: -22.18389129638672\n",
      "Background max diff: -4.074897766113281\n"
     ]
    },
    {
     "data": {
      "application/vnd.jupyter.widget-view+json": {
       "model_id": "10e1d9d5bf3241eb9c32caa5fed0a512",
       "version_major": 2,
       "version_minor": 0
      },
      "text/plain": [
       "  0%|          | 0/1 [00:00<?, ?it/s]"
      ]
     },
     "metadata": {},
     "output_type": "display_data"
    },
    {
     "name": "stdout",
     "output_type": "stream",
     "text": [
      "SHAP values difference: -1.7738983615345205e-08\n",
      "Background count: 10\n",
      "Background min diff: -9.764999389648438\n",
      "Background max diff: 8.343994140625\n"
     ]
    },
    {
     "data": {
      "application/vnd.jupyter.widget-view+json": {
       "model_id": "aa7a2676f9354df689dadd7f80719c18",
       "version_major": 2,
       "version_minor": 0
      },
      "text/plain": [
       "  0%|          | 0/1 [00:00<?, ?it/s]"
      ]
     },
     "metadata": {},
     "output_type": "display_data"
    },
    {
     "name": "stdout",
     "output_type": "stream",
     "text": [
      "SHAP values difference: 2.0797156352614365e-07\n",
      "Background count: 10\n",
      "Background min diff: -4.923267364501953\n",
      "Background max diff: 4.775142669677734\n"
     ]
    },
    {
     "data": {
      "application/vnd.jupyter.widget-view+json": {
       "model_id": "7ca40425095849cc9efc2938543118c6",
       "version_major": 2,
       "version_minor": 0
      },
      "text/plain": [
       "  0%|          | 0/1 [00:00<?, ?it/s]"
      ]
     },
     "metadata": {},
     "output_type": "display_data"
    },
    {
     "name": "stdout",
     "output_type": "stream",
     "text": [
      "SHAP values difference: -6.909172611813119e-08\n",
      "Background count: 10\n",
      "Background min diff: -11.4652099609375\n",
      "Background max diff: 6.6437835693359375\n"
     ]
    },
    {
     "data": {
      "application/vnd.jupyter.widget-view+json": {
       "model_id": "f1516db89e694641a72c2c1f69516861",
       "version_major": 2,
       "version_minor": 0
      },
      "text/plain": [
       "  0%|          | 0/1 [00:00<?, ?it/s]"
      ]
     },
     "metadata": {},
     "output_type": "display_data"
    },
    {
     "name": "stdout",
     "output_type": "stream",
     "text": [
      "SHAP values difference: -8.262080797294402e-07\n",
      "SHAP values correction 2\n",
      "Background count: 10\n",
      "Background min diff: -4.758720397949219\n",
      "Background max diff: 4.1684722900390625\n"
     ]
    },
    {
     "data": {
      "application/vnd.jupyter.widget-view+json": {
       "model_id": "3936c54046504e8f907643e686a72bf0",
       "version_major": 2,
       "version_minor": 0
      },
      "text/plain": [
       "  0%|          | 0/1 [00:00<?, ?it/s]"
      ]
     },
     "metadata": {},
     "output_type": "display_data"
    },
    {
     "name": "stdout",
     "output_type": "stream",
     "text": [
      "SHAP values difference: 2.0290118740717844e-07\n",
      "SHAP values correction 2\n",
      "Background count: 10\n",
      "Background min diff: -5.883808135986328\n",
      "Background max diff: 5.527591705322266\n"
     ]
    },
    {
     "data": {
      "application/vnd.jupyter.widget-view+json": {
       "model_id": "57a8466315444663bec57011d7c6fd32",
       "version_major": 2,
       "version_minor": 0
      },
      "text/plain": [
       "  0%|          | 0/1 [00:00<?, ?it/s]"
      ]
     },
     "metadata": {},
     "output_type": "display_data"
    },
    {
     "name": "stdout",
     "output_type": "stream",
     "text": [
      "SHAP values difference: 7.752063346799787e-08\n",
      "SHAP values correction 2\n",
      "Background count: 10\n",
      "Background min diff: -5.804409027099609\n",
      "Background max diff: 5.606990814208984\n"
     ]
    },
    {
     "data": {
      "application/vnd.jupyter.widget-view+json": {
       "model_id": "894a3bc1d4a741ff89481fe3adf9cf2b",
       "version_major": 2,
       "version_minor": 0
      },
      "text/plain": [
       "  0%|          | 0/1 [00:00<?, ?it/s]"
      ]
     },
     "metadata": {},
     "output_type": "display_data"
    },
    {
     "name": "stdout",
     "output_type": "stream",
     "text": [
      "SHAP values difference: -1.5884112247732673e-08\n",
      "SHAP values correction 1\n",
      "SHAP values correction 2\n",
      "Background count: 10\n",
      "Background min diff: 2.6890716552734375\n",
      "Background max diff: 13.804534912109375\n"
     ]
    },
    {
     "data": {
      "application/vnd.jupyter.widget-view+json": {
       "model_id": "a1d60f679cb04c6fa14fd6406367ecb8",
       "version_major": 2,
       "version_minor": 0
      },
      "text/plain": [
       "  0%|          | 0/1 [00:00<?, ?it/s]"
      ]
     },
     "metadata": {},
     "output_type": "display_data"
    },
    {
     "name": "stdout",
     "output_type": "stream",
     "text": [
      "SHAP values difference: 2.0871469885719307e-08\n",
      "Background count: 10\n",
      "Background min diff: -6.5579071044921875\n",
      "Background max diff: 3.10662841796875\n"
     ]
    },
    {
     "data": {
      "application/vnd.jupyter.widget-view+json": {
       "model_id": "01f88269d2fe47ae908d0d52ef29b04d",
       "version_major": 2,
       "version_minor": 0
      },
      "text/plain": [
       "  0%|          | 0/1 [00:00<?, ?it/s]"
      ]
     },
     "metadata": {},
     "output_type": "display_data"
    },
    {
     "name": "stdout",
     "output_type": "stream",
     "text": [
      "SHAP values difference: -1.7618458247881108e-07\n",
      "SHAP values correction 2\n",
      "Background count: 10\n",
      "Background min diff: -1.2151050567626953\n",
      "Background max diff: 9.900358200073242\n"
     ]
    },
    {
     "data": {
      "application/vnd.jupyter.widget-view+json": {
       "model_id": "0b4ea6d2ac8f49e79c56b6172921b71e",
       "version_major": 2,
       "version_minor": 0
      },
      "text/plain": [
       "  0%|          | 0/1 [00:00<?, ?it/s]"
      ]
     },
     "metadata": {},
     "output_type": "display_data"
    },
    {
     "name": "stdout",
     "output_type": "stream",
     "text": [
      "SHAP values difference: -2.2591857629095102e-07\n",
      "Background count: 10\n",
      "Background min diff: -5.667247772216797\n",
      "Background max diff: 5.769817352294922\n"
     ]
    },
    {
     "data": {
      "application/vnd.jupyter.widget-view+json": {
       "model_id": "23e5169e640543f8ae77d886227c7300",
       "version_major": 2,
       "version_minor": 0
      },
      "text/plain": [
       "  0%|          | 0/1 [00:00<?, ?it/s]"
      ]
     },
     "metadata": {},
     "output_type": "display_data"
    },
    {
     "name": "stdout",
     "output_type": "stream",
     "text": [
      "SHAP values difference: 1.4420037786067041e-07\n",
      "Background count: 10\n",
      "Background min diff: -3.421812057495117\n",
      "Background max diff: 7.69365119934082\n"
     ]
    },
    {
     "data": {
      "application/vnd.jupyter.widget-view+json": {
       "model_id": "5174d768f347452e9de28d0c17490328",
       "version_major": 2,
       "version_minor": 0
      },
      "text/plain": [
       "  0%|          | 0/1 [00:00<?, ?it/s]"
      ]
     },
     "metadata": {},
     "output_type": "display_data"
    },
    {
     "name": "stdout",
     "output_type": "stream",
     "text": [
      "SHAP values difference: -2.789774633527031e-07\n",
      "SHAP values correction 2\n",
      "Background count: 10\n",
      "Background min diff: -4.626678466796875\n",
      "Background max diff: 4.497650146484375\n"
     ]
    },
    {
     "data": {
      "application/vnd.jupyter.widget-view+json": {
       "model_id": "2fe125e46ca1412ba45a42b038690828",
       "version_major": 2,
       "version_minor": 0
      },
      "text/plain": [
       "  0%|          | 0/1 [00:00<?, ?it/s]"
      ]
     },
     "metadata": {},
     "output_type": "display_data"
    },
    {
     "name": "stdout",
     "output_type": "stream",
     "text": [
      "SHAP values difference: 1.1273271649514527e-07\n",
      "SHAP values correction 2\n",
      "Background count: 10\n",
      "Background min diff: 2.2072086334228516\n",
      "Background max diff: 13.322671890258789\n"
     ]
    },
    {
     "data": {
      "application/vnd.jupyter.widget-view+json": {
       "model_id": "73a9e8a9578947a99305948188e54f8c",
       "version_major": 2,
       "version_minor": 0
      },
      "text/plain": [
       "  0%|          | 0/1 [00:00<?, ?it/s]"
      ]
     },
     "metadata": {},
     "output_type": "display_data"
    },
    {
     "name": "stdout",
     "output_type": "stream",
     "text": [
      "SHAP values difference: -1.2925719872214358e-07\n",
      "Background count: 10\n",
      "Background min diff: -3.436756134033203\n",
      "Background max diff: 6.227779388427734\n"
     ]
    },
    {
     "data": {
      "application/vnd.jupyter.widget-view+json": {
       "model_id": "39ec9648fd7b4cab97c75a31d2c74fe2",
       "version_major": 2,
       "version_minor": 0
      },
      "text/plain": [
       "  0%|          | 0/1 [00:00<?, ?it/s]"
      ]
     },
     "metadata": {},
     "output_type": "display_data"
    },
    {
     "name": "stdout",
     "output_type": "stream",
     "text": [
      "SHAP values difference: 1.4253316771295488e-07\n",
      "SHAP values correction 1\n",
      "SHAP values correction 2\n",
      "Background count: 10\n",
      "Background min diff: -4.881366729736328\n",
      "Background max diff: 2.7109718322753906\n"
     ]
    },
    {
     "data": {
      "application/vnd.jupyter.widget-view+json": {
       "model_id": "f908cfdfc0464fa9bcc5a36dcada6c9a",
       "version_major": 2,
       "version_minor": 0
      },
      "text/plain": [
       "  0%|          | 0/1 [00:00<?, ?it/s]"
      ]
     },
     "metadata": {},
     "output_type": "display_data"
    },
    {
     "name": "stdout",
     "output_type": "stream",
     "text": [
      "SHAP values difference: 4.5056188113790085e-08\n",
      "Background count: 10\n",
      "Background min diff: -5.290283203125\n",
      "Background max diff: 4.3742523193359375\n"
     ]
    },
    {
     "data": {
      "application/vnd.jupyter.widget-view+json": {
       "model_id": "9c9a3bc653a14c54861fb2e11872cf2c",
       "version_major": 2,
       "version_minor": 0
      },
      "text/plain": [
       "  0%|          | 0/1 [00:00<?, ?it/s]"
      ]
     },
     "metadata": {},
     "output_type": "display_data"
    },
    {
     "name": "stdout",
     "output_type": "stream",
     "text": [
      "SHAP values difference: 9.286259228247218e-08\n",
      "Background count: 10\n",
      "Background min diff: -1.9837760925292969\n",
      "Background max diff: 5.090572357177734\n"
     ]
    },
    {
     "data": {
      "application/vnd.jupyter.widget-view+json": {
       "model_id": "86fc6fef57b44868a7c70f2ec53948d4",
       "version_major": 2,
       "version_minor": 0
      },
      "text/plain": [
       "  0%|          | 0/1 [00:00<?, ?it/s]"
      ]
     },
     "metadata": {},
     "output_type": "display_data"
    },
    {
     "name": "stdout",
     "output_type": "stream",
     "text": [
      "SHAP values difference: 1.8657318179293725e-07\n",
      "Background count: 10\n",
      "Background min diff: -4.471248626708984\n",
      "Background max diff: 4.455944061279297\n"
     ]
    },
    {
     "data": {
      "application/vnd.jupyter.widget-view+json": {
       "model_id": "857398c4e8014084a511b9faa0c5c6ae",
       "version_major": 2,
       "version_minor": 0
      },
      "text/plain": [
       "  0%|          | 0/1 [00:00<?, ?it/s]"
      ]
     },
     "metadata": {},
     "output_type": "display_data"
    },
    {
     "name": "stdout",
     "output_type": "stream",
     "text": [
      "SHAP values difference: 2.492339277182509e-07\n",
      "Background count: 10\n",
      "Background min diff: -2.65728759765625\n",
      "Background max diff: 4.417060852050781\n"
     ]
    },
    {
     "data": {
      "application/vnd.jupyter.widget-view+json": {
       "model_id": "8d1964144b3843999ce90cc92ed48b8a",
       "version_major": 2,
       "version_minor": 0
      },
      "text/plain": [
       "  0%|          | 0/1 [00:00<?, ?it/s]"
      ]
     },
     "metadata": {},
     "output_type": "display_data"
    },
    {
     "name": "stdout",
     "output_type": "stream",
     "text": [
      "SHAP values difference: 1.0158736429843884e-07\n",
      "Background count: 10\n",
      "Background min diff: -24.486427307128906\n",
      "Background max diff: -6.377433776855469\n"
     ]
    },
    {
     "data": {
      "application/vnd.jupyter.widget-view+json": {
       "model_id": "ecc6aab094d545dcbfd49c3798428865",
       "version_major": 2,
       "version_minor": 0
      },
      "text/plain": [
       "  0%|          | 0/1 [00:00<?, ?it/s]"
      ]
     },
     "metadata": {},
     "output_type": "display_data"
    },
    {
     "name": "stdout",
     "output_type": "stream",
     "text": [
      "SHAP values difference: 6.668583800717443e-07\n",
      "SHAP values correction 2\n",
      "Background count: 10\n",
      "Background min diff: -4.634679794311523\n",
      "Background max diff: 6.480783462524414\n"
     ]
    },
    {
     "data": {
      "application/vnd.jupyter.widget-view+json": {
       "model_id": "2d21b7fbb2c243b9a161db846f17f760",
       "version_major": 2,
       "version_minor": 0
      },
      "text/plain": [
       "  0%|          | 0/1 [00:00<?, ?it/s]"
      ]
     },
     "metadata": {},
     "output_type": "display_data"
    },
    {
     "name": "stdout",
     "output_type": "stream",
     "text": [
      "SHAP values difference: -5.454009865957232e-08\n",
      "SHAP values correction 2\n",
      "Background count: 10\n",
      "Background min diff: -5.373836517333984\n",
      "Background max diff: 6.864986419677734\n"
     ]
    },
    {
     "data": {
      "application/vnd.jupyter.widget-view+json": {
       "model_id": "4efc2fd3a6614f0bb356a2f88686020d",
       "version_major": 2,
       "version_minor": 0
      },
      "text/plain": [
       "  0%|          | 0/1 [00:00<?, ?it/s]"
      ]
     },
     "metadata": {},
     "output_type": "display_data"
    },
    {
     "name": "stdout",
     "output_type": "stream",
     "text": [
      "SHAP values difference: 7.18809900490669e-10\n",
      "Background count: 10\n",
      "Background min diff: -8.648544311523438\n",
      "Background max diff: 8.790443420410156\n"
     ]
    },
    {
     "data": {
      "application/vnd.jupyter.widget-view+json": {
       "model_id": "6788768512db41dc91e11c352b27286f",
       "version_major": 2,
       "version_minor": 0
      },
      "text/plain": [
       "  0%|          | 0/1 [00:00<?, ?it/s]"
      ]
     },
     "metadata": {},
     "output_type": "display_data"
    },
    {
     "name": "stdout",
     "output_type": "stream",
     "text": [
      "SHAP values difference: 8.568031151234834e-08\n",
      "SHAP values correction 2\n",
      "Background count: 10\n",
      "Background min diff: -5.125423431396484\n",
      "Background max diff: 6.285976409912109\n"
     ]
    },
    {
     "data": {
      "application/vnd.jupyter.widget-view+json": {
       "model_id": "0c2eedb1c55f47169d119ce1ae4ad40d",
       "version_major": 2,
       "version_minor": 0
      },
      "text/plain": [
       "  0%|          | 0/1 [00:00<?, ?it/s]"
      ]
     },
     "metadata": {},
     "output_type": "display_data"
    },
    {
     "name": "stdout",
     "output_type": "stream",
     "text": [
      "SHAP values difference: 3.2383729564600117e-07\n",
      "SHAP values correction 1\n",
      "SHAP values correction 2\n",
      "Background count: 10\n",
      "Background min diff: -5.227390289306641\n",
      "Background max diff: 5.123767852783203\n"
     ]
    },
    {
     "data": {
      "application/vnd.jupyter.widget-view+json": {
       "model_id": "94eeb6e107a9452ab9d3e718cfaaaad5",
       "version_major": 2,
       "version_minor": 0
      },
      "text/plain": [
       "  0%|          | 0/1 [00:00<?, ?it/s]"
      ]
     },
     "metadata": {},
     "output_type": "display_data"
    },
    {
     "name": "stdout",
     "output_type": "stream",
     "text": [
      "SHAP values difference: -3.55232113946613e-07\n",
      "SHAP values correction 2\n",
      "Background count: 10\n",
      "Background min diff: -6.652069091796875\n",
      "Background max diff: 4.748344421386719\n"
     ]
    },
    {
     "data": {
      "application/vnd.jupyter.widget-view+json": {
       "model_id": "89f05e38aa604932b63a3449c179a562",
       "version_major": 2,
       "version_minor": 0
      },
      "text/plain": [
       "  0%|          | 0/1 [00:00<?, ?it/s]"
      ]
     },
     "metadata": {},
     "output_type": "display_data"
    },
    {
     "name": "stdout",
     "output_type": "stream",
     "text": [
      "SHAP values difference: -7.290864445508305e-08\n",
      "Background count: 10\n",
      "Background min diff: -3.8685379028320312\n",
      "Background max diff: 4.455497741699219\n"
     ]
    },
    {
     "data": {
      "application/vnd.jupyter.widget-view+json": {
       "model_id": "bf01144eddfd456190703d44729ac1f3",
       "version_major": 2,
       "version_minor": 0
      },
      "text/plain": [
       "  0%|          | 0/1 [00:00<?, ?it/s]"
      ]
     },
     "metadata": {},
     "output_type": "display_data"
    },
    {
     "name": "stdout",
     "output_type": "stream",
     "text": [
      "SHAP values difference: 1.731068621779741e-08\n",
      "SHAP values correction 2\n",
      "Background count: 10\n",
      "Background min diff: -5.529548645019531\n",
      "Background max diff: 5.8708648681640625\n"
     ]
    },
    {
     "data": {
      "application/vnd.jupyter.widget-view+json": {
       "model_id": "7f9206569f354bb1939dd58f8ea2057e",
       "version_major": 2,
       "version_minor": 0
      },
      "text/plain": [
       "  0%|          | 0/1 [00:00<?, ?it/s]"
      ]
     },
     "metadata": {},
     "output_type": "display_data"
    },
    {
     "name": "stdout",
     "output_type": "stream",
     "text": [
      "SHAP values difference: -1.3284358146847808e-07\n",
      "Background count: 10\n",
      "Background min diff: -12.513801574707031\n",
      "Background max diff: 5.595191955566406\n"
     ]
    },
    {
     "data": {
      "application/vnd.jupyter.widget-view+json": {
       "model_id": "4e8e19b83be2430ab2dbcda6aa86e86c",
       "version_major": 2,
       "version_minor": 0
      },
      "text/plain": [
       "  0%|          | 0/1 [00:00<?, ?it/s]"
      ]
     },
     "metadata": {},
     "output_type": "display_data"
    },
    {
     "name": "stdout",
     "output_type": "stream",
     "text": [
      "SHAP values difference: 3.4700829765199614e-07\n",
      "SHAP values correction 2\n",
      "Background count: 10\n",
      "Background min diff: -3.3478469848632812\n",
      "Background max diff: 4.1954193115234375\n"
     ]
    },
    {
     "data": {
      "application/vnd.jupyter.widget-view+json": {
       "model_id": "4c1a32637fd145cea60d6554b12aaeee",
       "version_major": 2,
       "version_minor": 0
      },
      "text/plain": [
       "  0%|          | 0/1 [00:00<?, ?it/s]"
      ]
     },
     "metadata": {},
     "output_type": "display_data"
    },
    {
     "name": "stdout",
     "output_type": "stream",
     "text": [
      "SHAP values difference: 4.875416514948938e-08\n",
      "SHAP values correction 2\n",
      "Background count: 10\n",
      "Background min diff: -3.85467529296875\n",
      "Background max diff: 3.7376632690429688\n"
     ]
    },
    {
     "data": {
      "application/vnd.jupyter.widget-view+json": {
       "model_id": "781fe520e97943d380fc5cdeb679a734",
       "version_major": 2,
       "version_minor": 0
      },
      "text/plain": [
       "  0%|          | 0/1 [00:00<?, ?it/s]"
      ]
     },
     "metadata": {},
     "output_type": "display_data"
    },
    {
     "name": "stdout",
     "output_type": "stream",
     "text": [
      "SHAP values difference: 9.810207046712094e-08\n",
      "Background count: 10\n",
      "Background min diff: -3.371685028076172\n",
      "Background max diff: 3.5494956970214844\n"
     ]
    },
    {
     "data": {
      "application/vnd.jupyter.widget-view+json": {
       "model_id": "1508a816cf3b463ea3766d4bca599efd",
       "version_major": 2,
       "version_minor": 0
      },
      "text/plain": [
       "  0%|          | 0/1 [00:00<?, ?it/s]"
      ]
     },
     "metadata": {},
     "output_type": "display_data"
    },
    {
     "name": "stdout",
     "output_type": "stream",
     "text": [
      "SHAP values difference: -7.173136751248421e-08\n",
      "Background count: 10\n",
      "Background min diff: -5.371417999267578\n",
      "Background max diff: 4.506336212158203\n"
     ]
    },
    {
     "data": {
      "application/vnd.jupyter.widget-view+json": {
       "model_id": "ef90bf291c124226a4b4f090917e59b6",
       "version_major": 2,
       "version_minor": 0
      },
      "text/plain": [
       "  0%|          | 0/1 [00:00<?, ?it/s]"
      ]
     },
     "metadata": {},
     "output_type": "display_data"
    },
    {
     "name": "stdout",
     "output_type": "stream",
     "text": [
      "SHAP values difference: -8.327110045946995e-08\n",
      "SHAP values correction 2\n",
      "Background count: 10\n",
      "Background min diff: -2.4054031372070312\n",
      "Background max diff: 4.6689453125\n"
     ]
    },
    {
     "data": {
      "application/vnd.jupyter.widget-view+json": {
       "model_id": "ace3c5f62235461cbf465e3555ac79af",
       "version_major": 2,
       "version_minor": 0
      },
      "text/plain": [
       "  0%|          | 0/1 [00:00<?, ?it/s]"
      ]
     },
     "metadata": {},
     "output_type": "display_data"
    },
    {
     "name": "stdout",
     "output_type": "stream",
     "text": [
      "SHAP values difference: 3.933232406438947e-08\n",
      "Background count: 10\n",
      "Background min diff: -4.015079498291016\n",
      "Background max diff: 2.9061012268066406\n"
     ]
    },
    {
     "data": {
      "application/vnd.jupyter.widget-view+json": {
       "model_id": "67c7e65921294ad5b095cc817f27b937",
       "version_major": 2,
       "version_minor": 0
      },
      "text/plain": [
       "  0%|          | 0/1 [00:00<?, ?it/s]"
      ]
     },
     "metadata": {},
     "output_type": "display_data"
    },
    {
     "name": "stdout",
     "output_type": "stream",
     "text": [
      "SHAP values difference: 2.3375314128770697e-08\n",
      "SHAP values correction 2\n",
      "Background count: 10\n",
      "Background min diff: -7.714931488037109\n",
      "Background max diff: 6.053607940673828\n"
     ]
    },
    {
     "data": {
      "application/vnd.jupyter.widget-view+json": {
       "model_id": "126353b495194240bb93d5a375f4b11a",
       "version_major": 2,
       "version_minor": 0
      },
      "text/plain": [
       "  0%|          | 0/1 [00:00<?, ?it/s]"
      ]
     },
     "metadata": {},
     "output_type": "display_data"
    },
    {
     "name": "stdout",
     "output_type": "stream",
     "text": [
      "SHAP values difference: -5.980012041106875e-08\n",
      "SHAP values correction 2\n",
      "Background count: 10\n",
      "Background min diff: -3.789142608642578\n",
      "Background max diff: 4.534893035888672\n"
     ]
    },
    {
     "data": {
      "application/vnd.jupyter.widget-view+json": {
       "model_id": "dcfef9b70bb74c2da0f6b435a62ca809",
       "version_major": 2,
       "version_minor": 0
      },
      "text/plain": [
       "  0%|          | 0/1 [00:00<?, ?it/s]"
      ]
     },
     "metadata": {},
     "output_type": "display_data"
    },
    {
     "name": "stdout",
     "output_type": "stream",
     "text": [
      "SHAP values difference: 9.111995424859742e-08\n",
      "Background count: 10\n",
      "Background min diff: -2.805795669555664\n",
      "Background max diff: 8.309667587280273\n"
     ]
    },
    {
     "data": {
      "application/vnd.jupyter.widget-view+json": {
       "model_id": "3fb5bd76da0e45b9845a3ad62650b1b7",
       "version_major": 2,
       "version_minor": 0
      },
      "text/plain": [
       "  0%|          | 0/1 [00:00<?, ?it/s]"
      ]
     },
     "metadata": {},
     "output_type": "display_data"
    },
    {
     "name": "stdout",
     "output_type": "stream",
     "text": [
      "SHAP values difference: -4.7916458356667135e-08\n",
      "Background count: 10\n",
      "Background min diff: -4.181873321533203\n",
      "Background max diff: 4.597095489501953\n"
     ]
    },
    {
     "data": {
      "application/vnd.jupyter.widget-view+json": {
       "model_id": "684302ab770449999e72dfeef2d05f66",
       "version_major": 2,
       "version_minor": 0
      },
      "text/plain": [
       "  0%|          | 0/1 [00:00<?, ?it/s]"
      ]
     },
     "metadata": {},
     "output_type": "display_data"
    },
    {
     "name": "stdout",
     "output_type": "stream",
     "text": [
      "SHAP values difference: -7.486154274261025e-08\n",
      "Background count: 10\n",
      "Background min diff: -5.743509292602539\n",
      "Background max diff: 5.371953964233398\n"
     ]
    },
    {
     "data": {
      "application/vnd.jupyter.widget-view+json": {
       "model_id": "9b6eae8cd7714c92bcd34970ee6ee562",
       "version_major": 2,
       "version_minor": 0
      },
      "text/plain": [
       "  0%|          | 0/1 [00:00<?, ?it/s]"
      ]
     },
     "metadata": {},
     "output_type": "display_data"
    },
    {
     "name": "stdout",
     "output_type": "stream",
     "text": [
      "SHAP values difference: 2.945709844937028e-07\n",
      "Background count: 10\n",
      "Background min diff: -5.620975494384766\n",
      "Background max diff: 5.790424346923828\n"
     ]
    },
    {
     "data": {
      "application/vnd.jupyter.widget-view+json": {
       "model_id": "1dde4b649e6e420bb032ccd16f5653ca",
       "version_major": 2,
       "version_minor": 0
      },
      "text/plain": [
       "  0%|          | 0/1 [00:00<?, ?it/s]"
      ]
     },
     "metadata": {},
     "output_type": "display_data"
    },
    {
     "name": "stdout",
     "output_type": "stream",
     "text": [
      "SHAP values difference: -1.1923782849976305e-07\n",
      "Background count: 10\n",
      "Background min diff: -5.261905670166016\n",
      "Background max diff: 4.615848541259766\n"
     ]
    },
    {
     "data": {
      "application/vnd.jupyter.widget-view+json": {
       "model_id": "35a1e72d168e4264805737aaee1f9557",
       "version_major": 2,
       "version_minor": 0
      },
      "text/plain": [
       "  0%|          | 0/1 [00:00<?, ?it/s]"
      ]
     },
     "metadata": {},
     "output_type": "display_data"
    },
    {
     "name": "stdout",
     "output_type": "stream",
     "text": [
      "SHAP values difference: -3.1808777833930435e-08\n",
      "Background count: 10\n",
      "Background min diff: -4.8348236083984375\n",
      "Background max diff: 2.7575149536132812\n"
     ]
    },
    {
     "data": {
      "application/vnd.jupyter.widget-view+json": {
       "model_id": "63526d7975cd417fad5b4a120b8ad5da",
       "version_major": 2,
       "version_minor": 0
      },
      "text/plain": [
       "  0%|          | 0/1 [00:00<?, ?it/s]"
      ]
     },
     "metadata": {},
     "output_type": "display_data"
    },
    {
     "name": "stdout",
     "output_type": "stream",
     "text": [
      "SHAP values difference: 1.433151037844027e-07\n",
      "SHAP values correction 2\n",
      "Background count: 10\n",
      "Background min diff: -4.1662139892578125\n",
      "Background max diff: 5.8759918212890625\n"
     ]
    },
    {
     "data": {
      "application/vnd.jupyter.widget-view+json": {
       "model_id": "3fefc6c711334259a8909cdbf4fd15f6",
       "version_major": 2,
       "version_minor": 0
      },
      "text/plain": [
       "  0%|          | 0/1 [00:00<?, ?it/s]"
      ]
     },
     "metadata": {},
     "output_type": "display_data"
    },
    {
     "name": "stdout",
     "output_type": "stream",
     "text": [
      "SHAP values difference: 1.8280062974440625e-07\n",
      "Background count: 10\n",
      "Background min diff: -5.352664947509766\n",
      "Background max diff: 6.058734893798828\n"
     ]
    },
    {
     "data": {
      "application/vnd.jupyter.widget-view+json": {
       "model_id": "9516617a74ae4c8e9b7df0165600880c",
       "version_major": 2,
       "version_minor": 0
      },
      "text/plain": [
       "  0%|          | 0/1 [00:00<?, ?it/s]"
      ]
     },
     "metadata": {},
     "output_type": "display_data"
    },
    {
     "name": "stdout",
     "output_type": "stream",
     "text": [
      "SHAP values difference: -1.4820586452524154e-08\n",
      "SHAP values correction 2\n",
      "Background count: 10\n",
      "Background min diff: -6.87213134765625\n",
      "Background max diff: 7.3086700439453125\n"
     ]
    },
    {
     "data": {
      "application/vnd.jupyter.widget-view+json": {
       "model_id": "46afb387f24b4d559ca294943a27cf08",
       "version_major": 2,
       "version_minor": 0
      },
      "text/plain": [
       "  0%|          | 0/1 [00:00<?, ?it/s]"
      ]
     },
     "metadata": {},
     "output_type": "display_data"
    },
    {
     "name": "stdout",
     "output_type": "stream",
     "text": [
      "SHAP values difference: 2.6146514020553013e-07\n",
      "SHAP values correction 2\n",
      "Background count: 10\n",
      "Background min diff: -4.044559478759766\n",
      "Background max diff: 5.619976043701172\n"
     ]
    },
    {
     "data": {
      "application/vnd.jupyter.widget-view+json": {
       "model_id": "1a5c639bf5664848a91103e02774b224",
       "version_major": 2,
       "version_minor": 0
      },
      "text/plain": [
       "  0%|          | 0/1 [00:00<?, ?it/s]"
      ]
     },
     "metadata": {},
     "output_type": "display_data"
    },
    {
     "name": "stdout",
     "output_type": "stream",
     "text": [
      "SHAP values difference: -1.6594208318565506e-07\n",
      "SHAP values correction 2\n",
      "Background count: 10\n",
      "Background min diff: -5.686225891113281\n",
      "Background max diff: 3.4381027221679688\n"
     ]
    },
    {
     "data": {
      "application/vnd.jupyter.widget-view+json": {
       "model_id": "105ea7e3624b4a10bb47e19e9c4def53",
       "version_major": 2,
       "version_minor": 0
      },
      "text/plain": [
       "  0%|          | 0/1 [00:00<?, ?it/s]"
      ]
     },
     "metadata": {},
     "output_type": "display_data"
    },
    {
     "name": "stdout",
     "output_type": "stream",
     "text": [
      "SHAP values difference: -5.3806974875669766e-08\n",
      "Background count: 10\n",
      "Background min diff: -6.183811187744141\n",
      "Background max diff: 5.720165252685547\n"
     ]
    },
    {
     "data": {
      "application/vnd.jupyter.widget-view+json": {
       "model_id": "422ba4cbe2bb4d0cb8c592e0ec6ac9fe",
       "version_major": 2,
       "version_minor": 0
      },
      "text/plain": [
       "  0%|          | 0/1 [00:00<?, ?it/s]"
      ]
     },
     "metadata": {},
     "output_type": "display_data"
    },
    {
     "name": "stdout",
     "output_type": "stream",
     "text": [
      "SHAP values difference: -1.9288499686354044e-09\n",
      "Background count: 10\n",
      "Background min diff: -7.120906829833984\n",
      "Background max diff: 2.756847381591797\n"
     ]
    },
    {
     "data": {
      "application/vnd.jupyter.widget-view+json": {
       "model_id": "e865726fcc58486bb030fe4bcf24a23f",
       "version_major": 2,
       "version_minor": 0
      },
      "text/plain": [
       "  0%|          | 0/1 [00:00<?, ?it/s]"
      ]
     },
     "metadata": {},
     "output_type": "display_data"
    },
    {
     "name": "stdout",
     "output_type": "stream",
     "text": [
      "SHAP values difference: -7.843357893722036e-09\n",
      "SHAP values correction 2\n",
      "Background count: 10\n",
      "Background min diff: -3.840038299560547\n",
      "Background max diff: 3.2343101501464844\n"
     ]
    },
    {
     "data": {
      "application/vnd.jupyter.widget-view+json": {
       "model_id": "356a87a021b64e898a3751ec38b4ded7",
       "version_major": 2,
       "version_minor": 0
      },
      "text/plain": [
       "  0%|          | 0/1 [00:00<?, ?it/s]"
      ]
     },
     "metadata": {},
     "output_type": "display_data"
    },
    {
     "name": "stdout",
     "output_type": "stream",
     "text": [
      "SHAP values difference: 2.1426901852805713e-07\n",
      "SHAP values correction 1\n",
      "SHAP values correction 2\n",
      "Background count: 10\n",
      "Background min diff: -6.751209259033203\n",
      "Background max diff: 7.017330169677734\n"
     ]
    },
    {
     "data": {
      "application/vnd.jupyter.widget-view+json": {
       "model_id": "5ce84ab846f24a53a9a25bdfd15b4ee8",
       "version_major": 2,
       "version_minor": 0
      },
      "text/plain": [
       "  0%|          | 0/1 [00:00<?, ?it/s]"
      ]
     },
     "metadata": {},
     "output_type": "display_data"
    },
    {
     "name": "stdout",
     "output_type": "stream",
     "text": [
      "SHAP values difference: 1.1767421037589543e-07\n",
      "SHAP values correction 2\n",
      "Background count: 10\n",
      "Background min diff: -4.341064453125\n",
      "Background max diff: 2.7332839965820312\n"
     ]
    },
    {
     "data": {
      "application/vnd.jupyter.widget-view+json": {
       "model_id": "11f737aff9004bb4bdf3d049c44b64b6",
       "version_major": 2,
       "version_minor": 0
      },
      "text/plain": [
       "  0%|          | 0/1 [00:00<?, ?it/s]"
      ]
     },
     "metadata": {},
     "output_type": "display_data"
    },
    {
     "name": "stdout",
     "output_type": "stream",
     "text": [
      "SHAP values difference: 2.403511629722743e-07\n",
      "Background count: 10\n",
      "Background min diff: -7.366092681884766\n",
      "Background max diff: 7.474880218505859\n"
     ]
    },
    {
     "data": {
      "application/vnd.jupyter.widget-view+json": {
       "model_id": "f0d96fe478904c1bb77751c251df1279",
       "version_major": 2,
       "version_minor": 0
      },
      "text/plain": [
       "  0%|          | 0/1 [00:00<?, ?it/s]"
      ]
     },
     "metadata": {},
     "output_type": "display_data"
    },
    {
     "name": "stdout",
     "output_type": "stream",
     "text": [
      "SHAP values difference: 3.1052032944955954e-08\n",
      "SHAP values correction 2\n",
      "Background count: 10\n",
      "Background min diff: -4.23541259765625\n",
      "Background max diff: 4.088623046875\n"
     ]
    },
    {
     "data": {
      "application/vnd.jupyter.widget-view+json": {
       "model_id": "822efb94db5f41cca146fa9724c00588",
       "version_major": 2,
       "version_minor": 0
      },
      "text/plain": [
       "  0%|          | 0/1 [00:00<?, ?it/s]"
      ]
     },
     "metadata": {},
     "output_type": "display_data"
    },
    {
     "name": "stdout",
     "output_type": "stream",
     "text": [
      "SHAP values difference: -6.930255835868593e-08\n",
      "Background count: 10\n",
      "Background min diff: -6.455350875854492\n",
      "Background max diff: 4.660112380981445\n"
     ]
    },
    {
     "data": {
      "application/vnd.jupyter.widget-view+json": {
       "model_id": "253c04a7bd1547be97555734fc633c52",
       "version_major": 2,
       "version_minor": 0
      },
      "text/plain": [
       "  0%|          | 0/1 [00:00<?, ?it/s]"
      ]
     },
     "metadata": {},
     "output_type": "display_data"
    },
    {
     "name": "stdout",
     "output_type": "stream",
     "text": [
      "SHAP values difference: 2.551218543089817e-07\n",
      "Background count: 10\n",
      "Background min diff: -3.8245582580566406\n",
      "Background max diff: 3.767780303955078\n"
     ]
    },
    {
     "data": {
      "application/vnd.jupyter.widget-view+json": {
       "model_id": "b4bc9373a54b4dc3bb7c8da7378f3d65",
       "version_major": 2,
       "version_minor": 0
      },
      "text/plain": [
       "  0%|          | 0/1 [00:00<?, ?it/s]"
      ]
     },
     "metadata": {},
     "output_type": "display_data"
    },
    {
     "name": "stdout",
     "output_type": "stream",
     "text": [
      "SHAP values difference: 3.252366909123339e-08\n",
      "SHAP values correction 1\n",
      "SHAP values correction 2\n",
      "Background count: 10\n",
      "Background min diff: -11.654121398925781\n",
      "Background max diff: 6.454872131347656\n"
     ]
    },
    {
     "data": {
      "application/vnd.jupyter.widget-view+json": {
       "model_id": "0c91d4b8559543bfb42bdcb00785e698",
       "version_major": 2,
       "version_minor": 0
      },
      "text/plain": [
       "  0%|          | 0/1 [00:00<?, ?it/s]"
      ]
     },
     "metadata": {},
     "output_type": "display_data"
    },
    {
     "name": "stdout",
     "output_type": "stream",
     "text": [
      "SHAP values difference: 4.019056731863202e-08\n",
      "Background count: 10\n",
      "Background min diff: -6.261219024658203\n",
      "Background max diff: 3.616535186767578\n"
     ]
    },
    {
     "data": {
      "application/vnd.jupyter.widget-view+json": {
       "model_id": "c2f9e9b6e38a45c38946e86c687cc51d",
       "version_major": 2,
       "version_minor": 0
      },
      "text/plain": [
       "  0%|          | 0/1 [00:00<?, ?it/s]"
      ]
     },
     "metadata": {},
     "output_type": "display_data"
    },
    {
     "name": "stdout",
     "output_type": "stream",
     "text": [
      "SHAP values difference: -3.3978881930352145e-08\n",
      "Background count: 10\n",
      "Background min diff: -6.926429748535156\n",
      "Background max diff: 6.842109680175781\n"
     ]
    },
    {
     "data": {
      "application/vnd.jupyter.widget-view+json": {
       "model_id": "7835cfbde37a484f91dfb08683d9c1ee",
       "version_major": 2,
       "version_minor": 0
      },
      "text/plain": [
       "  0%|          | 0/1 [00:00<?, ?it/s]"
      ]
     },
     "metadata": {},
     "output_type": "display_data"
    },
    {
     "name": "stdout",
     "output_type": "stream",
     "text": [
      "SHAP values difference: -2.373540972655519e-07\n",
      "Background count: 10\n",
      "Background min diff: -6.50775146484375\n",
      "Background max diff: 3.64996337890625\n"
     ]
    },
    {
     "data": {
      "application/vnd.jupyter.widget-view+json": {
       "model_id": "87c5e3b20e124d1eacf549b888bb4506",
       "version_major": 2,
       "version_minor": 0
      },
      "text/plain": [
       "  0%|          | 0/1 [00:00<?, ?it/s]"
      ]
     },
     "metadata": {},
     "output_type": "display_data"
    },
    {
     "name": "stdout",
     "output_type": "stream",
     "text": [
      "SHAP values difference: -2.27461183222033e-09\n",
      "SHAP values correction 2\n",
      "Background count: 10\n",
      "Background min diff: -6.235830307006836\n",
      "Background max diff: 5.668146133422852\n"
     ]
    },
    {
     "data": {
      "application/vnd.jupyter.widget-view+json": {
       "model_id": "d4bcb02322d541efad1c30c5861b1a90",
       "version_major": 2,
       "version_minor": 0
      },
      "text/plain": [
       "  0%|          | 0/1 [00:00<?, ?it/s]"
      ]
     },
     "metadata": {},
     "output_type": "display_data"
    },
    {
     "name": "stdout",
     "output_type": "stream",
     "text": [
      "SHAP values difference: 1.982727226845782e-08\n",
      "Background count: 10\n",
      "Background min diff: -8.88861083984375\n",
      "Background max diff: 7.744361877441406\n"
     ]
    },
    {
     "data": {
      "application/vnd.jupyter.widget-view+json": {
       "model_id": "6075420cccc6434ea076a46dcdbbcba8",
       "version_major": 2,
       "version_minor": 0
      },
      "text/plain": [
       "  0%|          | 0/1 [00:00<?, ?it/s]"
      ]
     },
     "metadata": {},
     "output_type": "display_data"
    },
    {
     "name": "stdout",
     "output_type": "stream",
     "text": [
      "SHAP values difference: 3.902791405607786e-06\n",
      "SHAP values correction 2\n",
      "Background count: 10\n",
      "Background min diff: -3.89300537109375\n",
      "Background max diff: 3.6993331909179688\n"
     ]
    },
    {
     "data": {
      "application/vnd.jupyter.widget-view+json": {
       "model_id": "9f7d517aa0304e0d8f4629b0fccc9cff",
       "version_major": 2,
       "version_minor": 0
      },
      "text/plain": [
       "  0%|          | 0/1 [00:00<?, ?it/s]"
      ]
     },
     "metadata": {},
     "output_type": "display_data"
    },
    {
     "name": "stdout",
     "output_type": "stream",
     "text": [
      "SHAP values difference: 5.437591212853476e-07\n",
      "Background count: 10\n",
      "Background min diff: -2.9692230224609375\n",
      "Background max diff: 3.9519577026367188\n"
     ]
    },
    {
     "data": {
      "application/vnd.jupyter.widget-view+json": {
       "model_id": "dfe726a9a5be4a018f59c85fb404d686",
       "version_major": 2,
       "version_minor": 0
      },
      "text/plain": [
       "  0%|          | 0/1 [00:00<?, ?it/s]"
      ]
     },
     "metadata": {},
     "output_type": "display_data"
    },
    {
     "name": "stdout",
     "output_type": "stream",
     "text": [
      "SHAP values difference: -1.1259207965963469e-07\n",
      "Background count: 10\n",
      "Background min diff: -5.157989501953125\n",
      "Background max diff: 4.999725341796875\n"
     ]
    },
    {
     "data": {
      "application/vnd.jupyter.widget-view+json": {
       "model_id": "a43c2cc5a23040eab23f44ad5c56fff3",
       "version_major": 2,
       "version_minor": 0
      },
      "text/plain": [
       "  0%|          | 0/1 [00:00<?, ?it/s]"
      ]
     },
     "metadata": {},
     "output_type": "display_data"
    },
    {
     "name": "stdout",
     "output_type": "stream",
     "text": [
      "SHAP values difference: -1.5207941039818706e-07\n",
      "Background count: 10\n",
      "Background min diff: -4.732181549072266\n",
      "Background max diff: 4.046787261962891\n"
     ]
    },
    {
     "data": {
      "application/vnd.jupyter.widget-view+json": {
       "model_id": "fad30fc34e224a42af239ea206a8e592",
       "version_major": 2,
       "version_minor": 0
      },
      "text/plain": [
       "  0%|          | 0/1 [00:00<?, ?it/s]"
      ]
     },
     "metadata": {},
     "output_type": "display_data"
    },
    {
     "name": "stdout",
     "output_type": "stream",
     "text": [
      "SHAP values difference: 1.8118762312724357e-07\n",
      "Background count: 10\n",
      "Background min diff: -11.596626281738281\n",
      "Background max diff: 6.512367248535156\n"
     ]
    },
    {
     "data": {
      "application/vnd.jupyter.widget-view+json": {
       "model_id": "db65cb3ce64c4ea1bb65137c47765b81",
       "version_major": 2,
       "version_minor": 0
      },
      "text/plain": [
       "  0%|          | 0/1 [00:00<?, ?it/s]"
      ]
     },
     "metadata": {},
     "output_type": "display_data"
    },
    {
     "name": "stdout",
     "output_type": "stream",
     "text": [
      "SHAP values difference: 5.6142209103882124e-08\n",
      "Background count: 10\n",
      "Background min diff: -7.404422760009766\n",
      "Background max diff: 7.436550140380859\n"
     ]
    },
    {
     "data": {
      "application/vnd.jupyter.widget-view+json": {
       "model_id": "9a5905a01e8b4ba6980531f00ad7cd3f",
       "version_major": 2,
       "version_minor": 0
      },
      "text/plain": [
       "  0%|          | 0/1 [00:00<?, ?it/s]"
      ]
     },
     "metadata": {},
     "output_type": "display_data"
    },
    {
     "name": "stdout",
     "output_type": "stream",
     "text": [
      "SHAP values difference: -1.527438691084626e-07\n",
      "SHAP values correction 2\n",
      "Background count: 10\n",
      "Background min diff: -4.465213775634766\n",
      "Background max diff: 3.127124786376953\n"
     ]
    },
    {
     "data": {
      "application/vnd.jupyter.widget-view+json": {
       "model_id": "192dad843db344e19fe0b8cfd849ca73",
       "version_major": 2,
       "version_minor": 0
      },
      "text/plain": [
       "  0%|          | 0/1 [00:00<?, ?it/s]"
      ]
     },
     "metadata": {},
     "output_type": "display_data"
    },
    {
     "name": "stdout",
     "output_type": "stream",
     "text": [
      "SHAP values difference: -2.535305689832512e-07\n",
      "SHAP values correction 2\n",
      "Background count: 10\n",
      "Background min diff: -3.7743301391601562\n",
      "Background max diff: 3.300018310546875\n"
     ]
    },
    {
     "data": {
      "application/vnd.jupyter.widget-view+json": {
       "model_id": "38c5be184e00454282e7921b07a37f23",
       "version_major": 2,
       "version_minor": 0
      },
      "text/plain": [
       "  0%|          | 0/1 [00:00<?, ?it/s]"
      ]
     },
     "metadata": {},
     "output_type": "display_data"
    },
    {
     "name": "stdout",
     "output_type": "stream",
     "text": [
      "SHAP values difference: -8.971405840441093e-08\n",
      "SHAP values correction 2\n",
      "Background count: 10\n",
      "Background min diff: -1.3465213775634766\n",
      "Background max diff: 9.768941879272461\n"
     ]
    },
    {
     "data": {
      "application/vnd.jupyter.widget-view+json": {
       "model_id": "fb52efe59bce41a686b2db937794d68a",
       "version_major": 2,
       "version_minor": 0
      },
      "text/plain": [
       "  0%|          | 0/1 [00:00<?, ?it/s]"
      ]
     },
     "metadata": {},
     "output_type": "display_data"
    },
    {
     "name": "stdout",
     "output_type": "stream",
     "text": [
      "SHAP values difference: -1.0164386665678649e-08\n",
      "Background count: 10\n",
      "Background min diff: -6.544216156005859\n",
      "Background max diff: 3.120319366455078\n"
     ]
    },
    {
     "data": {
      "application/vnd.jupyter.widget-view+json": {
       "model_id": "00f9dbfb7bce4f33a8199a399f1e92ad",
       "version_major": 2,
       "version_minor": 0
      },
      "text/plain": [
       "  0%|          | 0/1 [00:00<?, ?it/s]"
      ]
     },
     "metadata": {},
     "output_type": "display_data"
    },
    {
     "name": "stdout",
     "output_type": "stream",
     "text": [
      "SHAP values difference: -1.9045685917262745e-08\n",
      "Background count: 10\n",
      "Background min diff: -4.379798889160156\n",
      "Background max diff: 4.3859100341796875\n"
     ]
    },
    {
     "data": {
      "application/vnd.jupyter.widget-view+json": {
       "model_id": "a53a1e6adfef45dab9ee6bd448fdc728",
       "version_major": 2,
       "version_minor": 0
      },
      "text/plain": [
       "  0%|          | 0/1 [00:00<?, ?it/s]"
      ]
     },
     "metadata": {},
     "output_type": "display_data"
    },
    {
     "name": "stdout",
     "output_type": "stream",
     "text": [
      "SHAP values difference: -7.037711391433277e-08\n",
      "SHAP values correction 2\n",
      "Background count: 10\n",
      "Background min diff: -5.172630310058594\n",
      "Background max diff: 5.17852783203125\n"
     ]
    },
    {
     "data": {
      "application/vnd.jupyter.widget-view+json": {
       "model_id": "6a3d5ecd5c054ef38820c17852c23b83",
       "version_major": 2,
       "version_minor": 0
      },
      "text/plain": [
       "  0%|          | 0/1 [00:00<?, ?it/s]"
      ]
     },
     "metadata": {},
     "output_type": "display_data"
    },
    {
     "name": "stdout",
     "output_type": "stream",
     "text": [
      "SHAP values difference: 1.4989103291895844e-09\n",
      "SHAP values correction 2\n",
      "Background count: 10\n",
      "Background min diff: -5.987178802490234\n",
      "Background max diff: 5.128284454345703\n"
     ]
    },
    {
     "data": {
      "application/vnd.jupyter.widget-view+json": {
       "model_id": "502726d11db4406ab31d39a46a06bfdb",
       "version_major": 2,
       "version_minor": 0
      },
      "text/plain": [
       "  0%|          | 0/1 [00:00<?, ?it/s]"
      ]
     },
     "metadata": {},
     "output_type": "display_data"
    },
    {
     "name": "stdout",
     "output_type": "stream",
     "text": [
      "SHAP values difference: 6.244299655122632e-08\n",
      "SHAP values correction 2\n",
      "Background count: 10\n",
      "Background min diff: -4.851367950439453\n",
      "Background max diff: 6.585697174072266\n"
     ]
    },
    {
     "data": {
      "application/vnd.jupyter.widget-view+json": {
       "model_id": "0c7829ed1f48402894605232dbaa3a6d",
       "version_major": 2,
       "version_minor": 0
      },
      "text/plain": [
       "  0%|          | 0/1 [00:00<?, ?it/s]"
      ]
     },
     "metadata": {},
     "output_type": "display_data"
    },
    {
     "name": "stdout",
     "output_type": "stream",
     "text": [
      "SHAP values difference: -1.1003430699929595e-07\n"
     ]
    },
    {
     "name": "stderr",
     "output_type": "stream",
     "text": [
      "C:\\Users\\user\\AppData\\Local\\Temp\\ipykernel_46640\\4091489871.py:313: FutureWarning: A value is trying to be set on a copy of a DataFrame or Series through chained assignment using an inplace method.\n",
      "The behavior will change in pandas 3.0. This inplace method will never work because the intermediate object on which we are setting values always behaves as a copy.\n",
      "\n",
      "For example, when doing 'df[col].method(value, inplace=True)', try using 'df.method({col: value}, inplace=True)' or df[col] = df[col].method(value) instead, to perform the operation inplace on the original object.\n",
      "\n",
      "\n",
      "  df_fig['Group'].replace(groups_rename, inplace=True)\n",
      "C:\\Users\\user\\AppData\\Local\\Temp\\ipykernel_46640\\4091489871.py:316: FutureWarning: \n",
      "\n",
      "Passing `palette` without assigning `hue` is deprecated and will be removed in v0.14.0. Assign the `x` variable to `hue` and set `legend=False` for the same effect.\n",
      "\n",
      "  violin = sns.violinplot(\n",
      "C:\\Users\\user\\AppData\\Local\\Temp\\ipykernel_46640\\4091489871.py:316: FutureWarning: \n",
      "\n",
      "The `scale` parameter has been renamed and will be removed in v0.15.0. Pass `density_norm='width'` for the same effect.\n",
      "  violin = sns.violinplot(\n",
      "C:\\Users\\user\\AppData\\Local\\Temp\\ipykernel_46640\\4091489871.py:341: FutureWarning: A value is trying to be set on a copy of a DataFrame or Series through chained assignment using an inplace method.\n",
      "The behavior will change in pandas 3.0. This inplace method will never work because the intermediate object on which we are setting values always behaves as a copy.\n",
      "\n",
      "For example, when doing 'df[col].method(value, inplace=True)', try using 'df.method({col: value}, inplace=True)' or df[col] = df[col].method(value) instead, to perform the operation inplace on the original object.\n",
      "\n",
      "\n",
      "  df_fig['Group'].replace(groups_rename, inplace=True)\n",
      "C:\\Users\\user\\AppData\\Local\\Temp\\ipykernel_46640\\4091489871.py:344: FutureWarning: \n",
      "\n",
      "Passing `palette` without assigning `hue` is deprecated and will be removed in v0.14.0. Assign the `x` variable to `hue` and set `legend=False` for the same effect.\n",
      "\n",
      "  violin = sns.violinplot(\n",
      "C:\\Users\\user\\AppData\\Local\\Temp\\ipykernel_46640\\4091489871.py:344: FutureWarning: \n",
      "\n",
      "The `scale` parameter has been renamed and will be removed in v0.15.0. Pass `density_norm='width'` for the same effect.\n",
      "  violin = sns.violinplot(\n",
      "c:\\Users\\user\\anaconda3\\envs\\py311\\Lib\\site-packages\\statannotations\\Annotator.py:825: UserWarning: Annotator was reconfigured without applying the test (again) which will probably lead to unexpected results\n",
      "  warnings.warn(\"Annotator was reconfigured without applying the \"\n"
     ]
    }
   ],
   "source": [
    "is_explain = True\n",
    "explain_method = \"GradientShap\"\n",
    "explain_baselines = \"b|1000\"\n",
    "explain_n_feats_to_plot = 25\n",
    "\n",
    "models_type = 'DANet'\n",
    "models_ids = [\n",
    "0,\n",
    "2,\n",
    "7,\n",
    "8,\n",
    "11,\n",
    "13,\n",
    "23,\n",
    "]\n",
    "models_ids = sorted(list(set(models_ids)))\n",
    "\n",
    "ids_shap_check = test.index.values\n",
    "bkg_count = 10\n",
    "\n",
    "feat_trgt = 'Age'\n",
    "data_for_shap = data.copy()\n",
    "data_for_shap.loc[train.index, 'Group'] = 'Train'\n",
    "data_for_shap.loc[validation.index, 'Group'] = 'Validation'\n",
    "data_for_shap.loc[test.index, 'Group'] = 'Test'\n",
    "\n",
    "feats_corr = pd.DataFrame(index=feats, columns=['Correlation'])\n",
    "for f in feats:\n",
    "    feats_corr.at[f, 'Correlation'], _ = stats.pearsonr(data.loc[:, f].values, data.loc[:, feat_trgt].values)\n",
    "\n",
    "path_to_models = path_ckpts\n",
    "fn_sweep = (\n",
    "    f\"models\"\n",
    ")\n",
    "df_sweeps = pd.read_excel(f\"{path_to_models}/{fn_sweep}.xlsx\", index_col=0)\n",
    "\n",
    "path_to_candidates = f\"{path_to_models}/candidates/{models_type}\"\n",
    "pathlib.Path(path_to_candidates).mkdir(parents=True, exist_ok=True)\n",
    "\n",
    "colors_groups = {\n",
    "    'Train': 'chartreuse',\n",
    "    'Validation': 'dodgerblue',\n",
    "    'Test': 'crimson',\n",
    "}\n",
    "\n",
    "for model_id in models_ids:\n",
    "\n",
    "    model_dir = str(pathlib.Path(df_sweeps.at[model_id, 'checkpoint']).parent).replace('\\\\', '/') + '/' + pathlib.Path(df_sweeps.at[model_id, 'checkpoint']).stem\n",
    "    model = TabularModel.load_model(model_dir)\n",
    "    pathlib.Path(f\"{path_to_candidates}/{model_id}\").mkdir(parents=True, exist_ok=True)\n",
    "    shutil.copytree(model_dir, f\"{path_to_candidates}/{model_id}\", dirs_exist_ok=True)\n",
    "    \n",
    "    df = data.loc[:, [feat_trgt, 'Риск ССЗ']]\n",
    "    df.loc[train.index, 'Group'] = 'Train'\n",
    "    df.loc[validation.index, 'Group'] = 'Validation'\n",
    "    df.loc[test.index, 'Group'] = 'Test'\n",
    "    df['Prediction'] = model.predict(data)\n",
    "    df['Error'] = df['Prediction'] - df[feat_trgt]\n",
    "    corrector = LinearBiasCorrector()\n",
    "    corrector.fit(df.loc[df['Group'] == 'Train', feat_trgt].values, df.loc[df['Group'] == 'Train', 'Prediction'].values)\n",
    "    df['Prediction Unbiased'] = corrector.predict(df['Prediction'].values)\n",
    "    df['Error Unbiased'] = df['Prediction Unbiased'] - df[feat_trgt]\n",
    "    df.to_excel(f\"{path_to_candidates}/{model_id}/df.xlsx\")\n",
    "    \n",
    "    def predict_func(X):\n",
    "        X_df = pd.DataFrame(data=X, columns=feats)\n",
    "        y = model.predict(X_df)[f'{feat_trgt}_prediction'].values\n",
    "        y = corrector.predict(y)\n",
    "        return y\n",
    "    \n",
    "    data_for_shap['Prediction'] = df['Prediction']\n",
    "    data_for_shap['Error'] = df['Error']\n",
    "    data_for_shap['Prediction Unbiased'] = df['Prediction Unbiased']\n",
    "    data_for_shap['Error Unbiased'] = df['Error Unbiased']\n",
    "    \n",
    "    df_metrics = pd.DataFrame(\n",
    "        index=list(colors_groups.keys()),\n",
    "        columns=[\n",
    "            'mean_absolute_error', 'pearson_corrcoef', 'bias',\n",
    "            'mean_absolute_error_unbiased', 'pearson_corrcoef_unbiased', 'bias_unbiased'\n",
    "        ]\n",
    "    )\n",
    "    for group in colors_groups.keys():\n",
    "        pred = torch.from_numpy(df.loc[df['Group'] == group, 'Prediction'].values)\n",
    "        pred_unbiased = torch.from_numpy(df.loc[df['Group'] == group, 'Prediction Unbiased'].values)\n",
    "        real = torch.from_numpy(df.loc[df['Group'] == group, feat_trgt].values)\n",
    "        df_metrics.at[group, 'mean_absolute_error'] = mean_absolute_error(pred, real).numpy()\n",
    "        df_metrics.at[group, 'pearson_corrcoef'] = pearson_corrcoef(pred, real).numpy()\n",
    "        df_metrics.at[group, 'bias'] = np.mean(df.loc[df['Group'] == group, 'Error'].values)\n",
    "        df_metrics.at[group, 'mean_absolute_error_unbiased'] = mean_absolute_error(pred_unbiased, real).numpy()\n",
    "        df_metrics.at[group, 'pearson_corrcoef_unbiased'] = pearson_corrcoef(pred_unbiased, real).numpy()\n",
    "        df_metrics.at[group, 'bias_unbiased'] = np.mean(df.loc[df['Group'] == group, 'Error Unbiased'].values)\n",
    "    df_metrics.to_excel(f\"{path_to_candidates}/{model_id}/metrics.xlsx\", index_label=\"Metrics\")\n",
    "    \n",
    "    mae = df_metrics.at['Test', 'mean_absolute_error_unbiased']\n",
    "    rho = df_metrics.at['Test', 'pearson_corrcoef_unbiased']\n",
    "    \n",
    "    \n",
    "    \n",
    "    \n",
    "    \n",
    "    df_correspondence = pd.DataFrame()\n",
    "    for sample_id in ids_shap_check:\n",
    "        \n",
    "        trgt_age = data_for_shap.at[sample_id, feat_trgt]\n",
    "        trgt_pred_raw = data_for_shap.at[sample_id, 'Prediction Unbiased']\n",
    "        \n",
    "        data_closest = data_for_shap.loc[data_for_shap['Error Unbiased'].abs() < mae * rho * feats_corr['Correlation'].abs().max(), :]\n",
    "        data_closest = data_closest.iloc[(data_closest['Prediction Unbiased'] - trgt_age).abs().argsort()[:bkg_count]]\n",
    "        \n",
    "        print(f\"Background count: {data_closest.shape[0]}\")\n",
    "        print(f\"Background min diff: {(data_closest['Prediction Unbiased'] - trgt_age).min()}\")\n",
    "        print(f\"Background max diff: {(data_closest['Prediction Unbiased'] - trgt_age).max()}\")\n",
    "        \n",
    "        explainer = shap.SamplingExplainer(predict_func, data_closest.loc[:, feats].values)\n",
    "        shap_values = explainer.shap_values(data_for_shap.loc[[sample_id], feats].values)[0]\n",
    "        shap_values = shap_values * (trgt_pred_raw - trgt_age) / (trgt_pred_raw - explainer.expected_value)\n",
    "        print(f\"SHAP values difference: {sum(shap_values) - (trgt_pred_raw - trgt_age)}\")\n",
    "        \n",
    "        # SHAP values correction 1\n",
    "        shap_corr_thld = 3.0\n",
    "        shap_corr_to = 1.0\n",
    "        shap_mean_abs = np.mean(np.abs(shap_values))\n",
    "        if shap_mean_abs > shap_corr_thld and abs(sum(shap_values)) < shap_corr_thld:\n",
    "            print('SHAP values correction 1')\n",
    "            shap_pos_ids = np.argwhere(shap_values >= 0).ravel()\n",
    "            shap_neg_ids = np.argwhere(shap_values < 0).ravel()\n",
    "            \n",
    "            shap_pos_sum_abs = np.sum(np.abs(shap_values[shap_pos_ids]))\n",
    "            shap_neg_sum_abs = np.sum(np.abs(shap_values[shap_neg_ids]))\n",
    "            \n",
    "            shap_sum_abs_from = np.sum(np.abs(shap_values))\n",
    "            shap_sum_abs_to = shap_corr_to * len(shap_values)\n",
    "            \n",
    "            shap_corr_diff = shap_sum_abs_from - shap_sum_abs_to\n",
    "            \n",
    "            for pos_id in shap_pos_ids:\n",
    "                curr_part = abs(shap_values[pos_id]) / shap_pos_sum_abs\n",
    "                shap_values[pos_id] -= curr_part * shap_corr_diff * 0.5\n",
    "            for neg_id in shap_neg_ids:\n",
    "                curr_part = abs(shap_values[neg_id]) / shap_neg_sum_abs\n",
    "                shap_values[neg_id] += curr_part * shap_corr_diff * 0.5\n",
    "                \n",
    "        # SHAP values correction 2\n",
    "        shap_corr_max_thld = 1.0\n",
    "        shap_corr_max_to = 0.95\n",
    "        shap_max_abs = np.max(np.abs(shap_values))\n",
    "        shap_abs_sum = np.abs(np.sum(shap_values))\n",
    "        if shap_max_abs > shap_corr_max_thld * shap_abs_sum:\n",
    "            print('SHAP values correction 2')\n",
    "            shap_pos_ids = np.argwhere(shap_values >= 0).ravel()\n",
    "            shap_neg_ids = np.argwhere(shap_values < 0).ravel()\n",
    "            \n",
    "            shap_pos_sum_abs = np.sum(np.abs(shap_values[shap_pos_ids]))\n",
    "            shap_neg_sum_abs = np.sum(np.abs(shap_values[shap_neg_ids]))\n",
    "            \n",
    "            shap_corr_diff = (shap_max_abs - shap_corr_max_thld) * shap_corr_max_to\n",
    "            \n",
    "            for pos_id in shap_pos_ids:\n",
    "                curr_part = abs(shap_values[pos_id]) / shap_pos_sum_abs\n",
    "                shap_values[pos_id] -= curr_part * shap_corr_diff\n",
    "            for neg_id in shap_neg_ids:\n",
    "                curr_part = abs(shap_values[neg_id]) / shap_neg_sum_abs\n",
    "                shap_values[neg_id] += curr_part * shap_corr_diff\n",
    "        \n",
    "        df_comp = pd.DataFrame(index=feats, columns=['SHAP', 'Values', 'Correlation', 'Percentile', 'Consistent'])\n",
    "        df_comp['SHAP'] = shap_values\n",
    "        df_comp.sort_values(by='SHAP', key=abs, inplace=True)\n",
    "        df_comp.loc[df_comp.index.values, 'Values'] = data_for_shap.loc[sample_id, df_comp.index.values].values\n",
    "        df_comp.loc[df_comp.index.values, 'Correlation'] = feats_corr.loc[df_comp.index.values, 'Correlation']\n",
    "        for f_id, f in enumerate(df_comp.index.values):\n",
    "            df_comp.at[f, 'Percentile'] = stats.percentileofscore(data_closest.loc[:, f].values, data_for_shap.at[sample_id, f])\n",
    "            if (\n",
    "                ((df_comp.at[f, 'Correlation'] > 0) & (df_comp.at[f, 'SHAP'] > 0) & (df_comp.at[f, 'Percentile'] > 55)) or \\\n",
    "                ((df_comp.at[f, 'Correlation'] > 0) & (df_comp.at[f, 'SHAP'] < 0) & (df_comp.at[f, 'Percentile'] < 45)) or \\\n",
    "                ((df_comp.at[f, 'Correlation'] < 0) & (df_comp.at[f, 'SHAP'] > 0) & (df_comp.at[f, 'Percentile'] < 45)) or \\\n",
    "                ((df_comp.at[f, 'Correlation'] < 0) & (df_comp.at[f, 'SHAP'] < 0) & (df_comp.at[f, 'Percentile'] > 55))\n",
    "                ):\n",
    "                df_comp.at[f, 'Consistent'] = 1\n",
    "            else:\n",
    "                df_comp.at[f, 'Consistent'] = 0\n",
    "\n",
    "            df_correspondence.at[sample_id, f\"{f} Consistent\"] = df_comp.at[f, 'Consistent']\n",
    "            df_correspondence.at[sample_id, f\"{f} Order\"] = f_id\n",
    "            df_correspondence.at[sample_id, f\"{f} Percentile\"] = df_comp.at[f, 'Percentile']\n",
    "            df_correspondence.at[sample_id, f\"{f} SHAP\"] = df_comp.at[f, 'SHAP']\n",
    "            df_correspondence.at[sample_id, f\"{f} Value\"] = df_comp.at[f, 'Values']\n",
    "            df_correspondence.at[sample_id, f\"{f} Correlation\"] = df_comp.at[f, 'Correlation']\n",
    "            \n",
    "    for n_top_feats in np.arange(1, len(feats) + 1):\n",
    "        df_sweeps.at[model_id, f\"SHAP top-{n_top_feats}\"] = 0.0\n",
    "        for f in feats:\n",
    "            df_sweeps.at[model_id, f\"SHAP top-{n_top_feats}\"] += df_correspondence.loc[df_correspondence[f\"{f} Order\"] > len(feats) - n_top_feats - 1, f\"{f} Consistent\"].sum()\n",
    "        df_sweeps.at[model_id, f\"SHAP top-{n_top_feats}\"] /= (n_top_feats * len(ids_shap_check))\n",
    "        \n",
    "    df_correspondence.to_excel(f\"{path_to_candidates}/{model_id}/correspondence.xlsx\")\n",
    "    \n",
    "    \n",
    "    xy_min = df[[feat_trgt, 'Prediction']].min().min()\n",
    "    xy_max = df[[feat_trgt, 'Prediction']].max().max()\n",
    "    xy_ptp = xy_max - xy_min\n",
    "    \n",
    "    xy_min_unbiased = df[[feat_trgt, 'Prediction Unbiased']].min().min()\n",
    "    xy_max_unbiased = df[[feat_trgt, 'Prediction Unbiased']].max().max()\n",
    "    xy_ptp_unbiased = xy_max_unbiased - xy_min_unbiased\n",
    "    \n",
    "    sns.set_theme(style='whitegrid')\n",
    "    fig, ax = plt.subplots(figsize=(4.5, 4))\n",
    "    for group in colors_groups.keys():    \n",
    "        regplot = sns.regplot(\n",
    "            data=df.loc[df['Group'] == group, :],\n",
    "            x=feat_trgt,\n",
    "            y=\"Prediction\",\n",
    "            label=group,\n",
    "            color=colors_groups[group],\n",
    "            scatter_kws=dict(\n",
    "                linewidth=0.2,\n",
    "                alpha=0.75,\n",
    "                edgecolor=\"k\",\n",
    "                s=20,\n",
    "            ),\n",
    "            ax=ax\n",
    "        )\n",
    "    bisect = sns.lineplot(\n",
    "        x=[xy_min - 0.1 * xy_ptp, xy_max + 0.1 * xy_ptp],\n",
    "        y=[xy_min - 0.1 * xy_ptp, xy_max + 0.1 * xy_ptp],\n",
    "        linestyle='--',\n",
    "        color='black',\n",
    "        linewidth=1.0,\n",
    "        ax=ax\n",
    "    )\n",
    "    ax.set_title(f\"{df_sweeps.at[model_id, 'model']} ({df_sweeps.at[model_id, '# Params']} params)\")\n",
    "    ax.set_xlim(xy_min - 0.1 * xy_ptp, xy_max + 0.1 * xy_ptp)\n",
    "    ax.set_ylim(xy_min - 0.1 * xy_ptp, xy_max + 0.1 * xy_ptp)\n",
    "    plt.gca().set_aspect('equal', adjustable='box')\n",
    "    fig.savefig(f\"{path_to_candidates}/{model_id}/regplot.png\", bbox_inches='tight', dpi=200)\n",
    "    fig.savefig(f\"{path_to_candidates}/{model_id}/regplot.pdf\", bbox_inches='tight')\n",
    "    plt.close(fig)\n",
    "    \n",
    "    sns.set_theme(style='whitegrid')\n",
    "    fig, ax = plt.subplots(figsize=(4.5, 4))\n",
    "    for group in colors_groups.keys():    \n",
    "        regplot = sns.regplot(\n",
    "            data=df.loc[df['Group'] == group, :],\n",
    "            x=feat_trgt,\n",
    "            y=\"Prediction Unbiased\",\n",
    "            label=group,\n",
    "            color=colors_groups[group],\n",
    "            scatter_kws=dict(\n",
    "                linewidth=0.2,\n",
    "                alpha=0.75,\n",
    "                edgecolor=\"k\",\n",
    "                s=20,\n",
    "            ),\n",
    "            ax=ax\n",
    "        )\n",
    "    bisect = sns.lineplot(\n",
    "        x=[xy_min_unbiased - 0.1 * xy_ptp_unbiased, xy_max_unbiased + 0.1 * xy_ptp_unbiased],\n",
    "        y=[xy_min_unbiased - 0.1 * xy_ptp_unbiased, xy_max_unbiased + 0.1 * xy_ptp_unbiased],\n",
    "        linestyle='--',\n",
    "        color='black',\n",
    "        linewidth=1.0,\n",
    "        ax=ax\n",
    "    )\n",
    "    ax.set_title(f\"{df_sweeps.at[model_id, 'model']} ({df_sweeps.at[model_id, '# Params']} params)\")\n",
    "    ax.set_xlim(xy_min_unbiased - 0.1 * xy_ptp, xy_max_unbiased + 0.1 * xy_ptp_unbiased)\n",
    "    ax.set_ylim(xy_min_unbiased - 0.1 * xy_ptp, xy_max_unbiased + 0.1 * xy_ptp_unbiased)\n",
    "    plt.gca().set_aspect('equal', adjustable='box')\n",
    "    fig.savefig(f\"{path_to_candidates}/{model_id}/regplot_unbiased.png\", bbox_inches='tight', dpi=200)\n",
    "    fig.savefig(f\"{path_to_candidates}/{model_id}/regplot_unbiased.pdf\", bbox_inches='tight')\n",
    "    plt.close(fig)\n",
    "    \n",
    "    sns.set_theme(style='whitegrid')\n",
    "    fig, ax = plt.subplots(figsize=(4.5, 4))   \n",
    "    scatter = sns.scatterplot(\n",
    "        data=df,\n",
    "        x=feat_trgt,\n",
    "        y=\"Prediction\",\n",
    "        hue=\"Group\",\n",
    "        palette=colors_groups,\n",
    "        linewidth=0.2,\n",
    "        alpha=0.75,\n",
    "        edgecolor=\"k\",\n",
    "        s=20,\n",
    "        hue_order=list(colors_groups.keys()),\n",
    "        ax=ax\n",
    "    )\n",
    "    bisect = sns.lineplot(\n",
    "        x=[xy_min - 0.1 * xy_ptp, xy_max + 0.1 * xy_ptp],\n",
    "        y=[xy_min - 0.1 * xy_ptp, xy_max + 0.1 * xy_ptp],\n",
    "        linestyle='--',\n",
    "        color='black',\n",
    "        linewidth=1.0,\n",
    "        ax=ax\n",
    "    )\n",
    "    ax.set_title(f\"{df_sweeps.at[model_id, 'model']} ({df_sweeps.at[model_id, '# Params']} params)\")\n",
    "    ax.set_xlim(xy_min - 0.1 * xy_ptp, xy_max + 0.1 * xy_ptp)\n",
    "    ax.set_ylim(xy_min - 0.1 * xy_ptp, xy_max + 0.1 * xy_ptp)\n",
    "    plt.gca().set_aspect('equal', adjustable='box')\n",
    "    fig.savefig(f\"{path_to_candidates}/{model_id}/scatter.png\", bbox_inches='tight', dpi=200)\n",
    "    fig.savefig(f\"{path_to_candidates}/{model_id}/scatter.pdf\", bbox_inches='tight')\n",
    "    plt.close(fig)\n",
    "    \n",
    "    df_fig = df.loc[:, ['Error', 'Group']]\n",
    "    groups_rename = {\n",
    "        group: f\"{group}\" + \"\\n\" +\n",
    "               fr\"MAE: {df_metrics.at[group, 'mean_absolute_error']:0.2f}\" + \"\\n\"\n",
    "               fr\"Pearson $\\rho$: {df_metrics.at[group, 'pearson_corrcoef']:0.2f}\" + \"\\n\" +\n",
    "               fr\"$\\langle$Error$\\rangle$: {df_metrics.at[group, 'bias']:0.2f}\" \n",
    "        for group in colors_groups\n",
    "    }\n",
    "    colors_groups_violin = {groups_rename[group]: colors_groups[group] for group in colors_groups}\n",
    "    df_fig['Group'].replace(groups_rename, inplace=True)\n",
    "    sns.set_theme(style='whitegrid')\n",
    "    fig, ax = plt.subplots(figsize=(7, 4))\n",
    "    violin = sns.violinplot(\n",
    "        data=df_fig,\n",
    "        x='Group',\n",
    "        y='Error',\n",
    "        palette=colors_groups_violin,\n",
    "        scale='width',\n",
    "        order=list(colors_groups_violin.keys()),\n",
    "        saturation=0.75,\n",
    "        legend=False,\n",
    "        ax=ax\n",
    "    )\n",
    "    ax.set_xlabel('')\n",
    "    fig.savefig(f\"{path_to_candidates}/{model_id}/violin.png\", bbox_inches='tight', dpi=200)\n",
    "    fig.savefig(f\"{path_to_candidates}/{model_id}/violin.pdf\", bbox_inches='tight')\n",
    "    plt.close(fig)\n",
    "    \n",
    "    df_fig = df.loc[:, ['Error Unbiased', 'Group']]\n",
    "    groups_rename = {\n",
    "        group: f\"{group}\" + \"\\n\" +\n",
    "               fr\"MAE: {df_metrics.at[group, 'mean_absolute_error_unbiased']:0.2f}\" + \"\\n\"\n",
    "               fr\"Pearson $\\rho$: {df_metrics.at[group, 'pearson_corrcoef_unbiased']:0.2f}\" + \"\\n\" +\n",
    "               fr\"$\\langle$Error$\\rangle$: {df_metrics.at[group, 'bias_unbiased']:0.2f}\" \n",
    "        for group in colors_groups\n",
    "    }\n",
    "    colors_groups_violin = {groups_rename[group]: colors_groups[group] for group in colors_groups}\n",
    "    df_fig['Group'].replace(groups_rename, inplace=True)\n",
    "    sns.set_theme(style='whitegrid')\n",
    "    fig, ax = plt.subplots(figsize=(7, 4))\n",
    "    violin = sns.violinplot(\n",
    "        data=df_fig,\n",
    "        x='Group',\n",
    "        y='Error Unbiased',\n",
    "        palette=colors_groups_violin,\n",
    "        scale='width',\n",
    "        order=list(colors_groups_violin.keys()),\n",
    "        saturation=0.75,\n",
    "        legend=False,\n",
    "        ax=ax\n",
    "    )\n",
    "    ax.set_xlabel('')\n",
    "    fig.savefig(f\"{path_to_candidates}/{model_id}/violin_unbiased.png\", bbox_inches='tight', dpi=200)\n",
    "    fig.savefig(f\"{path_to_candidates}/{model_id}/violin_unbiased.pdf\", bbox_inches='tight')\n",
    "    plt.close(fig)\n",
    "    \n",
    "    dataparts_ids = ['Низкий/умеренный', 'Высокий', 'Очень высокий']\n",
    "    dataparts_colors = {'Низкий/умеренный': 'chartreuse', 'Высокий': 'gold', 'Очень высокий': 'crimson'}\n",
    "    df_fig = df.copy()\n",
    "    plot_dataparts_count = df_fig['Риск ССЗ'].value_counts()\n",
    "    plot_dataparts_rename = {}\n",
    "    for x in dataparts_ids:\n",
    "        plot_dataparts_rename[x] = x + f\"\\nCount: {plot_dataparts_count[x]}\\nBias: {np.mean(df_fig.loc[df_fig['Риск ССЗ'] == x, 'Error Unbiased']):0.1f}\"\n",
    "    plot_dataparts = [plot_dataparts_rename[x] for x in dataparts_ids]\n",
    "    plot_pairs = [\n",
    "        ('Низкий/умеренный', 'Высокий'),\n",
    "        ('Низкий/умеренный', 'Очень высокий'),\n",
    "        ('Высокий', 'Очень высокий'),\n",
    "    ]\n",
    "    plot_pairs = [(plot_dataparts_rename[x[0]], plot_dataparts_rename[x[1]]) for x in plot_pairs]\n",
    "    df_fig['Риск ССЗ'] = df_fig['Риск ССЗ'].replace(plot_dataparts_rename)\n",
    "    colors_plot_dataparts = {plot_dataparts_rename[x]: dataparts_colors[x] for x in plot_dataparts_rename}\n",
    "    pvals_formatted = []\n",
    "    for plot_pair in plot_pairs:\n",
    "        pval = mannwhitneyu(\n",
    "            df_fig.loc[df_fig['Риск ССЗ'] == plot_pair[0], f'Error Unbiased'].values,\n",
    "            df_fig.loc[df_fig['Риск ССЗ'] == plot_pair[1], f'Error Unbiased'].values,\n",
    "            alternative='two-sided'\n",
    "        ).pvalue\n",
    "        pvals_formatted.append(f\"{pval:.1e}\")\n",
    "    \n",
    "    sns.set_theme(style='ticks')\n",
    "    fig, ax = plt.subplots(figsize=(6, 5))\n",
    "    violin = sns.violinplot(\n",
    "        data=df_fig,\n",
    "        x='Риск ССЗ',\n",
    "        y='Error Unbiased',\n",
    "        hue='Риск ССЗ',\n",
    "        hue_order=plot_dataparts,\n",
    "        palette=colors_plot_dataparts,\n",
    "        density_norm='width',\n",
    "        saturation=0.75,\n",
    "        linewidth=1.0,\n",
    "        ax=ax,\n",
    "        legend=False,\n",
    "    )\n",
    "    annotator = Annotator(\n",
    "        ax=ax,\n",
    "        pairs=plot_pairs,\n",
    "        data=df_fig,\n",
    "        x=\"Риск ССЗ\",\n",
    "        y='Error Unbiased',\n",
    "        order=plot_dataparts,\n",
    "    )\n",
    "    annotator.set_custom_annotations(pvals_formatted)\n",
    "    annotator.configure(loc='inside', verbose=0)\n",
    "    annotator.annotate()\n",
    "    ax.set_ylabel('Age Acceleration')\n",
    "    ax.set_xlabel('')\n",
    "    fig.savefig(f\"{path_to_candidates}/{model_id}/violins_global.png\", bbox_inches='tight', dpi=200)\n",
    "    fig.savefig(f\"{path_to_candidates}/{model_id}/violins_global.pdf\", bbox_inches='tight')\n",
    "    plt.close(fig)\n",
    "    \n",
    "    \n",
    "    try:\n",
    "        explanation = model.explain(data, method=explain_method, baselines=explain_baselines)\n",
    "        explanation.index = data.index\n",
    "        explanation.to_excel(f\"{path_to_candidates}/{model_id}/explanation.xlsx\")\n",
    "        \n",
    "        # sns.set_theme(style='whitegrid')\n",
    "        # fig = shap.summary_plot(\n",
    "        #     shap_values=explanation.loc[:, feats].values,\n",
    "        #     features=data.loc[:, feats].values,\n",
    "        #     feature_names=feats,\n",
    "        #     max_display=explain_n_feats_to_plot,\n",
    "        #     plot_type=\"violin\",\n",
    "        #     show=False,\n",
    "        # )\n",
    "        # plt.savefig(f\"{path_to_candidates}/{model_id}/explain_beeswarm.png\", bbox_inches='tight', dpi=200)\n",
    "        # plt.savefig(f\"{path_to_candidates}/{model_id}/explain_beeswarm.pdf\", bbox_inches='tight')\n",
    "        # plt.close(fig)\n",
    "        \n",
    "        sns.set_theme(style='ticks')\n",
    "        fig = shap.summary_plot(\n",
    "            shap_values=explanation.loc[:, feats].values,\n",
    "            features=data.loc[:, feats].values,\n",
    "            feature_names=feats,\n",
    "            max_display=explain_n_feats_to_plot,\n",
    "            plot_type=\"bar\",\n",
    "            show=False,\n",
    "            plot_size=[12,8]\n",
    "        )\n",
    "        plt.savefig(f\"{path_to_candidates}/{model_id}/explain_bar.png\", bbox_inches='tight', dpi=200)\n",
    "        plt.savefig(f\"{path_to_candidates}/{model_id}/explain_bar.pdf\", bbox_inches='tight')\n",
    "        plt.close(fig)\n",
    "    \n",
    "    except NotImplementedError:\n",
    "        pass\n",
    "    \n",
    "df_sweeps.loc[models_ids, :].style.background_gradient(cmap=\"RdYlGn_r\").to_excel(f\"{path_to_candidates}/selected.xlsx\")"
   ]
  }
 ],
 "metadata": {
  "kernelspec": {
   "display_name": "py311",
   "language": "python",
   "name": "python3"
  },
  "language_info": {
   "codemirror_mode": {
    "name": "ipython",
    "version": 3
   },
   "file_extension": ".py",
   "mimetype": "text/x-python",
   "name": "python",
   "nbconvert_exporter": "python",
   "pygments_lexer": "ipython3",
   "version": "3.11.11"
  }
 },
 "nbformat": 4,
 "nbformat_minor": 0
}
