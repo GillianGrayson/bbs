{
 "cells": [
  {
   "cell_type": "markdown",
   "metadata": {
    "collapsed": false
   },
   "source": [
    "# Debugging autoreload"
   ]
  },
  {
   "cell_type": "code",
   "execution_count": null,
   "metadata": {
    "collapsed": false
   },
   "outputs": [],
   "source": [
    "%load_ext autoreload\n",
    "%autoreload 2"
   ]
  },
  {
   "cell_type": "markdown",
   "metadata": {
    "collapsed": false
   },
   "source": [
    "# Load packages"
   ]
  },
  {
   "cell_type": "code",
   "execution_count": null,
   "metadata": {
    "ExecuteTime": {
     "end_time": "2024-07-01T14:29:22.801727Z",
     "start_time": "2024-07-01T14:29:18.695223Z"
    },
    "collapsed": false
   },
   "outputs": [],
   "source": [
    "from pytorch_tabular.utils import load_covertype_dataset\n",
    "from rich.pretty import pprint\n",
    "from sklearn.model_selection import BaseCrossValidator, ParameterGrid, ParameterSampler\n",
    "import torch\n",
    "import pickle\n",
    "import shutil\n",
    "from scipy import stats\n",
    "import shap\n",
    "from sklearn.model_selection import RepeatedStratifiedKFold\n",
    "from glob import glob\n",
    "import ast\n",
    "import matplotlib.pyplot as plt\n",
    "import seaborn as sns\n",
    "import copy\n",
    "import itertools\n",
    "from sklearn.model_selection import train_test_split\n",
    "import numpy as np\n",
    "from pytorch_tabular.utils import make_mixed_dataset, print_metrics\n",
    "from pytorch_tabular import available_models\n",
    "from pytorch_tabular import TabularModel\n",
    "from pytorch_tabular.models import CategoryEmbeddingModelConfig, GANDALFConfig, TabNetModelConfig, FTTransformerConfig, DANetConfig\n",
    "from pytorch_tabular.config import DataConfig, OptimizerConfig, TrainerConfig\n",
    "from pytorch_tabular.models.common.heads import LinearHeadConfig\n",
    "from pytorch_tabular.tabular_model_tuner import TabularModelTuner\n",
    "from sklearn.metrics import mean_absolute_error\n",
    "from pytorch_tabular import MODEL_SWEEP_PRESETS\n",
    "import pandas as pd\n",
    "from pytorch_tabular import model_sweep\n",
    "from src.pt.model_sweep import model_sweep_custom\n",
    "import warnings\n",
    "from src.utils.configs import read_parse_config\n",
    "from src.pt.hyper_opt import train_hyper_opt\n",
    "from src.utils.hash import dict_hash\n",
    "import pathlib\n",
    "from tqdm import tqdm\n",
    "import distinctipy\n",
    "import matplotlib.patheffects as pe\n",
    "import matplotlib.colors as mcolors\n",
    "from statannotations.Annotator import Annotator\n",
    "from scipy.stats import mannwhitneyu\n",
    "from plottable import ColumnDefinition, Table\n",
    "from plottable.plots import bar\n",
    "from plottable.cmap import normed_cmap, centered_cmap\n",
    "import optuna\n",
    "from matplotlib.colors import LinearSegmentedColormap\n",
    "import matplotlib.cm\n",
    "import matplotlib as mpl\n",
    "from statsmodels.stats.multitest import multipletests\n",
    "import re\n",
    "from itertools import chain\n",
    "from pathlib import Path\n",
    "import requests\n",
    "from matplotlib.ticker import MaxNLocator\n",
    "from regression_bias_corrector import LinearBiasCorrector\n",
    "from scipy.stats import mannwhitneyu, variation, levene\n",
    "from copy import deepcopy\n",
    "\n",
    "\n",
    "def make_rgb_transparent(rgb, bg_rgb, alpha):\n",
    "    return [alpha * c1 + (1 - alpha) * c2 for (c1, c2) in zip(rgb, bg_rgb)]\n",
    "\n",
    "def form_bar(base):\n",
    "    def formatter(x):\n",
    "        return f'{str(int(round(x * base)))}/{base}'\n",
    "    return formatter\n"
   ]
  },
  {
   "cell_type": "markdown",
   "metadata": {
    "collapsed": false
   },
   "source": [
    "# Load data"
   ]
  },
  {
   "cell_type": "code",
   "execution_count": 15,
   "metadata": {},
   "outputs": [
    {
     "name": "stderr",
     "output_type": "stream",
     "text": [
      "c:\\Users\\user\\anaconda3\\envs\\py311\\Lib\\site-packages\\statannotations\\Annotator.py:825: UserWarning: Annotator was reconfigured without applying the test (again) which will probably lead to unexpected results\n",
      "  warnings.warn(\"Annotator was reconfigured without applying the \"\n"
     ]
    }
   ],
   "source": [
    "path = f\"E:/YandexDisk/Work/bbd/mriya/08_AIJ_2025\"\n",
    "\n",
    "df = pd.read_excel(f\"{path}/Результат.xlsx\", index_col=0)\n",
    "\n",
    "colors = {\n",
    "    'Низкий': 'chartreuse',\n",
    "    'Высокий': 'crimson'\n",
    "}\n",
    "\n",
    "\n",
    "fig, axs = plt.subplot_mosaic(\n",
    "    [\n",
    "        ['11', '12'],\n",
    "    ],\n",
    "    figsize=(6.6, 4),\n",
    "    # height_ratios=[4],\n",
    "    width_ratios=[3, 1.2],\n",
    "    gridspec_kw={\n",
    "        # \"bottom\": 0.14,\n",
    "        # \"top\": 0.95,\n",
    "        \"wspace\": 0.3,\n",
    "        #\"hspace\": 0.5,\n",
    "    },\n",
    ")\n",
    "\n",
    "\n",
    "xy_min = df[['Age', 'Биологический возраст']].min().min()\n",
    "xy_max = df[['Age', 'Биологический возраст']].max().max()\n",
    "xy_ptp = xy_max - xy_min\n",
    "bisect = sns.lineplot(\n",
    "    x=[xy_min - 0.1 * xy_ptp, xy_max + 0.1 * xy_ptp],\n",
    "    y=[xy_min - 0.1 * xy_ptp, xy_max + 0.1 * xy_ptp],\n",
    "    linestyle='--',\n",
    "    color='black',\n",
    "    linewidth=1.0,\n",
    "    ax=axs['11']\n",
    ")\n",
    "scatter = sns.scatterplot(\n",
    "    data=df,\n",
    "    x='Age',\n",
    "    y='Биологический возраст',\n",
    "    hue='Риск ССЗ',\n",
    "    palette=colors,\n",
    "    linewidth=0.5,\n",
    "    alpha=0.75,\n",
    "    edgecolor=\"k\",\n",
    "    s=20,\n",
    "    hue_order=list(colors.keys()),\n",
    "    legend=True,\n",
    "    ax=axs['11'],\n",
    ")\n",
    "axs['11'].set_xlim(xy_min - 0.1 * xy_ptp, xy_max + 0.1 * xy_ptp)\n",
    "axs['11'].set_ylim(xy_min - 0.1 * xy_ptp, xy_max + 0.1 * xy_ptp)\n",
    "axs['11'].set_xlabel('Хронологический возраст')\n",
    "\n",
    "sns.violinplot(\n",
    "    data=df,\n",
    "    x='Риск ССЗ',\n",
    "    y=f\"Возрастная акселерация\",\n",
    "    hue='Риск ССЗ',\n",
    "    palette=colors,\n",
    "    density_norm='width',\n",
    "    order=['Низкий', 'Высокий'],\n",
    "    saturation=0.75,\n",
    "    linewidth=1.0,\n",
    "    ax=axs['12'],\n",
    "    legend=False,\n",
    "    cut=0,\n",
    ")\n",
    "\n",
    "_, mw_pval = mannwhitneyu(df.loc[df['Риск ССЗ'] == 'Низкий', \"Возрастная акселерация\"].values, df.loc[df['Риск ССЗ'] == 'Высокий', \"Возрастная акселерация\"].values, alternative='two-sided')\n",
    "pval_formatted = [f'{mw_pval:.2e}']\n",
    "annotator = Annotator(\n",
    "    axs['12'],\n",
    "    pairs=[('Низкий', 'Высокий')],\n",
    "    data=df,\n",
    "    x='Риск ССЗ',\n",
    "    y='Возрастная акселерация',\n",
    "    order=['Низкий', 'Высокий'],\n",
    ")\n",
    "annotator.set_custom_annotations(pval_formatted)\n",
    "annotator.configure(loc='inside', verbose=0)\n",
    "annotator.annotate()\n",
    "\n",
    "fig.savefig(f\"{path}/fig2.png\", bbox_inches='tight', dpi=200)\n",
    "fig.savefig(f\"{path}/fig2.pdf\", bbox_inches='tight')\n",
    "plt.close(fig)"
   ]
  }
 ],
 "metadata": {
  "kernelspec": {
   "display_name": "py311",
   "language": "python",
   "name": "python3"
  },
  "language_info": {
   "codemirror_mode": {
    "name": "ipython",
    "version": 3
   },
   "file_extension": ".py",
   "mimetype": "text/x-python",
   "name": "python",
   "nbconvert_exporter": "python",
   "pygments_lexer": "ipython3",
   "version": "3.11.11"
  }
 },
 "nbformat": 4,
 "nbformat_minor": 0
}
